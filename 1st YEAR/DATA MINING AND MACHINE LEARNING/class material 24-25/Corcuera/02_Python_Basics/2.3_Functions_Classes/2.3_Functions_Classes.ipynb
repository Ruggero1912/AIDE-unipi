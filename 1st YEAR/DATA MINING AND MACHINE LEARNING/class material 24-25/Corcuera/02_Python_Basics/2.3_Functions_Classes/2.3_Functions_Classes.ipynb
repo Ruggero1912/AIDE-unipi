{
 "cells": [
  {
   "cell_type": "markdown",
   "metadata": {},
   "source": [
    "# Table of Contents:\n",
    "- [Functions: reusable portions of programs](#Functions:-reusable-portions-of-programs)\n",
    "    - [Definition](#Definition)\n",
    "    - [Namespaces](#Namespaces)\n",
    "    - [Lambda functions](#Lambda-functions)\n",
    "    - [Generator functions](#Generator-functions)\n",
    "- [A first look at Classes](#A-first-look-at-Classes)\n",
    "    - [Definitions](#Definitions)\n",
    "    - [Inheritance](#Inheritance)\n"
   ]
  },
  {
   "cell_type": "markdown",
   "metadata": {
    "id": "T9Wugj4sPY0-"
   },
   "source": [
    "# Functions: reusable portions of programs\n"
   ]
  },
  {
   "cell_type": "markdown",
   "metadata": {},
   "source": [
    "* Functions are one of the main ways of transforming data (in many programming languages)\n",
    "* We've been using functions (and their cousin, methods) since day 1!"
   ]
  },
  {
   "cell_type": "code",
   "execution_count": null,
   "metadata": {},
   "outputs": [],
   "source": [
    "abs(-5)"
   ]
  },
  {
   "cell_type": "code",
   "execution_count": null,
   "metadata": {},
   "outputs": [],
   "source": [
    "print(\"Hello, world!\")"
   ]
  },
  {
   "cell_type": "code",
   "execution_count": null,
   "metadata": {},
   "outputs": [],
   "source": [
    "sorted([3, 2, 1])"
   ]
  },
  {
   "cell_type": "markdown",
   "metadata": {},
   "source": [
    "These, however, are built-in functions. What if we want to write our own functions?"
   ]
  },
  {
   "cell_type": "markdown",
   "metadata": {
    "id": "oEcBMLFqQxoM"
   },
   "source": [
    "## Definition\n",
    "- **def**  keyword followed by the **function name**, the function **parameteres** in brackets and separated by a comma, and a colon `:`.\n",
    "- a block of indented statements that implements the function **body**\n",
    "- possibly, an indented **return statement**\n",
    "\n",
    "The function syntax is:\n",
    "\n",
    "\n",
    "```python\n",
    "def function_name(arguments):\n",
    "    function body\n",
    "    return value\n",
    "```\n",
    "\n",
    "\n",
    "\n"
   ]
  },
  {
   "cell_type": "code",
   "execution_count": null,
   "metadata": {},
   "outputs": [],
   "source": [
    "def printtimes(word, times):\n",
    "    for x in range(times):\n",
    "        print(word) # function body"
   ]
  },
  {
   "cell_type": "code",
   "execution_count": null,
   "metadata": {},
   "outputs": [],
   "source": [
    "printtimes('ciao', 3)"
   ]
  },
  {
   "cell_type": "code",
   "execution_count": null,
   "metadata": {},
   "outputs": [],
   "source": [
    "printtimes('hello', 10)"
   ]
  },
  {
   "cell_type": "code",
   "execution_count": null,
   "metadata": {},
   "outputs": [],
   "source": [
    "printtimes?"
   ]
  },
  {
   "cell_type": "code",
   "execution_count": null,
   "metadata": {},
   "outputs": [],
   "source": [
    "help(printtimes)"
   ]
  },
  {
   "cell_type": "markdown",
   "metadata": {},
   "source": [
    "Optionally, but highly recommended, we can define a so called **\"docstring\"**, which is a description of the functions purpose and behaivor. The docstring should follow directly after the function definition, before the code in the function body."
   ]
  },
  {
   "cell_type": "code",
   "execution_count": null,
   "metadata": {
    "colab": {
     "base_uri": "https://localhost:8080/"
    },
    "id": "zxNeWsDSU9MX",
    "outputId": "1fa5d509-42ab-4be3-f60b-6a5eacfc826c"
   },
   "outputs": [],
   "source": [
    "def print_times(word, times):\n",
    "    '''A function to print a word several times\n",
    "  \n",
    "    Args:\n",
    "        word: the word\n",
    "        times: how many repetitions'''\n",
    "  \n",
    "    for x in range(times):\n",
    "        print(word) # function body\n",
    "\n",
    "printtimes('ciao', 3)\n"
   ]
  },
  {
   "cell_type": "code",
   "execution_count": null,
   "metadata": {
    "colab": {
     "base_uri": "https://localhost:8080/"
    },
    "id": "_XQUyOoR7jsC",
    "outputId": "4c6d0701-9dc4-4f4c-a355-1a0bfb7638f4"
   },
   "outputs": [],
   "source": [
    "# python docstring\n",
    "help(print_times)"
   ]
  },
  {
   "cell_type": "code",
   "execution_count": null,
   "metadata": {},
   "outputs": [],
   "source": [
    "print_times?"
   ]
  },
  {
   "cell_type": "markdown",
   "metadata": {},
   "source": [
    "Python will complain if the number of arguments is wrong"
   ]
  },
  {
   "cell_type": "code",
   "execution_count": null,
   "metadata": {},
   "outputs": [],
   "source": [
    "# print_times('hello') # raises TypeError"
   ]
  },
  {
   "cell_type": "markdown",
   "metadata": {},
   "source": [
    "- **Parameters** are defined by the names that appear in a function definition.\n",
    "- **Arguments** are the values actually passed to a function when calling it. \n",
    "\n",
    "Parameters define what kind of arguments a function can accept. \n",
    "\n",
    "```python\n",
    "def func(foo, bar = None):\n",
    "    pass\n",
    "```\n",
    "- `foo` and `bar` are **parameters** of `func`.\n",
    "\n",
    "\n",
    "```python\n",
    "func(42, bar = 314, extra = somevar)\n",
    "```\n",
    "- the values 42 and 314 are **arguments**."
   ]
  },
  {
   "cell_type": "markdown",
   "metadata": {
    "id": "9qtIY5tSVhai"
   },
   "source": [
    "### Default values"
   ]
  },
  {
   "cell_type": "code",
   "execution_count": null,
   "metadata": {
    "colab": {
     "base_uri": "https://localhost:8080/"
    },
    "id": "99_NAODYVaCu",
    "outputId": "d58d315e-90c4-42a4-9cfe-d5e2b20b6dfd"
   },
   "outputs": [],
   "source": [
    "def another_print_times(word, times = 4):\n",
    "    for x in range(times):\n",
    "        print(word) # function body\n",
    "        \n",
    "anotherprinttimes('ciao')"
   ]
  },
  {
   "cell_type": "markdown",
   "metadata": {},
   "source": [
    "Default arguments **must follow** positional arguments in function definition"
   ]
  },
  {
   "cell_type": "code",
   "execution_count": null,
   "metadata": {},
   "outputs": [],
   "source": [
    "def another_print_times(word = \"ciao\", times): # raise SyntaxError\n",
    "    for x in range(times):\n",
    "        print(word) # function body"
   ]
  },
  {
   "cell_type": "markdown",
   "metadata": {},
   "source": [
    "If we explicitly list the name of the arguments in the function calls, they do not need to come in the same order as in the function definition. This is called **keyword arguments**, and is often very useful in functions that takes a lot of optional arguments."
   ]
  },
  {
   "cell_type": "code",
   "execution_count": null,
   "metadata": {},
   "outputs": [],
   "source": [
    "# no need to follow argument order with explicit definition\n",
    "another_print_times(times = 3, word = 'ciao')"
   ]
  },
  {
   "cell_type": "markdown",
   "metadata": {
    "id": "KFa-9kJyVlu7"
   },
   "source": [
    "### Returned Values"
   ]
  },
  {
   "cell_type": "code",
   "execution_count": null,
   "metadata": {
    "colab": {
     "base_uri": "https://localhost:8080/"
    },
    "id": "z_wBezcWVuYP",
    "outputId": "8aefd187-f34e-4f83-9f16-3f05373870bd"
   },
   "outputs": [],
   "source": [
    "def my_max(x, y):\n",
    "    if x > y:\n",
    "        return x\n",
    "    return y\n",
    "\n",
    "my_max(3, 4)"
   ]
  },
  {
   "cell_type": "markdown",
   "metadata": {},
   "source": [
    "- Strictly speaking, a function can only return one value\n",
    "- If the value is a tuple, the effect is the same as returning multiple values. "
   ]
  },
  {
   "cell_type": "code",
   "execution_count": null,
   "metadata": {},
   "outputs": [],
   "source": [
    "def powers(x):\n",
    "    \"\"\"\n",
    "    Return a few powers of x.\n",
    "    \"\"\"\n",
    "    return x ** 2, x ** 3, x ** 4"
   ]
  },
  {
   "cell_type": "code",
   "execution_count": null,
   "metadata": {},
   "outputs": [],
   "source": [
    "tup = powers(3)\n",
    "print(tup)"
   ]
  },
  {
   "cell_type": "code",
   "execution_count": null,
   "metadata": {},
   "outputs": [],
   "source": [
    "x2, x3, x4 = powers(3)\n",
    "print(x2, '---', x3, '---', x4)"
   ]
  },
  {
   "cell_type": "markdown",
   "metadata": {},
   "source": [
    "## Namespaces"
   ]
  },
  {
   "cell_type": "markdown",
   "metadata": {},
   "source": [
    "In Python, every handled entity is either an object or a name or a namespace\n",
    "\n",
    "- **Objects**:\n",
    "    - Store data or functionality\n",
    "    - Data, modules, functions, classes, methods are objects\n",
    "- **Names**:\n",
    "    - Used to refer objects\n",
    "    - Multiple names can refer the same object\n",
    "    - A non-referred object cannot be used and will be garbage-collected\n",
    "- **Namespaces**:\n",
    "    - Entities aimed at collecting names, i.e. mapping from names to objects\n"
   ]
  },
  {
   "cell_type": "markdown",
   "metadata": {},
   "source": [
    "**Functions create temporary namespaces**\n",
    "- Variables **defined** in the body of a function are separate from those outside the function. They exist in a separate \"namespace\" belonging to the function\n",
    "- Functions can access variables defined in the main body of our code, e.g. constants\n",
    "- At a function call, each parameter becomes a local variable in the execution context, bound to the argument passed\n",
    "- This is different from other code blocks, e.g. the `for` loop\n",
    "\n",
    "Read the [docs](https://docs.python.org/3/tutorial/classes.html#python-scopes-and-namespaces):\n",
    "- A *namespace* is a mapping from names to objects.\n",
    "- A *scope* is a textual region of a Python program where a namespace is directly accessible."
   ]
  },
  {
   "cell_type": "code",
   "execution_count": null,
   "metadata": {},
   "outputs": [],
   "source": [
    "def add(a, b):\n",
    "    special_answer = a + b\n",
    "    return special_answer"
   ]
  },
  {
   "cell_type": "code",
   "execution_count": null,
   "metadata": {
    "scrolled": true
   },
   "outputs": [],
   "source": [
    "add(1, 2)"
   ]
  },
  {
   "cell_type": "code",
   "execution_count": null,
   "metadata": {
    "scrolled": true
   },
   "outputs": [],
   "source": [
    "print(special_answer) # raises NameError"
   ]
  },
  {
   "cell_type": "code",
   "execution_count": null,
   "metadata": {},
   "outputs": [],
   "source": [
    "answer = 5\n",
    "def add(a, b):\n",
    "    answer = a + b\n",
    "    return answer\n",
    "\n",
    "print('returned value:', add(4, 6))\n",
    "print('\"answer\" value:', answer)"
   ]
  },
  {
   "cell_type": "code",
   "execution_count": null,
   "metadata": {},
   "outputs": [],
   "source": [
    "for x in range(10):\n",
    "    for_special_answer = x * 10\n",
    "print(for_special_answer)"
   ]
  },
  {
   "cell_type": "markdown",
   "metadata": {},
   "source": [
    "- Functions can access variables defined in the main body of our code, e.g. constants\n"
   ]
  },
  {
   "cell_type": "code",
   "execution_count": null,
   "metadata": {},
   "outputs": [],
   "source": [
    "pi = 3.1416\n",
    "def circumference(r):\n",
    "    answer = 2 * pi * r\n",
    "    return answer"
   ]
  },
  {
   "cell_type": "code",
   "execution_count": null,
   "metadata": {},
   "outputs": [],
   "source": [
    "circumference(5)"
   ]
  },
  {
   "cell_type": "markdown",
   "metadata": {},
   "source": [
    "## Lambda functions"
   ]
  },
  {
   "cell_type": "markdown",
   "metadata": {},
   "source": [
    "In Python we can also create **unnamed functions**, using the lambda keyword:"
   ]
  },
  {
   "cell_type": "code",
   "execution_count": null,
   "metadata": {},
   "outputs": [],
   "source": [
    "f1 = lambda x: x ** 2\n",
    "    \n",
    "# is equivalent to \n",
    "\n",
    "def f2(x):\n",
    "    return x ** 2"
   ]
  },
  {
   "cell_type": "code",
   "execution_count": null,
   "metadata": {},
   "outputs": [],
   "source": [
    "f1(2), f2(2)"
   ]
  },
  {
   "cell_type": "markdown",
   "metadata": {},
   "source": [
    "This technique is useful for example when we want to pass a simple function as an argument to another function, like this:"
   ]
  },
  {
   "cell_type": "code",
   "execution_count": null,
   "metadata": {},
   "outputs": [],
   "source": [
    "map?"
   ]
  },
  {
   "cell_type": "code",
   "execution_count": null,
   "metadata": {},
   "outputs": [],
   "source": [
    "# map is a built-in python function\n",
    "list(map(lambda x: x ** 2, range(-3, 4)))"
   ]
  },
  {
   "cell_type": "code",
   "execution_count": null,
   "metadata": {},
   "outputs": [],
   "source": [
    "list(map(f2, range(-3, 4)))"
   ]
  },
  {
   "cell_type": "code",
   "execution_count": null,
   "metadata": {},
   "outputs": [],
   "source": [
    "list.sort?"
   ]
  },
  {
   "cell_type": "code",
   "execution_count": null,
   "metadata": {},
   "outputs": [],
   "source": [
    "a = [(2, 'y'), (1, 'z'), (3, 'x'), (3, 'w')]\n",
    "\n",
    "a.sort(key = lambda pair: pair[0])\n",
    "print(a)\n",
    "\n",
    "a.sort(key = lambda pair: pair[1])\n",
    "print(a)"
   ]
  },
  {
   "cell_type": "markdown",
   "metadata": {},
   "source": [
    "## Generator functions"
   ]
  },
  {
   "cell_type": "markdown",
   "metadata": {},
   "source": [
    "Usually, we use a **generator function** or **generator expression** when we want to create a **custom iterator**. A generator function is a function which returns a generator iterator. It looks like a normal function except that it contains `yield` expressions for producing a series of values usable in a `for` loop or that can be retrieved one at a time with the `next()` function."
   ]
  },
  {
   "cell_type": "code",
   "execution_count": null,
   "metadata": {},
   "outputs": [],
   "source": [
    "def generate_numbers(min_value, max_value):\n",
    "    while min_value < max_value:\n",
    "        yield min_value\n",
    "        min_value += 1\n",
    "\n",
    "numbers = generate_numbers(10, 20)\n",
    "print(type(numbers))\n",
    "\n",
    "print(next(numbers))\n",
    "print(next(numbers))\n",
    "print(next(numbers))"
   ]
  },
  {
   "cell_type": "markdown",
   "metadata": {},
   "source": [
    "Each `yield` temporarily suspends processing, remembering the location execution state (including local variables and pending try-statements). When the generator iterator resumes, it picks up where it left off (in contrast to functions which start fresh on every invocation)."
   ]
  },
  {
   "cell_type": "markdown",
   "metadata": {},
   "source": [
    "## Aside: Data passed by *assignment*\n",
    "Read the [docs](https://docs.python.org/3/faq/programming.html#how-do-i-write-a-function-with-output-parameters-call-by-reference)\n",
    "\n"
   ]
  },
  {
   "cell_type": "markdown",
   "metadata": {},
   "source": [
    "- If a **mutable object** is passed to a function, the function gets a reference to the same object. As a consequence, the original object may be mutated (may result in unexpected behaviour, if not properly documented).\n",
    "- If you pass an immutable object to a function, of course, you can't mutate the object."
   ]
  },
  {
   "cell_type": "markdown",
   "metadata": {},
   "source": [
    "### Mutable objects"
   ]
  },
  {
   "cell_type": "code",
   "execution_count": null,
   "metadata": {},
   "outputs": [],
   "source": [
    "def func_mutating(the_list):\n",
    "    print(f'inside \"func_mutating\" - input: {the_list}')\n",
    "    the_list.append(4) # lists are mutable, and \"append\" operates in-place\n",
    "    print(f'inside \"func_mutating\" - after \"append\": {the_list}')"
   ]
  },
  {
   "cell_type": "code",
   "execution_count": null,
   "metadata": {},
   "outputs": [],
   "source": [
    "my_list = [1, 2, 3]\n",
    "\n",
    "print(f'before \"func_mutating\", my_list = {my_list}')\n",
    "func_mutating(my_list)\n",
    "print(f'after \"func_mutating\", my_list = {my_list}')"
   ]
  },
  {
   "cell_type": "markdown",
   "metadata": {},
   "source": [
    "We are passing the reference to `my_list`, not a copy of it. Indeed we can mutate the original list and have the changes reflected in the outer scope."
   ]
  },
  {
   "cell_type": "markdown",
   "metadata": {},
   "source": [
    "### Immutable objects"
   ]
  },
  {
   "cell_type": "code",
   "execution_count": null,
   "metadata": {},
   "outputs": [],
   "source": [
    "def func_immutable(the_string):\n",
    "    print(f'inside \"func\" - input: {the_string}')\n",
    "    the_string += 'xyz'\n",
    "    print(f'inside \"func\" - after referencing: {the_string}')"
   ]
  },
  {
   "cell_type": "code",
   "execution_count": null,
   "metadata": {},
   "outputs": [],
   "source": [
    "my_string = 'abc'\n",
    "\n",
    "print(f'before, my_string: {my_string}')\n",
    "func_immutable(my_string)\n",
    "print(f'after, my_string: {my_string}')"
   ]
  },
  {
   "cell_type": "markdown",
   "metadata": {},
   "source": [
    "# A first look at Classes\n",
    "- from [python docs](https://docs.python.org/3/tutorial/classes.html)\n"
   ]
  },
  {
   "cell_type": "markdown",
   "metadata": {},
   "source": [
    "\n",
    "## Definitions\n",
    "\n",
    "Classes are the key features of object-oriented programming. A class is a structure for representing an object and the operations that can be performed on the object.\n",
    "\n",
    "What is Object-Oriented Programming (OOP)?\n",
    "- A _style_ of programming that bundles data with related methods\n",
    "- These bundles are called _classes_ (or _types_)\n"
   ]
  },
  {
   "cell_type": "markdown",
   "metadata": {},
   "source": [
    "A class is defined using the `class` keyword, and the class definition usually contains a number of class method definitions.\n",
    "\n",
    "* Each instance method should have an argument `self` as its first argument. This object is a self-reference.\n",
    "\n",
    "* Some method names have special meaning, for example:\n",
    "    * `__init__`: The name of the method that is invoked when the object is first created. (In other languages this method is called *constructor*.\n",
    "    * `__str__`: A method that is invoked when a simple string representation of the class is needed, as for example when printed.\n",
    "\n"
   ]
  },
  {
   "cell_type": "markdown",
   "metadata": {},
   "source": [
    "The following *dog class* is just an example to get familiar with Object Oriented Programming and the notation using Python.\n"
   ]
  },
  {
   "cell_type": "code",
   "execution_count": null,
   "metadata": {},
   "outputs": [],
   "source": [
    "class Dog:\n",
    "    \"\"\"A simple example class\"\"\"\n",
    "  \n",
    "    def __init__(self, name = 'Bau'): # method for initializing a new instance\n",
    "        # self keyword refers to the newly initialized object\n",
    "        # data attributes\n",
    "        self.name = name    # instance attribute, unique to each instance \n",
    "        self.tricks = []    # creates a new empty list for each dog \n",
    " \n",
    "    def add_trick(self, trick): # a method\n",
    "        self.tricks.append(trick)\n",
    "\n",
    "    def __str__(self):\n",
    "        return(f\"A dog named {self.name}\")\n",
    "\n"
   ]
  },
  {
   "cell_type": "code",
   "execution_count": null,
   "metadata": {},
   "outputs": [],
   "source": [
    "c = Dog() # create new instance of the Dog class"
   ]
  },
  {
   "cell_type": "code",
   "execution_count": null,
   "metadata": {},
   "outputs": [],
   "source": [
    "print(c)"
   ]
  },
  {
   "cell_type": "code",
   "execution_count": null,
   "metadata": {},
   "outputs": [],
   "source": [
    "print(c.name)"
   ]
  },
  {
   "cell_type": "code",
   "execution_count": null,
   "metadata": {},
   "outputs": [],
   "source": [
    "c.add_trick('just bark') # invoke a method in the class instance `c`:"
   ]
  },
  {
   "cell_type": "code",
   "execution_count": null,
   "metadata": {},
   "outputs": [],
   "source": [
    "print(c.tricks)"
   ]
  },
  {
   "cell_type": "code",
   "execution_count": null,
   "metadata": {},
   "outputs": [],
   "source": [
    "d = Dog('Fido') # create new instance of the Dog class\n",
    "d.add_trick('bark')\n",
    "d.add_trick('roll over')\n",
    "print(d.tricks)"
   ]
  },
  {
   "cell_type": "code",
   "execution_count": null,
   "metadata": {},
   "outputs": [],
   "source": [
    "# the type( ) function tells us what type the given data belongs to\n",
    "type(c)"
   ]
  },
  {
   "cell_type": "code",
   "execution_count": null,
   "metadata": {},
   "outputs": [],
   "source": [
    "isinstance(c, Dog) # Return True if the first argument is an instance of the second argument"
   ]
  },
  {
   "cell_type": "code",
   "execution_count": null,
   "metadata": {
    "scrolled": true
   },
   "outputs": [],
   "source": [
    "isinstance('ciao', str) # "
   ]
  },
  {
   "cell_type": "markdown",
   "metadata": {},
   "source": [
    "## Inheritance\n",
    "\n",
    "Python classes support **inheritance**. \n",
    "\n",
    "- Classes are organized hierarchically as superclasses and subclasses\n",
    "  - This allows us to define progressively more specific versions of objects\n",
    "  - _Thing > Animal > Mammal > Cow_\n",
    "  - _Thing > Animal > Mammal > Cat_\n",
    "\n",
    "- Classes inherit the attributes and abilities of their parent classes (_inheritance_)\n",
    "  - `Mammal` has a method `produce_milk`\n",
    "  - Hence `Cow.produce_milk( )` works\n",
    "  - Hence `Cat.produce_milk( )` works\n",
    "- Different classes of object can respond to the same request in different ways\n",
    "  - Referred to as _polymorphism_\n",
    "  - `Cow.speak( )` returns \"moo\"\n",
    "  - `Cat.speak( )` returns \"meow\"\n",
    "\n"
   ]
  },
  {
   "cell_type": "markdown",
   "metadata": {},
   "source": [
    "The syntax for a derived class definition looks like this:\n"
   ]
  },
  {
   "cell_type": "code",
   "execution_count": null,
   "metadata": {},
   "outputs": [],
   "source": [
    "class Schnauzer(Dog):\n",
    "    pass\n",
    "\n",
    "f = Schnauzer('Allie')\n",
    "f.tricks, f.name"
   ]
  },
  {
   "cell_type": "code",
   "execution_count": null,
   "metadata": {},
   "outputs": [],
   "source": [
    "isinstance(f, Dog)"
   ]
  },
  {
   "cell_type": "markdown",
   "metadata": {},
   "source": [
    "- `class Schnauzer(Dog)` says that `Schnauzer` is a type of `Dog`\n",
    "- By default, `Schnauzer` inherits all the methods and attributes of `Dog`"
   ]
  },
  {
   "cell_type": "code",
   "execution_count": null,
   "metadata": {},
   "outputs": [],
   "source": [
    "class Schnauzer(Dog):\n",
    "    def __init__(self, name, moustache):\n",
    "        Dog.__init__(self, name)\n",
    "        self.moustache = moustache\n",
    "\n",
    "    def __str__(self):\n",
    "        return(f\"A Schnauzer named {self.name}\")\n",
    "    "
   ]
  },
  {
   "cell_type": "code",
   "execution_count": null,
   "metadata": {},
   "outputs": [],
   "source": [
    "f = Schnauzer('Allie', 12)\n",
    "print(f)\n",
    "f.moustache, f.tricks, f.name"
   ]
  },
  {
   "cell_type": "markdown",
   "metadata": {},
   "source": [
    "In this case:\n",
    "- We have used the Dog constructor to start the setup of the Schnauzer type of Dog\n",
    "- We have added a new attribute to the `__init__` method: `moustache`\n",
    "- We did not redefine `add_trick` method.\n",
    "- We did redefine `__str__` method."
   ]
  },
  {
   "cell_type": "markdown",
   "metadata": {},
   "source": [
    "### [Intermezzo: Coding Style](https://docs.python.org/3.11/tutorial/controlflow.html#intermezzo-coding-style)\n",
    "- [...]\n",
    "- Name your classes and functions consistently; the convention is to use `UpperCamelCase` for classes and `lowercase_with_underscores` for functions and methods. Always use `self` as the name for the first method argument."
   ]
  }
 ],
 "metadata": {
  "colab": {
   "collapsed_sections": [],
   "name": "02_Python_Basic.ipynb",
   "provenance": [],
   "toc_visible": true
  },
  "kernelspec": {
   "display_name": "Python 3 (ipykernel)",
   "language": "python",
   "name": "python3"
  },
  "language_info": {
   "codemirror_mode": {
    "name": "ipython",
    "version": 3
   },
   "file_extension": ".py",
   "mimetype": "text/x-python",
   "name": "python",
   "nbconvert_exporter": "python",
   "pygments_lexer": "ipython3",
   "version": "3.11.9"
  }
 },
 "nbformat": 4,
 "nbformat_minor": 4
}

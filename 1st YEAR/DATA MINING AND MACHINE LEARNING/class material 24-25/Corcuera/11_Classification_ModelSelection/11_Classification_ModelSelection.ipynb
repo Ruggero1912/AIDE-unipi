{
 "cells": [
  {
   "cell_type": "markdown",
   "metadata": {},
   "source": [
    "# Table of Contents \n",
    "\n",
    "- [Parameters and hyperparameters](#Parameters-and-Hyperparameters)\n",
    "- [Hyperparameters tuning](#Hyperparameters-tuning)\n",
    "- [Putting it all together: hyperparameters tuning and pipelines](#Putting-it-all-together:-hyperparameters-tuning-and-pipelines)\n",
    "- [Nested cross-validation](#Nested-cross-validation)\n"
   ]
  },
  {
   "cell_type": "markdown",
   "metadata": {},
   "source": [
    "Bibliography: \n",
    "- Bergstra, J. and Bengio, Y., *\"[Random search for hyper-parameter optimization](https://www.jmlr.org/papers/volume13/bergstra12a/bergstra12a.pdf)\"*, The Journal of Machine Learning Research (2012): 281-305 \n",
    "- Cawley, Gavin C., and Nicola LC Talbot. *\"[On over-fitting in model selection and subsequent selection bias in performance evaluation.](https://www.jmlr.org/papers/volume11/cawley10a/cawley10a.pdf)\"* The Journal of Machine Learning Research 11 (2010): 2079-2107.\n"
   ]
  },
  {
   "cell_type": "markdown",
   "metadata": {},
   "source": [
    "# Parameters and Hyperparameters"
   ]
  },
  {
   "cell_type": "markdown",
   "metadata": {},
   "source": [
    "- Most ML algorithms are based on some form of multi-level inference, where the model is defined by\n",
    "    - a set of model **parameters**\n",
    "    - a set of **hyper-parameters**\n",
    "- For example in *decision tree* learning methods \n",
    "    - the parameters include the attributes and splitting points considered in each internal node \n",
    "    - the hyper-parametes include, for instance, the splitting criterion, the maximum depth and the list goes on ..\n",
    "     \n"
   ]
  },
  {
   "cell_type": "markdown",
   "metadata": {},
   "source": [
    "In scikit-learn hyper-paramters are passed as arguments to the constructor of the estimator classes.\n",
    "```python\n",
    "class sklearn.tree.DecisionTreeClassifier(*, \n",
    "                                          criterion='gini', \n",
    "                                          splitter='best', \n",
    "                                          max_depth=None, \n",
    "                                          min_samples_split=2, \n",
    "                                          min_samples_leaf=1, \n",
    "                                          min_weight_fraction_leaf=0.0, \n",
    "                                          max_features=None, \n",
    "                                          random_state=None, \n",
    "                                          max_leaf_nodes=None, \n",
    "                                          min_impurity_decrease=0.0, \n",
    "                                          class_weight=None, \n",
    "                                          ccp_alpha=0.0, \n",
    "                                          monotonic_cst=None)\n",
    "```"
   ]
  },
  {
   "cell_type": "markdown",
   "metadata": {},
   "source": [
    "- This division into parameters and hyper-parameters is typically performed for **computational convenience**.\n",
    "- It makes sense to take advantage of this structure and fit the model iteratively using a pair of nested loops:\n",
    "    - the **hyper-parameters** adjusted to optimise a model selection criterion in the inner loop (model selection)\n",
    "    - the **parameters** set to optimise a training criterion in the outer loop (model fitting/training)"
   ]
  },
  {
   "cell_type": "markdown",
   "metadata": {},
   "source": [
    "# Hyperparameters tuning"
   ]
  },
  {
   "cell_type": "markdown",
   "metadata": {},
   "source": [
    "From the [sklearn documentation](https://scikit-learn.org/stable/modules/grid_search.html#tuning-the-hyper-parameters-of-an-estimator):\n",
    "\n",
    "\n",
    "- It is possible and recommended to search the hyper-parameter space for the best cross validation score.\\\n",
    "A **search** consists of:\n",
    "    - an estimator;\n",
    "    - a parameter space;\n",
    "    - a method for searching or sampling candidates;\n",
    "    - a cross-validation scheme; \n",
    "    - a score function.\n",
    "\n"
   ]
  },
  {
   "cell_type": "markdown",
   "metadata": {},
   "source": [
    "When we have just to tune a **small number of hyperparameters**, two viable approaches are **grid search** and **random search**. \n",
    "- For given values, **grid search** exhaustively considers all parameter combinations.\n",
    "- **Random search** can sample a given number of candidates from a parameter space with a specified distribution.\n",
    "\n",
    "\n",
    "Which one is better (i.e. more effective/efficient)? \n",
    "\n",
    "\n",
    "\n"
   ]
  },
  {
   "cell_type": "markdown",
   "metadata": {},
   "source": [
    "**Aside**\n",
    "\n",
    "The increasing attention gained by ML/DL has fostered the development of other, more sophisticated, algorithmic approaches for hyperparameter tuning, including [Bayesian optimization](https://distill.pub/2020/bayesian-optimization/) approaches and gradient based approaches."
   ]
  },
  {
   "cell_type": "code",
   "execution_count": 22,
   "metadata": {},
   "outputs": [],
   "source": [
    "from time import time\n",
    "import seaborn as sns     \n",
    "from matplotlib import pyplot as plt\n",
    "import numpy as np\n",
    "\n",
    "from sklearn.datasets import load_digits\n",
    "from sklearn.tree import DecisionTreeClassifier\n",
    "from sklearn.model_selection import StratifiedKFold, GridSearchCV, RandomizedSearchCV"
   ]
  },
  {
   "cell_type": "code",
   "execution_count": 23,
   "metadata": {},
   "outputs": [
    {
     "data": {
      "text/plain": [
       "(537, 537)"
      ]
     },
     "execution_count": 23,
     "metadata": {},
     "output_type": "execute_result"
    }
   ],
   "source": [
    "# get some data\n",
    "X, y = load_digits(return_X_y=True, n_class=3)\n",
    "len(X),len(y)"
   ]
  },
  {
   "cell_type": "code",
   "execution_count": 24,
   "metadata": {},
   "outputs": [
    {
     "data": {
      "image/png": "[encoded data removed]",
      "text/plain": [
       "<Figure size 400x300 with 2 Axes>"
      ]
     },
     "metadata": {},
     "output_type": "display_data"
    }
   ],
   "source": [
    "check_idx = 536\n",
    "plt.figure(figsize=(4,3))\n",
    "sns.heatmap(X[check_idx].reshape(8,8), cmap = 'gray', yticklabels=False, xticklabels=False)\n",
    "plt.title(f'idx = {check_idx} - Ground truth: {y[check_idx]}')\n",
    "plt.show()"
   ]
  },
  {
   "cell_type": "code",
   "execution_count": 25,
   "metadata": {},
   "outputs": [],
   "source": [
    "# Utility function to report best scores\n",
    "def report(results, n_top=10):\n",
    "    for i in range(1, n_top + 1):\n",
    "        candidates = np.flatnonzero(results[\"rank_test_score\"] == i)\n",
    "        for candidate in candidates:\n",
    "            print(f\"Model with rank: {i}\")\n",
    "            print(f\"Mean validation score: f{results['mean_test_score'][candidate]:.3f} (std: {results['std_test_score'][candidate]:.3f})\")\n",
    "            print(f\"Parameters: {results['params'][candidate]}\")\n",
    "            print(\"\")"
   ]
  },
  {
   "cell_type": "code",
   "execution_count": 26,
   "metadata": {},
   "outputs": [],
   "source": [
    "skf = StratifiedKFold(n_splits=10)"
   ]
  },
  {
   "cell_type": "code",
   "execution_count": 27,
   "metadata": {},
   "outputs": [],
   "source": [
    "clf = DecisionTreeClassifier(random_state = 42)"
   ]
  },
  {
   "cell_type": "markdown",
   "metadata": {},
   "source": [
    "A search consists of:\n",
    "- an estimator --> 👆✅ clf as instance of DecisionTreeClassifier \n",
    "- a cross-validation scheme --> 👆✅ skf as instance of StratifiedKFold cross-validation\n",
    "- a score function --> ✅ default for DT: accuracy score\n",
    "- a parameter space; --> 👇✅ defined below, two dimensions\n",
    "- a method for searching or sampling candidates --> 👇✅ we'll use both grid and random search\n",
    "\n",
    "The stage is set!"
   ]
  },
  {
   "cell_type": "code",
   "execution_count": 28,
   "metadata": {
    "scrolled": true
   },
   "outputs": [
    {
     "name": "stdout",
     "output_type": "stream",
     "text": [
      "RandomizedSearchCV took 0.26 seconds for 9 candidates parameter settings.\n",
      "\n",
      "Model with rank: 1\n",
      "Mean validation score: f0.940 (std: 0.050)\n",
      "Parameters: {'min_samples_split': 4, 'max_depth': 12}\n",
      "\n",
      "Model with rank: 1\n",
      "Mean validation score: f0.940 (std: 0.053)\n",
      "Parameters: {'min_samples_split': 8, 'max_depth': 13}\n",
      "\n",
      "Model with rank: 1\n",
      "Mean validation score: f0.940 (std: 0.053)\n",
      "Parameters: {'min_samples_split': 8, 'max_depth': 12}\n",
      "\n",
      "Model with rank: 1\n",
      "Mean validation score: f0.940 (std: 0.053)\n",
      "Parameters: {'min_samples_split': 6, 'max_depth': 14}\n",
      "\n",
      "Model with rank: 5\n",
      "Mean validation score: f0.933 (std: 0.060)\n",
      "Parameters: {'min_samples_split': 2, 'max_depth': 5}\n",
      "\n",
      "Model with rank: 5\n",
      "Mean validation score: f0.933 (std: 0.060)\n",
      "Parameters: {'min_samples_split': 4, 'max_depth': 6}\n",
      "\n",
      "Model with rank: 7\n",
      "Mean validation score: f0.929 (std: 0.059)\n",
      "Parameters: {'min_samples_split': 8, 'max_depth': 6}\n",
      "\n",
      "Model with rank: 8\n",
      "Mean validation score: f0.926 (std: 0.042)\n",
      "Parameters: {'min_samples_split': 4, 'max_depth': 3}\n",
      "\n",
      "Model with rank: 9\n",
      "Mean validation score: f0.907 (std: 0.062)\n",
      "Parameters: {'min_samples_split': 8, 'max_depth': 2}\n",
      "\n"
     ]
    }
   ],
   "source": [
    "# specify parameters and distributions to sample from\n",
    "param_dist = {\n",
    "    \"max_depth\": range(2,15),\n",
    "    \"min_samples_split\": range(2,10,2),\n",
    "}\n",
    "\n",
    "# run randomized search\n",
    "n_iter_search = 9\n",
    "random_search = RandomizedSearchCV(clf, \n",
    "                                   param_distributions=param_dist, \n",
    "                                   n_iter=n_iter_search, \n",
    "                                   random_state = 42,\n",
    "                                   cv=skf)\n",
    "\n",
    "# fit and report\n",
    "start = time()\n",
    "random_search.fit(X, y)\n",
    "print(f\"RandomizedSearchCV took {(time() - start):.2f} seconds for {n_iter_search} candidates parameter settings.\\n\")\n",
    "report(random_search.cv_results_)"
   ]
  },
  {
   "cell_type": "code",
   "execution_count": 29,
   "metadata": {},
   "outputs": [],
   "source": [
    "random_params = list(zip(random_search.cv_results_['param_max_depth'].data,\n",
    "                         random_search.cv_results_['param_min_samples_split'].data))"
   ]
  },
  {
   "cell_type": "code",
   "execution_count": 30,
   "metadata": {
    "scrolled": true
   },
   "outputs": [
    {
     "name": "stdout",
     "output_type": "stream",
     "text": [
      "GridSearchCV took 1.45 seconds for 52 candidates parameter settings.\n",
      "\n",
      "Model with rank: 1\n",
      "Mean validation score: f0.940 (std: 0.050)\n",
      "Parameters: {'max_depth': 10, 'min_samples_split': 4}\n",
      "\n",
      "Model with rank: 1\n",
      "Mean validation score: f0.940 (std: 0.053)\n",
      "Parameters: {'max_depth': 10, 'min_samples_split': 6}\n",
      "\n",
      "Model with rank: 1\n",
      "Mean validation score: f0.940 (std: 0.053)\n",
      "Parameters: {'max_depth': 10, 'min_samples_split': 8}\n",
      "\n",
      "Model with rank: 1\n",
      "Mean validation score: f0.940 (std: 0.050)\n",
      "Parameters: {'max_depth': 11, 'min_samples_split': 4}\n",
      "\n",
      "Model with rank: 1\n",
      "Mean validation score: f0.940 (std: 0.053)\n",
      "Parameters: {'max_depth': 11, 'min_samples_split': 6}\n",
      "\n",
      "Model with rank: 1\n",
      "Mean validation score: f0.940 (std: 0.053)\n",
      "Parameters: {'max_depth': 11, 'min_samples_split': 8}\n",
      "\n",
      "Model with rank: 1\n",
      "Mean validation score: f0.940 (std: 0.050)\n",
      "Parameters: {'max_depth': 12, 'min_samples_split': 4}\n",
      "\n",
      "Model with rank: 1\n",
      "Mean validation score: f0.940 (std: 0.053)\n",
      "Parameters: {'max_depth': 12, 'min_samples_split': 6}\n",
      "\n",
      "Model with rank: 1\n",
      "Mean validation score: f0.940 (std: 0.053)\n",
      "Parameters: {'max_depth': 12, 'min_samples_split': 8}\n",
      "\n",
      "Model with rank: 1\n",
      "Mean validation score: f0.940 (std: 0.050)\n",
      "Parameters: {'max_depth': 13, 'min_samples_split': 4}\n",
      "\n",
      "Model with rank: 1\n",
      "Mean validation score: f0.940 (std: 0.053)\n",
      "Parameters: {'max_depth': 13, 'min_samples_split': 6}\n",
      "\n",
      "Model with rank: 1\n",
      "Mean validation score: f0.940 (std: 0.053)\n",
      "Parameters: {'max_depth': 13, 'min_samples_split': 8}\n",
      "\n",
      "Model with rank: 1\n",
      "Mean validation score: f0.940 (std: 0.050)\n",
      "Parameters: {'max_depth': 14, 'min_samples_split': 4}\n",
      "\n",
      "Model with rank: 1\n",
      "Mean validation score: f0.940 (std: 0.053)\n",
      "Parameters: {'max_depth': 14, 'min_samples_split': 6}\n",
      "\n",
      "Model with rank: 1\n",
      "Mean validation score: f0.940 (std: 0.053)\n",
      "Parameters: {'max_depth': 14, 'min_samples_split': 8}\n",
      "\n"
     ]
    }
   ],
   "source": [
    "# use a full grid over all parameters\n",
    "param_grid = {\n",
    "    \"max_depth\": range(2,15),\n",
    "    \"min_samples_split\": range(2,10,2),\n",
    "}\n",
    "\n",
    "# run grid search\n",
    "grid_search = GridSearchCV(clf, \n",
    "                           param_grid=param_grid,\n",
    "                           cv=skf)\n",
    "\n",
    "# fit and report\n",
    "start = time()\n",
    "grid_search.fit(X, y)\n",
    "print(f\"GridSearchCV took {(time() - start):.2f} seconds for {len(grid_search.cv_results_['params'])} candidates parameter settings.\\n\")\n",
    "report(grid_search.cv_results_)"
   ]
  },
  {
   "cell_type": "code",
   "execution_count": 31,
   "metadata": {
    "scrolled": true
   },
   "outputs": [
    {
     "data": {
      "text/plain": [
       "{'mean_fit_time': array([0.00152202, 0.00156617, 0.00154433, 0.00142574, 0.00188181,\n",
       "        0.00179746, 0.00194569, 0.00191612, 0.00215111, 0.00228269,\n",
       "        0.00212593, 0.00210776, 0.00224216, 0.00204134, 0.00209646,\n",
       "        0.0021723 , 0.00211494, 0.00214858, 0.00264287, 0.00208247,\n",
       "        0.00228879, 0.00224991, 0.00223219, 0.00222549, 0.00243552,\n",
       "        0.00224426, 0.00230293, 0.00230691, 0.00237107, 0.0023581 ,\n",
       "        0.00237095, 0.0025733 , 0.00255687, 0.00253291, 0.00248241,\n",
       "        0.00246162, 0.00249228, 0.00240099, 0.00234838, 0.00238721,\n",
       "        0.00244532, 0.00232146, 0.00234263, 0.00224428, 0.00235152,\n",
       "        0.00229077, 0.00234497, 0.00237138, 0.00237801, 0.00233204,\n",
       "        0.00222821, 0.00225766]),\n",
       " 'std_fit_time': array([1.05946832e-04, 9.35300011e-05, 8.43116463e-05, 5.54284997e-05,\n",
       "        1.21419326e-04, 1.38933871e-04, 2.17707596e-04, 1.57232951e-04,\n",
       "        2.09715676e-04, 3.59971111e-04, 1.60693868e-04, 2.56768778e-04,\n",
       "        3.64377713e-04, 1.69204643e-04, 2.76868215e-04, 3.15208875e-04,\n",
       "        1.31116825e-04, 2.03047760e-04, 1.20223010e-03, 1.15092442e-04,\n",
       "        1.76334628e-04, 2.02447273e-04, 1.43623212e-04, 1.32241448e-04,\n",
       "        2.90350626e-04, 1.14236313e-04, 1.62208052e-04, 2.46874822e-04,\n",
       "        2.48562409e-04, 2.23194536e-04, 2.08633265e-04, 3.18148271e-04,\n",
       "        3.10407623e-04, 2.60644656e-04, 1.43924195e-04, 1.30252580e-04,\n",
       "        2.18564105e-04, 2.84069474e-04, 2.72761000e-04, 1.83788439e-04,\n",
       "        4.27867449e-04, 2.05822893e-04, 2.52945462e-04, 1.10605347e-04,\n",
       "        1.84602504e-04, 1.80869865e-04, 2.35056519e-04, 1.93577095e-04,\n",
       "        1.95249778e-04, 2.79428915e-04, 1.09109511e-04, 1.22567513e-04]),\n",
       " 'mean_score_time': array([0.00046   , 0.00045421, 0.00045681, 0.00038879, 0.00040951,\n",
       "        0.00040314, 0.00043285, 0.00041232, 0.00044143, 0.00046835,\n",
       "        0.00043135, 0.00042322, 0.00040963, 0.00037363, 0.00036962,\n",
       "        0.00035977, 0.00035651, 0.00037403, 0.00055721, 0.00033979,\n",
       "        0.00035276, 0.00035729, 0.00035028, 0.00035877, 0.00036533,\n",
       "        0.00035052, 0.00035131, 0.00036757, 0.00036278, 0.00035312,\n",
       "        0.00037155, 0.00043006, 0.00040231, 0.00039804, 0.00040317,\n",
       "        0.00040972, 0.00038426, 0.00036714, 0.00037072, 0.00038133,\n",
       "        0.00037115, 0.00035822, 0.00037661, 0.00034332, 0.00035896,\n",
       "        0.00036225, 0.00039556, 0.00036719, 0.00036087, 0.00038931,\n",
       "        0.00035644, 0.00037439]),\n",
       " 'std_score_time': array([9.74694226e-05, 7.82787743e-05, 8.38289353e-05, 5.02453849e-05,\n",
       "        2.93681370e-05, 2.20625318e-05, 1.11183572e-04, 6.34697126e-05,\n",
       "        7.02720511e-05, 1.39219556e-04, 5.82529144e-05, 8.67527502e-05,\n",
       "        1.05585759e-04, 7.97195900e-05, 2.75734050e-05, 3.24771265e-05,\n",
       "        1.95828754e-05, 7.09745961e-05, 3.59850437e-04, 4.54723675e-06,\n",
       "        1.97959795e-05, 2.18569379e-05, 1.75388589e-05, 1.84347984e-05,\n",
       "        2.95579524e-05, 1.22310358e-05, 1.65539601e-05, 3.12708576e-05,\n",
       "        2.32396851e-05, 1.99288413e-05, 3.08261854e-05, 9.28248866e-05,\n",
       "        3.45154354e-05, 4.62587651e-05, 4.98627821e-05, 7.95939100e-05,\n",
       "        2.95904352e-05, 2.95939696e-05, 3.84175791e-05, 3.00729292e-05,\n",
       "        2.78160107e-05, 2.05931417e-05, 7.18642165e-05, 3.55715406e-06,\n",
       "        1.40655646e-05, 2.20196564e-05, 8.54426094e-05, 2.46494027e-05,\n",
       "        2.75154460e-05, 9.15967722e-05, 1.87512840e-05, 6.87518368e-05]),\n",
       " 'param_max_depth': masked_array(data=[2, 2, 2, 2, 3, 3, 3, 3, 4, 4, 4, 4, 5, 5, 5, 5, 6, 6,\n",
       "                    6, 6, 7, 7, 7, 7, 8, 8, 8, 8, 9, 9, 9, 9, 10, 10, 10,\n",
       "                    10, 11, 11, 11, 11, 12, 12, 12, 12, 13, 13, 13, 13, 14,\n",
       "                    14, 14, 14],\n",
       "              mask=[False, False, False, False, False, False, False, False,\n",
       "                    False, False, False, False, False, False, False, False,\n",
       "                    False, False, False, False, False, False, False, False,\n",
       "                    False, False, False, False, False, False, False, False,\n",
       "                    False, False, False, False, False, False, False, False,\n",
       "                    False, False, False, False, False, False, False, False,\n",
       "                    False, False, False, False],\n",
       "        fill_value=999999),\n",
       " 'param_min_samples_split': masked_array(data=[2, 4, 6, 8, 2, 4, 6, 8, 2, 4, 6, 8, 2, 4, 6, 8, 2, 4,\n",
       "                    6, 8, 2, 4, 6, 8, 2, 4, 6, 8, 2, 4, 6, 8, 2, 4, 6, 8,\n",
       "                    2, 4, 6, 8, 2, 4, 6, 8, 2, 4, 6, 8, 2, 4, 6, 8],\n",
       "              mask=[False, False, False, False, False, False, False, False,\n",
       "                    False, False, False, False, False, False, False, False,\n",
       "                    False, False, False, False, False, False, False, False,\n",
       "                    False, False, False, False, False, False, False, False,\n",
       "                    False, False, False, False, False, False, False, False,\n",
       "                    False, False, False, False, False, False, False, False,\n",
       "                    False, False, False, False],\n",
       "        fill_value=999999),\n",
       " 'params': [{'max_depth': 2, 'min_samples_split': 2},\n",
       "  {'max_depth': 2, 'min_samples_split': 4},\n",
       "  {'max_depth': 2, 'min_samples_split': 6},\n",
       "  {'max_depth': 2, 'min_samples_split': 8},\n",
       "  {'max_depth': 3, 'min_samples_split': 2},\n",
       "  {'max_depth': 3, 'min_samples_split': 4},\n",
       "  {'max_depth': 3, 'min_samples_split': 6},\n",
       "  {'max_depth': 3, 'min_samples_split': 8},\n",
       "  {'max_depth': 4, 'min_samples_split': 2},\n",
       "  {'max_depth': 4, 'min_samples_split': 4},\n",
       "  {'max_depth': 4, 'min_samples_split': 6},\n",
       "  {'max_depth': 4, 'min_samples_split': 8},\n",
       "  {'max_depth': 5, 'min_samples_split': 2},\n",
       "  {'max_depth': 5, 'min_samples_split': 4},\n",
       "  {'max_depth': 5, 'min_samples_split': 6},\n",
       "  {'max_depth': 5, 'min_samples_split': 8},\n",
       "  {'max_depth': 6, 'min_samples_split': 2},\n",
       "  {'max_depth': 6, 'min_samples_split': 4},\n",
       "  {'max_depth': 6, 'min_samples_split': 6},\n",
       "  {'max_depth': 6, 'min_samples_split': 8},\n",
       "  {'max_depth': 7, 'min_samples_split': 2},\n",
       "  {'max_depth': 7, 'min_samples_split': 4},\n",
       "  {'max_depth': 7, 'min_samples_split': 6},\n",
       "  {'max_depth': 7, 'min_samples_split': 8},\n",
       "  {'max_depth': 8, 'min_samples_split': 2},\n",
       "  {'max_depth': 8, 'min_samples_split': 4},\n",
       "  {'max_depth': 8, 'min_samples_split': 6},\n",
       "  {'max_depth': 8, 'min_samples_split': 8},\n",
       "  {'max_depth': 9, 'min_samples_split': 2},\n",
       "  {'max_depth': 9, 'min_samples_split': 4},\n",
       "  {'max_depth': 9, 'min_samples_split': 6},\n",
       "  {'max_depth': 9, 'min_samples_split': 8},\n",
       "  {'max_depth': 10, 'min_samples_split': 2},\n",
       "  {'max_depth': 10, 'min_samples_split': 4},\n",
       "  {'max_depth': 10, 'min_samples_split': 6},\n",
       "  {'max_depth': 10, 'min_samples_split': 8},\n",
       "  {'max_depth': 11, 'min_samples_split': 2},\n",
       "  {'max_depth': 11, 'min_samples_split': 4},\n",
       "  {'max_depth': 11, 'min_samples_split': 6},\n",
       "  {'max_depth': 11, 'min_samples_split': 8},\n",
       "  {'max_depth': 12, 'min_samples_split': 2},\n",
       "  {'max_depth': 12, 'min_samples_split': 4},\n",
       "  {'max_depth': 12, 'min_samples_split': 6},\n",
       "  {'max_depth': 12, 'min_samples_split': 8},\n",
       "  {'max_depth': 13, 'min_samples_split': 2},\n",
       "  {'max_depth': 13, 'min_samples_split': 4},\n",
       "  {'max_depth': 13, 'min_samples_split': 6},\n",
       "  {'max_depth': 13, 'min_samples_split': 8},\n",
       "  {'max_depth': 14, 'min_samples_split': 2},\n",
       "  {'max_depth': 14, 'min_samples_split': 4},\n",
       "  {'max_depth': 14, 'min_samples_split': 6},\n",
       "  {'max_depth': 14, 'min_samples_split': 8}],\n",
       " 'split0_test_score': array([0.83333333, 0.83333333, 0.83333333, 0.83333333, 0.81481481,\n",
       "        0.81481481, 0.81481481, 0.81481481, 0.81481481, 0.81481481,\n",
       "        0.81481481, 0.81481481, 0.81481481, 0.81481481, 0.81481481,\n",
       "        0.81481481, 0.81481481, 0.81481481, 0.81481481, 0.81481481,\n",
       "        0.81481481, 0.81481481, 0.81481481, 0.81481481, 0.81481481,\n",
       "        0.81481481, 0.81481481, 0.81481481, 0.87037037, 0.87037037,\n",
       "        0.87037037, 0.87037037, 0.87037037, 0.87037037, 0.87037037,\n",
       "        0.87037037, 0.87037037, 0.87037037, 0.87037037, 0.87037037,\n",
       "        0.87037037, 0.87037037, 0.87037037, 0.87037037, 0.87037037,\n",
       "        0.87037037, 0.87037037, 0.87037037, 0.87037037, 0.87037037,\n",
       "        0.87037037, 0.87037037]),\n",
       " 'split1_test_score': array([0.81481481, 0.81481481, 0.81481481, 0.81481481, 0.92592593,\n",
       "        0.92592593, 0.92592593, 0.92592593, 0.92592593, 0.92592593,\n",
       "        0.92592593, 0.92592593, 0.96296296, 0.96296296, 0.92592593,\n",
       "        0.92592593, 0.96296296, 0.96296296, 0.92592593, 0.92592593,\n",
       "        0.96296296, 0.96296296, 0.92592593, 0.92592593, 0.96296296,\n",
       "        0.96296296, 0.92592593, 0.92592593, 0.96296296, 0.96296296,\n",
       "        0.92592593, 0.92592593, 0.96296296, 0.96296296, 0.92592593,\n",
       "        0.92592593, 0.96296296, 0.96296296, 0.92592593, 0.92592593,\n",
       "        0.96296296, 0.96296296, 0.92592593, 0.92592593, 0.96296296,\n",
       "        0.96296296, 0.92592593, 0.92592593, 0.96296296, 0.96296296,\n",
       "        0.92592593, 0.92592593]),\n",
       " 'split2_test_score': array([0.94444444, 0.94444444, 0.94444444, 0.94444444, 0.94444444,\n",
       "        0.94444444, 0.94444444, 0.94444444, 0.94444444, 0.94444444,\n",
       "        0.94444444, 0.94444444, 0.96296296, 0.96296296, 0.96296296,\n",
       "        0.96296296, 0.96296296, 0.96296296, 0.96296296, 0.96296296,\n",
       "        0.96296296, 0.96296296, 0.96296296, 0.96296296, 0.96296296,\n",
       "        0.96296296, 0.96296296, 0.96296296, 0.96296296, 0.96296296,\n",
       "        0.96296296, 0.96296296, 0.98148148, 0.98148148, 0.98148148,\n",
       "        0.98148148, 0.98148148, 0.98148148, 0.98148148, 0.98148148,\n",
       "        0.98148148, 0.98148148, 0.98148148, 0.98148148, 0.98148148,\n",
       "        0.98148148, 0.98148148, 0.98148148, 0.98148148, 0.98148148,\n",
       "        0.98148148, 0.98148148]),\n",
       " 'split3_test_score': array([0.98148148, 0.98148148, 0.98148148, 0.98148148, 0.94444444,\n",
       "        0.94444444, 0.94444444, 0.94444444, 1.        , 1.        ,\n",
       "        1.        , 1.        , 1.        , 1.        , 1.        ,\n",
       "        1.        , 1.        , 1.        , 1.        , 1.        ,\n",
       "        0.96296296, 0.96296296, 1.        , 1.        , 0.96296296,\n",
       "        0.96296296, 1.        , 1.        , 0.96296296, 0.96296296,\n",
       "        1.        , 1.        , 0.96296296, 0.96296296, 1.        ,\n",
       "        1.        , 0.96296296, 0.96296296, 1.        , 1.        ,\n",
       "        0.96296296, 0.96296296, 1.        , 1.        , 0.96296296,\n",
       "        0.96296296, 1.        , 1.        , 0.96296296, 0.96296296,\n",
       "        1.        , 1.        ]),\n",
       " 'split4_test_score': array([0.83333333, 0.83333333, 0.83333333, 0.83333333, 0.90740741,\n",
       "        0.90740741, 0.90740741, 0.90740741, 0.90740741, 0.90740741,\n",
       "        0.90740741, 0.90740741, 0.90740741, 0.90740741, 0.90740741,\n",
       "        0.90740741, 0.90740741, 0.90740741, 0.90740741, 0.90740741,\n",
       "        0.90740741, 0.90740741, 0.90740741, 0.90740741, 0.90740741,\n",
       "        0.90740741, 0.90740741, 0.90740741, 0.90740741, 0.90740741,\n",
       "        0.90740741, 0.90740741, 0.90740741, 0.90740741, 0.90740741,\n",
       "        0.90740741, 0.90740741, 0.90740741, 0.90740741, 0.90740741,\n",
       "        0.90740741, 0.90740741, 0.90740741, 0.90740741, 0.90740741,\n",
       "        0.90740741, 0.90740741, 0.90740741, 0.90740741, 0.90740741,\n",
       "        0.90740741, 0.90740741]),\n",
       " 'split5_test_score': array([0.94444444, 0.94444444, 0.94444444, 0.94444444, 0.94444444,\n",
       "        0.94444444, 0.94444444, 0.94444444, 0.94444444, 0.94444444,\n",
       "        0.94444444, 0.94444444, 0.94444444, 0.94444444, 0.94444444,\n",
       "        0.94444444, 0.94444444, 0.94444444, 0.94444444, 0.94444444,\n",
       "        0.98148148, 0.98148148, 0.98148148, 0.98148148, 0.98148148,\n",
       "        0.98148148, 0.98148148, 0.98148148, 0.98148148, 0.98148148,\n",
       "        0.98148148, 0.98148148, 0.98148148, 0.98148148, 0.98148148,\n",
       "        0.98148148, 0.98148148, 0.98148148, 0.98148148, 0.98148148,\n",
       "        0.98148148, 0.98148148, 0.98148148, 0.98148148, 0.98148148,\n",
       "        0.98148148, 0.98148148, 0.98148148, 0.98148148, 0.98148148,\n",
       "        0.98148148, 0.98148148]),\n",
       " 'split6_test_score': array([1.        , 1.        , 1.        , 1.        , 0.94444444,\n",
       "        0.94444444, 0.94444444, 0.94444444, 1.        , 1.        ,\n",
       "        1.        , 1.        , 1.        , 1.        , 1.        ,\n",
       "        1.        , 1.        , 1.        , 1.        , 1.        ,\n",
       "        1.        , 1.        , 1.        , 1.        , 1.        ,\n",
       "        1.        , 1.        , 1.        , 1.        , 1.        ,\n",
       "        1.        , 1.        , 1.        , 1.        , 1.        ,\n",
       "        1.        , 1.        , 1.        , 1.        , 1.        ,\n",
       "        1.        , 1.        , 1.        , 1.        , 1.        ,\n",
       "        1.        , 1.        , 1.        , 1.        , 1.        ,\n",
       "        1.        , 1.        ]),\n",
       " 'split7_test_score': array([0.86792453, 0.86792453, 0.86792453, 0.86792453, 0.90566038,\n",
       "        0.90566038, 0.90566038, 0.90566038, 0.90566038, 0.88679245,\n",
       "        0.88679245, 0.90566038, 0.90566038, 0.90566038, 0.90566038,\n",
       "        0.90566038, 0.90566038, 0.90566038, 0.90566038, 0.90566038,\n",
       "        0.90566038, 0.90566038, 0.90566038, 0.90566038, 0.90566038,\n",
       "        0.90566038, 0.90566038, 0.90566038, 0.90566038, 0.90566038,\n",
       "        0.90566038, 0.90566038, 0.90566038, 0.90566038, 0.90566038,\n",
       "        0.90566038, 0.90566038, 0.90566038, 0.90566038, 0.90566038,\n",
       "        0.90566038, 0.90566038, 0.90566038, 0.90566038, 0.90566038,\n",
       "        0.90566038, 0.90566038, 0.90566038, 0.90566038, 0.90566038,\n",
       "        0.90566038, 0.90566038]),\n",
       " 'split8_test_score': array([0.9245283 , 0.9245283 , 0.9245283 , 0.9245283 , 0.94339623,\n",
       "        0.94339623, 0.94339623, 0.94339623, 0.81132075, 0.81132075,\n",
       "        0.81132075, 0.81132075, 0.8490566 , 0.8490566 , 0.8490566 ,\n",
       "        0.8490566 , 0.83018868, 0.8490566 , 0.8490566 , 0.8490566 ,\n",
       "        0.83018868, 0.8490566 , 0.8490566 , 0.8490566 , 0.83018868,\n",
       "        0.8490566 , 0.8490566 , 0.8490566 , 0.83018868, 0.8490566 ,\n",
       "        0.8490566 , 0.8490566 , 0.83018868, 0.8490566 , 0.8490566 ,\n",
       "        0.8490566 , 0.83018868, 0.8490566 , 0.8490566 , 0.8490566 ,\n",
       "        0.83018868, 0.8490566 , 0.8490566 , 0.8490566 , 0.83018868,\n",
       "        0.8490566 , 0.8490566 , 0.8490566 , 0.83018868, 0.8490566 ,\n",
       "        0.8490566 , 0.8490566 ]),\n",
       " 'split9_test_score': array([0.9245283 , 0.9245283 , 0.9245283 , 0.9245283 , 0.98113208,\n",
       "        0.98113208, 0.98113208, 0.98113208, 0.98113208, 0.98113208,\n",
       "        0.98113208, 0.98113208, 0.98113208, 0.98113208, 0.98113208,\n",
       "        0.98113208, 0.98113208, 0.98113208, 0.98113208, 0.98113208,\n",
       "        0.98113208, 0.98113208, 0.98113208, 0.98113208, 0.98113208,\n",
       "        0.98113208, 0.98113208, 0.98113208, 0.98113208, 0.98113208,\n",
       "        0.98113208, 0.98113208, 0.98113208, 0.98113208, 0.98113208,\n",
       "        0.98113208, 0.98113208, 0.98113208, 0.98113208, 0.98113208,\n",
       "        0.98113208, 0.98113208, 0.98113208, 0.98113208, 0.98113208,\n",
       "        0.98113208, 0.98113208, 0.98113208, 0.98113208, 0.98113208,\n",
       "        0.98113208, 0.98113208]),\n",
       " 'mean_test_score': array([0.9068833 , 0.9068833 , 0.9068833 , 0.9068833 , 0.92561146,\n",
       "        0.92561146, 0.92561146, 0.92561146, 0.92351502, 0.92162823,\n",
       "        0.92162823, 0.92351502, 0.93284416, 0.93284416, 0.92914046,\n",
       "        0.92914046, 0.93095737, 0.93284416, 0.92914046, 0.92914046,\n",
       "        0.93095737, 0.93284416, 0.93284416, 0.93284416, 0.93095737,\n",
       "        0.93284416, 0.93284416, 0.93284416, 0.93651293, 0.93839972,\n",
       "        0.93839972, 0.93839972, 0.93836478, 0.94025157, 0.94025157,\n",
       "        0.94025157, 0.93836478, 0.94025157, 0.94025157, 0.94025157,\n",
       "        0.93836478, 0.94025157, 0.94025157, 0.94025157, 0.93836478,\n",
       "        0.94025157, 0.94025157, 0.94025157, 0.93836478, 0.94025157,\n",
       "        0.94025157, 0.94025157]),\n",
       " 'std_test_score': array([0.06204318, 0.06204318, 0.06204318, 0.06204318, 0.04221728,\n",
       "        0.04221728, 0.04221728, 0.04221728, 0.06393986, 0.06471261,\n",
       "        0.06471261, 0.06393986, 0.05969728, 0.05969728, 0.05885678,\n",
       "        0.05885678, 0.06254586, 0.05969728, 0.05885678, 0.05885678,\n",
       "        0.06143949, 0.05853709, 0.06083535, 0.06083535, 0.06143949,\n",
       "        0.05853709, 0.06083535, 0.06083535, 0.05255583, 0.0489176 ,\n",
       "        0.05164572, 0.05164572, 0.05376749, 0.05014749, 0.05281211,\n",
       "        0.05281211, 0.05376749, 0.05014749, 0.05281211, 0.05281211,\n",
       "        0.05376749, 0.05014749, 0.05281211, 0.05281211, 0.05376749,\n",
       "        0.05014749, 0.05281211, 0.05281211, 0.05376749, 0.05014749,\n",
       "        0.05281211, 0.05281211]),\n",
       " 'rank_test_score': array([49, 49, 49, 49, 41, 41, 41, 41, 45, 47, 47, 45, 25, 25, 37, 37, 34,\n",
       "        25, 37, 37, 34, 25, 25, 25, 34, 25, 25, 25, 24, 16, 16, 16, 19,  1,\n",
       "         1,  1, 19,  1,  1,  1, 19,  1,  1,  1, 19,  1,  1,  1, 19,  1,  1,\n",
       "         1], dtype=int32)}"
      ]
     },
     "execution_count": 31,
     "metadata": {},
     "output_type": "execute_result"
    }
   ],
   "source": [
    "grid_search.cv_results_"
   ]
  },
  {
   "cell_type": "code",
   "execution_count": 32,
   "metadata": {},
   "outputs": [
    {
     "data": {
      "text/html": [
       "<div>\n",
       "<style scoped>\n",
       "    .dataframe tbody tr th:only-of-type {\n",
       "        vertical-align: middle;\n",
       "    }\n",
       "\n",
       "    .dataframe tbody tr th {\n",
       "        vertical-align: top;\n",
       "    }\n",
       "\n",
       "    .dataframe thead th {\n",
       "        text-align: right;\n",
       "    }\n",
       "</style>\n",
       "<table border=\"1\" class=\"dataframe\">\n",
       "  <thead>\n",
       "    <tr style=\"text-align: right;\">\n",
       "      <th>param_min_samples_split</th>\n",
       "      <th>2</th>\n",
       "      <th>4</th>\n",
       "      <th>6</th>\n",
       "      <th>8</th>\n",
       "    </tr>\n",
       "    <tr>\n",
       "      <th>param_max_depth</th>\n",
       "      <th></th>\n",
       "      <th></th>\n",
       "      <th></th>\n",
       "      <th></th>\n",
       "    </tr>\n",
       "  </thead>\n",
       "  <tbody>\n",
       "    <tr>\n",
       "      <th>2</th>\n",
       "      <td>0.906883</td>\n",
       "      <td>0.906883</td>\n",
       "      <td>0.906883</td>\n",
       "      <td>0.906883</td>\n",
       "    </tr>\n",
       "    <tr>\n",
       "      <th>3</th>\n",
       "      <td>0.925611</td>\n",
       "      <td>0.925611</td>\n",
       "      <td>0.925611</td>\n",
       "      <td>0.925611</td>\n",
       "    </tr>\n",
       "    <tr>\n",
       "      <th>4</th>\n",
       "      <td>0.923515</td>\n",
       "      <td>0.921628</td>\n",
       "      <td>0.921628</td>\n",
       "      <td>0.923515</td>\n",
       "    </tr>\n",
       "    <tr>\n",
       "      <th>5</th>\n",
       "      <td>0.932844</td>\n",
       "      <td>0.932844</td>\n",
       "      <td>0.929140</td>\n",
       "      <td>0.929140</td>\n",
       "    </tr>\n",
       "    <tr>\n",
       "      <th>6</th>\n",
       "      <td>0.930957</td>\n",
       "      <td>0.932844</td>\n",
       "      <td>0.929140</td>\n",
       "      <td>0.929140</td>\n",
       "    </tr>\n",
       "    <tr>\n",
       "      <th>7</th>\n",
       "      <td>0.930957</td>\n",
       "      <td>0.932844</td>\n",
       "      <td>0.932844</td>\n",
       "      <td>0.932844</td>\n",
       "    </tr>\n",
       "    <tr>\n",
       "      <th>8</th>\n",
       "      <td>0.930957</td>\n",
       "      <td>0.932844</td>\n",
       "      <td>0.932844</td>\n",
       "      <td>0.932844</td>\n",
       "    </tr>\n",
       "    <tr>\n",
       "      <th>9</th>\n",
       "      <td>0.936513</td>\n",
       "      <td>0.938400</td>\n",
       "      <td>0.938400</td>\n",
       "      <td>0.938400</td>\n",
       "    </tr>\n",
       "    <tr>\n",
       "      <th>10</th>\n",
       "      <td>0.938365</td>\n",
       "      <td>0.940252</td>\n",
       "      <td>0.940252</td>\n",
       "      <td>0.940252</td>\n",
       "    </tr>\n",
       "    <tr>\n",
       "      <th>11</th>\n",
       "      <td>0.938365</td>\n",
       "      <td>0.940252</td>\n",
       "      <td>0.940252</td>\n",
       "      <td>0.940252</td>\n",
       "    </tr>\n",
       "    <tr>\n",
       "      <th>12</th>\n",
       "      <td>0.938365</td>\n",
       "      <td>0.940252</td>\n",
       "      <td>0.940252</td>\n",
       "      <td>0.940252</td>\n",
       "    </tr>\n",
       "    <tr>\n",
       "      <th>13</th>\n",
       "      <td>0.938365</td>\n",
       "      <td>0.940252</td>\n",
       "      <td>0.940252</td>\n",
       "      <td>0.940252</td>\n",
       "    </tr>\n",
       "    <tr>\n",
       "      <th>14</th>\n",
       "      <td>0.938365</td>\n",
       "      <td>0.940252</td>\n",
       "      <td>0.940252</td>\n",
       "      <td>0.940252</td>\n",
       "    </tr>\n",
       "  </tbody>\n",
       "</table>\n",
       "</div>"
      ],
      "text/plain": [
       "param_min_samples_split         2         4         6         8\n",
       "param_max_depth                                                \n",
       "2                        0.906883  0.906883  0.906883  0.906883\n",
       "3                        0.925611  0.925611  0.925611  0.925611\n",
       "4                        0.923515  0.921628  0.921628  0.923515\n",
       "5                        0.932844  0.932844  0.929140  0.929140\n",
       "6                        0.930957  0.932844  0.929140  0.929140\n",
       "7                        0.930957  0.932844  0.932844  0.932844\n",
       "8                        0.930957  0.932844  0.932844  0.932844\n",
       "9                        0.936513  0.938400  0.938400  0.938400\n",
       "10                       0.938365  0.940252  0.940252  0.940252\n",
       "11                       0.938365  0.940252  0.940252  0.940252\n",
       "12                       0.938365  0.940252  0.940252  0.940252\n",
       "13                       0.938365  0.940252  0.940252  0.940252\n",
       "14                       0.938365  0.940252  0.940252  0.940252"
      ]
     },
     "execution_count": 32,
     "metadata": {},
     "output_type": "execute_result"
    }
   ],
   "source": [
    "import pandas as pd\n",
    "pvt = pd.pivot_table(pd.DataFrame(grid_search.cv_results_),\n",
    "                     values='mean_test_score', \n",
    "                     index='param_max_depth', \n",
    "                     columns='param_min_samples_split')\n",
    "\n",
    "pvt"
   ]
  },
  {
   "cell_type": "code",
   "execution_count": 33,
   "metadata": {},
   "outputs": [
    {
     "data": {
      "text/plain": [
       "[(np.int64(6), np.int64(8)),\n",
       " (np.int64(12), np.int64(4)),\n",
       " (np.int64(13), np.int64(8)),\n",
       " (np.int64(5), np.int64(2)),\n",
       " (np.int64(12), np.int64(8)),\n",
       " (np.int64(3), np.int64(4)),\n",
       " (np.int64(6), np.int64(4)),\n",
       " (np.int64(14), np.int64(6)),\n",
       " (np.int64(2), np.int64(8))]"
      ]
     },
     "execution_count": 33,
     "metadata": {},
     "output_type": "execute_result"
    }
   ],
   "source": [
    "list(random_params)"
   ]
  },
  {
   "cell_type": "code",
   "execution_count": 34,
   "metadata": {},
   "outputs": [
    {
     "data": {
      "image/png": "[encoded data removed]",
      "text/plain": [
       "<Figure size 600x500 with 2 Axes>"
      ]
     },
     "metadata": {},
     "output_type": "display_data"
    }
   ],
   "source": [
    "f,ax = plt.subplots(figsize = (6,5))\n",
    "sns.heatmap(pvt, cmap='viridis',ax = ax)\n",
    "plt.title('Accuracy score')\n",
    "for i in random_params:\n",
    "    ax.scatter(i[1]/2-0.5,i[0]-1.5,color = 'r',marker = 'x')\n",
    "    # red crosses inidcate configurations tested by random search"
   ]
  },
  {
   "cell_type": "markdown",
   "metadata": {},
   "source": [
    "So, **which one is better** (i.e. more effective/efficient)? \n",
    "\n",
    "An answer has been recently provided by Bergstra and Bengio in [this work](https://www.jmlr.org/papers/volume13/bergstra12a/bergstra12a.pdf) from 2012.\n",
    "- It is quite common that the hyperparameter optimization functions have a *low effective dimensionality*, i.e. they are more sensitive to changes in some dimensions than others.\n",
    "    - If we are aware of the most influential dimensions, we can desing an appropriate grid search.\n",
    "    - Otherwise, it is better to resort to random search."
   ]
  },
  {
   "cell_type": "markdown",
   "metadata": {},
   "source": [
    "Consider the following example in which we have a granted budget of 9 trials to explore a bidimensional hyperparameter space.\n",
    "\n",
    "<div>\n",
    "<img src=\"https://miro.medium.com/proxy/1*ZTlQm_WRcrNqL-nLnx6GJA.png\" width=\"700\"/>\n",
    "</div>\n",
    "\n",
    "- The **grid search** provides an even coverage of the original 2D space, but projections on the two dimensions produces a poor and inefficient coverage of the 1D subspaces. \n",
    "- Conversely, **random search** provides a less evenly distributed coverage of the original space, but obtains a far more detailed insight on both the subspaces.\n",
    "\n",
    "More formally: the function $f$ to optimize can be approximated as $g$ due to low effective dimensionality:\n",
    "\n",
    "$$f(x, y) = g(x) + h(y) ≈ g(x)$$\n",
    "\n",
    "- **Grid search** tests $g$, represented as green plot in the above figure, for only three different values of $x$. \n",
    "- **Random search**, instead, tests distinct values in all nine trials.\n"
   ]
  },
  {
   "cell_type": "markdown",
   "metadata": {},
   "source": [
    "*Notice*: It is recommended to read the docstring of the estimator class to get a finer understanding of their expected behavior, possibly by reading the enclosed reference to the literature."
   ]
  },
  {
   "cell_type": "markdown",
   "metadata": {},
   "source": [
    "# Putting it all together: hyperparameters tuning and pipelines"
   ]
  },
  {
   "cell_type": "markdown",
   "metadata": {},
   "source": [
    "- GridSearchCV and RandomizedSearchCV allow searching over parameters of composite or nested estimators such as Pipeline using a dedicated `<estimator>__<parameter>` syntax."
   ]
  },
  {
   "cell_type": "code",
   "execution_count": 35,
   "metadata": {},
   "outputs": [],
   "source": [
    "from sklearn.linear_model import LogisticRegression\n",
    "from sklearn.pipeline import Pipeline\n",
    "from sklearn.preprocessing import StandardScaler\n",
    "from sklearn.decomposition import PCA \n",
    "from sklearn.datasets import load_digits\n",
    "\n",
    "scaler = StandardScaler()\n",
    "pca = PCA()\n",
    "\n",
    "logistic = LogisticRegression(max_iter=10000)\n",
    "\n",
    "pipe = Pipeline(steps=[(\"scaler\", scaler), (\"pca\", pca), (\"logistic\", logistic)])\n",
    "\n",
    "X_digits, y_digits = load_digits(return_X_y=True)"
   ]
  },
  {
   "cell_type": "code",
   "execution_count": 36,
   "metadata": {},
   "outputs": [
    {
     "name": "stdout",
     "output_type": "stream",
     "text": [
      "Best parameter (CV score=0.923):\n",
      "{'logistic__C': np.float64(0.046415888336127774), 'pca__n_components': 60}\n"
     ]
    }
   ],
   "source": [
    "# Parameters of pipelines can be set using '__' separated parameter names:\n",
    "param_grid = {\n",
    "    \"pca__n_components\": [5, 15, 30, 45, 60],\n",
    "    \"logistic__C\": np.logspace(-4, 4, 4), #Inverse of regularization strength; must be a positive float.\n",
    "\n",
    "}\n",
    "search = GridSearchCV(pipe, param_grid, n_jobs=-1)\n",
    "search.fit(X_digits, y_digits)\n",
    "print(\"Best parameter (CV score=%0.3f):\" % search.best_score_)\n",
    "print(search.best_params_)"
   ]
  },
  {
   "cell_type": "code",
   "execution_count": 37,
   "metadata": {
    "scrolled": true
   },
   "outputs": [
    {
     "data": {
      "text/plain": [
       "['__abstractmethods__',\n",
       " '__annotations__',\n",
       " '__class__',\n",
       " '__delattr__',\n",
       " '__dict__',\n",
       " '__dir__',\n",
       " '__doc__',\n",
       " '__eq__',\n",
       " '__format__',\n",
       " '__ge__',\n",
       " '__getattribute__',\n",
       " '__getstate__',\n",
       " '__gt__',\n",
       " '__hash__',\n",
       " '__init__',\n",
       " '__init_subclass__',\n",
       " '__le__',\n",
       " '__lt__',\n",
       " '__module__',\n",
       " '__ne__',\n",
       " '__new__',\n",
       " '__reduce__',\n",
       " '__reduce_ex__',\n",
       " '__repr__',\n",
       " '__setattr__',\n",
       " '__setstate__',\n",
       " '__sizeof__',\n",
       " '__sklearn_clone__',\n",
       " '__sklearn_tags__',\n",
       " '__str__',\n",
       " '__subclasshook__',\n",
       " '__weakref__',\n",
       " '_abc_impl',\n",
       " '_build_request_for_signature',\n",
       " '_check_feature_names',\n",
       " '_check_n_features',\n",
       " '_check_refit_for_multimetric',\n",
       " '_doc_link_module',\n",
       " '_doc_link_template',\n",
       " '_doc_link_url_param_generator',\n",
       " '_estimator_type',\n",
       " '_format_results',\n",
       " '_get_default_requests',\n",
       " '_get_doc_link',\n",
       " '_get_metadata_request',\n",
       " '_get_param_names',\n",
       " '_get_routed_params_for_fit',\n",
       " '_get_scorers',\n",
       " '_get_tags',\n",
       " '_more_tags',\n",
       " '_parameter_constraints',\n",
       " '_repr_html_',\n",
       " '_repr_html_inner',\n",
       " '_repr_mimebundle_',\n",
       " '_run_search',\n",
       " '_select_best_index',\n",
       " '_sk_visual_block_',\n",
       " '_validate_data',\n",
       " '_validate_params',\n",
       " 'best_estimator_',\n",
       " 'best_index_',\n",
       " 'best_params_',\n",
       " 'best_score_',\n",
       " 'classes_',\n",
       " 'cv',\n",
       " 'cv_results_',\n",
       " 'decision_function',\n",
       " 'error_score',\n",
       " 'estimator',\n",
       " 'fit',\n",
       " 'get_metadata_routing',\n",
       " 'get_params',\n",
       " 'inverse_transform',\n",
       " 'multimetric_',\n",
       " 'n_features_in_',\n",
       " 'n_jobs',\n",
       " 'n_splits_',\n",
       " 'param_grid',\n",
       " 'pre_dispatch',\n",
       " 'predict',\n",
       " 'predict_log_proba',\n",
       " 'predict_proba',\n",
       " 'refit',\n",
       " 'refit_time_',\n",
       " 'return_train_score',\n",
       " 'score',\n",
       " 'score_samples',\n",
       " 'scorer_',\n",
       " 'scoring',\n",
       " 'set_params',\n",
       " 'transform',\n",
       " 'verbose']"
      ]
     },
     "execution_count": 37,
     "metadata": {},
     "output_type": "execute_result"
    }
   ],
   "source": [
    "dir(search)"
   ]
  },
  {
   "cell_type": "code",
   "execution_count": 38,
   "metadata": {
    "scrolled": true
   },
   "outputs": [
    {
     "data": {
      "text/plain": [
       "{'mean_fit_time': array([0.016364  , 0.01490855, 0.01571617, 0.01586924, 0.01798935,\n",
       "        0.02536149, 0.02603302, 0.02516484, 0.02639656, 0.02839127,\n",
       "        0.05041957, 0.07397757, 0.04370198, 0.03093104, 0.03105574,\n",
       "        0.04928803, 0.13951468, 0.03263321, 0.02117405, 0.01827025]),\n",
       " 'std_fit_time': array([0.00161216, 0.00186302, 0.00241148, 0.00153462, 0.0018395 ,\n",
       "        0.00218194, 0.00547709, 0.00330064, 0.00247639, 0.00306248,\n",
       "        0.00865943, 0.01028374, 0.00546353, 0.00271402, 0.00212732,\n",
       "        0.00940693, 0.03522136, 0.01016274, 0.00235502, 0.00295436]),\n",
       " 'mean_score_time': array([0.00214376, 0.00202103, 0.00205235, 0.00213242, 0.00214729,\n",
       "        0.0019495 , 0.00184197, 0.00194616, 0.00202885, 0.00197644,\n",
       "        0.00179834, 0.00200801, 0.00202861, 0.00206428, 0.00196176,\n",
       "        0.00191121, 0.0018508 , 0.00233474, 0.00215049, 0.00163918]),\n",
       " 'std_score_time': array([1.59916752e-04, 1.39849144e-04, 1.53375871e-04, 1.88894874e-04,\n",
       "        3.39385731e-04, 1.06281259e-04, 3.96679797e-05, 3.34551254e-04,\n",
       "        1.47473684e-04, 2.75124520e-04, 3.52764117e-05, 1.80361876e-04,\n",
       "        1.84750531e-04, 9.92739463e-05, 1.27493220e-04, 1.22785466e-04,\n",
       "        3.77190170e-04, 1.25972429e-03, 1.41655182e-04, 4.53719348e-04]),\n",
       " 'param_logistic__C': masked_array(data=[0.0001, 0.0001, 0.0001, 0.0001, 0.0001,\n",
       "                    0.046415888336127774, 0.046415888336127774,\n",
       "                    0.046415888336127774, 0.046415888336127774,\n",
       "                    0.046415888336127774, 21.54434690031882,\n",
       "                    21.54434690031882, 21.54434690031882,\n",
       "                    21.54434690031882, 21.54434690031882, 10000.0, 10000.0,\n",
       "                    10000.0, 10000.0, 10000.0],\n",
       "              mask=[False, False, False, False, False, False, False, False,\n",
       "                    False, False, False, False, False, False, False, False,\n",
       "                    False, False, False, False],\n",
       "        fill_value=1e+20),\n",
       " 'param_pca__n_components': masked_array(data=[5, 15, 30, 45, 60, 5, 15, 30, 45, 60, 5, 15, 30, 45,\n",
       "                    60, 5, 15, 30, 45, 60],\n",
       "              mask=[False, False, False, False, False, False, False, False,\n",
       "                    False, False, False, False, False, False, False, False,\n",
       "                    False, False, False, False],\n",
       "        fill_value=999999),\n",
       " 'params': [{'logistic__C': np.float64(0.0001), 'pca__n_components': 5},\n",
       "  {'logistic__C': np.float64(0.0001), 'pca__n_components': 15},\n",
       "  {'logistic__C': np.float64(0.0001), 'pca__n_components': 30},\n",
       "  {'logistic__C': np.float64(0.0001), 'pca__n_components': 45},\n",
       "  {'logistic__C': np.float64(0.0001), 'pca__n_components': 60},\n",
       "  {'logistic__C': np.float64(0.046415888336127774), 'pca__n_components': 5},\n",
       "  {'logistic__C': np.float64(0.046415888336127774), 'pca__n_components': 15},\n",
       "  {'logistic__C': np.float64(0.046415888336127774), 'pca__n_components': 30},\n",
       "  {'logistic__C': np.float64(0.046415888336127774), 'pca__n_components': 45},\n",
       "  {'logistic__C': np.float64(0.046415888336127774), 'pca__n_components': 60},\n",
       "  {'logistic__C': np.float64(21.54434690031882), 'pca__n_components': 5},\n",
       "  {'logistic__C': np.float64(21.54434690031882), 'pca__n_components': 15},\n",
       "  {'logistic__C': np.float64(21.54434690031882), 'pca__n_components': 30},\n",
       "  {'logistic__C': np.float64(21.54434690031882), 'pca__n_components': 45},\n",
       "  {'logistic__C': np.float64(21.54434690031882), 'pca__n_components': 60},\n",
       "  {'logistic__C': np.float64(10000.0), 'pca__n_components': 5},\n",
       "  {'logistic__C': np.float64(10000.0), 'pca__n_components': 15},\n",
       "  {'logistic__C': np.float64(10000.0), 'pca__n_components': 30},\n",
       "  {'logistic__C': np.float64(10000.0), 'pca__n_components': 45},\n",
       "  {'logistic__C': np.float64(10000.0), 'pca__n_components': 60}],\n",
       " 'split0_test_score': array([0.67777778, 0.78055556, 0.8       , 0.80833333, 0.80555556,\n",
       "        0.79166667, 0.90277778, 0.92222222, 0.92777778, 0.92222222,\n",
       "        0.80277778, 0.89166667, 0.93888889, 0.925     , 0.90833333,\n",
       "        0.80555556, 0.86944444, 0.93333333, 0.91666667, 0.925     ]),\n",
       " 'split1_test_score': array([0.68888889, 0.76111111, 0.80833333, 0.80833333, 0.80833333,\n",
       "        0.73888889, 0.88055556, 0.88888889, 0.89444444, 0.9       ,\n",
       "        0.725     , 0.83055556, 0.84166667, 0.85833333, 0.88055556,\n",
       "        0.72222222, 0.825     , 0.82777778, 0.875     , 0.86944444]),\n",
       " 'split2_test_score': array([0.66295265, 0.79108635, 0.80222841, 0.81058496, 0.81058496,\n",
       "        0.76880223, 0.91086351, 0.93036212, 0.94150418, 0.94428969,\n",
       "        0.75208914, 0.91364903, 0.91643454, 0.92479109, 0.93871866,\n",
       "        0.75208914, 0.90250696, 0.90807799, 0.93036212, 0.93036212]),\n",
       " 'split3_test_score': array([0.77437326, 0.84958217, 0.86350975, 0.8718663 , 0.8718663 ,\n",
       "        0.83008357, 0.93871866, 0.94428969, 0.96657382, 0.9637883 ,\n",
       "        0.81058496, 0.89415042, 0.90807799, 0.94428969, 0.94986072,\n",
       "        0.81058496, 0.87465181, 0.8913649 , 0.93036212, 0.93593315]),\n",
       " 'split4_test_score': array([0.61559889, 0.73259053, 0.7632312 , 0.75766017, 0.75766017,\n",
       "        0.73537604, 0.85793872, 0.87465181, 0.88300836, 0.88579387,\n",
       "        0.75208914, 0.8718663 , 0.87743733, 0.88579387, 0.88857939,\n",
       "        0.75208914, 0.8718663 , 0.86072423, 0.88857939, 0.8913649 ]),\n",
       " 'mean_test_score': array([0.68391829, 0.78298514, 0.80746054, 0.81135562, 0.81080006,\n",
       "        0.77296348, 0.89817084, 0.91208295, 0.92266171, 0.92321882,\n",
       "        0.7685082 , 0.88037759, 0.89650108, 0.9076416 , 0.91320953,\n",
       "        0.7685082 , 0.8686939 , 0.88425565, 0.90819406, 0.91042092]),\n",
       " 'std_test_score': array([0.05167516, 0.03879378, 0.03219175, 0.03623149, 0.03629482,\n",
       "        0.0352242 , 0.02740575, 0.02612762, 0.03058787, 0.02839225,\n",
       "        0.03279327, 0.02820922, 0.03375895, 0.03113561, 0.02716884,\n",
       "        0.0341307 , 0.02489419, 0.03679713, 0.02254423, 0.02570322]),\n",
       " 'rank_test_score': array([20, 16, 15, 13, 14, 17,  8,  4,  2,  1, 18, 11,  9,  7,  3, 18, 12,\n",
       "        10,  6,  5], dtype=int32)}"
      ]
     },
     "execution_count": 38,
     "metadata": {},
     "output_type": "execute_result"
    }
   ],
   "source": [
    "search.cv_results_"
   ]
  },
  {
   "cell_type": "code",
   "execution_count": 39,
   "metadata": {},
   "outputs": [
    {
     "data": {
      "text/html": [
       "<div>\n",
       "<style scoped>\n",
       "    .dataframe tbody tr th:only-of-type {\n",
       "        vertical-align: middle;\n",
       "    }\n",
       "\n",
       "    .dataframe tbody tr th {\n",
       "        vertical-align: top;\n",
       "    }\n",
       "\n",
       "    .dataframe thead th {\n",
       "        text-align: right;\n",
       "    }\n",
       "</style>\n",
       "<table border=\"1\" class=\"dataframe\">\n",
       "  <thead>\n",
       "    <tr style=\"text-align: right;\">\n",
       "      <th>param_logistic__C</th>\n",
       "      <th>0.000100</th>\n",
       "      <th>0.046416</th>\n",
       "      <th>21.544347</th>\n",
       "      <th>10000.000000</th>\n",
       "    </tr>\n",
       "    <tr>\n",
       "      <th>param_pca__n_components</th>\n",
       "      <th></th>\n",
       "      <th></th>\n",
       "      <th></th>\n",
       "      <th></th>\n",
       "    </tr>\n",
       "  </thead>\n",
       "  <tbody>\n",
       "    <tr>\n",
       "      <th>5</th>\n",
       "      <td>0.683918</td>\n",
       "      <td>0.772963</td>\n",
       "      <td>0.768508</td>\n",
       "      <td>0.768508</td>\n",
       "    </tr>\n",
       "    <tr>\n",
       "      <th>15</th>\n",
       "      <td>0.782985</td>\n",
       "      <td>0.898171</td>\n",
       "      <td>0.880378</td>\n",
       "      <td>0.868694</td>\n",
       "    </tr>\n",
       "    <tr>\n",
       "      <th>30</th>\n",
       "      <td>0.807461</td>\n",
       "      <td>0.912083</td>\n",
       "      <td>0.896501</td>\n",
       "      <td>0.884256</td>\n",
       "    </tr>\n",
       "    <tr>\n",
       "      <th>45</th>\n",
       "      <td>0.811356</td>\n",
       "      <td>0.922662</td>\n",
       "      <td>0.907642</td>\n",
       "      <td>0.908194</td>\n",
       "    </tr>\n",
       "    <tr>\n",
       "      <th>60</th>\n",
       "      <td>0.810800</td>\n",
       "      <td>0.923219</td>\n",
       "      <td>0.913210</td>\n",
       "      <td>0.910421</td>\n",
       "    </tr>\n",
       "  </tbody>\n",
       "</table>\n",
       "</div>"
      ],
      "text/plain": [
       "param_logistic__C        0.000100      0.046416      21.544347     \\\n",
       "param_pca__n_components                                             \n",
       "5                            0.683918      0.772963      0.768508   \n",
       "15                           0.782985      0.898171      0.880378   \n",
       "30                           0.807461      0.912083      0.896501   \n",
       "45                           0.811356      0.922662      0.907642   \n",
       "60                           0.810800      0.923219      0.913210   \n",
       "\n",
       "param_logistic__C        10000.000000  \n",
       "param_pca__n_components                \n",
       "5                            0.768508  \n",
       "15                           0.868694  \n",
       "30                           0.884256  \n",
       "45                           0.908194  \n",
       "60                           0.910421  "
      ]
     },
     "execution_count": 39,
     "metadata": {},
     "output_type": "execute_result"
    }
   ],
   "source": [
    "import pandas as pd\n",
    "pvt = pd.pivot_table(pd.DataFrame(search.cv_results_),\n",
    "                     values='mean_test_score', \n",
    "                     index='param_pca__n_components', \n",
    "                     columns='param_logistic__C')\n",
    "\n",
    "pvt"
   ]
  },
  {
   "cell_type": "markdown",
   "metadata": {},
   "source": [
    "# Nested cross-validation"
   ]
  },
  {
   "cell_type": "markdown",
   "metadata": {},
   "source": [
    "Two core components of best practices in ML (real-world application as well as research): **performance evaluation** and **model selection**.\n",
    "\n"
   ]
  },
  {
   "cell_type": "markdown",
   "metadata": {},
   "source": [
    "- Hyperparameter tuning is part of the **model selection** component.\n",
    "- At the same time, unbiased and robust **performance evaluation** is one cornerstone of ML: without a reliable indication of the relative performance of competing algorithms, possibly across a wide range of learning tasks, we cannot have the clear picture of their **generalization capability**.\n"
   ]
  },
  {
   "cell_type": "markdown",
   "metadata": {},
   "source": [
    "**How to perform these two steps in a fair, robust and unbiased manner?**"
   ]
  },
  {
   "cell_type": "markdown",
   "metadata": {},
   "source": [
    "<font color=red>**A**. Say you use *GridSearchCV* or *RandomizedSearchCV* to optimize hyperparameters. Is the score measured for the best setting indicative of the generalization capability of the model (i.e., good proxy for performance evaluation)?</font> 👎"
   ]
  },
  {
   "cell_type": "markdown",
   "metadata": {},
   "source": [
    "- When evaluating different hyperparameters for estimators there is still a risk of overfitting because the parameters can be tweaked until the estimator performs optimally.\n",
    "    - This way, knowledge about the test sets (i.e., the \"folds out\") can leak into the model and evaluation metrics no longer report on generalization performance.\n",
    "    - In other words, an optimistic bias is introduced into the performance estimate as it has been directly optimised in tuning the hyperparameters.\n",
    "\n"
   ]
  },
  {
   "cell_type": "markdown",
   "metadata": {},
   "source": [
    "<font color=green>**B**. Solution in case a hold out test-set is available</font> 👍"
   ]
  },
  {
   "cell_type": "markdown",
   "metadata": {},
   "source": [
    "\n",
    "      \n",
    "- If a test set is held out from the whole data, we can perform the final evaluation on it.\n",
    "    - Hyperparametr tuning (model selection) can be carried out using cross-validation over the training set.\n",
    "        -  Notice: sometimes, instead of using cross-validation, a part of the training set is held out as a so-called *validation set*, which is used to evaluate different models/hyperparameters. However, the results can depend on a particular random choice for the pair of (train, validation) sets.\n",
    "    - When the experiment seems to be successful (found optimal hyperparameters, based on the results in cross-validation), the final evaluation can be done on the test set.\n",
    "\n",
    "\n",
    "<div>\n",
    "<img src=\"https://scikit-learn.org/stable/_images/grid_search_cross_validation.png\" width=\"800\"/>\n",
    "</div>"
   ]
  },
  {
   "cell_type": "markdown",
   "metadata": {},
   "source": [
    "<font color=green>**C**. Solution in case a hold out test-set is NOT available: **Nested cross-validation**</font> 👍\n"
   ]
  },
  {
   "cell_type": "markdown",
   "metadata": {},
   "source": [
    "- An **inner cross-validation** is used for model selection: the score is approximately maximized by fitting a model to each training set, and then directly maximized in selecting hyperparameters over the validation sets (gray boxes)\n",
    "- An **outer cross-validation** is used for performance evaluation: generalization error is estimated by measuring test set scores over several dataset splits (light green boxes).\n"
   ]
  },
  {
   "cell_type": "markdown",
   "metadata": {},
   "source": [
    "<div>\n",
    "<img src=\"./images/vh1sZ.png\" width=\"800\"/>\n",
    "</div>"
   ]
  },
  {
   "cell_type": "markdown",
   "metadata": {},
   "source": [
    "*Why can't I just use a single cross-validation level (option A)*:\n",
    "- Model selection without nested cross-validation uses the same data to tune model parameters and evaluate model performance.\n",
    "- Information may thus \"leak\" into the model and overfit the data, yielding an overly-optimistic score. "
   ]
  },
  {
   "cell_type": "markdown",
   "metadata": {},
   "source": [
    "Check out the [sklearn example](https://scikit-learn.org/stable/auto_examples/model_selection/plot_nested_cross_validation_iris.html#sphx-glr-auto-examples-model-selection-plot-nested-cross-validation-iris-py):"
   ]
  },
  {
   "cell_type": "code",
   "execution_count": 40,
   "metadata": {},
   "outputs": [],
   "source": [
    "import numpy as np\n",
    "from matplotlib import pyplot as plt\n",
    "from sklearn.datasets import load_iris\n",
    "from sklearn.model_selection import GridSearchCV, KFold, cross_val_score\n",
    "from sklearn.svm import SVC\n",
    "\n",
    "# Number of random trials\n",
    "NUM_TRIALS = 100\n",
    "\n",
    "# Load the dataset\n",
    "iris = load_iris()\n",
    "X_iris = iris.data\n",
    "y_iris = iris.target\n",
    "\n",
    "# Set up possible values of parameters to optimize over\n",
    "p_grid = {\"C\": [1, 10, 100], \"gamma\": [0.01, 0.1]}\n",
    "\n",
    "# We will use a Support Vector Classifier with \"rbf\" kernel\n",
    "svm = SVC(kernel=\"rbf\")"
   ]
  },
  {
   "cell_type": "code",
   "execution_count": 41,
   "metadata": {
    "scrolled": true
   },
   "outputs": [],
   "source": [
    "# Arrays to store scores\n",
    "non_nested_scores = np.zeros(NUM_TRIALS)\n",
    "nested_scores = np.zeros(NUM_TRIALS)\n",
    "\n",
    "# Loop for each trial\n",
    "for i in range(NUM_TRIALS):\n",
    "    # Choose cross-validation techniques for the inner and outer loops,\n",
    "    # independently of the dataset.\n",
    "    # E.g \"GroupKFold\", \"LeaveOneOut\", \"LeaveOneGroupOut\", etc.\n",
    "    inner_cv = KFold(n_splits=4, shuffle=True, random_state=i)\n",
    "    outer_cv = KFold(n_splits=4, shuffle=True, random_state=i)\n",
    "    # Note that inner_cv and outer_cv are identical: the data on which the fit will be called actually differentiate the behavior.\n",
    "\n",
    "    # Non_nested parameter search and scoring\n",
    "    clf = GridSearchCV(estimator=svm, param_grid=p_grid, cv=outer_cv)\n",
    "    clf.fit(X_iris, y_iris) # simply evaluate and optimize on the whole dataset\n",
    "    non_nested_scores[i] = clf.best_score_\n",
    "\n",
    "    # Nested CV with parameter optimization\n",
    "    clf = GridSearchCV(estimator=svm, param_grid=p_grid, cv=inner_cv) # by default \"refit\"=True: Refit an estimator using the best found parameters on the whole dataset.\n",
    "    nested_score = cross_val_score(clf, X=X_iris, y=y_iris, cv=outer_cv) \n",
    "    # the outer_cv is applied on the whole dataset and serves just for evaluation\n",
    "    # the inner_cv is implicitly applied on the training folds at each iteration (as it is part of the \"clf\" GridSearchCV object) \n",
    "    \n",
    "    nested_scores[i] = nested_score.mean()\n",
    "\n",
    "score_difference = non_nested_scores - nested_scores"
   ]
  },
  {
   "cell_type": "code",
   "execution_count": 42,
   "metadata": {},
   "outputs": [
    {
     "data": {
      "image/png": "[encoded data removed]",
      "text/plain": [
       "<Figure size 1000x500 with 2 Axes>"
      ]
     },
     "metadata": {},
     "output_type": "display_data"
    },
    {
     "name": "stdout",
     "output_type": "stream",
     "text": [
      "Average difference of 0.008174 with std. dev. of 0.008218.\n"
     ]
    }
   ],
   "source": [
    "# Plot scores on each trial for nested and non-nested CV\n",
    "plt.figure(figsize=(10,5))\n",
    "plt.subplot(211)\n",
    "(non_nested_scores_line,) = plt.plot(non_nested_scores, color=\"r\")\n",
    "(nested_line,) = plt.plot(nested_scores, color=\"b\")\n",
    "plt.ylabel(\"score\", fontsize=\"14\")\n",
    "plt.legend([non_nested_scores_line, nested_line], [\"Non-Nested CV\", \"Nested CV\"], bbox_to_anchor=(0, 0.4, 0.5, 0),)\n",
    "plt.title(\"Non-Nested and Nested Cross Validation on Iris Dataset\", x=0.5, y=1.1, fontsize=\"15\",)\n",
    "\n",
    "# Plot bar chart of the difference.\n",
    "plt.subplot(212)\n",
    "difference_plot = plt.bar(range(NUM_TRIALS), score_difference)\n",
    "plt.xlabel(\"Individual Trial #\")\n",
    "plt.legend([difference_plot], [\"Non-Nested CV - Nested CV Score\"], bbox_to_anchor=(0, 1, 0.8, 0),)\n",
    "plt.ylabel(\"score difference\", fontsize=\"14\")\n",
    "\n",
    "plt.show()\n",
    "\n",
    "print(f\"Average difference of {score_difference.mean():6f} with std. dev. of {score_difference.std():6f}.\")\n"
   ]
  },
  {
   "cell_type": "markdown",
   "metadata": {},
   "source": [
    "**Considerations**\n",
    "- The computational expense of *nested* CV is substantially higher than *flat* CV.\n",
    "- [Nested cross-validation when selecting classifiers is overzealous for most practical applications](https://www.sciencedirect.com/science/article/pii/S0957417421006540)\n",
    "    - tested with 12 algorithms on 115 real-life binary datasets\n",
    "    - conclusion: *using the less computationally costly flat CV procedure will generally result in the selection of an algorithm that is, for all practical purposes, of similar quality to that selected via nested CV, provided the learning algorithms have relatively few hyperparameters to be optimised.*"
   ]
  },
  {
   "cell_type": "markdown",
   "metadata": {},
   "source": [
    "# Further Reading\n",
    "- [Demonstration of multi-metric evaluation on cross_val_score and GridSearchCV](https://scikit-learn.org/stable/auto_examples/model_selection/plot_multi_metric_evaluation.html#demonstration-of-multi-metric-evaluation-on-cross-val-score-and-gridsearchcv)\n",
    "- [Searching for optimal parameters with successive halving](https://scikit-learn.org/stable/modules/grid_search.html#searching-for-optimal-parameters-with-successive-halving)"
   ]
  }
 ],
 "metadata": {
  "kernelspec": {
   "display_name": "Python 3 (ipykernel)",
   "language": "python",
   "name": "python3"
  },
  "language_info": {
   "codemirror_mode": {
    "name": "ipython",
    "version": 3
   },
   "file_extension": ".py",
   "mimetype": "text/x-python",
   "name": "python",
   "nbconvert_exporter": "python",
   "pygments_lexer": "ipython3",
   "version": "3.11.7"
  }
 },
 "nbformat": 4,
 "nbformat_minor": 4
}

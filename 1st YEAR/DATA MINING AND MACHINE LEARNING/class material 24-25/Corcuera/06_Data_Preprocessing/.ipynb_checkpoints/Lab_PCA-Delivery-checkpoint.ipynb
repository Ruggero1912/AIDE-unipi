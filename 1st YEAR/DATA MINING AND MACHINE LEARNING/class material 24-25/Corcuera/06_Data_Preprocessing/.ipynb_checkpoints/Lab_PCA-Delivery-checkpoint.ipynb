{
 "cells": [
  {
   "cell_type": "markdown",
   "id": "48cac15a",
   "metadata": {},
   "source": [
    "# TASK-1: PCA\n",
    "- use the sklearn utility to load the *wine dataset* (`sklearn.dataset.load_wine`)\n",
    "- apply PCA to reduce the dimensionality of the dataset and to enable its visualization\n",
    "- visualize the reduced dataset using a scatter plot, representing instances from different classes with different colors."
   ]
  }
 ],
 "metadata": {
  "kernelspec": {
   "display_name": "Python 3 (ipykernel)",
   "language": "python",
   "name": "python3"
  },
  "language_info": {
   "codemirror_mode": {
    "name": "ipython",
    "version": 3
   },
   "file_extension": ".py",
   "mimetype": "text/x-python",
   "name": "python",
   "nbconvert_exporter": "python",
   "pygments_lexer": "ipython3",
   "version": "3.11.5"
  }
 },
 "nbformat": 4,
 "nbformat_minor": 5
}

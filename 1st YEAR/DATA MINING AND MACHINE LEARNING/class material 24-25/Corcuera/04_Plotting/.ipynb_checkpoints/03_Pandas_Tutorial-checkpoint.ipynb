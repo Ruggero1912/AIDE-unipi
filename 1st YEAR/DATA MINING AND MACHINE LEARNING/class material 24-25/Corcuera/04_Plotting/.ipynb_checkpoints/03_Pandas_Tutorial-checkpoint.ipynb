{
 "cells": [
  {
   "cell_type": "markdown",
   "metadata": {},
   "source": [
    "# Table of Contents \n",
    "\n",
    "- **Series**\n",
    "- **DataFrame**\n",
    "    - Accessing a DataFrame\n",
    "    - Boolean Indexing\n",
    "    - Adding columns\n",
    "    - Deleting columns\n",
    "    - Importing Excel files as DataFrames\n",
    "    - Missing Data\n",
    "    - Writing and reading CSV files\n",
    "\n",
    "- **DataFrame Operations**\n",
    "    - Matrix operations\n",
    "    - Column operations\n",
    "\n",
    "- **Data Splitting**\n",
    "    - Grouping\n",
    "    \n",
    "- **Matplotlib: examples**\n",
    "    \n"
   ]
  },
  {
   "cell_type": "markdown",
   "metadata": {},
   "source": [
    "### The Data Mining Process \n",
    "\n",
    "Image from: \n",
    "\n",
    "    Usama M. Fayyad, Gregory Piatetsky-Shapiro, Padhraic Smyth, and Ramasamy Uthurusamy. \n",
    "    Advances in Knowledge Discovery and Data Mining. MIT Press, Menlo Park, CA, 1996\n",
    "\n",
    "![datamining](images/DataMiningProcess.PNG)\n"
   ]
  },
  {
   "cell_type": "markdown",
   "metadata": {},
   "source": [
    "**Pandas** is desgined to make **data pre-processing and data analysis fast and easy in Python**. Pandas adopts many coding idioms from NumPy, such as avoiding the `for` loops, but it is designed for working with heterogenous data represented in tabular format.\n",
    "\n",
    "To use Pandas, you need to import the `pandas` module, using for example:"
   ]
  },
  {
   "cell_type": "code",
   "execution_count": 1,
   "metadata": {
    "ExecuteTime": {
     "end_time": "2020-06-24T12:57:09.909716Z",
     "start_time": "2020-06-24T12:57:02.830486Z"
    }
   },
   "outputs": [],
   "source": [
    "import pandas as pd\n",
    "import numpy as np # we will also need numpy"
   ]
  },
  {
   "cell_type": "markdown",
   "metadata": {},
   "source": [
    "This import style is quite standard; all objects and functions the `pandas` package will now be invoked with the `pd.` prefix.\n"
   ]
  },
  {
   "cell_type": "markdown",
   "metadata": {},
   "source": [
    "NumPy (**Num**erical **Py**thon) is the fundamental package for scientific computing with Python. It contains, among other things:\n",
    "\n",
    "- a powerful N-dimensional array object\n",
    "- sophisticated functions that support broadcasting (i.e. it allows to perform arithmetic operations between arrays with different shape)\n",
    "- tools for integrating C/C++ and Fortran code\n",
    "- useful linear algebra, Fourier transform, and random number capabilities\n",
    "\n",
    "The core object of numpy is **ndarray**: N-dimensional Array. It represents a multidimensional, homogeneous array of fixed-size items."
   ]
  },
  {
   "cell_type": "code",
   "execution_count": 2,
   "metadata": {},
   "outputs": [
    {
     "data": {
      "text/plain": [
       "array([0. , 0.1, 0.2, 0.3, 0.4, 0.5, 0.6, 0.7, 0.8, 0.9])"
      ]
     },
     "execution_count": 2,
     "metadata": {},
     "output_type": "execute_result"
    }
   ],
   "source": [
    "# example of 1-dimensional array\n",
    "np.arange(0, 1, 0.1)"
   ]
  },
  {
   "cell_type": "code",
   "execution_count": 3,
   "metadata": {},
   "outputs": [
    {
     "data": {
      "text/plain": [
       "array([[0., 0., 0., 0., 0.],\n",
       "       [0., 0., 0., 0., 0.],\n",
       "       [0., 0., 0., 0., 0.]])"
      ]
     },
     "execution_count": 3,
     "metadata": {},
     "output_type": "execute_result"
    }
   ],
   "source": [
    "# example of 2-dimensional array\n",
    "my_ndarray = np.zeros((3,5))\n",
    "my_ndarray"
   ]
  },
  {
   "cell_type": "code",
   "execution_count": 4,
   "metadata": {},
   "outputs": [
    {
     "data": {
      "text/plain": [
       "array([1, 2, 3])"
      ]
     },
     "execution_count": 4,
     "metadata": {},
     "output_type": "execute_result"
    }
   ],
   "source": [
    "np.asarray([1,2,3])"
   ]
  },
  {
   "cell_type": "code",
   "execution_count": 5,
   "metadata": {
    "scrolled": true
   },
   "outputs": [
    {
     "name": "stdout",
     "output_type": "stream",
     "text": [
      "[[0. 0. 0. 0. 0.]\n",
      " [0. 0. 0. 0. 0.]\n",
      " [0. 0. 0. 0. 0.]]\n",
      "(3, 5)\n",
      "2\n",
      "15\n",
      "float64\n"
     ]
    }
   ],
   "source": [
    "print(my_ndarray)\n",
    "print(my_ndarray.shape)\n",
    "print(my_ndarray.ndim)\n",
    "print(my_ndarray.size)\n",
    "print(my_ndarray.dtype)"
   ]
  },
  {
   "cell_type": "markdown",
   "metadata": {},
   "source": [
    "\n",
    "Pandas has two main data structures, **Series** and **DataFrame**.\n"
   ]
  },
  {
   "cell_type": "markdown",
   "metadata": {},
   "source": [
    "# Series\n",
    "\n",
    "Series are the Pandas version of 1-D Numpy arrays. \n",
    "\n",
    "An instance of Series is a single dimension array-like object containing:\n",
    "- a *sequence of values*,\n",
    "- an array of *data labels*, namely its **index**.\n",
    "\n",
    "A Series can be created easily from a Python list:"
   ]
  },
  {
   "cell_type": "code",
   "execution_count": 6,
   "metadata": {
    "ExecuteTime": {
     "end_time": "2020-06-24T14:06:29.883282Z",
     "start_time": "2020-06-24T14:06:29.873731Z"
    },
    "scrolled": false
   },
   "outputs": [
    {
     "name": "stdout",
     "output_type": "stream",
     "text": [
      "0    4\n",
      "1    8\n",
      "2    1\n",
      "3    3\n",
      "dtype: int64\n"
     ]
    }
   ],
   "source": [
    "ts = pd.Series([4, 8, 1, 3])\n",
    "print(ts)"
   ]
  },
  {
   "cell_type": "markdown",
   "metadata": {},
   "source": [
    "The string representation of a Series display two columns: the first column represents the index array, the second column represents the values array. Since no index was specified, the default indexing consists of increasing integers starting from 0. "
   ]
  },
  {
   "cell_type": "markdown",
   "metadata": {},
   "source": [
    "The underlying structure can be recovered with the `values` attribute:"
   ]
  },
  {
   "cell_type": "code",
   "execution_count": 7,
   "metadata": {
    "ExecuteTime": {
     "end_time": "2020-06-24T14:06:30.975916Z",
     "start_time": "2020-06-24T14:06:30.966676Z"
    }
   },
   "outputs": [
    {
     "name": "stdout",
     "output_type": "stream",
     "text": [
      "[4 8 1 3]\n",
      "<class 'numpy.ndarray'>\n"
     ]
    }
   ],
   "source": [
    "print(ts.values)\n",
    "print(type(ts.values))"
   ]
  },
  {
   "cell_type": "markdown",
   "metadata": {},
   "source": [
    "To create a Series with its own index, you can write:"
   ]
  },
  {
   "cell_type": "code",
   "execution_count": 8,
   "metadata": {
    "ExecuteTime": {
     "end_time": "2020-06-24T13:10:32.009532Z",
     "start_time": "2020-06-24T13:10:31.999642Z"
    },
    "scrolled": true
   },
   "outputs": [
    {
     "name": "stdout",
     "output_type": "stream",
     "text": [
      "first     4\n",
      "second    8\n",
      "third     1\n",
      "fourth    3\n",
      "dtype: int64\n"
     ]
    }
   ],
   "source": [
    "ts = pd.Series([4, 8, 1, 3], index=['first', 'second', 'third', 'fourth'])\n",
    "print(ts)"
   ]
  },
  {
   "cell_type": "markdown",
   "metadata": {},
   "source": [
    "The labels in the index can be used to select values in the Series:"
   ]
  },
  {
   "cell_type": "code",
   "execution_count": 9,
   "metadata": {
    "ExecuteTime": {
     "end_time": "2020-06-24T13:13:05.940761Z",
     "start_time": "2020-06-24T13:13:05.922266Z"
    }
   },
   "outputs": [
    {
     "name": "stdout",
     "output_type": "stream",
     "text": [
      "4\n"
     ]
    }
   ],
   "source": [
    "print(ts['first'])\n"
   ]
  },
  {
   "cell_type": "code",
   "execution_count": 10,
   "metadata": {},
   "outputs": [
    {
     "name": "stdout",
     "output_type": "stream",
     "text": [
      "second    8\n",
      "fourth    3\n",
      "dtype: int64\n"
     ]
    }
   ],
   "source": [
    "print(ts[['second', 'fourth']])"
   ]
  },
  {
   "cell_type": "markdown",
   "metadata": {},
   "source": [
    "You can think about a Series as a kind of fixed-length, ordered Python's `dict`, mapping index values to data values. In fact, it is possible to create a Series directlty from a Python's `dict`:"
   ]
  },
  {
   "cell_type": "code",
   "execution_count": 11,
   "metadata": {
    "ExecuteTime": {
     "end_time": "2020-06-24T13:18:31.486140Z",
     "start_time": "2020-06-24T13:18:31.465527Z"
    }
   },
   "outputs": [
    {
     "name": "stdout",
     "output_type": "stream",
     "text": [
      "Pisa       80\n",
      "London    300\n",
      "Paris       1\n",
      "dtype: int64\n"
     ]
    }
   ],
   "source": [
    "my_dict = {'Pisa': 80, 'London': 300, 'Paris': 1}\n",
    "ts = pd.Series(my_dict)\n",
    "print(ts)"
   ]
  },
  {
   "cell_type": "markdown",
   "metadata": {},
   "source": [
    "Sorting a series:"
   ]
  },
  {
   "cell_type": "code",
   "execution_count": 12,
   "metadata": {},
   "outputs": [
    {
     "data": {
      "text/plain": [
       "Paris       1\n",
       "Pisa       80\n",
       "London    300\n",
       "dtype: int64"
      ]
     },
     "execution_count": 12,
     "metadata": {},
     "output_type": "execute_result"
    }
   ],
   "source": [
    "ts.sort_values()"
   ]
  },
  {
   "cell_type": "code",
   "execution_count": 13,
   "metadata": {},
   "outputs": [
    {
     "data": {
      "text/plain": [
       "Pisa       80\n",
       "London    300\n",
       "Paris       1\n",
       "dtype: int64"
      ]
     },
     "execution_count": 13,
     "metadata": {},
     "output_type": "execute_result"
    }
   ],
   "source": [
    "ts"
   ]
  },
  {
   "cell_type": "markdown",
   "metadata": {},
   "source": [
    "**Arithmetic operations** on Series are automatically aligned on the index labels:"
   ]
  },
  {
   "cell_type": "code",
   "execution_count": 14,
   "metadata": {},
   "outputs": [],
   "source": [
    "ts1 = pd.Series([4, 8, 1, 3], index=['first', 'second', 'third', 'fourth'])\n",
    "ts2 = pd.Series([4, 8, 1], index=['first', 'second', 'pisa'])"
   ]
  },
  {
   "cell_type": "code",
   "execution_count": 15,
   "metadata": {},
   "outputs": [
    {
     "data": {
      "text/plain": [
       "first     4\n",
       "second    8\n",
       "third     1\n",
       "fourth    3\n",
       "dtype: int64"
      ]
     },
     "execution_count": 15,
     "metadata": {},
     "output_type": "execute_result"
    }
   ],
   "source": [
    "ts1"
   ]
  },
  {
   "cell_type": "code",
   "execution_count": 16,
   "metadata": {},
   "outputs": [
    {
     "data": {
      "text/plain": [
       "first     4\n",
       "second    8\n",
       "pisa      1\n",
       "dtype: int64"
      ]
     },
     "execution_count": 16,
     "metadata": {},
     "output_type": "execute_result"
    }
   ],
   "source": [
    "ts2"
   ]
  },
  {
   "cell_type": "code",
   "execution_count": 17,
   "metadata": {
    "ExecuteTime": {
     "end_time": "2020-06-24T13:29:55.852232Z",
     "start_time": "2020-06-24T13:29:55.833699Z"
    },
    "scrolled": true
   },
   "outputs": [
    {
     "name": "stdout",
     "output_type": "stream",
     "text": [
      "first      8.0\n",
      "fourth     NaN\n",
      "pisa       NaN\n",
      "second    16.0\n",
      "third      NaN\n",
      "dtype: float64\n"
     ]
    }
   ],
   "source": [
    "ts_sum = ts1 + ts2\n",
    "print(ts_sum)"
   ]
  },
  {
   "cell_type": "markdown",
   "metadata": {},
   "source": [
    "Here two index values are correctly computed (corresponding to the label `first` and `second`). The two other index labels `third` and `fourth` in `ts1` are missing in `ts2`, as well as the `pisa` index label in `ts2`. Hence, for each of these index label, a `NaN` value (*not a number*) appears, which Pandas considers as a **missing value**.\n",
    "\n",
    "The `pd.isnull` (or `pd.isna`) and `pd.notnull` (or `pd.notna`) functions detects missing data. There are also corresponding **instance methods**."
   ]
  },
  {
   "cell_type": "code",
   "execution_count": 18,
   "metadata": {
    "ExecuteTime": {
     "end_time": "2020-06-24T13:31:20.930884Z",
     "start_time": "2020-06-24T13:31:20.911850Z"
    }
   },
   "outputs": [
    {
     "name": "stdout",
     "output_type": "stream",
     "text": [
      "first     False\n",
      "fourth     True\n",
      "pisa       True\n",
      "second    False\n",
      "third      True\n",
      "dtype: bool\n",
      "\n",
      "first     False\n",
      "fourth     True\n",
      "pisa       True\n",
      "second    False\n",
      "third      True\n",
      "dtype: bool\n"
     ]
    }
   ],
   "source": [
    "print(pd.isnull(ts_sum))\n",
    "print()\n",
    "print(ts_sum.isnull())"
   ]
  },
  {
   "cell_type": "code",
   "execution_count": 19,
   "metadata": {},
   "outputs": [
    {
     "name": "stdout",
     "output_type": "stream",
     "text": [
      "first      True\n",
      "fourth    False\n",
      "pisa      False\n",
      "second     True\n",
      "third     False\n",
      "dtype: bool\n",
      "\n",
      "first      True\n",
      "fourth    False\n",
      "pisa      False\n",
      "second     True\n",
      "third     False\n",
      "dtype: bool\n"
     ]
    }
   ],
   "source": [
    "print(pd.notnull(ts_sum))\n",
    "print()\n",
    "print(ts_sum.notnull())"
   ]
  },
  {
   "cell_type": "markdown",
   "metadata": {},
   "source": [
    "# DataFrame\n",
    "\n",
    "A DataFrame is a **rectangular table of data**. It contains an ordered list of columns. Every column can be of a different type. \n",
    "\n",
    "A DataFrame has both a *row index* and a *column index*. It can be thought as a *dictionary of Series* (one per column) all sharing the same index labels.\n",
    "\n",
    "There are many ways to construct a DataFrame: one of the most common is using a dictionary of Python's lists (or NumPy's arrays):"
   ]
  },
  {
   "cell_type": "code",
   "execution_count": 20,
   "metadata": {
    "ExecuteTime": {
     "end_time": "2020-06-24T13:46:58.794613Z",
     "start_time": "2020-06-24T13:46:58.779817Z"
    }
   },
   "outputs": [
    {
     "name": "stdout",
     "output_type": "stream",
     "text": [
      "            Brand  Price  Wheels\n",
      "0     Honda Civic  22000       4\n",
      "1  Toyota Corolla  25000       4\n",
      "2      Ford Focus  27000       4\n",
      "3         Audi A4  35000       4\n"
     ]
    }
   ],
   "source": [
    "cars = {'Brand': ['Honda Civic', 'Toyota Corolla', 'Ford Focus', 'Audi A4'],\n",
    "        'Price': [22000, 25000, 27000, 35000],\n",
    "        'Wheels': 4} # broadcast if possible\n",
    "\n",
    "df = pd.DataFrame(cars)\n",
    "print(df)"
   ]
  },
  {
   "cell_type": "markdown",
   "metadata": {},
   "source": [
    "The resulting DataFrame will receive its index automatically as with Series."
   ]
  },
  {
   "cell_type": "markdown",
   "metadata": {},
   "source": [
    "To pretty-print a DataFrame in a Jupyter notebooks, it is enough to write its name (or using the `head()` instance method for very long DataFrames):"
   ]
  },
  {
   "cell_type": "code",
   "execution_count": 21,
   "metadata": {},
   "outputs": [
    {
     "data": {
      "text/html": [
       "<div>\n",
       "<style scoped>\n",
       "    .dataframe tbody tr th:only-of-type {\n",
       "        vertical-align: middle;\n",
       "    }\n",
       "\n",
       "    .dataframe tbody tr th {\n",
       "        vertical-align: top;\n",
       "    }\n",
       "\n",
       "    .dataframe thead th {\n",
       "        text-align: right;\n",
       "    }\n",
       "</style>\n",
       "<table border=\"1\" class=\"dataframe\">\n",
       "  <thead>\n",
       "    <tr style=\"text-align: right;\">\n",
       "      <th></th>\n",
       "      <th>Brand</th>\n",
       "      <th>Price</th>\n",
       "      <th>Wheels</th>\n",
       "    </tr>\n",
       "  </thead>\n",
       "  <tbody>\n",
       "    <tr>\n",
       "      <th>0</th>\n",
       "      <td>Honda Civic</td>\n",
       "      <td>22000</td>\n",
       "      <td>4</td>\n",
       "    </tr>\n",
       "    <tr>\n",
       "      <th>1</th>\n",
       "      <td>Toyota Corolla</td>\n",
       "      <td>25000</td>\n",
       "      <td>4</td>\n",
       "    </tr>\n",
       "    <tr>\n",
       "      <th>2</th>\n",
       "      <td>Ford Focus</td>\n",
       "      <td>27000</td>\n",
       "      <td>4</td>\n",
       "    </tr>\n",
       "    <tr>\n",
       "      <th>3</th>\n",
       "      <td>Audi A4</td>\n",
       "      <td>35000</td>\n",
       "      <td>4</td>\n",
       "    </tr>\n",
       "  </tbody>\n",
       "</table>\n",
       "</div>"
      ],
      "text/plain": [
       "            Brand  Price  Wheels\n",
       "0     Honda Civic  22000       4\n",
       "1  Toyota Corolla  25000       4\n",
       "2      Ford Focus  27000       4\n",
       "3         Audi A4  35000       4"
      ]
     },
     "execution_count": 21,
     "metadata": {},
     "output_type": "execute_result"
    }
   ],
   "source": [
    "df"
   ]
  },
  {
   "cell_type": "code",
   "execution_count": 22,
   "metadata": {
    "ExecuteTime": {
     "end_time": "2020-06-24T13:48:19.586597Z",
     "start_time": "2020-06-24T13:48:19.564159Z"
    }
   },
   "outputs": [
    {
     "data": {
      "text/html": [
       "<div>\n",
       "<style scoped>\n",
       "    .dataframe tbody tr th:only-of-type {\n",
       "        vertical-align: middle;\n",
       "    }\n",
       "\n",
       "    .dataframe tbody tr th {\n",
       "        vertical-align: top;\n",
       "    }\n",
       "\n",
       "    .dataframe thead th {\n",
       "        text-align: right;\n",
       "    }\n",
       "</style>\n",
       "<table border=\"1\" class=\"dataframe\">\n",
       "  <thead>\n",
       "    <tr style=\"text-align: right;\">\n",
       "      <th></th>\n",
       "      <th>Brand</th>\n",
       "      <th>Price</th>\n",
       "      <th>Wheels</th>\n",
       "    </tr>\n",
       "  </thead>\n",
       "  <tbody>\n",
       "    <tr>\n",
       "      <th>0</th>\n",
       "      <td>Honda Civic</td>\n",
       "      <td>22000</td>\n",
       "      <td>4</td>\n",
       "    </tr>\n",
       "    <tr>\n",
       "      <th>1</th>\n",
       "      <td>Toyota Corolla</td>\n",
       "      <td>25000</td>\n",
       "      <td>4</td>\n",
       "    </tr>\n",
       "  </tbody>\n",
       "</table>\n",
       "</div>"
      ],
      "text/plain": [
       "            Brand  Price  Wheels\n",
       "0     Honda Civic  22000       4\n",
       "1  Toyota Corolla  25000       4"
      ]
     },
     "execution_count": 22,
     "metadata": {},
     "output_type": "execute_result"
    }
   ],
   "source": [
    "df.head(2)"
   ]
  },
  {
   "cell_type": "code",
   "execution_count": 23,
   "metadata": {},
   "outputs": [
    {
     "data": {
      "text/html": [
       "<div>\n",
       "<style scoped>\n",
       "    .dataframe tbody tr th:only-of-type {\n",
       "        vertical-align: middle;\n",
       "    }\n",
       "\n",
       "    .dataframe tbody tr th {\n",
       "        vertical-align: top;\n",
       "    }\n",
       "\n",
       "    .dataframe thead th {\n",
       "        text-align: right;\n",
       "    }\n",
       "</style>\n",
       "<table border=\"1\" class=\"dataframe\">\n",
       "  <thead>\n",
       "    <tr style=\"text-align: right;\">\n",
       "      <th></th>\n",
       "      <th>Brand</th>\n",
       "      <th>Price</th>\n",
       "      <th>Wheels</th>\n",
       "    </tr>\n",
       "  </thead>\n",
       "  <tbody>\n",
       "    <tr>\n",
       "      <th>2</th>\n",
       "      <td>Ford Focus</td>\n",
       "      <td>27000</td>\n",
       "      <td>4</td>\n",
       "    </tr>\n",
       "    <tr>\n",
       "      <th>3</th>\n",
       "      <td>Audi A4</td>\n",
       "      <td>35000</td>\n",
       "      <td>4</td>\n",
       "    </tr>\n",
       "  </tbody>\n",
       "</table>\n",
       "</div>"
      ],
      "text/plain": [
       "        Brand  Price  Wheels\n",
       "2  Ford Focus  27000       4\n",
       "3     Audi A4  35000       4"
      ]
     },
     "execution_count": 23,
     "metadata": {},
     "output_type": "execute_result"
    }
   ],
   "source": [
    "df.tail(2)\n"
   ]
  },
  {
   "cell_type": "markdown",
   "metadata": {},
   "source": [
    "A summary of the *numerical* data is provided by `describe`:"
   ]
  },
  {
   "cell_type": "code",
   "execution_count": 24,
   "metadata": {
    "scrolled": true
   },
   "outputs": [
    {
     "data": {
      "text/html": [
       "<div>\n",
       "<style scoped>\n",
       "    .dataframe tbody tr th:only-of-type {\n",
       "        vertical-align: middle;\n",
       "    }\n",
       "\n",
       "    .dataframe tbody tr th {\n",
       "        vertical-align: top;\n",
       "    }\n",
       "\n",
       "    .dataframe thead th {\n",
       "        text-align: right;\n",
       "    }\n",
       "</style>\n",
       "<table border=\"1\" class=\"dataframe\">\n",
       "  <thead>\n",
       "    <tr style=\"text-align: right;\">\n",
       "      <th></th>\n",
       "      <th>Price</th>\n",
       "      <th>Wheels</th>\n",
       "    </tr>\n",
       "  </thead>\n",
       "  <tbody>\n",
       "    <tr>\n",
       "      <th>count</th>\n",
       "      <td>4.000000</td>\n",
       "      <td>4.0</td>\n",
       "    </tr>\n",
       "    <tr>\n",
       "      <th>mean</th>\n",
       "      <td>27250.000000</td>\n",
       "      <td>4.0</td>\n",
       "    </tr>\n",
       "    <tr>\n",
       "      <th>std</th>\n",
       "      <td>5560.275773</td>\n",
       "      <td>0.0</td>\n",
       "    </tr>\n",
       "    <tr>\n",
       "      <th>min</th>\n",
       "      <td>22000.000000</td>\n",
       "      <td>4.0</td>\n",
       "    </tr>\n",
       "    <tr>\n",
       "      <th>25%</th>\n",
       "      <td>24250.000000</td>\n",
       "      <td>4.0</td>\n",
       "    </tr>\n",
       "    <tr>\n",
       "      <th>50%</th>\n",
       "      <td>26000.000000</td>\n",
       "      <td>4.0</td>\n",
       "    </tr>\n",
       "    <tr>\n",
       "      <th>75%</th>\n",
       "      <td>29000.000000</td>\n",
       "      <td>4.0</td>\n",
       "    </tr>\n",
       "    <tr>\n",
       "      <th>max</th>\n",
       "      <td>35000.000000</td>\n",
       "      <td>4.0</td>\n",
       "    </tr>\n",
       "  </tbody>\n",
       "</table>\n",
       "</div>"
      ],
      "text/plain": [
       "              Price  Wheels\n",
       "count      4.000000     4.0\n",
       "mean   27250.000000     4.0\n",
       "std     5560.275773     0.0\n",
       "min    22000.000000     4.0\n",
       "25%    24250.000000     4.0\n",
       "50%    26000.000000     4.0\n",
       "75%    29000.000000     4.0\n",
       "max    35000.000000     4.0"
      ]
     },
     "execution_count": 24,
     "metadata": {},
     "output_type": "execute_result"
    }
   ],
   "source": [
    "df.describe()"
   ]
  },
  {
   "cell_type": "markdown",
   "metadata": {},
   "source": [
    "If working with a large table, it might be useful to sometimes have a list of all the columns' names. This is given by the `keys()` methods:"
   ]
  },
  {
   "cell_type": "code",
   "execution_count": 25,
   "metadata": {
    "ExecuteTime": {
     "end_time": "2020-06-24T14:19:07.147448Z",
     "start_time": "2020-06-24T14:19:07.137275Z"
    },
    "scrolled": true
   },
   "outputs": [
    {
     "name": "stdout",
     "output_type": "stream",
     "text": [
      "Index(['Brand', 'Price', 'Wheels'], dtype='object')\n"
     ]
    }
   ],
   "source": [
    "print(df.keys())"
   ]
  },
  {
   "cell_type": "code",
   "execution_count": 26,
   "metadata": {},
   "outputs": [
    {
     "name": "stdout",
     "output_type": "stream",
     "text": [
      "Index(['Brand', 'Price', 'Wheels'], dtype='object')\n"
     ]
    }
   ],
   "source": [
    "print(df.columns)"
   ]
  },
  {
   "cell_type": "markdown",
   "metadata": {},
   "source": [
    "Many feature from the NumPy package can be directly used with Pandas DataFrames"
   ]
  },
  {
   "cell_type": "code",
   "execution_count": 27,
   "metadata": {
    "ExecuteTime": {
     "end_time": "2020-06-25T08:48:02.257248Z",
     "start_time": "2020-06-25T08:48:02.236802Z"
    }
   },
   "outputs": [
    {
     "name": "stdout",
     "output_type": "stream",
     "text": [
      "[['Honda Civic' 22000 4]\n",
      " ['Toyota Corolla' 25000 4]\n",
      " ['Ford Focus' 27000 4]\n",
      " ['Audi A4' 35000 4]]\n",
      "\n",
      "<class 'numpy.ndarray'>\n"
     ]
    }
   ],
   "source": [
    "print(df.values)\n",
    "print()\n",
    "print(type(df.values))"
   ]
  },
  {
   "cell_type": "code",
   "execution_count": 28,
   "metadata": {
    "ExecuteTime": {
     "end_time": "2020-06-25T08:48:03.529820Z",
     "start_time": "2020-06-25T08:48:03.499697Z"
    }
   },
   "outputs": [
    {
     "name": "stdout",
     "output_type": "stream",
     "text": [
      "(4, 3)\n"
     ]
    }
   ],
   "source": [
    "print(df.shape)"
   ]
  },
  {
   "cell_type": "markdown",
   "metadata": {},
   "source": [
    "Another common way to create a DataFrame is to use a *nested dict of dicts*:"
   ]
  },
  {
   "cell_type": "code",
   "execution_count": 29,
   "metadata": {
    "ExecuteTime": {
     "end_time": "2020-06-24T14:27:29.650782Z",
     "start_time": "2020-06-24T14:27:29.643762Z"
    }
   },
   "outputs": [],
   "source": [
    "population = {'Nevada': {2001: 2.4, 2002: 2.9},\n",
    "       'Ohio': {2000: 1.5, 2001: 1.7, 2002: 3.6}}"
   ]
  },
  {
   "cell_type": "markdown",
   "metadata": {},
   "source": [
    "If this nested dict is passed to the DataFrame, the **outer dict keys are interpreted as column labels**, and the **inner keys are interpreted as row labels**:"
   ]
  },
  {
   "cell_type": "code",
   "execution_count": 30,
   "metadata": {
    "ExecuteTime": {
     "end_time": "2020-06-24T14:28:37.554310Z",
     "start_time": "2020-06-24T14:28:37.535827Z"
    }
   },
   "outputs": [
    {
     "data": {
      "text/html": [
       "<div>\n",
       "<style scoped>\n",
       "    .dataframe tbody tr th:only-of-type {\n",
       "        vertical-align: middle;\n",
       "    }\n",
       "\n",
       "    .dataframe tbody tr th {\n",
       "        vertical-align: top;\n",
       "    }\n",
       "\n",
       "    .dataframe thead th {\n",
       "        text-align: right;\n",
       "    }\n",
       "</style>\n",
       "<table border=\"1\" class=\"dataframe\">\n",
       "  <thead>\n",
       "    <tr style=\"text-align: right;\">\n",
       "      <th></th>\n",
       "      <th>Nevada</th>\n",
       "      <th>Ohio</th>\n",
       "    </tr>\n",
       "  </thead>\n",
       "  <tbody>\n",
       "    <tr>\n",
       "      <th>2001</th>\n",
       "      <td>2.4</td>\n",
       "      <td>1.7</td>\n",
       "    </tr>\n",
       "    <tr>\n",
       "      <th>2002</th>\n",
       "      <td>2.9</td>\n",
       "      <td>3.6</td>\n",
       "    </tr>\n",
       "    <tr>\n",
       "      <th>2000</th>\n",
       "      <td>NaN</td>\n",
       "      <td>1.5</td>\n",
       "    </tr>\n",
       "  </tbody>\n",
       "</table>\n",
       "</div>"
      ],
      "text/plain": [
       "      Nevada  Ohio\n",
       "2001     2.4   1.7\n",
       "2002     2.9   3.6\n",
       "2000     NaN   1.5"
      ]
     },
     "execution_count": 30,
     "metadata": {},
     "output_type": "execute_result"
    }
   ],
   "source": [
    "df = pd.DataFrame(population)\n",
    "df"
   ]
  },
  {
   "cell_type": "markdown",
   "metadata": {},
   "source": [
    "Sorting a dataframe:"
   ]
  },
  {
   "cell_type": "code",
   "execution_count": 31,
   "metadata": {},
   "outputs": [
    {
     "data": {
      "text/html": [
       "<div>\n",
       "<style scoped>\n",
       "    .dataframe tbody tr th:only-of-type {\n",
       "        vertical-align: middle;\n",
       "    }\n",
       "\n",
       "    .dataframe tbody tr th {\n",
       "        vertical-align: top;\n",
       "    }\n",
       "\n",
       "    .dataframe thead th {\n",
       "        text-align: right;\n",
       "    }\n",
       "</style>\n",
       "<table border=\"1\" class=\"dataframe\">\n",
       "  <thead>\n",
       "    <tr style=\"text-align: right;\">\n",
       "      <th></th>\n",
       "      <th>Nevada</th>\n",
       "      <th>Ohio</th>\n",
       "    </tr>\n",
       "  </thead>\n",
       "  <tbody>\n",
       "    <tr>\n",
       "      <th>2002</th>\n",
       "      <td>2.9</td>\n",
       "      <td>3.6</td>\n",
       "    </tr>\n",
       "    <tr>\n",
       "      <th>2001</th>\n",
       "      <td>2.4</td>\n",
       "      <td>1.7</td>\n",
       "    </tr>\n",
       "    <tr>\n",
       "      <th>2000</th>\n",
       "      <td>NaN</td>\n",
       "      <td>1.5</td>\n",
       "    </tr>\n",
       "  </tbody>\n",
       "</table>\n",
       "</div>"
      ],
      "text/plain": [
       "      Nevada  Ohio\n",
       "2002     2.9   3.6\n",
       "2001     2.4   1.7\n",
       "2000     NaN   1.5"
      ]
     },
     "execution_count": 31,
     "metadata": {},
     "output_type": "execute_result"
    }
   ],
   "source": [
    "df.sort_values(by = 'Ohio',ascending = False) # by can be a string or list of strings\n"
   ]
  },
  {
   "cell_type": "markdown",
   "metadata": {},
   "source": [
    "## Accessing a DataFrame"
   ]
  },
  {
   "cell_type": "markdown",
   "metadata": {},
   "source": [
    "Let's create a brand new DataFrame:"
   ]
  },
  {
   "cell_type": "code",
   "execution_count": 32,
   "metadata": {
    "ExecuteTime": {
     "end_time": "2020-06-24T14:10:32.187393Z",
     "start_time": "2020-06-24T14:10:32.162017Z"
    }
   },
   "outputs": [
    {
     "data": {
      "text/html": [
       "<div>\n",
       "<style scoped>\n",
       "    .dataframe tbody tr th:only-of-type {\n",
       "        vertical-align: middle;\n",
       "    }\n",
       "\n",
       "    .dataframe tbody tr th {\n",
       "        vertical-align: top;\n",
       "    }\n",
       "\n",
       "    .dataframe thead th {\n",
       "        text-align: right;\n",
       "    }\n",
       "</style>\n",
       "<table border=\"1\" class=\"dataframe\">\n",
       "  <thead>\n",
       "    <tr style=\"text-align: right;\">\n",
       "      <th></th>\n",
       "      <th>birth</th>\n",
       "      <th>death</th>\n",
       "      <th>city</th>\n",
       "    </tr>\n",
       "  </thead>\n",
       "  <tbody>\n",
       "    <tr>\n",
       "      <th>Mahler</th>\n",
       "      <td>1860</td>\n",
       "      <td>1911</td>\n",
       "      <td>Kaliste</td>\n",
       "    </tr>\n",
       "    <tr>\n",
       "      <th>Beethoven</th>\n",
       "      <td>1770</td>\n",
       "      <td>1827</td>\n",
       "      <td>Bonn</td>\n",
       "    </tr>\n",
       "    <tr>\n",
       "      <th>Puccini</th>\n",
       "      <td>1858</td>\n",
       "      <td>1924</td>\n",
       "      <td>Lucques</td>\n",
       "    </tr>\n",
       "    <tr>\n",
       "      <th>Shostakovich</th>\n",
       "      <td>1906</td>\n",
       "      <td>1975</td>\n",
       "      <td>Saint-Petersburg</td>\n",
       "    </tr>\n",
       "  </tbody>\n",
       "</table>\n",
       "</div>"
      ],
      "text/plain": [
       "              birth  death              city\n",
       "Mahler         1860   1911           Kaliste\n",
       "Beethoven      1770   1827              Bonn\n",
       "Puccini        1858   1924           Lucques\n",
       "Shostakovich   1906   1975  Saint-Petersburg"
      ]
     },
     "execution_count": 32,
     "metadata": {},
     "output_type": "execute_result"
    }
   ],
   "source": [
    "dict_of_list = {'birth': [1860, 1770, 1858, 1906], \n",
    "                'death':[1911, 1827, 1924, 1975], \n",
    "                'city':['Kaliste', 'Bonn', 'Lucques', 'Saint-Petersburg']}\n",
    "composers_df = pd.DataFrame(dict_of_list, index=['Mahler', 'Beethoven', 'Puccini', 'Shostakovich'])\n",
    "composers_df"
   ]
  },
  {
   "cell_type": "markdown",
   "metadata": {},
   "source": [
    "There are multiple ways of accessing values or series of values in a Dataframe. Unlike in Series, a simple bracket gives access to a column and not an index, for example:"
   ]
  },
  {
   "cell_type": "code",
   "execution_count": 33,
   "metadata": {
    "ExecuteTime": {
     "end_time": "2020-06-24T14:11:08.259631Z",
     "start_time": "2020-06-24T14:11:08.241496Z"
    }
   },
   "outputs": [
    {
     "data": {
      "text/plain": [
       "Mahler                   Kaliste\n",
       "Beethoven                   Bonn\n",
       "Puccini                  Lucques\n",
       "Shostakovich    Saint-Petersburg\n",
       "Name: city, dtype: object"
      ]
     },
     "execution_count": 33,
     "metadata": {},
     "output_type": "execute_result"
    }
   ],
   "source": [
    "composers_df['city']"
   ]
  },
  {
   "cell_type": "markdown",
   "metadata": {},
   "source": [
    "returns a Series. Alternatively one can also use the attributes syntax and access columns by using:"
   ]
  },
  {
   "cell_type": "code",
   "execution_count": 34,
   "metadata": {
    "ExecuteTime": {
     "end_time": "2020-06-24T14:11:37.321286Z",
     "start_time": "2020-06-24T14:11:37.309806Z"
    }
   },
   "outputs": [
    {
     "data": {
      "text/plain": [
       "Mahler                   Kaliste\n",
       "Beethoven                   Bonn\n",
       "Puccini                  Lucques\n",
       "Shostakovich    Saint-Petersburg\n",
       "Name: city, dtype: object"
      ]
     },
     "execution_count": 34,
     "metadata": {},
     "output_type": "execute_result"
    }
   ],
   "source": [
    "composers_df.city"
   ]
  },
  {
   "cell_type": "markdown",
   "metadata": {},
   "source": [
    "The attributes syntax has some limitations, so in case something does not work as expected, revert to the brackets notation.\n",
    "\n",
    "When specifiying multiple columns, a DataFrame is returned:"
   ]
  },
  {
   "cell_type": "code",
   "execution_count": 35,
   "metadata": {
    "ExecuteTime": {
     "end_time": "2020-06-24T14:12:06.558313Z",
     "start_time": "2020-06-24T14:12:06.540600Z"
    }
   },
   "outputs": [
    {
     "data": {
      "text/html": [
       "<div>\n",
       "<style scoped>\n",
       "    .dataframe tbody tr th:only-of-type {\n",
       "        vertical-align: middle;\n",
       "    }\n",
       "\n",
       "    .dataframe tbody tr th {\n",
       "        vertical-align: top;\n",
       "    }\n",
       "\n",
       "    .dataframe thead th {\n",
       "        text-align: right;\n",
       "    }\n",
       "</style>\n",
       "<table border=\"1\" class=\"dataframe\">\n",
       "  <thead>\n",
       "    <tr style=\"text-align: right;\">\n",
       "      <th></th>\n",
       "      <th>city</th>\n",
       "      <th>birth</th>\n",
       "    </tr>\n",
       "  </thead>\n",
       "  <tbody>\n",
       "    <tr>\n",
       "      <th>Mahler</th>\n",
       "      <td>Kaliste</td>\n",
       "      <td>1860</td>\n",
       "    </tr>\n",
       "    <tr>\n",
       "      <th>Beethoven</th>\n",
       "      <td>Bonn</td>\n",
       "      <td>1770</td>\n",
       "    </tr>\n",
       "    <tr>\n",
       "      <th>Puccini</th>\n",
       "      <td>Lucques</td>\n",
       "      <td>1858</td>\n",
       "    </tr>\n",
       "    <tr>\n",
       "      <th>Shostakovich</th>\n",
       "      <td>Saint-Petersburg</td>\n",
       "      <td>1906</td>\n",
       "    </tr>\n",
       "  </tbody>\n",
       "</table>\n",
       "</div>"
      ],
      "text/plain": [
       "                          city  birth\n",
       "Mahler                 Kaliste   1860\n",
       "Beethoven                 Bonn   1770\n",
       "Puccini                Lucques   1858\n",
       "Shostakovich  Saint-Petersburg   1906"
      ]
     },
     "execution_count": 35,
     "metadata": {},
     "output_type": "execute_result"
    }
   ],
   "source": [
    "composers_df[['city', 'birth']]"
   ]
  },
  {
   "cell_type": "markdown",
   "metadata": {},
   "source": [
    "Standard indexing operators (just slices the rows)"
   ]
  },
  {
   "cell_type": "code",
   "execution_count": 36,
   "metadata": {},
   "outputs": [
    {
     "data": {
      "text/html": [
       "<div>\n",
       "<style scoped>\n",
       "    .dataframe tbody tr th:only-of-type {\n",
       "        vertical-align: middle;\n",
       "    }\n",
       "\n",
       "    .dataframe tbody tr th {\n",
       "        vertical-align: top;\n",
       "    }\n",
       "\n",
       "    .dataframe thead th {\n",
       "        text-align: right;\n",
       "    }\n",
       "</style>\n",
       "<table border=\"1\" class=\"dataframe\">\n",
       "  <thead>\n",
       "    <tr style=\"text-align: right;\">\n",
       "      <th></th>\n",
       "      <th>birth</th>\n",
       "      <th>death</th>\n",
       "      <th>city</th>\n",
       "    </tr>\n",
       "  </thead>\n",
       "  <tbody>\n",
       "    <tr>\n",
       "      <th>Mahler</th>\n",
       "      <td>1860</td>\n",
       "      <td>1911</td>\n",
       "      <td>Kaliste</td>\n",
       "    </tr>\n",
       "    <tr>\n",
       "      <th>Beethoven</th>\n",
       "      <td>1770</td>\n",
       "      <td>1827</td>\n",
       "      <td>Bonn</td>\n",
       "    </tr>\n",
       "  </tbody>\n",
       "</table>\n",
       "</div>"
      ],
      "text/plain": [
       "           birth  death     city\n",
       "Mahler      1860   1911  Kaliste\n",
       "Beethoven   1770   1827     Bonn"
      ]
     },
     "execution_count": 36,
     "metadata": {},
     "output_type": "execute_result"
    }
   ],
   "source": [
    "composers_df[0:2]"
   ]
  },
  {
   "cell_type": "markdown",
   "metadata": {},
   "source": [
    "from the [docs](https://pandas.pydata.org/pandas-docs/stable/user_guide/indexing.html):\n",
    ">The Python and NumPy indexing operators [$\\cdot$] and attribute operator  `.` provide quick and easy access to pandas data structures across a wide range of use cases. This makes interactive work intuitive, as there’s little new to learn if you already know how to deal with Python dictionaries and NumPy arrays. However, since the type of the data to be accessed isn’t known in advance, directly using standard operators has some optimization limits. For production code, we recommended that you take advantage of the **optimized pandas data access methods**.\n",
    "\n"
   ]
  },
  {
   "cell_type": "markdown",
   "metadata": {},
   "source": [
    "Pandas optimized data access methods:  `iloc` and `loc`.\n",
    "\n",
    "**Remember that `loc` and `iloc` are attributes, not methods, hence they use brackets `[]` and not parenthesis `()`.**\n",
    "\n",
    "The `loc` attribute allows to recover elements by using the index labels, while the `iloc` attribute can be used to recover the regular indexing:"
   ]
  },
  {
   "cell_type": "code",
   "execution_count": 37,
   "metadata": {
    "ExecuteTime": {
     "end_time": "2020-06-24T14:16:36.990555Z",
     "start_time": "2020-06-24T14:16:36.979449Z"
    }
   },
   "outputs": [
    {
     "data": {
      "text/html": [
       "<div>\n",
       "<style scoped>\n",
       "    .dataframe tbody tr th:only-of-type {\n",
       "        vertical-align: middle;\n",
       "    }\n",
       "\n",
       "    .dataframe tbody tr th {\n",
       "        vertical-align: top;\n",
       "    }\n",
       "\n",
       "    .dataframe thead th {\n",
       "        text-align: right;\n",
       "    }\n",
       "</style>\n",
       "<table border=\"1\" class=\"dataframe\">\n",
       "  <thead>\n",
       "    <tr style=\"text-align: right;\">\n",
       "      <th></th>\n",
       "      <th>birth</th>\n",
       "      <th>death</th>\n",
       "      <th>city</th>\n",
       "    </tr>\n",
       "  </thead>\n",
       "  <tbody>\n",
       "    <tr>\n",
       "      <th>Mahler</th>\n",
       "      <td>1860</td>\n",
       "      <td>1911</td>\n",
       "      <td>Kaliste</td>\n",
       "    </tr>\n",
       "    <tr>\n",
       "      <th>Beethoven</th>\n",
       "      <td>1770</td>\n",
       "      <td>1827</td>\n",
       "      <td>Bonn</td>\n",
       "    </tr>\n",
       "  </tbody>\n",
       "</table>\n",
       "</div>"
      ],
      "text/plain": [
       "           birth  death     city\n",
       "Mahler      1860   1911  Kaliste\n",
       "Beethoven   1770   1827     Bonn"
      ]
     },
     "metadata": {},
     "output_type": "display_data"
    },
    {
     "name": "stdout",
     "output_type": "stream",
     "text": [
      "\n"
     ]
    },
    {
     "data": {
      "text/plain": [
       "Mahler       1911\n",
       "Beethoven    1827\n",
       "Name: death, dtype: int64"
      ]
     },
     "metadata": {},
     "output_type": "display_data"
    },
    {
     "name": "stdout",
     "output_type": "stream",
     "text": [
      "\n",
      "1827\n"
     ]
    }
   ],
   "source": [
    "display(composers_df.iloc[0:2,:])\n",
    "print()\n",
    "display(composers_df.loc[['Mahler','Beethoven'], 'death'])\n",
    "print()\n",
    "print(composers_df.loc['Beethoven', 'death'])"
   ]
  },
  {
   "cell_type": "markdown",
   "metadata": {},
   "source": [
    "## Boolean Indexing\n",
    "\n",
    "Just like with Numpy, it is possible to subselect parts of a Dataframe using boolean indexing.\n",
    "A logical Series can be used as an index to select elements in the Dataframe."
   ]
  },
  {
   "cell_type": "code",
   "execution_count": 38,
   "metadata": {},
   "outputs": [
    {
     "data": {
      "text/html": [
       "<div>\n",
       "<style scoped>\n",
       "    .dataframe tbody tr th:only-of-type {\n",
       "        vertical-align: middle;\n",
       "    }\n",
       "\n",
       "    .dataframe tbody tr th {\n",
       "        vertical-align: top;\n",
       "    }\n",
       "\n",
       "    .dataframe thead th {\n",
       "        text-align: right;\n",
       "    }\n",
       "</style>\n",
       "<table border=\"1\" class=\"dataframe\">\n",
       "  <thead>\n",
       "    <tr style=\"text-align: right;\">\n",
       "      <th></th>\n",
       "      <th>birth</th>\n",
       "      <th>death</th>\n",
       "      <th>city</th>\n",
       "    </tr>\n",
       "  </thead>\n",
       "  <tbody>\n",
       "    <tr>\n",
       "      <th>Mahler</th>\n",
       "      <td>1860</td>\n",
       "      <td>1911</td>\n",
       "      <td>Kaliste</td>\n",
       "    </tr>\n",
       "    <tr>\n",
       "      <th>Beethoven</th>\n",
       "      <td>1770</td>\n",
       "      <td>1827</td>\n",
       "      <td>Bonn</td>\n",
       "    </tr>\n",
       "    <tr>\n",
       "      <th>Puccini</th>\n",
       "      <td>1858</td>\n",
       "      <td>1924</td>\n",
       "      <td>Lucques</td>\n",
       "    </tr>\n",
       "    <tr>\n",
       "      <th>Shostakovich</th>\n",
       "      <td>1906</td>\n",
       "      <td>1975</td>\n",
       "      <td>Saint-Petersburg</td>\n",
       "    </tr>\n",
       "  </tbody>\n",
       "</table>\n",
       "</div>"
      ],
      "text/plain": [
       "              birth  death              city\n",
       "Mahler         1860   1911           Kaliste\n",
       "Beethoven      1770   1827              Bonn\n",
       "Puccini        1858   1924           Lucques\n",
       "Shostakovich   1906   1975  Saint-Petersburg"
      ]
     },
     "execution_count": 38,
     "metadata": {},
     "output_type": "execute_result"
    }
   ],
   "source": [
    "composers_df"
   ]
  },
  {
   "cell_type": "code",
   "execution_count": 39,
   "metadata": {
    "scrolled": true
   },
   "outputs": [
    {
     "name": "stdout",
     "output_type": "stream",
     "text": [
      "Mahler           True\n",
      "Beethoven       False\n",
      "Puccini          True\n",
      "Shostakovich     True\n",
      "Name: death, dtype: bool\n"
     ]
    },
    {
     "data": {
      "text/html": [
       "<div>\n",
       "<style scoped>\n",
       "    .dataframe tbody tr th:only-of-type {\n",
       "        vertical-align: middle;\n",
       "    }\n",
       "\n",
       "    .dataframe tbody tr th {\n",
       "        vertical-align: top;\n",
       "    }\n",
       "\n",
       "    .dataframe thead th {\n",
       "        text-align: right;\n",
       "    }\n",
       "</style>\n",
       "<table border=\"1\" class=\"dataframe\">\n",
       "  <thead>\n",
       "    <tr style=\"text-align: right;\">\n",
       "      <th></th>\n",
       "      <th>birth</th>\n",
       "      <th>death</th>\n",
       "      <th>city</th>\n",
       "    </tr>\n",
       "  </thead>\n",
       "  <tbody>\n",
       "    <tr>\n",
       "      <th>Mahler</th>\n",
       "      <td>1860</td>\n",
       "      <td>1911</td>\n",
       "      <td>Kaliste</td>\n",
       "    </tr>\n",
       "    <tr>\n",
       "      <th>Puccini</th>\n",
       "      <td>1858</td>\n",
       "      <td>1924</td>\n",
       "      <td>Lucques</td>\n",
       "    </tr>\n",
       "    <tr>\n",
       "      <th>Shostakovich</th>\n",
       "      <td>1906</td>\n",
       "      <td>1975</td>\n",
       "      <td>Saint-Petersburg</td>\n",
       "    </tr>\n",
       "  </tbody>\n",
       "</table>\n",
       "</div>"
      ],
      "text/plain": [
       "              birth  death              city\n",
       "Mahler         1860   1911           Kaliste\n",
       "Puccini        1858   1924           Lucques\n",
       "Shostakovich   1906   1975  Saint-Petersburg"
      ]
     },
     "execution_count": 39,
     "metadata": {},
     "output_type": "execute_result"
    }
   ],
   "source": [
    "mask = composers_df['death'] > 1859\n",
    "print(mask)\n",
    "composers_df[mask]"
   ]
  },
  {
   "cell_type": "markdown",
   "metadata": {},
   "source": [
    "More compact:"
   ]
  },
  {
   "cell_type": "code",
   "execution_count": 40,
   "metadata": {},
   "outputs": [
    {
     "data": {
      "text/html": [
       "<div>\n",
       "<style scoped>\n",
       "    .dataframe tbody tr th:only-of-type {\n",
       "        vertical-align: middle;\n",
       "    }\n",
       "\n",
       "    .dataframe tbody tr th {\n",
       "        vertical-align: top;\n",
       "    }\n",
       "\n",
       "    .dataframe thead th {\n",
       "        text-align: right;\n",
       "    }\n",
       "</style>\n",
       "<table border=\"1\" class=\"dataframe\">\n",
       "  <thead>\n",
       "    <tr style=\"text-align: right;\">\n",
       "      <th></th>\n",
       "      <th>birth</th>\n",
       "      <th>death</th>\n",
       "      <th>city</th>\n",
       "    </tr>\n",
       "  </thead>\n",
       "  <tbody>\n",
       "    <tr>\n",
       "      <th>Shostakovich</th>\n",
       "      <td>1906</td>\n",
       "      <td>1975</td>\n",
       "      <td>Saint-Petersburg</td>\n",
       "    </tr>\n",
       "  </tbody>\n",
       "</table>\n",
       "</div>"
      ],
      "text/plain": [
       "              birth  death              city\n",
       "Shostakovich   1906   1975  Saint-Petersburg"
      ]
     },
     "execution_count": 40,
     "metadata": {},
     "output_type": "execute_result"
    }
   ],
   "source": [
    "composers_df[composers_df['birth'] > 1900]"
   ]
  },
  {
   "cell_type": "markdown",
   "metadata": {},
   "source": [
    "## Adding columns"
   ]
  },
  {
   "cell_type": "markdown",
   "metadata": {},
   "source": [
    "It is very simple to add a column to a Dataframe:"
   ]
  },
  {
   "cell_type": "code",
   "execution_count": 41,
   "metadata": {
    "ExecuteTime": {
     "end_time": "2020-06-24T14:25:29.267510Z",
     "start_time": "2020-06-24T14:25:29.253143Z"
    }
   },
   "outputs": [
    {
     "data": {
      "text/html": [
       "<div>\n",
       "<style scoped>\n",
       "    .dataframe tbody tr th:only-of-type {\n",
       "        vertical-align: middle;\n",
       "    }\n",
       "\n",
       "    .dataframe tbody tr th {\n",
       "        vertical-align: top;\n",
       "    }\n",
       "\n",
       "    .dataframe thead th {\n",
       "        text-align: right;\n",
       "    }\n",
       "</style>\n",
       "<table border=\"1\" class=\"dataframe\">\n",
       "  <thead>\n",
       "    <tr style=\"text-align: right;\">\n",
       "      <th></th>\n",
       "      <th>birth</th>\n",
       "      <th>death</th>\n",
       "      <th>city</th>\n",
       "      <th>country</th>\n",
       "    </tr>\n",
       "  </thead>\n",
       "  <tbody>\n",
       "    <tr>\n",
       "      <th>Mahler</th>\n",
       "      <td>1860</td>\n",
       "      <td>1911</td>\n",
       "      <td>Kaliste</td>\n",
       "      <td>???</td>\n",
       "    </tr>\n",
       "    <tr>\n",
       "      <th>Beethoven</th>\n",
       "      <td>1770</td>\n",
       "      <td>1827</td>\n",
       "      <td>Bonn</td>\n",
       "      <td>???</td>\n",
       "    </tr>\n",
       "    <tr>\n",
       "      <th>Puccini</th>\n",
       "      <td>1858</td>\n",
       "      <td>1924</td>\n",
       "      <td>Lucques</td>\n",
       "      <td>???</td>\n",
       "    </tr>\n",
       "    <tr>\n",
       "      <th>Shostakovich</th>\n",
       "      <td>1906</td>\n",
       "      <td>1975</td>\n",
       "      <td>Saint-Petersburg</td>\n",
       "      <td>???</td>\n",
       "    </tr>\n",
       "  </tbody>\n",
       "</table>\n",
       "</div>"
      ],
      "text/plain": [
       "              birth  death              city country\n",
       "Mahler         1860   1911           Kaliste     ???\n",
       "Beethoven      1770   1827              Bonn     ???\n",
       "Puccini        1858   1924           Lucques     ???\n",
       "Shostakovich   1906   1975  Saint-Petersburg     ???"
      ]
     },
     "execution_count": 41,
     "metadata": {},
     "output_type": "execute_result"
    }
   ],
   "source": [
    "composers_df['country'] = '???'\n",
    "composers_df"
   ]
  },
  {
   "cell_type": "markdown",
   "metadata": {},
   "source": [
    "Alternatively, an existing list can be used:"
   ]
  },
  {
   "cell_type": "code",
   "execution_count": 42,
   "metadata": {
    "ExecuteTime": {
     "end_time": "2020-06-24T14:25:30.513553Z",
     "start_time": "2020-06-24T14:25:30.500562Z"
    }
   },
   "outputs": [
    {
     "data": {
      "text/html": [
       "<div>\n",
       "<style scoped>\n",
       "    .dataframe tbody tr th:only-of-type {\n",
       "        vertical-align: middle;\n",
       "    }\n",
       "\n",
       "    .dataframe tbody tr th {\n",
       "        vertical-align: top;\n",
       "    }\n",
       "\n",
       "    .dataframe thead th {\n",
       "        text-align: right;\n",
       "    }\n",
       "</style>\n",
       "<table border=\"1\" class=\"dataframe\">\n",
       "  <thead>\n",
       "    <tr style=\"text-align: right;\">\n",
       "      <th></th>\n",
       "      <th>birth</th>\n",
       "      <th>death</th>\n",
       "      <th>city</th>\n",
       "      <th>country</th>\n",
       "      <th>country2</th>\n",
       "    </tr>\n",
       "  </thead>\n",
       "  <tbody>\n",
       "    <tr>\n",
       "      <th>Mahler</th>\n",
       "      <td>1860</td>\n",
       "      <td>1911</td>\n",
       "      <td>Kaliste</td>\n",
       "      <td>???</td>\n",
       "      <td>Austria</td>\n",
       "    </tr>\n",
       "    <tr>\n",
       "      <th>Beethoven</th>\n",
       "      <td>1770</td>\n",
       "      <td>1827</td>\n",
       "      <td>Bonn</td>\n",
       "      <td>???</td>\n",
       "      <td>Germany</td>\n",
       "    </tr>\n",
       "    <tr>\n",
       "      <th>Puccini</th>\n",
       "      <td>1858</td>\n",
       "      <td>1924</td>\n",
       "      <td>Lucques</td>\n",
       "      <td>???</td>\n",
       "      <td>Italy</td>\n",
       "    </tr>\n",
       "    <tr>\n",
       "      <th>Shostakovich</th>\n",
       "      <td>1906</td>\n",
       "      <td>1975</td>\n",
       "      <td>Saint-Petersburg</td>\n",
       "      <td>???</td>\n",
       "      <td>Russia</td>\n",
       "    </tr>\n",
       "  </tbody>\n",
       "</table>\n",
       "</div>"
      ],
      "text/plain": [
       "              birth  death              city country country2\n",
       "Mahler         1860   1911           Kaliste     ???  Austria\n",
       "Beethoven      1770   1827              Bonn     ???  Germany\n",
       "Puccini        1858   1924           Lucques     ???    Italy\n",
       "Shostakovich   1906   1975  Saint-Petersburg     ???   Russia"
      ]
     },
     "execution_count": 42,
     "metadata": {},
     "output_type": "execute_result"
    }
   ],
   "source": [
    "composers_df['country2'] = ['Austria','Germany','Italy','Russia']\n",
    "composers_df"
   ]
  },
  {
   "cell_type": "markdown",
   "metadata": {},
   "source": [
    "## Deleting columns and rows"
   ]
  },
  {
   "cell_type": "code",
   "execution_count": 43,
   "metadata": {},
   "outputs": [
    {
     "data": {
      "text/html": [
       "<div>\n",
       "<style scoped>\n",
       "    .dataframe tbody tr th:only-of-type {\n",
       "        vertical-align: middle;\n",
       "    }\n",
       "\n",
       "    .dataframe tbody tr th {\n",
       "        vertical-align: top;\n",
       "    }\n",
       "\n",
       "    .dataframe thead th {\n",
       "        text-align: right;\n",
       "    }\n",
       "</style>\n",
       "<table border=\"1\" class=\"dataframe\">\n",
       "  <thead>\n",
       "    <tr style=\"text-align: right;\">\n",
       "      <th></th>\n",
       "      <th>birth</th>\n",
       "      <th>death</th>\n",
       "      <th>city</th>\n",
       "      <th>country</th>\n",
       "      <th>country2</th>\n",
       "    </tr>\n",
       "  </thead>\n",
       "  <tbody>\n",
       "    <tr>\n",
       "      <th>Mahler</th>\n",
       "      <td>1860</td>\n",
       "      <td>1911</td>\n",
       "      <td>Kaliste</td>\n",
       "      <td>???</td>\n",
       "      <td>Austria</td>\n",
       "    </tr>\n",
       "    <tr>\n",
       "      <th>Beethoven</th>\n",
       "      <td>1770</td>\n",
       "      <td>1827</td>\n",
       "      <td>Bonn</td>\n",
       "      <td>???</td>\n",
       "      <td>Germany</td>\n",
       "    </tr>\n",
       "    <tr>\n",
       "      <th>Puccini</th>\n",
       "      <td>1858</td>\n",
       "      <td>1924</td>\n",
       "      <td>Lucques</td>\n",
       "      <td>???</td>\n",
       "      <td>Italy</td>\n",
       "    </tr>\n",
       "    <tr>\n",
       "      <th>Shostakovich</th>\n",
       "      <td>1906</td>\n",
       "      <td>1975</td>\n",
       "      <td>Saint-Petersburg</td>\n",
       "      <td>???</td>\n",
       "      <td>Russia</td>\n",
       "    </tr>\n",
       "  </tbody>\n",
       "</table>\n",
       "</div>"
      ],
      "text/plain": [
       "              birth  death              city country country2\n",
       "Mahler         1860   1911           Kaliste     ???  Austria\n",
       "Beethoven      1770   1827              Bonn     ???  Germany\n",
       "Puccini        1858   1924           Lucques     ???    Italy\n",
       "Shostakovich   1906   1975  Saint-Petersburg     ???   Russia"
      ]
     },
     "execution_count": 43,
     "metadata": {},
     "output_type": "execute_result"
    }
   ],
   "source": [
    "composers_df"
   ]
  },
  {
   "cell_type": "code",
   "execution_count": 44,
   "metadata": {},
   "outputs": [
    {
     "data": {
      "text/html": [
       "<div>\n",
       "<style scoped>\n",
       "    .dataframe tbody tr th:only-of-type {\n",
       "        vertical-align: middle;\n",
       "    }\n",
       "\n",
       "    .dataframe tbody tr th {\n",
       "        vertical-align: top;\n",
       "    }\n",
       "\n",
       "    .dataframe thead th {\n",
       "        text-align: right;\n",
       "    }\n",
       "</style>\n",
       "<table border=\"1\" class=\"dataframe\">\n",
       "  <thead>\n",
       "    <tr style=\"text-align: right;\">\n",
       "      <th></th>\n",
       "      <th>birth</th>\n",
       "      <th>death</th>\n",
       "      <th>city</th>\n",
       "      <th>country</th>\n",
       "    </tr>\n",
       "  </thead>\n",
       "  <tbody>\n",
       "    <tr>\n",
       "      <th>Mahler</th>\n",
       "      <td>1860</td>\n",
       "      <td>1911</td>\n",
       "      <td>Kaliste</td>\n",
       "      <td>???</td>\n",
       "    </tr>\n",
       "    <tr>\n",
       "      <th>Beethoven</th>\n",
       "      <td>1770</td>\n",
       "      <td>1827</td>\n",
       "      <td>Bonn</td>\n",
       "      <td>???</td>\n",
       "    </tr>\n",
       "    <tr>\n",
       "      <th>Puccini</th>\n",
       "      <td>1858</td>\n",
       "      <td>1924</td>\n",
       "      <td>Lucques</td>\n",
       "      <td>???</td>\n",
       "    </tr>\n",
       "    <tr>\n",
       "      <th>Shostakovich</th>\n",
       "      <td>1906</td>\n",
       "      <td>1975</td>\n",
       "      <td>Saint-Petersburg</td>\n",
       "      <td>???</td>\n",
       "    </tr>\n",
       "  </tbody>\n",
       "</table>\n",
       "</div>"
      ],
      "text/plain": [
       "              birth  death              city country\n",
       "Mahler         1860   1911           Kaliste     ???\n",
       "Beethoven      1770   1827              Bonn     ???\n",
       "Puccini        1858   1924           Lucques     ???\n",
       "Shostakovich   1906   1975  Saint-Petersburg     ???"
      ]
     },
     "execution_count": 44,
     "metadata": {},
     "output_type": "execute_result"
    }
   ],
   "source": [
    "composers_df.drop(columns = ['country2'])"
   ]
  },
  {
   "cell_type": "code",
   "execution_count": 45,
   "metadata": {},
   "outputs": [
    {
     "data": {
      "text/html": [
       "<div>\n",
       "<style scoped>\n",
       "    .dataframe tbody tr th:only-of-type {\n",
       "        vertical-align: middle;\n",
       "    }\n",
       "\n",
       "    .dataframe tbody tr th {\n",
       "        vertical-align: top;\n",
       "    }\n",
       "\n",
       "    .dataframe thead th {\n",
       "        text-align: right;\n",
       "    }\n",
       "</style>\n",
       "<table border=\"1\" class=\"dataframe\">\n",
       "  <thead>\n",
       "    <tr style=\"text-align: right;\">\n",
       "      <th></th>\n",
       "      <th>birth</th>\n",
       "      <th>death</th>\n",
       "      <th>city</th>\n",
       "      <th>country</th>\n",
       "      <th>country2</th>\n",
       "    </tr>\n",
       "  </thead>\n",
       "  <tbody>\n",
       "    <tr>\n",
       "      <th>Mahler</th>\n",
       "      <td>1860</td>\n",
       "      <td>1911</td>\n",
       "      <td>Kaliste</td>\n",
       "      <td>???</td>\n",
       "      <td>Austria</td>\n",
       "    </tr>\n",
       "    <tr>\n",
       "      <th>Beethoven</th>\n",
       "      <td>1770</td>\n",
       "      <td>1827</td>\n",
       "      <td>Bonn</td>\n",
       "      <td>???</td>\n",
       "      <td>Germany</td>\n",
       "    </tr>\n",
       "    <tr>\n",
       "      <th>Shostakovich</th>\n",
       "      <td>1906</td>\n",
       "      <td>1975</td>\n",
       "      <td>Saint-Petersburg</td>\n",
       "      <td>???</td>\n",
       "      <td>Russia</td>\n",
       "    </tr>\n",
       "  </tbody>\n",
       "</table>\n",
       "</div>"
      ],
      "text/plain": [
       "              birth  death              city country country2\n",
       "Mahler         1860   1911           Kaliste     ???  Austria\n",
       "Beethoven      1770   1827              Bonn     ???  Germany\n",
       "Shostakovich   1906   1975  Saint-Petersburg     ???   Russia"
      ]
     },
     "execution_count": 45,
     "metadata": {},
     "output_type": "execute_result"
    }
   ],
   "source": [
    "composers_df.drop('Puccini')"
   ]
  },
  {
   "cell_type": "code",
   "execution_count": 46,
   "metadata": {},
   "outputs": [
    {
     "data": {
      "text/html": [
       "<div>\n",
       "<style scoped>\n",
       "    .dataframe tbody tr th:only-of-type {\n",
       "        vertical-align: middle;\n",
       "    }\n",
       "\n",
       "    .dataframe tbody tr th {\n",
       "        vertical-align: top;\n",
       "    }\n",
       "\n",
       "    .dataframe thead th {\n",
       "        text-align: right;\n",
       "    }\n",
       "</style>\n",
       "<table border=\"1\" class=\"dataframe\">\n",
       "  <thead>\n",
       "    <tr style=\"text-align: right;\">\n",
       "      <th></th>\n",
       "      <th>birth</th>\n",
       "      <th>death</th>\n",
       "      <th>city</th>\n",
       "      <th>country</th>\n",
       "      <th>country2</th>\n",
       "    </tr>\n",
       "  </thead>\n",
       "  <tbody>\n",
       "    <tr>\n",
       "      <th>Mahler</th>\n",
       "      <td>1860</td>\n",
       "      <td>1911</td>\n",
       "      <td>Kaliste</td>\n",
       "      <td>???</td>\n",
       "      <td>Austria</td>\n",
       "    </tr>\n",
       "    <tr>\n",
       "      <th>Beethoven</th>\n",
       "      <td>1770</td>\n",
       "      <td>1827</td>\n",
       "      <td>Bonn</td>\n",
       "      <td>???</td>\n",
       "      <td>Germany</td>\n",
       "    </tr>\n",
       "    <tr>\n",
       "      <th>Puccini</th>\n",
       "      <td>1858</td>\n",
       "      <td>1924</td>\n",
       "      <td>Lucques</td>\n",
       "      <td>???</td>\n",
       "      <td>Italy</td>\n",
       "    </tr>\n",
       "    <tr>\n",
       "      <th>Shostakovich</th>\n",
       "      <td>1906</td>\n",
       "      <td>1975</td>\n",
       "      <td>Saint-Petersburg</td>\n",
       "      <td>???</td>\n",
       "      <td>Russia</td>\n",
       "    </tr>\n",
       "  </tbody>\n",
       "</table>\n",
       "</div>"
      ],
      "text/plain": [
       "              birth  death              city country country2\n",
       "Mahler         1860   1911           Kaliste     ???  Austria\n",
       "Beethoven      1770   1827              Bonn     ???  Germany\n",
       "Puccini        1858   1924           Lucques     ???    Italy\n",
       "Shostakovich   1906   1975  Saint-Petersburg     ???   Russia"
      ]
     },
     "execution_count": 46,
     "metadata": {},
     "output_type": "execute_result"
    }
   ],
   "source": [
    "composers_df #note that, by default, drop does not operate in-place"
   ]
  },
  {
   "cell_type": "code",
   "execution_count": 47,
   "metadata": {},
   "outputs": [],
   "source": [
    "composers_df.drop?"
   ]
  },
  {
   "cell_type": "markdown",
   "metadata": {},
   "source": [
    "## Importing Excel files as DataFrames"
   ]
  },
  {
   "cell_type": "markdown",
   "metadata": {},
   "source": [
    "Another very common way of \"creating\" a Pandas Dataframe is by importing a table from another format like CSV (comma separated values) or Excel. You may need to also install `xlrd` package:"
   ]
  },
  {
   "cell_type": "code",
   "execution_count": 52,
   "metadata": {
    "scrolled": true
   },
   "outputs": [],
   "source": [
    "# !pip install xlrd"
   ]
  },
  {
   "cell_type": "markdown",
   "metadata": {},
   "source": [
    "An Excel table is provided in the [composers.xlsx](data/composers.xlsx) file and can be read with the `pd.read_excel` function."
   ]
  },
  {
   "cell_type": "code",
   "execution_count": 53,
   "metadata": {
    "ExecuteTime": {
     "end_time": "2020-06-24T14:46:22.696917Z",
     "start_time": "2020-06-24T14:46:22.651062Z"
    }
   },
   "outputs": [
    {
     "data": {
      "text/html": [
       "<div>\n",
       "<style scoped>\n",
       "    .dataframe tbody tr th:only-of-type {\n",
       "        vertical-align: middle;\n",
       "    }\n",
       "\n",
       "    .dataframe tbody tr th {\n",
       "        vertical-align: top;\n",
       "    }\n",
       "\n",
       "    .dataframe thead th {\n",
       "        text-align: right;\n",
       "    }\n",
       "</style>\n",
       "<table border=\"1\" class=\"dataframe\">\n",
       "  <thead>\n",
       "    <tr style=\"text-align: right;\">\n",
       "      <th></th>\n",
       "      <th>composer</th>\n",
       "      <th>birth</th>\n",
       "      <th>death</th>\n",
       "      <th>city</th>\n",
       "    </tr>\n",
       "  </thead>\n",
       "  <tbody>\n",
       "    <tr>\n",
       "      <th>0</th>\n",
       "      <td>Mahler</td>\n",
       "      <td>1860</td>\n",
       "      <td>1911</td>\n",
       "      <td>Kaliste</td>\n",
       "    </tr>\n",
       "    <tr>\n",
       "      <th>1</th>\n",
       "      <td>Beethoven</td>\n",
       "      <td>1770</td>\n",
       "      <td>1827</td>\n",
       "      <td>Bonn</td>\n",
       "    </tr>\n",
       "    <tr>\n",
       "      <th>2</th>\n",
       "      <td>Puccini</td>\n",
       "      <td>1858</td>\n",
       "      <td>1924</td>\n",
       "      <td>Lucques</td>\n",
       "    </tr>\n",
       "    <tr>\n",
       "      <th>3</th>\n",
       "      <td>Shostakovich</td>\n",
       "      <td>1906</td>\n",
       "      <td>1975</td>\n",
       "      <td>Saint-Petersburg</td>\n",
       "    </tr>\n",
       "  </tbody>\n",
       "</table>\n",
       "</div>"
      ],
      "text/plain": [
       "       composer  birth  death              city\n",
       "0        Mahler   1860   1911           Kaliste\n",
       "1     Beethoven   1770   1827              Bonn\n",
       "2       Puccini   1858   1924           Lucques\n",
       "3  Shostakovich   1906   1975  Saint-Petersburg"
      ]
     },
     "execution_count": 53,
     "metadata": {},
     "output_type": "execute_result"
    }
   ],
   "source": [
    "composers_df = pd.read_excel('dataset/composers.xlsx')\n",
    "composers_df"
   ]
  },
  {
   "cell_type": "markdown",
   "metadata": {},
   "source": [
    "The reader automatically recognized the heaers of the file. However it created a new index. If needed we can specify which column to use as header:"
   ]
  },
  {
   "cell_type": "code",
   "execution_count": 54,
   "metadata": {},
   "outputs": [],
   "source": [
    "pd.read_excel?"
   ]
  },
  {
   "cell_type": "code",
   "execution_count": 55,
   "metadata": {
    "ExecuteTime": {
     "end_time": "2020-06-24T14:47:02.153798Z",
     "start_time": "2020-06-24T14:47:02.086758Z"
    }
   },
   "outputs": [
    {
     "data": {
      "text/html": [
       "<div>\n",
       "<style scoped>\n",
       "    .dataframe tbody tr th:only-of-type {\n",
       "        vertical-align: middle;\n",
       "    }\n",
       "\n",
       "    .dataframe tbody tr th {\n",
       "        vertical-align: top;\n",
       "    }\n",
       "\n",
       "    .dataframe thead th {\n",
       "        text-align: right;\n",
       "    }\n",
       "</style>\n",
       "<table border=\"1\" class=\"dataframe\">\n",
       "  <thead>\n",
       "    <tr style=\"text-align: right;\">\n",
       "      <th></th>\n",
       "      <th>birth</th>\n",
       "      <th>death</th>\n",
       "      <th>city</th>\n",
       "    </tr>\n",
       "    <tr>\n",
       "      <th>composer</th>\n",
       "      <th></th>\n",
       "      <th></th>\n",
       "      <th></th>\n",
       "    </tr>\n",
       "  </thead>\n",
       "  <tbody>\n",
       "    <tr>\n",
       "      <th>Mahler</th>\n",
       "      <td>1860</td>\n",
       "      <td>1911</td>\n",
       "      <td>Kaliste</td>\n",
       "    </tr>\n",
       "    <tr>\n",
       "      <th>Beethoven</th>\n",
       "      <td>1770</td>\n",
       "      <td>1827</td>\n",
       "      <td>Bonn</td>\n",
       "    </tr>\n",
       "    <tr>\n",
       "      <th>Puccini</th>\n",
       "      <td>1858</td>\n",
       "      <td>1924</td>\n",
       "      <td>Lucques</td>\n",
       "    </tr>\n",
       "    <tr>\n",
       "      <th>Shostakovich</th>\n",
       "      <td>1906</td>\n",
       "      <td>1975</td>\n",
       "      <td>Saint-Petersburg</td>\n",
       "    </tr>\n",
       "  </tbody>\n",
       "</table>\n",
       "</div>"
      ],
      "text/plain": [
       "              birth  death              city\n",
       "composer                                    \n",
       "Mahler         1860   1911           Kaliste\n",
       "Beethoven      1770   1827              Bonn\n",
       "Puccini        1858   1924           Lucques\n",
       "Shostakovich   1906   1975  Saint-Petersburg"
      ]
     },
     "execution_count": 55,
     "metadata": {},
     "output_type": "execute_result"
    }
   ],
   "source": [
    "composers_df = pd.read_excel('dataset/composers.xlsx', index_col = 'composer')\n",
    "composers_df"
   ]
  },
  {
   "cell_type": "markdown",
   "metadata": {},
   "source": [
    "If we open the file in Excel, we see that it is composed of more than one sheet. Clearly, when not specifying anything, the reader only reads the first sheet. However we can specify a sheet:"
   ]
  },
  {
   "cell_type": "code",
   "execution_count": 56,
   "metadata": {
    "ExecuteTime": {
     "end_time": "2020-06-24T14:51:26.183305Z",
     "start_time": "2020-06-24T14:51:26.141838Z"
    }
   },
   "outputs": [
    {
     "data": {
      "text/html": [
       "<div>\n",
       "<style scoped>\n",
       "    .dataframe tbody tr th:only-of-type {\n",
       "        vertical-align: middle;\n",
       "    }\n",
       "\n",
       "    .dataframe tbody tr th {\n",
       "        vertical-align: top;\n",
       "    }\n",
       "\n",
       "    .dataframe thead th {\n",
       "        text-align: right;\n",
       "    }\n",
       "</style>\n",
       "<table border=\"1\" class=\"dataframe\">\n",
       "  <thead>\n",
       "    <tr style=\"text-align: right;\">\n",
       "      <th></th>\n",
       "      <th>birth</th>\n",
       "      <th>death</th>\n",
       "      <th>city</th>\n",
       "    </tr>\n",
       "    <tr>\n",
       "      <th>composer</th>\n",
       "      <th></th>\n",
       "      <th></th>\n",
       "      <th></th>\n",
       "    </tr>\n",
       "  </thead>\n",
       "  <tbody>\n",
       "    <tr>\n",
       "      <th>Mahler</th>\n",
       "      <td>1860</td>\n",
       "      <td>1911</td>\n",
       "      <td>Kaliste</td>\n",
       "    </tr>\n",
       "    <tr>\n",
       "      <th>Beethoven</th>\n",
       "      <td>1770</td>\n",
       "      <td>1827</td>\n",
       "      <td>Bonn</td>\n",
       "    </tr>\n",
       "    <tr>\n",
       "      <th>Puccini</th>\n",
       "      <td>1858</td>\n",
       "      <td>1924</td>\n",
       "      <td>Lucques</td>\n",
       "    </tr>\n",
       "    <tr>\n",
       "      <th>Shostakovich</th>\n",
       "      <td>1906</td>\n",
       "      <td>1975</td>\n",
       "      <td>Saint-Petersburg</td>\n",
       "    </tr>\n",
       "    <tr>\n",
       "      <th>Sibelius</th>\n",
       "      <td>unknown</td>\n",
       "      <td>unknown</td>\n",
       "      <td>unknown</td>\n",
       "    </tr>\n",
       "    <tr>\n",
       "      <th>Haydn</th>\n",
       "      <td>NaN</td>\n",
       "      <td>NaN</td>\n",
       "      <td>Rohrau</td>\n",
       "    </tr>\n",
       "  </tbody>\n",
       "</table>\n",
       "</div>"
      ],
      "text/plain": [
       "                birth    death              city\n",
       "composer                                        \n",
       "Mahler           1860     1911           Kaliste\n",
       "Beethoven        1770     1827              Bonn\n",
       "Puccini          1858     1924           Lucques\n",
       "Shostakovich     1906     1975  Saint-Petersburg\n",
       "Sibelius      unknown  unknown           unknown\n",
       "Haydn             NaN      NaN            Rohrau"
      ]
     },
     "execution_count": 56,
     "metadata": {},
     "output_type": "execute_result"
    }
   ],
   "source": [
    "composers_df = pd.read_excel('dataset/composers.xlsx', index_col = 'composer', sheet_name='Sheet2')\n",
    "composers_df"
   ]
  },
  {
   "cell_type": "code",
   "execution_count": 57,
   "metadata": {},
   "outputs": [
    {
     "data": {
      "text/html": [
       "<div>\n",
       "<style scoped>\n",
       "    .dataframe tbody tr th:only-of-type {\n",
       "        vertical-align: middle;\n",
       "    }\n",
       "\n",
       "    .dataframe tbody tr th {\n",
       "        vertical-align: top;\n",
       "    }\n",
       "\n",
       "    .dataframe thead th {\n",
       "        text-align: right;\n",
       "    }\n",
       "</style>\n",
       "<table border=\"1\" class=\"dataframe\">\n",
       "  <thead>\n",
       "    <tr style=\"text-align: right;\">\n",
       "      <th></th>\n",
       "      <th>birth</th>\n",
       "      <th>death</th>\n",
       "      <th>city</th>\n",
       "    </tr>\n",
       "  </thead>\n",
       "  <tbody>\n",
       "    <tr>\n",
       "      <th>count</th>\n",
       "      <td>5</td>\n",
       "      <td>5</td>\n",
       "      <td>6</td>\n",
       "    </tr>\n",
       "    <tr>\n",
       "      <th>unique</th>\n",
       "      <td>5</td>\n",
       "      <td>5</td>\n",
       "      <td>6</td>\n",
       "    </tr>\n",
       "    <tr>\n",
       "      <th>top</th>\n",
       "      <td>1860</td>\n",
       "      <td>1911</td>\n",
       "      <td>Kaliste</td>\n",
       "    </tr>\n",
       "    <tr>\n",
       "      <th>freq</th>\n",
       "      <td>1</td>\n",
       "      <td>1</td>\n",
       "      <td>1</td>\n",
       "    </tr>\n",
       "  </tbody>\n",
       "</table>\n",
       "</div>"
      ],
      "text/plain": [
       "        birth  death     city\n",
       "count       5      5        6\n",
       "unique      5      5        6\n",
       "top      1860   1911  Kaliste\n",
       "freq        1      1        1"
      ]
     },
     "execution_count": 57,
     "metadata": {},
     "output_type": "execute_result"
    }
   ],
   "source": [
    "composers_df.describe()"
   ]
  },
  {
   "cell_type": "markdown",
   "metadata": {},
   "source": [
    "As you can see above, some information is missing. Some missing values are marked as \"`unknown`\" while other are `NaN`. `NaN` is the standard symbol for unknown/missing values and is understood by Pandas while \"`unknown`\" is just seen as text. \n",
    "This is impractical as now we have columns with a mix of numbers and text which will make later computations difficult. What we would like to do is to replace all \"irrelevant\" values with the standard `NaN` symbol that says \"*no information*\".\n",
    "For this we can use the `na_values` argument to specify what should be a `NaN`:"
   ]
  },
  {
   "cell_type": "code",
   "execution_count": 58,
   "metadata": {},
   "outputs": [
    {
     "name": "stdout",
     "output_type": "stream",
     "text": [
      "<class 'pandas.core.frame.DataFrame'>\n",
      "Index: 6 entries, Mahler to Haydn\n",
      "Data columns (total 3 columns):\n",
      " #   Column  Non-Null Count  Dtype \n",
      "---  ------  --------------  ----- \n",
      " 0   birth   5 non-null      object\n",
      " 1   death   5 non-null      object\n",
      " 2   city    6 non-null      object\n",
      "dtypes: object(3)\n",
      "memory usage: 192.0+ bytes\n"
     ]
    }
   ],
   "source": [
    "composers_df.info()"
   ]
  },
  {
   "cell_type": "code",
   "execution_count": 59,
   "metadata": {
    "ExecuteTime": {
     "end_time": "2020-06-24T14:58:59.168497Z",
     "start_time": "2020-06-24T14:58:59.139749Z"
    },
    "scrolled": true
   },
   "outputs": [
    {
     "data": {
      "text/html": [
       "<div>\n",
       "<style scoped>\n",
       "    .dataframe tbody tr th:only-of-type {\n",
       "        vertical-align: middle;\n",
       "    }\n",
       "\n",
       "    .dataframe tbody tr th {\n",
       "        vertical-align: top;\n",
       "    }\n",
       "\n",
       "    .dataframe thead th {\n",
       "        text-align: right;\n",
       "    }\n",
       "</style>\n",
       "<table border=\"1\" class=\"dataframe\">\n",
       "  <thead>\n",
       "    <tr style=\"text-align: right;\">\n",
       "      <th></th>\n",
       "      <th>birth</th>\n",
       "      <th>death</th>\n",
       "      <th>city</th>\n",
       "    </tr>\n",
       "    <tr>\n",
       "      <th>composer</th>\n",
       "      <th></th>\n",
       "      <th></th>\n",
       "      <th></th>\n",
       "    </tr>\n",
       "  </thead>\n",
       "  <tbody>\n",
       "    <tr>\n",
       "      <th>Mahler</th>\n",
       "      <td>1860.0</td>\n",
       "      <td>1911.0</td>\n",
       "      <td>Kaliste</td>\n",
       "    </tr>\n",
       "    <tr>\n",
       "      <th>Beethoven</th>\n",
       "      <td>1770.0</td>\n",
       "      <td>1827.0</td>\n",
       "      <td>Bonn</td>\n",
       "    </tr>\n",
       "    <tr>\n",
       "      <th>Puccini</th>\n",
       "      <td>1858.0</td>\n",
       "      <td>1924.0</td>\n",
       "      <td>Lucques</td>\n",
       "    </tr>\n",
       "    <tr>\n",
       "      <th>Shostakovich</th>\n",
       "      <td>1906.0</td>\n",
       "      <td>1975.0</td>\n",
       "      <td>Saint-Petersburg</td>\n",
       "    </tr>\n",
       "    <tr>\n",
       "      <th>Sibelius</th>\n",
       "      <td>NaN</td>\n",
       "      <td>NaN</td>\n",
       "      <td>NaN</td>\n",
       "    </tr>\n",
       "    <tr>\n",
       "      <th>Haydn</th>\n",
       "      <td>NaN</td>\n",
       "      <td>NaN</td>\n",
       "      <td>Rohrau</td>\n",
       "    </tr>\n",
       "  </tbody>\n",
       "</table>\n",
       "</div>"
      ],
      "text/plain": [
       "               birth   death              city\n",
       "composer                                      \n",
       "Mahler        1860.0  1911.0           Kaliste\n",
       "Beethoven     1770.0  1827.0              Bonn\n",
       "Puccini       1858.0  1924.0           Lucques\n",
       "Shostakovich  1906.0  1975.0  Saint-Petersburg\n",
       "Sibelius         NaN     NaN               NaN\n",
       "Haydn            NaN     NaN            Rohrau"
      ]
     },
     "execution_count": 59,
     "metadata": {},
     "output_type": "execute_result"
    }
   ],
   "source": [
    "composers_df = pd.read_excel('dataset/composers.xlsx', index_col = 'composer', sheet_name='Sheet2', \n",
    "                             na_values=['unknown'])\n",
    "composers_df"
   ]
  },
  {
   "cell_type": "markdown",
   "metadata": {},
   "source": [
    "## Missing data\n",
    "pandas primarily uses the value `np.nan` to represent missing data. It is by default not included in computations."
   ]
  },
  {
   "cell_type": "code",
   "execution_count": 60,
   "metadata": {},
   "outputs": [],
   "source": [
    "df_new = composers_df.copy()"
   ]
  },
  {
   "cell_type": "code",
   "execution_count": 61,
   "metadata": {},
   "outputs": [
    {
     "data": {
      "text/html": [
       "<div>\n",
       "<style scoped>\n",
       "    .dataframe tbody tr th:only-of-type {\n",
       "        vertical-align: middle;\n",
       "    }\n",
       "\n",
       "    .dataframe tbody tr th {\n",
       "        vertical-align: top;\n",
       "    }\n",
       "\n",
       "    .dataframe thead th {\n",
       "        text-align: right;\n",
       "    }\n",
       "</style>\n",
       "<table border=\"1\" class=\"dataframe\">\n",
       "  <thead>\n",
       "    <tr style=\"text-align: right;\">\n",
       "      <th></th>\n",
       "      <th>birth</th>\n",
       "      <th>death</th>\n",
       "      <th>city</th>\n",
       "    </tr>\n",
       "    <tr>\n",
       "      <th>composer</th>\n",
       "      <th></th>\n",
       "      <th></th>\n",
       "      <th></th>\n",
       "    </tr>\n",
       "  </thead>\n",
       "  <tbody>\n",
       "    <tr>\n",
       "      <th>Mahler</th>\n",
       "      <td>1860.0</td>\n",
       "      <td>1911.0</td>\n",
       "      <td>Kaliste</td>\n",
       "    </tr>\n",
       "    <tr>\n",
       "      <th>Beethoven</th>\n",
       "      <td>1770.0</td>\n",
       "      <td>1827.0</td>\n",
       "      <td>Bonn</td>\n",
       "    </tr>\n",
       "    <tr>\n",
       "      <th>Puccini</th>\n",
       "      <td>1858.0</td>\n",
       "      <td>1924.0</td>\n",
       "      <td>Lucques</td>\n",
       "    </tr>\n",
       "    <tr>\n",
       "      <th>Shostakovich</th>\n",
       "      <td>1906.0</td>\n",
       "      <td>1975.0</td>\n",
       "      <td>Saint-Petersburg</td>\n",
       "    </tr>\n",
       "    <tr>\n",
       "      <th>Sibelius</th>\n",
       "      <td>NaN</td>\n",
       "      <td>NaN</td>\n",
       "      <td>NaN</td>\n",
       "    </tr>\n",
       "    <tr>\n",
       "      <th>Haydn</th>\n",
       "      <td>NaN</td>\n",
       "      <td>NaN</td>\n",
       "      <td>Rohrau</td>\n",
       "    </tr>\n",
       "  </tbody>\n",
       "</table>\n",
       "</div>"
      ],
      "text/plain": [
       "               birth   death              city\n",
       "composer                                      \n",
       "Mahler        1860.0  1911.0           Kaliste\n",
       "Beethoven     1770.0  1827.0              Bonn\n",
       "Puccini       1858.0  1924.0           Lucques\n",
       "Shostakovich  1906.0  1975.0  Saint-Petersburg\n",
       "Sibelius         NaN     NaN               NaN\n",
       "Haydn            NaN     NaN            Rohrau"
      ]
     },
     "execution_count": 61,
     "metadata": {},
     "output_type": "execute_result"
    }
   ],
   "source": [
    "df_new"
   ]
  },
  {
   "cell_type": "markdown",
   "metadata": {},
   "source": [
    "Get a boolean mask where values are `np.nan` (as for Series)."
   ]
  },
  {
   "cell_type": "code",
   "execution_count": 62,
   "metadata": {
    "scrolled": true
   },
   "outputs": [
    {
     "data": {
      "text/html": [
       "<div>\n",
       "<style scoped>\n",
       "    .dataframe tbody tr th:only-of-type {\n",
       "        vertical-align: middle;\n",
       "    }\n",
       "\n",
       "    .dataframe tbody tr th {\n",
       "        vertical-align: top;\n",
       "    }\n",
       "\n",
       "    .dataframe thead th {\n",
       "        text-align: right;\n",
       "    }\n",
       "</style>\n",
       "<table border=\"1\" class=\"dataframe\">\n",
       "  <thead>\n",
       "    <tr style=\"text-align: right;\">\n",
       "      <th></th>\n",
       "      <th>birth</th>\n",
       "      <th>death</th>\n",
       "      <th>city</th>\n",
       "    </tr>\n",
       "    <tr>\n",
       "      <th>composer</th>\n",
       "      <th></th>\n",
       "      <th></th>\n",
       "      <th></th>\n",
       "    </tr>\n",
       "  </thead>\n",
       "  <tbody>\n",
       "    <tr>\n",
       "      <th>Mahler</th>\n",
       "      <td>False</td>\n",
       "      <td>False</td>\n",
       "      <td>False</td>\n",
       "    </tr>\n",
       "    <tr>\n",
       "      <th>Beethoven</th>\n",
       "      <td>False</td>\n",
       "      <td>False</td>\n",
       "      <td>False</td>\n",
       "    </tr>\n",
       "    <tr>\n",
       "      <th>Puccini</th>\n",
       "      <td>False</td>\n",
       "      <td>False</td>\n",
       "      <td>False</td>\n",
       "    </tr>\n",
       "    <tr>\n",
       "      <th>Shostakovich</th>\n",
       "      <td>False</td>\n",
       "      <td>False</td>\n",
       "      <td>False</td>\n",
       "    </tr>\n",
       "    <tr>\n",
       "      <th>Sibelius</th>\n",
       "      <td>True</td>\n",
       "      <td>True</td>\n",
       "      <td>True</td>\n",
       "    </tr>\n",
       "    <tr>\n",
       "      <th>Haydn</th>\n",
       "      <td>True</td>\n",
       "      <td>True</td>\n",
       "      <td>False</td>\n",
       "    </tr>\n",
       "  </tbody>\n",
       "</table>\n",
       "</div>"
      ],
      "text/plain": [
       "              birth  death   city\n",
       "composer                         \n",
       "Mahler        False  False  False\n",
       "Beethoven     False  False  False\n",
       "Puccini       False  False  False\n",
       "Shostakovich  False  False  False\n",
       "Sibelius       True   True   True\n",
       "Haydn          True   True  False"
      ]
     },
     "execution_count": 62,
     "metadata": {},
     "output_type": "execute_result"
    }
   ],
   "source": [
    "pd.isna(df_new)"
   ]
  },
  {
   "cell_type": "code",
   "execution_count": 63,
   "metadata": {},
   "outputs": [
    {
     "data": {
      "text/plain": [
       "True"
      ]
     },
     "execution_count": 63,
     "metadata": {},
     "output_type": "execute_result"
    }
   ],
   "source": [
    "df_new.isna().values.any()"
   ]
  },
  {
   "cell_type": "code",
   "execution_count": 64,
   "metadata": {},
   "outputs": [
    {
     "data": {
      "text/plain": [
       "birth    2\n",
       "death    2\n",
       "city     1\n",
       "dtype: int64"
      ]
     },
     "execution_count": 64,
     "metadata": {},
     "output_type": "execute_result"
    }
   ],
   "source": [
    "df_new.isna().sum()"
   ]
  },
  {
   "cell_type": "markdown",
   "metadata": {},
   "source": [
    "To drop missing data."
   ]
  },
  {
   "cell_type": "code",
   "execution_count": 65,
   "metadata": {
    "scrolled": true
   },
   "outputs": [
    {
     "data": {
      "text/html": [
       "<div>\n",
       "<style scoped>\n",
       "    .dataframe tbody tr th:only-of-type {\n",
       "        vertical-align: middle;\n",
       "    }\n",
       "\n",
       "    .dataframe tbody tr th {\n",
       "        vertical-align: top;\n",
       "    }\n",
       "\n",
       "    .dataframe thead th {\n",
       "        text-align: right;\n",
       "    }\n",
       "</style>\n",
       "<table border=\"1\" class=\"dataframe\">\n",
       "  <thead>\n",
       "    <tr style=\"text-align: right;\">\n",
       "      <th></th>\n",
       "      <th>birth</th>\n",
       "      <th>death</th>\n",
       "      <th>city</th>\n",
       "    </tr>\n",
       "    <tr>\n",
       "      <th>composer</th>\n",
       "      <th></th>\n",
       "      <th></th>\n",
       "      <th></th>\n",
       "    </tr>\n",
       "  </thead>\n",
       "  <tbody>\n",
       "    <tr>\n",
       "      <th>Mahler</th>\n",
       "      <td>1860.0</td>\n",
       "      <td>1911.0</td>\n",
       "      <td>Kaliste</td>\n",
       "    </tr>\n",
       "    <tr>\n",
       "      <th>Beethoven</th>\n",
       "      <td>1770.0</td>\n",
       "      <td>1827.0</td>\n",
       "      <td>Bonn</td>\n",
       "    </tr>\n",
       "    <tr>\n",
       "      <th>Puccini</th>\n",
       "      <td>1858.0</td>\n",
       "      <td>1924.0</td>\n",
       "      <td>Lucques</td>\n",
       "    </tr>\n",
       "    <tr>\n",
       "      <th>Shostakovich</th>\n",
       "      <td>1906.0</td>\n",
       "      <td>1975.0</td>\n",
       "      <td>Saint-Petersburg</td>\n",
       "    </tr>\n",
       "  </tbody>\n",
       "</table>\n",
       "</div>"
      ],
      "text/plain": [
       "               birth   death              city\n",
       "composer                                      \n",
       "Mahler        1860.0  1911.0           Kaliste\n",
       "Beethoven     1770.0  1827.0              Bonn\n",
       "Puccini       1858.0  1924.0           Lucques\n",
       "Shostakovich  1906.0  1975.0  Saint-Petersburg"
      ]
     },
     "execution_count": 65,
     "metadata": {},
     "output_type": "execute_result"
    }
   ],
   "source": [
    "df_new.dropna(how='any') # delete any row and column with at least one np.nan"
   ]
  },
  {
   "cell_type": "code",
   "execution_count": 66,
   "metadata": {},
   "outputs": [
    {
     "data": {
      "text/html": [
       "<div>\n",
       "<style scoped>\n",
       "    .dataframe tbody tr th:only-of-type {\n",
       "        vertical-align: middle;\n",
       "    }\n",
       "\n",
       "    .dataframe tbody tr th {\n",
       "        vertical-align: top;\n",
       "    }\n",
       "\n",
       "    .dataframe thead th {\n",
       "        text-align: right;\n",
       "    }\n",
       "</style>\n",
       "<table border=\"1\" class=\"dataframe\">\n",
       "  <thead>\n",
       "    <tr style=\"text-align: right;\">\n",
       "      <th></th>\n",
       "      <th>birth</th>\n",
       "      <th>death</th>\n",
       "      <th>city</th>\n",
       "    </tr>\n",
       "    <tr>\n",
       "      <th>composer</th>\n",
       "      <th></th>\n",
       "      <th></th>\n",
       "      <th></th>\n",
       "    </tr>\n",
       "  </thead>\n",
       "  <tbody>\n",
       "    <tr>\n",
       "      <th>Mahler</th>\n",
       "      <td>1860.0</td>\n",
       "      <td>1911.0</td>\n",
       "      <td>Kaliste</td>\n",
       "    </tr>\n",
       "    <tr>\n",
       "      <th>Beethoven</th>\n",
       "      <td>1770.0</td>\n",
       "      <td>1827.0</td>\n",
       "      <td>Bonn</td>\n",
       "    </tr>\n",
       "    <tr>\n",
       "      <th>Puccini</th>\n",
       "      <td>1858.0</td>\n",
       "      <td>1924.0</td>\n",
       "      <td>Lucques</td>\n",
       "    </tr>\n",
       "    <tr>\n",
       "      <th>Shostakovich</th>\n",
       "      <td>1906.0</td>\n",
       "      <td>1975.0</td>\n",
       "      <td>Saint-Petersburg</td>\n",
       "    </tr>\n",
       "    <tr>\n",
       "      <th>Haydn</th>\n",
       "      <td>NaN</td>\n",
       "      <td>NaN</td>\n",
       "      <td>Rohrau</td>\n",
       "    </tr>\n",
       "  </tbody>\n",
       "</table>\n",
       "</div>"
      ],
      "text/plain": [
       "               birth   death              city\n",
       "composer                                      \n",
       "Mahler        1860.0  1911.0           Kaliste\n",
       "Beethoven     1770.0  1827.0              Bonn\n",
       "Puccini       1858.0  1924.0           Lucques\n",
       "Shostakovich  1906.0  1975.0  Saint-Petersburg\n",
       "Haydn            NaN     NaN            Rohrau"
      ]
     },
     "execution_count": 66,
     "metadata": {},
     "output_type": "execute_result"
    }
   ],
   "source": [
    "df_new.dropna(how = 'all') # the whole row (or column) must be np.nan "
   ]
  },
  {
   "cell_type": "markdown",
   "metadata": {},
   "source": [
    "Filling missing data"
   ]
  },
  {
   "cell_type": "code",
   "execution_count": 67,
   "metadata": {},
   "outputs": [
    {
     "data": {
      "text/html": [
       "<div>\n",
       "<style scoped>\n",
       "    .dataframe tbody tr th:only-of-type {\n",
       "        vertical-align: middle;\n",
       "    }\n",
       "\n",
       "    .dataframe tbody tr th {\n",
       "        vertical-align: top;\n",
       "    }\n",
       "\n",
       "    .dataframe thead th {\n",
       "        text-align: right;\n",
       "    }\n",
       "</style>\n",
       "<table border=\"1\" class=\"dataframe\">\n",
       "  <thead>\n",
       "    <tr style=\"text-align: right;\">\n",
       "      <th></th>\n",
       "      <th>birth</th>\n",
       "      <th>death</th>\n",
       "      <th>city</th>\n",
       "    </tr>\n",
       "    <tr>\n",
       "      <th>composer</th>\n",
       "      <th></th>\n",
       "      <th></th>\n",
       "      <th></th>\n",
       "    </tr>\n",
       "  </thead>\n",
       "  <tbody>\n",
       "    <tr>\n",
       "      <th>Mahler</th>\n",
       "      <td>1860.0</td>\n",
       "      <td>1911.0</td>\n",
       "      <td>Kaliste</td>\n",
       "    </tr>\n",
       "    <tr>\n",
       "      <th>Beethoven</th>\n",
       "      <td>1770.0</td>\n",
       "      <td>1827.0</td>\n",
       "      <td>Bonn</td>\n",
       "    </tr>\n",
       "    <tr>\n",
       "      <th>Puccini</th>\n",
       "      <td>1858.0</td>\n",
       "      <td>1924.0</td>\n",
       "      <td>Lucques</td>\n",
       "    </tr>\n",
       "    <tr>\n",
       "      <th>Shostakovich</th>\n",
       "      <td>1906.0</td>\n",
       "      <td>1975.0</td>\n",
       "      <td>Saint-Petersburg</td>\n",
       "    </tr>\n",
       "    <tr>\n",
       "      <th>Sibelius</th>\n",
       "      <td>5.0</td>\n",
       "      <td>5.0</td>\n",
       "      <td>5</td>\n",
       "    </tr>\n",
       "    <tr>\n",
       "      <th>Haydn</th>\n",
       "      <td>5.0</td>\n",
       "      <td>5.0</td>\n",
       "      <td>Rohrau</td>\n",
       "    </tr>\n",
       "  </tbody>\n",
       "</table>\n",
       "</div>"
      ],
      "text/plain": [
       "               birth   death              city\n",
       "composer                                      \n",
       "Mahler        1860.0  1911.0           Kaliste\n",
       "Beethoven     1770.0  1827.0              Bonn\n",
       "Puccini       1858.0  1924.0           Lucques\n",
       "Shostakovich  1906.0  1975.0  Saint-Petersburg\n",
       "Sibelius         5.0     5.0                 5\n",
       "Haydn            5.0     5.0            Rohrau"
      ]
     },
     "execution_count": 67,
     "metadata": {},
     "output_type": "execute_result"
    }
   ],
   "source": [
    "df_new.fillna(value=5)"
   ]
  },
  {
   "cell_type": "markdown",
   "metadata": {},
   "source": [
    "## Writing and reading - CSV files\n"
   ]
  },
  {
   "cell_type": "code",
   "execution_count": 68,
   "metadata": {},
   "outputs": [],
   "source": [
    "df_new.to_csv('out/foo.csv')"
   ]
  },
  {
   "cell_type": "code",
   "execution_count": 69,
   "metadata": {},
   "outputs": [
    {
     "data": {
      "text/html": [
       "<div>\n",
       "<style scoped>\n",
       "    .dataframe tbody tr th:only-of-type {\n",
       "        vertical-align: middle;\n",
       "    }\n",
       "\n",
       "    .dataframe tbody tr th {\n",
       "        vertical-align: top;\n",
       "    }\n",
       "\n",
       "    .dataframe thead th {\n",
       "        text-align: right;\n",
       "    }\n",
       "</style>\n",
       "<table border=\"1\" class=\"dataframe\">\n",
       "  <thead>\n",
       "    <tr style=\"text-align: right;\">\n",
       "      <th></th>\n",
       "      <th>composer</th>\n",
       "      <th>birth</th>\n",
       "      <th>death</th>\n",
       "      <th>city</th>\n",
       "    </tr>\n",
       "  </thead>\n",
       "  <tbody>\n",
       "    <tr>\n",
       "      <th>0</th>\n",
       "      <td>Mahler</td>\n",
       "      <td>1860.0</td>\n",
       "      <td>1911.0</td>\n",
       "      <td>Kaliste</td>\n",
       "    </tr>\n",
       "    <tr>\n",
       "      <th>1</th>\n",
       "      <td>Beethoven</td>\n",
       "      <td>1770.0</td>\n",
       "      <td>1827.0</td>\n",
       "      <td>Bonn</td>\n",
       "    </tr>\n",
       "    <tr>\n",
       "      <th>2</th>\n",
       "      <td>Puccini</td>\n",
       "      <td>1858.0</td>\n",
       "      <td>1924.0</td>\n",
       "      <td>Lucques</td>\n",
       "    </tr>\n",
       "    <tr>\n",
       "      <th>3</th>\n",
       "      <td>Shostakovich</td>\n",
       "      <td>1906.0</td>\n",
       "      <td>1975.0</td>\n",
       "      <td>Saint-Petersburg</td>\n",
       "    </tr>\n",
       "    <tr>\n",
       "      <th>4</th>\n",
       "      <td>Sibelius</td>\n",
       "      <td>NaN</td>\n",
       "      <td>NaN</td>\n",
       "      <td>NaN</td>\n",
       "    </tr>\n",
       "    <tr>\n",
       "      <th>5</th>\n",
       "      <td>Haydn</td>\n",
       "      <td>NaN</td>\n",
       "      <td>NaN</td>\n",
       "      <td>Rohrau</td>\n",
       "    </tr>\n",
       "  </tbody>\n",
       "</table>\n",
       "</div>"
      ],
      "text/plain": [
       "       composer   birth   death              city\n",
       "0        Mahler  1860.0  1911.0           Kaliste\n",
       "1     Beethoven  1770.0  1827.0              Bonn\n",
       "2       Puccini  1858.0  1924.0           Lucques\n",
       "3  Shostakovich  1906.0  1975.0  Saint-Petersburg\n",
       "4      Sibelius     NaN     NaN               NaN\n",
       "5         Haydn     NaN     NaN            Rohrau"
      ]
     },
     "execution_count": 69,
     "metadata": {},
     "output_type": "execute_result"
    }
   ],
   "source": [
    "df_read = pd.read_csv('out/foo.csv')\n",
    "df_read"
   ]
  },
  {
   "cell_type": "code",
   "execution_count": 70,
   "metadata": {},
   "outputs": [
    {
     "data": {
      "text/html": [
       "<div>\n",
       "<style scoped>\n",
       "    .dataframe tbody tr th:only-of-type {\n",
       "        vertical-align: middle;\n",
       "    }\n",
       "\n",
       "    .dataframe tbody tr th {\n",
       "        vertical-align: top;\n",
       "    }\n",
       "\n",
       "    .dataframe thead th {\n",
       "        text-align: right;\n",
       "    }\n",
       "</style>\n",
       "<table border=\"1\" class=\"dataframe\">\n",
       "  <thead>\n",
       "    <tr style=\"text-align: right;\">\n",
       "      <th></th>\n",
       "      <th>birth</th>\n",
       "      <th>death</th>\n",
       "      <th>city</th>\n",
       "    </tr>\n",
       "    <tr>\n",
       "      <th>composer</th>\n",
       "      <th></th>\n",
       "      <th></th>\n",
       "      <th></th>\n",
       "    </tr>\n",
       "  </thead>\n",
       "  <tbody>\n",
       "    <tr>\n",
       "      <th>Mahler</th>\n",
       "      <td>1860.0</td>\n",
       "      <td>1911.0</td>\n",
       "      <td>Kaliste</td>\n",
       "    </tr>\n",
       "    <tr>\n",
       "      <th>Beethoven</th>\n",
       "      <td>1770.0</td>\n",
       "      <td>1827.0</td>\n",
       "      <td>Bonn</td>\n",
       "    </tr>\n",
       "    <tr>\n",
       "      <th>Puccini</th>\n",
       "      <td>1858.0</td>\n",
       "      <td>1924.0</td>\n",
       "      <td>Lucques</td>\n",
       "    </tr>\n",
       "    <tr>\n",
       "      <th>Shostakovich</th>\n",
       "      <td>1906.0</td>\n",
       "      <td>1975.0</td>\n",
       "      <td>Saint-Petersburg</td>\n",
       "    </tr>\n",
       "    <tr>\n",
       "      <th>Sibelius</th>\n",
       "      <td>NaN</td>\n",
       "      <td>NaN</td>\n",
       "      <td>NaN</td>\n",
       "    </tr>\n",
       "    <tr>\n",
       "      <th>Haydn</th>\n",
       "      <td>NaN</td>\n",
       "      <td>NaN</td>\n",
       "      <td>Rohrau</td>\n",
       "    </tr>\n",
       "  </tbody>\n",
       "</table>\n",
       "</div>"
      ],
      "text/plain": [
       "               birth   death              city\n",
       "composer                                      \n",
       "Mahler        1860.0  1911.0           Kaliste\n",
       "Beethoven     1770.0  1827.0              Bonn\n",
       "Puccini       1858.0  1924.0           Lucques\n",
       "Shostakovich  1906.0  1975.0  Saint-Petersburg\n",
       "Sibelius         NaN     NaN               NaN\n",
       "Haydn            NaN     NaN            Rohrau"
      ]
     },
     "execution_count": 70,
     "metadata": {},
     "output_type": "execute_result"
    }
   ],
   "source": [
    "df_read = pd.read_csv('out/foo.csv',index_col = 'composer')\n",
    "df_read"
   ]
  },
  {
   "cell_type": "markdown",
   "metadata": {},
   "source": [
    "# DataFrame Operations\n",
    "\n",
    "One of the great advantages of using Pandas to handle tabular data is how simple it is to extract valuable information from them. Here we are going to see various types of operations that are available for this.\n",
    "\n",
    "## Matrix operations\n",
    "\n",
    "The strength of Numpy is its natural way of handling matrix operations, and Pandas reuses a lot of these features. For example one can use simple mathematical operations to opereate at the cell level:"
   ]
  },
  {
   "cell_type": "code",
   "execution_count": 71,
   "metadata": {
    "ExecuteTime": {
     "end_time": "2020-06-24T15:09:22.426144Z",
     "start_time": "2020-06-24T15:09:22.385407Z"
    }
   },
   "outputs": [
    {
     "data": {
      "text/html": [
       "<div>\n",
       "<style scoped>\n",
       "    .dataframe tbody tr th:only-of-type {\n",
       "        vertical-align: middle;\n",
       "    }\n",
       "\n",
       "    .dataframe tbody tr th {\n",
       "        vertical-align: top;\n",
       "    }\n",
       "\n",
       "    .dataframe thead th {\n",
       "        text-align: right;\n",
       "    }\n",
       "</style>\n",
       "<table border=\"1\" class=\"dataframe\">\n",
       "  <thead>\n",
       "    <tr style=\"text-align: right;\">\n",
       "      <th></th>\n",
       "      <th>composer</th>\n",
       "      <th>birth</th>\n",
       "      <th>death</th>\n",
       "      <th>city</th>\n",
       "    </tr>\n",
       "  </thead>\n",
       "  <tbody>\n",
       "    <tr>\n",
       "      <th>0</th>\n",
       "      <td>Mahler</td>\n",
       "      <td>1860</td>\n",
       "      <td>1911</td>\n",
       "      <td>Kaliste</td>\n",
       "    </tr>\n",
       "    <tr>\n",
       "      <th>1</th>\n",
       "      <td>Beethoven</td>\n",
       "      <td>1770</td>\n",
       "      <td>1827</td>\n",
       "      <td>Bonn</td>\n",
       "    </tr>\n",
       "    <tr>\n",
       "      <th>2</th>\n",
       "      <td>Puccini</td>\n",
       "      <td>1858</td>\n",
       "      <td>1924</td>\n",
       "      <td>Lucques</td>\n",
       "    </tr>\n",
       "    <tr>\n",
       "      <th>3</th>\n",
       "      <td>Shostakovich</td>\n",
       "      <td>1906</td>\n",
       "      <td>1975</td>\n",
       "      <td>Saint-Petersburg</td>\n",
       "    </tr>\n",
       "  </tbody>\n",
       "</table>\n",
       "</div>"
      ],
      "text/plain": [
       "       composer  birth  death              city\n",
       "0        Mahler   1860   1911           Kaliste\n",
       "1     Beethoven   1770   1827              Bonn\n",
       "2       Puccini   1858   1924           Lucques\n",
       "3  Shostakovich   1906   1975  Saint-Petersburg"
      ]
     },
     "execution_count": 71,
     "metadata": {},
     "output_type": "execute_result"
    }
   ],
   "source": [
    "df = pd.read_excel('dataset/composers.xlsx')\n",
    "df"
   ]
  },
  {
   "cell_type": "code",
   "execution_count": 72,
   "metadata": {
    "ExecuteTime": {
     "end_time": "2020-06-24T15:09:39.792603Z",
     "start_time": "2020-06-24T15:09:39.775993Z"
    }
   },
   "outputs": [
    {
     "data": {
      "text/plain": [
       "0    3720\n",
       "1    3540\n",
       "2    3716\n",
       "3    3812\n",
       "Name: birth, dtype: int64"
      ]
     },
     "execution_count": 72,
     "metadata": {},
     "output_type": "execute_result"
    }
   ],
   "source": [
    "df['birth'] * 2"
   ]
  },
  {
   "cell_type": "code",
   "execution_count": 73,
   "metadata": {
    "ExecuteTime": {
     "end_time": "2020-06-24T15:10:00.912276Z",
     "start_time": "2020-06-24T15:10:00.899426Z"
    },
    "scrolled": true
   },
   "outputs": [
    {
     "data": {
      "text/plain": [
       "0    7.528332\n",
       "1    7.478735\n",
       "2    7.527256\n",
       "3    7.552762\n",
       "Name: birth, dtype: float64"
      ]
     },
     "execution_count": 73,
     "metadata": {},
     "output_type": "execute_result"
    }
   ],
   "source": [
    "np.log(df['birth'])"
   ]
  },
  {
   "cell_type": "markdown",
   "metadata": {},
   "source": [
    "We can directly use an operation's output to create a new column:"
   ]
  },
  {
   "cell_type": "code",
   "execution_count": 74,
   "metadata": {
    "ExecuteTime": {
     "end_time": "2020-06-24T15:19:14.832808Z",
     "start_time": "2020-06-24T15:19:14.807838Z"
    }
   },
   "outputs": [
    {
     "data": {
      "text/html": [
       "<div>\n",
       "<style scoped>\n",
       "    .dataframe tbody tr th:only-of-type {\n",
       "        vertical-align: middle;\n",
       "    }\n",
       "\n",
       "    .dataframe tbody tr th {\n",
       "        vertical-align: top;\n",
       "    }\n",
       "\n",
       "    .dataframe thead th {\n",
       "        text-align: right;\n",
       "    }\n",
       "</style>\n",
       "<table border=\"1\" class=\"dataframe\">\n",
       "  <thead>\n",
       "    <tr style=\"text-align: right;\">\n",
       "      <th></th>\n",
       "      <th>composer</th>\n",
       "      <th>birth</th>\n",
       "      <th>death</th>\n",
       "      <th>city</th>\n",
       "      <th>age</th>\n",
       "    </tr>\n",
       "  </thead>\n",
       "  <tbody>\n",
       "    <tr>\n",
       "      <th>0</th>\n",
       "      <td>Mahler</td>\n",
       "      <td>1860</td>\n",
       "      <td>1911</td>\n",
       "      <td>Kaliste</td>\n",
       "      <td>51</td>\n",
       "    </tr>\n",
       "    <tr>\n",
       "      <th>1</th>\n",
       "      <td>Beethoven</td>\n",
       "      <td>1770</td>\n",
       "      <td>1827</td>\n",
       "      <td>Bonn</td>\n",
       "      <td>57</td>\n",
       "    </tr>\n",
       "    <tr>\n",
       "      <th>2</th>\n",
       "      <td>Puccini</td>\n",
       "      <td>1858</td>\n",
       "      <td>1924</td>\n",
       "      <td>Lucques</td>\n",
       "      <td>66</td>\n",
       "    </tr>\n",
       "    <tr>\n",
       "      <th>3</th>\n",
       "      <td>Shostakovich</td>\n",
       "      <td>1906</td>\n",
       "      <td>1975</td>\n",
       "      <td>Saint-Petersburg</td>\n",
       "      <td>69</td>\n",
       "    </tr>\n",
       "  </tbody>\n",
       "</table>\n",
       "</div>"
      ],
      "text/plain": [
       "       composer  birth  death              city  age\n",
       "0        Mahler   1860   1911           Kaliste   51\n",
       "1     Beethoven   1770   1827              Bonn   57\n",
       "2       Puccini   1858   1924           Lucques   66\n",
       "3  Shostakovich   1906   1975  Saint-Petersburg   69"
      ]
     },
     "execution_count": 74,
     "metadata": {},
     "output_type": "execute_result"
    }
   ],
   "source": [
    "df['age'] = df['death'] - df['birth']\n",
    "df"
   ]
  },
  {
   "cell_type": "markdown",
   "metadata": {},
   "source": [
    "Here we applied functions only to series. Indeed, since our Dataframe contains e.g. strings, no operation can be done on it. If however we have a homogenous Dataframe, this is possible:"
   ]
  },
  {
   "cell_type": "code",
   "execution_count": 75,
   "metadata": {
    "ExecuteTime": {
     "end_time": "2020-06-24T15:10:52.552872Z",
     "start_time": "2020-06-24T15:10:52.534293Z"
    }
   },
   "outputs": [
    {
     "data": {
      "text/html": [
       "<div>\n",
       "<style scoped>\n",
       "    .dataframe tbody tr th:only-of-type {\n",
       "        vertical-align: middle;\n",
       "    }\n",
       "\n",
       "    .dataframe tbody tr th {\n",
       "        vertical-align: top;\n",
       "    }\n",
       "\n",
       "    .dataframe thead th {\n",
       "        text-align: right;\n",
       "    }\n",
       "</style>\n",
       "<table border=\"1\" class=\"dataframe\">\n",
       "  <thead>\n",
       "    <tr style=\"text-align: right;\">\n",
       "      <th></th>\n",
       "      <th>birth</th>\n",
       "      <th>death</th>\n",
       "    </tr>\n",
       "  </thead>\n",
       "  <tbody>\n",
       "    <tr>\n",
       "      <th>0</th>\n",
       "      <td>3720</td>\n",
       "      <td>3822</td>\n",
       "    </tr>\n",
       "    <tr>\n",
       "      <th>1</th>\n",
       "      <td>3540</td>\n",
       "      <td>3654</td>\n",
       "    </tr>\n",
       "    <tr>\n",
       "      <th>2</th>\n",
       "      <td>3716</td>\n",
       "      <td>3848</td>\n",
       "    </tr>\n",
       "    <tr>\n",
       "      <th>3</th>\n",
       "      <td>3812</td>\n",
       "      <td>3950</td>\n",
       "    </tr>\n",
       "  </tbody>\n",
       "</table>\n",
       "</div>"
      ],
      "text/plain": [
       "   birth  death\n",
       "0   3720   3822\n",
       "1   3540   3654\n",
       "2   3716   3848\n",
       "3   3812   3950"
      ]
     },
     "execution_count": 75,
     "metadata": {},
     "output_type": "execute_result"
    }
   ],
   "source": [
    "df[['birth', 'death']] * 2"
   ]
  },
  {
   "cell_type": "markdown",
   "metadata": {},
   "source": [
    "## Column operations\n",
    "\n",
    "There are other types of functions whose purpose is to summarize the data. For example the mean or standard deviation. Pandas by default applies such functions column-wise and returns a series containing e.g. the mean of each column:"
   ]
  },
  {
   "cell_type": "code",
   "execution_count": 76,
   "metadata": {
    "ExecuteTime": {
     "end_time": "2020-06-24T15:11:31.318490Z",
     "start_time": "2020-06-24T15:11:31.299730Z"
    }
   },
   "outputs": [
    {
     "data": {
      "text/plain": [
       "birth    1848.50\n",
       "death    1909.25\n",
       "age        60.75\n",
       "dtype: float64"
      ]
     },
     "execution_count": 76,
     "metadata": {},
     "output_type": "execute_result"
    }
   ],
   "source": [
    "df[['birth','death','age']].mean()"
   ]
  },
  {
   "cell_type": "markdown",
   "metadata": {},
   "source": [
    "Sometimes one needs to apply to a column a very specific function that is not provided by default. In that case we can use one of the different `apply` methods of Pandas.\n",
    "\n",
    "The simplest case is to apply a function to a column, or Series of a DataFrame. Let's say for example that we want to define the age >60 as 'old' and <60 as 'young'. We can define the following general function:"
   ]
  },
  {
   "cell_type": "code",
   "execution_count": 77,
   "metadata": {
    "ExecuteTime": {
     "end_time": "2020-06-24T15:16:11.585908Z",
     "start_time": "2020-06-24T15:16:11.579767Z"
    }
   },
   "outputs": [],
   "source": [
    "define_age = lambda x: 'old' if x > 60 else 'young'"
   ]
  },
  {
   "cell_type": "markdown",
   "metadata": {},
   "source": [
    "We can now apply this function on an entire Series:"
   ]
  },
  {
   "cell_type": "code",
   "execution_count": 78,
   "metadata": {
    "ExecuteTime": {
     "end_time": "2020-06-24T15:19:19.576840Z",
     "start_time": "2020-06-24T15:19:19.558825Z"
    }
   },
   "outputs": [],
   "source": [
    "df['categorical age'] = df.age.apply(define_age)"
   ]
  },
  {
   "cell_type": "code",
   "execution_count": 79,
   "metadata": {},
   "outputs": [
    {
     "data": {
      "text/html": [
       "<div>\n",
       "<style scoped>\n",
       "    .dataframe tbody tr th:only-of-type {\n",
       "        vertical-align: middle;\n",
       "    }\n",
       "\n",
       "    .dataframe tbody tr th {\n",
       "        vertical-align: top;\n",
       "    }\n",
       "\n",
       "    .dataframe thead th {\n",
       "        text-align: right;\n",
       "    }\n",
       "</style>\n",
       "<table border=\"1\" class=\"dataframe\">\n",
       "  <thead>\n",
       "    <tr style=\"text-align: right;\">\n",
       "      <th></th>\n",
       "      <th>composer</th>\n",
       "      <th>birth</th>\n",
       "      <th>death</th>\n",
       "      <th>city</th>\n",
       "      <th>age</th>\n",
       "      <th>categorical age</th>\n",
       "    </tr>\n",
       "  </thead>\n",
       "  <tbody>\n",
       "    <tr>\n",
       "      <th>0</th>\n",
       "      <td>Mahler</td>\n",
       "      <td>1860</td>\n",
       "      <td>1911</td>\n",
       "      <td>Kaliste</td>\n",
       "      <td>51</td>\n",
       "      <td>young</td>\n",
       "    </tr>\n",
       "    <tr>\n",
       "      <th>1</th>\n",
       "      <td>Beethoven</td>\n",
       "      <td>1770</td>\n",
       "      <td>1827</td>\n",
       "      <td>Bonn</td>\n",
       "      <td>57</td>\n",
       "      <td>young</td>\n",
       "    </tr>\n",
       "    <tr>\n",
       "      <th>2</th>\n",
       "      <td>Puccini</td>\n",
       "      <td>1858</td>\n",
       "      <td>1924</td>\n",
       "      <td>Lucques</td>\n",
       "      <td>66</td>\n",
       "      <td>old</td>\n",
       "    </tr>\n",
       "    <tr>\n",
       "      <th>3</th>\n",
       "      <td>Shostakovich</td>\n",
       "      <td>1906</td>\n",
       "      <td>1975</td>\n",
       "      <td>Saint-Petersburg</td>\n",
       "      <td>69</td>\n",
       "      <td>old</td>\n",
       "    </tr>\n",
       "  </tbody>\n",
       "</table>\n",
       "</div>"
      ],
      "text/plain": [
       "       composer  birth  death              city  age categorical age\n",
       "0        Mahler   1860   1911           Kaliste   51           young\n",
       "1     Beethoven   1770   1827              Bonn   57           young\n",
       "2       Puccini   1858   1924           Lucques   66             old\n",
       "3  Shostakovich   1906   1975  Saint-Petersburg   69             old"
      ]
     },
     "execution_count": 79,
     "metadata": {},
     "output_type": "execute_result"
    }
   ],
   "source": [
    "df"
   ]
  },
  {
   "cell_type": "markdown",
   "metadata": {},
   "source": [
    "### Value Counting"
   ]
  },
  {
   "cell_type": "code",
   "execution_count": 80,
   "metadata": {},
   "outputs": [
    {
     "data": {
      "text/plain": [
       "young    2\n",
       "old      2\n",
       "Name: categorical age, dtype: int64"
      ]
     },
     "execution_count": 80,
     "metadata": {},
     "output_type": "execute_result"
    }
   ],
   "source": [
    "df['categorical age'].value_counts()"
   ]
  },
  {
   "cell_type": "code",
   "execution_count": 81,
   "metadata": {},
   "outputs": [
    {
     "data": {
      "text/plain": [
       "array(['young', 'old'], dtype=object)"
      ]
     },
     "execution_count": 81,
     "metadata": {},
     "output_type": "execute_result"
    }
   ],
   "source": [
    "df['categorical age'].unique()"
   ]
  },
  {
   "cell_type": "markdown",
   "metadata": {},
   "source": [
    "# Data Splitting\n",
    "\n",
    "Often Pandas tables mix regular variables (e.g. the size of cells in microscopy images) with categorical variables (e.g. the type of cell to which they belong). In that case, it is quite usual to split the data using the category to do computations. Pandas allows to do this very easily."
   ]
  },
  {
   "cell_type": "markdown",
   "metadata": {},
   "source": [
    "## Grouping"
   ]
  },
  {
   "cell_type": "code",
   "execution_count": 82,
   "metadata": {},
   "outputs": [],
   "source": [
    "composers_df = pd.read_excel('dataset/composers.xlsx', index_col = 'composer', sheet_name='Sheet5')"
   ]
  },
  {
   "cell_type": "code",
   "execution_count": 83,
   "metadata": {},
   "outputs": [
    {
     "data": {
      "text/html": [
       "<div>\n",
       "<style scoped>\n",
       "    .dataframe tbody tr th:only-of-type {\n",
       "        vertical-align: middle;\n",
       "    }\n",
       "\n",
       "    .dataframe tbody tr th {\n",
       "        vertical-align: top;\n",
       "    }\n",
       "\n",
       "    .dataframe thead th {\n",
       "        text-align: right;\n",
       "    }\n",
       "</style>\n",
       "<table border=\"1\" class=\"dataframe\">\n",
       "  <thead>\n",
       "    <tr style=\"text-align: right;\">\n",
       "      <th></th>\n",
       "      <th>birth</th>\n",
       "      <th>death</th>\n",
       "      <th>period</th>\n",
       "      <th>country</th>\n",
       "    </tr>\n",
       "    <tr>\n",
       "      <th>composer</th>\n",
       "      <th></th>\n",
       "      <th></th>\n",
       "      <th></th>\n",
       "      <th></th>\n",
       "    </tr>\n",
       "  </thead>\n",
       "  <tbody>\n",
       "    <tr>\n",
       "      <th>Mahler</th>\n",
       "      <td>1860</td>\n",
       "      <td>1911.0</td>\n",
       "      <td>post-romantic</td>\n",
       "      <td>Austria</td>\n",
       "    </tr>\n",
       "    <tr>\n",
       "      <th>Beethoven</th>\n",
       "      <td>1770</td>\n",
       "      <td>1827.0</td>\n",
       "      <td>romantic</td>\n",
       "      <td>Germany</td>\n",
       "    </tr>\n",
       "    <tr>\n",
       "      <th>Puccini</th>\n",
       "      <td>1858</td>\n",
       "      <td>1924.0</td>\n",
       "      <td>post-romantic</td>\n",
       "      <td>Italy</td>\n",
       "    </tr>\n",
       "    <tr>\n",
       "      <th>Shostakovich</th>\n",
       "      <td>1906</td>\n",
       "      <td>1975.0</td>\n",
       "      <td>modern</td>\n",
       "      <td>Russia</td>\n",
       "    </tr>\n",
       "    <tr>\n",
       "      <th>Verdi</th>\n",
       "      <td>1813</td>\n",
       "      <td>1901.0</td>\n",
       "      <td>romantic</td>\n",
       "      <td>Italy</td>\n",
       "    </tr>\n",
       "    <tr>\n",
       "      <th>Dvorak</th>\n",
       "      <td>1841</td>\n",
       "      <td>1904.0</td>\n",
       "      <td>romantic</td>\n",
       "      <td>Czechia</td>\n",
       "    </tr>\n",
       "    <tr>\n",
       "      <th>Schumann</th>\n",
       "      <td>1810</td>\n",
       "      <td>1856.0</td>\n",
       "      <td>romantic</td>\n",
       "      <td>Germany</td>\n",
       "    </tr>\n",
       "    <tr>\n",
       "      <th>Stravinsky</th>\n",
       "      <td>1882</td>\n",
       "      <td>1971.0</td>\n",
       "      <td>modern</td>\n",
       "      <td>Russia</td>\n",
       "    </tr>\n",
       "    <tr>\n",
       "      <th>Sibelius</th>\n",
       "      <td>1865</td>\n",
       "      <td>1957.0</td>\n",
       "      <td>post-romantic</td>\n",
       "      <td>Finland</td>\n",
       "    </tr>\n",
       "    <tr>\n",
       "      <th>Haydn</th>\n",
       "      <td>1732</td>\n",
       "      <td>1809.0</td>\n",
       "      <td>classic</td>\n",
       "      <td>Austria</td>\n",
       "    </tr>\n",
       "    <tr>\n",
       "      <th>Mozart</th>\n",
       "      <td>1756</td>\n",
       "      <td>1791.0</td>\n",
       "      <td>classic</td>\n",
       "      <td>Austria</td>\n",
       "    </tr>\n",
       "    <tr>\n",
       "      <th>Messiaen</th>\n",
       "      <td>1908</td>\n",
       "      <td>1992.0</td>\n",
       "      <td>modern</td>\n",
       "      <td>France</td>\n",
       "    </tr>\n",
       "    <tr>\n",
       "      <th>Prokofiev</th>\n",
       "      <td>1891</td>\n",
       "      <td>1953.0</td>\n",
       "      <td>modern</td>\n",
       "      <td>RUssia</td>\n",
       "    </tr>\n",
       "    <tr>\n",
       "      <th>Monteverdi</th>\n",
       "      <td>1567</td>\n",
       "      <td>1643.0</td>\n",
       "      <td>renaissance</td>\n",
       "      <td>Italy</td>\n",
       "    </tr>\n",
       "    <tr>\n",
       "      <th>Haendel</th>\n",
       "      <td>1685</td>\n",
       "      <td>1759.0</td>\n",
       "      <td>baroque</td>\n",
       "      <td>Germany</td>\n",
       "    </tr>\n",
       "    <tr>\n",
       "      <th>Brahms</th>\n",
       "      <td>1833</td>\n",
       "      <td>1897.0</td>\n",
       "      <td>romantic</td>\n",
       "      <td>Germany</td>\n",
       "    </tr>\n",
       "    <tr>\n",
       "      <th>Purcell</th>\n",
       "      <td>1659</td>\n",
       "      <td>1695.0</td>\n",
       "      <td>baroque</td>\n",
       "      <td>England</td>\n",
       "    </tr>\n",
       "    <tr>\n",
       "      <th>Charpentier</th>\n",
       "      <td>1643</td>\n",
       "      <td>1704.0</td>\n",
       "      <td>baroque</td>\n",
       "      <td>France</td>\n",
       "    </tr>\n",
       "    <tr>\n",
       "      <th>Bruckner</th>\n",
       "      <td>1824</td>\n",
       "      <td>1896.0</td>\n",
       "      <td>post-romantic</td>\n",
       "      <td>Austria</td>\n",
       "    </tr>\n",
       "    <tr>\n",
       "      <th>Berg</th>\n",
       "      <td>1885</td>\n",
       "      <td>1935.0</td>\n",
       "      <td>modern</td>\n",
       "      <td>Austria</td>\n",
       "    </tr>\n",
       "    <tr>\n",
       "      <th>Couperin</th>\n",
       "      <td>1626</td>\n",
       "      <td>1661.0</td>\n",
       "      <td>baroque</td>\n",
       "      <td>France</td>\n",
       "    </tr>\n",
       "    <tr>\n",
       "      <th>Rameau</th>\n",
       "      <td>1683</td>\n",
       "      <td>1764.0</td>\n",
       "      <td>baroque</td>\n",
       "      <td>France</td>\n",
       "    </tr>\n",
       "    <tr>\n",
       "      <th>Berlioz</th>\n",
       "      <td>1803</td>\n",
       "      <td>1869.0</td>\n",
       "      <td>romantic</td>\n",
       "      <td>France</td>\n",
       "    </tr>\n",
       "    <tr>\n",
       "      <th>Gounod</th>\n",
       "      <td>1818</td>\n",
       "      <td>1893.0</td>\n",
       "      <td>romantic</td>\n",
       "      <td>France</td>\n",
       "    </tr>\n",
       "    <tr>\n",
       "      <th>Massenet</th>\n",
       "      <td>1842</td>\n",
       "      <td>1912.0</td>\n",
       "      <td>romantic</td>\n",
       "      <td>France</td>\n",
       "    </tr>\n",
       "    <tr>\n",
       "      <th>Boulez</th>\n",
       "      <td>1925</td>\n",
       "      <td>2016.0</td>\n",
       "      <td>modern</td>\n",
       "      <td>France</td>\n",
       "    </tr>\n",
       "    <tr>\n",
       "      <th>Palestrina</th>\n",
       "      <td>1525</td>\n",
       "      <td>1594.0</td>\n",
       "      <td>renaissance</td>\n",
       "      <td>Italy</td>\n",
       "    </tr>\n",
       "    <tr>\n",
       "      <th>Gesualdo</th>\n",
       "      <td>1566</td>\n",
       "      <td>1613.0</td>\n",
       "      <td>renaissance</td>\n",
       "      <td>Italy</td>\n",
       "    </tr>\n",
       "    <tr>\n",
       "      <th>Caldara</th>\n",
       "      <td>1670</td>\n",
       "      <td>1736.0</td>\n",
       "      <td>baroque</td>\n",
       "      <td>Italy</td>\n",
       "    </tr>\n",
       "    <tr>\n",
       "      <th>Pergolesi</th>\n",
       "      <td>1710</td>\n",
       "      <td>1736.0</td>\n",
       "      <td>baroque</td>\n",
       "      <td>Italy</td>\n",
       "    </tr>\n",
       "    <tr>\n",
       "      <th>Scarlatti</th>\n",
       "      <td>1685</td>\n",
       "      <td>1757.0</td>\n",
       "      <td>baroque</td>\n",
       "      <td>Italy</td>\n",
       "    </tr>\n",
       "    <tr>\n",
       "      <th>Caccini</th>\n",
       "      <td>1587</td>\n",
       "      <td>1640.0</td>\n",
       "      <td>baroque</td>\n",
       "      <td>Italy</td>\n",
       "    </tr>\n",
       "    <tr>\n",
       "      <th>Cimarosa</th>\n",
       "      <td>1749</td>\n",
       "      <td>1801.0</td>\n",
       "      <td>classic</td>\n",
       "      <td>Italy</td>\n",
       "    </tr>\n",
       "    <tr>\n",
       "      <th>Donizetti</th>\n",
       "      <td>1797</td>\n",
       "      <td>1848.0</td>\n",
       "      <td>romantic</td>\n",
       "      <td>Italy</td>\n",
       "    </tr>\n",
       "    <tr>\n",
       "      <th>Leoncavallo</th>\n",
       "      <td>1858</td>\n",
       "      <td>1919.0</td>\n",
       "      <td>romantic</td>\n",
       "      <td>Italy</td>\n",
       "    </tr>\n",
       "    <tr>\n",
       "      <th>Bellini</th>\n",
       "      <td>1801</td>\n",
       "      <td>1835.0</td>\n",
       "      <td>romantic</td>\n",
       "      <td>Italy</td>\n",
       "    </tr>\n",
       "    <tr>\n",
       "      <th>Dufay</th>\n",
       "      <td>1397</td>\n",
       "      <td>1474.0</td>\n",
       "      <td>renaissance</td>\n",
       "      <td>Belgium</td>\n",
       "    </tr>\n",
       "    <tr>\n",
       "      <th>Lassus</th>\n",
       "      <td>1532</td>\n",
       "      <td>1594.0</td>\n",
       "      <td>renaissance</td>\n",
       "      <td>Belgium</td>\n",
       "    </tr>\n",
       "    <tr>\n",
       "      <th>Borodin</th>\n",
       "      <td>1833</td>\n",
       "      <td>1887.0</td>\n",
       "      <td>romantic</td>\n",
       "      <td>Russia</td>\n",
       "    </tr>\n",
       "    <tr>\n",
       "      <th>Mussorsgsky</th>\n",
       "      <td>1839</td>\n",
       "      <td>1881.0</td>\n",
       "      <td>romantic</td>\n",
       "      <td>Russia</td>\n",
       "    </tr>\n",
       "    <tr>\n",
       "      <th>Soler</th>\n",
       "      <td>1754</td>\n",
       "      <td>1806.0</td>\n",
       "      <td>classic</td>\n",
       "      <td>Spain</td>\n",
       "    </tr>\n",
       "    <tr>\n",
       "      <th>Albeniz</th>\n",
       "      <td>1860</td>\n",
       "      <td>1909.0</td>\n",
       "      <td>romantic</td>\n",
       "      <td>Spain</td>\n",
       "    </tr>\n",
       "    <tr>\n",
       "      <th>Granados</th>\n",
       "      <td>1867</td>\n",
       "      <td>1916.0</td>\n",
       "      <td>romantic</td>\n",
       "      <td>Spain</td>\n",
       "    </tr>\n",
       "    <tr>\n",
       "      <th>Dowland</th>\n",
       "      <td>1563</td>\n",
       "      <td>1626.0</td>\n",
       "      <td>renaissance</td>\n",
       "      <td>England</td>\n",
       "    </tr>\n",
       "    <tr>\n",
       "      <th>Byrd</th>\n",
       "      <td>1540</td>\n",
       "      <td>1623.0</td>\n",
       "      <td>renaissance</td>\n",
       "      <td>England</td>\n",
       "    </tr>\n",
       "    <tr>\n",
       "      <th>Walton</th>\n",
       "      <td>1902</td>\n",
       "      <td>1983.0</td>\n",
       "      <td>modern</td>\n",
       "      <td>England</td>\n",
       "    </tr>\n",
       "    <tr>\n",
       "      <th>Adès</th>\n",
       "      <td>1971</td>\n",
       "      <td>NaN</td>\n",
       "      <td>modern</td>\n",
       "      <td>England</td>\n",
       "    </tr>\n",
       "    <tr>\n",
       "      <th>Bach</th>\n",
       "      <td>1685</td>\n",
       "      <td>1750.0</td>\n",
       "      <td>baroque</td>\n",
       "      <td>Germany</td>\n",
       "    </tr>\n",
       "    <tr>\n",
       "      <th>Wagner</th>\n",
       "      <td>1813</td>\n",
       "      <td>1883.0</td>\n",
       "      <td>romantic</td>\n",
       "      <td>Germany</td>\n",
       "    </tr>\n",
       "    <tr>\n",
       "      <th>Strauss</th>\n",
       "      <td>1864</td>\n",
       "      <td>1949.0</td>\n",
       "      <td>post-romantic</td>\n",
       "      <td>Germany</td>\n",
       "    </tr>\n",
       "    <tr>\n",
       "      <th>Orff</th>\n",
       "      <td>1895</td>\n",
       "      <td>1982.0</td>\n",
       "      <td>modern</td>\n",
       "      <td>Germany</td>\n",
       "    </tr>\n",
       "    <tr>\n",
       "      <th>Dusek</th>\n",
       "      <td>1731</td>\n",
       "      <td>1799.0</td>\n",
       "      <td>classic</td>\n",
       "      <td>Czechia</td>\n",
       "    </tr>\n",
       "    <tr>\n",
       "      <th>Smetana</th>\n",
       "      <td>1824</td>\n",
       "      <td>1884.0</td>\n",
       "      <td>romantic</td>\n",
       "      <td>Czechia</td>\n",
       "    </tr>\n",
       "    <tr>\n",
       "      <th>Janacek</th>\n",
       "      <td>1854</td>\n",
       "      <td>1928.0</td>\n",
       "      <td>modern</td>\n",
       "      <td>Czechia</td>\n",
       "    </tr>\n",
       "    <tr>\n",
       "      <th>Copland</th>\n",
       "      <td>1900</td>\n",
       "      <td>1990.0</td>\n",
       "      <td>modern</td>\n",
       "      <td>USA</td>\n",
       "    </tr>\n",
       "    <tr>\n",
       "      <th>Bernstein</th>\n",
       "      <td>1918</td>\n",
       "      <td>1990.0</td>\n",
       "      <td>modern</td>\n",
       "      <td>USA</td>\n",
       "    </tr>\n",
       "    <tr>\n",
       "      <th>Glass</th>\n",
       "      <td>1937</td>\n",
       "      <td>NaN</td>\n",
       "      <td>modern</td>\n",
       "      <td>USA</td>\n",
       "    </tr>\n",
       "  </tbody>\n",
       "</table>\n",
       "</div>"
      ],
      "text/plain": [
       "              birth   death         period  country\n",
       "composer                                           \n",
       "Mahler         1860  1911.0  post-romantic  Austria\n",
       "Beethoven      1770  1827.0       romantic  Germany\n",
       "Puccini        1858  1924.0  post-romantic    Italy\n",
       "Shostakovich   1906  1975.0         modern   Russia\n",
       "Verdi          1813  1901.0       romantic    Italy\n",
       "Dvorak         1841  1904.0       romantic  Czechia\n",
       "Schumann       1810  1856.0       romantic  Germany\n",
       "Stravinsky     1882  1971.0         modern   Russia\n",
       "Sibelius       1865  1957.0  post-romantic  Finland\n",
       "Haydn          1732  1809.0        classic  Austria\n",
       "Mozart         1756  1791.0        classic  Austria\n",
       "Messiaen       1908  1992.0         modern   France\n",
       "Prokofiev      1891  1953.0         modern   RUssia\n",
       "Monteverdi     1567  1643.0    renaissance    Italy\n",
       "Haendel        1685  1759.0        baroque  Germany\n",
       "Brahms         1833  1897.0       romantic  Germany\n",
       "Purcell        1659  1695.0        baroque  England\n",
       "Charpentier    1643  1704.0        baroque   France\n",
       "Bruckner       1824  1896.0  post-romantic  Austria\n",
       "Berg           1885  1935.0         modern  Austria\n",
       "Couperin       1626  1661.0        baroque   France\n",
       "Rameau         1683  1764.0        baroque   France\n",
       "Berlioz        1803  1869.0       romantic   France\n",
       "Gounod         1818  1893.0       romantic   France\n",
       "Massenet       1842  1912.0       romantic   France\n",
       "Boulez         1925  2016.0         modern   France\n",
       "Palestrina     1525  1594.0    renaissance    Italy\n",
       "Gesualdo       1566  1613.0    renaissance    Italy\n",
       "Caldara        1670  1736.0        baroque    Italy\n",
       "Pergolesi      1710  1736.0        baroque    Italy\n",
       "Scarlatti      1685  1757.0        baroque    Italy\n",
       "Caccini        1587  1640.0        baroque    Italy\n",
       "Cimarosa       1749  1801.0        classic    Italy\n",
       "Donizetti      1797  1848.0       romantic    Italy\n",
       "Leoncavallo    1858  1919.0       romantic    Italy\n",
       "Bellini        1801  1835.0       romantic    Italy\n",
       "Dufay          1397  1474.0    renaissance  Belgium\n",
       "Lassus         1532  1594.0    renaissance  Belgium\n",
       "Borodin        1833  1887.0       romantic   Russia\n",
       "Mussorsgsky    1839  1881.0       romantic   Russia\n",
       "Soler          1754  1806.0        classic    Spain\n",
       "Albeniz        1860  1909.0       romantic    Spain\n",
       "Granados       1867  1916.0       romantic    Spain\n",
       "Dowland        1563  1626.0    renaissance  England\n",
       "Byrd           1540  1623.0    renaissance  England\n",
       "Walton         1902  1983.0         modern  England\n",
       "Adès           1971     NaN         modern  England\n",
       "Bach           1685  1750.0        baroque  Germany\n",
       "Wagner         1813  1883.0       romantic  Germany\n",
       "Strauss        1864  1949.0  post-romantic  Germany\n",
       "Orff           1895  1982.0         modern  Germany\n",
       "Dusek          1731  1799.0        classic  Czechia\n",
       "Smetana        1824  1884.0       romantic  Czechia\n",
       "Janacek        1854  1928.0         modern  Czechia\n",
       "Copland        1900  1990.0         modern      USA\n",
       "Bernstein      1918  1990.0         modern      USA\n",
       "Glass          1937     NaN         modern      USA"
      ]
     },
     "execution_count": 83,
     "metadata": {},
     "output_type": "execute_result"
    }
   ],
   "source": [
    "composers_df"
   ]
  },
  {
   "cell_type": "code",
   "execution_count": 84,
   "metadata": {
    "ExecuteTime": {
     "end_time": "2020-06-25T08:56:13.601372Z",
     "start_time": "2020-06-25T08:56:13.518195Z"
    },
    "scrolled": true
   },
   "outputs": [
    {
     "data": {
      "text/html": [
       "<div>\n",
       "<style scoped>\n",
       "    .dataframe tbody tr th:only-of-type {\n",
       "        vertical-align: middle;\n",
       "    }\n",
       "\n",
       "    .dataframe tbody tr th {\n",
       "        vertical-align: top;\n",
       "    }\n",
       "\n",
       "    .dataframe thead th {\n",
       "        text-align: right;\n",
       "    }\n",
       "</style>\n",
       "<table border=\"1\" class=\"dataframe\">\n",
       "  <thead>\n",
       "    <tr style=\"text-align: right;\">\n",
       "      <th></th>\n",
       "      <th>birth</th>\n",
       "      <th>death</th>\n",
       "      <th>period</th>\n",
       "      <th>country</th>\n",
       "    </tr>\n",
       "    <tr>\n",
       "      <th>composer</th>\n",
       "      <th></th>\n",
       "      <th></th>\n",
       "      <th></th>\n",
       "      <th></th>\n",
       "    </tr>\n",
       "  </thead>\n",
       "  <tbody>\n",
       "    <tr>\n",
       "      <th>Mahler</th>\n",
       "      <td>1860</td>\n",
       "      <td>1911.0</td>\n",
       "      <td>post-romantic</td>\n",
       "      <td>Austria</td>\n",
       "    </tr>\n",
       "    <tr>\n",
       "      <th>Beethoven</th>\n",
       "      <td>1770</td>\n",
       "      <td>1827.0</td>\n",
       "      <td>romantic</td>\n",
       "      <td>Germany</td>\n",
       "    </tr>\n",
       "    <tr>\n",
       "      <th>Puccini</th>\n",
       "      <td>1858</td>\n",
       "      <td>1924.0</td>\n",
       "      <td>post-romantic</td>\n",
       "      <td>Italy</td>\n",
       "    </tr>\n",
       "    <tr>\n",
       "      <th>Shostakovich</th>\n",
       "      <td>1906</td>\n",
       "      <td>1975.0</td>\n",
       "      <td>modern</td>\n",
       "      <td>Russia</td>\n",
       "    </tr>\n",
       "    <tr>\n",
       "      <th>Verdi</th>\n",
       "      <td>1813</td>\n",
       "      <td>1901.0</td>\n",
       "      <td>romantic</td>\n",
       "      <td>Italy</td>\n",
       "    </tr>\n",
       "  </tbody>\n",
       "</table>\n",
       "</div>"
      ],
      "text/plain": [
       "              birth   death         period  country\n",
       "composer                                           \n",
       "Mahler         1860  1911.0  post-romantic  Austria\n",
       "Beethoven      1770  1827.0       romantic  Germany\n",
       "Puccini        1858  1924.0  post-romantic    Italy\n",
       "Shostakovich   1906  1975.0         modern   Russia\n",
       "Verdi          1813  1901.0       romantic    Italy"
      ]
     },
     "execution_count": 84,
     "metadata": {},
     "output_type": "execute_result"
    }
   ],
   "source": [
    "composers_df.head()"
   ]
  },
  {
   "cell_type": "markdown",
   "metadata": {},
   "source": [
    "What if we want now to count how many composers we have in each category? \n",
    "\n",
    "Pandas simplifies this with the `groupby()` function, which actually groups elements by a certain criteria, e.g. a categorical variable like the period:"
   ]
  },
  {
   "cell_type": "code",
   "execution_count": 85,
   "metadata": {
    "ExecuteTime": {
     "end_time": "2020-06-25T08:57:05.723610Z",
     "start_time": "2020-06-25T08:57:05.693209Z"
    }
   },
   "outputs": [
    {
     "data": {
      "text/plain": [
       "<pandas.core.groupby.generic.DataFrameGroupBy object at 0x15b014fd0>"
      ]
     },
     "execution_count": 85,
     "metadata": {},
     "output_type": "execute_result"
    }
   ],
   "source": [
    "composer_grouped = composers_df.groupby('period')\n",
    "composer_grouped"
   ]
  },
  {
   "cell_type": "markdown",
   "metadata": {},
   "source": [
    "The output is a bit cryptic. What we actually have is a new object called *group* which has a lot of handy properties. First let's see what the groups actually are. As for the Dataframe, let's look at a summary of the object:"
   ]
  },
  {
   "cell_type": "code",
   "execution_count": 86,
   "metadata": {
    "ExecuteTime": {
     "end_time": "2020-06-25T08:57:44.681494Z",
     "start_time": "2020-06-25T08:57:44.486278Z"
    }
   },
   "outputs": [
    {
     "data": {
      "text/html": [
       "<div>\n",
       "<style scoped>\n",
       "    .dataframe tbody tr th:only-of-type {\n",
       "        vertical-align: middle;\n",
       "    }\n",
       "\n",
       "    .dataframe tbody tr th {\n",
       "        vertical-align: top;\n",
       "    }\n",
       "\n",
       "    .dataframe thead tr th {\n",
       "        text-align: left;\n",
       "    }\n",
       "\n",
       "    .dataframe thead tr:last-of-type th {\n",
       "        text-align: right;\n",
       "    }\n",
       "</style>\n",
       "<table border=\"1\" class=\"dataframe\">\n",
       "  <thead>\n",
       "    <tr>\n",
       "      <th></th>\n",
       "      <th colspan=\"8\" halign=\"left\">birth</th>\n",
       "      <th colspan=\"8\" halign=\"left\">death</th>\n",
       "    </tr>\n",
       "    <tr>\n",
       "      <th></th>\n",
       "      <th>count</th>\n",
       "      <th>mean</th>\n",
       "      <th>std</th>\n",
       "      <th>min</th>\n",
       "      <th>25%</th>\n",
       "      <th>50%</th>\n",
       "      <th>75%</th>\n",
       "      <th>max</th>\n",
       "      <th>count</th>\n",
       "      <th>mean</th>\n",
       "      <th>std</th>\n",
       "      <th>min</th>\n",
       "      <th>25%</th>\n",
       "      <th>50%</th>\n",
       "      <th>75%</th>\n",
       "      <th>max</th>\n",
       "    </tr>\n",
       "    <tr>\n",
       "      <th>period</th>\n",
       "      <th></th>\n",
       "      <th></th>\n",
       "      <th></th>\n",
       "      <th></th>\n",
       "      <th></th>\n",
       "      <th></th>\n",
       "      <th></th>\n",
       "      <th></th>\n",
       "      <th></th>\n",
       "      <th></th>\n",
       "      <th></th>\n",
       "      <th></th>\n",
       "      <th></th>\n",
       "      <th></th>\n",
       "      <th></th>\n",
       "      <th></th>\n",
       "    </tr>\n",
       "  </thead>\n",
       "  <tbody>\n",
       "    <tr>\n",
       "      <th>baroque</th>\n",
       "      <td>10.0</td>\n",
       "      <td>1663.300000</td>\n",
       "      <td>36.009412</td>\n",
       "      <td>1587.0</td>\n",
       "      <td>1647.0</td>\n",
       "      <td>1676.5</td>\n",
       "      <td>1685.0</td>\n",
       "      <td>1710.0</td>\n",
       "      <td>10.0</td>\n",
       "      <td>1720.200000</td>\n",
       "      <td>43.460838</td>\n",
       "      <td>1640.0</td>\n",
       "      <td>1697.25</td>\n",
       "      <td>1736.0</td>\n",
       "      <td>1755.25</td>\n",
       "      <td>1764.0</td>\n",
       "    </tr>\n",
       "    <tr>\n",
       "      <th>classic</th>\n",
       "      <td>5.0</td>\n",
       "      <td>1744.400000</td>\n",
       "      <td>12.054045</td>\n",
       "      <td>1731.0</td>\n",
       "      <td>1732.0</td>\n",
       "      <td>1749.0</td>\n",
       "      <td>1754.0</td>\n",
       "      <td>1756.0</td>\n",
       "      <td>5.0</td>\n",
       "      <td>1801.200000</td>\n",
       "      <td>6.942622</td>\n",
       "      <td>1791.0</td>\n",
       "      <td>1799.00</td>\n",
       "      <td>1801.0</td>\n",
       "      <td>1806.00</td>\n",
       "      <td>1809.0</td>\n",
       "    </tr>\n",
       "    <tr>\n",
       "      <th>modern</th>\n",
       "      <td>13.0</td>\n",
       "      <td>1905.692308</td>\n",
       "      <td>28.595992</td>\n",
       "      <td>1854.0</td>\n",
       "      <td>1891.0</td>\n",
       "      <td>1902.0</td>\n",
       "      <td>1918.0</td>\n",
       "      <td>1971.0</td>\n",
       "      <td>11.0</td>\n",
       "      <td>1974.090909</td>\n",
       "      <td>26.139834</td>\n",
       "      <td>1928.0</td>\n",
       "      <td>1962.00</td>\n",
       "      <td>1982.0</td>\n",
       "      <td>1990.00</td>\n",
       "      <td>2016.0</td>\n",
       "    </tr>\n",
       "    <tr>\n",
       "      <th>post-romantic</th>\n",
       "      <td>5.0</td>\n",
       "      <td>1854.200000</td>\n",
       "      <td>17.123084</td>\n",
       "      <td>1824.0</td>\n",
       "      <td>1858.0</td>\n",
       "      <td>1860.0</td>\n",
       "      <td>1864.0</td>\n",
       "      <td>1865.0</td>\n",
       "      <td>5.0</td>\n",
       "      <td>1927.400000</td>\n",
       "      <td>25.540164</td>\n",
       "      <td>1896.0</td>\n",
       "      <td>1911.00</td>\n",
       "      <td>1924.0</td>\n",
       "      <td>1949.00</td>\n",
       "      <td>1957.0</td>\n",
       "    </tr>\n",
       "    <tr>\n",
       "      <th>renaissance</th>\n",
       "      <td>7.0</td>\n",
       "      <td>1527.142857</td>\n",
       "      <td>59.881629</td>\n",
       "      <td>1397.0</td>\n",
       "      <td>1528.5</td>\n",
       "      <td>1540.0</td>\n",
       "      <td>1564.5</td>\n",
       "      <td>1567.0</td>\n",
       "      <td>7.0</td>\n",
       "      <td>1595.285714</td>\n",
       "      <td>56.295986</td>\n",
       "      <td>1474.0</td>\n",
       "      <td>1594.00</td>\n",
       "      <td>1613.0</td>\n",
       "      <td>1624.50</td>\n",
       "      <td>1643.0</td>\n",
       "    </tr>\n",
       "    <tr>\n",
       "      <th>romantic</th>\n",
       "      <td>17.0</td>\n",
       "      <td>1824.823529</td>\n",
       "      <td>25.468695</td>\n",
       "      <td>1770.0</td>\n",
       "      <td>1810.0</td>\n",
       "      <td>1824.0</td>\n",
       "      <td>1841.0</td>\n",
       "      <td>1867.0</td>\n",
       "      <td>17.0</td>\n",
       "      <td>1883.588235</td>\n",
       "      <td>28.026904</td>\n",
       "      <td>1827.0</td>\n",
       "      <td>1869.00</td>\n",
       "      <td>1887.0</td>\n",
       "      <td>1904.00</td>\n",
       "      <td>1919.0</td>\n",
       "    </tr>\n",
       "  </tbody>\n",
       "</table>\n",
       "</div>"
      ],
      "text/plain": [
       "              birth                                                          \\\n",
       "              count         mean        std     min     25%     50%     75%   \n",
       "period                                                                        \n",
       "baroque        10.0  1663.300000  36.009412  1587.0  1647.0  1676.5  1685.0   \n",
       "classic         5.0  1744.400000  12.054045  1731.0  1732.0  1749.0  1754.0   \n",
       "modern         13.0  1905.692308  28.595992  1854.0  1891.0  1902.0  1918.0   \n",
       "post-romantic   5.0  1854.200000  17.123084  1824.0  1858.0  1860.0  1864.0   \n",
       "renaissance     7.0  1527.142857  59.881629  1397.0  1528.5  1540.0  1564.5   \n",
       "romantic       17.0  1824.823529  25.468695  1770.0  1810.0  1824.0  1841.0   \n",
       "\n",
       "                      death                                                   \\\n",
       "                  max count         mean        std     min      25%     50%   \n",
       "period                                                                         \n",
       "baroque        1710.0  10.0  1720.200000  43.460838  1640.0  1697.25  1736.0   \n",
       "classic        1756.0   5.0  1801.200000   6.942622  1791.0  1799.00  1801.0   \n",
       "modern         1971.0  11.0  1974.090909  26.139834  1928.0  1962.00  1982.0   \n",
       "post-romantic  1865.0   5.0  1927.400000  25.540164  1896.0  1911.00  1924.0   \n",
       "renaissance    1567.0   7.0  1595.285714  56.295986  1474.0  1594.00  1613.0   \n",
       "romantic       1867.0  17.0  1883.588235  28.026904  1827.0  1869.00  1887.0   \n",
       "\n",
       "                                \n",
       "                   75%     max  \n",
       "period                          \n",
       "baroque        1755.25  1764.0  \n",
       "classic        1806.00  1809.0  \n",
       "modern         1990.00  2016.0  \n",
       "post-romantic  1949.00  1957.0  \n",
       "renaissance    1624.50  1643.0  \n",
       "romantic       1904.00  1919.0  "
      ]
     },
     "execution_count": 86,
     "metadata": {},
     "output_type": "execute_result"
    }
   ],
   "source": [
    "composer_grouped.describe()"
   ]
  },
  {
   "cell_type": "markdown",
   "metadata": {},
   "source": [
    "So we have a dataframe with a statistical summary of the the contents. The \"names\" of the groups are here the indices of the Dataframe. These names are simply all the different categories that were present in the column we used for grouping. Now we can recover a single group:"
   ]
  },
  {
   "cell_type": "code",
   "execution_count": 87,
   "metadata": {
    "ExecuteTime": {
     "end_time": "2020-06-25T08:58:36.933456Z",
     "start_time": "2020-06-25T08:58:36.907796Z"
    }
   },
   "outputs": [
    {
     "data": {
      "text/html": [
       "<div>\n",
       "<style scoped>\n",
       "    .dataframe tbody tr th:only-of-type {\n",
       "        vertical-align: middle;\n",
       "    }\n",
       "\n",
       "    .dataframe tbody tr th {\n",
       "        vertical-align: top;\n",
       "    }\n",
       "\n",
       "    .dataframe thead th {\n",
       "        text-align: right;\n",
       "    }\n",
       "</style>\n",
       "<table border=\"1\" class=\"dataframe\">\n",
       "  <thead>\n",
       "    <tr style=\"text-align: right;\">\n",
       "      <th></th>\n",
       "      <th>birth</th>\n",
       "      <th>death</th>\n",
       "      <th>period</th>\n",
       "      <th>country</th>\n",
       "    </tr>\n",
       "    <tr>\n",
       "      <th>composer</th>\n",
       "      <th></th>\n",
       "      <th></th>\n",
       "      <th></th>\n",
       "      <th></th>\n",
       "    </tr>\n",
       "  </thead>\n",
       "  <tbody>\n",
       "    <tr>\n",
       "      <th>Haendel</th>\n",
       "      <td>1685</td>\n",
       "      <td>1759.0</td>\n",
       "      <td>baroque</td>\n",
       "      <td>Germany</td>\n",
       "    </tr>\n",
       "    <tr>\n",
       "      <th>Purcell</th>\n",
       "      <td>1659</td>\n",
       "      <td>1695.0</td>\n",
       "      <td>baroque</td>\n",
       "      <td>England</td>\n",
       "    </tr>\n",
       "    <tr>\n",
       "      <th>Charpentier</th>\n",
       "      <td>1643</td>\n",
       "      <td>1704.0</td>\n",
       "      <td>baroque</td>\n",
       "      <td>France</td>\n",
       "    </tr>\n",
       "    <tr>\n",
       "      <th>Couperin</th>\n",
       "      <td>1626</td>\n",
       "      <td>1661.0</td>\n",
       "      <td>baroque</td>\n",
       "      <td>France</td>\n",
       "    </tr>\n",
       "    <tr>\n",
       "      <th>Rameau</th>\n",
       "      <td>1683</td>\n",
       "      <td>1764.0</td>\n",
       "      <td>baroque</td>\n",
       "      <td>France</td>\n",
       "    </tr>\n",
       "    <tr>\n",
       "      <th>Caldara</th>\n",
       "      <td>1670</td>\n",
       "      <td>1736.0</td>\n",
       "      <td>baroque</td>\n",
       "      <td>Italy</td>\n",
       "    </tr>\n",
       "    <tr>\n",
       "      <th>Pergolesi</th>\n",
       "      <td>1710</td>\n",
       "      <td>1736.0</td>\n",
       "      <td>baroque</td>\n",
       "      <td>Italy</td>\n",
       "    </tr>\n",
       "    <tr>\n",
       "      <th>Scarlatti</th>\n",
       "      <td>1685</td>\n",
       "      <td>1757.0</td>\n",
       "      <td>baroque</td>\n",
       "      <td>Italy</td>\n",
       "    </tr>\n",
       "    <tr>\n",
       "      <th>Caccini</th>\n",
       "      <td>1587</td>\n",
       "      <td>1640.0</td>\n",
       "      <td>baroque</td>\n",
       "      <td>Italy</td>\n",
       "    </tr>\n",
       "    <tr>\n",
       "      <th>Bach</th>\n",
       "      <td>1685</td>\n",
       "      <td>1750.0</td>\n",
       "      <td>baroque</td>\n",
       "      <td>Germany</td>\n",
       "    </tr>\n",
       "  </tbody>\n",
       "</table>\n",
       "</div>"
      ],
      "text/plain": [
       "             birth   death   period  country\n",
       "composer                                    \n",
       "Haendel       1685  1759.0  baroque  Germany\n",
       "Purcell       1659  1695.0  baroque  England\n",
       "Charpentier   1643  1704.0  baroque   France\n",
       "Couperin      1626  1661.0  baroque   France\n",
       "Rameau        1683  1764.0  baroque   France\n",
       "Caldara       1670  1736.0  baroque    Italy\n",
       "Pergolesi     1710  1736.0  baroque    Italy\n",
       "Scarlatti     1685  1757.0  baroque    Italy\n",
       "Caccini       1587  1640.0  baroque    Italy\n",
       "Bach          1685  1750.0  baroque  Germany"
      ]
     },
     "execution_count": 87,
     "metadata": {},
     "output_type": "execute_result"
    }
   ],
   "source": [
    "composer_grouped.get_group('baroque')"
   ]
  },
  {
   "cell_type": "markdown",
   "metadata": {},
   "source": [
    "If one has multiple categorical variables, one can also do a grouping on several levels. For example here we want to classify composers both by period and country. For this we just give two column names to the `groupby()` function:\n"
   ]
  },
  {
   "cell_type": "code",
   "execution_count": 88,
   "metadata": {
    "ExecuteTime": {
     "end_time": "2020-06-25T08:59:41.133661Z",
     "start_time": "2020-06-25T08:59:41.051149Z"
    }
   },
   "outputs": [
    {
     "data": {
      "text/html": [
       "<div>\n",
       "<style scoped>\n",
       "    .dataframe tbody tr th:only-of-type {\n",
       "        vertical-align: middle;\n",
       "    }\n",
       "\n",
       "    .dataframe tbody tr th {\n",
       "        vertical-align: top;\n",
       "    }\n",
       "\n",
       "    .dataframe thead th {\n",
       "        text-align: right;\n",
       "    }\n",
       "</style>\n",
       "<table border=\"1\" class=\"dataframe\">\n",
       "  <thead>\n",
       "    <tr style=\"text-align: right;\">\n",
       "      <th></th>\n",
       "      <th>birth</th>\n",
       "      <th>death</th>\n",
       "      <th>period</th>\n",
       "      <th>country</th>\n",
       "    </tr>\n",
       "    <tr>\n",
       "      <th>composer</th>\n",
       "      <th></th>\n",
       "      <th></th>\n",
       "      <th></th>\n",
       "      <th></th>\n",
       "    </tr>\n",
       "  </thead>\n",
       "  <tbody>\n",
       "    <tr>\n",
       "      <th>Haendel</th>\n",
       "      <td>1685</td>\n",
       "      <td>1759.0</td>\n",
       "      <td>baroque</td>\n",
       "      <td>Germany</td>\n",
       "    </tr>\n",
       "    <tr>\n",
       "      <th>Bach</th>\n",
       "      <td>1685</td>\n",
       "      <td>1750.0</td>\n",
       "      <td>baroque</td>\n",
       "      <td>Germany</td>\n",
       "    </tr>\n",
       "  </tbody>\n",
       "</table>\n",
       "</div>"
      ],
      "text/plain": [
       "          birth   death   period  country\n",
       "composer                                 \n",
       "Haendel    1685  1759.0  baroque  Germany\n",
       "Bach       1685  1750.0  baroque  Germany"
      ]
     },
     "execution_count": 88,
     "metadata": {},
     "output_type": "execute_result"
    }
   ],
   "source": [
    "composer_grouped = composers_df.groupby(['period','country'])\n",
    "composer_grouped.get_group(('baroque','Germany'))"
   ]
  },
  {
   "cell_type": "code",
   "execution_count": 89,
   "metadata": {},
   "outputs": [
    {
     "name": "stdout",
     "output_type": "stream",
     "text": [
      "('baroque', 'England')\n",
      "('baroque', 'France')\n",
      "('baroque', 'Germany')\n",
      "('baroque', 'Italy')\n",
      "('classic', 'Austria')\n",
      "('classic', 'Czechia')\n",
      "('classic', 'Italy')\n",
      "('classic', 'Spain')\n",
      "('modern', 'Austria')\n",
      "('modern', 'Czechia')\n",
      "('modern', 'England')\n",
      "('modern', 'France')\n",
      "('modern', 'Germany')\n",
      "('modern', 'RUssia')\n",
      "('modern', 'Russia')\n",
      "('modern', 'USA')\n",
      "('post-romantic', 'Austria')\n",
      "('post-romantic', 'Finland')\n",
      "('post-romantic', 'Germany')\n",
      "('post-romantic', 'Italy')\n",
      "('renaissance', 'Belgium')\n",
      "('renaissance', 'England')\n",
      "('renaissance', 'Italy')\n",
      "('romantic', 'Czechia')\n",
      "('romantic', 'France')\n",
      "('romantic', 'Germany')\n",
      "('romantic', 'Italy')\n",
      "('romantic', 'Russia')\n",
      "('romantic', 'Spain')\n"
     ]
    }
   ],
   "source": [
    "for k,v in composer_grouped:\n",
    "    print(k)\n",
    "#     display(v)"
   ]
  },
  {
   "cell_type": "markdown",
   "metadata": {},
   "source": [
    "The main advantage of this Group object is that it allows us to do very quickly both computations and plotting without having to loop through different categories. Indeed Pandas makes all the work for us: it applies functions on each group and then reassembles the results into a Dataframe (or Series depending on output).\n",
    "For example we can apply most functions we used for Dataframes (mean, sum etc.) on groups as well and Pandas seamlessly does the work for us."
   ]
  },
  {
   "cell_type": "markdown",
   "metadata": {},
   "source": [
    "### Grouping on index"
   ]
  },
  {
   "cell_type": "code",
   "execution_count": 90,
   "metadata": {},
   "outputs": [
    {
     "data": {
      "text/html": [
       "<div>\n",
       "<style scoped>\n",
       "    .dataframe tbody tr th:only-of-type {\n",
       "        vertical-align: middle;\n",
       "    }\n",
       "\n",
       "    .dataframe tbody tr th {\n",
       "        vertical-align: top;\n",
       "    }\n",
       "\n",
       "    .dataframe thead th {\n",
       "        text-align: right;\n",
       "    }\n",
       "</style>\n",
       "<table border=\"1\" class=\"dataframe\">\n",
       "  <thead>\n",
       "    <tr style=\"text-align: right;\">\n",
       "      <th></th>\n",
       "      <th>a</th>\n",
       "      <th>b</th>\n",
       "    </tr>\n",
       "  </thead>\n",
       "  <tbody>\n",
       "    <tr>\n",
       "      <th>0</th>\n",
       "      <td>1</td>\n",
       "      <td>4</td>\n",
       "    </tr>\n",
       "    <tr>\n",
       "      <th>1</th>\n",
       "      <td>2</td>\n",
       "      <td>5</td>\n",
       "    </tr>\n",
       "    <tr>\n",
       "      <th>2</th>\n",
       "      <td>3</td>\n",
       "      <td>6</td>\n",
       "    </tr>\n",
       "  </tbody>\n",
       "</table>\n",
       "</div>"
      ],
      "text/plain": [
       "   a  b\n",
       "0  1  4\n",
       "1  2  5\n",
       "2  3  6"
      ]
     },
     "execution_count": 90,
     "metadata": {},
     "output_type": "execute_result"
    }
   ],
   "source": [
    "df1 = pd.DataFrame({'a':[1,2,3], 'b':[4,5,6]})\n",
    "df1"
   ]
  },
  {
   "cell_type": "code",
   "execution_count": 91,
   "metadata": {},
   "outputs": [
    {
     "data": {
      "text/html": [
       "<div>\n",
       "<style scoped>\n",
       "    .dataframe tbody tr th:only-of-type {\n",
       "        vertical-align: middle;\n",
       "    }\n",
       "\n",
       "    .dataframe tbody tr th {\n",
       "        vertical-align: top;\n",
       "    }\n",
       "\n",
       "    .dataframe thead th {\n",
       "        text-align: right;\n",
       "    }\n",
       "</style>\n",
       "<table border=\"1\" class=\"dataframe\">\n",
       "  <thead>\n",
       "    <tr style=\"text-align: right;\">\n",
       "      <th></th>\n",
       "      <th>a</th>\n",
       "      <th>b</th>\n",
       "    </tr>\n",
       "  </thead>\n",
       "  <tbody>\n",
       "    <tr>\n",
       "      <th>0</th>\n",
       "      <td>1</td>\n",
       "      <td>8</td>\n",
       "    </tr>\n",
       "    <tr>\n",
       "      <th>1</th>\n",
       "      <td>5</td>\n",
       "      <td>0</td>\n",
       "    </tr>\n",
       "  </tbody>\n",
       "</table>\n",
       "</div>"
      ],
      "text/plain": [
       "   a  b\n",
       "0  1  8\n",
       "1  5  0"
      ]
     },
     "execution_count": 91,
     "metadata": {},
     "output_type": "execute_result"
    }
   ],
   "source": [
    "df2 = pd.DataFrame({'a':[1,5], 'b':[8,0]})\n",
    "df2"
   ]
  },
  {
   "cell_type": "code",
   "execution_count": 92,
   "metadata": {},
   "outputs": [
    {
     "data": {
      "text/html": [
       "<div>\n",
       "<style scoped>\n",
       "    .dataframe tbody tr th:only-of-type {\n",
       "        vertical-align: middle;\n",
       "    }\n",
       "\n",
       "    .dataframe tbody tr th {\n",
       "        vertical-align: top;\n",
       "    }\n",
       "\n",
       "    .dataframe thead th {\n",
       "        text-align: right;\n",
       "    }\n",
       "</style>\n",
       "<table border=\"1\" class=\"dataframe\">\n",
       "  <thead>\n",
       "    <tr style=\"text-align: right;\">\n",
       "      <th></th>\n",
       "      <th>a</th>\n",
       "      <th>b</th>\n",
       "    </tr>\n",
       "  </thead>\n",
       "  <tbody>\n",
       "    <tr>\n",
       "      <th>0</th>\n",
       "      <td>1</td>\n",
       "      <td>4</td>\n",
       "    </tr>\n",
       "    <tr>\n",
       "      <th>1</th>\n",
       "      <td>2</td>\n",
       "      <td>5</td>\n",
       "    </tr>\n",
       "    <tr>\n",
       "      <th>2</th>\n",
       "      <td>3</td>\n",
       "      <td>6</td>\n",
       "    </tr>\n",
       "    <tr>\n",
       "      <th>0</th>\n",
       "      <td>1</td>\n",
       "      <td>8</td>\n",
       "    </tr>\n",
       "    <tr>\n",
       "      <th>1</th>\n",
       "      <td>5</td>\n",
       "      <td>0</td>\n",
       "    </tr>\n",
       "  </tbody>\n",
       "</table>\n",
       "</div>"
      ],
      "text/plain": [
       "   a  b\n",
       "0  1  4\n",
       "1  2  5\n",
       "2  3  6\n",
       "0  1  8\n",
       "1  5  0"
      ]
     },
     "execution_count": 92,
     "metadata": {},
     "output_type": "execute_result"
    }
   ],
   "source": [
    "df_concat = pd.concat([df1,df2])\n",
    "df_concat"
   ]
  },
  {
   "cell_type": "code",
   "execution_count": 93,
   "metadata": {},
   "outputs": [
    {
     "data": {
      "text/html": [
       "<div>\n",
       "<style scoped>\n",
       "    .dataframe tbody tr th:only-of-type {\n",
       "        vertical-align: middle;\n",
       "    }\n",
       "\n",
       "    .dataframe tbody tr th {\n",
       "        vertical-align: top;\n",
       "    }\n",
       "\n",
       "    .dataframe thead th {\n",
       "        text-align: right;\n",
       "    }\n",
       "</style>\n",
       "<table border=\"1\" class=\"dataframe\">\n",
       "  <thead>\n",
       "    <tr style=\"text-align: right;\">\n",
       "      <th></th>\n",
       "      <th>a</th>\n",
       "      <th>b</th>\n",
       "    </tr>\n",
       "  </thead>\n",
       "  <tbody>\n",
       "    <tr>\n",
       "      <th>0</th>\n",
       "      <td>1</td>\n",
       "      <td>4</td>\n",
       "    </tr>\n",
       "    <tr>\n",
       "      <th>0</th>\n",
       "      <td>1</td>\n",
       "      <td>8</td>\n",
       "    </tr>\n",
       "  </tbody>\n",
       "</table>\n",
       "</div>"
      ],
      "text/plain": [
       "   a  b\n",
       "0  1  4\n",
       "0  1  8"
      ]
     },
     "metadata": {},
     "output_type": "display_data"
    },
    {
     "data": {
      "text/html": [
       "<div>\n",
       "<style scoped>\n",
       "    .dataframe tbody tr th:only-of-type {\n",
       "        vertical-align: middle;\n",
       "    }\n",
       "\n",
       "    .dataframe tbody tr th {\n",
       "        vertical-align: top;\n",
       "    }\n",
       "\n",
       "    .dataframe thead th {\n",
       "        text-align: right;\n",
       "    }\n",
       "</style>\n",
       "<table border=\"1\" class=\"dataframe\">\n",
       "  <thead>\n",
       "    <tr style=\"text-align: right;\">\n",
       "      <th></th>\n",
       "      <th>a</th>\n",
       "      <th>b</th>\n",
       "    </tr>\n",
       "  </thead>\n",
       "  <tbody>\n",
       "    <tr>\n",
       "      <th>1</th>\n",
       "      <td>2</td>\n",
       "      <td>5</td>\n",
       "    </tr>\n",
       "    <tr>\n",
       "      <th>1</th>\n",
       "      <td>5</td>\n",
       "      <td>0</td>\n",
       "    </tr>\n",
       "  </tbody>\n",
       "</table>\n",
       "</div>"
      ],
      "text/plain": [
       "   a  b\n",
       "1  2  5\n",
       "1  5  0"
      ]
     },
     "metadata": {},
     "output_type": "display_data"
    },
    {
     "data": {
      "text/html": [
       "<div>\n",
       "<style scoped>\n",
       "    .dataframe tbody tr th:only-of-type {\n",
       "        vertical-align: middle;\n",
       "    }\n",
       "\n",
       "    .dataframe tbody tr th {\n",
       "        vertical-align: top;\n",
       "    }\n",
       "\n",
       "    .dataframe thead th {\n",
       "        text-align: right;\n",
       "    }\n",
       "</style>\n",
       "<table border=\"1\" class=\"dataframe\">\n",
       "  <thead>\n",
       "    <tr style=\"text-align: right;\">\n",
       "      <th></th>\n",
       "      <th>a</th>\n",
       "      <th>b</th>\n",
       "    </tr>\n",
       "  </thead>\n",
       "  <tbody>\n",
       "    <tr>\n",
       "      <th>2</th>\n",
       "      <td>3</td>\n",
       "      <td>6</td>\n",
       "    </tr>\n",
       "  </tbody>\n",
       "</table>\n",
       "</div>"
      ],
      "text/plain": [
       "   a  b\n",
       "2  3  6"
      ]
     },
     "metadata": {},
     "output_type": "display_data"
    }
   ],
   "source": [
    "by_row_index = df_concat.groupby(df_concat.index)\n",
    "for index_value, group in by_row_index:\n",
    "    display(group)"
   ]
  },
  {
   "cell_type": "code",
   "execution_count": 94,
   "metadata": {},
   "outputs": [
    {
     "data": {
      "text/html": [
       "<div>\n",
       "<style scoped>\n",
       "    .dataframe tbody tr th:only-of-type {\n",
       "        vertical-align: middle;\n",
       "    }\n",
       "\n",
       "    .dataframe tbody tr th {\n",
       "        vertical-align: top;\n",
       "    }\n",
       "\n",
       "    .dataframe thead th {\n",
       "        text-align: right;\n",
       "    }\n",
       "</style>\n",
       "<table border=\"1\" class=\"dataframe\">\n",
       "  <thead>\n",
       "    <tr style=\"text-align: right;\">\n",
       "      <th></th>\n",
       "      <th>a</th>\n",
       "      <th>b</th>\n",
       "    </tr>\n",
       "  </thead>\n",
       "  <tbody>\n",
       "    <tr>\n",
       "      <th>0</th>\n",
       "      <td>1.0</td>\n",
       "      <td>6.0</td>\n",
       "    </tr>\n",
       "    <tr>\n",
       "      <th>1</th>\n",
       "      <td>3.5</td>\n",
       "      <td>2.5</td>\n",
       "    </tr>\n",
       "    <tr>\n",
       "      <th>2</th>\n",
       "      <td>3.0</td>\n",
       "      <td>6.0</td>\n",
       "    </tr>\n",
       "  </tbody>\n",
       "</table>\n",
       "</div>"
      ],
      "text/plain": [
       "     a    b\n",
       "0  1.0  6.0\n",
       "1  3.5  2.5\n",
       "2  3.0  6.0"
      ]
     },
     "execution_count": 94,
     "metadata": {},
     "output_type": "execute_result"
    }
   ],
   "source": [
    "df_avg = by_row_index.mean()\n",
    "df_avg"
   ]
  },
  {
   "cell_type": "markdown",
   "metadata": {},
   "source": [
    "# Matplotlib: plotting examples\n",
    "\n",
    "recommended reading: \n",
    "- [Sample plots in Matplotlib](https://matplotlib.org/stable/gallery/index.html)\n",
    "\n",
    "Matplotlib is an excellent 2D and 3D graphics library for generating scientific figures. Some of the many advantages of this library include:\n",
    "* Easy to get started\n",
    "* Support for $\\LaTeX$ formatted labels and texts\n",
    "* Great control of every element in a figure, including figure size and DPI.\n",
    "* High-quality output in many formats, including PNG, PDF, SVG, EPS, and PGF.\n",
    "* The figure can be controlled programmatically."
   ]
  },
  {
   "cell_type": "code",
   "execution_count": 95,
   "metadata": {},
   "outputs": [],
   "source": [
    "from matplotlib import pyplot as plt\n"
   ]
  },
  {
   "cell_type": "code",
   "execution_count": 96,
   "metadata": {},
   "outputs": [],
   "source": [
    "t = np.arange(0,10,0.1)\n",
    "sin_t = np.sin(2*np.pi*t/5)\n",
    "cos_t = np.cos(2*np.pi*t/5)\n"
   ]
  },
  {
   "cell_type": "code",
   "execution_count": 97,
   "metadata": {},
   "outputs": [
    {
     "data": {
      "text/plain": [
       "[<matplotlib.lines.Line2D at 0x15bf3ca60>]"
      ]
     },
     "execution_count": 97,
     "metadata": {},
     "output_type": "execute_result"
    },
    {
     "data": {
      "image/png": "[encoded data removed]",
      "text/plain": [
       "<Figure size 640x480 with 1 Axes>"
      ]
     },
     "metadata": {},
     "output_type": "display_data"
    }
   ],
   "source": [
    "plt.plot(t,cos_t)\n",
    "# plt.show()\n",
    "plt.plot(t,sin_t)"
   ]
  },
  {
   "cell_type": "markdown",
   "metadata": {},
   "source": [
    "### Pyplot Functions\n",
    "\n",
    "There are many `pyplot` functions available for us to customize our figures. For example:\n",
    "\n",
    "| Fucntion | Description |\n",
    "| ---: | :--- |\n",
    "| `plt.xlim` | set $x$ limits |\n",
    "| `plt.ylim` | set $y$ limits |\n",
    "| `plt.grid` | add grid lines |\n",
    "| `plt.title` | add a title |\n",
    "| `plt.xlabel` | add label to the horizontal axis |\n",
    "| `plt.ylabel` | add label to the vertical axis |\n",
    "| `plt.axis` | set axis properties (`equal`, `off`, `scaled`, etc.) |\n",
    "| `plt.xticks` | set tick locations on the horizontal axis |\n",
    "| `plt.yticks` | set tick locations on the vertical axis |\n",
    "| `plt.legend` | display legend for several lines in the same figure |\n",
    "| `plt.savefig` | save figure (as .png, .pdf, etc.) to working directory |\n",
    "| `plt.figure` | create a new figure and set its properties |\n",
    "\n",
    "See the [pyplot documentation](https://matplotlib.org/api/pyplot_summary.html) for a full list of functions."
   ]
  },
  {
   "cell_type": "code",
   "execution_count": 98,
   "metadata": {},
   "outputs": [
    {
     "data": {
      "image/png": "[encoded data removed]",
      "text/plain": [
       "<Figure size 1500x500 with 1 Axes>"
      ]
     },
     "metadata": {},
     "output_type": "display_data"
    }
   ],
   "source": [
    "plt.figure(figsize = (15,5)) # figsize is a tuple of the width and height of the figure in inches\n",
    "plt.plot(t,cos_t,'.r', label = r\"$cos(\\theta)$\") # \".r\" is a format string which denotes linestyle=None, marker = '.' and color = 'red' \n",
    "plt.plot(t,sin_t,'--g', label = r\"$sin(\\theta)$\")# \"--g\" is a format string which denotes linestyle=dashed and color = 'green' \n",
    "plt.title('two functions')\n",
    "plt.xlabel(r\"$\\theta$\")\n",
    "plt.ylabel('values')\n",
    "plt.ylim([-1.1,1.1])\n",
    "plt.legend()\n",
    "plt.grid(axis = 'y')\n",
    "\n",
    "# plt.legend(loc=0) # let matplotlib decide the optimal location\n",
    "# plt.legend(loc=1) # upper right corner\n",
    "# plt.legend(loc=2) # upper left corner\n",
    "# plt.legend(loc=3) # lower left corner\n",
    "# plt.legend(loc=4) # lower right corner\n",
    "# # .. many more options are available\n",
    "\n",
    "plt.savefig('out/example_figure.png', format = 'png')\n",
    "plt.show()"
   ]
  },
  {
   "cell_type": "markdown",
   "metadata": {},
   "source": [
    "#### Colors\n",
    "\n",
    "| Character | Color |\n",
    "| :---: | :---: |\n",
    "| `b` | blue |\n",
    "| `g` | green |\n",
    "| `r` | red |\n",
    "| `c` | cyan |\n",
    "| `m` | magenta |\n",
    "| `y` | yellow |\n",
    "| `k` | black |\n",
    "| `w` | white |\n"
   ]
  },
  {
   "cell_type": "markdown",
   "metadata": {},
   "source": [
    "#### Markers\n",
    "\n",
    "| Character | Marker |\n",
    "| :---: | :---: |\n",
    "| `.` | point |\n",
    "| `o` | circle |\n",
    "| `v` | triangle down |\n",
    "| `^` | triangle up |\n",
    "| `s` | square |\n",
    "| `p` | pentagon |\n",
    "| `*` |\tstar |\n",
    "| `+` | plus |\n",
    "| `x` |\tx |\n",
    "| `D` | diamond |"
   ]
  },
  {
   "cell_type": "markdown",
   "metadata": {},
   "source": [
    "#### Line Styles\n",
    "\n",
    "| Character | Line Style |\n",
    "| :---: | :---: |\n",
    "| `-` | solid line style |\n",
    "| `--` | dashed line style |\n",
    "| `-.` | dash-dot line style |\n",
    "| `:` | dotted line style |\n",
    "\n",
    "See the [matplotlib.pyplot.plot documentation](https://matplotlib.org/api/_as_gen/matplotlib.pyplot.plot.html) for more options."
   ]
  },
  {
   "cell_type": "markdown",
   "metadata": {},
   "source": [
    "### Subplots"
   ]
  },
  {
   "cell_type": "markdown",
   "metadata": {},
   "source": [
    "We start by storing a reference to the newly created figure instance and the axes array in the `f` and `axarr` variables, respectively"
   ]
  },
  {
   "cell_type": "code",
   "execution_count": 99,
   "metadata": {},
   "outputs": [
    {
     "data": {
      "image/png": "[encoded data removed]",
      "text/plain": [
       "<Figure size 640x480 with 2 Axes>"
      ]
     },
     "metadata": {},
     "output_type": "display_data"
    }
   ],
   "source": [
    "# Two subplots, the axes array is 1-d\n",
    "f, axarr = plt.subplots(2, sharex=True) \n",
    "axarr[0].plot(t,cos_t,'.r')\n",
    "axarr[1].plot(t,sin_t,'.b')\n",
    "plt.tight_layout()\n",
    "plt.show()"
   ]
  },
  {
   "cell_type": "code",
   "execution_count": 100,
   "metadata": {},
   "outputs": [],
   "source": [
    "x = np.linspace(0, 5, 11)"
   ]
  },
  {
   "cell_type": "markdown",
   "metadata": {},
   "source": [
    "### Twin axes"
   ]
  },
  {
   "cell_type": "code",
   "execution_count": 101,
   "metadata": {
    "scrolled": false
   },
   "outputs": [
    {
     "data": {
      "image/png": "[encoded data removed]",
      "text/plain": [
       "<Figure size 640x480 with 2 Axes>"
      ]
     },
     "metadata": {},
     "output_type": "display_data"
    }
   ],
   "source": [
    "fig, ax1 = plt.subplots()\n",
    "\n",
    "ax1.plot(x, x**2, lw=2, color=\"blue\")\n",
    "ax1.set_ylabel(r\"area $(m^2)$\", fontsize=18, color=\"blue\")\n",
    "for label in ax1.get_yticklabels():\n",
    "    label.set_color(\"blue\")\n",
    "    \n",
    "ax2 = ax1.twinx()\n",
    "ax2.plot(x, x**3, lw=2, color=\"red\")\n",
    "ax2.set_ylabel(r\"volume $(m^3)$\", fontsize=18, color=\"red\")\n",
    "for label in ax2.get_yticklabels():\n",
    "    label.set_color(\"red\")\n",
    "\n",
    "plt.show()"
   ]
  },
  {
   "cell_type": "code",
   "execution_count": 114,
   "metadata": {},
   "outputs": [],
   "source": [
    "# allow to use matplotlib interactively and set the desired backend\n",
    "%matplotlib inline"
   ]
  },
  {
   "cell_type": "code",
   "execution_count": 103,
   "metadata": {
    "scrolled": false
   },
   "outputs": [
    {
     "name": "stdout",
     "output_type": "stream",
     "text": [
      "Available matplotlib backends: ['tk', 'gtk', 'gtk3', 'gtk4', 'wx', 'qt4', 'qt5', 'qt6', 'qt', 'osx', 'nbagg', 'webagg', 'notebook', 'agg', 'svg', 'pdf', 'ps', 'inline', 'ipympl', 'widget']\n"
     ]
    }
   ],
   "source": [
    "%matplotlib --list"
   ]
  },
  {
   "cell_type": "code",
   "execution_count": 104,
   "metadata": {},
   "outputs": [],
   "source": [
    "%matplotlib notebook\n",
    "# re-run the plot cell"
   ]
  },
  {
   "cell_type": "markdown",
   "metadata": {},
   "source": [
    "# <font color='blue'><ins>TASK</ins></font>\n",
    "- Practice with pandas and matplotlib:\n",
    "    - use the `plt.scatter()` function to display a scatter plot of the variables \"death\" and \"birth\" from the composers_df dataset\n",
    "    - assign a color to each point based on the variable \"period\"\n",
    "    - enrich the plot with the legend\n",
    "- Practice with pandas and matplotlib:\n",
    "    - load the [covid19-healthy-diet-dataset](https://www.kaggle.com/datasets/mariaren/covid19-healthy-diet-dataset): it contains some stats related to covid19 and diet for each country.\n",
    "    - add domain information: create a new column with the continent (plenty of python libraries out there)\n",
    "    - use pandas and plotting utilities to explore the data, e.g.:\n",
    "        - Which continents have the highest ratio reported for Covid19 deaths?\n",
    "        - Which is the state with the highest rate of death?\n",
    "        - Compare the distribution of Deaths rates among European and North American countries.\n",
    "\n",
    "\n"
   ]
  },
  {
   "cell_type": "code",
   "execution_count": 126,
   "metadata": {},
   "outputs": [],
   "source": [
    "plt.scatter?"
   ]
  },
  {
   "cell_type": "code",
   "execution_count": 106,
   "metadata": {},
   "outputs": [
    {
     "data": {
      "application/javascript": [
       "/* Put everything inside the global mpl namespace */\n",
       "/* global mpl */\n",
       "window.mpl = {};\n",
       "\n",
       "mpl.get_websocket_type = function () {\n",
       "    if (typeof WebSocket !== 'undefined') {\n",
       "        return WebSocket;\n",
       "    } else if (typeof MozWebSocket !== 'undefined') {\n",
       "        return MozWebSocket;\n",
       "    } else {\n",
       "        alert(\n",
       "            'Your browser does not have WebSocket support. ' +\n",
       "                'Please try Chrome, Safari or Firefox ≥ 6. ' +\n",
       "                'Firefox 4 and 5 are also supported but you ' +\n",
       "                'have to enable WebSockets in about:config.'\n",
       "        );\n",
       "    }\n",
       "};\n",
       "\n",
       "mpl.figure = function (figure_id, websocket, ondownload, parent_element) {\n",
       "    this.id = figure_id;\n",
       "\n",
       "    this.ws = websocket;\n",
       "\n",
       "    this.supports_binary = this.ws.binaryType !== undefined;\n",
       "\n",
       "    if (!this.supports_binary) {\n",
       "        var warnings = document.getElementById('mpl-warnings');\n",
       "        if (warnings) {\n",
       "            warnings.style.display = 'block';\n",
       "            warnings.textContent =\n",
       "                'This browser does not support binary websocket messages. ' +\n",
       "                'Performance may be slow.';\n",
       "        }\n",
       "    }\n",
       "\n",
       "    this.imageObj = new Image();\n",
       "\n",
       "    this.context = undefined;\n",
       "    this.message = undefined;\n",
       "    this.canvas = undefined;\n",
       "    this.rubberband_canvas = undefined;\n",
       "    this.rubberband_context = undefined;\n",
       "    this.format_dropdown = undefined;\n",
       "\n",
       "    this.image_mode = 'full';\n",
       "\n",
       "    this.root = document.createElement('div');\n",
       "    this.root.setAttribute('style', 'display: inline-block');\n",
       "    this._root_extra_style(this.root);\n",
       "\n",
       "    parent_element.appendChild(this.root);\n",
       "\n",
       "    this._init_header(this);\n",
       "    this._init_canvas(this);\n",
       "    this._init_toolbar(this);\n",
       "\n",
       "    var fig = this;\n",
       "\n",
       "    this.waiting = false;\n",
       "\n",
       "    this.ws.onopen = function () {\n",
       "        fig.send_message('supports_binary', { value: fig.supports_binary });\n",
       "        fig.send_message('send_image_mode', {});\n",
       "        if (fig.ratio !== 1) {\n",
       "            fig.send_message('set_device_pixel_ratio', {\n",
       "                device_pixel_ratio: fig.ratio,\n",
       "            });\n",
       "        }\n",
       "        fig.send_message('refresh', {});\n",
       "    };\n",
       "\n",
       "    this.imageObj.onload = function () {\n",
       "        if (fig.image_mode === 'full') {\n",
       "            // Full images could contain transparency (where diff images\n",
       "            // almost always do), so we need to clear the canvas so that\n",
       "            // there is no ghosting.\n",
       "            fig.context.clearRect(0, 0, fig.canvas.width, fig.canvas.height);\n",
       "        }\n",
       "        fig.context.drawImage(fig.imageObj, 0, 0);\n",
       "    };\n",
       "\n",
       "    this.imageObj.onunload = function () {\n",
       "        fig.ws.close();\n",
       "    };\n",
       "\n",
       "    this.ws.onmessage = this._make_on_message_function(this);\n",
       "\n",
       "    this.ondownload = ondownload;\n",
       "};\n",
       "\n",
       "mpl.figure.prototype._init_header = function () {\n",
       "    var titlebar = document.createElement('div');\n",
       "    titlebar.classList =\n",
       "        'ui-dialog-titlebar ui-widget-header ui-corner-all ui-helper-clearfix';\n",
       "    var titletext = document.createElement('div');\n",
       "    titletext.classList = 'ui-dialog-title';\n",
       "    titletext.setAttribute(\n",
       "        'style',\n",
       "        'width: 100%; text-align: center; padding: 3px;'\n",
       "    );\n",
       "    titlebar.appendChild(titletext);\n",
       "    this.root.appendChild(titlebar);\n",
       "    this.header = titletext;\n",
       "};\n",
       "\n",
       "mpl.figure.prototype._canvas_extra_style = function (_canvas_div) {};\n",
       "\n",
       "mpl.figure.prototype._root_extra_style = function (_canvas_div) {};\n",
       "\n",
       "mpl.figure.prototype._init_canvas = function () {\n",
       "    var fig = this;\n",
       "\n",
       "    var canvas_div = (this.canvas_div = document.createElement('div'));\n",
       "    canvas_div.setAttribute('tabindex', '0');\n",
       "    canvas_div.setAttribute(\n",
       "        'style',\n",
       "        'border: 1px solid #ddd;' +\n",
       "            'box-sizing: content-box;' +\n",
       "            'clear: both;' +\n",
       "            'min-height: 1px;' +\n",
       "            'min-width: 1px;' +\n",
       "            'outline: 0;' +\n",
       "            'overflow: hidden;' +\n",
       "            'position: relative;' +\n",
       "            'resize: both;' +\n",
       "            'z-index: 2;'\n",
       "    );\n",
       "\n",
       "    function on_keyboard_event_closure(name) {\n",
       "        return function (event) {\n",
       "            return fig.key_event(event, name);\n",
       "        };\n",
       "    }\n",
       "\n",
       "    canvas_div.addEventListener(\n",
       "        'keydown',\n",
       "        on_keyboard_event_closure('key_press')\n",
       "    );\n",
       "    canvas_div.addEventListener(\n",
       "        'keyup',\n",
       "        on_keyboard_event_closure('key_release')\n",
       "    );\n",
       "\n",
       "    this._canvas_extra_style(canvas_div);\n",
       "    this.root.appendChild(canvas_div);\n",
       "\n",
       "    var canvas = (this.canvas = document.createElement('canvas'));\n",
       "    canvas.classList.add('mpl-canvas');\n",
       "    canvas.setAttribute(\n",
       "        'style',\n",
       "        'box-sizing: content-box;' +\n",
       "            'pointer-events: none;' +\n",
       "            'position: relative;' +\n",
       "            'z-index: 0;'\n",
       "    );\n",
       "\n",
       "    this.context = canvas.getContext('2d');\n",
       "\n",
       "    var backingStore =\n",
       "        this.context.backingStorePixelRatio ||\n",
       "        this.context.webkitBackingStorePixelRatio ||\n",
       "        this.context.mozBackingStorePixelRatio ||\n",
       "        this.context.msBackingStorePixelRatio ||\n",
       "        this.context.oBackingStorePixelRatio ||\n",
       "        this.context.backingStorePixelRatio ||\n",
       "        1;\n",
       "\n",
       "    this.ratio = (window.devicePixelRatio || 1) / backingStore;\n",
       "\n",
       "    var rubberband_canvas = (this.rubberband_canvas = document.createElement(\n",
       "        'canvas'\n",
       "    ));\n",
       "    rubberband_canvas.setAttribute(\n",
       "        'style',\n",
       "        'box-sizing: content-box;' +\n",
       "            'left: 0;' +\n",
       "            'pointer-events: none;' +\n",
       "            'position: absolute;' +\n",
       "            'top: 0;' +\n",
       "            'z-index: 1;'\n",
       "    );\n",
       "\n",
       "    // Apply a ponyfill if ResizeObserver is not implemented by browser.\n",
       "    if (this.ResizeObserver === undefined) {\n",
       "        if (window.ResizeObserver !== undefined) {\n",
       "            this.ResizeObserver = window.ResizeObserver;\n",
       "        } else {\n",
       "            var obs = _JSXTOOLS_RESIZE_OBSERVER({});\n",
       "            this.ResizeObserver = obs.ResizeObserver;\n",
       "        }\n",
       "    }\n",
       "\n",
       "    this.resizeObserverInstance = new this.ResizeObserver(function (entries) {\n",
       "        var nentries = entries.length;\n",
       "        for (var i = 0; i < nentries; i++) {\n",
       "            var entry = entries[i];\n",
       "            var width, height;\n",
       "            if (entry.contentBoxSize) {\n",
       "                if (entry.contentBoxSize instanceof Array) {\n",
       "                    // Chrome 84 implements new version of spec.\n",
       "                    width = entry.contentBoxSize[0].inlineSize;\n",
       "                    height = entry.contentBoxSize[0].blockSize;\n",
       "                } else {\n",
       "                    // Firefox implements old version of spec.\n",
       "                    width = entry.contentBoxSize.inlineSize;\n",
       "                    height = entry.contentBoxSize.blockSize;\n",
       "                }\n",
       "            } else {\n",
       "                // Chrome <84 implements even older version of spec.\n",
       "                width = entry.contentRect.width;\n",
       "                height = entry.contentRect.height;\n",
       "            }\n",
       "\n",
       "            // Keep the size of the canvas and rubber band canvas in sync with\n",
       "            // the canvas container.\n",
       "            if (entry.devicePixelContentBoxSize) {\n",
       "                // Chrome 84 implements new version of spec.\n",
       "                canvas.setAttribute(\n",
       "                    'width',\n",
       "                    entry.devicePixelContentBoxSize[0].inlineSize\n",
       "                );\n",
       "                canvas.setAttribute(\n",
       "                    'height',\n",
       "                    entry.devicePixelContentBoxSize[0].blockSize\n",
       "                );\n",
       "            } else {\n",
       "                canvas.setAttribute('width', width * fig.ratio);\n",
       "                canvas.setAttribute('height', height * fig.ratio);\n",
       "            }\n",
       "            /* This rescales the canvas back to display pixels, so that it\n",
       "             * appears correct on HiDPI screens. */\n",
       "            canvas.style.width = width + 'px';\n",
       "            canvas.style.height = height + 'px';\n",
       "\n",
       "            rubberband_canvas.setAttribute('width', width);\n",
       "            rubberband_canvas.setAttribute('height', height);\n",
       "\n",
       "            // And update the size in Python. We ignore the initial 0/0 size\n",
       "            // that occurs as the element is placed into the DOM, which should\n",
       "            // otherwise not happen due to the minimum size styling.\n",
       "            if (fig.ws.readyState == 1 && width != 0 && height != 0) {\n",
       "                fig.request_resize(width, height);\n",
       "            }\n",
       "        }\n",
       "    });\n",
       "    this.resizeObserverInstance.observe(canvas_div);\n",
       "\n",
       "    function on_mouse_event_closure(name) {\n",
       "        /* User Agent sniffing is bad, but WebKit is busted:\n",
       "         * https://bugs.webkit.org/show_bug.cgi?id=144526\n",
       "         * https://bugs.webkit.org/show_bug.cgi?id=181818\n",
       "         * The worst that happens here is that they get an extra browser\n",
       "         * selection when dragging, if this check fails to catch them.\n",
       "         */\n",
       "        var UA = navigator.userAgent;\n",
       "        var isWebKit = /AppleWebKit/.test(UA) && !/Chrome/.test(UA);\n",
       "        if(isWebKit) {\n",
       "            return function (event) {\n",
       "                /* This prevents the web browser from automatically changing to\n",
       "                 * the text insertion cursor when the button is pressed. We\n",
       "                 * want to control all of the cursor setting manually through\n",
       "                 * the 'cursor' event from matplotlib */\n",
       "                event.preventDefault()\n",
       "                return fig.mouse_event(event, name);\n",
       "            };\n",
       "        } else {\n",
       "            return function (event) {\n",
       "                return fig.mouse_event(event, name);\n",
       "            };\n",
       "        }\n",
       "    }\n",
       "\n",
       "    canvas_div.addEventListener(\n",
       "        'mousedown',\n",
       "        on_mouse_event_closure('button_press')\n",
       "    );\n",
       "    canvas_div.addEventListener(\n",
       "        'mouseup',\n",
       "        on_mouse_event_closure('button_release')\n",
       "    );\n",
       "    canvas_div.addEventListener(\n",
       "        'dblclick',\n",
       "        on_mouse_event_closure('dblclick')\n",
       "    );\n",
       "    // Throttle sequential mouse events to 1 every 20ms.\n",
       "    canvas_div.addEventListener(\n",
       "        'mousemove',\n",
       "        on_mouse_event_closure('motion_notify')\n",
       "    );\n",
       "\n",
       "    canvas_div.addEventListener(\n",
       "        'mouseenter',\n",
       "        on_mouse_event_closure('figure_enter')\n",
       "    );\n",
       "    canvas_div.addEventListener(\n",
       "        'mouseleave',\n",
       "        on_mouse_event_closure('figure_leave')\n",
       "    );\n",
       "\n",
       "    canvas_div.addEventListener('wheel', function (event) {\n",
       "        if (event.deltaY < 0) {\n",
       "            event.step = 1;\n",
       "        } else {\n",
       "            event.step = -1;\n",
       "        }\n",
       "        on_mouse_event_closure('scroll')(event);\n",
       "    });\n",
       "\n",
       "    canvas_div.appendChild(canvas);\n",
       "    canvas_div.appendChild(rubberband_canvas);\n",
       "\n",
       "    this.rubberband_context = rubberband_canvas.getContext('2d');\n",
       "    this.rubberband_context.strokeStyle = '#000000';\n",
       "\n",
       "    this._resize_canvas = function (width, height, forward) {\n",
       "        if (forward) {\n",
       "            canvas_div.style.width = width + 'px';\n",
       "            canvas_div.style.height = height + 'px';\n",
       "        }\n",
       "    };\n",
       "\n",
       "    // Disable right mouse context menu.\n",
       "    canvas_div.addEventListener('contextmenu', function (_e) {\n",
       "        event.preventDefault();\n",
       "        return false;\n",
       "    });\n",
       "\n",
       "    function set_focus() {\n",
       "        canvas.focus();\n",
       "        canvas_div.focus();\n",
       "    }\n",
       "\n",
       "    window.setTimeout(set_focus, 100);\n",
       "};\n",
       "\n",
       "mpl.figure.prototype._init_toolbar = function () {\n",
       "    var fig = this;\n",
       "\n",
       "    var toolbar = document.createElement('div');\n",
       "    toolbar.classList = 'mpl-toolbar';\n",
       "    this.root.appendChild(toolbar);\n",
       "\n",
       "    function on_click_closure(name) {\n",
       "        return function (_event) {\n",
       "            return fig.toolbar_button_onclick(name);\n",
       "        };\n",
       "    }\n",
       "\n",
       "    function on_mouseover_closure(tooltip) {\n",
       "        return function (event) {\n",
       "            if (!event.currentTarget.disabled) {\n",
       "                return fig.toolbar_button_onmouseover(tooltip);\n",
       "            }\n",
       "        };\n",
       "    }\n",
       "\n",
       "    fig.buttons = {};\n",
       "    var buttonGroup = document.createElement('div');\n",
       "    buttonGroup.classList = 'mpl-button-group';\n",
       "    for (var toolbar_ind in mpl.toolbar_items) {\n",
       "        var name = mpl.toolbar_items[toolbar_ind][0];\n",
       "        var tooltip = mpl.toolbar_items[toolbar_ind][1];\n",
       "        var image = mpl.toolbar_items[toolbar_ind][2];\n",
       "        var method_name = mpl.toolbar_items[toolbar_ind][3];\n",
       "\n",
       "        if (!name) {\n",
       "            /* Instead of a spacer, we start a new button group. */\n",
       "            if (buttonGroup.hasChildNodes()) {\n",
       "                toolbar.appendChild(buttonGroup);\n",
       "            }\n",
       "            buttonGroup = document.createElement('div');\n",
       "            buttonGroup.classList = 'mpl-button-group';\n",
       "            continue;\n",
       "        }\n",
       "\n",
       "        var button = (fig.buttons[name] = document.createElement('button'));\n",
       "        button.classList = 'mpl-widget';\n",
       "        button.setAttribute('role', 'button');\n",
       "        button.setAttribute('aria-disabled', 'false');\n",
       "        button.addEventListener('click', on_click_closure(method_name));\n",
       "        button.addEventListener('mouseover', on_mouseover_closure(tooltip));\n",
       "\n",
       "        var icon_img = document.createElement('img');\n",
       "        icon_img.src = '_images/' + image + '.png';\n",
       "        icon_img.srcset = '_images/' + image + '_large.png 2x';\n",
       "        icon_img.alt = tooltip;\n",
       "        button.appendChild(icon_img);\n",
       "\n",
       "        buttonGroup.appendChild(button);\n",
       "    }\n",
       "\n",
       "    if (buttonGroup.hasChildNodes()) {\n",
       "        toolbar.appendChild(buttonGroup);\n",
       "    }\n",
       "\n",
       "    var fmt_picker = document.createElement('select');\n",
       "    fmt_picker.classList = 'mpl-widget';\n",
       "    toolbar.appendChild(fmt_picker);\n",
       "    this.format_dropdown = fmt_picker;\n",
       "\n",
       "    for (var ind in mpl.extensions) {\n",
       "        var fmt = mpl.extensions[ind];\n",
       "        var option = document.createElement('option');\n",
       "        option.selected = fmt === mpl.default_extension;\n",
       "        option.innerHTML = fmt;\n",
       "        fmt_picker.appendChild(option);\n",
       "    }\n",
       "\n",
       "    var status_bar = document.createElement('span');\n",
       "    status_bar.classList = 'mpl-message';\n",
       "    toolbar.appendChild(status_bar);\n",
       "    this.message = status_bar;\n",
       "};\n",
       "\n",
       "mpl.figure.prototype.request_resize = function (x_pixels, y_pixels) {\n",
       "    // Request matplotlib to resize the figure. Matplotlib will then trigger a resize in the client,\n",
       "    // which will in turn request a refresh of the image.\n",
       "    this.send_message('resize', { width: x_pixels, height: y_pixels });\n",
       "};\n",
       "\n",
       "mpl.figure.prototype.send_message = function (type, properties) {\n",
       "    properties['type'] = type;\n",
       "    properties['figure_id'] = this.id;\n",
       "    this.ws.send(JSON.stringify(properties));\n",
       "};\n",
       "\n",
       "mpl.figure.prototype.send_draw_message = function () {\n",
       "    if (!this.waiting) {\n",
       "        this.waiting = true;\n",
       "        this.ws.send(JSON.stringify({ type: 'draw', figure_id: this.id }));\n",
       "    }\n",
       "};\n",
       "\n",
       "mpl.figure.prototype.handle_save = function (fig, _msg) {\n",
       "    var format_dropdown = fig.format_dropdown;\n",
       "    var format = format_dropdown.options[format_dropdown.selectedIndex].value;\n",
       "    fig.ondownload(fig, format);\n",
       "};\n",
       "\n",
       "mpl.figure.prototype.handle_resize = function (fig, msg) {\n",
       "    var size = msg['size'];\n",
       "    if (size[0] !== fig.canvas.width || size[1] !== fig.canvas.height) {\n",
       "        fig._resize_canvas(size[0], size[1], msg['forward']);\n",
       "        fig.send_message('refresh', {});\n",
       "    }\n",
       "};\n",
       "\n",
       "mpl.figure.prototype.handle_rubberband = function (fig, msg) {\n",
       "    var x0 = msg['x0'] / fig.ratio;\n",
       "    var y0 = (fig.canvas.height - msg['y0']) / fig.ratio;\n",
       "    var x1 = msg['x1'] / fig.ratio;\n",
       "    var y1 = (fig.canvas.height - msg['y1']) / fig.ratio;\n",
       "    x0 = Math.floor(x0) + 0.5;\n",
       "    y0 = Math.floor(y0) + 0.5;\n",
       "    x1 = Math.floor(x1) + 0.5;\n",
       "    y1 = Math.floor(y1) + 0.5;\n",
       "    var min_x = Math.min(x0, x1);\n",
       "    var min_y = Math.min(y0, y1);\n",
       "    var width = Math.abs(x1 - x0);\n",
       "    var height = Math.abs(y1 - y0);\n",
       "\n",
       "    fig.rubberband_context.clearRect(\n",
       "        0,\n",
       "        0,\n",
       "        fig.canvas.width / fig.ratio,\n",
       "        fig.canvas.height / fig.ratio\n",
       "    );\n",
       "\n",
       "    fig.rubberband_context.strokeRect(min_x, min_y, width, height);\n",
       "};\n",
       "\n",
       "mpl.figure.prototype.handle_figure_label = function (fig, msg) {\n",
       "    // Updates the figure title.\n",
       "    fig.header.textContent = msg['label'];\n",
       "};\n",
       "\n",
       "mpl.figure.prototype.handle_cursor = function (fig, msg) {\n",
       "    fig.canvas_div.style.cursor = msg['cursor'];\n",
       "};\n",
       "\n",
       "mpl.figure.prototype.handle_message = function (fig, msg) {\n",
       "    fig.message.textContent = msg['message'];\n",
       "};\n",
       "\n",
       "mpl.figure.prototype.handle_draw = function (fig, _msg) {\n",
       "    // Request the server to send over a new figure.\n",
       "    fig.send_draw_message();\n",
       "};\n",
       "\n",
       "mpl.figure.prototype.handle_image_mode = function (fig, msg) {\n",
       "    fig.image_mode = msg['mode'];\n",
       "};\n",
       "\n",
       "mpl.figure.prototype.handle_history_buttons = function (fig, msg) {\n",
       "    for (var key in msg) {\n",
       "        if (!(key in fig.buttons)) {\n",
       "            continue;\n",
       "        }\n",
       "        fig.buttons[key].disabled = !msg[key];\n",
       "        fig.buttons[key].setAttribute('aria-disabled', !msg[key]);\n",
       "    }\n",
       "};\n",
       "\n",
       "mpl.figure.prototype.handle_navigate_mode = function (fig, msg) {\n",
       "    if (msg['mode'] === 'PAN') {\n",
       "        fig.buttons['Pan'].classList.add('active');\n",
       "        fig.buttons['Zoom'].classList.remove('active');\n",
       "    } else if (msg['mode'] === 'ZOOM') {\n",
       "        fig.buttons['Pan'].classList.remove('active');\n",
       "        fig.buttons['Zoom'].classList.add('active');\n",
       "    } else {\n",
       "        fig.buttons['Pan'].classList.remove('active');\n",
       "        fig.buttons['Zoom'].classList.remove('active');\n",
       "    }\n",
       "};\n",
       "\n",
       "mpl.figure.prototype.updated_canvas_event = function () {\n",
       "    // Called whenever the canvas gets updated.\n",
       "    this.send_message('ack', {});\n",
       "};\n",
       "\n",
       "// A function to construct a web socket function for onmessage handling.\n",
       "// Called in the figure constructor.\n",
       "mpl.figure.prototype._make_on_message_function = function (fig) {\n",
       "    return function socket_on_message(evt) {\n",
       "        if (evt.data instanceof Blob) {\n",
       "            var img = evt.data;\n",
       "            if (img.type !== 'image/png') {\n",
       "                /* FIXME: We get \"Resource interpreted as Image but\n",
       "                 * transferred with MIME type text/plain:\" errors on\n",
       "                 * Chrome.  But how to set the MIME type?  It doesn't seem\n",
       "                 * to be part of the websocket stream */\n",
       "                img.type = 'image/png';\n",
       "            }\n",
       "\n",
       "            /* Free the memory for the previous frames */\n",
       "            if (fig.imageObj.src) {\n",
       "                (window.URL || window.webkitURL).revokeObjectURL(\n",
       "                    fig.imageObj.src\n",
       "                );\n",
       "            }\n",
       "\n",
       "            fig.imageObj.src = (window.URL || window.webkitURL).createObjectURL(\n",
       "                img\n",
       "            );\n",
       "            fig.updated_canvas_event();\n",
       "            fig.waiting = false;\n",
       "            return;\n",
       "        } else if (\n",
       "            typeof evt.data === 'string' &&\n",
       "            evt.data.slice(0, 21) === 'data:image/png;base64'\n",
       "        ) {\n",
       "            fig.imageObj.src = evt.data;\n",
       "            fig.updated_canvas_event();\n",
       "            fig.waiting = false;\n",
       "            return;\n",
       "        }\n",
       "\n",
       "        var msg = JSON.parse(evt.data);\n",
       "        var msg_type = msg['type'];\n",
       "\n",
       "        // Call the  \"handle_{type}\" callback, which takes\n",
       "        // the figure and JSON message as its only arguments.\n",
       "        try {\n",
       "            var callback = fig['handle_' + msg_type];\n",
       "        } catch (e) {\n",
       "            console.log(\n",
       "                \"No handler for the '\" + msg_type + \"' message type: \",\n",
       "                msg\n",
       "            );\n",
       "            return;\n",
       "        }\n",
       "\n",
       "        if (callback) {\n",
       "            try {\n",
       "                // console.log(\"Handling '\" + msg_type + \"' message: \", msg);\n",
       "                callback(fig, msg);\n",
       "            } catch (e) {\n",
       "                console.log(\n",
       "                    \"Exception inside the 'handler_\" + msg_type + \"' callback:\",\n",
       "                    e,\n",
       "                    e.stack,\n",
       "                    msg\n",
       "                );\n",
       "            }\n",
       "        }\n",
       "    };\n",
       "};\n",
       "\n",
       "\n",
       "/*\n",
       " * return a copy of an object with only non-object keys\n",
       " * we need this to avoid circular references\n",
       " * https://stackoverflow.com/a/24161582/3208463\n",
       " */\n",
       "function simpleKeys(original) {\n",
       "    return Object.keys(original).reduce(function (obj, key) {\n",
       "        if (typeof original[key] !== 'object') {\n",
       "            obj[key] = original[key];\n",
       "        }\n",
       "        return obj;\n",
       "    }, {});\n",
       "}\n",
       "\n",
       "mpl.figure.prototype.mouse_event = function (event, name) {\n",
       "    if (name === 'button_press') {\n",
       "        this.canvas.focus();\n",
       "        this.canvas_div.focus();\n",
       "    }\n",
       "\n",
       "    // from https://stackoverflow.com/q/1114465\n",
       "    var boundingRect = this.canvas.getBoundingClientRect();\n",
       "    var x = (event.clientX - boundingRect.left) * this.ratio;\n",
       "    var y = (event.clientY - boundingRect.top) * this.ratio;\n",
       "\n",
       "    this.send_message(name, {\n",
       "        x: x,\n",
       "        y: y,\n",
       "        button: event.button,\n",
       "        step: event.step,\n",
       "        guiEvent: simpleKeys(event),\n",
       "    });\n",
       "\n",
       "    return false;\n",
       "};\n",
       "\n",
       "mpl.figure.prototype._key_event_extra = function (_event, _name) {\n",
       "    // Handle any extra behaviour associated with a key event\n",
       "};\n",
       "\n",
       "mpl.figure.prototype.key_event = function (event, name) {\n",
       "    // Prevent repeat events\n",
       "    if (name === 'key_press') {\n",
       "        if (event.key === this._key) {\n",
       "            return;\n",
       "        } else {\n",
       "            this._key = event.key;\n",
       "        }\n",
       "    }\n",
       "    if (name === 'key_release') {\n",
       "        this._key = null;\n",
       "    }\n",
       "\n",
       "    var value = '';\n",
       "    if (event.ctrlKey && event.key !== 'Control') {\n",
       "        value += 'ctrl+';\n",
       "    }\n",
       "    else if (event.altKey && event.key !== 'Alt') {\n",
       "        value += 'alt+';\n",
       "    }\n",
       "    else if (event.shiftKey && event.key !== 'Shift') {\n",
       "        value += 'shift+';\n",
       "    }\n",
       "\n",
       "    value += 'k' + event.key;\n",
       "\n",
       "    this._key_event_extra(event, name);\n",
       "\n",
       "    this.send_message(name, { key: value, guiEvent: simpleKeys(event) });\n",
       "    return false;\n",
       "};\n",
       "\n",
       "mpl.figure.prototype.toolbar_button_onclick = function (name) {\n",
       "    if (name === 'download') {\n",
       "        this.handle_save(this, null);\n",
       "    } else {\n",
       "        this.send_message('toolbar_button', { name: name });\n",
       "    }\n",
       "};\n",
       "\n",
       "mpl.figure.prototype.toolbar_button_onmouseover = function (tooltip) {\n",
       "    this.message.textContent = tooltip;\n",
       "};\n",
       "\n",
       "///////////////// REMAINING CONTENT GENERATED BY embed_js.py /////////////////\n",
       "// prettier-ignore\n",
       "var _JSXTOOLS_RESIZE_OBSERVER=function(A){var t,i=new WeakMap,n=new WeakMap,a=new WeakMap,r=new WeakMap,o=new Set;function s(e){if(!(this instanceof s))throw new TypeError(\"Constructor requires 'new' operator\");i.set(this,e)}function h(){throw new TypeError(\"Function is not a constructor\")}function c(e,t,i,n){e=0 in arguments?Number(arguments[0]):0,t=1 in arguments?Number(arguments[1]):0,i=2 in arguments?Number(arguments[2]):0,n=3 in arguments?Number(arguments[3]):0,this.right=(this.x=this.left=e)+(this.width=i),this.bottom=(this.y=this.top=t)+(this.height=n),Object.freeze(this)}function d(){t=requestAnimationFrame(d);var s=new WeakMap,p=new Set;o.forEach((function(t){r.get(t).forEach((function(i){var r=t instanceof window.SVGElement,o=a.get(t),d=r?0:parseFloat(o.paddingTop),f=r?0:parseFloat(o.paddingRight),l=r?0:parseFloat(o.paddingBottom),u=r?0:parseFloat(o.paddingLeft),g=r?0:parseFloat(o.borderTopWidth),m=r?0:parseFloat(o.borderRightWidth),w=r?0:parseFloat(o.borderBottomWidth),b=u+f,F=d+l,v=(r?0:parseFloat(o.borderLeftWidth))+m,W=g+w,y=r?0:t.offsetHeight-W-t.clientHeight,E=r?0:t.offsetWidth-v-t.clientWidth,R=b+v,z=F+W,M=r?t.width:parseFloat(o.width)-R-E,O=r?t.height:parseFloat(o.height)-z-y;if(n.has(t)){var k=n.get(t);if(k[0]===M&&k[1]===O)return}n.set(t,[M,O]);var S=Object.create(h.prototype);S.target=t,S.contentRect=new c(u,d,M,O),s.has(i)||(s.set(i,[]),p.add(i)),s.get(i).push(S)}))})),p.forEach((function(e){i.get(e).call(e,s.get(e),e)}))}return s.prototype.observe=function(i){if(i instanceof window.Element){r.has(i)||(r.set(i,new Set),o.add(i),a.set(i,window.getComputedStyle(i)));var n=r.get(i);n.has(this)||n.add(this),cancelAnimationFrame(t),t=requestAnimationFrame(d)}},s.prototype.unobserve=function(i){if(i instanceof window.Element&&r.has(i)){var n=r.get(i);n.has(this)&&(n.delete(this),n.size||(r.delete(i),o.delete(i))),n.size||r.delete(i),o.size||cancelAnimationFrame(t)}},A.DOMRectReadOnly=c,A.ResizeObserver=s,A.ResizeObserverEntry=h,A}; // eslint-disable-line\n",
       "mpl.toolbar_items = [[\"Home\", \"Reset original view\", \"fa fa-home\", \"home\"], [\"Back\", \"Back to previous view\", \"fa fa-arrow-left\", \"back\"], [\"Forward\", \"Forward to next view\", \"fa fa-arrow-right\", \"forward\"], [\"\", \"\", \"\", \"\"], [\"Pan\", \"Left button pans, Right button zooms\\nx/y fixes axis, CTRL fixes aspect\", \"fa fa-arrows\", \"pan\"], [\"Zoom\", \"Zoom to rectangle\\nx/y fixes axis\", \"fa fa-square-o\", \"zoom\"], [\"\", \"\", \"\", \"\"], [\"Download\", \"Download plot\", \"fa fa-floppy-o\", \"download\"]];\n",
       "\n",
       "mpl.extensions = [\"eps\", \"jpeg\", \"pgf\", \"pdf\", \"png\", \"ps\", \"raw\", \"svg\", \"tif\", \"webp\"];\n",
       "\n",
       "mpl.default_extension = \"png\";/* global mpl */\n",
       "\n",
       "var comm_websocket_adapter = function (comm) {\n",
       "    // Create a \"websocket\"-like object which calls the given IPython comm\n",
       "    // object with the appropriate methods. Currently this is a non binary\n",
       "    // socket, so there is still some room for performance tuning.\n",
       "    var ws = {};\n",
       "\n",
       "    ws.binaryType = comm.kernel.ws.binaryType;\n",
       "    ws.readyState = comm.kernel.ws.readyState;\n",
       "    function updateReadyState(_event) {\n",
       "        if (comm.kernel.ws) {\n",
       "            ws.readyState = comm.kernel.ws.readyState;\n",
       "        } else {\n",
       "            ws.readyState = 3; // Closed state.\n",
       "        }\n",
       "    }\n",
       "    comm.kernel.ws.addEventListener('open', updateReadyState);\n",
       "    comm.kernel.ws.addEventListener('close', updateReadyState);\n",
       "    comm.kernel.ws.addEventListener('error', updateReadyState);\n",
       "\n",
       "    ws.close = function () {\n",
       "        comm.close();\n",
       "    };\n",
       "    ws.send = function (m) {\n",
       "        //console.log('sending', m);\n",
       "        comm.send(m);\n",
       "    };\n",
       "    // Register the callback with on_msg.\n",
       "    comm.on_msg(function (msg) {\n",
       "        //console.log('receiving', msg['content']['data'], msg);\n",
       "        var data = msg['content']['data'];\n",
       "        if (data['blob'] !== undefined) {\n",
       "            data = {\n",
       "                data: new Blob(msg['buffers'], { type: data['blob'] }),\n",
       "            };\n",
       "        }\n",
       "        // Pass the mpl event to the overridden (by mpl) onmessage function.\n",
       "        ws.onmessage(data);\n",
       "    });\n",
       "    return ws;\n",
       "};\n",
       "\n",
       "mpl.mpl_figure_comm = function (comm, msg) {\n",
       "    // This is the function which gets called when the mpl process\n",
       "    // starts-up an IPython Comm through the \"matplotlib\" channel.\n",
       "\n",
       "    var id = msg.content.data.id;\n",
       "    // Get hold of the div created by the display call when the Comm\n",
       "    // socket was opened in Python.\n",
       "    var element = document.getElementById(id);\n",
       "    var ws_proxy = comm_websocket_adapter(comm);\n",
       "\n",
       "    function ondownload(figure, _format) {\n",
       "        window.open(figure.canvas.toDataURL());\n",
       "    }\n",
       "\n",
       "    var fig = new mpl.figure(id, ws_proxy, ondownload, element);\n",
       "\n",
       "    // Call onopen now - mpl needs it, as it is assuming we've passed it a real\n",
       "    // web socket which is closed, not our websocket->open comm proxy.\n",
       "    ws_proxy.onopen();\n",
       "\n",
       "    fig.parent_element = element;\n",
       "    fig.cell_info = mpl.find_output_cell(\"<div id='\" + id + \"'></div>\");\n",
       "    if (!fig.cell_info) {\n",
       "        console.error('Failed to find cell for figure', id, fig);\n",
       "        return;\n",
       "    }\n",
       "    fig.cell_info[0].output_area.element.on(\n",
       "        'cleared',\n",
       "        { fig: fig },\n",
       "        fig._remove_fig_handler\n",
       "    );\n",
       "};\n",
       "\n",
       "mpl.figure.prototype.handle_close = function (fig, msg) {\n",
       "    var width = fig.canvas.width / fig.ratio;\n",
       "    fig.cell_info[0].output_area.element.off(\n",
       "        'cleared',\n",
       "        fig._remove_fig_handler\n",
       "    );\n",
       "    fig.resizeObserverInstance.unobserve(fig.canvas_div);\n",
       "\n",
       "    // Update the output cell to use the data from the current canvas.\n",
       "    fig.push_to_output();\n",
       "    var dataURL = fig.canvas.toDataURL();\n",
       "    // Re-enable the keyboard manager in IPython - without this line, in FF,\n",
       "    // the notebook keyboard shortcuts fail.\n",
       "    IPython.keyboard_manager.enable();\n",
       "    fig.parent_element.innerHTML =\n",
       "        '<img src=\"' + dataURL + '\" width=\"' + width + '\">';\n",
       "    fig.close_ws(fig, msg);\n",
       "};\n",
       "\n",
       "mpl.figure.prototype.close_ws = function (fig, msg) {\n",
       "    fig.send_message('closing', msg);\n",
       "    // fig.ws.close()\n",
       "};\n",
       "\n",
       "mpl.figure.prototype.push_to_output = function (_remove_interactive) {\n",
       "    // Turn the data on the canvas into data in the output cell.\n",
       "    var width = this.canvas.width / this.ratio;\n",
       "    var dataURL = this.canvas.toDataURL();\n",
       "    this.cell_info[1]['text/html'] =\n",
       "        '<img src=\"' + dataURL + '\" width=\"' + width + '\">';\n",
       "};\n",
       "\n",
       "mpl.figure.prototype.updated_canvas_event = function () {\n",
       "    // Tell IPython that the notebook contents must change.\n",
       "    IPython.notebook.set_dirty(true);\n",
       "    this.send_message('ack', {});\n",
       "    var fig = this;\n",
       "    // Wait a second, then push the new image to the DOM so\n",
       "    // that it is saved nicely (might be nice to debounce this).\n",
       "    setTimeout(function () {\n",
       "        fig.push_to_output();\n",
       "    }, 1000);\n",
       "};\n",
       "\n",
       "mpl.figure.prototype._init_toolbar = function () {\n",
       "    var fig = this;\n",
       "\n",
       "    var toolbar = document.createElement('div');\n",
       "    toolbar.classList = 'btn-toolbar';\n",
       "    this.root.appendChild(toolbar);\n",
       "\n",
       "    function on_click_closure(name) {\n",
       "        return function (_event) {\n",
       "            return fig.toolbar_button_onclick(name);\n",
       "        };\n",
       "    }\n",
       "\n",
       "    function on_mouseover_closure(tooltip) {\n",
       "        return function (event) {\n",
       "            if (!event.currentTarget.disabled) {\n",
       "                return fig.toolbar_button_onmouseover(tooltip);\n",
       "            }\n",
       "        };\n",
       "    }\n",
       "\n",
       "    fig.buttons = {};\n",
       "    var buttonGroup = document.createElement('div');\n",
       "    buttonGroup.classList = 'btn-group';\n",
       "    var button;\n",
       "    for (var toolbar_ind in mpl.toolbar_items) {\n",
       "        var name = mpl.toolbar_items[toolbar_ind][0];\n",
       "        var tooltip = mpl.toolbar_items[toolbar_ind][1];\n",
       "        var image = mpl.toolbar_items[toolbar_ind][2];\n",
       "        var method_name = mpl.toolbar_items[toolbar_ind][3];\n",
       "\n",
       "        if (!name) {\n",
       "            /* Instead of a spacer, we start a new button group. */\n",
       "            if (buttonGroup.hasChildNodes()) {\n",
       "                toolbar.appendChild(buttonGroup);\n",
       "            }\n",
       "            buttonGroup = document.createElement('div');\n",
       "            buttonGroup.classList = 'btn-group';\n",
       "            continue;\n",
       "        }\n",
       "\n",
       "        button = fig.buttons[name] = document.createElement('button');\n",
       "        button.classList = 'btn btn-default';\n",
       "        button.href = '#';\n",
       "        button.title = name;\n",
       "        button.innerHTML = '<i class=\"fa ' + image + ' fa-lg\"></i>';\n",
       "        button.addEventListener('click', on_click_closure(method_name));\n",
       "        button.addEventListener('mouseover', on_mouseover_closure(tooltip));\n",
       "        buttonGroup.appendChild(button);\n",
       "    }\n",
       "\n",
       "    if (buttonGroup.hasChildNodes()) {\n",
       "        toolbar.appendChild(buttonGroup);\n",
       "    }\n",
       "\n",
       "    // Add the status bar.\n",
       "    var status_bar = document.createElement('span');\n",
       "    status_bar.classList = 'mpl-message pull-right';\n",
       "    toolbar.appendChild(status_bar);\n",
       "    this.message = status_bar;\n",
       "\n",
       "    // Add the close button to the window.\n",
       "    var buttongrp = document.createElement('div');\n",
       "    buttongrp.classList = 'btn-group inline pull-right';\n",
       "    button = document.createElement('button');\n",
       "    button.classList = 'btn btn-mini btn-primary';\n",
       "    button.href = '#';\n",
       "    button.title = 'Stop Interaction';\n",
       "    button.innerHTML = '<i class=\"fa fa-power-off icon-remove icon-large\"></i>';\n",
       "    button.addEventListener('click', function (_evt) {\n",
       "        fig.handle_close(fig, {});\n",
       "    });\n",
       "    button.addEventListener(\n",
       "        'mouseover',\n",
       "        on_mouseover_closure('Stop Interaction')\n",
       "    );\n",
       "    buttongrp.appendChild(button);\n",
       "    var titlebar = this.root.querySelector('.ui-dialog-titlebar');\n",
       "    titlebar.insertBefore(buttongrp, titlebar.firstChild);\n",
       "};\n",
       "\n",
       "mpl.figure.prototype._remove_fig_handler = function (event) {\n",
       "    var fig = event.data.fig;\n",
       "    if (event.target !== this) {\n",
       "        // Ignore bubbled events from children.\n",
       "        return;\n",
       "    }\n",
       "    fig.close_ws(fig, {});\n",
       "};\n",
       "\n",
       "mpl.figure.prototype._root_extra_style = function (el) {\n",
       "    el.style.boxSizing = 'content-box'; // override notebook setting of border-box.\n",
       "};\n",
       "\n",
       "mpl.figure.prototype._canvas_extra_style = function (el) {\n",
       "    // this is important to make the div 'focusable\n",
       "    el.setAttribute('tabindex', 0);\n",
       "    // reach out to IPython and tell the keyboard manager to turn it's self\n",
       "    // off when our div gets focus\n",
       "\n",
       "    // location in version 3\n",
       "    if (IPython.notebook.keyboard_manager) {\n",
       "        IPython.notebook.keyboard_manager.register_events(el);\n",
       "    } else {\n",
       "        // location in version 2\n",
       "        IPython.keyboard_manager.register_events(el);\n",
       "    }\n",
       "};\n",
       "\n",
       "mpl.figure.prototype._key_event_extra = function (event, _name) {\n",
       "    // Check for shift+enter\n",
       "    if (event.shiftKey && event.which === 13) {\n",
       "        this.canvas_div.blur();\n",
       "        // select the cell after this one\n",
       "        var index = IPython.notebook.find_cell_index(this.cell_info[0]);\n",
       "        IPython.notebook.select(index + 1);\n",
       "    }\n",
       "};\n",
       "\n",
       "mpl.figure.prototype.handle_save = function (fig, _msg) {\n",
       "    fig.ondownload(fig, null);\n",
       "};\n",
       "\n",
       "mpl.find_output_cell = function (html_output) {\n",
       "    // Return the cell and output element which can be found *uniquely* in the notebook.\n",
       "    // Note - this is a bit hacky, but it is done because the \"notebook_saving.Notebook\"\n",
       "    // IPython event is triggered only after the cells have been serialised, which for\n",
       "    // our purposes (turning an active figure into a static one), is too late.\n",
       "    var cells = IPython.notebook.get_cells();\n",
       "    var ncells = cells.length;\n",
       "    for (var i = 0; i < ncells; i++) {\n",
       "        var cell = cells[i];\n",
       "        if (cell.cell_type === 'code') {\n",
       "            for (var j = 0; j < cell.output_area.outputs.length; j++) {\n",
       "                var data = cell.output_area.outputs[j];\n",
       "                if (data.data) {\n",
       "                    // IPython >= 3 moved mimebundle to data attribute of output\n",
       "                    data = data.data;\n",
       "                }\n",
       "                if (data['text/html'] === html_output) {\n",
       "                    return [cell, data, j];\n",
       "                }\n",
       "            }\n",
       "        }\n",
       "    }\n",
       "};\n",
       "\n",
       "// Register the function which deals with the matplotlib target/channel.\n",
       "// The kernel may be null if the page has been refreshed.\n",
       "if (IPython.notebook.kernel !== null) {\n",
       "    IPython.notebook.kernel.comm_manager.register_target(\n",
       "        'matplotlib',\n",
       "        mpl.mpl_figure_comm\n",
       "    );\n",
       "}\n"
      ],
      "text/plain": [
       "<IPython.core.display.Javascript object>"
      ]
     },
     "metadata": {},
     "output_type": "display_data"
    },
    {
     "data": {
      "text/html": [
       "<img src=\"data:image/png;base64,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\" width=\"639.65\">"
      ],
      "text/plain": [
       "<IPython.core.display.HTML object>"
      ]
     },
     "metadata": {},
     "output_type": "display_data"
    },
    {
     "data": {
      "text/plain": [
       "Text(0, 0.5, 'death')"
      ]
     },
     "execution_count": 106,
     "metadata": {},
     "output_type": "execute_result"
    }
   ],
   "source": [
    "plt.scatter(composers_df.birth,composers_df.death)\n",
    "plt.xlabel('birth')\n",
    "plt.ylabel('death')"
   ]
  },
  {
   "cell_type": "code",
   "execution_count": 107,
   "metadata": {},
   "outputs": [
    {
     "data": {
      "text/plain": [
       "composer\n",
       "Mahler          post-romantic\n",
       "Beethoven            romantic\n",
       "Puccini         post-romantic\n",
       "Shostakovich           modern\n",
       "Verdi                romantic\n",
       "Dvorak               romantic\n",
       "Schumann             romantic\n",
       "Stravinsky             modern\n",
       "Sibelius        post-romantic\n",
       "Haydn                 classic\n",
       "Mozart                classic\n",
       "Messiaen               modern\n",
       "Prokofiev              modern\n",
       "Monteverdi        renaissance\n",
       "Haendel               baroque\n",
       "Brahms               romantic\n",
       "Purcell               baroque\n",
       "Charpentier           baroque\n",
       "Bruckner        post-romantic\n",
       "Berg                   modern\n",
       "Couperin              baroque\n",
       "Rameau                baroque\n",
       "Berlioz              romantic\n",
       "Gounod               romantic\n",
       "Massenet             romantic\n",
       "Boulez                 modern\n",
       "Palestrina        renaissance\n",
       "Gesualdo          renaissance\n",
       "Caldara               baroque\n",
       "Pergolesi             baroque\n",
       "Scarlatti             baroque\n",
       "Caccini               baroque\n",
       "Cimarosa              classic\n",
       "Donizetti            romantic\n",
       "Leoncavallo          romantic\n",
       "Bellini              romantic\n",
       "Dufay             renaissance\n",
       "Lassus            renaissance\n",
       "Borodin              romantic\n",
       "Mussorsgsky          romantic\n",
       "Soler                 classic\n",
       "Albeniz              romantic\n",
       "Granados             romantic\n",
       "Dowland           renaissance\n",
       "Byrd              renaissance\n",
       "Walton                 modern\n",
       "Adès                   modern\n",
       "Bach                  baroque\n",
       "Wagner               romantic\n",
       "Strauss         post-romantic\n",
       "Orff                   modern\n",
       "Dusek                 classic\n",
       "Smetana              romantic\n",
       "Janacek                modern\n",
       "Copland                modern\n",
       "Bernstein              modern\n",
       "Glass                  modern\n",
       "Name: period, dtype: object"
      ]
     },
     "execution_count": 107,
     "metadata": {},
     "output_type": "execute_result"
    }
   ],
   "source": [
    " composers_df.period"
   ]
  },
  {
   "cell_type": "code",
   "execution_count": 108,
   "metadata": {
    "scrolled": false
   },
   "outputs": [],
   "source": [
    "# plt.scatter(composers_df.birth,composers_df.death, color = composers_df.period) \n",
    "# raises error as composers_df.period is not suitable for \"color\""
   ]
  },
  {
   "cell_type": "code",
   "execution_count": 109,
   "metadata": {},
   "outputs": [
    {
     "data": {
      "text/plain": [
       "['renaissance', 'baroque', 'classic', 'romantic', 'modern', 'post-romantic']"
      ]
     },
     "execution_count": 109,
     "metadata": {},
     "output_type": "execute_result"
    }
   ],
   "source": [
    "list(set(composers_df.period))"
   ]
  },
  {
   "cell_type": "code",
   "execution_count": 110,
   "metadata": {},
   "outputs": [
    {
     "data": {
      "text/plain": [
       "{'renaissance': 'r',\n",
       " 'baroque': 'g',\n",
       " 'classic': 'b',\n",
       " 'romantic': 'c',\n",
       " 'modern': 'y',\n",
       " 'post-romantic': 'k'}"
      ]
     },
     "execution_count": 110,
     "metadata": {},
     "output_type": "execute_result"
    }
   ],
   "source": [
    "my_dict = dict(zip(list(set(composers_df.period)),'rgbcyk'))\n",
    "my_dict"
   ]
  },
  {
   "cell_type": "code",
   "execution_count": 111,
   "metadata": {},
   "outputs": [],
   "source": [
    "colors = [my_dict[x] for x in composers_df.period]"
   ]
  },
  {
   "cell_type": "code",
   "execution_count": 112,
   "metadata": {
    "scrolled": false
   },
   "outputs": [
    {
     "data": {
      "text/plain": [
       "Text(0, 0.5, 'death')"
      ]
     },
     "execution_count": 112,
     "metadata": {},
     "output_type": "execute_result"
    }
   ],
   "source": [
    "plt.scatter(composers_df.birth,composers_df.death, color = colors)\n",
    "plt.xlabel('birth')\n",
    "plt.ylabel('death')\n",
    "# legend missing"
   ]
  },
  {
   "cell_type": "code",
   "execution_count": 113,
   "metadata": {
    "scrolled": false
   },
   "outputs": [
    {
     "data": {
      "text/plain": [
       "Text(0, 0.5, 'death')"
      ]
     },
     "execution_count": 113,
     "metadata": {},
     "output_type": "execute_result"
    }
   ],
   "source": [
    "### a possible solution\n",
    "\n",
    "# %matplotlib inline\n",
    "# display(composers_df)\n",
    "\n",
    "color_map = dict(zip(composers_df.period.unique(),'rgbykc'))\n",
    "plt.scatter(composers_df.birth, composers_df.death, color = composers_df.period.apply(lambda x:color_map[x]))\n",
    "for k,v in color_map.items():\n",
    "    plt.scatter(composers_df[composers_df.period == k].birth, \n",
    "                composers_df[composers_df.period == k].death, \n",
    "                color = v, \n",
    "                label = k)\n",
    "plt.legend()\n",
    "plt.xlabel('birth')\n",
    "plt.ylabel('death')"
   ]
  }
 ],
 "metadata": {
  "kernelspec": {
   "display_name": "Python 3 (ipykernel)",
   "language": "python",
   "name": "python3"
  },
  "language_info": {
   "codemirror_mode": {
    "name": "ipython",
    "version": 3
   },
   "file_extension": ".py",
   "mimetype": "text/x-python",
   "name": "python",
   "nbconvert_exporter": "python",
   "pygments_lexer": "ipython3",
   "version": "3.10.8"
  }
 },
 "nbformat": 4,
 "nbformat_minor": 4
}

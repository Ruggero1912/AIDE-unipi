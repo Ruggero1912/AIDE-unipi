{
 "cells": [
  {
   "cell_type": "markdown",
   "metadata": {},
   "source": [
    "# Table of Contents \n",
    "- **[Python Data Visualization Landscape](#Python-Data-Visualization-Landscape)**\n",
    "- **[Matplotlib: plotting examples](#Matplotlib:-plotting-examples)**\n",
    "- **[Plotting with pandas](#Plotting-with-pandas)**\n",
    "- **[Seaborn](#Seaborn)**\n",
    "- **[Plotly Express: Interactive Plots](#Plotly-Express:-interactive-plots)**\n",
    "\n"
   ]
  },
  {
   "cell_type": "markdown",
   "metadata": {},
   "source": [
    "# Python Data Visualization Landscape"
   ]
  },
  {
   "cell_type": "markdown",
   "metadata": {},
   "source": [
    "**Data visualization** is one of the most important step in the data mining process.\n",
    "The choice of the correct plot depends on three aspects:\n",
    "- which data you are expected to plot\n",
    "- what is the goal of the visualization \n",
    "- for whom the plot is intended"
   ]
  },
  {
   "cell_type": "markdown",
   "metadata": {},
   "source": [
    "[Anaconda Blog](https://www.anaconda.com/blog/python-data-visualization-2018-why-so-many-libraries): Python Data Visualization 2018: Why So Many Libraries?\n",
    "\n",
    "![dataviz](https://files.speakerdeck.com/presentations/a2d86983ff634ac3871ad4e5a308a67b/slide_32.jpg)"
   ]
  },
  {
   "cell_type": "markdown",
   "metadata": {},
   "source": [
    "Most of the libraries fall into the \"InfoVis\" group, focusing on visualizations of information in arbitrary spaces, not necessarily the three-dimensional physical world. \n",
    "\n",
    "InfoVis libraries use the two dimensions of the printed page or computer screen to make abstract spaces interpretable, typically with axes and labels. The InfoVis libraries can be further broken down into numerous subgroups:\n",
    "- **`Matplotlib`**: One of the oldest and by far the most popular of the InfoVis libraries, released in 2003, with a very extensive range of 2D plot types and output formats\n",
    "\n",
    "- **Matplotlib-based**: A variety of tools have built on Matplotlib's 2D-plotting capability over the years, either using it as a rendering engine for a certain type of data or in a certain domain (`pandas`, `NetworkX`, `Cartopy`, `yt`, etc.), or providing a higher-level API on top to simplify plot creation (`ggplot`, `plotnine`, `HoloViews`, `GeoViews`), or extending it with additional types of plots (`seaborn`, etc.).\n",
    "- **JavaScript**: Once HTML5 allowed rich interactivity in browsers, many libraries arose to provide interactive 2D plots for web pages and in Jupyter notebooks, either using custom JS (`Bokeh`, `Toyplot`) or primarily wrapping existing JS libraries like D3 (`Plotly`, `bqplot`).\n"
   ]
  },
  {
   "cell_type": "markdown",
   "metadata": {},
   "source": [
    "The most basic plot types are shared between multiple libraries, but others are only available in certain libraries. \n",
    "- **Hint**: look at the example galleries for each library. \n",
    "\n",
    "As a rough guide:\n",
    "- *Statistical plots* (scatter plots, lines, areas, bars, histograms): Covered well by nearly all InfoVis libraries, but are the main focus for Seaborn, bqplot, Altair, ggplot2, plotnine\n",
    "- *Images, regular grids, rectangular meshes*: Well supported by Bokeh, Datashader, HoloViews, Matplotlib, Plotly\n",
    "- *Irregular 2D meshes* (triangular grids): Well supported by the SciVis libraries plus Matplotlib, Bokeh, Datashader, HoloViews\n",
    "- *Geographical data*: Matplotlib (with Cartopy), GeoViews, ipyleaflet, Plotly\n",
    "- *Networks/graphs*: NetworkX, Plotly, Bokeh, HoloViews, Datashader\n",
    "- *3D (meshes, scatter, etc.)*: Fully supported by the SciVis libraries, plus some support in Plotly, Matplotlib, HoloViews, and ipyvolume."
   ]
  },
  {
   "cell_type": "markdown",
   "metadata": {},
   "source": [
    "# Matplotlib: plotting examples\n",
    "\n",
    "Recommended reading: [sample plots in Matplotlib](https://matplotlib.org/stable/gallery/index.html)\n",
    "\n",
    "Matplotlib is an excellent 2D and 3D graphics library for generating scientific figures. Some of the many advantages of this library include:\n",
    "* Easy to get started\n",
    "* Support for $\\LaTeX$ formatted labels and texts\n",
    "* Great control (programmatically) of every element in a figure, including figure size and DPI.\n",
    "* High-quality output in many formats, including PNG, PDF, SVG, EPS, and PGF.\n"
   ]
  },
  {
   "cell_type": "code",
   "execution_count": null,
   "metadata": {},
   "outputs": [],
   "source": [
    "from matplotlib import pyplot as plt\n",
    "import numpy as np\n",
    "import pandas as pd\n",
    "import os"
   ]
  },
  {
   "cell_type": "code",
   "execution_count": null,
   "metadata": {},
   "outputs": [],
   "source": [
    "t = np.arange(0, 10, 0.1)\n",
    "sin_t = np.sin(2 * np.pi * t / 5)\n",
    "cos_t = np.cos(2 * np.pi * t / 5)"
   ]
  },
  {
   "cell_type": "code",
   "execution_count": null,
   "metadata": {},
   "outputs": [],
   "source": [
    "t"
   ]
  },
  {
   "cell_type": "code",
   "execution_count": null,
   "metadata": {},
   "outputs": [],
   "source": [
    "sin_t, cos_t"
   ]
  },
  {
   "cell_type": "code",
   "execution_count": null,
   "metadata": {},
   "outputs": [],
   "source": [
    "plt.plot(t, cos_t)\n",
    "plt.plot(t, sin_t)"
   ]
  },
  {
   "cell_type": "markdown",
   "metadata": {},
   "source": [
    "### Pyplot Functions\n",
    "\n",
    "There are many `pyplot` functions available for us to customize our figures. For example:\n",
    "\n",
    "| Fucntion | Description |\n",
    "| ---: | :--- |\n",
    "| `plt.xlim` | set $x$ limits |\n",
    "| `plt.ylim` | set $y$ limits |\n",
    "| `plt.grid` | add grid lines |\n",
    "| `plt.title` | add a title |\n",
    "| `plt.xlabel` | add label to the horizontal axis |\n",
    "| `plt.ylabel` | add label to the vertical axis |\n",
    "| `plt.axis` | set axis properties (`equal`, `off`, `scaled`, etc.) |\n",
    "| `plt.xticks` | set tick locations on the horizontal axis |\n",
    "| `plt.yticks` | set tick locations on the vertical axis |\n",
    "| `plt.legend` | display legend for several lines in the same figure |\n",
    "| `plt.savefig` | save figure (as .png, .pdf, etc.) to working directory |\n",
    "| `plt.figure` | create a new figure and set its properties |\n",
    "\n",
    "See the [pyplot documentation](https://matplotlib.org/api/pyplot_summary.html) for a full list of functions."
   ]
  },
  {
   "cell_type": "code",
   "execution_count": null,
   "metadata": {},
   "outputs": [],
   "source": [
    "plt.figure(figsize = (15, 5)) \n",
    "# figsize is a tuple of the width and height of the figure in inches\n",
    "\n",
    "plt.plot(t, cos_t, '.r', label = r\"$cos(\\theta)$\") \n",
    "# \".r\" is a format string which denotes linestyle=None, marker = '.' and color = 'red' \n",
    "\n",
    "plt.plot(t, sin_t, '--g', label = r\"$sin(\\theta)$\")\n",
    "# \"--g\" is a format string which denotes linestyle=dashed and color = 'green' \n",
    "\n",
    "plt.title('two functions')\n",
    "plt.xlabel(r\"$\\theta$\")\n",
    "plt.ylabel('values')\n",
    "plt.ylim([-1.1, 1.1])\n",
    "plt.legend()\n",
    "plt.grid(axis = 'y')\n",
    "\n",
    "# plt.legend(loc = 0) # let matplotlib decide the optimal location\n",
    "# plt.legend(loc = 1) # upper right corner\n",
    "# plt.legend(loc = 2) # upper left corner\n",
    "# plt.legend(loc = 3) # lower left corner\n",
    "# plt.legend(loc = 4) # lower right corner\n",
    "# # .. many more options are available\n",
    "\n",
    "plt.savefig(os.path.join('out', 'example_figure.png'), format = 'png')\n",
    "plt.show()"
   ]
  },
  {
   "cell_type": "markdown",
   "metadata": {},
   "source": [
    "#### Colors\n",
    "\n",
    "| Character | Color |\n",
    "| :---: | :---: |\n",
    "| `b` | blue |\n",
    "| `g` | green |\n",
    "| `r` | red |\n",
    "| `c` | cyan |\n",
    "| `m` | magenta |\n",
    "| `y` | yellow |\n",
    "| `k` | black |\n",
    "| `w` | white |\n"
   ]
  },
  {
   "cell_type": "markdown",
   "metadata": {},
   "source": [
    "#### Markers\n",
    "\n",
    "| Character | Marker |\n",
    "| :---: | :---: |\n",
    "| `.` | point |\n",
    "| `o` | circle |\n",
    "| `v` | triangle down |\n",
    "| `^` | triangle up |\n",
    "| `s` | square |\n",
    "| `p` | pentagon |\n",
    "| `*` |\tstar |\n",
    "| `+` | plus |\n",
    "| `x` |\tx |\n",
    "| `D` | diamond |"
   ]
  },
  {
   "cell_type": "markdown",
   "metadata": {},
   "source": [
    "#### Line Styles\n",
    "\n",
    "| Character | Line Style |\n",
    "| :---: | :---: |\n",
    "| `-` | solid line style |\n",
    "| `--` | dashed line style |\n",
    "| `-.` | dash-dot line style |\n",
    "| `:` | dotted line style |\n",
    "\n",
    "See the [matplotlib.pyplot.plot documentation](https://matplotlib.org/api/_as_gen/matplotlib.pyplot.plot.html) for more options."
   ]
  },
  {
   "cell_type": "markdown",
   "metadata": {},
   "source": [
    "### Subplots"
   ]
  },
  {
   "cell_type": "markdown",
   "metadata": {},
   "source": [
    "We start by storing a reference to the newly created figure instance and the axes array in the `f` and `axarr` variables, respectively"
   ]
  },
  {
   "cell_type": "code",
   "execution_count": null,
   "metadata": {},
   "outputs": [],
   "source": [
    "# Two subplots, the axes array is 1-d\n",
    "f, axarr = plt.subplots(2, sharex = True) \n",
    "axarr[0].plot(t, cos_t, '.r')\n",
    "axarr[1].plot(t, sin_t, '.b')\n",
    "plt.tight_layout()\n",
    "plt.show()"
   ]
  },
  {
   "cell_type": "markdown",
   "metadata": {},
   "source": [
    "# Plotting with pandas\n",
    "\n",
    "Pandas builds on top of Matplotlib but exploits the knowledge included in Dataframes to improve the default output. \n",
    "\n",
    "Check the [user guide](https://pandas.pydata.org/pandas-docs/stable/user_guide/visualization.html)\n"
   ]
  },
  {
   "cell_type": "code",
   "execution_count": null,
   "metadata": {},
   "outputs": [],
   "source": [
    "composers_df = pd.read_excel('dataset/composers.xlsx', sheet_name = 'Sheet5')\n",
    "composers_df = composers_df.dropna()\n",
    "composers_df"
   ]
  },
  {
   "cell_type": "code",
   "execution_count": null,
   "metadata": {},
   "outputs": [],
   "source": [
    "composers_df.head()"
   ]
  },
  {
   "cell_type": "markdown",
   "metadata": {},
   "source": [
    "- The `plot` method on `Series` and `DataFrame` is just a simple wrapper around `plt.plot()`"
   ]
  },
  {
   "cell_type": "code",
   "execution_count": null,
   "metadata": {},
   "outputs": [],
   "source": [
    "composers_df.birth.plot()"
   ]
  },
  {
   "cell_type": "markdown",
   "metadata": {},
   "source": [
    "- On DataFrame, `plot()` is a convenience to plot all of the columns with labels"
   ]
  },
  {
   "cell_type": "code",
   "execution_count": null,
   "metadata": {},
   "outputs": [],
   "source": [
    "composers_df.plot()"
   ]
  },
  {
   "cell_type": "markdown",
   "metadata": {},
   "source": [
    "- Plotting methods allow for a handful of plot styles other than the default line plot. These methods can be provided as the `kind` keyword argument to `plot()`, and include:\n",
    "\n",
    "| kind | plot |\n",
    "| :---: | :---: |\n",
    "| `bar` / `barh` | bar plots |\n",
    "| `hist` | histogram |\n",
    "| `box` | boxplot |\n",
    "| `kde` or `density` | density plot |\n",
    "| `area` | area plots |\n",
    "| `scatter` | scatter plots |\n",
    "| `hexbin` | hexagonal bin plots |\n",
    "| `pie` | pie plots |"
   ]
  },
  {
   "cell_type": "markdown",
   "metadata": {},
   "source": [
    "- example of scatter plot"
   ]
  },
  {
   "cell_type": "code",
   "execution_count": null,
   "metadata": {},
   "outputs": [],
   "source": [
    "composers_df.plot(kind = 'scatter', x = 'birth', y = 'death')"
   ]
  },
  {
   "cell_type": "markdown",
   "metadata": {},
   "source": [
    "- example of scatter plot with customization"
   ]
  },
  {
   "cell_type": "code",
   "execution_count": null,
   "metadata": {},
   "outputs": [],
   "source": [
    "composers_df.plot(kind = 'scatter', \n",
    "                  x = 'birth', \n",
    "                  y = 'death',\n",
    "                  title = 'Composer birth and death',\n",
    "                  grid = True,\n",
    "                  fontsize = 15)\n",
    "plt.show()"
   ]
  },
  {
   "cell_type": "markdown",
   "metadata": {},
   "source": [
    "- example of histogram plot"
   ]
  },
  {
   "cell_type": "code",
   "execution_count": null,
   "metadata": {},
   "outputs": [],
   "source": [
    "composers_df.plot(kind = 'hist')"
   ]
  },
  {
   "cell_type": "markdown",
   "metadata": {},
   "source": [
    "We can appreciate the advantage of using Pandas: without specifying anything, Pandas made a histogram of the two numeric columns, labelled the axis and even added a legend to the plot.\n"
   ]
  },
  {
   "cell_type": "markdown",
   "metadata": {},
   "source": [
    "We can definitely improve visualization by adding transparency!"
   ]
  },
  {
   "cell_type": "code",
   "execution_count": null,
   "metadata": {},
   "outputs": [],
   "source": [
    "composers_df.plot(kind = 'hist', alpha = 0.4)"
   ]
  },
  {
   "cell_type": "markdown",
   "metadata": {},
   "source": [
    "- We can also ask for subplots\n"
   ]
  },
  {
   "cell_type": "code",
   "execution_count": null,
   "metadata": {},
   "outputs": [],
   "source": [
    "composers_df.plot.hist(subplots = True, alpha = 0.5)  \n"
   ]
  },
  {
   "cell_type": "markdown",
   "metadata": {},
   "source": [
    "- example of boxplot"
   ]
  },
  {
   "cell_type": "code",
   "execution_count": null,
   "metadata": {},
   "outputs": [],
   "source": [
    "composers_df.plot(kind = 'box')"
   ]
  },
  {
   "cell_type": "code",
   "execution_count": null,
   "metadata": {},
   "outputs": [],
   "source": [
    "composers_df.plot(kind = 'box', \n",
    "                  subplots = True, \n",
    "                  sharey = True)\n",
    "plt.show()"
   ]
  },
  {
   "cell_type": "code",
   "execution_count": null,
   "metadata": {},
   "outputs": [],
   "source": [
    "composers_df.groupby('period').mean('numeric_only').plot(kind = 'bar')\n",
    "plt.show()"
   ]
  },
  {
   "cell_type": "code",
   "execution_count": null,
   "metadata": {},
   "outputs": [],
   "source": [
    "composers_df['period'].value_counts().plot(kind = \"bar\")\n",
    "plt.show()"
   ]
  },
  {
   "cell_type": "code",
   "execution_count": null,
   "metadata": {},
   "outputs": [],
   "source": [
    "composers_df['period'].value_counts().plot(kind = \"pie\")\n",
    "plt.show()"
   ]
  },
  {
   "cell_type": "markdown",
   "metadata": {},
   "source": [
    "# Seaborn\n",
    "\n",
    "See the [overview](https://seaborn.pydata.org/tutorial/function_overview.html) and the [example gallery](https://seaborn.pydata.org/examples/index.html) for an overview on seaborn plotting options."
   ]
  },
  {
   "cell_type": "markdown",
   "metadata": {},
   "source": [
    "Seaborn is tightly integrated with matplotlib.\n",
    "\n",
    "While you can be productive using only seaborn functions, full customization of your graphics will require some knowledge of matplotlib’s concepts and API. \n",
    "\n",
    "High quality data visualization products can be obtained by combining the two:\n",
    "- **Seaborn** provides a powerful high-level interface for creating visually appealing plots quickly\n",
    "- **Matplotlib** provides deep customizability \n",
    "\n"
   ]
  },
  {
   "cell_type": "code",
   "execution_count": null,
   "metadata": {},
   "outputs": [],
   "source": [
    "import seaborn as sns"
   ]
  },
  {
   "cell_type": "markdown",
   "metadata": {},
   "source": [
    "- example of `lmplot`: plot data and <ins>L</ins>inear <ins>M</ins>odel regression fits"
   ]
  },
  {
   "cell_type": "code",
   "execution_count": null,
   "metadata": {},
   "outputs": [],
   "source": [
    "g = sns.lmplot(x = \"birth\", y = \"death\", data = composers_df)"
   ]
  },
  {
   "cell_type": "code",
   "execution_count": null,
   "metadata": {},
   "outputs": [],
   "source": [
    "g = sns.lmplot(x = \"birth\", y = \"death\", data = composers_df, hue = \"period\") \n",
    "# hue = Grouping variable that will produce points with different colors"
   ]
  },
  {
   "cell_type": "markdown",
   "metadata": {},
   "source": [
    "- example of `jointplot`: Draw a plot of two variables with bivariate and univariate graphs.\n"
   ]
  },
  {
   "cell_type": "code",
   "execution_count": null,
   "metadata": {},
   "outputs": [],
   "source": [
    "g = sns.jointplot(x = \"birth\", y = \"death\", data = composers_df)"
   ]
  },
  {
   "cell_type": "markdown",
   "metadata": {},
   "source": [
    "Assigning a hue variable will add conditional colors to the scatterplot and draw separate density curves on the marginal axes:\n",
    "\n",
    "internally, it uses `kdeplot()`: it plots univariate or bivariate distributions using kernel density estimation.\n",
    "- A **kernel density estimate** (KDE) plot is a method for visualizing the distribution of observations in a dataset, analagous to a histogram. KDE represents the data using a continuous probability density curve in one or more dimensions.\n"
   ]
  },
  {
   "cell_type": "code",
   "execution_count": null,
   "metadata": {},
   "outputs": [],
   "source": [
    "g = sns.jointplot(x = \"birth\", y = \"death\", hue = \"period\", data = composers_df)"
   ]
  },
  {
   "cell_type": "code",
   "execution_count": null,
   "metadata": {},
   "outputs": [],
   "source": [
    "composers_df['age'] = composers_df['death'] - composers_df['birth']"
   ]
  },
  {
   "cell_type": "code",
   "execution_count": null,
   "metadata": {},
   "outputs": [],
   "source": [
    "sns.pairplot(data = composers_df, hue = 'period')\n",
    "plt.show()"
   ]
  },
  {
   "cell_type": "markdown",
   "metadata": {},
   "source": [
    "### Correlation Analysis"
   ]
  },
  {
   "cell_type": "markdown",
   "metadata": {},
   "source": [
    "`SciPy` is a collection of mathematical algorithms and convenience functions built on the NumPy extension of Python. It adds significant power to the interactive Python session by providing the user with high-level commands and classes for manipulating and visualizing data."
   ]
  },
  {
   "cell_type": "markdown",
   "metadata": {},
   "source": [
    "SciPy features includes, but are not limited to:\n",
    "- statistics\n",
    "- linear algebra\n",
    "- fourier transform\n",
    "- optimization algorithm\n",
    "- ...\n"
   ]
  },
  {
   "cell_type": "code",
   "execution_count": null,
   "metadata": {},
   "outputs": [],
   "source": [
    "from scipy.stats import pearsonr\n",
    "pearsonr(composers_df.birth, composers_df.death)"
   ]
  },
  {
   "cell_type": "markdown",
   "metadata": {},
   "source": [
    "The `pearsonr` function returns:\n",
    "- Pearson product-moment correlation coefficent.\n",
    "- The p-value associated with the chosen alternative: it roughly indicates the probability of an uncorrelated system producing datasets that have a Pearson correlation at least as extreme as the one computed from these datasets."
   ]
  },
  {
   "cell_type": "markdown",
   "metadata": {},
   "source": [
    "Pearson correlation coefficient can also be obtained with `pandas.DataFrame.corr()`"
   ]
  },
  {
   "cell_type": "code",
   "execution_count": null,
   "metadata": {},
   "outputs": [],
   "source": [
    "composers_df[['age', 'birth', 'death']].corr()"
   ]
  },
  {
   "cell_type": "code",
   "execution_count": null,
   "metadata": {},
   "outputs": [],
   "source": [
    "f,ax = plt.subplots(figsize=(10, 8))\n",
    "sns.heatmap(composers_df[['age','birth','death']].corr(), \n",
    "            annot=True, \n",
    "            linewidths=.5, \n",
    "            fmt= '.2f',\n",
    "            ax=ax,\n",
    "            vmin=-1, # important: otherwise the color code can be \"misleading\"\n",
    "            vmax=1, # important: otherwise the color code can be \"misleading\"\n",
    "            cmap = \"coolwarm\")\n",
    "plt.show()"
   ]
  },
  {
   "cell_type": "markdown",
   "metadata": {},
   "source": [
    "#### Categorical Data"
   ]
  },
  {
   "cell_type": "markdown",
   "metadata": {},
   "source": [
    "`seaborn` axes-level functions for [plotting categorical data](https://seaborn.pydata.org/tutorial/categorical.html):\n",
    "- categorical scatter plots\n",
    "    - `stripplot()`\n",
    "    - `swarmplot()`\n",
    "- distribution plots\n",
    "    - `boxplot()`\n",
    "    - `violinplot()`\n",
    "    - `boxenplot()`\n",
    "- estimate plots\n",
    "    - `pointplot()`\n",
    "    - `barplot()`\n",
    "    - `countplot()`"
   ]
  },
  {
   "cell_type": "code",
   "execution_count": null,
   "metadata": {},
   "outputs": [],
   "source": [
    "sns.countplot(x = 'period', data = composers_df, hue = 'period', palette = \"pastel\")\n",
    "plt.show()"
   ]
  },
  {
   "cell_type": "markdown",
   "metadata": {},
   "source": [
    "`seaborn` also provides a figure-level interface, `catplot()`, that gives unified higher-level access to the axes-level functions."
   ]
  },
  {
   "cell_type": "code",
   "execution_count": null,
   "metadata": {},
   "outputs": [],
   "source": [
    "sns.catplot(x = \"period\", \n",
    "            y = 'birth', \n",
    "            kind = \"box\", \n",
    "            hue = 'period',\n",
    "            palette = \"pastel\",\n",
    "            data = composers_df)"
   ]
  },
  {
   "cell_type": "markdown",
   "metadata": {},
   "source": [
    "# Plotly Express: interactive plots"
   ]
  },
  {
   "cell_type": "markdown",
   "metadata": {},
   "source": [
    "[Plotly Express](https://plotly.com/python/plotly-express/) is a terse, consistent, high-level API for creating figures. "
   ]
  },
  {
   "cell_type": "code",
   "execution_count": null,
   "metadata": {},
   "outputs": [],
   "source": [
    "import plotly.express as px"
   ]
  },
  {
   "cell_type": "markdown",
   "metadata": {},
   "source": [
    "ImportError? Install it!\n",
    "```bash\n",
    "conda install -c plotly plotly_express\n",
    "```"
   ]
  },
  {
   "cell_type": "code",
   "execution_count": null,
   "metadata": {},
   "outputs": [],
   "source": [
    "df = px.data.iris()\n",
    "df"
   ]
  },
  {
   "cell_type": "markdown",
   "metadata": {},
   "source": [
    "- example of scatter plot"
   ]
  },
  {
   "cell_type": "code",
   "execution_count": null,
   "metadata": {},
   "outputs": [],
   "source": [
    "fig = px.scatter(df, \n",
    "                 x=\"sepal_width\", \n",
    "                 y=\"sepal_length\", \n",
    "                 color=\"species\",\n",
    "                 size='petal_length', \n",
    "                 hover_data=['petal_width'],\n",
    "                 height=600\n",
    "                )\n",
    "fig.show()"
   ]
  },
  {
   "cell_type": "markdown",
   "metadata": {},
   "source": [
    "Lets add a dimension!\n",
    "- example of 3D scatter plot"
   ]
  },
  {
   "cell_type": "code",
   "execution_count": null,
   "metadata": {
    "scrolled": true
   },
   "outputs": [],
   "source": [
    "fig = px.scatter_3d(df, \n",
    "                    x=\"sepal_width\", \n",
    "                    y=\"sepal_length\", \n",
    "                    z=\"petal_length\", \n",
    "                    size=\"petal_width\",\n",
    "                    color=\"species\",\n",
    "                    height=600)\n",
    "fig.show()"
   ]
  },
  {
   "cell_type": "code",
   "execution_count": null,
   "metadata": {},
   "outputs": [],
   "source": [
    "df"
   ]
  },
  {
   "cell_type": "code",
   "execution_count": null,
   "metadata": {},
   "outputs": [],
   "source": [
    "fig = px.scatter_matrix(df.drop(['species_id'], \n",
    "                                axis = 1),\n",
    "                        dimensions = df.drop(['species_id', 'species'], axis = 1),\n",
    "                        color = 'species',\n",
    "                        height = 800,\n",
    "                        width = 1000) \n",
    "fig.show()"
   ]
  },
  {
   "cell_type": "markdown",
   "metadata": {},
   "source": [
    "- example of pie chart"
   ]
  },
  {
   "cell_type": "code",
   "execution_count": null,
   "metadata": {},
   "outputs": [],
   "source": [
    "df = px.data.gapminder().query(\"year == 2007\").query(\"continent == 'Europe'\")\n",
    "df.loc[df['pop'] < 2.e6, 'country'] = 'Other countries' # Represent only large countries\n",
    "fig = px.pie(df, \n",
    "             values = 'pop', \n",
    "             names = 'country', \n",
    "             title = 'Population of European continent', \n",
    "             height = 600)\n",
    "fig.show()"
   ]
  },
  {
   "cell_type": "markdown",
   "metadata": {},
   "source": [
    "- example of sunburst charts"
   ]
  },
  {
   "cell_type": "code",
   "execution_count": null,
   "metadata": {},
   "outputs": [],
   "source": [
    "df = px.data.gapminder().query(\"year == 2007\")\n",
    "fig = px.sunburst(df, \n",
    "                  path = ['continent', 'country'], \n",
    "                  values = 'pop',\n",
    "                  color = 'lifeExp', \n",
    "                  hover_data = ['iso_alpha'],\n",
    "                  height = 600)\n",
    "fig.show()"
   ]
  },
  {
   "cell_type": "markdown",
   "metadata": {},
   "source": [
    "- example of GeoJSON maps"
   ]
  },
  {
   "cell_type": "code",
   "execution_count": null,
   "metadata": {},
   "outputs": [],
   "source": [
    "df = px.data.election()\n",
    "df"
   ]
  },
  {
   "cell_type": "code",
   "execution_count": null,
   "metadata": {
    "scrolled": true
   },
   "outputs": [],
   "source": [
    "geojson = px.data.election_geojson()\n",
    "geojson"
   ]
  },
  {
   "cell_type": "code",
   "execution_count": null,
   "metadata": {},
   "outputs": [],
   "source": [
    "\n",
    "fig = px.choropleth_mapbox(df, \n",
    "                           geojson = geojson, \n",
    "                           color = \"winner\",\n",
    "                           locations = \"district\", \n",
    "                           featureidkey = \"properties.district\",\n",
    "                           center = {\"lat\": 45.5517, \"lon\": -73.7073},\n",
    "                           mapbox_style = \"carto-positron\", \n",
    "                           zoom = 9,\n",
    "                           height = 600)\n",
    "fig.show()\n"
   ]
  },
  {
   "cell_type": "code",
   "execution_count": null,
   "metadata": {},
   "outputs": [],
   "source": [
    "df['coderre-joly'] = df.Coderre - df.Joly"
   ]
  },
  {
   "cell_type": "code",
   "execution_count": null,
   "metadata": {},
   "outputs": [],
   "source": [
    "fig = px.choropleth_mapbox(df, \n",
    "                           geojson = geojson, \n",
    "                           color = \"coderre-joly\",\n",
    "                           locations = \"district\", \n",
    "                           featureidkey = \"properties.district\",\n",
    "                           center = {\"lat\": 45.5517, \"lon\": -73.7073},\n",
    "                           mapbox_style = \"carto-positron\", \n",
    "                           zoom = 9,\n",
    "                           height = 600)\n",
    "fig.show()"
   ]
  },
  {
   "cell_type": "markdown",
   "metadata": {},
   "source": [
    "- example of outline symbol maps"
   ]
  },
  {
   "cell_type": "code",
   "execution_count": null,
   "metadata": {},
   "outputs": [],
   "source": [
    "df = px.data.gapminder()\n",
    "df"
   ]
  },
  {
   "cell_type": "code",
   "execution_count": null,
   "metadata": {},
   "outputs": [],
   "source": [
    "fig = px.scatter_geo(df, \n",
    "                     locations = \"iso_alpha\", \n",
    "                     color = \"continent\", \n",
    "                     hover_name = \"country\", \n",
    "                     size = \"pop\",\n",
    "                     animation_frame = \"year\", \n",
    "                     projection = \"natural earth\",\n",
    "                     height = 600)\n",
    "fig.show()"
   ]
  }
 ],
 "metadata": {
  "kernelspec": {
   "display_name": "Python 3 (ipykernel)",
   "language": "python",
   "name": "python3"
  },
  "language_info": {
   "codemirror_mode": {
    "name": "ipython",
    "version": 3
   },
   "file_extension": ".py",
   "mimetype": "text/x-python",
   "name": "python",
   "nbconvert_exporter": "python",
   "pygments_lexer": "ipython3",
   "version": "3.11.9"
  }
 },
 "nbformat": 4,
 "nbformat_minor": 4
}

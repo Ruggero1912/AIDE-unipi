{
 "cells": [
  {
   "cell_type": "markdown",
   "id": "48cac15a",
   "metadata": {},
   "source": [
    "# TASK-1: PCA\n",
    "- use the sklearn utility to load the *wine dataset* (`sklearn.dataset.load_wine`)\n",
    "- apply PCA to reduce the dimensionality of the dataset and to enable its visualization\n",
    "- visualize the reduced dataset using a scatter plot, representing instances from different classes with different colors."
   ]
  },
  {
   "cell_type": "code",
   "execution_count": null,
   "id": "81e9481f",
   "metadata": {},
   "outputs": [],
   "source": [
    "import matplotlib.pyplot as plt\n",
    "\n",
    "from sklearn.preprocessing import StandardScaler\n",
    "from sklearn.decomposition import PCA\n",
    "from sklearn.datasets import load_wine\n",
    "import pandas as pd\n",
    "import numpy as np"
   ]
  },
  {
   "cell_type": "code",
   "execution_count": null,
   "id": "0e065665",
   "metadata": {},
   "outputs": [],
   "source": [
    "dataset = load_wine()"
   ]
  },
  {
   "cell_type": "code",
   "execution_count": null,
   "id": "c28e8f02",
   "metadata": {},
   "outputs": [],
   "source": [
    "dir(dataset)"
   ]
  },
  {
   "cell_type": "code",
   "execution_count": null,
   "id": "21c4f861",
   "metadata": {},
   "outputs": [],
   "source": [
    "print(dataset.DESCR)"
   ]
  },
  {
   "cell_type": "code",
   "execution_count": null,
   "id": "4596a730",
   "metadata": {},
   "outputs": [],
   "source": [
    "df = pd.DataFrame(dataset.data, columns  = dataset.feature_names)\n",
    "df['Class'] = dataset.target\n",
    "df"
   ]
  },
  {
   "cell_type": "code",
   "execution_count": null,
   "id": "8d5bdbe2",
   "metadata": {},
   "outputs": [],
   "source": [
    "df.drop('Class', axis = 1).describe().T"
   ]
  },
  {
   "cell_type": "code",
   "execution_count": null,
   "id": "36fd6e0f",
   "metadata": {},
   "outputs": [],
   "source": [
    "X = df.drop('Class', axis = 1).values"
   ]
  },
  {
   "cell_type": "markdown",
   "id": "5325ec9a",
   "metadata": {},
   "source": [
    "### Apply PCA on unscaled data"
   ]
  },
  {
   "cell_type": "code",
   "execution_count": null,
   "id": "602ec7b3",
   "metadata": {},
   "outputs": [],
   "source": [
    "pca_unscaled = PCA(n_components = 2)\n",
    "X_unscaled_PCA = pca_unscaled.fit_transform(X)"
   ]
  },
  {
   "cell_type": "code",
   "execution_count": null,
   "id": "485132bf",
   "metadata": {},
   "outputs": [],
   "source": [
    "np.round(pca_unscaled.components_, 3)"
   ]
  },
  {
   "cell_type": "markdown",
   "id": "3649d871",
   "metadata": {},
   "source": [
    "Note that:\n",
    "- the first PC roughly corresponds to the last actual component\n",
    "- the second PC roughly corresponds to the fourth actual component"
   ]
  },
  {
   "cell_type": "code",
   "execution_count": null,
   "id": "ca153b63",
   "metadata": {},
   "outputs": [],
   "source": [
    "pca_unscaled.explained_variance_ratio_"
   ]
  },
  {
   "cell_type": "markdown",
   "id": "594530e8",
   "metadata": {},
   "source": [
    "###  Apply PCA on scaled data"
   ]
  },
  {
   "cell_type": "code",
   "execution_count": null,
   "id": "0cb52f4d",
   "metadata": {},
   "outputs": [],
   "source": [
    "pca_scaled = PCA(n_components = 2)\n",
    "X_scaled_PCA = pca_scaled.fit_transform(StandardScaler().fit_transform(X))"
   ]
  },
  {
   "cell_type": "code",
   "execution_count": null,
   "id": "b4ef46ae",
   "metadata": {},
   "outputs": [],
   "source": [
    "np.round(pca_scaled.components_, 3)"
   ]
  },
  {
   "cell_type": "code",
   "execution_count": null,
   "id": "cf9c356d",
   "metadata": {},
   "outputs": [],
   "source": [
    "pca_scaled.explained_variance_ratio_"
   ]
  },
  {
   "cell_type": "markdown",
   "id": "203b492d",
   "metadata": {},
   "source": [
    "###  Visualize the transformed dataset on a scatter plot"
   ]
  },
  {
   "cell_type": "code",
   "execution_count": null,
   "id": "0e4dd0f3",
   "metadata": {},
   "outputs": [],
   "source": [
    "fig, (ax1, ax2, ax3) = plt.subplots(1, 3, figsize = (15, 5))\n",
    "\n",
    "target_classes = range(0, 3)\n",
    "colors = (\"blue\", \"red\", \"green\")\n",
    "markers = (\"^\", \"s\", \"o\")\n",
    "\n",
    "ax1.scatter(X[:, -1], X[:, 4], c = df['Class'])\n",
    "ax1.set_xlabel('proline')\n",
    "ax1.set_ylabel('magnesium')\n",
    "ax1.set_title('Subspace original data')\n",
    "\n",
    "ax2.scatter(X_unscaled_PCA[:, 0], X_unscaled_PCA[:, 1], c = df['Class'])\n",
    "ax2.set_xlabel('Principal Component #1')\n",
    "ax2.set_ylabel('Principal Component #2')\n",
    "ax2.set_title('PCA without scaling')\n",
    "\n",
    "ax3.scatter(X_scaled_PCA[:, 0], X_scaled_PCA[:, 1], c = df['Class'])\n",
    "ax3.set_xlabel('Principal Component #1')\n",
    "ax3.set_ylabel('Principal Component #2')\n",
    "ax3.set_title('PCA with scaling')\n",
    "\n",
    "plt.tight_layout()\n",
    "plt.show()"
   ]
  },
  {
   "cell_type": "markdown",
   "id": "31e21fc3",
   "metadata": {},
   "source": [
    "Notebook adapted from https://scikit-learn.org/stable/auto_examples/preprocessing/plot_scaling_importance.html\n",
    "    "
   ]
  }
 ],
 "metadata": {
  "kernelspec": {
   "display_name": "Python 3 (ipykernel)",
   "language": "python",
   "name": "python3"
  },
  "language_info": {
   "codemirror_mode": {
    "name": "ipython",
    "version": 3
   },
   "file_extension": ".py",
   "mimetype": "text/x-python",
   "name": "python",
   "nbconvert_exporter": "python",
   "pygments_lexer": "ipython3",
   "version": "3.11.9"
  }
 },
 "nbformat": 4,
 "nbformat_minor": 5
}

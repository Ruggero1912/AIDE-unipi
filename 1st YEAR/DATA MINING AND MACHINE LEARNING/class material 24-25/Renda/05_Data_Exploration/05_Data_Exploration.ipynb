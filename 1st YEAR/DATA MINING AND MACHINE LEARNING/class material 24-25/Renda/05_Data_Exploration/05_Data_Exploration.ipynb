{
 "cells": [
  {
   "cell_type": "markdown",
   "id": "919bd099",
   "metadata": {},
   "source": [
    "# Table of Contents \n",
    "\n",
    "\n",
    "- [The IRIS dataset](#The-IRIS-dataset):\n",
    "    - [Load the dataset](#Load-the-dataset)\n",
    "    - [Explore the dataset: Descriptive statistics](#Explore-the-dataset:-descriptive-statistics)\n",
    "    - [Explore the dataset: Visualization](#Explore-the-dataset:-Visualization)\n",
    "- [The BREAST-CANCER dataset](#The-BREAST-CANCER-dataset):\n",
    "    - [Load the dataset](#Load-the-Dataset)\n",
    "    - [Explore the dataset: Descriptive statistics](#Explore-the-dataset:-Descriptive-statistics)\n",
    "    - [Explore the dataset: Visualization](#Explore-the-dataset:-Visualization)\n",
    "    \n"
   ]
  },
  {
   "cell_type": "code",
   "execution_count": null,
   "id": "c76d3ff3",
   "metadata": {},
   "outputs": [],
   "source": [
    "import os\n",
    "import pandas as pd"
   ]
  },
  {
   "cell_type": "markdown",
   "id": "af5cebed",
   "metadata": {},
   "source": [
    "# Data Exploration (numerical data): The IRIS dataset"
   ]
  },
  {
   "cell_type": "markdown",
   "id": "058dcc69",
   "metadata": {},
   "source": [
    "This is perhaps the best known database to be found in the pattern recognition literature. \n",
    "\n",
    "- The data set contains 3 classes of 50 instances each, where each class refers to a type of iris plant.\n",
    "- There are four numeric attributes and the class attribute:\n",
    "    1. sepal length in cm   \n",
    "    2. sepal width in cm   \n",
    "    3. petal length in cm   \n",
    "    4. petal width in cm   \n",
    "    5. class: {Iris Setosa, Iris Versicolour, Iris Virginica}\n",
    "    "
   ]
  },
  {
   "cell_type": "markdown",
   "id": "b4b4348c",
   "metadata": {},
   "source": [
    "![irisdataset](https://miro.medium.com/v2/resize:fit:1400/format:webp/1*3svxt5IDoVHkGLWvf4IAqg.png)"
   ]
  },
  {
   "cell_type": "markdown",
   "id": "201d1798",
   "metadata": {},
   "source": [
    "## Load the dataset"
   ]
  },
  {
   "cell_type": "markdown",
   "id": "fbe6b400",
   "metadata": {},
   "source": [
    "Common pitfalls in `pd.read_csv`:\n",
    "- what is the \"sep\" character\n",
    "- is there any header?\n",
    "- is there any index column?\n",
    "- how are missing/unknown values denoted?"
   ]
  },
  {
   "cell_type": "code",
   "execution_count": null,
   "id": "8bbb63c7",
   "metadata": {},
   "outputs": [],
   "source": [
    "iris_df = pd.read_csv(os.path.join('dataset', 'iris.csv'))"
   ]
  },
  {
   "cell_type": "markdown",
   "id": "184d9ed3",
   "metadata": {},
   "source": [
    "## Explore the dataset: descriptive statistics\n"
   ]
  },
  {
   "cell_type": "code",
   "execution_count": null,
   "id": "1ddeb8b3",
   "metadata": {},
   "outputs": [],
   "source": [
    "iris_df"
   ]
  },
  {
   "cell_type": "code",
   "execution_count": null,
   "id": "035ce900",
   "metadata": {},
   "outputs": [],
   "source": [
    "iris_df.shape"
   ]
  },
  {
   "cell_type": "code",
   "execution_count": null,
   "id": "edde003a",
   "metadata": {},
   "outputs": [],
   "source": [
    "pd.set_option('display.max_rows', 150)\n",
    "iris_df"
   ]
  },
  {
   "cell_type": "code",
   "execution_count": null,
   "id": "0c7c985f",
   "metadata": {},
   "outputs": [],
   "source": [
    "iris_df.head(10)"
   ]
  },
  {
   "cell_type": "code",
   "execution_count": null,
   "id": "a7901e10",
   "metadata": {},
   "outputs": [],
   "source": [
    "iris_df.head(10).T"
   ]
  },
  {
   "cell_type": "markdown",
   "id": "7ec8bda6",
   "metadata": {},
   "source": [
    "Check if there is any missing value"
   ]
  },
  {
   "cell_type": "code",
   "execution_count": null,
   "id": "9929016d",
   "metadata": {},
   "outputs": [],
   "source": [
    "iris_df.isna().sum()"
   ]
  },
  {
   "cell_type": "code",
   "execution_count": null,
   "id": "3bf33f95",
   "metadata": {},
   "outputs": [],
   "source": [
    "iris_df.describe()"
   ]
  },
  {
   "cell_type": "code",
   "execution_count": null,
   "id": "39e8a32d",
   "metadata": {},
   "outputs": [],
   "source": [
    "iris_df.drop('class', axis = 1).describe()"
   ]
  },
  {
   "cell_type": "code",
   "execution_count": null,
   "id": "4891d4b3",
   "metadata": {},
   "outputs": [],
   "source": [
    "iris_df.info()"
   ]
  },
  {
   "cell_type": "code",
   "execution_count": null,
   "id": "e9b6886a",
   "metadata": {},
   "outputs": [],
   "source": [
    "iris_df['class'].value_counts()"
   ]
  },
  {
   "cell_type": "markdown",
   "id": "5b11be6a",
   "metadata": {},
   "source": [
    "## Explore the dataset: Visualization"
   ]
  },
  {
   "cell_type": "code",
   "execution_count": null,
   "id": "07305afb",
   "metadata": {},
   "outputs": [],
   "source": [
    "from matplotlib import pyplot as plt"
   ]
  },
  {
   "cell_type": "markdown",
   "id": "2edefbaa",
   "metadata": {},
   "source": [
    "### Histogram and boxplots with matplotlib\n"
   ]
  },
  {
   "cell_type": "code",
   "execution_count": null,
   "id": "ff9f6e33",
   "metadata": {},
   "outputs": [],
   "source": [
    "plt.figure()\n",
    "plt.hist(iris_df['sepallength'])\n",
    "plt.ylabel('occurrences')\n",
    "plt.xlabel('sepallength')\n",
    "plt.title(f'histogram of sepal length attribute')"
   ]
  },
  {
   "cell_type": "code",
   "execution_count": null,
   "id": "393846ed-e37f-4e5d-837f-b8f8a0878b2f",
   "metadata": {},
   "outputs": [],
   "source": [
    "f, axes = plt.subplots(1, 2, sharey = True, figsize = (10, 4))\n",
    "axes[0].hist(iris_df['sepallength'])\n",
    "axes[0].set_ylabel('occurrences')\n",
    "axes[0].set_xlabel('sepal length')\n",
    "axes[0].set_title(f'histogram of sepal length attribute (default # bins)')\n",
    "axes[1].hist(iris_df['sepallength'], bins = 20)\n",
    "axes[1].set_xlabel('sepal length')\n",
    "axes[1].set_title(f'histogram of sepal length attribute (20 bins)')\n",
    "plt.show()"
   ]
  },
  {
   "cell_type": "markdown",
   "id": "f0c84095",
   "metadata": {},
   "source": [
    "### Histogram and boxplots with pandas\n",
    "[Check the user guide](https://pandas.pydata.org/pandas-docs/stable/user_guide/visualization.html)\n"
   ]
  },
  {
   "cell_type": "code",
   "execution_count": null,
   "id": "0fb36615",
   "metadata": {},
   "outputs": [],
   "source": [
    "iris_df.drop('class', axis = 1).hist(bins = 7, \n",
    "                                     layout = (1, 4), \n",
    "                                     figsize = (20, 4))\n",
    "plt.show()"
   ]
  },
  {
   "cell_type": "code",
   "execution_count": null,
   "id": "ecc1bfa3",
   "metadata": {},
   "outputs": [],
   "source": [
    "iris_df['sepallength'].plot(kind = 'hist', \n",
    "                            bins = 7, \n",
    "                            figsize = (10, 6), \n",
    "                            title = 'iris hist plot: sepallength')\n",
    "plt.show()"
   ]
  },
  {
   "cell_type": "code",
   "execution_count": null,
   "id": "adcee639",
   "metadata": {},
   "outputs": [],
   "source": [
    "iris_df.hist(column = 'sepallength', \n",
    "             by='class', \n",
    "             bins = 7, \n",
    "             figsize=(15, 4),\n",
    "             layout = (1, 3))\n",
    "plt.show()"
   ]
  },
  {
   "cell_type": "code",
   "execution_count": null,
   "id": "2583d687",
   "metadata": {},
   "outputs": [],
   "source": [
    "iris_df.boxplot(column = 'sepallength',\n",
    "                by = 'class', \n",
    "                figsize = (10, 6))\n",
    "plt.show()"
   ]
  },
  {
   "cell_type": "code",
   "execution_count": null,
   "id": "74683dbe",
   "metadata": {},
   "outputs": [],
   "source": [
    "iris_df.drop('class', axis = 1).plot(kind ='box', \n",
    "                                    subplots = True, \n",
    "                                    figsize = (20, 4),\n",
    "                                    layout = (1, 4),\n",
    "                                    sharey = False)\n",
    "plt.show()"
   ]
  },
  {
   "cell_type": "code",
   "execution_count": null,
   "id": "80435458",
   "metadata": {},
   "outputs": [],
   "source": [
    "iris_df.drop('class', axis = 1).plot(kind = 'box', \n",
    "                                    subplots = True, \n",
    "                                    figsize = (16, 4),\n",
    "                                    layout = (1, 4), \n",
    "                                    sharey = True)\n",
    "plt.show()"
   ]
  },
  {
   "cell_type": "code",
   "execution_count": null,
   "id": "589c5ac9-c390-4671-a095-4cb675e94ff0",
   "metadata": {},
   "outputs": [],
   "source": [
    "iris_df.drop('class', axis = 1).plot(kind = 'box')\n",
    "plt.show()"
   ]
  },
  {
   "cell_type": "markdown",
   "id": "22b10708",
   "metadata": {},
   "source": [
    "### Scatter plot with matplotlib"
   ]
  },
  {
   "cell_type": "code",
   "execution_count": null,
   "id": "8f28b60c",
   "metadata": {},
   "outputs": [],
   "source": [
    "dict_names = {1: 'Iris-setosa', 2: 'Iris-versicolor', 3: 'Iris-virginica'}\n",
    "dict_names.values()"
   ]
  },
  {
   "cell_type": "code",
   "execution_count": null,
   "id": "ad5b65e1",
   "metadata": {},
   "outputs": [],
   "source": [
    "x_index = 0\n",
    "y_index = 2\n",
    "for curr_class, color in zip(range(1, 4), 'rgb'):\n",
    "    scatterplot = plt.scatter(iris_df[iris_df[\"class\"] == curr_class].iloc[:, x_index],\n",
    "                              iris_df[iris_df[\"class\"] == curr_class].iloc[:, y_index], \n",
    "                              c = color,\n",
    "                              # here you can customize the marker size or style, for instance \n",
    "                              label = dict_names[curr_class])\n",
    "plt.xlabel(iris_df.columns[x_index])\n",
    "plt.ylabel(iris_df.columns[y_index])\n",
    "plt.legend()\n",
    "plt.show()"
   ]
  },
  {
   "cell_type": "code",
   "execution_count": null,
   "id": "e759dcb0",
   "metadata": {},
   "outputs": [],
   "source": [
    "# analogously: easier on the plotting stage, more complicated for handling legend elements.\n",
    "x_index = 0\n",
    "y_index = 2\n",
    "\n",
    "scatterplot = plt.scatter(iris_df.iloc[:, x_index],\n",
    "                          iris_df.iloc[:, y_index], \n",
    "                          c = iris_df['class'])\n",
    "plt.xlabel(iris_df.columns[x_index])\n",
    "plt.ylabel(iris_df.columns[y_index])\n",
    "plt.legend(handles = scatterplot.legend_elements()[0],\n",
    "           labels = dict_names.values())\n",
    "plt.show()"
   ]
  },
  {
   "cell_type": "code",
   "execution_count": null,
   "id": "ae280ed5",
   "metadata": {},
   "outputs": [],
   "source": [
    "fig, axes = plt.subplots(4, 4, figsize = (20, 20))\n",
    "for ix in range(4):\n",
    "    for iy in range(4):\n",
    "        scatterplot = axes[ix, iy].scatter(iris_df.iloc[:, ix],\n",
    "                                          iris_df.iloc[:, iy],\n",
    "                                          c = iris_df['class'])\n",
    "        axes[ix, iy].set_xlabel(iris_df.columns[ix])\n",
    "        axes[ix, iy].set_ylabel(iris_df.columns[iy])\n",
    "        axes[ix, iy].legend(handles = scatterplot.legend_elements()[0],\n",
    "                            labels = dict_names.values())\n",
    "        "
   ]
  },
  {
   "cell_type": "markdown",
   "id": "143a0bce",
   "metadata": {},
   "source": [
    "### Scatter plot with pandas"
   ]
  },
  {
   "cell_type": "code",
   "execution_count": null,
   "id": "9c65cd40",
   "metadata": {},
   "outputs": [],
   "source": [
    "iris_df.plot(x = 'sepallength', \n",
    "             y = 'petallength', \n",
    "             kind = 'scatter', \n",
    "             c = 'class',\n",
    "             colormap = 'viridis',\n",
    "             colorbar = False, \n",
    "             figsize = (6, 6),\n",
    "             title = 'iris scatter plot')"
   ]
  },
  {
   "cell_type": "code",
   "execution_count": null,
   "id": "7413ba1a",
   "metadata": {},
   "outputs": [],
   "source": [
    "from pandas.plotting import scatter_matrix\n",
    "scatter_matrix(iris_df.drop('class', axis = 1),\n",
    "               figsize = (16, 16),\n",
    "               alpha = 1,\n",
    "               diagonal = 'hist',\n",
    "               c = iris_df['class'])\n",
    "plt.show()"
   ]
  },
  {
   "cell_type": "markdown",
   "id": "9383dcc8",
   "metadata": {},
   "source": [
    "### Plotting with Seaborn"
   ]
  },
  {
   "cell_type": "code",
   "execution_count": null,
   "id": "1b4e468c",
   "metadata": {},
   "outputs": [],
   "source": [
    "import seaborn as sns"
   ]
  },
  {
   "cell_type": "code",
   "execution_count": null,
   "id": "cb93073d",
   "metadata": {},
   "outputs": [],
   "source": [
    "f, axes = plt.subplots(1, 2, figsize = (8, 4))\n",
    "\n",
    "sns.scatterplot(data = iris_df, \n",
    "                x = \"sepallength\", \n",
    "                y = \"petallength\", \n",
    "                hue = \"class\", \n",
    "                ax = axes[0]) \n",
    "\n",
    "sns.histplot(data = iris_df, \n",
    "             x = \"class\", \n",
    "             hue = \"class\", \n",
    "             legend = False, \n",
    "             ax = axes[1])\n",
    "f.tight_layout()"
   ]
  },
  {
   "cell_type": "code",
   "execution_count": null,
   "id": "008a038b",
   "metadata": {},
   "outputs": [],
   "source": [
    "sns.jointplot(data = iris_df, \n",
    "              x = \"sepallength\", \n",
    "              y = \"petallength\")"
   ]
  },
  {
   "cell_type": "markdown",
   "id": "faf5abbf",
   "metadata": {},
   "source": [
    "Assigning a hue variable will add conditional colors to the scatterplot and draw separate density curves on the marginal axes:\n",
    "\n",
    "internally, it uses `kdeplot()`: it plots univariate or bivariate distributions using kernel density estimation.\n",
    "- A **kernel density estimate** (KDE) plot is a method for visualizing the distribution of observations in a dataset, analagous to a histogram. KDE represents the data using a continuous probability density curve in one or more dimensions.\n"
   ]
  },
  {
   "cell_type": "code",
   "execution_count": null,
   "id": "b54349a0",
   "metadata": {},
   "outputs": [],
   "source": [
    "sns.jointplot(data = iris_df, \n",
    "              x = \"sepallength\",\n",
    "              y = \"petallength\",\n",
    "              hue = 'class')\n"
   ]
  },
  {
   "cell_type": "code",
   "execution_count": null,
   "id": "c405ab19",
   "metadata": {},
   "outputs": [],
   "source": [
    "sns.pairplot(data = iris_df,\n",
    "             hue = \"class\")\n"
   ]
  },
  {
   "cell_type": "code",
   "execution_count": null,
   "id": "337f09e4",
   "metadata": {},
   "outputs": [],
   "source": [
    "sns.set_theme(style = \"whitegrid\")\n",
    "ax = sns.boxplot(data = iris_df.iloc[:, :-1],\n",
    "                 orient = \"v\")"
   ]
  },
  {
   "cell_type": "markdown",
   "id": "481a4c30",
   "metadata": {},
   "source": [
    "### Correlation Analysis"
   ]
  },
  {
   "cell_type": "markdown",
   "id": "0d560bf0",
   "metadata": {},
   "source": [
    "`SciPy` is a collection of mathematical algorithms and convenience functions built on the NumPy extension of Python. It adds significant power to the interactive Python session by providing the user with high-level commands and classes for manipulating and visualizing data."
   ]
  },
  {
   "cell_type": "markdown",
   "id": "4310cbfe",
   "metadata": {},
   "source": [
    "SciPy features includes, but are not limited to:\n",
    "- statistics\n",
    "- linear algebra\n",
    "- fourier transform\n",
    "- optimization algorithm\n",
    "- ...\n"
   ]
  },
  {
   "cell_type": "code",
   "execution_count": null,
   "id": "544957d4",
   "metadata": {},
   "outputs": [],
   "source": [
    "from scipy.stats import pearsonr\n",
    "pearsonr(iris_df.sepallength, iris_df.sepalwidth)"
   ]
  },
  {
   "cell_type": "markdown",
   "id": "804133b5",
   "metadata": {},
   "source": [
    "The `pearsonr` function returns:\n",
    "- Pearson product-moment correlation coefficent.\n",
    "- The p-value associated with the chosen alternative: it roughly indicates the probability of an uncorrelated system producing datasets that have a Pearson correlation at least as extreme as the one computed from these datasets."
   ]
  },
  {
   "cell_type": "markdown",
   "id": "0c6960c2",
   "metadata": {},
   "source": [
    "Pearson correlation coefficient can also be obtained with `pandas.DataFrame.corr()`"
   ]
  },
  {
   "cell_type": "code",
   "execution_count": null,
   "id": "27545f37",
   "metadata": {},
   "outputs": [],
   "source": [
    "iris_df.drop('class', axis = 1).corr()"
   ]
  },
  {
   "cell_type": "code",
   "execution_count": null,
   "id": "7e56155f",
   "metadata": {},
   "outputs": [],
   "source": [
    "f, ax = plt.subplots(figsize = (10, 8))\n",
    "sns.heatmap(iris_df.drop('class', axis = 1).corr(), \n",
    "            annot = True, \n",
    "            linewidths = .5, \n",
    "            fmt = '.2f',\n",
    "            ax = ax,\n",
    "            vmin = -1, \n",
    "            vmax = 1,\n",
    "            cmap = \"coolwarm\")\n",
    "plt.show()"
   ]
  },
  {
   "cell_type": "markdown",
   "id": "ca7b8643-dce7-45dc-ba12-f1fceae7dd9d",
   "metadata": {},
   "source": [
    "# Data Exploration (categorical data): the BREAST-CANCER dataset\n"
   ]
  },
  {
   "cell_type": "markdown",
   "id": "acba74f6",
   "metadata": {},
   "source": [
    "\n",
    "available at [UCI database](https://archive.ics.uci.edu/ml/datasets/breast+cancer).\n",
    "\n",
    "\n",
    "This is one of three domains provided by the Oncology Institute that has repeatedly appeared in the machine learning literature. (See also lymphography and primary-tumor.)\n",
    " \n",
    "This data set includes 286 intances (201 of one class, 85 of another class).  The instances are described by 9 attributes, some of which are ordinal and some are nominal.\n",
    " \n",
    "Attribute information\n",
    "\n",
    "| column | values |\n",
    "| --- | --- |\n",
    "| Class | no-recurrence-events, recurrence-events |\n",
    "| age | 10-19, 20-29, 30-39, 40-49, 50-59, 60-69, 70-79, 80-89, 90-99|\n",
    "| menopause | lt40, ge40, premeno|\n",
    "| tumor-size | 0-4, 5-9, 10-14, 15-19, 20-24, 25-29, 30-34, 35-39, 40-44, 45-49, 50-54, 55-59|\n",
    "| inv-nodes | 0-2, 3-5, 6-8, 9-11, 12-14, 15-17, 18-20, 21-23, 24-26, 27-29, 30-32, 33-35, 36-39|\n",
    "| node-caps | yes, no|\n",
    "| deg-malig | 1, 2, 3|\n",
    "| breast | left, right|\n",
    "| breast-quad | left-up, left-low, right-up, right-low, central|\n",
    "| irradiat | yes, no|\n",
    " \n",
    "There are 9 Missing Attribute Values (denoted by \"?\") \n"
   ]
  },
  {
   "cell_type": "markdown",
   "id": "415141bd",
   "metadata": {},
   "source": [
    "## Load the Dataset"
   ]
  },
  {
   "cell_type": "code",
   "execution_count": null,
   "id": "1a545279",
   "metadata": {},
   "outputs": [],
   "source": [
    "df = pd.read_csv(os.path.join('dataset', 'breast-cancer.csv'))"
   ]
  },
  {
   "cell_type": "code",
   "execution_count": null,
   "id": "46cdc1f8",
   "metadata": {},
   "outputs": [],
   "source": [
    "df"
   ]
  },
  {
   "cell_type": "code",
   "execution_count": null,
   "id": "7b750529",
   "metadata": {},
   "outputs": [],
   "source": [
    "df.info()"
   ]
  },
  {
   "cell_type": "markdown",
   "id": "4487ea4c",
   "metadata": {},
   "source": [
    "**Issue #1**: values are *quoted* using character \" **'** \""
   ]
  },
  {
   "cell_type": "code",
   "execution_count": null,
   "id": "3dd47957",
   "metadata": {},
   "outputs": [],
   "source": [
    "df = pd.read_csv(os.path.join('dataset', 'breast-cancer.csv'), quotechar = \"'\")"
   ]
  },
  {
   "cell_type": "code",
   "execution_count": null,
   "id": "9fe0b38f",
   "metadata": {},
   "outputs": [],
   "source": [
    "df"
   ]
  },
  {
   "cell_type": "code",
   "execution_count": null,
   "id": "f65093df",
   "metadata": {},
   "outputs": [],
   "source": [
    "df.head(3).T"
   ]
  },
  {
   "cell_type": "markdown",
   "id": "ad395b20",
   "metadata": {},
   "source": [
    "**Issue #2**: are we handling missing values as such?"
   ]
  },
  {
   "cell_type": "code",
   "execution_count": null,
   "id": "5d764dd4",
   "metadata": {
    "scrolled": true
   },
   "outputs": [],
   "source": [
    "df[\"node-caps\"].value_counts()"
   ]
  },
  {
   "cell_type": "code",
   "execution_count": null,
   "id": "d84ac224",
   "metadata": {},
   "outputs": [],
   "source": [
    "df = pd.read_csv(os.path.join('dataset',\n",
    "                              'breast-cancer.csv'), \n",
    "                 quotechar = \"'\", \n",
    "                 na_values = '?')\n"
   ]
  },
  {
   "cell_type": "code",
   "execution_count": null,
   "id": "7191b8f0",
   "metadata": {},
   "outputs": [],
   "source": [
    "df[\"node-caps\"].value_counts()"
   ]
  },
  {
   "cell_type": "code",
   "execution_count": null,
   "id": "7ee1181c",
   "metadata": {},
   "outputs": [],
   "source": [
    "df[\"node-caps\"].value_counts(dropna = False)"
   ]
  },
  {
   "cell_type": "markdown",
   "id": "98e92230",
   "metadata": {},
   "source": [
    "## Explore the dataset: Descriptive statistics\n"
   ]
  },
  {
   "cell_type": "code",
   "execution_count": null,
   "id": "925b86dc",
   "metadata": {
    "scrolled": true
   },
   "outputs": [],
   "source": [
    "df"
   ]
  },
  {
   "cell_type": "code",
   "execution_count": null,
   "id": "72544c3e",
   "metadata": {},
   "outputs": [],
   "source": [
    "df.head(10)"
   ]
  },
  {
   "cell_type": "code",
   "execution_count": null,
   "id": "7fad280a",
   "metadata": {},
   "outputs": [],
   "source": [
    "df.head(2).T"
   ]
  },
  {
   "cell_type": "code",
   "execution_count": null,
   "id": "9b8b5f5a",
   "metadata": {},
   "outputs": [],
   "source": [
    "df.shape"
   ]
  },
  {
   "cell_type": "markdown",
   "id": "acf66b40",
   "metadata": {},
   "source": [
    "Check if there is any missing value"
   ]
  },
  {
   "cell_type": "code",
   "execution_count": null,
   "id": "446b3f4a",
   "metadata": {},
   "outputs": [],
   "source": [
    "df.isna().sum()"
   ]
  },
  {
   "cell_type": "code",
   "execution_count": null,
   "id": "a927f239",
   "metadata": {},
   "outputs": [],
   "source": [
    "df[df.isna().any(axis=1)]"
   ]
  },
  {
   "cell_type": "code",
   "execution_count": null,
   "id": "cd662c3f",
   "metadata": {},
   "outputs": [],
   "source": [
    "df.age.unique()"
   ]
  },
  {
   "cell_type": "code",
   "execution_count": null,
   "id": "5f9d5353",
   "metadata": {},
   "outputs": [],
   "source": [
    "df.info()"
   ]
  },
  {
   "cell_type": "markdown",
   "id": "05bbc9ec",
   "metadata": {},
   "source": [
    "Most columns are recognized as generic \"object\" (text or mixed numeric and non-numeric values).\n",
    "Actually, we know from the documentation that we are dealing with categorical variables.\n",
    "\n",
    "`Pandas` has a **categorical** data type, which may be useful in the following cases:\n",
    "- A string variable consisting of only a few different values. Converting such a string variable to a categorical variable will save some memory.\n",
    "- The lexical order of a variable is not the same as the logical order (“one”, “two”, “three”). By converting to a categorical and specifying an order on the categories, sorting and min/max will use the logical order instead of the lexical order, see here.\n",
    "- As a signal to other Python libraries that this column should be treated as a categorical variable (e.g. to use suitable statistical methods or plot types).\n",
    "\n",
    "`Categoricals` are a pandas data type corresponding to categorical variables in statistics. A categorical variable takes on a limited, and usually fixed, number of possible values (categories). Examples are gender, social class, blood type, country affiliation, observation time or rating via Likert scales.\n",
    "\n",
    "In contrast to statistical categorical variables, categorical data might have an order (e.g. 'strongly agree' vs 'agree' or 'first observation' vs. 'second observation'), but numerical operations (additions, divisions, …) are not possible.\n",
    "\n"
   ]
  },
  {
   "cell_type": "code",
   "execution_count": null,
   "id": "559bdc63",
   "metadata": {},
   "outputs": [],
   "source": [
    "df.describe()"
   ]
  },
  {
   "cell_type": "markdown",
   "id": "bb13939d",
   "metadata": {},
   "source": [
    "By default, describe considers only numeric data"
   ]
  },
  {
   "cell_type": "code",
   "execution_count": null,
   "id": "9b48c3b1-e12e-498d-9066-265772002b25",
   "metadata": {},
   "outputs": [],
   "source": [
    "df.describe(include = 'object')"
   ]
  },
  {
   "cell_type": "code",
   "execution_count": null,
   "id": "cd3b5aee",
   "metadata": {},
   "outputs": [],
   "source": [
    "df.describe(include = 'all') # mixed data type: description still supported"
   ]
  },
  {
   "cell_type": "markdown",
   "id": "52b85dfb",
   "metadata": {},
   "source": [
    "We can cast our dataframe to categorical, as we know that this is the case."
   ]
  },
  {
   "cell_type": "code",
   "execution_count": null,
   "id": "8e2aabf0",
   "metadata": {
    "scrolled": true
   },
   "outputs": [],
   "source": [
    "df = df.astype('category')"
   ]
  },
  {
   "cell_type": "code",
   "execution_count": null,
   "id": "112e7406",
   "metadata": {},
   "outputs": [],
   "source": [
    "df.info()"
   ]
  },
  {
   "cell_type": "code",
   "execution_count": null,
   "id": "6a576128",
   "metadata": {},
   "outputs": [],
   "source": [
    "df.describe()"
   ]
  },
  {
   "cell_type": "code",
   "execution_count": null,
   "id": "84cea99e",
   "metadata": {},
   "outputs": [],
   "source": [
    "pd.set_option('display.max_rows', None)\n",
    "df.sort_values(by = 'inv-nodes').tail(80)"
   ]
  },
  {
   "cell_type": "markdown",
   "id": "2774182c",
   "metadata": {},
   "source": [
    "**Another issue**: we are not using the proper order as the lexical one is not the same as the logical one: for example (0-2 < 3-5 < 10-12) but (\"0-2\" < \"10-12\" < \"3-5\")"
   ]
  },
  {
   "cell_type": "code",
   "execution_count": null,
   "id": "a1a4d74d",
   "metadata": {},
   "outputs": [],
   "source": [
    "from pandas.api.types import CategoricalDtype \n",
    "# the following categories are available in the dataset description (\"attribute information\") at the beginning of this notebook\n",
    "categories = CategoricalDtype([\"0-2\", \n",
    "                               \"3-5\", \n",
    "                               \"6-8\", \n",
    "                               \"9-11\", \n",
    "                               \"12-14\", \n",
    "                               \"15-17\", \n",
    "                               \"18-20\", \n",
    "                               \"21-23\", \n",
    "                               \"24-26\", \n",
    "                               \"27-29\", \n",
    "                               \"30-32\", \n",
    "                               \"33-35\",\n",
    "                               \"36-39\"], \n",
    "                              ordered = True)\n",
    "# Inv-nodes: the number (range 0 - 39) of axillary lymph nodes\n",
    "# that contain metastatic breast cancer visible on histological examination.\n",
    "df['inv-nodes'] = df['inv-nodes'].astype(categories)\n"
   ]
  },
  {
   "cell_type": "code",
   "execution_count": null,
   "id": "d93bd724",
   "metadata": {},
   "outputs": [],
   "source": [
    "df.info()"
   ]
  },
  {
   "cell_type": "code",
   "execution_count": null,
   "id": "43ec97b2",
   "metadata": {},
   "outputs": [],
   "source": [
    "df.sort_values(by = 'inv-nodes').tail(80)"
   ]
  },
  {
   "cell_type": "markdown",
   "id": "02fd59ef",
   "metadata": {},
   "source": [
    "## Explore the dataset: Visualization"
   ]
  },
  {
   "cell_type": "markdown",
   "id": "ec2be126",
   "metadata": {},
   "source": [
    "*Barplot* and *pie-chart* in pandas (shown just for an attribute, but applies to all)"
   ]
  },
  {
   "cell_type": "code",
   "execution_count": null,
   "id": "bb5dd968",
   "metadata": {},
   "outputs": [],
   "source": [
    "value_count = df['breast-quad'].value_counts(dropna = False) \n",
    "value_count.plot(kind = 'bar')\n",
    "plt.title('breast-quad')\n",
    "plt.show()\n"
   ]
  },
  {
   "cell_type": "code",
   "execution_count": null,
   "id": "fc3042aa-8f0b-4ecf-87c2-d1eb31987452",
   "metadata": {},
   "outputs": [],
   "source": [
    "value_count.plot(kind = \"pie\")\n",
    "plt.show()"
   ]
  },
  {
   "cell_type": "markdown",
   "id": "074e651d",
   "metadata": {},
   "source": [
    "*Barplot* in seaborn."
   ]
  },
  {
   "cell_type": "markdown",
   "id": "20c86602",
   "metadata": {},
   "source": [
    "`seaborn` axes-level functions for [plotting categorical data](https://seaborn.pydata.org/tutorial/categorical.html):\n",
    "- categorical scatter plots\n",
    "    - `stripplot()`\n",
    "    - `swarmplot()`\n",
    "- distribution plots\n",
    "    - `boxplot()`\n",
    "    - `violinplot()`\n",
    "    - `boxenplot()`\n",
    "- estimate plots\n",
    "    - `pointplot()`\n",
    "    - `barplot()`\n",
    "    - `countplot()`"
   ]
  },
  {
   "cell_type": "code",
   "execution_count": null,
   "id": "4afeaa32-213b-4142-b22e-220538ab82bc",
   "metadata": {},
   "outputs": [],
   "source": [
    "sns.countplot(x = \"age\", \n",
    "              hue = \"age\", \n",
    "              data = df, \n",
    "              palette = \"pastel\",\n",
    "              legend = False)\n",
    "plt.show()"
   ]
  },
  {
   "cell_type": "code",
   "execution_count": null,
   "id": "e324f3c6",
   "metadata": {},
   "outputs": [],
   "source": [
    "sns.countplot(x = \"age\", \n",
    "              data = df, \n",
    "              hue = \"Class\", \n",
    "              palette = \"pastel\")\n",
    "plt.show()"
   ]
  },
  {
   "cell_type": "markdown",
   "id": "fb893734",
   "metadata": {},
   "source": [
    "`seaborn` also provides a figure-level interface, `catplot()`, that gives unified higher-level access to the axes-level functions."
   ]
  },
  {
   "cell_type": "code",
   "execution_count": null,
   "id": "e2e8e596",
   "metadata": {},
   "outputs": [],
   "source": [
    "sns.catplot(x = \"age\",\n",
    "            # x = 'age' --> vertical\n",
    "            hue = \"Class\",\n",
    "            kind = \"count\",\n",
    "            palette = \"pastel\", \n",
    "            edgecolor = \".5\",\n",
    "            data = df)"
   ]
  },
  {
   "cell_type": "code",
   "execution_count": null,
   "id": "b7d006e7",
   "metadata": {},
   "outputs": [],
   "source": [
    "sns.catplot(y = \"node-caps\", \n",
    "            # y = 'node-caps' --> horizontal\n",
    "            hue = \"Class\", \n",
    "            kind = \"count\",\n",
    "            palette = \"pastel\",\n",
    "            edgecolor = \".5\",\n",
    "            data = df)"
   ]
  },
  {
   "cell_type": "code",
   "execution_count": null,
   "id": "7f13244a",
   "metadata": {},
   "outputs": [],
   "source": [
    "sns.catplot(y = \"inv-nodes\",\n",
    "            hue = \"Class\",\n",
    "            kind = \"count\",\n",
    "            palette = \"pastel\",\n",
    "            edgecolor = \".5\",\n",
    "            data = df)"
   ]
  },
  {
   "cell_type": "markdown",
   "id": "f8a16aa9",
   "metadata": {},
   "source": [
    "Notice the effect of customizing the order and domain of the categorical variable.\n",
    "- restore the original dataset\n",
    "- plot with the same catplot statement"
   ]
  },
  {
   "cell_type": "code",
   "execution_count": null,
   "id": "18f9d5e4",
   "metadata": {},
   "outputs": [],
   "source": [
    "df = pd.read_csv(os.path.join('dataset', 'breast-cancer.csv'), \n",
    "                 quotechar = \"'\", \n",
    "                 na_values = '?')"
   ]
  },
  {
   "cell_type": "code",
   "execution_count": null,
   "id": "2b548712-1089-46fe-9d35-4ab57eda31f8",
   "metadata": {},
   "outputs": [],
   "source": [
    "sns.catplot(y = \"inv-nodes\",\n",
    "            hue = \"Class\",\n",
    "            kind = \"count\",\n",
    "            palette = \"pastel\",\n",
    "            edgecolor = \".5\",\n",
    "            data = df)"
   ]
  },
  {
   "cell_type": "markdown",
   "id": "7c29f64a-5d20-492d-8cbd-c3669034f0fa",
   "metadata": {},
   "source": [
    "## Aside: Anscombe Quartet"
   ]
  },
  {
   "cell_type": "code",
   "execution_count": null,
   "id": "2d4c3e10-0279-4a9c-9313-562ffda7dc9d",
   "metadata": {
    "scrolled": true
   },
   "outputs": [],
   "source": [
    "# source: https://matplotlib.org/stable/gallery/specialty_plots/anscombe.html\n",
    "import matplotlib.pyplot as plt\n",
    "import numpy as np\n",
    "\n",
    "x = [10, 8, 13, 9, 11, 14, 6, 4, 12, 7, 5]\n",
    "y1 = [8.04, 6.95, 7.58, 8.81, 8.33, 9.96, 7.24, 4.26, 10.84, 4.82, 5.68]\n",
    "y2 = [9.14, 8.14, 8.74, 8.77, 9.26, 8.10, 6.13, 3.10, 9.13, 7.26, 4.74]\n",
    "y3 = [7.46, 6.77, 12.74, 7.11, 7.81, 8.84, 6.08, 5.39, 8.15, 6.42, 5.73]\n",
    "x4 = [8, 8, 8, 8, 8, 8, 8, 19, 8, 8, 8]\n",
    "y4 = [6.58, 5.76, 7.71, 8.84, 8.47, 7.04, 5.25, 12.50, 5.56, 7.91, 6.89]\n",
    "\n",
    "datasets = {\n",
    "    'I': (x, y1),\n",
    "    'II': (x, y2),\n",
    "    'III': (x, y3),\n",
    "    'IV': (x4, y4)\n",
    "}"
   ]
  },
  {
   "cell_type": "code",
   "execution_count": null,
   "id": "209dd311-6166-41ad-b5b6-df72f7a4fd94",
   "metadata": {},
   "outputs": [],
   "source": [
    "fig, axs = plt.subplots(2, 2, \n",
    "                        sharex = True,\n",
    "                        sharey = True, \n",
    "                        figsize = (6, 6),\n",
    "                        gridspec_kw = {'wspace': 0.08, 'hspace': 0.08})\n",
    "axs[0, 0].set(xlim = (0, 20), ylim = (2, 14))\n",
    "axs[0, 0].set(xticks = (0, 10, 20), yticks = (4, 8, 12))\n",
    "\n",
    "for ax, (label, (x, y)) in zip(axs.flat, datasets.items()):\n",
    "    ax.grid()\n",
    "    ax.text(0.1, 0.9, label, fontsize = 20, transform = ax.transAxes, va = 'top')\n",
    "    ax.tick_params(direction = 'in', top = True, right = True)\n",
    "    ax.plot(x, y, 'o')\n",
    "\n",
    "plt.show()"
   ]
  },
  {
   "cell_type": "markdown",
   "id": "9e1e4a53-6089-445e-ad17-95b518a39809",
   "metadata": {},
   "source": [
    "What’s special in these scatter plots?"
   ]
  },
  {
   "cell_type": "code",
   "execution_count": null,
   "id": "1b2bdc5b-e19b-4e44-95e9-4938fdc0a644",
   "metadata": {
    "scrolled": true
   },
   "outputs": [],
   "source": [
    "fig, axs = plt.subplots(2, 2, \n",
    "                        sharex = True,\n",
    "                        sharey = True, \n",
    "                        figsize = (6, 6),\n",
    "                        gridspec_kw = {'wspace': 0.08, 'hspace': 0.08})\n",
    "axs[0, 0].set(xlim = (0, 20), ylim = (2, 14))\n",
    "axs[0, 0].set(xticks = (0, 10, 20), yticks = (4, 8, 12))\n",
    "\n",
    "for ax, (label, (x, y)) in zip(axs.flat, datasets.items()):\n",
    "    ax.grid()\n",
    "    ax.text(0.1, 0.9, label, fontsize = 20, transform = ax.transAxes, va = 'top')\n",
    "    ax.tick_params(direction = 'in', top = True, right = True)\n",
    "    ax.plot(x, y, 'o')\n",
    "\n",
    "###################### NEW PART ######################\n",
    "    # linear regression\n",
    "    p1, p0 = np.polyfit(x, y, deg = 1)  # slope, intercept\n",
    "    ax.axline(xy1 = (0, p0), slope = p1, color = 'r', lw = 2)\n",
    "\n",
    "    # add text box for the statistics\n",
    "    stats = (f'$\\\\mu$ = {np.mean(y):.2f}\\n'\n",
    "             f'$\\\\sigma$ = {np.std(y):.2f}\\n'\n",
    "             f'$r$ = {np.corrcoef(x, y)[0][1]:.2f}')\n",
    "    bbox = dict(boxstyle = 'round', fc = 'blanchedalmond', ec = 'orange', alpha = 0.5)\n",
    "    ax.text(0.95, 0.07, stats, fontsize = 9, bbox = bbox,\n",
    "            transform = ax.transAxes, horizontalalignment = 'right')\n",
    "###################### NEW PART ######################\n",
    "\n",
    "plt.show()"
   ]
  },
  {
   "cell_type": "markdown",
   "id": "d239d25a-f9f6-41e7-b99e-75bc7ff5aa6e",
   "metadata": {},
   "source": [
    "What’s special in these scatter plots?\n",
    "- four data sets, each with eleven points\n",
    "- nearly identical simple descriptive statistics\n",
    "- very different when graphed"
   ]
  },
  {
   "cell_type": "markdown",
   "id": "6314df76-94bf-4373-94b2-446738f1a365",
   "metadata": {},
   "source": [
    "**Lessons learned:**\n",
    "- importance of graphing data\n",
    "- effect of outliers on statistical properties\n",
    "- statistic properties are important but may be not sufficient"
   ]
  }
 ],
 "metadata": {
  "kernelspec": {
   "display_name": "Python 3 (ipykernel)",
   "language": "python",
   "name": "python3"
  },
  "language_info": {
   "codemirror_mode": {
    "name": "ipython",
    "version": 3
   },
   "file_extension": ".py",
   "mimetype": "text/x-python",
   "name": "python",
   "nbconvert_exporter": "python",
   "pygments_lexer": "ipython3",
   "version": "3.11.9"
  }
 },
 "nbformat": 4,
 "nbformat_minor": 5
}

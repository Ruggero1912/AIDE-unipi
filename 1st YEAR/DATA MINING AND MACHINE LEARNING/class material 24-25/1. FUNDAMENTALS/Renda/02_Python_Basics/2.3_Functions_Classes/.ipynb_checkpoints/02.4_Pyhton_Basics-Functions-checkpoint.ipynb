{
 "cells": [
  {
   "cell_type": "markdown",
   "metadata": {},
   "source": [
    "# Table of Contents:\n",
    "- [Functions: reusable portions of programs](#Functions:-reusable-portions-of-programs)\n",
    "    - [Definition](#Definition)\n",
    "    - [Namespaces](#Namespaces)\n",
    "    - [Lambda functions](#Lambda-functions)\n",
    "    - [Generator functions](#Generator-functions)\n"
   ]
  },
  {
   "cell_type": "markdown",
   "metadata": {
    "id": "T9Wugj4sPY0-"
   },
   "source": [
    "# Functions: reusable portions of programs\n"
   ]
  },
  {
   "cell_type": "markdown",
   "metadata": {},
   "source": [
    "* Functions are one of the main ways of transforming data (in many programming languages)\n",
    "* We've been using functions (and their cousin, methods) since day 1"
   ]
  },
  {
   "cell_type": "code",
   "execution_count": 1,
   "metadata": {},
   "outputs": [
    {
     "data": {
      "text/plain": [
       "5"
      ]
     },
     "execution_count": 1,
     "metadata": {},
     "output_type": "execute_result"
    }
   ],
   "source": [
    "abs(-5)"
   ]
  },
  {
   "cell_type": "code",
   "execution_count": 3,
   "metadata": {},
   "outputs": [
    {
     "name": "stdout",
     "output_type": "stream",
     "text": [
      "Hello, world!\n"
     ]
    }
   ],
   "source": [
    "print(\"Hello, world!\")"
   ]
  },
  {
   "cell_type": "code",
   "execution_count": 4,
   "metadata": {},
   "outputs": [
    {
     "data": {
      "text/plain": [
       "[1, 2, 3]"
      ]
     },
     "execution_count": 4,
     "metadata": {},
     "output_type": "execute_result"
    }
   ],
   "source": [
    "sorted([3, 2, 1])"
   ]
  },
  {
   "cell_type": "markdown",
   "metadata": {},
   "source": [
    "These, however, are built-in functions. What if we want to write our own functions?"
   ]
  },
  {
   "cell_type": "markdown",
   "metadata": {
    "id": "oEcBMLFqQxoM"
   },
   "source": [
    "## Definition\n",
    "- **def**  keyword followed by the **function name**, the function **parameteres** in brackets and separated by a comma, and a colon `:`.\n",
    "- a block of indented statements that implements the function **body**\n",
    "- possibly, an indented **return statement**\n",
    "\n",
    "The function syntax is:\n",
    "\n",
    "\n",
    "```python\n",
    "def function_name(arguments):\n",
    "    function body\n",
    "    return value\n",
    "```\n",
    "\n",
    "\n",
    "\n"
   ]
  },
  {
   "cell_type": "code",
   "execution_count": 5,
   "metadata": {},
   "outputs": [],
   "source": [
    "def printtimes(word,times):\n",
    "    for x in range(times):\n",
    "        print(word) # function body"
   ]
  },
  {
   "cell_type": "code",
   "execution_count": 6,
   "metadata": {},
   "outputs": [
    {
     "name": "stdout",
     "output_type": "stream",
     "text": [
      "ciao\n",
      "ciao\n",
      "ciao\n"
     ]
    }
   ],
   "source": [
    "printtimes('ciao',3)"
   ]
  },
  {
   "cell_type": "code",
   "execution_count": 7,
   "metadata": {},
   "outputs": [
    {
     "name": "stdout",
     "output_type": "stream",
     "text": [
      "hello\n",
      "hello\n",
      "hello\n",
      "hello\n",
      "hello\n",
      "hello\n",
      "hello\n",
      "hello\n",
      "hello\n",
      "hello\n"
     ]
    }
   ],
   "source": [
    "printtimes('hello',10)"
   ]
  },
  {
   "cell_type": "code",
   "execution_count": 87,
   "metadata": {},
   "outputs": [
    {
     "name": "stdout",
     "output_type": "stream",
     "text": [
      "Help on function printtimes in module __main__:\n",
      "\n",
      "printtimes(word, times)\n",
      "\n"
     ]
    }
   ],
   "source": [
    "help(printtimes)"
   ]
  },
  {
   "cell_type": "markdown",
   "metadata": {},
   "source": [
    "Optionally, but highly recommended, we can define a so called **\"docstring\"**, which is a description of the functions purpose and behaivor. The docstring should follow directly after the function definition, before the code in the function body."
   ]
  },
  {
   "cell_type": "code",
   "execution_count": 10,
   "metadata": {
    "colab": {
     "base_uri": "https://localhost:8080/"
    },
    "id": "zxNeWsDSU9MX",
    "outputId": "1fa5d509-42ab-4be3-f60b-6a5eacfc826c"
   },
   "outputs": [
    {
     "name": "stdout",
     "output_type": "stream",
     "text": [
      "ciao\n",
      "ciao\n",
      "ciao\n"
     ]
    }
   ],
   "source": [
    "def printtimes(word,times):\n",
    "    '''A function to print a word several times\n",
    "  \n",
    "    Args:\n",
    "        word: the word\n",
    "        times: how many repetitions'''\n",
    "  \n",
    "    for x in range(times):\n",
    "        print(word) # function body\n",
    "\n",
    "printtimes('ciao',3)\n"
   ]
  },
  {
   "cell_type": "code",
   "execution_count": 9,
   "metadata": {
    "colab": {
     "base_uri": "https://localhost:8080/"
    },
    "id": "_XQUyOoR7jsC",
    "outputId": "4c6d0701-9dc4-4f4c-a355-1a0bfb7638f4"
   },
   "outputs": [
    {
     "name": "stdout",
     "output_type": "stream",
     "text": [
      "Help on function printtimes in module __main__:\n",
      "\n",
      "printtimes(word, times)\n",
      "\n"
     ]
    }
   ],
   "source": [
    "# python docstring\n",
    "help(printtimes)"
   ]
  },
  {
   "cell_type": "code",
   "execution_count": 11,
   "metadata": {},
   "outputs": [],
   "source": [
    "printtimes?"
   ]
  },
  {
   "cell_type": "markdown",
   "metadata": {},
   "source": [
    "Python will complain if the number of arguments is wrong"
   ]
  },
  {
   "cell_type": "code",
   "execution_count": 14,
   "metadata": {},
   "outputs": [
    {
     "ename": "TypeError",
     "evalue": "printtimes() missing 1 required positional argument: 'times'",
     "output_type": "error",
     "traceback": [
      "\u001b[0;31m---------------------------------------------------------------------------\u001b[0m",
      "\u001b[0;31mTypeError\u001b[0m                                 Traceback (most recent call last)",
      "Cell \u001b[0;32mIn[14], line 1\u001b[0m\n\u001b[0;32m----> 1\u001b[0m \u001b[43mprinttimes\u001b[49m\u001b[43m(\u001b[49m\u001b[38;5;124;43m'\u001b[39;49m\u001b[38;5;124;43mhello\u001b[39;49m\u001b[38;5;124;43m'\u001b[39;49m\u001b[43m)\u001b[49m\n",
      "\u001b[0;31mTypeError\u001b[0m: printtimes() missing 1 required positional argument: 'times'"
     ]
    }
   ],
   "source": [
    "printtimes('hello')"
   ]
  },
  {
   "cell_type": "markdown",
   "metadata": {},
   "source": [
    "**Parameters** are defined by the names that appear in a function definition, whereas **arguments** are the values actually passed to a function when calling it. Parameters define what kind of arguments a function can accept. \n",
    "\n",
    "```python\n",
    "def func(foo, bar=None):\n",
    "    pass\n",
    "```\n",
    "`foo` and `bar` are **parameters** of `func`.\n",
    "\n",
    "\n",
    "```python\n",
    "func(42, bar=314, extra=somevar)\n",
    "```\n",
    "the values 42 and 314 are **arguments**."
   ]
  },
  {
   "cell_type": "markdown",
   "metadata": {
    "id": "9qtIY5tSVhai"
   },
   "source": [
    "### Default values"
   ]
  },
  {
   "cell_type": "code",
   "execution_count": 17,
   "metadata": {
    "colab": {
     "base_uri": "https://localhost:8080/"
    },
    "id": "99_NAODYVaCu",
    "outputId": "d58d315e-90c4-42a4-9cfe-d5e2b20b6dfd"
   },
   "outputs": [
    {
     "name": "stdout",
     "output_type": "stream",
     "text": [
      "ciao\n",
      "ciao\n",
      "ciao\n",
      "ciao\n"
     ]
    }
   ],
   "source": [
    "def anotherprinttimes(word,times=4):\n",
    "    for x in range(times):\n",
    "        print(word) # function body\n",
    "        \n",
    "anotherprinttimes('ciao')"
   ]
  },
  {
   "cell_type": "markdown",
   "metadata": {},
   "source": [
    "Default arguments **must follow** positional arguments in function definition"
   ]
  },
  {
   "cell_type": "code",
   "execution_count": 20,
   "metadata": {},
   "outputs": [
    {
     "ename": "SyntaxError",
     "evalue": "non-default argument follows default argument (2229094957.py, line 1)",
     "output_type": "error",
     "traceback": [
      "\u001b[0;36m  Cell \u001b[0;32mIn[20], line 1\u001b[0;36m\u001b[0m\n\u001b[0;31m    def anotherprinttimes(word=\"ciao\", times):\u001b[0m\n\u001b[0m                                       ^\u001b[0m\n\u001b[0;31mSyntaxError\u001b[0m\u001b[0;31m:\u001b[0m non-default argument follows default argument\n"
     ]
    }
   ],
   "source": [
    "def anotherprinttimes(word=\"ciao\", times):\n",
    "    for x in range(times):\n",
    "        print(word) # function body"
   ]
  },
  {
   "cell_type": "markdown",
   "metadata": {},
   "source": [
    "If we explicitly list the name of the arguments in the function calls, they do not need to come in the same order as in the function definition. This is called **keyword arguments**, and is often very useful in functions that takes a lot of optional arguments."
   ]
  },
  {
   "cell_type": "code",
   "execution_count": 21,
   "metadata": {},
   "outputs": [
    {
     "name": "stdout",
     "output_type": "stream",
     "text": [
      "ciao\n",
      "ciao\n",
      "ciao\n"
     ]
    }
   ],
   "source": [
    "# no need to follow argument order with explicit definition\n",
    "anotherprinttimes(times = 3, word = 'ciao')"
   ]
  },
  {
   "cell_type": "markdown",
   "metadata": {
    "id": "KFa-9kJyVlu7"
   },
   "source": [
    "### Returned Values"
   ]
  },
  {
   "cell_type": "code",
   "execution_count": 93,
   "metadata": {
    "colab": {
     "base_uri": "https://localhost:8080/"
    },
    "id": "z_wBezcWVuYP",
    "outputId": "8aefd187-f34e-4f83-9f16-3f05373870bd"
   },
   "outputs": [
    {
     "data": {
      "text/plain": [
       "4"
      ]
     },
     "execution_count": 93,
     "metadata": {},
     "output_type": "execute_result"
    }
   ],
   "source": [
    "def my_max(x,y):\n",
    "    if x>y:\n",
    "        return x\n",
    "    return y\n",
    "\n",
    "my_max(3,4)"
   ]
  },
  {
   "cell_type": "markdown",
   "metadata": {},
   "source": [
    "- Strictly speaking, a function can only return one value\n",
    "- If the value is a tuple, the effect is the same as returning multiple values. "
   ]
  },
  {
   "cell_type": "code",
   "execution_count": 22,
   "metadata": {},
   "outputs": [],
   "source": [
    "def powers(x):\n",
    "    \"\"\"\n",
    "    Return a few powers of x.\n",
    "    \"\"\"\n",
    "    return x ** 2, x ** 3, x ** 4"
   ]
  },
  {
   "cell_type": "code",
   "execution_count": 26,
   "metadata": {},
   "outputs": [
    {
     "name": "stdout",
     "output_type": "stream",
     "text": [
      "(9, 27, 81)\n"
     ]
    }
   ],
   "source": [
    "tup = powers(3)\n",
    "print(tup)"
   ]
  },
  {
   "cell_type": "code",
   "execution_count": 28,
   "metadata": {},
   "outputs": [
    {
     "name": "stdout",
     "output_type": "stream",
     "text": [
      "9 || 27 || 81\n"
     ]
    }
   ],
   "source": [
    "x2, x3, x4 = powers(3)\n",
    "print(x2, '||', x3, '||', x4)"
   ]
  },
  {
   "cell_type": "markdown",
   "metadata": {},
   "source": [
    "## Namespaces\n",
    "\n",
    "- Namespace: entity that collects names, which refer to objects\n",
    "- Variables **defined** in the body of a function are separate from those outside the function\n",
    "  * Recall that `X = 5` _defines_ the variable `X` as having the value 5\n",
    "- They exist in a separate \"namespace\" belonging to the function\n",
    "- This is different from other code blocks, e.g. the `for` loop"
   ]
  },
  {
   "cell_type": "code",
   "execution_count": 30,
   "metadata": {},
   "outputs": [],
   "source": [
    "def add(a, b):\n",
    "    special_answer = a + b\n",
    "    return special_answer"
   ]
  },
  {
   "cell_type": "code",
   "execution_count": 31,
   "metadata": {
    "scrolled": true
   },
   "outputs": [
    {
     "data": {
      "text/plain": [
       "3"
      ]
     },
     "execution_count": 31,
     "metadata": {},
     "output_type": "execute_result"
    }
   ],
   "source": [
    "add(1, 2)"
   ]
  },
  {
   "cell_type": "code",
   "execution_count": 33,
   "metadata": {
    "scrolled": true
   },
   "outputs": [
    {
     "ename": "NameError",
     "evalue": "name 'special_answer' is not defined",
     "output_type": "error",
     "traceback": [
      "\u001b[0;31m---------------------------------------------------------------------------\u001b[0m",
      "\u001b[0;31mNameError\u001b[0m                                 Traceback (most recent call last)",
      "Cell \u001b[0;32mIn[33], line 1\u001b[0m\n\u001b[0;32m----> 1\u001b[0m \u001b[38;5;28mprint\u001b[39m(\u001b[43mspecial_answer\u001b[49m)\n",
      "\u001b[0;31mNameError\u001b[0m: name 'special_answer' is not defined"
     ]
    }
   ],
   "source": [
    "print(special_answer)"
   ]
  },
  {
   "cell_type": "code",
   "execution_count": 35,
   "metadata": {},
   "outputs": [
    {
     "name": "stdout",
     "output_type": "stream",
     "text": [
      "returned value: 10\n",
      "\"answer\" value: 5\n"
     ]
    }
   ],
   "source": [
    "answer = 5\n",
    "def add(a, b):\n",
    "    answer = a + b\n",
    "    return answer\n",
    "\n",
    "print('returned value:', add(4,6))\n",
    "print('\"answer\" value:', answer)"
   ]
  },
  {
   "cell_type": "code",
   "execution_count": 34,
   "metadata": {},
   "outputs": [
    {
     "name": "stdout",
     "output_type": "stream",
     "text": [
      "90\n"
     ]
    }
   ],
   "source": [
    "for x in range(10):\n",
    "    for_special_answer = x*10\n",
    "print(for_special_answer)"
   ]
  },
  {
   "cell_type": "markdown",
   "metadata": {},
   "source": [
    "- Functions can access variables defined in the main body of our code, e.g. constants\n"
   ]
  },
  {
   "cell_type": "code",
   "execution_count": 37,
   "metadata": {},
   "outputs": [],
   "source": [
    "pi = 3.1416\n",
    "def circumference(r):\n",
    "    answer = 2 * pi * r\n",
    "    return answer"
   ]
  },
  {
   "cell_type": "code",
   "execution_count": 38,
   "metadata": {},
   "outputs": [
    {
     "data": {
      "text/plain": [
       "31.416"
      ]
     },
     "execution_count": 38,
     "metadata": {},
     "output_type": "execute_result"
    }
   ],
   "source": [
    "circumference(5)"
   ]
  },
  {
   "cell_type": "markdown",
   "metadata": {},
   "source": [
    "## Lambda functions"
   ]
  },
  {
   "cell_type": "markdown",
   "metadata": {},
   "source": [
    "In Python we can also create **unnamed functions**, using the lambda keyword:"
   ]
  },
  {
   "cell_type": "code",
   "execution_count": 96,
   "metadata": {},
   "outputs": [],
   "source": [
    "f1 = lambda x: x**2\n",
    "    \n",
    "# is equivalent to \n",
    "\n",
    "def f2(x):\n",
    "    return x**2"
   ]
  },
  {
   "cell_type": "code",
   "execution_count": 97,
   "metadata": {},
   "outputs": [
    {
     "data": {
      "text/plain": [
       "(4, 4)"
      ]
     },
     "execution_count": 97,
     "metadata": {},
     "output_type": "execute_result"
    }
   ],
   "source": [
    "f1(2), f2(2)"
   ]
  },
  {
   "cell_type": "markdown",
   "metadata": {},
   "source": [
    "This technique is useful for example when we want to pass a simple function as an argument to another function, like this:"
   ]
  },
  {
   "cell_type": "code",
   "execution_count": 98,
   "metadata": {},
   "outputs": [],
   "source": [
    "map?"
   ]
  },
  {
   "cell_type": "code",
   "execution_count": 99,
   "metadata": {},
   "outputs": [
    {
     "data": {
      "text/plain": [
       "[9, 4, 1, 0, 1, 4, 9]"
      ]
     },
     "execution_count": 99,
     "metadata": {},
     "output_type": "execute_result"
    }
   ],
   "source": [
    "# map is a built-in python function\n",
    "list(map(lambda x: x**2, range(-3,4)))"
   ]
  },
  {
   "cell_type": "code",
   "execution_count": 100,
   "metadata": {},
   "outputs": [
    {
     "data": {
      "text/plain": [
       "[9, 4, 1, 0, 1, 4, 9]"
      ]
     },
     "execution_count": 100,
     "metadata": {},
     "output_type": "execute_result"
    }
   ],
   "source": [
    "list(map(f2, range(-3,4)))"
   ]
  },
  {
   "cell_type": "code",
   "execution_count": 101,
   "metadata": {},
   "outputs": [],
   "source": [
    "list.sort?"
   ]
  },
  {
   "cell_type": "code",
   "execution_count": 102,
   "metadata": {},
   "outputs": [
    {
     "name": "stdout",
     "output_type": "stream",
     "text": [
      "[(1, 'z'), (2, 'y'), (3, 'x'), (3, 'w')]\n",
      "[(3, 'w'), (3, 'x'), (2, 'y'), (1, 'z')]\n"
     ]
    }
   ],
   "source": [
    "a = [(2,'y'), (1,'z'), (3,'x'), (3,'w')]\n",
    "\n",
    "a.sort(key = lambda pair: pair[0])\n",
    "print(a)\n",
    "\n",
    "a.sort(key = lambda pair: pair[1])\n",
    "print(a)"
   ]
  },
  {
   "cell_type": "markdown",
   "metadata": {},
   "source": [
    "## Generator functions"
   ]
  },
  {
   "cell_type": "markdown",
   "metadata": {},
   "source": [
    "Usually, we use a **generator function** or **generator expression** when we want to create a **custom iterator**. A generator function is a function which returns a generator iterator. It looks like a normal function except that it contains `yield` expressions for producing a series of values usable in a `for` loop or that can be retrieved one at a time with the `next()` function."
   ]
  },
  {
   "cell_type": "code",
   "execution_count": 103,
   "metadata": {},
   "outputs": [
    {
     "name": "stdout",
     "output_type": "stream",
     "text": [
      "<class 'generator'>\n",
      "10\n",
      "11\n",
      "12\n"
     ]
    }
   ],
   "source": [
    "def generate_numbers(min_value, max_value):\n",
    "    while min_value < max_value:\n",
    "        yield min_value\n",
    "        min_value += 1\n",
    "\n",
    "numbers = generate_numbers(10, 20)\n",
    "print(type(numbers))\n",
    "\n",
    "print(next(numbers))\n",
    "print(next(numbers))\n",
    "print(next(numbers))"
   ]
  },
  {
   "cell_type": "markdown",
   "metadata": {},
   "source": [
    "Each `yield` temporarily suspends processing, remembering the location execution state (including local variables and pending try-statements). When the generator iterator resumes, it picks up where it left off (in contrast to functions which start fresh on every invocation)."
   ]
  },
  {
   "cell_type": "markdown",
   "metadata": {},
   "source": [
    "## Aside: Data passed by *assignment*\n",
    "Read the [docs](https://docs.python.org/3/faq/programming.html#how-do-i-write-a-function-with-output-parameters-call-by-reference)\n",
    "\n"
   ]
  },
  {
   "cell_type": "markdown",
   "metadata": {},
   "source": [
    "- If a **mutable object** is passed to a function, the function gets a reference to the same object. As a consequence, the original object may be mutated (may result in unexpected behaviour, if not properly documented).\n",
    "- If you pass an immutable object to a function, of course, you can't mutate the object."
   ]
  },
  {
   "cell_type": "markdown",
   "metadata": {},
   "source": [
    "### Mutable objects"
   ]
  },
  {
   "cell_type": "code",
   "execution_count": 34,
   "metadata": {},
   "outputs": [],
   "source": [
    "def func_mutating(the_list):\n",
    "    print('inside \"func\" - input:', the_list)\n",
    "    the_list.append(4) # lists are mutable, and \"append\" operates in-place\n",
    "    print('inside \"func\" - after \"append\":', the_list)"
   ]
  },
  {
   "cell_type": "code",
   "execution_count": 35,
   "metadata": {},
   "outputs": [
    {
     "name": "stdout",
     "output_type": "stream",
     "text": [
      "before, my_list = [1, 2, 3]\n",
      "inside \"func\" - input: [1, 2, 3]\n",
      "inside \"func\" - after \"append\": [1, 2, 3, 4]\n",
      "after, my_list = [1, 2, 3, 4]\n"
     ]
    }
   ],
   "source": [
    "my_list = [1, 2, 3]\n",
    "\n",
    "print('before, my_list =', my_list)\n",
    "func_mutating(my_list)\n",
    "print('after, my_list =', my_list)"
   ]
  },
  {
   "cell_type": "markdown",
   "metadata": {},
   "source": [
    "We are passing the reference to `my_list`, not a copy of it. Indeed we can mutate the original list and have the changes reflected in the outer scope."
   ]
  },
  {
   "cell_type": "markdown",
   "metadata": {},
   "source": [
    "### Immutable objects"
   ]
  },
  {
   "cell_type": "code",
   "execution_count": 36,
   "metadata": {},
   "outputs": [],
   "source": [
    "def func_immutable(the_string):\n",
    "    print('inside \"func\" - input:', the_string)\n",
    "    the_string = 'xyz'\n",
    "    print('inside \"func\" - after referencing:', the_string)"
   ]
  },
  {
   "cell_type": "code",
   "execution_count": 37,
   "metadata": {},
   "outputs": [
    {
     "name": "stdout",
     "output_type": "stream",
     "text": [
      "before, my_string = abc\n",
      "inside \"func\" - input: abc\n",
      "inside \"func\" - after referencing: xyz\n",
      "after, my_string = abc\n"
     ]
    }
   ],
   "source": [
    "my_string = 'abc'\n",
    "\n",
    "print('before, my_string =', my_string)\n",
    "func_immutable(my_string)\n",
    "print('after, my_string =', my_string)"
   ]
  }
 ],
 "metadata": {
  "colab": {
   "collapsed_sections": [],
   "name": "02_Python_Basic.ipynb",
   "provenance": [],
   "toc_visible": true
  },
  "kernelspec": {
   "display_name": "Python 3 (ipykernel)",
   "language": "python",
   "name": "python3"
  },
  "language_info": {
   "codemirror_mode": {
    "name": "ipython",
    "version": 3
   },
   "file_extension": ".py",
   "mimetype": "text/x-python",
   "name": "python",
   "nbconvert_exporter": "python",
   "pygments_lexer": "ipython3",
   "version": "3.10.8"
  }
 },
 "nbformat": 4,
 "nbformat_minor": 1
}

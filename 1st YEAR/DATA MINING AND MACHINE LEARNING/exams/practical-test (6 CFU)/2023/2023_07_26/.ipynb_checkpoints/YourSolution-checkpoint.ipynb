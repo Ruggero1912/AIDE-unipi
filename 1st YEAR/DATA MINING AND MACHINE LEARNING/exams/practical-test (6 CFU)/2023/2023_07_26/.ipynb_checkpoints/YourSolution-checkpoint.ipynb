{
 "cells": [
  {
   "cell_type": "markdown",
   "id": "bba3e9a8",
   "metadata": {},
   "source": [
    "# DMML exam: 2023-07-26"
   ]
  },
  {
   "cell_type": "markdown",
   "id": "7c8fb6a0",
   "metadata": {},
   "source": [
    "The **objective of the exercise is to predict whether or not a patient has Diabetes (attribute \"Outcome\")**, based on certain information and measurements included in the dataset.\n"
   ]
  },
  {
   "cell_type": "markdown",
   "id": "ac4e3615",
   "metadata": {},
   "source": [
    "- Pregnancies: number of pregnancies the patient has had;\n",
    "- Sex: (M) Male or (F) Female;\n",
    "- Glucose: blood glucose level;\n",
    "- BloodPressure: blood pressure;\n",
    "- SkinThickness: skin thickness;\n",
    "- Insulin: insulin level;\n",
    "- BMI: body mass index;\n",
    "- DiabetesPedigreeFunction: genetic predisposition to diabetes;\n",
    "- Age: age;\n",
    "- Outcome: \n",
    "    - 0: the patient does not have diabetes\n",
    "    - 1: the patient does have diabetes\n",
    "- CalorieIntake: daily caloric intake;\n",
    "- Exercise: whether and when exercise is performed:\n",
    "    - “No” indicates that the patient does not engage in any kind of exercise;\n",
    "    - “Evening” indicates that the patient does exercise mainly in the evening;\n",
    "    - “Morning” indicates that the patient does exercise mainly in the morning;\n",
    "    - “Both” indicates that the patient does exercise both morning and evening;\n",
    "- SleepDuration: hours of sleep per day."
   ]
  },
  {
   "cell_type": "markdown",
   "id": "96c5c6f8",
   "metadata": {},
   "source": [
    "# Instructions summary\n",
    "1. Import the *diabetes.csv* dataset\n",
    "2. Perform an **exploratory analysis**:\n",
    "    - Report and discuss the results of the analysis   \n",
    "3. Perform the required data preprocessing steps:\n",
    "    - Obtain a numeric representation of the categorical variables\n",
    "4. Carry out a **classification analysis** aimed at predicting the **Outcome** value considering the following setting:\n",
    "    - Apply a 10-fold cross-validation procedure on the dataset to identify the most suitable classifier among the following:\n",
    "        - DecisionTree classifier (setting the maximum depth equal to 3)\n",
    "        - KNearestNeighbor classifier (default params)\n",
    "        - RandomForest classifier (default parameters) after rebalancing with RandomOverSampler \n",
    "    - Report and discuss the results, motivating the choice of the most suitable model\n",
    "\n",
    "# Exam Delivery\n",
    "- Save the current file \n",
    "- Click \"**Restart & Run All**\" and check consistency (no error, expected results)\n",
    "- Export using\n",
    "     - \"**File**\" --> \"**Download as**\" --> \"**HTML (.html)**\"\n",
    "- Rename the files as follows and upload in MS Teams Assignment\n",
    "     - HTML: *Surname_Name_StudentNumber.html*\n",
    "     - IPYNB: *Surname_Name_StudentNumber.ipynb* \n",
    "     \n",
    "# Code of conduct\n",
    "- You can consult the course material (notebooks and slides)\n",
    "- You can consult the official documentation of the libraries\n",
    "- Any form of information leakage between candidates is not allowed: if this is ascertained, exam failure is automatic."
   ]
  },
  {
   "cell_type": "markdown",
   "id": "30171bc5",
   "metadata": {},
   "source": [
    "# 1. Import the *diabetes.csv* dataset"
   ]
  },
  {
   "cell_type": "code",
   "execution_count": 1,
   "id": "e24c6b07",
   "metadata": {},
   "outputs": [],
   "source": [
    "# TODO"
   ]
  },
  {
   "cell_type": "markdown",
   "id": "6193b5ee",
   "metadata": {},
   "source": [
    "# 2. Perform an **exploratory analysis**\n",
    "- Report and discuss the results of the analysis.\n",
    "\n"
   ]
  },
  {
   "cell_type": "code",
   "execution_count": 2,
   "id": "ea7f2c69",
   "metadata": {},
   "outputs": [],
   "source": [
    "# TODO"
   ]
  },
  {
   "cell_type": "markdown",
   "id": "b7063303",
   "metadata": {},
   "source": [
    "# 3. Perform the required data preprocessing steps \n",
    "- Obtain a numeric representation of the categorical variables.\n"
   ]
  },
  {
   "cell_type": "code",
   "execution_count": 3,
   "id": "47a06912",
   "metadata": {
    "scrolled": true
   },
   "outputs": [],
   "source": [
    "# TODO"
   ]
  },
  {
   "cell_type": "markdown",
   "id": "26a0ffc0",
   "metadata": {},
   "source": [
    "# 4. Carry out a **classification analysis** aimed at predicting the \"Outcome\" value considering the following setting\n",
    "- Apply a 10-fold cross-validation procedure on the dataset to identify the most suitable classifier among the following:\n",
    "    - DecisionTree classifier (maximum depth equal to 3)\n",
    "    - KNearestNeighbor classifier (default params)\n",
    "    - RandomForest classifier (default parameters) after rebalancing with RandomOverSampler \n",
    "- Report and discuss the results, motivating the choice of the most suitable model\n"
   ]
  },
  {
   "cell_type": "code",
   "execution_count": 4,
   "id": "3b64572e",
   "metadata": {},
   "outputs": [],
   "source": [
    "# TODO"
   ]
  },
  {
   "cell_type": "markdown",
   "id": "8562efb0",
   "metadata": {},
   "source": [
    "# Exam Delivery\n",
    "- Save the current file \n",
    "- Click \"**Restart & Run All**\" and check consistency (no error, expected results)\n",
    "- Export using\n",
    "     - \"**File**\" --> \"**Download as**\" --> \"**HTML (.html)**\"\n",
    "- Rename the files as follows and upload in MS Teams Assignment\n",
    "     - HTML: *Surname_Name_StudentNumber.html*\n",
    "     - IPYNB: *Surname_Name_StudentNumber.ipynb* \n"
   ]
  }
 ],
 "metadata": {
  "kernelspec": {
   "display_name": "Python 3 (ipykernel)",
   "language": "python",
   "name": "python3"
  },
  "language_info": {
   "codemirror_mode": {
    "name": "ipython",
    "version": 3
   },
   "file_extension": ".py",
   "mimetype": "text/x-python",
   "name": "python",
   "nbconvert_exporter": "python",
   "pygments_lexer": "ipython3",
   "version": "3.10.8"
  }
 },
 "nbformat": 4,
 "nbformat_minor": 5
}

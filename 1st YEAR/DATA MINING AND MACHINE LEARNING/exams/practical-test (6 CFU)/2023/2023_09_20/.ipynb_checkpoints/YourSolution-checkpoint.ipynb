{
 "cells": [
  {
   "cell_type": "markdown",
   "id": "bba3e9a8",
   "metadata": {},
   "source": [
    "# DMML exam: 2023-09-20"
   ]
  },
  {
   "cell_type": "markdown",
   "id": "7c8fb6a0",
   "metadata": {},
   "source": [
    "The **objective of the exercise is to discriminate between healthy and diseased patients (info derived from attribute \"Category\")**, based on certain information and measurements included in the dataset.\n"
   ]
  },
  {
   "cell_type": "markdown",
   "id": "ac4e3615",
   "metadata": {},
   "source": [
    "- Age;\n",
    "- Sex: (M) Male or (F) Female;\n",
    "- Laboratyory data:\n",
    "    - Albumin (ALB);\n",
    "    - Alkaline phosphatase (ALP);\n",
    "    - Alanine amino-transferase (ALT);\n",
    "    - Aspartate amino-transferase (AST); \n",
    "    - Bilirubin (BIL);\n",
    "    - Choline esterase (CHE);\n",
    "    - Cholesterol level (CHOL);\n",
    "    - Creatinine blood (CREA);\n",
    "    - $\\gamma$-glutamyl-transferase (GGT);\n",
    "    - Protein (PROT)\n"
   ]
  },
  {
   "cell_type": "markdown",
   "id": "96c5c6f8",
   "metadata": {},
   "source": [
    "# Instructions summary\n",
    "1. Import the *HepatitisCdata.csv* dataset\n",
    "2. Perform an **exploratory analysis**:\n",
    "    - Report and discuss the results of the analysis   \n",
    "3. Perform the required data preprocessing steps:\n",
    "    - Obtain a numeric representation of the categorical variables\n",
    "4. Create a new target column \"**Class**\" as follows: (binary attribute representing healthy and diseased patient)\n",
    "    - '0=Blood Donor': 0 --> healthy\n",
    "    - '0s=suspect Blood Donor': 0 --> healthy \n",
    "    - '1=Hepatitis': 1 --> diseased\n",
    "    - '2=Fibrosis': 1 --> diseased\n",
    "    - '3=Cirrhosis': 1 --> diseased\n",
    "\n",
    "\n",
    "5. Carry out a **classification analysis** aimed at predicting the **Class** value (healthy or diseased) considering the following setting:\n",
    "    - Apply a 5-fold cross-validation procedure on the dataset to identify the most suitable classifier among the following:\n",
    "        - DecisionTree classifier (default parameters)\n",
    "        - RandomForest classifier (default parameters)\n",
    "        - RandomForest classifier (default parameters) after rebalancing with RandomOverSampler \n",
    "    - Report and discuss the results, motivating the choice of the most suitable model\n",
    "\n",
    "# Exam Delivery\n",
    "- Save the current file \n",
    "- Click \"**Restart & Run All**\" and check consistency (no error, expected results)\n",
    "- Export using\n",
    "     - \"**File**\" --> \"**Download as**\" --> \"**HTML (.html)**\"\n",
    "- Rename the files as follows and upload in MS Teams Assignment\n",
    "     - HTML: *Surname_Name_StudentNumber.html*\n",
    "     - IPYNB: *Surname_Name_StudentNumber.ipynb* \n",
    "     \n",
    "# Code of conduct\n",
    "- You can consult the course material (notebooks and slides)\n",
    "- You can consult the official documentation of the libraries\n",
    "- Any form of information leakage between candidates is not allowed: if this is ascertained, exam failure is automatic."
   ]
  },
  {
   "cell_type": "markdown",
   "id": "30171bc5",
   "metadata": {},
   "source": [
    "# 1. Import the *HepatitisCdata.csv* dataset"
   ]
  },
  {
   "cell_type": "code",
   "execution_count": 1,
   "id": "7bc1e477",
   "metadata": {},
   "outputs": [],
   "source": [
    "# TODO"
   ]
  },
  {
   "cell_type": "markdown",
   "id": "6193b5ee",
   "metadata": {},
   "source": [
    "# 2. Perform an **exploratory analysis**\n",
    "- Report and discuss the results of the analysis.\n",
    "\n"
   ]
  },
  {
   "cell_type": "code",
   "execution_count": 2,
   "id": "ea7f2c69",
   "metadata": {},
   "outputs": [],
   "source": [
    "# TODO "
   ]
  },
  {
   "cell_type": "markdown",
   "id": "b7063303",
   "metadata": {},
   "source": [
    "# 3. Perform the required data preprocessing steps \n",
    "- obtain a numeric representation of the categorical variables.\n",
    "\n"
   ]
  },
  {
   "cell_type": "code",
   "execution_count": 3,
   "id": "47a06912",
   "metadata": {
    "scrolled": true
   },
   "outputs": [],
   "source": [
    "# TODO"
   ]
  },
  {
   "cell_type": "markdown",
   "id": "83b5392d",
   "metadata": {},
   "source": [
    "# 4. Create a new target attribute \"**Class**\" as follows: (binary attribute representing healthy and diseased patient)\n",
    "- '0=Blood Donor': 0 --> healthy\n",
    "- '0s=suspect Blood Donor': 0 --> healthy \n",
    "- '1=Hepatitis': 1 --> diseased\n",
    "- '2=Fibrosis': 1 --> diseased\n",
    "- '3=Cirrhosis': 1 --> diseased"
   ]
  },
  {
   "cell_type": "code",
   "execution_count": 4,
   "id": "4ee1302f",
   "metadata": {},
   "outputs": [],
   "source": [
    "# TODO"
   ]
  },
  {
   "cell_type": "markdown",
   "id": "26a0ffc0",
   "metadata": {},
   "source": [
    "# 5. Carry out a **classification analysis** aimed at predicting the **Class** value (healthy or diseased) considering the following setting\n",
    "- Apply a 5-fold cross-validation procedure on the dataset to identify the most suitable classifier among the following:\n",
    "    - DecisionTree classifier (default parameters)\n",
    "    - RandomForest classifier (default parameters)\n",
    "    - RandomForest classifier (default parameters) after rebalancing with RandomOverSampler \n",
    "- Report and discuss the results, motivating the choice of the most suitable model\n"
   ]
  },
  {
   "cell_type": "code",
   "execution_count": 5,
   "id": "db2cfaa1",
   "metadata": {},
   "outputs": [],
   "source": [
    "# TODO"
   ]
  },
  {
   "cell_type": "markdown",
   "id": "8562efb0",
   "metadata": {},
   "source": [
    "# Exam Delivery\n",
    "- Save the current file \n",
    "- Click \"**Restart & Run All**\" and check consistency (no error, expected results)\n",
    "- Export using\n",
    "     - \"**File**\" --> \"**Download as**\" --> \"**HTML (.html)**\"\n",
    "- Rename the files as follows and upload in MS Teams Assignment\n",
    "     - HTML: *Surname_Name_StudentNumber.html*\n",
    "     - IPYNB: *Surname_Name_StudentNumber.ipynb* \n"
   ]
  }
 ],
 "metadata": {
  "kernelspec": {
   "display_name": "Python 3 (ipykernel)",
   "language": "python",
   "name": "python3"
  },
  "language_info": {
   "codemirror_mode": {
    "name": "ipython",
    "version": 3
   },
   "file_extension": ".py",
   "mimetype": "text/x-python",
   "name": "python",
   "nbconvert_exporter": "python",
   "pygments_lexer": "ipython3",
   "version": "3.10.8"
  }
 },
 "nbformat": 4,
 "nbformat_minor": 5
}

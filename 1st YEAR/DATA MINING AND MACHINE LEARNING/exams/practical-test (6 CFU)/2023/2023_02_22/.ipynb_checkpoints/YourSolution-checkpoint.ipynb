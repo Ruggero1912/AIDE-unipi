{
 "cells": [
  {
   "cell_type": "markdown",
   "id": "bba3e9a8",
   "metadata": {},
   "source": [
    "# DMML exam: 2023-02-22"
   ]
  },
  {
   "cell_type": "markdown",
   "id": "7c8fb6a0",
   "metadata": {},
   "source": [
    "The dataset contains 11 clinical features that can be used for predicting heart disease events.\n",
    "\n",
    "The target, binary, attribute is reported in the column **HeartDisease**:\n",
    "- 1: Heart disease\n",
    "- 0: Normal"
   ]
  },
  {
   "cell_type": "markdown",
   "id": "96c5c6f8",
   "metadata": {},
   "source": [
    "# Instructions summary\n",
    "1. Import the *heart.csv* dataset\n",
    "2. Perform an **exploratory analysis**\n",
    "    - Report and discuss the results of the analysis\n",
    "3. Perform the required data preprocessing steps:\n",
    "    - Obtain a numeric representation of the categorical variables\n",
    "4. Carry out a **classification analysis** aimed at predicting **HeartDisease** considering the following setting\n",
    "    - Apply a 10-fold cross-validation procedure on the dataset to identify the most suitable classifier among the following, in terms of **accuracy score**:\n",
    "        - Logistic Regression classifier (default parameters) after standard scaling;\n",
    "        - Logistic Regression classifier (default parameters) after standard scaling and feature selection targeted at halving the number of features;\n",
    "    - Apply the **Wilcoxon signed-rank test** to test the null hypothesis that the two related paired samples (distributions of accuracy score, obtained with and without feature selection) come from the same distribution;\n",
    "    - Report and discuss the results using a dedicated markdown cell;\n",
    "5. Perform inference on an unseen record:\n",
    "    - **Train on the whole dataset** the Logistic Regression classifier after standard scaling, **considering only the following variables**:\n",
    "```python\n",
    "['Age', 'RestingBP', 'Cholesterol', 'MaxHR' 'Oldpeak']\n",
    "```    \n",
    "    - Perform inference on the following record:\n",
    "```python\n",
    "unseen_record = pd.DataFrame({'Cholesterol':120,\n",
    "                           'Age':47, \n",
    "                           'MaxHR':86, \n",
    "                           'Oldpeak':2.1,\n",
    "                           'RestingBP':125, \n",
    "                          },index = [1])\n",
    "```    \n",
    "\n",
    "# Exam Delivery\n",
    "- Save the current file \n",
    "- Click \"**Restart & Run All**\" and check consistency (no error, expected results)\n",
    "- Export using\n",
    "     - \"**File**\" --> \"**Download as**\" --> \"**HTML (.html)**\"\n",
    "- Rename the files as follows and upload in MS Teams Assignment (**be sure to upload the files**, after attaching them)\n",
    "     - HTML: *Surname_Name_StudentNumber.html*\n",
    "     - IPYNB: *Surname_Name_StudentNumber.ipynb* \n",
    "     \n",
    "# Code of conduct\n",
    "- You can consult the course material (notebooks and slides)\n",
    "- You can consult the official documentation of the libraries\n",
    "- Any form of information leakage between candidates is not allowed: if this is ascertained, exam failure is automatic."
   ]
  },
  {
   "cell_type": "markdown",
   "id": "30171bc5",
   "metadata": {},
   "source": [
    "# 1. Import the *heart.csv* dataset"
   ]
  },
  {
   "cell_type": "code",
   "execution_count": 1,
   "id": "7bc1e477",
   "metadata": {},
   "outputs": [],
   "source": [
    "# TODO"
   ]
  },
  {
   "cell_type": "markdown",
   "id": "6193b5ee",
   "metadata": {},
   "source": [
    "# 2. Perform an **exploratory analysis**\n",
    "- Report and discuss the results of the analysis\n",
    "\n"
   ]
  },
  {
   "cell_type": "code",
   "execution_count": 2,
   "id": "ea7f2c69",
   "metadata": {},
   "outputs": [],
   "source": [
    "# TODO"
   ]
  },
  {
   "cell_type": "markdown",
   "id": "415a1fab",
   "metadata": {},
   "source": [
    "# 3. Perform the required data preprocessing steps:\n",
    "- Obtain a numeric representation of the categorical variables\n"
   ]
  },
  {
   "cell_type": "code",
   "execution_count": 3,
   "id": "80ad8259",
   "metadata": {},
   "outputs": [],
   "source": [
    "# TODO"
   ]
  },
  {
   "cell_type": "markdown",
   "id": "26a0ffc0",
   "metadata": {},
   "source": [
    "# 4. Carry out a **classification analysis** aimed at predicting **HeartDisease** considering the following setting\n",
    "- Apply a 10-fold cross-validation procedure on the dataset to identify the most suitable classifier among the following, in terms of **accuracy score**:\n",
    "    - Logistic Regression classifier (default parameters) after standard scaling;\n",
    "    - Logistic Regression classifier (default parameters) after standard scaling and feature selection targeted at halving the number of features;\n",
    "- Apply the **Wilcoxon signed-rank test** to test the null hypothesis that the two related paired samples (distributions of accuracy score, obtained with and without feature selection) come from the same distribution;\n",
    "- Report and discuss the results using a dedicated markdown cell;\n"
   ]
  },
  {
   "cell_type": "code",
   "execution_count": 4,
   "id": "db2cfaa1",
   "metadata": {
    "scrolled": true
   },
   "outputs": [],
   "source": [
    "# TODO"
   ]
  },
  {
   "cell_type": "markdown",
   "id": "be4cfdaf",
   "metadata": {},
   "source": [
    "# 5. Perform inference on an unseen record:\n",
    "- **Train on the whole dataset** the Logistic Regression classifier after standard scaling, **considering only the following variables**:\n",
    "```python\n",
    "['Cholesterol', 'Age', 'MaxHR', 'Oldpeak', 'RestingBP']\n",
    "```    \n",
    "- Perform inference on the following record:\n",
    "```python\n",
    "unseen_record = pd.DataFrame({'Cholesterol':120,\n",
    "                           'Age':47, \n",
    "                           'MaxHR':86, \n",
    "                           'Oldpeak':2.1,\n",
    "                           'RestingBP':125, \n",
    "                          },index = [1])\n",
    "\n",
    "```    \n"
   ]
  },
  {
   "cell_type": "code",
   "execution_count": 5,
   "id": "bae95954",
   "metadata": {},
   "outputs": [],
   "source": [
    "# TODO"
   ]
  },
  {
   "cell_type": "markdown",
   "id": "8562efb0",
   "metadata": {},
   "source": [
    "# Exam Delivery\n",
    "- Save the current file \n",
    "- Click \"**Restart & Run All**\" and check consistency (no error, expected results)\n",
    "- Export using\n",
    "     - \"**File**\" --> \"**Download as**\" --> \"**HTML (.html)**\"\n",
    "- Rename the files as follows and upload in MS Teams Assignment (**be sure to upload the files**, after attaching them)\n",
    "     - HTML: *Surname_Name_StudentNumber.html*\n",
    "     - IPYNB: *Surname_Name_StudentNumber.ipynb* \n"
   ]
  }
 ],
 "metadata": {
  "kernelspec": {
   "display_name": "Python 3 (ipykernel)",
   "language": "python",
   "name": "python3"
  },
  "language_info": {
   "codemirror_mode": {
    "name": "ipython",
    "version": 3
   },
   "file_extension": ".py",
   "mimetype": "text/x-python",
   "name": "python",
   "nbconvert_exporter": "python",
   "pygments_lexer": "ipython3",
   "version": "3.10.8"
  }
 },
 "nbformat": 4,
 "nbformat_minor": 5
}

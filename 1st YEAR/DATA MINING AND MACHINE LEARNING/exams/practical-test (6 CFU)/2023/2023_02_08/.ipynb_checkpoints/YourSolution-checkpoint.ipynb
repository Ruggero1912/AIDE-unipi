{
 "cells": [
  {
   "cell_type": "markdown",
   "id": "bba3e9a8",
   "metadata": {},
   "source": [
    "# DMML exam: 2023-02-10"
   ]
  },
  {
   "cell_type": "markdown",
   "id": "7c8fb6a0",
   "metadata": {},
   "source": [
    "This dataset is composed of a range of biomedical voice measurements from people with early-stage Parkinson's disease recruited to a six-month trial of a telemonitoring device for remote symptom progression monitoring. The recordings were automatically captured in the patient's homes.\n",
    "\n",
    "Columns in the table contain \n",
    "\n",
    "- **target** variable\n",
    "    - total_UPDRS - Clinician's total UPDRS score, linearly interpolated\n",
    "- **voice** variables\n",
    "    - Jitter(%),Jitter(Abs),Jitter:RAP,Jitter:PPQ5,Jitter:DDP - Several measures of variation in fundamental frequency\n",
    "    - Shimmer,Shimmer(dB),Shimmer:APQ3,Shimmer:APQ5,Shimmer:APQ11,Shimmer:DDA - Several measures of variation in amplitude\n",
    "    - NHR,HNR - Two measures of ratio of noise to tonal components in the voice\n",
    "    - RPDE - A nonlinear dynamical complexity measure\n",
    "    - DFA - Signal fractal scaling exponent\n",
    "    - PPE - A nonlinear measure of fundamental frequency variation \n"
   ]
  },
  {
   "cell_type": "markdown",
   "id": "96c5c6f8",
   "metadata": {},
   "source": [
    "# Instructions summary\n",
    "1. Import the *parkinson_voice.csv* dataset\n",
    "2. Perform an **exploratory analysis**\n",
    "    - Report and discuss the results of the analysis\n",
    "3. Formulate the binary classification problem\n",
    "    - Define a new column (name it **UPDRS_Severity**) as *binarization* of the **total_UPDRS** variable. The aim of the operation is to define two classes for the severity of the disease: if the value of **total_UPDRS** is higher than a cut-off value, the class is \"1\" or \"True\" (representing a *severe* level of the disease), otherwise the class is \"0\" or \"False\" (representing a *moderate* level of the disease). Use the 75h percentile (i.e., 3rd quartile) of the distribution of **total_UPDRS** as cut-off value. \n",
    "    \n",
    "4. Carry out a **classification analysis** aimed at predicting the **UPDRS_Severity** class **based only on the voice variables**, considering the following setting:\n",
    "    - Apply a 10-fold cross-validation procedure on the dataset (with shuffling) to identify the most suitable classifier among the following:\n",
    "        - DecisionTree classifier (default params)\n",
    "        - DecisionTree classifier (default params) after oversampling with SMOTE\n",
    "        - KNearestNeighbor classifier (default params)\n",
    "        - KNearestNeighbor classifier (default params) after feature selection targeted at keeping 10 features\n",
    "    - Report and discuss the results, motivating the choice of the most suitable model\n",
    "    \n",
    "# Exam Delivery\n",
    "- Save the current file \n",
    "- Click \"**Restart & Run All**\" and check consistency (no error, expected results)\n",
    "- Export using\n",
    "     - \"**File**\" --> \"**Download as**\" --> \"**HTML (.html)**\"\n",
    "- Rename the files as follows and upload in MS Teams Assignment\n",
    "     - HTML: *Surname_Name_StudentNumber.html*\n",
    "     - IPYNB: *Surname_Name_StudentNumber.ipynb* \n",
    "     \n",
    "# Code of conduct\n",
    "- You can consult the course material (notebooks and slides)\n",
    "- You can consult the official documentation of the libraries\n",
    "- Any form of information leakage between candidates is not allowed: if this is ascertained, exam failure is automatic."
   ]
  },
  {
   "cell_type": "markdown",
   "id": "30171bc5",
   "metadata": {},
   "source": [
    "# 1. Import the *parkinson.csv* dataset"
   ]
  },
  {
   "cell_type": "code",
   "execution_count": 1,
   "id": "7bc1e477",
   "metadata": {},
   "outputs": [],
   "source": [
    "# TODO"
   ]
  },
  {
   "cell_type": "markdown",
   "id": "6193b5ee",
   "metadata": {},
   "source": [
    "# 2. Perform an **exploratory analysis**\n",
    "- Report and discuss the results of the analysis.\n",
    "\n"
   ]
  },
  {
   "cell_type": "code",
   "execution_count": 2,
   "id": "ea7f2c69",
   "metadata": {},
   "outputs": [],
   "source": [
    "# TODO"
   ]
  },
  {
   "cell_type": "markdown",
   "id": "0f897cbf",
   "metadata": {},
   "source": [
    "# 3. Formulate the binary classification problem\n",
    "- Define a new column (name it **UPDRS_Severity**) as *binarization* of the **total_UPDRS** variable. The aim of the operation is to define two classes for the severity of the disease: if the value of **total_UPDRS** is higher than a cut-off value, the class is \"1\" or \"True\" (representing a *severe* level of the disease), otherwise the class is \"0\" or \"False\" (representing a *moderate* level of the disease). Use the 75h percentile (i.e., 3rd quartile) of the distribution of **total_UPDRS** as cut-off value. \n",
    "    "
   ]
  },
  {
   "cell_type": "code",
   "execution_count": 3,
   "id": "94d08ef1",
   "metadata": {
    "scrolled": true
   },
   "outputs": [],
   "source": [
    "# TODO"
   ]
  },
  {
   "cell_type": "markdown",
   "id": "26a0ffc0",
   "metadata": {},
   "source": [
    "# 4. Carry out a **classification analysis** aimed at predicting the **UPDRS_Severity** class **based only on the voice variables**, considering the following setting\n",
    "- Apply a 10-fold cross-validation procedure on the dataset (with shuffling) to identify the most suitable classifier among the following:\n",
    "    - DecisionTree classifier (default params)\n",
    "    - DecisionTree classifier (default params) after oversampling with SMOTE\n",
    "    - KNearestNeighbor classifier (default params)\n",
    "    - KNearestNeighbor classifier (default params) after feature selection targeted at keeping 10 features\n",
    "- Report and discuss the results, motivating the choice of the most suitable model\n",
    "    "
   ]
  },
  {
   "cell_type": "code",
   "execution_count": 4,
   "id": "c0faad58",
   "metadata": {},
   "outputs": [],
   "source": [
    "# TODO"
   ]
  },
  {
   "cell_type": "markdown",
   "id": "8562efb0",
   "metadata": {},
   "source": [
    "# Exam Delivery\n",
    "- Save the current file \n",
    "- Click \"**Restart & Run All**\" and check consistency (no error, expected results)\n",
    "- Export using\n",
    "     - \"**File**\" --> \"**Download as**\" --> \"**HTML (.html)**\"\n",
    "- Rename the files as follows and upload in MS Teams Assignment\n",
    "     - HTML: *Surname_Name_StudentNumber.html*\n",
    "     - IPYNB: *Surname_Name_StudentNumber.ipynb* \n"
   ]
  }
 ],
 "metadata": {
  "kernelspec": {
   "display_name": "Python 3 (ipykernel)",
   "language": "python",
   "name": "python3"
  },
  "language_info": {
   "codemirror_mode": {
    "name": "ipython",
    "version": 3
   },
   "file_extension": ".py",
   "mimetype": "text/x-python",
   "name": "python",
   "nbconvert_exporter": "python",
   "pygments_lexer": "ipython3",
   "version": "3.10.8"
  }
 },
 "nbformat": 4,
 "nbformat_minor": 5
}

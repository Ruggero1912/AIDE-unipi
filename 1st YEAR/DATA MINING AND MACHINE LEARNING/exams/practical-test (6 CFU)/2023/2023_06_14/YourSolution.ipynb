{
 "cells": [
  {
   "cell_type": "markdown",
   "id": "bba3e9a8",
   "metadata": {},
   "source": [
    "# DMML exam: 2023-06-14"
   ]
  },
  {
   "cell_type": "markdown",
   "id": "7c8fb6a0",
   "metadata": {},
   "source": [
    "This dataset is originally taken from the Wageningen University & Research Biotechnology Department.\n",
    "\n",
    "\n",
    "The **objective of the dataset is to diagnostically predict whether or not a patient has Coeliac disease**, based on certain diagnostic measurements included in the dataset. The dataset consists of several medical variables like age, gender, Diabetes type and so on, and one target variable.\n"
   ]
  },
  {
   "cell_type": "markdown",
   "id": "ac4e3615",
   "metadata": {},
   "source": [
    "1. Age: subject's age - *numeric*\n",
    "2. Gender: subject's gender - *nominal* \n",
    "3. Diabetes: whether the subject has diabetes or not - *boolean*\n",
    "4. Diabetes Type: diabetes type (Type 1, Type 2, None) - *nominal*\n",
    "5. Diarrhoea: type of this symptom - *nominal*\n",
    "6. Abdominal: whether the subject has abdominal pain or not  - *boolean*\n",
    "7. Short_Stature: type of short stature disorder (Proportionate short stature (PSS) is when the person is small, but all the parts are in the usual proportions. In disproportionate short stature (DSS), the limbs may be small compared with the trunk. Sometimes a person is small but otherwise healthy. This can be referred to as variant restricted growth. It may happen for genetic or hormonal reasons.) - *nominal*\n",
    "8. Sticky_Stool: whether the subject suffers from this symptom or not   - *boolean*\n",
    "9. Weight_loss: whether the subject suffers from this symptom or not  - *boolean*\n",
    "10. IgA: Immunoglobulin A concentration [u/ml] - *numeric*\n",
    "11. IgG: Immunoglobulin G concentration [u/ml] - *numeric*\n",
    "12. IgM: Immunoglobulin M concentration [u/ml] - *numeric* \n",
    "13. Marsh: score of damage of gluten on small intestine (none,type0,type1,type2,type3a,type3b,type3c) -*ordinal*\n",
    "14. cd_type: coeliac disease type -*nominal*\n",
    "15. Disease-diagnose (**CLASS**):  whether the subject suffers from Coeliac disease or not -*boolean*"
   ]
  },
  {
   "cell_type": "markdown",
   "id": "96c5c6f8",
   "metadata": {},
   "source": [
    "# Instructions summary\n",
    "1. Import the *coeliac_disease.csv* dataset\n",
    "    - Drop \"Marsh\" and \"cd_type\" columns\n",
    "2. Perform an **exploratory analysis**:\n",
    "    - Report and discuss the results of the analysis, using dedicated markdown cells\n",
    "3. Perform the required data preprocessing steps:\n",
    "    - Obtain a numeric representation of the categorical variables\n",
    "4. Carry out a **classification analysis** aimed at predicting **Disease_Diagnose** considering the following setting:\n",
    "    - Apply a 10-fold cross-validation procedure on the dataset to identify the most suitable classifier among the following:\n",
    "        - DecisionTree classifier (setting the maximum depth equal to 6)\n",
    "        - KNearestNeighbor classifier (default params)\n",
    "        - KNearestNeighbor classifier (default params) after feature selection targeted at keeping 10 features\n",
    "    - Report and discuss the results, motivating the choice of the most suitable model (using dedicated markdown cells)\n",
    "5. Inference:\n",
    "    - Train the selected model on the overall training set \n",
    "    - Classfy the following unseen record, taking care of adequately preprocessing it:\n",
    "    ```python\n",
    "    unseen_record = pd.DataFrame({'Age':8,\n",
    "                         'Gender':'Male', \n",
    "                         'Diabetes':'Yes', \n",
    "                         'Diabetes Type':'Type 1', \n",
    "                         'Diarrhoea':'watery', \n",
    "                         'Abdominal':'yes', \n",
    "                         'Short_Stature':'PSS', \n",
    "                         'Sticky_Stool':'yes', \n",
    "                         'Weight_loss':'yes', \n",
    "                         'IgA':1.66,\n",
    "                         'IgG':8.0,\n",
    "                         'IgM':2.0}, index = [1])                                 \n",
    "    ```\n",
    "# Exam Delivery\n",
    "- Save the current file \n",
    "- Click \"**Restart & Run All**\" and check consistency (no error, expected results)\n",
    "- Export using\n",
    "     - \"**File**\" --> \"**Download as**\" --> \"**HTML (.html)**\"\n",
    "- Rename the files as follows and upload in MS Teams Assignment (**be sure to upload the files**, after attaching them)\n",
    "     - HTML: *Surname_Name_StudentNumber.html*\n",
    "     - IPYNB: *Surname_Name_StudentNumber.ipynb* \n",
    "     \n",
    "# Code of conduct\n",
    "- You can consult the course material (notebooks and slides)\n",
    "- You can consult the official documentation of the libraries\n",
    "- Any form of information leakage between candidates is not allowed: if this is ascertained, exam failure is automatic."
   ]
  },
  {
   "cell_type": "markdown",
   "id": "30171bc5",
   "metadata": {},
   "source": [
    "# 1. Import the *coeliac_disease.csv* dataset"
   ]
  },
  {
   "cell_type": "code",
   "execution_count": 1,
   "id": "7bc1e477",
   "metadata": {},
   "outputs": [],
   "source": [
    "# TODO "
   ]
  },
  {
   "cell_type": "markdown",
   "id": "6193b5ee",
   "metadata": {},
   "source": [
    "# 2. Perform an **exploratory analysis**\n",
    "- Report and discuss the results of the analysis.\n",
    "\n"
   ]
  },
  {
   "cell_type": "code",
   "execution_count": 2,
   "id": "32c924c3",
   "metadata": {},
   "outputs": [],
   "source": [
    "# TODO"
   ]
  },
  {
   "cell_type": "markdown",
   "id": "b7063303",
   "metadata": {},
   "source": [
    "# 3. Perform the required data preprocessing steps \n",
    "- Obtain a numeric representation of the categorical variables.\n"
   ]
  },
  {
   "cell_type": "code",
   "execution_count": 3,
   "id": "4e1190d3",
   "metadata": {},
   "outputs": [],
   "source": [
    "# TODO"
   ]
  },
  {
   "cell_type": "markdown",
   "id": "26a0ffc0",
   "metadata": {},
   "source": [
    "\n",
    "# 4. Carry out a **classification analysis** aimed at predicting **Disease_Diagnose** considering the following setting\n",
    "- Apply a 10-fold cross-validation procedure on the dataset to identify the most suitable classifier among the following:\n",
    "    - DecisionTree classifier (maximum depth equal to 6)\n",
    "    - KNearestNeighbor classifier (default params)\n",
    "    - KNearestNeighbor classifier (default params) after feature selection targeted at keeping 10 features\n",
    "- Report and discuss the results, motivating the choice of the most suitable model\n"
   ]
  },
  {
   "cell_type": "code",
   "execution_count": 4,
   "id": "8dfa78d6",
   "metadata": {},
   "outputs": [],
   "source": [
    "# TODO"
   ]
  },
  {
   "cell_type": "markdown",
   "id": "6a8c38f9",
   "metadata": {},
   "source": [
    "# 5. Inference\n",
    "- Train the selected model on the overall training set \n",
    "- Classfy the following unseen record, taking care of adequately preprocessing it:\n",
    "```python\n",
    "unseen_record = pd.DataFrame({'Age':8,\n",
    "                     'Gender':'Male', \n",
    "                     'Diabetes':'Yes', \n",
    "                     'Diabetes Type':'Type 1', \n",
    "                     'Diarrhoe':'watery', \n",
    "                     'Abdominal':'yes', \n",
    "                     'Short_Stature':'PSS', \n",
    "                     'Sticky_Stool':'yes', \n",
    "                     'Weight_loss':'yes', \n",
    "                     'IgA':1.66,\n",
    "                     'IgG':8.0,\n",
    "                     'IgM':2.0},\n",
    "                     index = [1])                                 \n",
    "```"
   ]
  },
  {
   "cell_type": "code",
   "execution_count": 5,
   "id": "ad3361b6",
   "metadata": {},
   "outputs": [],
   "source": [
    "# TODO"
   ]
  },
  {
   "cell_type": "markdown",
   "id": "8562efb0",
   "metadata": {},
   "source": [
    "# Exam Delivery\n",
    "- Save the current file \n",
    "- Click \"**Restart & Run All**\" and check consistency (no error, expected results)\n",
    "- Export using\n",
    "     - \"**File**\" --> \"**Download as**\" --> \"**HTML (.html)**\"\n",
    "- Rename the files as follows and upload in MS Teams Assignment\n",
    "     - HTML: *Surname_Name_StudentNumber.html*\n",
    "     - IPYNB: *Surname_Name_StudentNumber.ipynb* \n"
   ]
  }
 ],
 "metadata": {
  "kernelspec": {
   "display_name": "Python 3 (ipykernel)",
   "language": "python",
   "name": "python3"
  },
  "language_info": {
   "codemirror_mode": {
    "name": "ipython",
    "version": 3
   },
   "file_extension": ".py",
   "mimetype": "text/x-python",
   "name": "python",
   "nbconvert_exporter": "python",
   "pygments_lexer": "ipython3",
   "version": "3.10.8"
  }
 },
 "nbformat": 4,
 "nbformat_minor": 5
}

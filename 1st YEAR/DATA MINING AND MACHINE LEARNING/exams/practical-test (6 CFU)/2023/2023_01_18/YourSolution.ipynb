{
 "cells": [
  {
   "cell_type": "markdown",
   "id": "7a0139a5",
   "metadata": {},
   "source": [
    "# DMML exam: 2023-01-18"
   ]
  },
  {
   "cell_type": "markdown",
   "id": "3085b777",
   "metadata": {},
   "source": [
    "The proposed dataset collects the outcome of a survey for uncovering the satisfaction of airline passengers.\n",
    "The **overall goal is to carry out a data mining process to predict passenger satisfaction**."
   ]
  },
  {
   "cell_type": "markdown",
   "id": "96c5c6f8",
   "metadata": {},
   "source": [
    "# Instructions summary\n",
    "1. Import the *airline-train.csv* dataset\n",
    "2. Perform an **exploratory analysis**:\n",
    "    - Report and discuss the results of the analysis\n",
    "3. Perform the required data preprocessing steps:\n",
    "    - handle missing values\n",
    "    - obtain a numeric representation of the categorical variables\n",
    "4. Carry out a **classification analysis** aimed at predicting **passenger satisfaction** considering the following setting:\n",
    "    - Apply a 10-fold cross-validation procedure on the dataset to identify the most suitable classifier among the following:\n",
    "        - DecisionTree classifier (setting the maximum depth equal to 6)\n",
    "        - KNearestNeighbor classifier (default params)\n",
    "        - KNearestNeighbor classifier (default params) after feature selection targeted at keeping 10 features\n",
    "    - Report and discuss the results, motivating the choice of the most suitable model\n",
    "5. Evaluate and discuss results on the test set:\n",
    "    - Train the selected model on the original *airline-train.csv* dataset \n",
    "    - Import the *airline-test.csv* test set\n",
    "    - Report and discuss the results on the test set\n",
    "    \n",
    "# Exam Delivery\n",
    "- Save the current file \n",
    "- Click \"**Restart & Run All**\" and check consistency (no error, expected results)\n",
    "- Export using\n",
    "     - \"**File**\" --> \"**Download as**\" --> \"**HTML (.html)**\"\n",
    "- Rename the files as follows and upload in MS Teams Assignment\n",
    "     - HTML: *Surname_Name_StudentNumber.html*\n",
    "     - IPYNB: *Surname_Name_StudentNumber.ipynb* \n",
    "     \n",
    "# Code of conduct\n",
    "- You can consult the course material (notebooks and slides)\n",
    "- You can consult the official documentation of the libraries\n",
    "- Any form of information leakage between candidates is not allowed: if this is ascertained, exam failure is automatic."
   ]
  },
  {
   "cell_type": "markdown",
   "id": "30171bc5",
   "metadata": {},
   "source": [
    "# 1. Import the *airline-train.csv* dataset"
   ]
  },
  {
   "cell_type": "code",
   "execution_count": 1,
   "id": "b8956a47",
   "metadata": {},
   "outputs": [],
   "source": [
    "# TODO"
   ]
  },
  {
   "cell_type": "markdown",
   "id": "6193b5ee",
   "metadata": {},
   "source": [
    "# 2. Perform an **exploratory analysis**\n",
    "- Report and discuss the results of the analysis\n",
    "\n"
   ]
  },
  {
   "cell_type": "code",
   "execution_count": 2,
   "id": "ea7f2c69",
   "metadata": {},
   "outputs": [],
   "source": [
    "# TODO"
   ]
  },
  {
   "cell_type": "markdown",
   "id": "b7063303",
   "metadata": {},
   "source": [
    "# 3. Perform the required data preprocessing steps \n",
    "- handle missing values\n",
    "- obtain a numeric representation of the categorical variables\n"
   ]
  },
  {
   "cell_type": "code",
   "execution_count": 3,
   "id": "9d9c9fd2",
   "metadata": {},
   "outputs": [],
   "source": [
    "# TODO"
   ]
  },
  {
   "cell_type": "markdown",
   "id": "26a0ffc0",
   "metadata": {},
   "source": [
    "\n",
    "# 4. Carry out a **classification analysis** aimed at predicting **passenger satisfaction** considering the following setting\n",
    "- Apply a 10-fold cross-validation procedure on the dataset to identify the most suitable classifier among the following:\n",
    "    - DecisionTree classifier (maximum depth equal to 6)\n",
    "    - KNearestNeighbor classifier (default params)\n",
    "    - KNearestNeighbor classifier (default params) after feature selection targeted at keeping 10 features\n",
    "- Report and discuss the results, motivating the choice of the most suitable model\n"
   ]
  },
  {
   "cell_type": "code",
   "execution_count": 4,
   "id": "db2cfaa1",
   "metadata": {},
   "outputs": [],
   "source": [
    "# TODO"
   ]
  },
  {
   "cell_type": "markdown",
   "id": "ce8a50f1",
   "metadata": {},
   "source": [
    "# 5. Evaluate and discuss results on the test set:\n",
    "- Train the selected model on the original *airline-train.csv* dataset \n",
    "- Import the *airline-test.csv* test set\n",
    "- Report and discuss the results on the test set\n"
   ]
  },
  {
   "cell_type": "code",
   "execution_count": 5,
   "id": "9dab4fec",
   "metadata": {},
   "outputs": [],
   "source": [
    "# TODO"
   ]
  },
  {
   "cell_type": "markdown",
   "id": "8562efb0",
   "metadata": {},
   "source": [
    "# Exam Delivery\n",
    "- Save the current file \n",
    "- Click \"**Restart & Run All**\" and check consistency (no error, expected results)\n",
    "- Export using\n",
    "     - \"**File**\" --> \"**Download as**\" --> \"**HTML (.html)**\"\n",
    "- Rename the files as follows and upload in MS Teams Assignment\n",
    "     - HTML: *Surname_Name_StudentNumber.html*\n",
    "     - IPYNB: *Surname_Name_StudentNumber.ipynb* \n"
   ]
  }
 ],
 "metadata": {
  "kernelspec": {
   "display_name": "Python 3 (ipykernel)",
   "language": "python",
   "name": "python3"
  },
  "language_info": {
   "codemirror_mode": {
    "name": "ipython",
    "version": 3
   },
   "file_extension": ".py",
   "mimetype": "text/x-python",
   "name": "python",
   "nbconvert_exporter": "python",
   "pygments_lexer": "ipython3",
   "version": "3.11.5"
  }
 },
 "nbformat": 4,
 "nbformat_minor": 5
}

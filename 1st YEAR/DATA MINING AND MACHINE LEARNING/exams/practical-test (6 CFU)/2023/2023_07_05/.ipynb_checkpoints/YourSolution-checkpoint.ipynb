{
 "cells": [
  {
   "cell_type": "markdown",
   "id": "bba3e9a8",
   "metadata": {},
   "source": [
    "# DMML exam: 2023-07-05"
   ]
  },
  {
   "cell_type": "markdown",
   "id": "7c8fb6a0",
   "metadata": {},
   "source": [
    "This dataset comes from a proof-of-concept study published in 1999. \n",
    "\n",
    "It showed how **new cases of cancer could be classified by gene expression monitoring**.\n",
    "\n",
    "These data were used for a binary classification problem, i.e. to classify patients with\n",
    "- **AML**: **acute myeloid leukemia** \n",
    "- **ALL**: **acute lymphoblastic leukemia**"
   ]
  },
  {
   "cell_type": "markdown",
   "id": "ac4e3615",
   "metadata": {},
   "source": [
    "The dataset, in its original form, has a structure similar to the following. Each row refers to a gene (only a subset is shown). Each column refers to a subject.\n",
    "![img](https://www.science.org/cms/10.1126/science.286.5439.531/asset/b9384907-fd3f-4a13-94f6-1555575cb987/assets/graphic/se409791103b.jpeg)"
   ]
  },
  {
   "cell_type": "markdown",
   "id": "96c5c6f8",
   "metadata": {},
   "source": [
    "# Instructions summary\n",
    "1. Import the **training set** (file *train.csv*)\n",
    "    - Set column \"Gene Accession Number\" as the index of the dataframe\n",
    "2. Operate on the dataframe\n",
    "    - **Transpose the dataframe**, so that **each row is a patient** and **each column is a gene**.\n",
    "        - Expected shape [38x7129]\n",
    "3. Import the ***ground-truth* labels** as reported in the 'cancer' column in the *actual.csv* file \n",
    "    - Define *y_train* as the first 38 values of the 'cancer' column\n",
    "    - Define *y_test* as the remaining values of the 'cancer' column\n",
    "4. Fit a **classification model** on the training set\n",
    "    - Transform input data by applying PCA (targeted at keeping 2 components), after scaling \n",
    "    - Fit a DecisionTree classifier (setting the maximum depth equal to 3)\n",
    "    - Analyze the classification pipeline:\n",
    "        - Report the cumulative explained variance of the first two principal components\n",
    "        - Produce a scatter plot of the transformed data\n",
    "        - Print or plot the tree structure\n",
    "5. **Inference** on the test set\n",
    "    - Import the test set (file *test.csv*)\n",
    "    - Operate the same cleaning/preprocessing steps carried out on the training set\n",
    "    - Predict the class of the test instances\n",
    "    - Report and discuss the results\n",
    "6. Carry out a **classification analysis** in **cross-validation**\n",
    "    - Concatenate the training set and the test set \n",
    "    - Report and discuss the results of the Decision Tree classifier (setting the maximum depth equal to 3) in the following setting (5-fold cross-validation):\n",
    "        - PCA targeted at keeping 2 components\n",
    "        - PCA targeted at keeping a number of components such that the amount of explained variance is greater than 50%\n",
    "        - PCA targeted at keeping a number of components such that the amount of explained variance is greater than 90%\n",
    "        - Original space\n",
    "\n",
    "# Exam Delivery\n",
    "- Save the current file \n",
    "- Click \"**Restart & Run All**\" and check consistency (no error, expected results)\n",
    "- Export using\n",
    "     - \"**File**\" --> \"**Download as**\" --> \"**HTML (.html)**\"\n",
    "- Rename the files as follows and upload in MS Teams Assignment\n",
    "     - HTML: *Surname_Name_StudentNumber.html*\n",
    "     - IPYNB: *Surname_Name_StudentNumber.ipynb* \n",
    "     \n",
    "# Code of conduct\n",
    "- You can consult the course material (notebooks and slides)\n",
    "- You can consult the official documentation of the libraries\n",
    "- Any form of information leakage between candidates is not allowed: if this is ascertained, exam failure is automatic."
   ]
  },
  {
   "cell_type": "markdown",
   "id": "30171bc5",
   "metadata": {},
   "source": [
    "# 1. Import the training set (file *train.csv*)\n",
    "- Set column \"Gene Accession Number\" as the index of the dataframe"
   ]
  },
  {
   "cell_type": "code",
   "execution_count": 1,
   "id": "1b59f051",
   "metadata": {},
   "outputs": [],
   "source": [
    "# TODO"
   ]
  },
  {
   "cell_type": "markdown",
   "id": "9216f632",
   "metadata": {},
   "source": [
    "# 2. Operate on the dataframe\n",
    "- Transpose the dataframe, so that each row is a patient and each column is a gene.\n",
    "    - Expected shape [38x7129]\n",
    "\n"
   ]
  },
  {
   "cell_type": "code",
   "execution_count": 2,
   "id": "4686d476",
   "metadata": {},
   "outputs": [],
   "source": [
    "# TODO"
   ]
  },
  {
   "cell_type": "markdown",
   "id": "faf370d8",
   "metadata": {},
   "source": [
    "# 3. Import the *ground-truth* labels as reported in the 'cancer' column in the *actual.csv* file \n",
    "- Define *y_train* as the first 38 values of the 'cancer' column\n",
    "- Define *y_test* as the remaining values of the 'cancer' array"
   ]
  },
  {
   "cell_type": "code",
   "execution_count": 3,
   "id": "85db5262",
   "metadata": {
    "scrolled": true
   },
   "outputs": [],
   "source": [
    "# TODO"
   ]
  },
  {
   "cell_type": "markdown",
   "id": "eb0dd1ef",
   "metadata": {},
   "source": [
    "# 4. Fit a classification model on the training set\n",
    "- Transform input data by applying PCA (targeted at keeping 2 components), after scaling \n",
    "- Fit a DecisionTree classifier (setting the maximum depth equal to 3)\n",
    "- Analyze the classification pipeline:\n",
    "    - Report the cumulative explained variance of the first two principal components\n",
    "    - Produce a scatter plot of the transformed data\n",
    "    - Print or plot the tree structure"
   ]
  },
  {
   "cell_type": "code",
   "execution_count": 4,
   "id": "69d980f0",
   "metadata": {},
   "outputs": [],
   "source": [
    "# TODO"
   ]
  },
  {
   "cell_type": "markdown",
   "id": "75426d54",
   "metadata": {},
   "source": [
    "# 5. Inference\n",
    "- Import the test set (file *test.csv*)\n",
    "- Operate the same cleaning/preprocessing steps carried out on the training set\n",
    "- Predict the class of the test instances\n",
    "- Report and discuss the results"
   ]
  },
  {
   "cell_type": "code",
   "execution_count": 5,
   "id": "22e83a33",
   "metadata": {},
   "outputs": [],
   "source": [
    "# TODO"
   ]
  },
  {
   "cell_type": "markdown",
   "id": "a4e724ad",
   "metadata": {
    "scrolled": false
   },
   "source": [
    "# 6. Carry out a **classification analysis**  in cross-validation\n",
    "- Concatenate the training set and the test set \n",
    "- Report and discuss the results of the Decision Tree classifier (setting the maximum depth equal to 3) in the following setting (5-fold cross-validation):\n",
    "    - PCA targeted at keeping 2 components\n",
    "    - PCA targeted at keeping a number of components such that the amount of explained variance is greater than 50%\n",
    "    - PCA targeted at keeping a number of components such that the amount of explained variance is greater than 90%\n",
    "    - Original space\n"
   ]
  },
  {
   "cell_type": "code",
   "execution_count": 6,
   "id": "feda03a6",
   "metadata": {},
   "outputs": [],
   "source": [
    "# TODO"
   ]
  },
  {
   "cell_type": "markdown",
   "id": "8562efb0",
   "metadata": {},
   "source": [
    "# Exam Delivery\n",
    "- Save the current file \n",
    "- Click \"**Restart & Run All**\" and check consistency (no error, expected results)\n",
    "- Export using\n",
    "     - \"**File**\" --> \"**Download as**\" --> \"**HTML (.html)**\"\n",
    "- Rename the files as follows and upload in MS Teams Assignment\n",
    "     - HTML: *Surname_Name_StudentNumber.html*\n",
    "     - IPYNB: *Surname_Name_StudentNumber.ipynb* \n"
   ]
  }
 ],
 "metadata": {
  "kernelspec": {
   "display_name": "Python 3 (ipykernel)",
   "language": "python",
   "name": "python3"
  },
  "language_info": {
   "codemirror_mode": {
    "name": "ipython",
    "version": 3
   },
   "file_extension": ".py",
   "mimetype": "text/x-python",
   "name": "python",
   "nbconvert_exporter": "python",
   "pygments_lexer": "ipython3",
   "version": "3.10.8"
  }
 },
 "nbformat": 4,
 "nbformat_minor": 5
}

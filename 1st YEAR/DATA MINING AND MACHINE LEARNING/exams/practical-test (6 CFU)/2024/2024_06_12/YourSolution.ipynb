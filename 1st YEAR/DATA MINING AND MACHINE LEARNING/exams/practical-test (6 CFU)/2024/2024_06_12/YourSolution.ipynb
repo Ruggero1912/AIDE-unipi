{
 "cells": [
  {
   "cell_type": "markdown",
   "id": "bba3e9a8",
   "metadata": {},
   "source": [
    "# DMML exam: 2024-01-17"
   ]
  },
  {
   "cell_type": "markdown",
   "id": "7c8fb6a0",
   "metadata": {},
   "source": [
    "The dataset consists of measurements of fetal heart rate (FHR) and uterine contraction (UC) features on cardiotocograms classified by expert obstetricians.\n",
    "\n",
    "Description of the features:\n",
    "\n",
    "    1. LB - baseline value - FHR baseline (beats per minute)\n",
    "    2. AC - accelerations - # of accelerations per second\n",
    "    3. FM - fetal_movement - # of fetal movements per second\n",
    "    4. UC - uterine_contractions - # of uterine contractions per second\n",
    "    5. DL - light_decelerations - # of light decelerations per second\n",
    "    6. DS - severe_decelerations - # of severe decelerations per second\n",
    "    7. DP - prolongued_decelerations - # of prolongued decelerations per second\n",
    "    8. ASTV - abnormal_short_term_variability - percentage of time with abnormal short term variability\n",
    "    9. MSTV - mean_value_of_short_term_variability - mean value of short term variability\n",
    "    10. ALTV - percentage_of_time_with_abnormal_long_term_variability - percentage of time with abnormal long term variability\n",
    "    11. MLTV - mean_value_of_long_term_variability - mean value of long term variability\n",
    "    12. Width - histogram_width - width of FHR histogram\n",
    "    13. Min - histogram_min - minimum of FHR histogram\n",
    "    14. Max - histogram_max - Maximum of FHR histogram\n",
    "    15. Nmax - histogram_number_of_peaks - # of histogram peaks\n",
    "    16. Nzeros - histogram_number_of_zeroes - # of histogram zeros\n",
    "    17. Mode - histogram_mode - histogram mode\n",
    "    18. Mean - histogram_mean - histogram mean\n",
    "    19. Median - histogram_median - histogram median\n",
    "    20. Variance - histogram_variance - histogram variance\n",
    "    21. Tendency - histogram_tendency - histogram tendency: -1=left assymetric; 0=symmetric; 1=right assymetric\n",
    "    NSP - fetal_health - fetal state class code (1=normal; 2=suspect; 3=pathologic)\n",
    "\n",
    "The **objective of the exercise is to discriminate the fetal state class as Normal, Suspect or Pathologic**\n"
   ]
  },
  {
   "cell_type": "markdown",
   "id": "96c5c6f8",
   "metadata": {},
   "source": [
    "# Instructions summary\n",
    "0. Rename this file as: *Surname_Name_StudentNumber.ipynb*\n",
    "1. Import the training set: *cardio_train.csv*\n",
    "2. Perform an **exploratory analysis**:\n",
    "    - Report and discuss the results of the analysis\n",
    "3. Carry out a **classification analysis** aimed at predicting the **class** considering the following setting:\n",
    "    - Apply a 10-fold cross-validation procedure on the dataset to identify the most suitable classifier among the following:\n",
    "        - DecisionTree classifier (default params)\n",
    "        - KNearestNeighbor classifier (default params)\n",
    "        - RandomForest classifier (default params)\n",
    "    - Repeat the previous step by adopting a suitable rebalancing\n",
    "    - Report and discuss the results, motivating the choice of the most suitable model\n",
    "4. Evaluate and discuss results on the test set:\n",
    "    - Train the selected model on the training set: *cardio_train.csv*\n",
    "    - Import the test set: *cardio_test.csv*\n",
    "    - Report and discuss the results on the test set\n",
    "\n",
    "**Note**: use markdown cells to provide discussion on code output.\n",
    "\n",
    "# Exam Delivery\n",
    "- Save the current file \n",
    "- Click \"**Restart & Run All**\" and check consistency (no error, expected results)\n",
    "- Export using\n",
    "     - \"**File**\" --> \"**Download as**\" --> \"**HTML (.html)**\"\n",
    "- Upload the following file in MS Teams Assignment\n",
    "     - HTML: *Surname_Name_StudentNumber.html*\n",
    "     - IPYNB: *Surname_Name_StudentNumber.ipynb* \n",
    "     \n",
    "# Code of conduct\n",
    "- You can consult the course material (notebooks and slides)\n",
    "- You can consult the official documentation of the libraries\n",
    "- You cannot use generative AI tools (e.g., ChatGPT)\n",
    "- Any form of information leakage between candidates is not allowed: if this is ascertained, exam failure is automatic."
   ]
  },
  {
   "cell_type": "markdown",
   "id": "30171bc5",
   "metadata": {},
   "source": [
    "# 1. Import the training set: *cardio_train.csv*\n"
   ]
  },
  {
   "cell_type": "code",
   "execution_count": 1,
   "id": "7bc1e477",
   "metadata": {},
   "outputs": [],
   "source": [
    "# TODO"
   ]
  },
  {
   "cell_type": "markdown",
   "id": "6193b5ee",
   "metadata": {},
   "source": [
    "# 2. Perform an **exploratory analysis**\n",
    "- Report and discuss the results of the analysis.\n",
    "\n"
   ]
  },
  {
   "cell_type": "code",
   "execution_count": 2,
   "id": "37501b04-c07d-4525-97a0-9d4f4c938fdd",
   "metadata": {},
   "outputs": [],
   "source": [
    "# TODO"
   ]
  },
  {
   "cell_type": "markdown",
   "id": "26a0ffc0",
   "metadata": {},
   "source": [
    "# 3. Carry out a **classification analysis** aimed at predicting the **class** considering the following setting:\n",
    "- Apply a 10-fold cross-validation procedure on the dataset to identify the most suitable classifier among the following:\n",
    "    - DecisionTree classifier (default params)\n",
    "    - KNearestNeighbor classifier (default params)\n",
    "    - RandomForest classifier (default params)\n",
    "- Repeat the previous step by adopting a suitable rebalancing\n",
    "- Report and discuss the results, motivating the choice of the most suitable model\n"
   ]
  },
  {
   "cell_type": "code",
   "execution_count": 3,
   "id": "db2cfaa1",
   "metadata": {},
   "outputs": [],
   "source": [
    "# TODO"
   ]
  },
  {
   "cell_type": "markdown",
   "id": "f2be5930-da8c-4ec0-866d-af4fcb6679e9",
   "metadata": {},
   "source": [
    "# 4. Evaluate and discuss results on the test set:\n",
    "- Train the selected model on the training set: *cardio_train.csv*\n",
    "- Import the test set: *cardio_test.csv*\n",
    "- Report and discuss the results on the test set"
   ]
  },
  {
   "cell_type": "code",
   "execution_count": 4,
   "id": "9bf20472-9157-4e4a-9035-7274548212ee",
   "metadata": {},
   "outputs": [],
   "source": [
    "# TODO"
   ]
  },
  {
   "cell_type": "markdown",
   "id": "8562efb0",
   "metadata": {
    "jp-MarkdownHeadingCollapsed": true
   },
   "source": [
    "# Exam Delivery\n",
    "- Save the current file \n",
    "- Click \"**Restart & Run All**\" and check consistency (no error, expected results)\n",
    "- Export using\n",
    "     - \"**File**\" --> \"**Download as**\" --> \"**HTML (.html)**\"\n",
    "- Upload the following file in MS Teams Assignment\n",
    "     - HTML: *Surname_Name_StudentNumber.html*\n",
    "     - IPYNB: *Surname_Name_StudentNumber.ipynb* \n",
    "     \n"
   ]
  }
 ],
 "metadata": {
  "kernelspec": {
   "display_name": "Python 3 (ipykernel)",
   "language": "python",
   "name": "python3"
  },
  "language_info": {
   "codemirror_mode": {
    "name": "ipython",
    "version": 3
   },
   "file_extension": ".py",
   "mimetype": "text/x-python",
   "name": "python",
   "nbconvert_exporter": "python",
   "pygments_lexer": "ipython3",
   "version": "3.11.5"
  }
 },
 "nbformat": 4,
 "nbformat_minor": 5
}

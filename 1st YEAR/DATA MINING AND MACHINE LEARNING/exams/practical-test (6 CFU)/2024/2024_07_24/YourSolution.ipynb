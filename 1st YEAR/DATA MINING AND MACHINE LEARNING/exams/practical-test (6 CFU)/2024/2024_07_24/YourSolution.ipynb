{
 "cells": [
  {
   "cell_type": "markdown",
   "id": "bba3e9a8",
   "metadata": {},
   "source": [
    "# DMML exam: 2024-07-24"
   ]
  },
  {
   "cell_type": "markdown",
   "id": "7c8fb6a0",
   "metadata": {},
   "source": [
    "The dataset contains values for 9 cliical features for predicting survival state of patients with liver cirrhosis.\n",
    "\n",
    "The survival states (**status column**) include \n",
    "- D (death)\n",
    "- C (censored)\n",
    "- CL (censored due to liver transplantation)\n",
    "\n",
    "\n",
    "The **objective of the exercise is to discriminate between \"death\" and \"censored\"**\n"
   ]
  },
  {
   "cell_type": "markdown",
   "id": "96c5c6f8",
   "metadata": {},
   "source": [
    "# Instructions summary\n",
    "0. Rename this file as: *Surname_Name_StudentNumber.ipynb*\n",
    "1. Import the dataset: *cirrhosis10.csv*.\n",
    "2. Create a new target column for a binary classification problem.\n",
    "    - The new column should be named **StatusBinary** and should be obtained with the following mapping: \n",
    "        - D --> D\n",
    "        - C --> C\n",
    "        - CL --> C\n",
    "4. Perform an **exploratory analysis**:\n",
    "    - Report and discuss the results of the analysis\n",
    "5. Perform the **required preprocessing steps** and carry out a **classification analysis** aimed at predicting the **StatusBinary** considering the following setting:\n",
    "    - Apply a 10-fold cross-validation procedure on the dataset to identify the most suitable classifier among the following:\n",
    "        - DecisionTree classifier\n",
    "        - DecisionTree classifier after undersampling with RandomUnderSampler\n",
    "    - Report and discuss the results, motivating the choice of the most suitable model.\n",
    "6. Carry out the **inference process** on an input instance:\n",
    "    - Train the selected model on the whole dataset: *cirrhosis10.csv*\n",
    "    - Import the single input instance: *unseen1234.csv*\n",
    "    - Perform inference on the input instance. Is the prediction correct?\n",
    "\n",
    "**Note**: use markdown cells to provide discussion on code output.\n",
    "\n",
    "# Exam Delivery\n",
    "- Save the current file \n",
    "- Click \"**Restart & Run All**\" and check consistency (no error, expected results)\n",
    "- Export using\n",
    "     - \"**File**\" --> \"**Download as**\" --> \"**HTML (.html)**\"\n",
    "- Upload the following file in MS Teams Assignment\n",
    "     - HTML: *Surname_Name_StudentNumber.html*\n",
    "     - IPYNB: *Surname_Name_StudentNumber.ipynb* \n",
    "     \n",
    "# Code of conduct\n",
    "- You can consult the course material (notebooks and slides)\n",
    "- You can consult the official documentation of the libraries\n",
    "- You cannot use generative AI tools (e.g., ChatGPT)\n",
    "- Any form of information leakage between candidates is not allowed: if this is ascertained, exam failure is automatic."
   ]
  },
  {
   "cell_type": "markdown",
   "id": "30171bc5",
   "metadata": {},
   "source": [
    "# 1. Import the dataset: *cirrhosis10.csv*"
   ]
  },
  {
   "cell_type": "code",
   "execution_count": 1,
   "id": "7bc1e477",
   "metadata": {},
   "outputs": [],
   "source": [
    "# TODO"
   ]
  },
  {
   "cell_type": "markdown",
   "id": "5b8da466-7b32-455a-9640-86db76a49551",
   "metadata": {},
   "source": [
    "# 2. Create a new target column for a binary classification problem.\n",
    "- The new column should be named **StatusBinary** and should be obtained with the following mapping: \n",
    "    - D --> D\n",
    "    - C --> C\n",
    "    - CL --> C"
   ]
  },
  {
   "cell_type": "code",
   "execution_count": 2,
   "id": "77468c6c-7d3f-415f-b41e-3bc724ec197a",
   "metadata": {},
   "outputs": [],
   "source": [
    "# TODO"
   ]
  },
  {
   "cell_type": "markdown",
   "id": "6193b5ee",
   "metadata": {},
   "source": [
    "# 3. Perform an **exploratory analysis**\n",
    "- Report and discuss the results of the analysis.\n",
    "\n"
   ]
  },
  {
   "cell_type": "code",
   "execution_count": 3,
   "id": "ea7f2c69",
   "metadata": {},
   "outputs": [],
   "source": [
    "# TODO"
   ]
  },
  {
   "cell_type": "markdown",
   "id": "26a0ffc0",
   "metadata": {},
   "source": [
    "# 4. Perform the **required preprocessing steps** and carry out a **classification analysis** aimed at predicting the **StatusBinary** considering the following setting:\n",
    "- Apply a 10-fold cross-validation procedure on the dataset to identify the most suitable classifier among the following:\n",
    "    - DecisionTree classifier\n",
    "    - DecisionTree classifier after undersampling with RandomUnderSampler\n",
    "- Report and discuss the results, motivating the choice of the most suitable model."
   ]
  },
  {
   "cell_type": "code",
   "execution_count": 4,
   "id": "db2cfaa1",
   "metadata": {},
   "outputs": [],
   "source": [
    "# TODO"
   ]
  },
  {
   "cell_type": "markdown",
   "id": "f2be5930-da8c-4ec0-866d-af4fcb6679e9",
   "metadata": {},
   "source": [
    "# 5. Carry out the **inference process** on an input instance:\n",
    "- Train the selected model on the whole dataset: *cirrhosis10.csv*\n",
    "- Import the single input instance: *unseen1234.csv*\n",
    "- Perform inference on the input instance. Is the prediction correct?"
   ]
  },
  {
   "cell_type": "code",
   "execution_count": 5,
   "id": "7f0c4fed-c9e8-4516-8230-e6b80dddadb6",
   "metadata": {},
   "outputs": [],
   "source": [
    "# TODO"
   ]
  },
  {
   "cell_type": "markdown",
   "id": "8562efb0",
   "metadata": {
    "jp-MarkdownHeadingCollapsed": true
   },
   "source": [
    "# Exam Delivery\n",
    "- Save the current file \n",
    "- Click \"**Restart & Run All**\" and check consistency (no error, expected results)\n",
    "- Export using\n",
    "     - \"**File**\" --> \"**Download as**\" --> \"**HTML (.html)**\"\n",
    "- Upload the following file in MS Teams Assignment\n",
    "     - HTML: *Surname_Name_StudentNumber.html*\n",
    "     - IPYNB: *Surname_Name_StudentNumber.ipynb* \n",
    "     \n"
   ]
  }
 ],
 "metadata": {
  "kernelspec": {
   "display_name": "Python 3 (ipykernel)",
   "language": "python",
   "name": "python3"
  },
  "language_info": {
   "codemirror_mode": {
    "name": "ipython",
    "version": 3
   },
   "file_extension": ".py",
   "mimetype": "text/x-python",
   "name": "python",
   "nbconvert_exporter": "python",
   "pygments_lexer": "ipython3",
   "version": "3.11.5"
  }
 },
 "nbformat": 4,
 "nbformat_minor": 5
}

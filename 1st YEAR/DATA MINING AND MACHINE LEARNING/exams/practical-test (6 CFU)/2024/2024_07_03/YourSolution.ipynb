{
 "cells": [
  {
   "cell_type": "markdown",
   "id": "bba3e9a8",
   "metadata": {},
   "source": [
    "# DMML exam: 2024-02-07"
   ]
  },
  {
   "cell_type": "markdown",
   "id": "7c8fb6a0",
   "metadata": {},
   "source": [
    "The dataset contains values for 41 attributes (molecular descriptors) used to classify 1055 chemicals into 2 classes (ready and not ready biodegradable).\n",
    "\n",
    "- 41 molecular descriptors\n",
    "    - list of feature is omitted: no domain knowledge is required for the purpose of this exam.\n",
    "- and 1 experimental class:\n",
    "    - experimental class: ready biodegradable (RB) and not ready biodegradable (NRB)\n",
    "\n",
    "\n",
    "The **objective of the exercise is to discriminate between ready biodegradable (RB) and not ready biodegradable (NRB)**\n"
   ]
  },
  {
   "cell_type": "markdown",
   "id": "96c5c6f8",
   "metadata": {},
   "source": [
    "# Instructions summary\n",
    "0. Rename this file as: *Surname_Name_StudentNumber.ipynb*\n",
    "1. Import the dataset: *phpGUrE90_rev.csv*. Be sure you drop the \"Unnamed: 0\" column, if any.\n",
    "2. Perform an **exploratory analysis**:\n",
    "    - Report and discuss the results of the analysis\n",
    "3. Carry out a **classification analysis** aimed at predicting the **experimental class** considering the following setting:\n",
    "    - Apply a 10-fold cross-validation procedure on the dataset to identify the most suitable classifier among the following:\n",
    "        - KNearestNeighbor classifier (default params)\n",
    "        - LogisticRegression classifier (default params)\n",
    "    - Repeat the previous step, by also applying a PCA aimed at selecting the number of components such that the amount of variance explained is greater than 50%.\n",
    "    - Provide an indication of how many components, on average, are found by the PCA.\n",
    "    - Report and discuss the results, motivating the choice of the most suitable model.\n",
    "4. Carry out the **inference process** on an input instance:\n",
    "    - Train the selected model on the whole dataset: *phpGUrE90_rev.csv*\n",
    "    - Import the single input instance: *my_mol.csv*\n",
    "    - Perform inference on the input instance. Is the prediction correct?\n",
    "\n",
    "**Note**: use markdown cells to provide discussion on code output.\n",
    "\n",
    "# Exam Delivery\n",
    "- Save the current file \n",
    "- Click \"**Restart & Run All**\" and check consistency (no error, expected results)\n",
    "- Export using\n",
    "     - \"**File**\" --> \"**Download as**\" --> \"**HTML (.html)**\"\n",
    "- Upload the following file in MS Teams Assignment\n",
    "     - HTML: *Surname_Name_StudentNumber.html*\n",
    "     - IPYNB: *Surname_Name_StudentNumber.ipynb* \n",
    "     \n",
    "# Code of conduct\n",
    "- You can consult the course material (notebooks and slides)\n",
    "- You can consult the official documentation of the libraries\n",
    "- You cannot use generative AI tools (e.g., ChatGPT)\n",
    "- Any form of information leakage between candidates is not allowed: if this is ascertained, exam failure is automatic."
   ]
  },
  {
   "cell_type": "markdown",
   "id": "30171bc5",
   "metadata": {},
   "source": [
    "# 1. Import the training set: *phpGUrE90_rev.csv*\n",
    "- Be sure you drop the \"Unnamed: 0\" column, if any.\n"
   ]
  },
  {
   "cell_type": "code",
   "execution_count": 1,
   "id": "7bc1e477",
   "metadata": {},
   "outputs": [],
   "source": [
    "#TODO"
   ]
  },
  {
   "cell_type": "markdown",
   "id": "6193b5ee",
   "metadata": {},
   "source": [
    "# 2. Perform an **exploratory analysis**\n",
    "- Report and discuss the results of the analysis.\n",
    "\n"
   ]
  },
  {
   "cell_type": "code",
   "execution_count": 2,
   "id": "ea7f2c69",
   "metadata": {},
   "outputs": [],
   "source": [
    "#TODO"
   ]
  },
  {
   "cell_type": "markdown",
   "id": "26a0ffc0",
   "metadata": {},
   "source": [
    "# 3. Carry out a **classification analysis** aimed at predicting the **experimental class** considering the following setting:\n",
    "- Apply a 10-fold cross-validation procedure on the dataset to identify the most suitable classifier among the following:\n",
    "    - KNearestNeighbor classifier (default params)\n",
    "    - LogisticRegression classifier (default params)\n",
    "- Repeat the previous step, by also applying a PCA aimed at selecting the number of components such that the amount of variance explained is greater than 50%.\n",
    "- Provide an indication of how many components, on average, are found by the PCA.\n",
    "- Report and discuss the results, motivating the choice of the most suitable model.\n"
   ]
  },
  {
   "cell_type": "code",
   "execution_count": 3,
   "id": "db2cfaa1",
   "metadata": {},
   "outputs": [],
   "source": [
    "#TODO"
   ]
  },
  {
   "cell_type": "markdown",
   "id": "f2be5930-da8c-4ec0-866d-af4fcb6679e9",
   "metadata": {},
   "source": [
    "# 4. Carry out the **inference process** on an input instance:\n",
    "- Train the selected model on the whole dataset: *phpGUrE90_rev.csv*\n",
    "- Import the single input instance: *my_mol.csv*\n",
    "- Perform inference on the input instance. Is the prediction correct?"
   ]
  },
  {
   "cell_type": "code",
   "execution_count": 4,
   "id": "7f0c4fed-c9e8-4516-8230-e6b80dddadb6",
   "metadata": {},
   "outputs": [],
   "source": [
    "#TODO"
   ]
  },
  {
   "cell_type": "markdown",
   "id": "8562efb0",
   "metadata": {
    "jp-MarkdownHeadingCollapsed": true
   },
   "source": [
    "# Exam Delivery\n",
    "- Save the current file \n",
    "- Click \"**Restart & Run All**\" and check consistency (no error, expected results)\n",
    "- Export using\n",
    "     - \"**File**\" --> \"**Download as**\" --> \"**HTML (.html)**\"\n",
    "- Upload the following file in MS Teams Assignment\n",
    "     - HTML: *Surname_Name_StudentNumber.html*\n",
    "     - IPYNB: *Surname_Name_StudentNumber.ipynb* \n",
    "     \n"
   ]
  }
 ],
 "metadata": {
  "kernelspec": {
   "display_name": "Python 3 (ipykernel)",
   "language": "python",
   "name": "python3"
  },
  "language_info": {
   "codemirror_mode": {
    "name": "ipython",
    "version": 3
   },
   "file_extension": ".py",
   "mimetype": "text/x-python",
   "name": "python",
   "nbconvert_exporter": "python",
   "pygments_lexer": "ipython3",
   "version": "3.11.5"
  }
 },
 "nbformat": 4,
 "nbformat_minor": 5
}

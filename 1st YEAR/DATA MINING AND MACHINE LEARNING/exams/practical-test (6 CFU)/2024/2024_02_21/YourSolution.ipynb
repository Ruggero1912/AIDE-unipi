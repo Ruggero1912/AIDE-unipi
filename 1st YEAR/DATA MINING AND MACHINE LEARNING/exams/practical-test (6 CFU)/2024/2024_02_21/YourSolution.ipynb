{
 "cells": [
  {
   "cell_type": "markdown",
   "id": "bba3e9a8",
   "metadata": {},
   "source": [
    "# DMML exam: 2024-02-21"
   ]
  },
  {
   "cell_type": "markdown",
   "id": "7c8fb6a0",
   "metadata": {},
   "source": [
    "The Framingham dataset stems from a cardiovascular study on residents of the town of Framingham, Massachusetts, US.\n",
    "\n",
    "The **classification goal** is to predict whether the patient has **10-year risk of future coronary heart disease** (CHD) based on the following attributes:\n",
    "\n",
    "- Demographic:\n",
    "    - *Male*: {0,1}\n",
    "    - *Age*: Age of the patient\n",
    "- Behavioral:\n",
    "    - *Current Smoker*: whether or not the patient is a current smoker {0,1}\n",
    "    - *Cigs Per Day*: the number of cigarettes that the person smoked on average in one day.\n",
    "- Information on medical history:\n",
    "    - *BP Meds*: whether or not the patient was on blood pressure medication {0,1}\n",
    "    - *Prevalent Stroke*: whether or not the patient had previously had a stroke {0,1}\n",
    "    - *Prevalent Hyp*: whether or not the patient was hypertensive {0,1}\n",
    "    - *Diabetes*: whether or not the patient had diabetes {0,1}\n",
    "- Information on current medical condition:\n",
    "    - *Tot Chol*: total cholesterol level \n",
    "    - *Sys BP*: systolic blood pressure \n",
    "    - *Dia BP*: diastolic blood pressure \n",
    "    - *BMI*: Body Mass Index \n",
    "    - *Heart Rate*: heart rate\n",
    "    - *Glucose*: glucose level \n",
    "- Target variable to predict:\n",
    "    - *TenYearCHD*: 10 year risk of coronary heart disease (CHD) {0=NO,1=YES}"
   ]
  },
  {
   "cell_type": "markdown",
   "id": "96c5c6f8",
   "metadata": {},
   "source": [
    "# Instructions summary\n",
    "1. Import the training set: *framingham_train.csv*\n",
    "2. Perform an **exploratory analysis**:\n",
    "    - Report and discuss the results of the analysis\n",
    "3. Perform the **required preprocessing steps** and carry out a **classification analysis** aimed at predicting the **TenYearCHD** considering the following setting:\n",
    "    - Apply a 10-fold cross-validation procedure on the dataset to identify the most suitable classifier among the following:\n",
    "        - DecisionTree classifier \n",
    "        - DecisionTree classifier after random undersampling. Let $\\gamma$ be the desired ratio of the number of samples in the minority class over the number of samples in the majority class after resampling. Set $\\gamma=0.5$. \n",
    "    - Report and discuss the results, motivating the choice of the most suitable model\n",
    "4. Evaluate and discuss results on the test set:\n",
    "    - Train the selected model on the training set: *framingham_train.csv*\n",
    "    - Import the test set: *framingham_test.csv*\n",
    "    - Report and discuss the results on the test set\n",
    "\n",
    "**Note**: use markdown cells to provide discussion on code output.\n",
    "\n",
    "# Exam Delivery\n",
    "- Save the current file \n",
    "- Click \"**Restart & Run All**\" and check consistency (no error, expected results)\n",
    "- Export using\n",
    "     - \"**File**\" --> \"**Download as**\" --> \"**HTML (.html)**\"\n",
    "- Rename the files as follows and upload in MS Teams Assignment\n",
    "     - HTML: *Surname_Name_StudentNumber.html*\n",
    "     - IPYNB: *Surname_Name_StudentNumber.ipynb* \n",
    "     \n",
    "# Code of conduct\n",
    "- You can consult the course material (notebooks and slides)\n",
    "- You can consult the official documentation of the libraries\n",
    "- You cannot use generative AI tools (e.g., ChatGPT)\n",
    "- Any form of information leakage between candidates is not allowed: if this is ascertained, exam failure is automatic.\n"
   ]
  },
  {
   "cell_type": "markdown",
   "id": "30171bc5",
   "metadata": {},
   "source": [
    "# 1. Import the training set: *framingham_train.csv*\n",
    "\n"
   ]
  },
  {
   "cell_type": "code",
   "execution_count": 1,
   "id": "7bc1e477",
   "metadata": {},
   "outputs": [],
   "source": [
    "# TODO"
   ]
  },
  {
   "cell_type": "markdown",
   "id": "6193b5ee",
   "metadata": {},
   "source": [
    "# 2. Perform an **exploratory analysis**\n",
    "- Report and discuss the results of the analysis.\n",
    "\n"
   ]
  },
  {
   "cell_type": "code",
   "execution_count": 2,
   "id": "ea7f2c69",
   "metadata": {},
   "outputs": [],
   "source": [
    "# TODO"
   ]
  },
  {
   "cell_type": "markdown",
   "id": "26a0ffc0",
   "metadata": {},
   "source": [
    "# 3. Perform the **required preprocessing steps** and carry out a **classification analysis** aimed at predicting the **microorganism** considering the following setting:\n",
    "- Apply a 10-fold cross-validation procedure on the dataset to identify the most suitable classifier among the following:\n",
    "    - DecisionTree classifier \n",
    "    - DecisionTree classifier after random undersampling. Let $\\gamma$ be the desired ratio of the number of samples in the minority class over the number of samples in the majority class after resampling. Set $\\gamma=0.5$. \n",
    "- Report and discuss the results, motivating the choice of the most suitable model"
   ]
  },
  {
   "cell_type": "code",
   "execution_count": 3,
   "id": "db2cfaa1",
   "metadata": {},
   "outputs": [],
   "source": [
    "# TODO"
   ]
  },
  {
   "cell_type": "markdown",
   "id": "f2be5930-da8c-4ec0-866d-af4fcb6679e9",
   "metadata": {},
   "source": [
    "# 4. Evaluate and discuss results on the test set:\n",
    "- Train the selected model on the training set: *framingham_train.csv*\n",
    "- Import the test set: *framingham_test.csv*\n",
    "- Report and discuss the results on the test set"
   ]
  },
  {
   "cell_type": "code",
   "execution_count": 4,
   "id": "9bf20472-9157-4e4a-9035-7274548212ee",
   "metadata": {},
   "outputs": [],
   "source": [
    "# TODO"
   ]
  },
  {
   "cell_type": "markdown",
   "id": "8562efb0",
   "metadata": {},
   "source": [
    "# Exam Delivery\n",
    "- Save the current file \n",
    "- Click \"**Restart & Run All**\" and check consistency (no error, expected results)\n",
    "- Export using\n",
    "     - \"**File**\" --> \"**Download as**\" --> \"**HTML (.html)**\"\n",
    "- Rename the files as follows and upload in MS Teams Assignment\n",
    "     - HTML: *Surname_Name_StudentNumber.html*\n",
    "     - IPYNB: *Surname_Name_StudentNumber.ipynb* \n"
   ]
  }
 ],
 "metadata": {
  "kernelspec": {
   "display_name": "Python 3 (ipykernel)",
   "language": "python",
   "name": "python3"
  },
  "language_info": {
   "codemirror_mode": {
    "name": "ipython",
    "version": 3
   },
   "file_extension": ".py",
   "mimetype": "text/x-python",
   "name": "python",
   "nbconvert_exporter": "python",
   "pygments_lexer": "ipython3",
   "version": "3.11.5"
  }
 },
 "nbformat": 4,
 "nbformat_minor": 5
}

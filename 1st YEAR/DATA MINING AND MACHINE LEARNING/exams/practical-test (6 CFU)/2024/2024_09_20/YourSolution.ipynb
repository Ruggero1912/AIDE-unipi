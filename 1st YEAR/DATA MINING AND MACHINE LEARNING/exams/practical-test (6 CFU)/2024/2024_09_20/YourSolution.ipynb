{
 "cells": [
  {
   "cell_type": "markdown",
   "id": "bba3e9a8",
   "metadata": {},
   "source": [
    "# DMML exam: 2024-09-20"
   ]
  },
  {
   "cell_type": "markdown",
   "id": "7c8fb6a0",
   "metadata": {},
   "source": [
    "The **DARWIN_LITE** dataset contains handwriting data collected according to an acquisition protocol designed for the early detection of Alzheimer’s disease (AD). Here we consider just 5 handwriting tasks.\n",
    "\n",
    "- The dataset includes data from 174 participants (89 AD patients and 85 healthy people).\n",
    "- The file consists of one row for each participant plus an additional header row: the first row is the header row, the next 89 rows collect patients data, whereas the remaining 84 rows collect information from healthy people.\n",
    "- The file consists of 32 columns. The first column shows participants' identifiers, whereas the last column shows the class to which each participant belongs.  This value can be equal to  'P' (Patient) or 'H' (Healthy).\n",
    "- The remaining columns report the features extracted from a specific task. The tasks performed are 5, and for each task 6 features have been extracted. The column will be identified by the name of the features followed by a numeric identifier representing the task the feature is extracted. "
   ]
  },
  {
   "cell_type": "markdown",
   "id": "4752e75b-2be2-4cb6-9afa-680906244459",
   "metadata": {},
   "source": [
    "**The objective of the exercise is to determine the class of a subject, i.e. patient (P) or healthy (H)**"
   ]
  },
  {
   "cell_type": "markdown",
   "id": "26a8dfb2-ca50-430e-b445-30fc3cefd5dd",
   "metadata": {},
   "source": [
    "We have **5 handwriting tasks**. For each task *i*, the following **6 numerical features** are recorded:\n",
    "- air_time*i*: Time spent to perform in-air movements.\n",
    "- num_of_pendown*i*: Counts the total number of pendowns recorded during the execution of the entire task \n",
    "- paper_time*i*: Time spent to perform on-paper movements.\n",
    "- pressure_mean*i*: Average of the pressure levels exerted by the pen tip.\n",
    "- pressure_var*i*: Variance of the pressure levels exerted by the pen tip.\n",
    "- total_time*i*: Total time spent to perform the entire task.\n",
    "\n",
    "For example, the column with the header \"total_time2\" collects the values for the \"total time\" feature extracted from task #2."
   ]
  },
  {
   "cell_type": "markdown",
   "id": "96c5c6f8",
   "metadata": {
    "jp-MarkdownHeadingCollapsed": true
   },
   "source": [
    "# Instructions summary\n",
    "0. Rename this file as: *Surname_Name_StudentNumber.ipynb*\n",
    "1. Import the training set: *darwin_lite.csv*\n",
    "2. Perform an **exploratory analysis**:\n",
    "    - Report and discuss the results of the analysis\n",
    "3. Carry out a **classification analysis** aimed at predicting the **class** considering the following setting:\n",
    "    - each evaluation should be performed using 5-fold cross-validation and using KNearestNeighbor as a classifier, with default paramaters. Three different scenarios should be considered, with different input\n",
    "        - A) input: the whole feature space\n",
    "        - B) input: just 6 features, considering a single task (you can also choose one at random.)\n",
    "        - C) input: 6 components extracted by applying PCA. Indicate the percentage of variance explained by the selected components on average (i.e. over cross-validation iterations).\n",
    "    - Report and discuss the results, motivating the choice of the most suitable model.\n",
    "4. Evaluate and discuss results on a new sample:\n",
    "    - Train the selected model on the training set: *darwin_lite.csv*\n",
    "    - Import the sample data: *subject_lite.csv*\n",
    "    - What is the class predicted for the new subject?\n",
    "\n",
    "**Note**: use markdown cells to provide discussion on code output.\n",
    "\n",
    "# Exam Delivery\n",
    "- Save the current file \n",
    "- Click \"**Restart & Run All**\" and check consistency (no error, expected results)\n",
    "- Export using\n",
    "     - \"**File**\" --> \"**Download as**\" --> \"**HTML (.html)**\"\n",
    "- Upload the following file in MS Teams Assignment\n",
    "     - HTML: *Surname_Name_StudentNumber.html*\n",
    "     - IPYNB: *Surname_Name_StudentNumber.ipynb* \n",
    "     \n",
    "# Code of conduct\n",
    "- You can consult the course material (notebooks and slides)\n",
    "- You can consult the official documentation of the libraries\n",
    "- You cannot use generative AI tools (e.g., ChatGPT)\n",
    "- Any form of information leakage between candidates is not allowed: if this is ascertained, exam failure is automatic."
   ]
  },
  {
   "cell_type": "markdown",
   "id": "30171bc5",
   "metadata": {},
   "source": [
    "# 1. Import the training set: *darwin_lite.csv*\n"
   ]
  },
  {
   "cell_type": "code",
   "execution_count": 1,
   "id": "7bc1e477",
   "metadata": {},
   "outputs": [],
   "source": [
    "# TODO"
   ]
  },
  {
   "cell_type": "markdown",
   "id": "6193b5ee",
   "metadata": {},
   "source": [
    "# 2. Perform an **exploratory analysis**\n",
    "- Report and discuss the results of the analysis.\n",
    "\n"
   ]
  },
  {
   "cell_type": "code",
   "execution_count": 2,
   "id": "4024bb85-9e7b-4b61-9203-2c81c367d494",
   "metadata": {},
   "outputs": [],
   "source": [
    "# TODO"
   ]
  },
  {
   "cell_type": "markdown",
   "id": "26a0ffc0",
   "metadata": {},
   "source": [
    "# 3. Carry out a **classification analysis** aimed at predicting the **class** considering the following setting:\n",
    "- each evaluation should be performed using 5-fold cross-validation and using KNearestNeighbor as a classifier, with default paramaters. Three different scenarios should be considered, with different input data.\n",
    "    - A) input: the whole feature space\n",
    "    - B) input: all the features of just one single task (you can choose one task at random)\n",
    "    - C) input: 6 components extracted by applying PCA. Indicate the overall percentage of variance explained by the selected components on average (i.e., by averaging over cross-validation iterations).\n",
    "- Report and discuss the results, motivating the choice of the most suitable model.\n"
   ]
  },
  {
   "cell_type": "code",
   "execution_count": 3,
   "id": "a9c34623",
   "metadata": {},
   "outputs": [],
   "source": [
    "# TODO"
   ]
  },
  {
   "cell_type": "markdown",
   "id": "f2be5930-da8c-4ec0-866d-af4fcb6679e9",
   "metadata": {},
   "source": [
    "# 4. Evaluate and discuss results on a new sample:\n",
    "- Train the selected model on the training set: *darwin_lite.csv*\n",
    "- Import the sample data: *subject_lite.csv*\n",
    "- What is the class predicted for the new subject?"
   ]
  },
  {
   "cell_type": "code",
   "execution_count": 4,
   "id": "9bf20472-9157-4e4a-9035-7274548212ee",
   "metadata": {},
   "outputs": [],
   "source": [
    "# TODO"
   ]
  },
  {
   "cell_type": "markdown",
   "id": "8562efb0",
   "metadata": {
    "jp-MarkdownHeadingCollapsed": true
   },
   "source": [
    "# Exam Delivery\n",
    "- Save the current file \n",
    "- Click \"**Restart & Run All**\" and check consistency (no error, expected results)\n",
    "- Export using\n",
    "     - \"**File**\" --> \"**Download as**\" --> \"**HTML (.html)**\"\n",
    "- Upload the following file in MS Teams Assignment\n",
    "     - HTML: *Surname_Name_StudentNumber.html*\n",
    "     - IPYNB: *Surname_Name_StudentNumber.ipynb* \n",
    "     \n"
   ]
  }
 ],
 "metadata": {
  "kernelspec": {
   "display_name": "Python 3 (ipykernel)",
   "language": "python",
   "name": "python3"
  },
  "language_info": {
   "codemirror_mode": {
    "name": "ipython",
    "version": 3
   },
   "file_extension": ".py",
   "mimetype": "text/x-python",
   "name": "python",
   "nbconvert_exporter": "python",
   "pygments_lexer": "ipython3",
   "version": "3.11.9"
  }
 },
 "nbformat": 4,
 "nbformat_minor": 5
}

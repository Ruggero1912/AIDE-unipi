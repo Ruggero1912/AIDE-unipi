{
 "cells": [
  {
   "cell_type": "markdown",
   "metadata": {},
   "source": [
    "# Table of Contents:\n",
    "- [Variables and types](#Variables-and-types)\n",
    "    - [Variables key concepts](#Variables-key-concepts)\n",
    "- [Transformations](#Transformations)\n",
    "- [Built in Data Types](#Built-in-Data-Types)\n",
    "    - [Numerics](#Numerics)\n",
    "    - [Strings](#Text-sequence-type)\n",
    "    - [Sequences](#Sequences)\n",
    "    - [Mappings](#Mappings---dict) (dictionary)\n",
    "    - [Set](#Set)\n",
    "    - [Exceptions](#Exceptions)\n",
    "- [Mutable vs Immutable Objects](#Mutable-vs-Immutable-Objects)"
   ]
  },
  {
   "cell_type": "markdown",
   "metadata": {},
   "source": [
    "# Variables and types\n",
    "\n",
    "In python, every object has an **identity**, a **type** and a **value**\n",
    "- **Identity**: defined at creation (obj’s address in memory). It can be known by invoking `id(x)`;\n",
    "- **Type**: defines possible values/operations for the obj;\n",
    "- **Value**: it can be *mutable* or *immutable*, depending on the fact it can be changed or not, according to the type. Changes to mutable objects can be done *in place*, i.e. without altering its identity."
   ]
  },
  {
   "cell_type": "code",
   "execution_count": 56,
   "metadata": {
    "ExecuteTime": {
     "end_time": "2020-06-19T13:05:45.329721Z",
     "start_time": "2020-06-19T13:05:45.317701Z"
    }
   },
   "outputs": [
    {
     "name": "stdout",
     "output_type": "stream",
     "text": [
      "6\n"
     ]
    }
   ],
   "source": [
    "x = 2\n",
    "y = 4\n",
    "z = x + y\n",
    "print(z) # print statement"
   ]
  },
  {
   "cell_type": "markdown",
   "metadata": {
    "id": "uwLxYtBbkx03"
   },
   "source": [
    "**Note:** No type declaration is required in Python: **\"If it walks like a duck, and it quacks like a duck, then we would call it a duck”**\n",
    "- Type info is associated with objects, not with referencing variables!\n",
    "- This is “duck typing”, widely used in scripting languages.\n",
    "\n",
    "The type of a variable is not statically known (e.g. in its declaration as in Java, C, C++). **The type of a variable depends on its current value.**"
   ]
  },
  {
   "cell_type": "code",
   "execution_count": 57,
   "metadata": {},
   "outputs": [
    {
     "name": "stdout",
     "output_type": "stream",
     "text": [
      "<class 'float'>\n",
      "<class 'int'>\n"
     ]
    }
   ],
   "source": [
    "my_var = 12.2\n",
    "print(type(my_var))\n",
    "my_var = 1\n",
    "print(type(my_var))"
   ]
  },
  {
   "cell_type": "code",
   "execution_count": 58,
   "metadata": {},
   "outputs": [
    {
     "data": {
      "text/plain": [
       "10"
      ]
     },
     "execution_count": 58,
     "metadata": {},
     "output_type": "execute_result"
    }
   ],
   "source": [
    "my_var1 = 10 # plain assignment\n",
    "my_var1"
   ]
  },
  {
   "cell_type": "code",
   "execution_count": 59,
   "metadata": {},
   "outputs": [
    {
     "data": {
      "text/plain": [
       "20"
      ]
     },
     "execution_count": 59,
     "metadata": {},
     "output_type": "execute_result"
    }
   ],
   "source": [
    "my_var1 += 10 # augmented assignment: allowed only with already existing targets\n",
    "my_var1"
   ]
  },
  {
   "cell_type": "markdown",
   "metadata": {},
   "source": [
    "**Note**: the character '#' in python denotes the start of a comment. In the first code cell above we have used it for enriching the last statement with its description.\n",
    "* Comments are ignored by the computer processing your code\n",
    "* They are intended to help future programmers understand the code, including future you\n"
   ]
  },
  {
   "cell_type": "code",
   "execution_count": 60,
   "metadata": {},
   "outputs": [],
   "source": [
    "# I'm a single-line comment (starting with the '#' character)"
   ]
  },
  {
   "cell_type": "markdown",
   "metadata": {},
   "source": [
    "## Variables key concepts\n"
   ]
  },
  {
   "cell_type": "markdown",
   "metadata": {},
   "source": [
    "- **acting on a variable means acting on its stored data**"
   ]
  },
  {
   "cell_type": "code",
   "execution_count": 61,
   "metadata": {},
   "outputs": [],
   "source": [
    "# define some variables\n",
    "number = 5\n",
    "text = \"Hello\""
   ]
  },
  {
   "cell_type": "code",
   "execution_count": 62,
   "metadata": {},
   "outputs": [
    {
     "name": "stdout",
     "output_type": "stream",
     "text": [
      "HelloHelloHelloHelloHello\n"
     ]
    }
   ],
   "source": [
    "print(number * text)"
   ]
  },
  {
   "cell_type": "code",
   "execution_count": 63,
   "metadata": {},
   "outputs": [
    {
     "name": "stdout",
     "output_type": "stream",
     "text": [
      "HELLO\n"
     ]
    }
   ],
   "source": [
    "print(text.upper())"
   ]
  },
  {
   "cell_type": "markdown",
   "metadata": {},
   "source": [
    "- **variables can capture returned values**"
   ]
  },
  {
   "cell_type": "code",
   "execution_count": 64,
   "metadata": {},
   "outputs": [
    {
     "data": {
      "text/plain": [
       "30"
      ]
     },
     "execution_count": 64,
     "metadata": {},
     "output_type": "execute_result"
    }
   ],
   "source": [
    "answer = 5 + number ** 2\n",
    "answer"
   ]
  },
  {
   "cell_type": "markdown",
   "metadata": {},
   "source": [
    "# Transformations\n",
    "\n",
    "Transformations come in three major flavors\n",
    "- Operators\n",
    "- Functions\n",
    "- Methods\n",
    "\n",
    "Each transformation has several key properties\n",
    "* It may take some input data, called the argument(s)\n",
    "* It may return some output data"
   ]
  },
  {
   "cell_type": "markdown",
   "metadata": {},
   "source": [
    "### Operators\n",
    "\n",
    "* Operators are usually represented by symbols (sometimes short words)\n",
    "* An operator's arguments are arranged around the symbol\n"
   ]
  },
  {
   "cell_type": "code",
   "execution_count": 65,
   "metadata": {
    "scrolled": true
   },
   "outputs": [
    {
     "data": {
      "text/plain": [
       "3"
      ]
     },
     "execution_count": 65,
     "metadata": {},
     "output_type": "execute_result"
    }
   ],
   "source": [
    "# the addition operator takes two numbers as input and returns their sum\n",
    "1 + 2"
   ]
  },
  {
   "cell_type": "markdown",
   "metadata": {},
   "source": [
    "### Functions\n",
    "- A function is identified by a name\n",
    "- The function is called by adding `()` after the name\n",
    "- The function's arguments are provided (\"passed\") inside the `()`s"
   ]
  },
  {
   "cell_type": "markdown",
   "metadata": {},
   "source": [
    "We will discuss function in details in the next notebooks. Let's just discuss some examples."
   ]
  },
  {
   "cell_type": "code",
   "execution_count": 66,
   "metadata": {},
   "outputs": [
    {
     "data": {
      "text/plain": [
       "-20"
      ]
     },
     "execution_count": 66,
     "metadata": {},
     "output_type": "execute_result"
    }
   ],
   "source": [
    "# min( ) returns the item with the lowest value\n",
    "min(4, 2, -1, 7, -20)"
   ]
  },
  {
   "cell_type": "markdown",
   "metadata": {},
   "source": [
    "`print( )` is a very important function: It writes its arguments to the screen (making it human-readable.\n",
    "- Jupyter shows us `return` values (the last one of each cell, by default) as `Out[]` blocks\n",
    "- In scripted code, only the computer sees these and print helps us monitor its behaviour\n"
   ]
  },
  {
   "cell_type": "code",
   "execution_count": 67,
   "metadata": {},
   "outputs": [
    {
     "name": "stdout",
     "output_type": "stream",
     "text": [
      "I am a string with a result: 46 a\tI am a string with a result: 46 a\n"
     ]
    }
   ],
   "source": [
    "print(\"I am a string with a result:\", 23 * 2, 'a', end = '\\t')\n",
    "print(\"I am a string with a result:\", 23 * 2, 'a')"
   ]
  },
  {
   "cell_type": "markdown",
   "metadata": {},
   "source": [
    "### Methods\n",
    "\n",
    "- Methods are functions that belong to data of a certain type.\n",
    "- They tend to perform functions that are specifically relevant to that data.\n",
    "- Methods can be identified by their `.` (dot) syntax."
   ]
  },
  {
   "cell_type": "code",
   "execution_count": 68,
   "metadata": {},
   "outputs": [
    {
     "data": {
      "text/plain": [
       "(True, False)"
      ]
     },
     "execution_count": 68,
     "metadata": {},
     "output_type": "execute_result"
    }
   ],
   "source": [
    "# is_integer() returns True if the float instance is finite with integral value, and False otherwise\n",
    "my_var1 = 1024.0\n",
    "my_var2 = 1024.1\n",
    "my_var1.is_integer(), my_var2.is_integer()"
   ]
  },
  {
   "cell_type": "markdown",
   "metadata": {
    "id": "Z-ew6fVc2bdO"
   },
   "source": [
    "# Built-in Data Types"
   ]
  },
  {
   "cell_type": "markdown",
   "metadata": {
    "id": "U_e3kvKFWAm8"
   },
   "source": [
    "### Numerics\n",
    "  - Integers\n",
    "  - Floating-Point numbers\n",
    "  - Complex Numbers\n",
    "  \n"
   ]
  },
  {
   "cell_type": "code",
   "execution_count": 69,
   "metadata": {
    "colab": {
     "base_uri": "https://localhost:8080/"
    },
    "id": "R6gdMLVKs77J",
    "outputId": "dafe4017-0999-47b5-f268-ac8afefc3b72"
   },
   "outputs": [
    {
     "name": "stdout",
     "output_type": "stream",
     "text": [
      "<class 'float'>\n",
      "1381549970768\n",
      "<class 'int'>\n",
      "140721019909928\n"
     ]
    }
   ],
   "source": [
    "x = 1.0 # assignment statement\n",
    "print(type(x)) \n",
    "print(id(x))\n",
    "z = 33\n",
    "print(type(z))\n",
    "print(id(z))"
   ]
  },
  {
   "cell_type": "code",
   "execution_count": 70,
   "metadata": {
    "colab": {
     "base_uri": "https://localhost:8080/"
    },
    "id": "rHUsdPXM3muo",
    "outputId": "711f8cdc-b6a0-4967-ff95-6f7744625e81"
   },
   "outputs": [
    {
     "data": {
      "text/plain": [
       "(float, 34.0)"
      ]
     },
     "execution_count": 70,
     "metadata": {},
     "output_type": "execute_result"
    }
   ],
   "source": [
    "type(z + x), z + x"
   ]
  },
  {
   "cell_type": "markdown",
   "metadata": {},
   "source": [
    " ### Casting"
   ]
  },
  {
   "cell_type": "code",
   "execution_count": 71,
   "metadata": {},
   "outputs": [
    {
     "name": "stdout",
     "output_type": "stream",
     "text": [
      "2.5 <class 'float'>\n"
     ]
    }
   ],
   "source": [
    "x = 2.5\n",
    "print(x, type(x))"
   ]
  },
  {
   "cell_type": "code",
   "execution_count": 72,
   "metadata": {},
   "outputs": [
    {
     "name": "stdout",
     "output_type": "stream",
     "text": [
      "2 <class 'int'>\n"
     ]
    }
   ],
   "source": [
    "x = int(x)\n",
    "print(x, type(x))"
   ]
  },
  {
   "cell_type": "code",
   "execution_count": 73,
   "metadata": {},
   "outputs": [
    {
     "name": "stdout",
     "output_type": "stream",
     "text": [
      "True <class 'bool'>\n"
     ]
    }
   ],
   "source": [
    "x = bool(x)\n",
    "print(x, type(x))"
   ]
  },
  {
   "cell_type": "markdown",
   "metadata": {},
   "source": [
    "### Arithmetic Operators"
   ]
  },
  {
   "cell_type": "markdown",
   "metadata": {
    "ExecuteTime": {
     "end_time": "2020-03-09T13:43:20.109395Z",
     "start_time": "2020-03-09T13:43:20.045056Z"
    }
   },
   "source": [
    "`+`, `-`, `*`, `/`, `//` (integer division), `**` (power)"
   ]
  },
  {
   "cell_type": "code",
   "execution_count": 74,
   "metadata": {},
   "outputs": [
    {
     "data": {
      "text/plain": [
       "1.3636363636363635"
      ]
     },
     "execution_count": 74,
     "metadata": {},
     "output_type": "execute_result"
    }
   ],
   "source": [
    "3.0 / 2.2"
   ]
  },
  {
   "cell_type": "code",
   "execution_count": 75,
   "metadata": {},
   "outputs": [
    {
     "data": {
      "text/plain": [
       "1.0"
      ]
     },
     "execution_count": 75,
     "metadata": {},
     "output_type": "execute_result"
    }
   ],
   "source": [
    "3.0 // 2.2"
   ]
  },
  {
   "cell_type": "markdown",
   "metadata": {},
   "source": [
    "### Comparison operators"
   ]
  },
  {
   "cell_type": "markdown",
   "metadata": {},
   "source": [
    "---\n",
    "\n",
    ">Meaning | Symbol\n",
    ">--- | ---\n",
    ">Less than: | <\n",
    ">Greater than\t|\t>\n",
    ">Less than or equal |\t<=\n",
    ">Greater than or equal |\t>=\n",
    ">Equality\t|\t==\n",
    ">Inequality\t|\t!=\n",
    ">Identity\t|\tis\n"
   ]
  },
  {
   "cell_type": "code",
   "execution_count": 76,
   "metadata": {},
   "outputs": [],
   "source": [
    "# objects identical?\n",
    "l1 = l2 = [1,2]"
   ]
  },
  {
   "cell_type": "code",
   "execution_count": 77,
   "metadata": {},
   "outputs": [
    {
     "data": {
      "text/plain": [
       "True"
      ]
     },
     "execution_count": 77,
     "metadata": {},
     "output_type": "execute_result"
    }
   ],
   "source": [
    "# identity check\n",
    "l1 is l2"
   ]
  },
  {
   "cell_type": "code",
   "execution_count": 78,
   "metadata": {},
   "outputs": [
    {
     "data": {
      "text/plain": [
       "True"
      ]
     },
     "execution_count": 78,
     "metadata": {},
     "output_type": "execute_result"
    }
   ],
   "source": [
    "# equality check\n",
    "l1 == l2"
   ]
  },
  {
   "cell_type": "code",
   "execution_count": 79,
   "metadata": {},
   "outputs": [
    {
     "name": "stdout",
     "output_type": "stream",
     "text": [
      "1381550347200\n",
      "1381550347200\n"
     ]
    }
   ],
   "source": [
    "print(id(l1))\n",
    "print(id(l2))"
   ]
  },
  {
   "cell_type": "code",
   "execution_count": 80,
   "metadata": {},
   "outputs": [],
   "source": [
    "# objects identical?\n",
    "l1 = [1, 2]\n",
    "l2 = [1, 2]"
   ]
  },
  {
   "cell_type": "code",
   "execution_count": 81,
   "metadata": {},
   "outputs": [
    {
     "data": {
      "text/plain": [
       "False"
      ]
     },
     "execution_count": 81,
     "metadata": {},
     "output_type": "execute_result"
    }
   ],
   "source": [
    "# identity check\n",
    "l1 is l2"
   ]
  },
  {
   "cell_type": "code",
   "execution_count": 82,
   "metadata": {},
   "outputs": [
    {
     "data": {
      "text/plain": [
       "True"
      ]
     },
     "execution_count": 82,
     "metadata": {},
     "output_type": "execute_result"
    }
   ],
   "source": [
    "# equality check\n",
    "l1 == l2"
   ]
  },
  {
   "cell_type": "code",
   "execution_count": 83,
   "metadata": {
    "scrolled": true
   },
   "outputs": [
    {
     "name": "stdout",
     "output_type": "stream",
     "text": [
      "1381550652352\n",
      "1381550517248\n"
     ]
    }
   ],
   "source": [
    "print(id(l1))\n",
    "print(id(l2))"
   ]
  },
  {
   "cell_type": "markdown",
   "metadata": {
    "id": "8NWykay2tQdf"
   },
   "source": [
    "### Text sequence type\n",
    "  - **strings**: you can define a string by enclosing it with double quotes (\") or single quotes (') \n",
    "\n"
   ]
  },
  {
   "cell_type": "code",
   "execution_count": 84,
   "metadata": {
    "colab": {
     "base_uri": "https://localhost:8080/"
    },
    "id": "TAZuc8UjtPQB",
    "outputId": "b426a623-34ff-44d0-910a-003a9fabdde3",
    "scrolled": true
   },
   "outputs": [
    {
     "name": "stdout",
     "output_type": "stream",
     "text": [
      "<class 'str'>\n",
      "6\n"
     ]
    }
   ],
   "source": [
    "a = \"foobar\"\n",
    "print(type(a))\n",
    "print(len(a))  # returns the length of the string"
   ]
  },
  {
   "cell_type": "markdown",
   "metadata": {
    "id": "f5TG2IxYVSpK"
   },
   "source": [
    "How to format strings in python? see [here](https://pyformat.info/) and [here](https://www.python.org/dev/peps/pep-0498/)\n",
    "*   `f-string`: a concise, readable way to include the value of Python expressions inside strings.\n",
    "\n",
    "\n"
   ]
  },
  {
   "cell_type": "code",
   "execution_count": 85,
   "metadata": {},
   "outputs": [],
   "source": [
    "accuracy = 97.9999\n",
    "error_rate = 0.03"
   ]
  },
  {
   "cell_type": "code",
   "execution_count": 86,
   "metadata": {
    "colab": {
     "base_uri": "https://localhost:8080/"
    },
    "id": "zC77rm4x7HRQ",
    "outputId": "965ddeee-e376-4c4f-9179-d6b812d7219d"
   },
   "outputs": [
    {
     "name": "stdout",
     "output_type": "stream",
     "text": [
      "accuracy: 97.9999 \t error_rate: 0.03\n"
     ]
    }
   ],
   "source": [
    "# f-string\n",
    "print(f'accuracy: {accuracy} \\t error_rate: {error_rate}')"
   ]
  },
  {
   "cell_type": "code",
   "execution_count": 87,
   "metadata": {
    "colab": {
     "base_uri": "https://localhost:8080/"
    },
    "id": "O9cx1nyB7FwA",
    "outputId": "d0938225-ee9a-469d-ff57-9576f4200573"
   },
   "outputs": [
    {
     "name": "stdout",
     "output_type": "stream",
     "text": [
      "accuracy: 9.8e+01 \t error_rate: 0.03\n"
     ]
    }
   ],
   "source": [
    "# f-string: specify decimal precision\n",
    "print(f'accuracy: {accuracy:.2} \\t error_rate: {error_rate:.2}')"
   ]
  },
  {
   "cell_type": "code",
   "execution_count": 88,
   "metadata": {},
   "outputs": [
    {
     "name": "stdout",
     "output_type": "stream",
     "text": [
      "str1 1.0 False -1\n"
     ]
    }
   ],
   "source": [
    "print(\"str1\", 1.0, False, -1)  # The print statements converts all arguments to strings"
   ]
  },
  {
   "cell_type": "markdown",
   "metadata": {
    "id": "qBUS0R_oDA9W"
   },
   "source": [
    "**Slicing and indexing** operation on string. Zero-based indexing and negative numbers:\n",
    "\n",
    "![indexing](https://developers.google.com/edu/python/images/hello.png)"
   ]
  },
  {
   "cell_type": "markdown",
   "metadata": {},
   "source": [
    "Read more about slicing syntax [here](https://python-reference.readthedocs.io/en/latest/docs/brackets/slicing.html)\n",
    "\n",
    "Read more about text processing [here](https://python-reference.readthedocs.io/en/latest/docs/str/index.html)"
   ]
  },
  {
   "cell_type": "code",
   "execution_count": 89,
   "metadata": {
    "colab": {
     "base_uri": "https://localhost:8080/"
    },
    "id": "wNMzsDwxDAQj",
    "outputId": "99aba053-c42d-4cf7-aa74-a5cac6379218"
   },
   "outputs": [],
   "source": [
    "word = 'Hello'"
   ]
  },
  {
   "cell_type": "code",
   "execution_count": 90,
   "metadata": {},
   "outputs": [
    {
     "data": {
      "text/plain": [
       "'e'"
      ]
     },
     "execution_count": 90,
     "metadata": {},
     "output_type": "execute_result"
    }
   ],
   "source": [
    "word[1]     # python is 0-based indexing"
   ]
  },
  {
   "cell_type": "code",
   "execution_count": 91,
   "metadata": {},
   "outputs": [
    {
     "data": {
      "text/plain": [
       "'Hel'"
      ]
     },
     "execution_count": 91,
     "metadata": {},
     "output_type": "execute_result"
    }
   ],
   "source": [
    "word[0:3]   # python is 0-based indexing"
   ]
  },
  {
   "cell_type": "code",
   "execution_count": 92,
   "metadata": {},
   "outputs": [
    {
     "data": {
      "text/plain": [
       "'Hel'"
      ]
     },
     "execution_count": 92,
     "metadata": {},
     "output_type": "execute_result"
    }
   ],
   "source": [
    "word[:3]    # you can omit the first index when it is 0 "
   ]
  },
  {
   "cell_type": "code",
   "execution_count": 93,
   "metadata": {},
   "outputs": [
    {
     "data": {
      "text/plain": [
       "'llo'"
      ]
     },
     "execution_count": 93,
     "metadata": {},
     "output_type": "execute_result"
    }
   ],
   "source": [
    "word[2:]    # you can omit the second index when you mean the end of the string "
   ]
  },
  {
   "cell_type": "code",
   "execution_count": 94,
   "metadata": {},
   "outputs": [
    {
     "data": {
      "text/plain": [
       "'llo'"
      ]
     },
     "execution_count": 94,
     "metadata": {},
     "output_type": "execute_result"
    }
   ],
   "source": [
    "word[2:5]  "
   ]
  },
  {
   "cell_type": "code",
   "execution_count": 95,
   "metadata": {},
   "outputs": [
    {
     "data": {
      "text/plain": [
       "'llo'"
      ]
     },
     "execution_count": 95,
     "metadata": {},
     "output_type": "execute_result"
    }
   ],
   "source": [
    "word[2:100] # too big index: truncated to the string length"
   ]
  },
  {
   "cell_type": "markdown",
   "metadata": {
    "id": "TikOfxruAhy5"
   },
   "source": [
    "There are several **string methods**. To name but a few:"
   ]
  },
  {
   "cell_type": "code",
   "execution_count": 96,
   "metadata": {
    "id": "6EJpZoNg8PEr"
   },
   "outputs": [],
   "source": [
    "a = \"foobar\""
   ]
  },
  {
   "cell_type": "code",
   "execution_count": 97,
   "metadata": {
    "colab": {
     "base_uri": "https://localhost:8080/"
    },
    "id": "dSQFzum-ApbK",
    "outputId": "a961011c-f3a5-4b0a-a290-a7c6681d70e3"
   },
   "outputs": [
    {
     "data": {
      "text/plain": [
       "(True, True)"
      ]
     },
     "execution_count": 97,
     "metadata": {},
     "output_type": "execute_result"
    }
   ],
   "source": [
    "a.startswith('foo'), a.endswith('bar')"
   ]
  },
  {
   "cell_type": "code",
   "execution_count": 98,
   "metadata": {
    "colab": {
     "base_uri": "https://localhost:8080/",
     "height": 35
    },
    "id": "UjycdAbNn3TU",
    "outputId": "4f53e487-64f4-4bb7-a0e7-953e40afc8a3"
   },
   "outputs": [
    {
     "data": {
      "text/plain": [
       "'FOOBAR'"
      ]
     },
     "execution_count": 98,
     "metadata": {},
     "output_type": "execute_result"
    }
   ],
   "source": [
    "a.upper()              # returns the uppercase version of the string"
   ]
  },
  {
   "cell_type": "code",
   "execution_count": 99,
   "metadata": {},
   "outputs": [
    {
     "data": {
      "text/plain": [
       "'foobar'"
      ]
     },
     "execution_count": 99,
     "metadata": {},
     "output_type": "execute_result"
    }
   ],
   "source": [
    "\"FooBar\".lower()"
   ]
  },
  {
   "cell_type": "code",
   "execution_count": 100,
   "metadata": {},
   "outputs": [
    {
     "data": {
      "text/plain": [
       "'JuBar'"
      ]
     },
     "execution_count": 100,
     "metadata": {},
     "output_type": "execute_result"
    }
   ],
   "source": [
    "\"FooBar\".replace(\"Foo\", \"Ju\")"
   ]
  },
  {
   "cell_type": "markdown",
   "metadata": {},
   "source": [
    "**Strings are immutable: they can't be modified!**"
   ]
  },
  {
   "cell_type": "code",
   "execution_count": 101,
   "metadata": {
    "scrolled": true
   },
   "outputs": [
    {
     "ename": "TypeError",
     "evalue": "'str' object does not support item assignment",
     "output_type": "error",
     "traceback": [
      "\u001b[1;31m---------------------------------------------------------------------------\u001b[0m",
      "\u001b[1;31mTypeError\u001b[0m                                 Traceback (most recent call last)",
      "Cell \u001b[1;32mIn[101], line 1\u001b[0m\n\u001b[1;32m----> 1\u001b[0m \u001b[43ma\u001b[49m\u001b[43m[\u001b[49m\u001b[38;5;241;43m0\u001b[39;49m\u001b[43m]\u001b[49m \u001b[38;5;241m=\u001b[39m \u001b[38;5;124m'\u001b[39m\u001b[38;5;124mJ\u001b[39m\u001b[38;5;124m'\u001b[39m\n",
      "\u001b[1;31mTypeError\u001b[0m: 'str' object does not support item assignment"
     ]
    }
   ],
   "source": [
    "a[0] = 'J'"
   ]
  },
  {
   "cell_type": "markdown",
   "metadata": {},
   "source": [
    "We can also read string from the keyboard, using the command `input`:"
   ]
  },
  {
   "cell_type": "code",
   "execution_count": null,
   "metadata": {},
   "outputs": [],
   "source": [
    "a = input(\"Insert integer: \")"
   ]
  },
  {
   "cell_type": "code",
   "execution_count": null,
   "metadata": {
    "scrolled": true
   },
   "outputs": [],
   "source": [
    "print(a + a) "
   ]
  },
  {
   "cell_type": "code",
   "execution_count": null,
   "metadata": {},
   "outputs": [],
   "source": [
    "'A' * 100"
   ]
  },
  {
   "cell_type": "markdown",
   "metadata": {
    "id": "HilDrMMzs8YA"
   },
   "source": [
    "### Sequences\n",
    "  - **lists**: mutable sequences, typically (but not exclusively) used to store collections of homogeneous items \n",
    "  - **tuples**: immutable sequences, typically  (but not exclusively) used to store collections of heterogeneous data\n",
    "  - **range objects**: immutable sequences of numbers, commonly used for looping a specific number of times in for loops.\n",
    " "
   ]
  },
  {
   "cell_type": "markdown",
   "metadata": {
    "id": "MWSZVwoWuaOt"
   },
   "source": [
    "#### Example about lists: mutable sequences\n",
    "Lists are written within square brackets [ ]"
   ]
  },
  {
   "cell_type": "code",
   "execution_count": 109,
   "metadata": {
    "colab": {
     "base_uri": "https://localhost:8080/"
    },
    "id": "V2rfvXzgZW7q",
    "jupyter": {
     "source_hidden": true
    },
    "outputId": "8872ff0d-d2a1-4929-f597-8e728635e905"
   },
   "outputs": [
    {
     "name": "stdout",
     "output_type": "stream",
     "text": [
      "s = [1, 2, 3]\n",
      "t = [4, 'a']\n",
      "k = ['c', 'i', 'a', 'o']\n",
      "x = 2\n",
      "y = 1\n"
     ]
    }
   ],
   "source": [
    "s = [1, 2, 3]\n",
    "t = [4, 'a']\n",
    "k = list('ciao')\n",
    "x = 2\n",
    "y = 1\n",
    "print('s =', s)\n",
    "print('t =', t)\n",
    "print('k =', k)\n",
    "print('x =', x)\n",
    "print('y =', y)"
   ]
  },
  {
   "cell_type": "markdown",
   "metadata": {
    "id": "Q365B9UXUCpk"
   },
   "source": [
    "Some of the most common **sequence methods** (valid for lists, tuples, strings)\n"
   ]
  },
  {
   "cell_type": "code",
   "execution_count": 110,
   "metadata": {
    "colab": {
     "base_uri": "https://localhost:8080/"
    },
    "id": "u23c2fw3Zp4V",
    "outputId": "6320cbe7-6341-41ef-af54-68ca4183f740"
   },
   "outputs": [
    {
     "name": "stdout",
     "output_type": "stream",
     "text": [
      "x in s: True\n"
     ]
    }
   ],
   "source": [
    "# IN: True if an item of s is equal to x, else False\n",
    "print('x in s:', x in s)"
   ]
  },
  {
   "cell_type": "code",
   "execution_count": 111,
   "metadata": {
    "colab": {
     "base_uri": "https://localhost:8080/"
    },
    "id": "0PQq1O8qod3-",
    "jupyter": {
     "source_hidden": true
    },
    "outputId": "52d1f9f7-b29c-4182-a34c-13552a1116b5"
   },
   "outputs": [
    {
     "name": "stdout",
     "output_type": "stream",
     "text": [
      "x not in t: True\n"
     ]
    }
   ],
   "source": [
    "# NOT IN: False if an item of s is equal to x, else True\n",
    "print('x not in t:', x not in t)"
   ]
  },
  {
   "cell_type": "code",
   "execution_count": 112,
   "metadata": {
    "colab": {
     "base_uri": "https://localhost:8080/"
    },
    "id": "Fz6rZH0tof3L",
    "outputId": "b8a5776c-5130-4faf-c612-aa696c41b098"
   },
   "outputs": [
    {
     "name": "stdout",
     "output_type": "stream",
     "text": [
      "s + t: [1, 2, 3, 4, 'a']\n"
     ]
    }
   ],
   "source": [
    "# +: concatenation of s and t\n",
    "print('s + t:', s + t)"
   ]
  },
  {
   "cell_type": "code",
   "execution_count": 113,
   "metadata": {
    "colab": {
     "base_uri": "https://localhost:8080/"
    },
    "id": "oXOvsGSRo41W",
    "outputId": "fd7e28de-d810-498f-dc40-c496b54d6aed"
   },
   "outputs": [
    {
     "name": "stdout",
     "output_type": "stream",
     "text": [
      "len(s): 3\n"
     ]
    }
   ],
   "source": [
    "# len(): length of s\n",
    "print('len(s):', len(s))"
   ]
  },
  {
   "cell_type": "code",
   "execution_count": 114,
   "metadata": {
    "colab": {
     "base_uri": "https://localhost:8080/"
    },
    "id": "yUWt2k4loieR",
    "outputId": "68ab4c00-3989-4263-9a22-68adad0060dd"
   },
   "outputs": [
    {
     "name": "stdout",
     "output_type": "stream",
     "text": [
      "s[2]: 3\n"
     ]
    }
   ],
   "source": [
    "# INDEXING: i-th item of s, origin 0\n",
    "print('s[2]:', s[2])"
   ]
  },
  {
   "cell_type": "code",
   "execution_count": 115,
   "metadata": {
    "colab": {
     "base_uri": "https://localhost:8080/"
    },
    "id": "Z_MkzYSUo2hR",
    "outputId": "271514ae-9336-4371-9d8f-323f48ee7a7d"
   },
   "outputs": [
    {
     "name": "stdout",
     "output_type": "stream",
     "text": [
      "s[1:]: [2, 3]\n"
     ]
    }
   ],
   "source": [
    "# SLICING:s[i:j] slice of s from i to j\n",
    "print('s[1:]:', s[1:])"
   ]
  },
  {
   "cell_type": "code",
   "execution_count": 116,
   "metadata": {
    "colab": {
     "base_uri": "https://localhost:8080/"
    },
    "id": "uWIICtN5o3w6",
    "outputId": "93bd57b9-fac6-4e9b-8406-46ac8bca8366"
   },
   "outputs": [
    {
     "name": "stdout",
     "output_type": "stream",
     "text": [
      "s[0:len(s):2]: [1, 3]\n"
     ]
    }
   ],
   "source": [
    "# SLICING:s[i:j:k] slice of s from i to j with step k\n",
    "print('s[0:len(s):2]:', s[0:len(s):2])"
   ]
  },
  {
   "cell_type": "code",
   "execution_count": 117,
   "metadata": {
    "colab": {
     "base_uri": "https://localhost:8080/"
    },
    "id": "kNokWFgVo50A",
    "outputId": "0395879a-3682-4cdd-8c2d-50911424e98f",
    "scrolled": true
   },
   "outputs": [
    {
     "name": "stdout",
     "output_type": "stream",
     "text": [
      "max(s): 3\n"
     ]
    }
   ],
   "source": [
    "# MAX: largest item of s\n",
    "print('max(s):', max(s))"
   ]
  },
  {
   "cell_type": "code",
   "execution_count": 118,
   "metadata": {},
   "outputs": [
    {
     "name": "stdout",
     "output_type": "stream",
     "text": [
      "min(nl): a\n"
     ]
    }
   ],
   "source": [
    "nl = [\"a\",\"b\",\"c\"]\n",
    "print('min(nl):', min(nl))"
   ]
  },
  {
   "cell_type": "code",
   "execution_count": 119,
   "metadata": {
    "colab": {
     "base_uri": "https://localhost:8080/"
    },
    "id": "RP-fe9Dao6_C",
    "outputId": "1e0faa6c-1832-4ba5-b376-3506ed0f83ac"
   },
   "outputs": [
    {
     "name": "stdout",
     "output_type": "stream",
     "text": [
      "s.index(y): 0\n"
     ]
    }
   ],
   "source": [
    "# INDEX:index of the first occurrence of y in s\n",
    "print('s.index(y):', s.index(y))"
   ]
  },
  {
   "cell_type": "code",
   "execution_count": 120,
   "metadata": {
    "colab": {
     "base_uri": "https://localhost:8080/"
    },
    "id": "ecTZqIUwo8KY",
    "outputId": "21a78a85-dfa2-4074-8ed5-da509747b93f"
   },
   "outputs": [
    {
     "name": "stdout",
     "output_type": "stream",
     "text": [
      "s.count(y): 1\n"
     ]
    }
   ],
   "source": [
    "# COUNT: total number of occurrences of y in s\n",
    "print('s.count(y):', s.count(y))"
   ]
  },
  {
   "cell_type": "markdown",
   "metadata": {
    "id": "4R2B9BddpGGf"
   },
   "source": [
    "Some of the most common **list methods.**"
   ]
  },
  {
   "cell_type": "code",
   "execution_count": 121,
   "metadata": {
    "id": "qlSVvUQdUzHW"
   },
   "outputs": [],
   "source": [
    "new_list = [1, 2, 3]"
   ]
  },
  {
   "cell_type": "code",
   "execution_count": 122,
   "metadata": {},
   "outputs": [
    {
     "data": {
      "text/plain": [
       "1381556713984"
      ]
     },
     "execution_count": 122,
     "metadata": {},
     "output_type": "execute_result"
    }
   ],
   "source": [
    "id(new_list)"
   ]
  },
  {
   "cell_type": "code",
   "execution_count": 123,
   "metadata": {
    "colab": {
     "base_uri": "https://localhost:8080/"
    },
    "id": "1WaZtFQDpEYW",
    "outputId": "d9e3d160-564d-4d0e-f821-4fe9b9a4e4a9"
   },
   "outputs": [
    {
     "name": "stdout",
     "output_type": "stream",
     "text": [
      "Input: \t[1, 2, 3]\n",
      "append an element\n",
      "[1, 2, 3, 4]\n"
     ]
    }
   ],
   "source": [
    "print(f'Input: \\t{new_list}')\n",
    "print('append an element')\n",
    "new_list.append(4)            # adds a single element to the end of the list. \n",
    "                              # Common error: does not return the new list, just modifies the original.\n",
    "print(new_list)"
   ]
  },
  {
   "cell_type": "code",
   "execution_count": 124,
   "metadata": {},
   "outputs": [
    {
     "data": {
      "text/plain": [
       "1381556713984"
      ]
     },
     "execution_count": 124,
     "metadata": {},
     "output_type": "execute_result"
    }
   ],
   "source": [
    "id(new_list)"
   ]
  },
  {
   "cell_type": "code",
   "execution_count": 125,
   "metadata": {
    "colab": {
     "base_uri": "https://localhost:8080/"
    },
    "id": "tABZtEntpJO3",
    "outputId": "ad091b4d-c627-4b1a-85e5-7d97b93b71c7"
   },
   "outputs": [
    {
     "name": "stdout",
     "output_type": "stream",
     "text": [
      "Input: \t[1, 2, 3, 4]\n",
      "insert an element\n",
      "[1, 2, 6, 3, 4]\n"
     ]
    }
   ],
   "source": [
    "print(f'Input: \\t{new_list}')\n",
    "print('insert an element')\n",
    "new_list.insert(2, 6)       # inserts the element at the given index, shifting elements to the right.\n",
    "print(new_list)"
   ]
  },
  {
   "cell_type": "code",
   "execution_count": 126,
   "metadata": {
    "colab": {
     "base_uri": "https://localhost:8080/"
    },
    "id": "K0N88mEWpKup",
    "outputId": "a272a484-074d-4004-977a-61e5a4ee2b3a"
   },
   "outputs": [
    {
     "name": "stdout",
     "output_type": "stream",
     "text": [
      "Input: \t[1, 2, 6, 3, 4]\n",
      "extend with another list\n",
      "[1, 2, 6, 3, 4, 7, 8]\n"
     ]
    }
   ],
   "source": [
    "print(f'Input: \\t{new_list}')\n",
    "print('extend with another list')\n",
    "new_list.extend([7, 8])     # adds the elements in the second list to the end of our new_list.\n",
    "print(new_list)"
   ]
  },
  {
   "cell_type": "code",
   "execution_count": 127,
   "metadata": {
    "colab": {
     "base_uri": "https://localhost:8080/"
    },
    "id": "eHaf_x1YpPoY",
    "outputId": "60d44aea-314f-4092-b291-984ffefbdc56"
   },
   "outputs": [
    {
     "name": "stdout",
     "output_type": "stream",
     "text": [
      "Input: \t[1, 2, 6, 3, 4, 7, 8]\n",
      "remove an element\n",
      "[1, 2, 6, 3, 4, 8]\n"
     ]
    }
   ],
   "source": [
    "print(f'Input: \\t{new_list}')\n",
    "print('remove an element')\n",
    "new_list.remove(7)          # searches for the first instance of the given element and removes it (throws ValueError if not present)\n",
    "print(new_list)"
   ]
  },
  {
   "cell_type": "code",
   "execution_count": 128,
   "metadata": {
    "colab": {
     "base_uri": "https://localhost:8080/"
    },
    "id": "WiBcAno6pWSK",
    "outputId": "1813a765-1dea-482f-c11d-bbd737caa7b6"
   },
   "outputs": [
    {
     "name": "stdout",
     "output_type": "stream",
     "text": [
      "Input: \t[1, 2, 6, 3, 4, 8]\n",
      "reverse the list\n",
      "[8, 4, 3, 6, 2, 1]\n"
     ]
    }
   ],
   "source": [
    "print(f'Input: \\t{new_list}')\n",
    "print('reverse the list')\n",
    "new_list.reverse()            # reverses the list in place (does not return it)\n",
    "print(new_list)\n"
   ]
  },
  {
   "cell_type": "code",
   "execution_count": 129,
   "metadata": {
    "colab": {
     "base_uri": "https://localhost:8080/"
    },
    "id": "5iacShU6pYqj",
    "outputId": "d1d788d7-64cc-422f-9a36-b75c03f0ae3b"
   },
   "outputs": [
    {
     "name": "stdout",
     "output_type": "stream",
     "text": [
      "Input: \t[8, 4, 3, 6, 2, 1]\n",
      "pop the element at the given index\n",
      "8\n",
      "[4, 3, 6, 2, 1]\n"
     ]
    }
   ],
   "source": [
    "print(f'Input: \\t{new_list}')\n",
    "print('pop the element at the given index')\n",
    "a = new_list.pop(0)           # removes and returns the element at the given index. Returns the rightmost element if index is omitted \n",
    "print(a)\n",
    "print(new_list)\n",
    "\n"
   ]
  },
  {
   "cell_type": "markdown",
   "metadata": {},
   "source": [
    "How to sort a list?"
   ]
  },
  {
   "cell_type": "code",
   "execution_count": 130,
   "metadata": {
    "colab": {
     "base_uri": "https://localhost:8080/"
    },
    "id": "p8bJqq1xpSei",
    "outputId": "dd28f8c7-58bc-4ffc-8020-0f38cd6d6e04"
   },
   "outputs": [
    {
     "name": "stdout",
     "output_type": "stream",
     "text": [
      "Input ID: \t1381556713984\n",
      "Input: \t[4, 3, 6, 2, 1]\n"
     ]
    }
   ],
   "source": [
    "print(f'Input ID: \\t{id(new_list)}')\n",
    "print(f'Input: \\t{new_list}')"
   ]
  },
  {
   "cell_type": "code",
   "execution_count": 131,
   "metadata": {},
   "outputs": [
    {
     "name": "stdout",
     "output_type": "stream",
     "text": [
      "sort the list with \"sorted\"\n",
      "(With sorted(list)) ID: \t1381556686016\n",
      "(With sorted(list)): \t[1, 2, 3, 4, 6]\n"
     ]
    }
   ],
   "source": [
    "print('sort the list with \"sorted\"')\n",
    "another_list = sorted(new_list)   # sorts the list NOT in place \n",
    "print(f'(With sorted(list)) ID: \\t{id(another_list)}')\n",
    "print(f'(With sorted(list)): \\t{another_list}')"
   ]
  },
  {
   "cell_type": "code",
   "execution_count": 132,
   "metadata": {},
   "outputs": [
    {
     "name": "stdout",
     "output_type": "stream",
     "text": [
      "sort the list with \"sort\" method\n",
      "(With list.sort()) ID: \t1381556713984\n",
      "(With list.sort()): \t[1, 2, 3, 4, 6]\n"
     ]
    }
   ],
   "source": [
    "print('sort the list with \"sort\" method')\n",
    "new_list.sort()                   # sorts the list in place (does not return it and does not alter its identity)\n",
    "print(f'(With list.sort()) ID: \\t{id(new_list)}')\n",
    "print(f'(With list.sort()): \\t{new_list}')"
   ]
  },
  {
   "cell_type": "code",
   "execution_count": 133,
   "metadata": {},
   "outputs": [],
   "source": [
    "# new_list = new_list.sort() # what's wrong here?\n",
    "# print(new_list)"
   ]
  },
  {
   "cell_type": "markdown",
   "metadata": {
    "id": "nMEasbms-B48"
   },
   "source": [
    "#### Example about tuples: immutable sequences\n",
    "Tuples are written within round brackets ```(a,b)```\n",
    "\n",
    "\n"
   ]
  },
  {
   "cell_type": "code",
   "execution_count": 138,
   "metadata": {
    "colab": {
     "base_uri": "https://localhost:8080/"
    },
    "id": "TLuzKG5ImfkM",
    "jupyter": {
     "source_hidden": true
    },
    "outputId": "067aa998-5feb-4240-b8aa-23c43278001e"
   },
   "outputs": [
    {
     "name": "stdout",
     "output_type": "stream",
     "text": [
      "(2, 3, 5, 7)\n",
      "3\n"
     ]
    }
   ],
   "source": [
    "firstprimes = (2, 3, 5, 7)\n",
    "print(firstprimes)\n",
    "print(firstprimes[1])\n"
   ]
  },
  {
   "cell_type": "code",
   "execution_count": 139,
   "metadata": {},
   "outputs": [
    {
     "ename": "AttributeError",
     "evalue": "'tuple' object has no attribute 'append'",
     "output_type": "error",
     "traceback": [
      "\u001b[1;31m---------------------------------------------------------------------------\u001b[0m",
      "\u001b[1;31mAttributeError\u001b[0m                            Traceback (most recent call last)",
      "Cell \u001b[1;32mIn[139], line 1\u001b[0m\n\u001b[1;32m----> 1\u001b[0m \u001b[43mfirstprimes\u001b[49m\u001b[38;5;241;43m.\u001b[39;49m\u001b[43mappend\u001b[49m(\u001b[38;5;241m9\u001b[39m) \u001b[38;5;66;03m# uncomment to see well formatted error!\u001b[39;00m\n",
      "\u001b[1;31mAttributeError\u001b[0m: 'tuple' object has no attribute 'append'"
     ]
    }
   ],
   "source": [
    "firstprimes.append(9) # uncomment to see well formatted error!"
   ]
  },
  {
   "cell_type": "code",
   "execution_count": 140,
   "metadata": {
    "colab": {
     "base_uri": "https://localhost:8080/"
    },
    "id": "6WttK0ciAA36",
    "outputId": "81e48c1e-0156-4278-b645-c1835cbca6a7"
   },
   "outputs": [
    {
     "ename": "TypeError",
     "evalue": "'tuple' object doesn't support item deletion",
     "output_type": "error",
     "traceback": [
      "\u001b[1;31m---------------------------------------------------------------------------\u001b[0m",
      "\u001b[1;31mTypeError\u001b[0m                                 Traceback (most recent call last)",
      "Cell \u001b[1;32mIn[140], line 1\u001b[0m\n\u001b[1;32m----> 1\u001b[0m \u001b[38;5;28;01mdel\u001b[39;00m \u001b[43mfirstprimes\u001b[49m\u001b[43m[\u001b[49m\u001b[38;5;241;43m0\u001b[39;49m\u001b[43m]\u001b[49m \u001b[38;5;66;03m# uncomment to see well formatted error!\u001b[39;00m\n",
      "\u001b[1;31mTypeError\u001b[0m: 'tuple' object doesn't support item deletion"
     ]
    }
   ],
   "source": [
    "del firstprimes[0] # uncomment to see well formatted error!"
   ]
  },
  {
   "cell_type": "markdown",
   "metadata": {},
   "source": [
    "We can **unpack** a tuple by assigning it to a comma-separated list of variables:"
   ]
  },
  {
   "cell_type": "code",
   "execution_count": 141,
   "metadata": {},
   "outputs": [
    {
     "name": "stdout",
     "output_type": "stream",
     "text": [
      "x = 10\n",
      "y = 20\n"
     ]
    }
   ],
   "source": [
    "point = (10, 20)\n",
    "x, y = point\n",
    "\n",
    "print(\"x =\", x)\n",
    "print(\"y =\", y)"
   ]
  },
  {
   "cell_type": "markdown",
   "metadata": {},
   "source": [
    "**range**: The range type represents an immutable sequence of numbers and is commonly used for looping a specific number of times in ```for``` loops (next notebook)\n"
   ]
  },
  {
   "cell_type": "code",
   "execution_count": 142,
   "metadata": {},
   "outputs": [
    {
     "data": {
      "text/plain": [
       "range(0, 100000)"
      ]
     },
     "execution_count": 142,
     "metadata": {},
     "output_type": "execute_result"
    }
   ],
   "source": [
    "range(100000) # ... but super efficient in terms of memory"
   ]
  },
  {
   "cell_type": "code",
   "execution_count": 143,
   "metadata": {},
   "outputs": [
    {
     "data": {
      "text/plain": [
       "[0, 1, 2, 3, 4]"
      ]
     },
     "execution_count": 143,
     "metadata": {},
     "output_type": "execute_result"
    }
   ],
   "source": [
    "list(range(5)) # equivalent to a list (or a tuple) ..."
   ]
  },
  {
   "cell_type": "markdown",
   "metadata": {
    "id": "0yb5-OpA-Hzq"
   },
   "source": [
    "### Mappings - ```dict```\n",
    "\n",
    "\n",
    "  - A mapping object maps *hashable values* to arbitrary objects. \n",
    "  A value is hashable if its hash value never changes during its lifetime and can be compared to other objects. Mappings are mutable objects. \n",
    "  - In practice, keys must be unique, immutable data (e.g., strings).\n",
    "  - There is currently only one standard mapping type, the **dictionary**.\n",
    "  \n",
    "The contents of a dict can be written as a series of key:value pairs within braces { }, \n",
    "\n",
    "An example of  **dict** definition is:\n",
    "```\n",
    "dict = {key1:value1, key2:value2, ... }.\n",
    "```\n",
    "\n"
   ]
  },
  {
   "cell_type": "code",
   "execution_count": 144,
   "metadata": {
    "jupyter": {
     "source_hidden": true
    }
   },
   "outputs": [],
   "source": [
    "another_dict = {}"
   ]
  },
  {
   "cell_type": "code",
   "execution_count": 145,
   "metadata": {
    "colab": {
     "base_uri": "https://localhost:8080/"
    },
    "id": "DEPRbSmDmipW",
    "jupyter": {
     "source_hidden": true
    },
    "outputId": "81e3476d-92bd-4de7-fbf2-a8b615f42f45"
   },
   "outputs": [
    {
     "data": {
      "text/plain": [
       "{'name': 'Bob', 'age': 32}"
      ]
     },
     "execution_count": 145,
     "metadata": {},
     "output_type": "execute_result"
    }
   ],
   "source": [
    "my_dict = {'name': 'Bob', 'age':32}\n",
    "my_dict"
   ]
  },
  {
   "cell_type": "code",
   "execution_count": 146,
   "metadata": {
    "colab": {
     "base_uri": "https://localhost:8080/"
    },
    "id": "b56Fa0f7pe2C",
    "outputId": "7b5217b6-e952-42a5-e80e-41ac6373ef77"
   },
   "outputs": [
    {
     "data": {
      "text/plain": [
       "'Bob'"
      ]
     },
     "execution_count": 146,
     "metadata": {},
     "output_type": "execute_result"
    }
   ],
   "source": [
    "# access value by key\n",
    "my_dict['name']"
   ]
  },
  {
   "cell_type": "code",
   "execution_count": 147,
   "metadata": {
    "jupyter": {
     "source_hidden": true
    }
   },
   "outputs": [
    {
     "ename": "KeyError",
     "evalue": "'email'",
     "output_type": "error",
     "traceback": [
      "\u001b[1;31m---------------------------------------------------------------------------\u001b[0m",
      "\u001b[1;31mKeyError\u001b[0m                                  Traceback (most recent call last)",
      "Cell \u001b[1;32mIn[147], line 2\u001b[0m\n\u001b[0;32m      1\u001b[0m \u001b[38;5;66;03m# looking up a non-existant key raises an error\u001b[39;00m\n\u001b[1;32m----> 2\u001b[0m \u001b[43mmy_dict\u001b[49m\u001b[43m[\u001b[49m\u001b[38;5;124;43m'\u001b[39;49m\u001b[38;5;124;43memail\u001b[39;49m\u001b[38;5;124;43m'\u001b[39;49m\u001b[43m]\u001b[49m  \u001b[38;5;66;03m## raises KeyError\u001b[39;00m\n",
      "\u001b[1;31mKeyError\u001b[0m: 'email'"
     ]
    }
   ],
   "source": [
    "# looking up a non-existant key raises an error\n",
    "my_dict['email']  ## raises KeyError"
   ]
  },
  {
   "cell_type": "code",
   "execution_count": 148,
   "metadata": {},
   "outputs": [
    {
     "data": {
      "text/plain": [
       "'Bob'"
      ]
     },
     "execution_count": 148,
     "metadata": {},
     "output_type": "execute_result"
    }
   ],
   "source": [
    "my_dict.get('name')"
   ]
  },
  {
   "cell_type": "code",
   "execution_count": 149,
   "metadata": {},
   "outputs": [],
   "source": [
    "my_dict.get('email')  ## Return None or \"default\" value (instead of KeyError)"
   ]
  },
  {
   "cell_type": "code",
   "execution_count": 150,
   "metadata": {},
   "outputs": [
    {
     "data": {
      "text/plain": [
       "'default@email.com'"
      ]
     },
     "execution_count": 150,
     "metadata": {},
     "output_type": "execute_result"
    }
   ],
   "source": [
    "my_dict.get('email', 'default@email.com')  ## Return None or \"default\" value (instead of KeyError)"
   ]
  },
  {
   "cell_type": "markdown",
   "metadata": {},
   "source": [
    "We can use the same indexing logic to update or define dictionary values"
   ]
  },
  {
   "cell_type": "code",
   "execution_count": 151,
   "metadata": {
    "colab": {
     "base_uri": "https://localhost:8080/"
    },
    "id": "gZF6AApWphxG",
    "outputId": "eb061539-e1cf-43b1-9185-100a15520c6b"
   },
   "outputs": [
    {
     "data": {
      "text/plain": [
       "{'name': 'Bob', 'age': 32, 'email': ['bob@gmail.com']}"
      ]
     },
     "execution_count": 151,
     "metadata": {},
     "output_type": "execute_result"
    }
   ],
   "source": [
    "# add new key-value pairs\n",
    "my_dict['email'] = ['bob@gmail.com']\n",
    "my_dict"
   ]
  },
  {
   "cell_type": "code",
   "execution_count": 152,
   "metadata": {},
   "outputs": [
    {
     "data": {
      "text/plain": [
       "{'name': 'Bob', 'age': 42, 'email': ['bob@gmail.com']}"
      ]
     },
     "execution_count": 152,
     "metadata": {},
     "output_type": "execute_result"
    }
   ],
   "source": [
    "# update the value of an existing key\n",
    "my_dict['age'] = 42\n",
    "my_dict"
   ]
  },
  {
   "cell_type": "code",
   "execution_count": 153,
   "metadata": {},
   "outputs": [
    {
     "data": {
      "text/plain": [
       "{'name': 'Bob', 'age': 42, 'email': ['bob@gmail.com', 'bob_2@gmail.com']}"
      ]
     },
     "execution_count": 153,
     "metadata": {},
     "output_type": "execute_result"
    }
   ],
   "source": [
    "# update the value of an existing key\n",
    "my_dict['email'].append('bob_2@gmail.com')\n",
    "my_dict"
   ]
  },
  {
   "cell_type": "markdown",
   "metadata": {
    "id": "lADZKlSWA20Q"
   },
   "source": [
    "The objects returned by dict.keys(), dict.values() and dict.items() are view objects. They provide a dynamic view on the dictionary’s entries, which means that when the dictionary changes, the view reflects these changes. We can iterate over the view object using the *for loop syntax*: we will see it in a while.\n"
   ]
  },
  {
   "cell_type": "markdown",
   "metadata": {},
   "source": [
    "Preliminary examples of **for loops**."
   ]
  },
  {
   "cell_type": "code",
   "execution_count": 160,
   "metadata": {
    "colab": {
     "base_uri": "https://localhost:8080/"
    },
    "id": "KmeBA2tQcSjZ",
    "outputId": "dee906f6-c71c-43f7-a7ee-04a8b664bc85"
   },
   "outputs": [
    {
     "name": "stdout",
     "output_type": "stream",
     "text": [
      "name\n",
      "age\n",
      "email\n"
     ]
    }
   ],
   "source": [
    "# iterating over keys\n",
    "for key in my_dict:\n",
    "    print(key)"
   ]
  },
  {
   "cell_type": "code",
   "execution_count": 161,
   "metadata": {},
   "outputs": [
    {
     "name": "stdout",
     "output_type": "stream",
     "text": [
      "name\n",
      "age\n",
      "email\n"
     ]
    }
   ],
   "source": [
    "# iterating over keys\n",
    "for key in my_dict.keys():\n",
    "    print(key)"
   ]
  },
  {
   "cell_type": "code",
   "execution_count": 162,
   "metadata": {},
   "outputs": [
    {
     "data": {
      "text/plain": [
       "dict_values(['Bob', 42, ['bob@gmail.com', 'bob_2@gmail.com']])"
      ]
     },
     "execution_count": 162,
     "metadata": {},
     "output_type": "execute_result"
    }
   ],
   "source": [
    "my_dict.values()"
   ]
  },
  {
   "cell_type": "code",
   "execution_count": 163,
   "metadata": {
    "colab": {
     "base_uri": "https://localhost:8080/"
    },
    "id": "30Wqdx62hYzC",
    "outputId": "6d2a3d6e-7740-4ec1-ecb8-0feb66ecd13a"
   },
   "outputs": [
    {
     "name": "stdout",
     "output_type": "stream",
     "text": [
      "Bob\n",
      "42\n",
      "['bob@gmail.com', 'bob_2@gmail.com']\n"
     ]
    }
   ],
   "source": [
    "# iterating over values\n",
    "for value in my_dict.values(): \n",
    "    print(value)"
   ]
  },
  {
   "cell_type": "code",
   "execution_count": 164,
   "metadata": {
    "colab": {
     "base_uri": "https://localhost:8080/"
    },
    "id": "l6AiDCJghb_J",
    "outputId": "0f8ebf04-e6d0-408e-a284-0707340b7fd6"
   },
   "outputs": [
    {
     "name": "stdout",
     "output_type": "stream",
     "text": [
      "name ... Bob\n",
      "age ... 42\n",
      "email ... ['bob@gmail.com', 'bob_2@gmail.com']\n"
     ]
    }
   ],
   "source": [
    "# iterating over items\n",
    "for a,b in my_dict.items(): \n",
    "    print(f'{a} ... {b}')"
   ]
  },
  {
   "cell_type": "markdown",
   "metadata": {
    "id": "Xu0DagWE-Lcs"
   },
   "source": [
    "### Set\n",
    "- A set object is an unordered collection of distinct hashable objects. Dictionary keys and set members use hashable objects.\n",
    "- Common uses of sets include membership testing, removing duplicates from a sequence, and computing mathematical operations such as intersection, union, difference, and symmetric difference.\n",
    "- Set elements are written within braces { }"
   ]
  },
  {
   "cell_type": "code",
   "execution_count": 165,
   "metadata": {
    "colab": {
     "base_uri": "https://localhost:8080/"
    },
    "id": "jYHLQknB6QWh",
    "outputId": "ff5bc29a-8a8c-4da6-a753-1813c690eaf0"
   },
   "outputs": [
    {
     "name": "stdout",
     "output_type": "stream",
     "text": [
      "{0, 1, 2, 3}\n",
      "{0, 1, 2, 3}\n",
      "True\n"
     ]
    }
   ],
   "source": [
    "A = {0, 1, 2, 3}\n",
    "B = {3, 2, 0, 3, 1, 1, 3, 0}\n",
    "print(A)\n",
    "print(B)\n",
    "print(A == B)"
   ]
  },
  {
   "cell_type": "code",
   "execution_count": 166,
   "metadata": {
    "colab": {
     "base_uri": "https://localhost:8080/"
    },
    "id": "z_gTAzNmqKlK",
    "outputId": "223cc3ab-3905-495a-d57b-2d92f17cf3f1"
   },
   "outputs": [
    {
     "name": "stdout",
     "output_type": "stream",
     "text": [
      "[1, 2, 3, 4, 5, 1, 2, 4]\n",
      "{1, 2, 3, 4, 5}\n",
      "[1, 2, 3, 4, 5]\n"
     ]
    }
   ],
   "source": [
    "listC = [1,2,3,4,5,1,2,4] # list \n",
    "setC = set(listC)\n",
    "print(listC)\n",
    "print(setC)\n",
    "print(list(setC))"
   ]
  },
  {
   "cell_type": "code",
   "execution_count": 167,
   "metadata": {
    "colab": {
     "base_uri": "https://localhost:8080/"
    },
    "id": "R_uf5KaCqsV5",
    "outputId": "203a9f1c-c5b1-4d19-adb2-1242f5bcbb22"
   },
   "outputs": [
    {
     "name": "stdout",
     "output_type": "stream",
     "text": [
      "A {0, 1, 2, 3}\n",
      "C {1, 2, 3, 4, 5}\n",
      "UNION {0, 1, 2, 3, 4, 5}\n",
      "INTERSECTION {1, 2, 3}\n"
     ]
    }
   ],
   "source": [
    "print('A', A)\n",
    "print('C', setC)\n",
    "print('UNION', A.union(setC))\n",
    "print('INTERSECTION', A.intersection(setC))"
   ]
  },
  {
   "cell_type": "code",
   "execution_count": 168,
   "metadata": {},
   "outputs": [
    {
     "data": {
      "text/plain": [
       "{0}"
      ]
     },
     "execution_count": 168,
     "metadata": {},
     "output_type": "execute_result"
    }
   ],
   "source": [
    "A - setC"
   ]
  },
  {
   "cell_type": "markdown",
   "metadata": {},
   "source": [
    "## Exceptions"
   ]
  },
  {
   "cell_type": "markdown",
   "metadata": {},
   "source": [
    "In Python errors are managed with a special language construct called \"Exceptions\". When errors occur exceptions can be raised, which interrupts the normal program flow and fallback to somewhere else in the code where the closest try-except statement is defined.\n",
    "\n",
    "To generate an exception we can use the `raise` statement, which takes an argument that must be an instance of the class `BaseException` or a class derived from it."
   ]
  },
  {
   "cell_type": "code",
   "execution_count": 169,
   "metadata": {},
   "outputs": [
    {
     "ename": "Exception",
     "evalue": "description of the error",
     "output_type": "error",
     "traceback": [
      "\u001b[1;31m---------------------------------------------------------------------------\u001b[0m",
      "\u001b[1;31mException\u001b[0m                                 Traceback (most recent call last)",
      "Cell \u001b[1;32mIn[169], line 1\u001b[0m\n\u001b[1;32m----> 1\u001b[0m \u001b[38;5;28;01mraise\u001b[39;00m \u001b[38;5;167;01mException\u001b[39;00m(\u001b[38;5;124m\"\u001b[39m\u001b[38;5;124mdescription of the error\u001b[39m\u001b[38;5;124m\"\u001b[39m)\n",
      "\u001b[1;31mException\u001b[0m: description of the error"
     ]
    }
   ],
   "source": [
    "raise Exception(\"description of the error\")"
   ]
  },
  {
   "cell_type": "markdown",
   "metadata": {},
   "source": [
    "A typical use of exceptions is to abort functions when some error condition occurs, for example:\n",
    "\n",
    "```python\n",
    "def my_function(arguments):\n",
    "\n",
    "    if not verify(arguments):\n",
    "        raise Exception(\"Invalid arguments\")\n",
    "\n",
    "    # rest of the code goes here\n",
    "```\n",
    "\n",
    "To gracefully catch errors that are generated by functions and class methods, or by the Python interpreter itself, use the try and except statements:\n",
    "\n",
    "```python\n",
    "try:\n",
    "    # normal code goes here\n",
    "except [Exception]:\n",
    "    # code for error handling goes here\n",
    "    # this code is not executed unless the code\n",
    "    # above generated an error\n",
    "```\n",
    "\n",
    "For example:"
   ]
  },
  {
   "cell_type": "code",
   "execution_count": 170,
   "metadata": {},
   "outputs": [
    {
     "name": "stdout",
     "output_type": "stream",
     "text": [
      "test\n",
      "Caught an exception\n"
     ]
    }
   ],
   "source": [
    "try:\n",
    "    print(\"test\")\n",
    "    # generate an error: the variable test is not defined\n",
    "    print(test)\n",
    "except NameError:\n",
    "    print(\"Caught an exception\")"
   ]
  },
  {
   "cell_type": "code",
   "execution_count": 171,
   "metadata": {},
   "outputs": [
    {
     "name": "stdout",
     "output_type": "stream",
     "text": [
      "Caught an exception: name 'test' is not defined\n"
     ]
    }
   ],
   "source": [
    "try:\n",
    "    # generate an error: the variable test is not defined\n",
    "    print(test)\n",
    "except Exception as e:\n",
    "    print(f\"Caught an exception: {e}\")"
   ]
  },
  {
   "cell_type": "markdown",
   "metadata": {
    "id": "eunVyWWcunlY"
   },
   "source": [
    "### Many others data types:\n",
    " - classes,\n",
    " - instances, \n",
    " - boolean values\n",
    " - ..."
   ]
  },
  {
   "cell_type": "markdown",
   "metadata": {
    "id": "2aCIWR9bL-WY"
   },
   "source": [
    "# Mutable vs Immutable Objects"
   ]
  },
  {
   "cell_type": "markdown",
   "metadata": {
    "id": "Exjw8UWwL-Oo"
   },
   "source": [
    "- Objects of built-in types like **list**, **set**, **dict** are **mutable**. Custom classes are generally mutable.\n",
    "- Objects of built-in types like **int**, **float**, **bool**, **str**, **tuple** are **immutable**.\n",
    "\n",
    "\n",
    "*Mutable* and *immutable* objects behave in a different way: changes to mutable objects can be done *in place*, i.e. without altering its identity.\n",
    "\n",
    "**more about it**: take a look at [this nice tool](http://www.pythontutor.com/live.html#mode=edit)!"
   ]
  },
  {
   "cell_type": "markdown",
   "metadata": {},
   "source": [
    "- Whenever a variable references an IMMUTABLE value, a new object has to be created if a different value has to be stored."
   ]
  },
  {
   "cell_type": "code",
   "execution_count": 172,
   "metadata": {
    "colab": {
     "base_uri": "https://localhost:8080/"
    },
    "id": "AGj-Juqy4zBw",
    "outputId": "e2100322-e382-4afe-ac05-3c52752c23c8"
   },
   "outputs": [
    {
     "name": "stdout",
     "output_type": "stream",
     "text": [
      "foo\n",
      "foo\n",
      "1381505306480\n",
      "1381505306480\n"
     ]
    }
   ],
   "source": [
    "x = 'foo'\n",
    "y = x\n",
    "print(x)\n",
    "print(y)\n",
    "print(id(x))\n",
    "print(id(y))\n",
    "\n",
    "y += 'bar' # augmented assignment "
   ]
  },
  {
   "cell_type": "code",
   "execution_count": 173,
   "metadata": {},
   "outputs": [
    {
     "name": "stdout",
     "output_type": "stream",
     "text": [
      "foo\n",
      "foobar\n",
      "1381505306480\n",
      "1381556308336\n"
     ]
    }
   ],
   "source": [
    "print(x)\n",
    "print(y)\n",
    "print(id(x))\n",
    "print(id(y))"
   ]
  },
  {
   "cell_type": "code",
   "execution_count": 174,
   "metadata": {
    "colab": {
     "base_uri": "https://localhost:8080/"
    },
    "id": "u0q6IwQdkBjR",
    "outputId": "306bc750-f29b-4ad0-b0db-48b1052bcd11"
   },
   "outputs": [
    {
     "name": "stdout",
     "output_type": "stream",
     "text": [
      "(1, 2, 3)\n",
      "(1, 2, 3)\n",
      "1381550470272\n",
      "1381550470272\n"
     ]
    }
   ],
   "source": [
    "# example with tuples\n",
    "x = (1,2,3)\n",
    "y = x\n",
    "print(x)\n",
    "print(y)\n",
    "print(id(x))\n",
    "print(id(y))\n",
    "\n",
    "y += (4, 5, 6)"
   ]
  },
  {
   "cell_type": "code",
   "execution_count": 175,
   "metadata": {},
   "outputs": [
    {
     "name": "stdout",
     "output_type": "stream",
     "text": [
      "(1, 2, 3)\n",
      "(1, 2, 3, 4, 5, 6)\n",
      "1381550470272\n",
      "1381556983968\n"
     ]
    }
   ],
   "source": [
    "print(x)\n",
    "print(y)\n",
    "print(id(x))\n",
    "print(id(y))"
   ]
  },
  {
   "cell_type": "markdown",
   "metadata": {
    "id": "DABK4Fm943wg"
   },
   "source": [
    "- Whenever a new variable is assigned another variable that references a MUTABLE value (like a list), the new variable will reference the same object "
   ]
  },
  {
   "cell_type": "code",
   "execution_count": 176,
   "metadata": {
    "colab": {
     "base_uri": "https://localhost:8080/"
    },
    "id": "5pOm6E8TL-Dt",
    "outputId": "f5c950d2-0645-40fa-b5d9-aec352e88617"
   },
   "outputs": [
    {
     "name": "stdout",
     "output_type": "stream",
     "text": [
      "[1, 2, 3]\n",
      "[1, 2, 3]\n",
      "1381556714112\n",
      "1381556714112\n"
     ]
    }
   ],
   "source": [
    "x = [1, 2, 3]\n",
    "y = x\n",
    "print(x)\n",
    "print(y)\n",
    "print(id(x))\n",
    "print(id(y))\n",
    "\n",
    "y.append(4)"
   ]
  },
  {
   "cell_type": "code",
   "execution_count": 177,
   "metadata": {},
   "outputs": [
    {
     "name": "stdout",
     "output_type": "stream",
     "text": [
      "[1, 2, 3, 4]\n",
      "[1, 2, 3, 4]\n",
      "1381556714112\n",
      "1381556714112\n"
     ]
    }
   ],
   "source": [
    "print(y)\n",
    "print(x)\n",
    "print(id(x))\n",
    "print(id(y))"
   ]
  },
  {
   "cell_type": "code",
   "execution_count": 178,
   "metadata": {},
   "outputs": [
    {
     "name": "stdout",
     "output_type": "stream",
     "text": [
      "{'a': 1, 'b': 2}\n",
      "{'a': 1, 'b': 2}\n"
     ]
    }
   ],
   "source": [
    "x = {'a' : 1, 'b' : 2}\n",
    "y = x\n",
    "print(x)\n",
    "print(y)\n",
    "\n",
    "y['c'] = 3"
   ]
  },
  {
   "cell_type": "code",
   "execution_count": 179,
   "metadata": {},
   "outputs": [
    {
     "name": "stdout",
     "output_type": "stream",
     "text": [
      "{'a': 1, 'b': 2, 'c': 3}\n",
      "{'a': 1, 'b': 2, 'c': 3}\n"
     ]
    }
   ],
   "source": [
    "print(x)\n",
    "print(y)\n"
   ]
  },
  {
   "cell_type": "code",
   "execution_count": null,
   "metadata": {},
   "outputs": [],
   "source": []
  },
  {
   "cell_type": "code",
   "execution_count": null,
   "metadata": {},
   "outputs": [],
   "source": []
  },
  {
   "cell_type": "code",
   "execution_count": null,
   "metadata": {},
   "outputs": [],
   "source": []
  },
  {
   "cell_type": "code",
   "execution_count": null,
   "metadata": {},
   "outputs": [],
   "source": []
  }
 ],
 "metadata": {
  "colab": {
   "collapsed_sections": [],
   "name": "02_Python_Basic.ipynb",
   "provenance": [],
   "toc_visible": true
  },
  "kernelspec": {
   "display_name": "Python 3 (ipykernel)",
   "language": "python",
   "name": "python3"
  },
  "language_info": {
   "codemirror_mode": {
    "name": "ipython",
    "version": 3
   },
   "file_extension": ".py",
   "mimetype": "text/x-python",
   "name": "python",
   "nbconvert_exporter": "python",
   "pygments_lexer": "ipython3",
   "version": "3.11.9"
  }
 },
 "nbformat": 4,
 "nbformat_minor": 4
}

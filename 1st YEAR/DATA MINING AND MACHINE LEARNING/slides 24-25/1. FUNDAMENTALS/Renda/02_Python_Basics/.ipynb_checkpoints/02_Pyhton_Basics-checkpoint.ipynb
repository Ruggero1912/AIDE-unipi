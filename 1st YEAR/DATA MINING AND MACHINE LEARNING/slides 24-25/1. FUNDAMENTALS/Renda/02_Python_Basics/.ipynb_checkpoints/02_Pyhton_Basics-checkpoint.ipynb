{
 "cells": [
  {
   "cell_type": "markdown",
   "metadata": {},
   "source": [
    "# Table of Contents:\n",
    "- **Variables and types**\n",
    "- **Control flow: conditional and iterators**\n",
    "- **Functions: reusable portions of programs**\n",
    "- **A first look at Classes**\n",
    "- **Modules and Packages**\n",
    "- **Files and utilities**\n"
   ]
  },
  {
   "cell_type": "markdown",
   "metadata": {},
   "source": [
    "# Variables and types\n",
    "\n",
    "In python, every object has an **identity**, a **type** and a **value**\n",
    "- **Identity**: defined at creation (obj’s address in memory). It can be known by invoking `id(x)`;\n",
    "- **Type**: defines possible values/operations for the obj;\n",
    "- **Value**: it can be *mutable* or *immutable*, depending on the fact it can be changed or not, according to the type. Changes to mutable objects can be done *in place*, i.e. without altering its identity."
   ]
  },
  {
   "cell_type": "code",
   "execution_count": 1,
   "metadata": {
    "ExecuteTime": {
     "end_time": "2020-06-19T13:05:45.329721Z",
     "start_time": "2020-06-19T13:05:45.317701Z"
    }
   },
   "outputs": [
    {
     "name": "stdout",
     "output_type": "stream",
     "text": [
      "6\n"
     ]
    }
   ],
   "source": [
    "x = 2\n",
    "y = 4\n",
    "z = x + y\n",
    "print(z) # print statement"
   ]
  },
  {
   "cell_type": "markdown",
   "metadata": {
    "id": "uwLxYtBbkx03"
   },
   "source": [
    "**Note:** No type declaration is required in Python: **\"If it walks like a duck, and it quacks like a duck, then we would call it a duck”**\n",
    "- Type info is associated with objects, not with referencing variables!\n",
    "- This is “duck typing”, widely used in scripting languages.\n",
    "\n",
    "The type of a variable is not statically known (e.g. in its declaration as in Java, C, C++). **The type of a variable depends on its current value.**"
   ]
  },
  {
   "cell_type": "code",
   "execution_count": 2,
   "metadata": {},
   "outputs": [
    {
     "name": "stdout",
     "output_type": "stream",
     "text": [
      "<class 'float'>\n",
      "<class 'int'>\n"
     ]
    }
   ],
   "source": [
    "my_var = 12.2\n",
    "print(type(my_var))\n",
    "my_var = 1\n",
    "print(type(my_var))"
   ]
  },
  {
   "cell_type": "markdown",
   "metadata": {
    "id": "Z-ew6fVc2bdO"
   },
   "source": [
    "## Built-in Data Types"
   ]
  },
  {
   "cell_type": "markdown",
   "metadata": {
    "id": "U_e3kvKFWAm8"
   },
   "source": [
    "### Numerics\n",
    "  - Integers\n",
    "  - Floating-Point numbers\n",
    "  - Complex Numbers\n",
    "  \n"
   ]
  },
  {
   "cell_type": "code",
   "execution_count": 3,
   "metadata": {
    "colab": {
     "base_uri": "https://localhost:8080/"
    },
    "id": "R6gdMLVKs77J",
    "outputId": "dafe4017-0999-47b5-f268-ac8afefc3b72"
   },
   "outputs": [
    {
     "name": "stdout",
     "output_type": "stream",
     "text": [
      "<class 'float'>\n",
      "4834396336\n",
      "<class 'int'>\n",
      "4375495920\n"
     ]
    }
   ],
   "source": [
    "x = 1.0 # assignment statement\n",
    "print(type(x)) \n",
    "print(id(x))\n",
    "z = 33\n",
    "print(type(z))\n",
    "print(id(z))"
   ]
  },
  {
   "cell_type": "code",
   "execution_count": 4,
   "metadata": {
    "colab": {
     "base_uri": "https://localhost:8080/"
    },
    "id": "rHUsdPXM3muo",
    "outputId": "711f8cdc-b6a0-4967-ff95-6f7744625e81"
   },
   "outputs": [
    {
     "data": {
      "text/plain": [
       "34.0"
      ]
     },
     "execution_count": 4,
     "metadata": {},
     "output_type": "execute_result"
    }
   ],
   "source": [
    "type(z+x)\n",
    "z+x"
   ]
  },
  {
   "cell_type": "markdown",
   "metadata": {},
   "source": [
    " ### Casting"
   ]
  },
  {
   "cell_type": "code",
   "execution_count": 5,
   "metadata": {},
   "outputs": [
    {
     "name": "stdout",
     "output_type": "stream",
     "text": [
      "2.5 <class 'float'>\n"
     ]
    }
   ],
   "source": [
    "x = 2.5\n",
    "print(x, type(x))"
   ]
  },
  {
   "cell_type": "code",
   "execution_count": 6,
   "metadata": {},
   "outputs": [
    {
     "name": "stdout",
     "output_type": "stream",
     "text": [
      "2 <class 'int'>\n"
     ]
    }
   ],
   "source": [
    "x = int(x)\n",
    "print(x, type(x))"
   ]
  },
  {
   "cell_type": "code",
   "execution_count": 7,
   "metadata": {},
   "outputs": [
    {
     "name": "stdout",
     "output_type": "stream",
     "text": [
      "True <class 'bool'>\n"
     ]
    }
   ],
   "source": [
    "x = bool(x)\n",
    "print(x, type(x))"
   ]
  },
  {
   "cell_type": "markdown",
   "metadata": {},
   "source": [
    "### Arithmetic Operators"
   ]
  },
  {
   "cell_type": "markdown",
   "metadata": {
    "ExecuteTime": {
     "end_time": "2020-03-09T13:43:20.109395Z",
     "start_time": "2020-03-09T13:43:20.045056Z"
    }
   },
   "source": [
    "`+`, `-`, `*`, `/`, `//` (integer division), `**` (power)"
   ]
  },
  {
   "cell_type": "code",
   "execution_count": 8,
   "metadata": {},
   "outputs": [
    {
     "data": {
      "text/plain": [
       "1.3636363636363635"
      ]
     },
     "execution_count": 8,
     "metadata": {},
     "output_type": "execute_result"
    }
   ],
   "source": [
    "3.0 / 2.2"
   ]
  },
  {
   "cell_type": "code",
   "execution_count": 9,
   "metadata": {},
   "outputs": [
    {
     "data": {
      "text/plain": [
       "1.0"
      ]
     },
     "execution_count": 9,
     "metadata": {},
     "output_type": "execute_result"
    }
   ],
   "source": [
    "3.0 // 2.2"
   ]
  },
  {
   "cell_type": "markdown",
   "metadata": {},
   "source": [
    "### Comparison operators"
   ]
  },
  {
   "cell_type": "markdown",
   "metadata": {},
   "source": [
    "---\n",
    "\n",
    ">Meaning | Symbol\n",
    ">--- | ---\n",
    ">Less than: | <\n",
    ">Greater than\t|\t>\n",
    ">Less than or equal |\t<=\n",
    ">Greater than or equal |\t>=\n",
    ">Equality\t|\t==\n",
    ">Inequality\t|\t!=\n",
    ">Identity\t|\tis\n"
   ]
  },
  {
   "cell_type": "code",
   "execution_count": 10,
   "metadata": {},
   "outputs": [
    {
     "data": {
      "text/plain": [
       "(True, True)"
      ]
     },
     "execution_count": 10,
     "metadata": {},
     "output_type": "execute_result"
    }
   ],
   "source": [
    "# objects identical?\n",
    "# is --> check objects identity\n",
    "# == --> check objects equality\n",
    "l1 = l2 = [1,2]\n",
    "\n",
    "l1 is l2, l1==l2"
   ]
  },
  {
   "cell_type": "code",
   "execution_count": 11,
   "metadata": {},
   "outputs": [
    {
     "name": "stdout",
     "output_type": "stream",
     "text": [
      "4835024192\n",
      "4835024192\n"
     ]
    }
   ],
   "source": [
    "print(id(l1))\n",
    "print(id(l2))"
   ]
  },
  {
   "cell_type": "code",
   "execution_count": 12,
   "metadata": {},
   "outputs": [
    {
     "data": {
      "text/plain": [
       "(False, True)"
      ]
     },
     "execution_count": 12,
     "metadata": {},
     "output_type": "execute_result"
    }
   ],
   "source": [
    "# objects identical?\n",
    "l1 = [1,2]\n",
    "l2 = [1,2]\n",
    "\n",
    "l1 is l2, l1 == l2"
   ]
  },
  {
   "cell_type": "code",
   "execution_count": 13,
   "metadata": {},
   "outputs": [
    {
     "name": "stdout",
     "output_type": "stream",
     "text": [
      "4832933952\n",
      "4835022848\n"
     ]
    }
   ],
   "source": [
    "print(id(l1))\n",
    "print(id(l2))"
   ]
  },
  {
   "cell_type": "markdown",
   "metadata": {
    "id": "8NWykay2tQdf"
   },
   "source": [
    "### Text sequence type\n",
    "  - **strings**: you can define a string by enclosing it with double quotes (\") or single quotes (') \n",
    "\n"
   ]
  },
  {
   "cell_type": "code",
   "execution_count": 14,
   "metadata": {
    "colab": {
     "base_uri": "https://localhost:8080/"
    },
    "id": "TAZuc8UjtPQB",
    "outputId": "b426a623-34ff-44d0-910a-003a9fabdde3",
    "scrolled": true
   },
   "outputs": [
    {
     "name": "stdout",
     "output_type": "stream",
     "text": [
      "<class 'str'>\n",
      "6\n"
     ]
    }
   ],
   "source": [
    "a = \"foobar\"\n",
    "print(type(a))\n",
    "print(len(a))  # returns the length of the string"
   ]
  },
  {
   "cell_type": "markdown",
   "metadata": {
    "id": "f5TG2IxYVSpK"
   },
   "source": [
    "How to format strings in python? see [here](https://pyformat.info/) and [here](https://www.python.org/dev/peps/pep-0498/)\n",
    "\n",
    "\n",
    "*   `%-formatting`: limited as to the types it supports. Only ints, strs, and doubles can be formatted. \n",
    "*   `str.format()`:  a bit too verbose\n",
    "*   `f-string`: a concise, readable way to include the value of Python expressions inside strings.\n",
    "\n",
    "\n"
   ]
  },
  {
   "cell_type": "code",
   "execution_count": 15,
   "metadata": {
    "colab": {
     "base_uri": "https://localhost:8080/"
    },
    "id": "MyM0dzarWkOz",
    "outputId": "1ae275d4-c72b-4f52-a4fb-ffb52e21536b"
   },
   "outputs": [
    {
     "name": "stdout",
     "output_type": "stream",
     "text": [
      "accuracy: 0.982 \t error_rate: 0.118\n"
     ]
    }
   ],
   "source": [
    "accuracy = 0.982\n",
    "error_rate = 0.118\n",
    "\n",
    "# %-formatting\n",
    "print('accuracy: %.3f \\t error_rate: %.3f' % (accuracy,error_rate))"
   ]
  },
  {
   "cell_type": "code",
   "execution_count": 16,
   "metadata": {
    "colab": {
     "base_uri": "https://localhost:8080/"
    },
    "id": "YtSvrPiF7DWB",
    "outputId": "f40695c5-b96b-4c72-ad69-2bc9bc472114"
   },
   "outputs": [
    {
     "name": "stdout",
     "output_type": "stream",
     "text": [
      "accuracy: 0.982 \t error_rate: 0.118\n"
     ]
    }
   ],
   "source": [
    "# str.format\n",
    "print('accuracy: {acc} \\t error_rate: {err}'.format(acc=accuracy,err = error_rate))"
   ]
  },
  {
   "cell_type": "code",
   "execution_count": 17,
   "metadata": {
    "colab": {
     "base_uri": "https://localhost:8080/"
    },
    "id": "zC77rm4x7HRQ",
    "outputId": "965ddeee-e376-4c4f-9179-d6b812d7219d"
   },
   "outputs": [
    {
     "name": "stdout",
     "output_type": "stream",
     "text": [
      "accuracy: 0.982 \t error_rate: 0.118\n"
     ]
    }
   ],
   "source": [
    "# f-string\n",
    "print(f'accuracy: {accuracy} \\t error_rate: {error_rate}')"
   ]
  },
  {
   "cell_type": "code",
   "execution_count": 18,
   "metadata": {
    "colab": {
     "base_uri": "https://localhost:8080/"
    },
    "id": "O9cx1nyB7FwA",
    "outputId": "d0938225-ee9a-469d-ff57-9576f4200573"
   },
   "outputs": [
    {
     "name": "stdout",
     "output_type": "stream",
     "text": [
      "accuracy: 0.98 \t error_rate: 0.12\n"
     ]
    }
   ],
   "source": [
    "# f-string: specify decimal precision\n",
    "print(f'accuracy: {accuracy:.2} \\t error_rate: {error_rate:.2}')"
   ]
  },
  {
   "cell_type": "code",
   "execution_count": 19,
   "metadata": {},
   "outputs": [
    {
     "name": "stdout",
     "output_type": "stream",
     "text": [
      "str1 1.0 False -1\n"
     ]
    }
   ],
   "source": [
    "print(\"str1\", 1.0, False, -1)  # The print statements converts all arguments to strings"
   ]
  },
  {
   "cell_type": "markdown",
   "metadata": {
    "id": "qBUS0R_oDA9W"
   },
   "source": [
    "**Slicing and indexing** operation on string. Zero-based indexing and negative numbers:\n",
    "\n",
    "![indexing](https://developers.google.com/edu/python/images/hello.png)"
   ]
  },
  {
   "cell_type": "markdown",
   "metadata": {},
   "source": [
    "Read more about slicing syntax [here](https://python-reference.readthedocs.io/en/latest/docs/brackets/slicing.html)\n",
    "\n",
    "Read more about text processing [here](https://python-reference.readthedocs.io/en/latest/docs/str/index.html)"
   ]
  },
  {
   "cell_type": "code",
   "execution_count": 20,
   "metadata": {
    "colab": {
     "base_uri": "https://localhost:8080/"
    },
    "id": "wNMzsDwxDAQj",
    "outputId": "99aba053-c42d-4cf7-aa74-a5cac6379218"
   },
   "outputs": [
    {
     "name": "stdout",
     "output_type": "stream",
     "text": [
      "e\n",
      "Hel\n",
      "Hel\n",
      "llo\n",
      "llo\n",
      "llo\n"
     ]
    }
   ],
   "source": [
    "word = 'Hello'\n",
    "print(word[1])     # python is 0-based indexing\n",
    "print(word[0:3])   # python is 0-based indexing\n",
    "print(word[:3])    # you can omit the first index when it is 0 \n",
    "print(word[2:])    # you can omit the second index when you mean the end of the string \n",
    "print(word[2:5])  \n",
    "print(word[2:100]) # too big index: truncated to the string length\n"
   ]
  },
  {
   "cell_type": "markdown",
   "metadata": {
    "id": "TikOfxruAhy5"
   },
   "source": [
    "There are several **string methods**. To name but a few:"
   ]
  },
  {
   "cell_type": "code",
   "execution_count": 21,
   "metadata": {
    "id": "6EJpZoNg8PEr"
   },
   "outputs": [],
   "source": [
    "a = \"foobar\""
   ]
  },
  {
   "cell_type": "code",
   "execution_count": 22,
   "metadata": {
    "colab": {
     "base_uri": "https://localhost:8080/"
    },
    "id": "dSQFzum-ApbK",
    "outputId": "a961011c-f3a5-4b0a-a290-a7c6681d70e3"
   },
   "outputs": [
    {
     "data": {
      "text/plain": [
       "(True, True)"
      ]
     },
     "execution_count": 22,
     "metadata": {},
     "output_type": "execute_result"
    }
   ],
   "source": [
    "a.startswith('foo'), a.endswith('bar')"
   ]
  },
  {
   "cell_type": "code",
   "execution_count": 23,
   "metadata": {
    "colab": {
     "base_uri": "https://localhost:8080/",
     "height": 35
    },
    "id": "UjycdAbNn3TU",
    "outputId": "4f53e487-64f4-4bb7-a0e7-953e40afc8a3"
   },
   "outputs": [
    {
     "data": {
      "text/plain": [
       "'FOOBAR'"
      ]
     },
     "execution_count": 23,
     "metadata": {},
     "output_type": "execute_result"
    }
   ],
   "source": [
    "a.upper()              # returns the uppercase version of the string"
   ]
  },
  {
   "cell_type": "markdown",
   "metadata": {},
   "source": [
    "**Strings are immutable: they can't be modified!**"
   ]
  },
  {
   "cell_type": "code",
   "execution_count": 24,
   "metadata": {
    "scrolled": true
   },
   "outputs": [
    {
     "ename": "TypeError",
     "evalue": "'str' object does not support item assignment",
     "output_type": "error",
     "traceback": [
      "\u001b[0;31m---------------------------------------------------------------------------\u001b[0m",
      "\u001b[0;31mTypeError\u001b[0m                                 Traceback (most recent call last)",
      "Cell \u001b[0;32mIn [24], line 1\u001b[0m\n\u001b[0;32m----> 1\u001b[0m a[\u001b[38;5;241m0\u001b[39m] \u001b[38;5;241m=\u001b[39m \u001b[38;5;124m'\u001b[39m\u001b[38;5;124mJ\u001b[39m\u001b[38;5;124m'\u001b[39m\n",
      "\u001b[0;31mTypeError\u001b[0m: 'str' object does not support item assignment"
     ]
    }
   ],
   "source": [
    "a[0] = 'J'"
   ]
  },
  {
   "cell_type": "markdown",
   "metadata": {},
   "source": [
    "We can also read string from the keyboard, using the command `input`:"
   ]
  },
  {
   "cell_type": "code",
   "execution_count": 25,
   "metadata": {},
   "outputs": [
    {
     "name": "stdout",
     "output_type": "stream",
     "text": [
      "Insert integer: 2\n"
     ]
    }
   ],
   "source": [
    "a = input(\"Insert integer: \")"
   ]
  },
  {
   "cell_type": "code",
   "execution_count": 26,
   "metadata": {
    "scrolled": true
   },
   "outputs": [
    {
     "name": "stdout",
     "output_type": "stream",
     "text": [
      "22\n"
     ]
    }
   ],
   "source": [
    "print(a + a) "
   ]
  },
  {
   "cell_type": "markdown",
   "metadata": {
    "id": "HilDrMMzs8YA"
   },
   "source": [
    "### Sequences\n",
    "  - **lists**: mutable sequences, typically (but not exclusively) used to store collections of homogeneous items \n",
    "  - **tuples**: immutable sequences, typically  (but not exclusively) used to store collections of heterogeneous data\n",
    "  - **range objects**: immutable sequences of numbers, commonly used for looping a specific number of times in for loops.\n",
    " "
   ]
  },
  {
   "cell_type": "markdown",
   "metadata": {
    "id": "MWSZVwoWuaOt"
   },
   "source": [
    "#### Example about lists: mutable sequences\n",
    "Lists are written within square brackets [ ]"
   ]
  },
  {
   "cell_type": "code",
   "execution_count": 27,
   "metadata": {
    "colab": {
     "base_uri": "https://localhost:8080/"
    },
    "id": "V2rfvXzgZW7q",
    "outputId": "8872ff0d-d2a1-4929-f597-8e728635e905"
   },
   "outputs": [
    {
     "name": "stdout",
     "output_type": "stream",
     "text": [
      "s = [1, 2, 3]\n",
      "t = [4, 'a']\n",
      "k = ['c', 'i', 'a', 'o']\n",
      "x = 2\n",
      "y = 1\n"
     ]
    }
   ],
   "source": [
    "s = [1,2,3]\n",
    "t = [4, 'a']\n",
    "k = list('ciao')\n",
    "x = 2\n",
    "y = 1\n",
    "print('s =',s)\n",
    "print('t =',t)\n",
    "print('k =',k)\n",
    "print('x =',x)\n",
    "print('y =',y)\n"
   ]
  },
  {
   "cell_type": "markdown",
   "metadata": {
    "id": "Q365B9UXUCpk"
   },
   "source": [
    "Some of the most common **sequence methods**\n"
   ]
  },
  {
   "cell_type": "code",
   "execution_count": 28,
   "metadata": {
    "colab": {
     "base_uri": "https://localhost:8080/"
    },
    "id": "u23c2fw3Zp4V",
    "outputId": "6320cbe7-6341-41ef-af54-68ca4183f740"
   },
   "outputs": [
    {
     "name": "stdout",
     "output_type": "stream",
     "text": [
      "Input s:\t[1, 2, 3]\n",
      "Input x:\t2\n",
      "\n",
      "x in s: True\n"
     ]
    }
   ],
   "source": [
    "# IN: True if an item of s is equal to x, else False\n",
    "print(f'Input s:\\t{s}')\n",
    "print(f'Input x:\\t{x}')\n",
    "print()\n",
    "print('x in s:', x in s)"
   ]
  },
  {
   "cell_type": "code",
   "execution_count": 29,
   "metadata": {
    "colab": {
     "base_uri": "https://localhost:8080/"
    },
    "id": "0PQq1O8qod3-",
    "outputId": "52d1f9f7-b29c-4182-a34c-13552a1116b5"
   },
   "outputs": [
    {
     "name": "stdout",
     "output_type": "stream",
     "text": [
      "Input x:\t2\n",
      "Input t:\t[4, 'a']\n",
      "\n",
      "x not in t: True\n"
     ]
    }
   ],
   "source": [
    "# NOT IN: False if an item of s is equal to x, else True\n",
    "print(f'Input x:\\t{x}')\n",
    "print(f'Input t:\\t{t}')\n",
    "print()\n",
    "print('x not in t:',x not in t)"
   ]
  },
  {
   "cell_type": "code",
   "execution_count": 30,
   "metadata": {
    "colab": {
     "base_uri": "https://localhost:8080/"
    },
    "id": "Fz6rZH0tof3L",
    "outputId": "b8a5776c-5130-4faf-c612-aa696c41b098"
   },
   "outputs": [
    {
     "name": "stdout",
     "output_type": "stream",
     "text": [
      "Input s:\t[1, 2, 3]\n",
      "Input t:\t[4, 'a']\n",
      "\n",
      "s + t: [1, 2, 3, 4, 'a']\n"
     ]
    }
   ],
   "source": [
    "# +: concatenation of s and t\n",
    "print(f'Input s:\\t{s}')\n",
    "print(f'Input t:\\t{t}')\n",
    "print()\n",
    "print('s + t:', s + t)"
   ]
  },
  {
   "cell_type": "code",
   "execution_count": 31,
   "metadata": {
    "colab": {
     "base_uri": "https://localhost:8080/"
    },
    "id": "oXOvsGSRo41W",
    "outputId": "fd7e28de-d810-498f-dc40-c496b54d6aed"
   },
   "outputs": [
    {
     "name": "stdout",
     "output_type": "stream",
     "text": [
      "Input s: \t[1, 2, 3]\n",
      "\n",
      "len(s): 3\n"
     ]
    }
   ],
   "source": [
    "# len(): length of s\n",
    "print(f'Input s: \\t{s}')\n",
    "print()\n",
    "print('len(s):', len(s))"
   ]
  },
  {
   "cell_type": "code",
   "execution_count": 32,
   "metadata": {
    "colab": {
     "base_uri": "https://localhost:8080/"
    },
    "id": "yUWt2k4loieR",
    "outputId": "68ab4c00-3989-4263-9a22-68adad0060dd"
   },
   "outputs": [
    {
     "name": "stdout",
     "output_type": "stream",
     "text": [
      "Input s: \t[1, 2, 3]\n",
      "\n",
      "s[2]: 3\n"
     ]
    }
   ],
   "source": [
    "# INDEXING: i-th item of s, origin 0\t\n",
    "print(f'Input s: \\t{s}')\n",
    "print()\n",
    "print('s[2]:',s[2])"
   ]
  },
  {
   "cell_type": "code",
   "execution_count": 33,
   "metadata": {
    "colab": {
     "base_uri": "https://localhost:8080/"
    },
    "id": "Z_MkzYSUo2hR",
    "outputId": "271514ae-9336-4371-9d8f-323f48ee7a7d"
   },
   "outputs": [
    {
     "name": "stdout",
     "output_type": "stream",
     "text": [
      "Input s: \t[1, 2, 3]\n",
      "\n",
      "s[1:]: [2, 3]\n"
     ]
    }
   ],
   "source": [
    "# SLICING:s[i:j] slice of s from i to j\n",
    "print(f'Input s: \\t{s}')\n",
    "print()\n",
    "print('s[1:]:',s[1:])\n"
   ]
  },
  {
   "cell_type": "code",
   "execution_count": 34,
   "metadata": {
    "colab": {
     "base_uri": "https://localhost:8080/"
    },
    "id": "uWIICtN5o3w6",
    "outputId": "93bd57b9-fac6-4e9b-8406-46ac8bca8366"
   },
   "outputs": [
    {
     "name": "stdout",
     "output_type": "stream",
     "text": [
      "Input s: \t[1, 2, 3]\n",
      "\n",
      "s[0:len(s):2]: [1, 3]\n"
     ]
    }
   ],
   "source": [
    "# SLICING:s[i:j:k] slice of s from i to j with step k\n",
    "print(f'Input s: \\t{s}')\n",
    "print()\n",
    "print('s[0:len(s):2]:',s[0:len(s):2])\n"
   ]
  },
  {
   "cell_type": "code",
   "execution_count": 35,
   "metadata": {
    "colab": {
     "base_uri": "https://localhost:8080/"
    },
    "id": "kNokWFgVo50A",
    "outputId": "0395879a-3682-4cdd-8c2d-50911424e98f",
    "scrolled": true
   },
   "outputs": [
    {
     "name": "stdout",
     "output_type": "stream",
     "text": [
      "Input s: \t[1, 2, 3]\n",
      "\n",
      "max(s): 3\n"
     ]
    }
   ],
   "source": [
    "# MAX: largest item of s\n",
    "print(f'Input s: \\t{s}')\n",
    "print()\n",
    "print('max(s):',max(s))"
   ]
  },
  {
   "cell_type": "code",
   "execution_count": 36,
   "metadata": {},
   "outputs": [
    {
     "name": "stdout",
     "output_type": "stream",
     "text": [
      "Input nl: \t['a', 'b', 'c']\n",
      "\n",
      "min(nl),max(nl): a c\n"
     ]
    }
   ],
   "source": [
    "nl = [\"a\",\"b\",\"c\"]\n",
    "print(f'Input nl: \\t{nl}')\n",
    "print()\n",
    "print('min(nl),max(nl):',min(nl),max(nl))\n"
   ]
  },
  {
   "cell_type": "code",
   "execution_count": 37,
   "metadata": {
    "colab": {
     "base_uri": "https://localhost:8080/"
    },
    "id": "RP-fe9Dao6_C",
    "outputId": "1e0faa6c-1832-4ba5-b376-3506ed0f83ac"
   },
   "outputs": [
    {
     "name": "stdout",
     "output_type": "stream",
     "text": [
      "Input s: \t[1, 2, 3]\n",
      "Input y: \t1\n",
      "\n",
      "s.index(y): 0\n"
     ]
    }
   ],
   "source": [
    "# INDEX:index of the first occurrence of y in s\n",
    "print(f'Input s: \\t{s}')\n",
    "print(f'Input y: \\t{y}')\n",
    "print()\n",
    "print('s.index(y):',s.index(y))\n"
   ]
  },
  {
   "cell_type": "code",
   "execution_count": 38,
   "metadata": {
    "colab": {
     "base_uri": "https://localhost:8080/"
    },
    "id": "ecTZqIUwo8KY",
    "outputId": "21a78a85-dfa2-4074-8ed5-da509747b93f"
   },
   "outputs": [
    {
     "name": "stdout",
     "output_type": "stream",
     "text": [
      "Input s: \t[1, 2, 3]\n",
      "Input y: \t1\n",
      "\n",
      "s.count(y): 1\n"
     ]
    }
   ],
   "source": [
    "# COUNT: total number of occurrences of y in s\n",
    "print(f'Input s: \\t{s}')\n",
    "print(f'Input y: \\t{y}')\n",
    "print()\n",
    "print('s.count(y):',s.count(y))\n"
   ]
  },
  {
   "cell_type": "markdown",
   "metadata": {
    "id": "4R2B9BddpGGf"
   },
   "source": [
    "Some of the most common **list methods.**"
   ]
  },
  {
   "cell_type": "code",
   "execution_count": 39,
   "metadata": {
    "id": "qlSVvUQdUzHW"
   },
   "outputs": [],
   "source": [
    "new_list = [1,2,3]"
   ]
  },
  {
   "cell_type": "code",
   "execution_count": 40,
   "metadata": {
    "colab": {
     "base_uri": "https://localhost:8080/"
    },
    "id": "1WaZtFQDpEYW",
    "outputId": "d9e3d160-564d-4d0e-f821-4fe9b9a4e4a9"
   },
   "outputs": [
    {
     "name": "stdout",
     "output_type": "stream",
     "text": [
      "Input: \t[1, 2, 3]\n",
      "append an element\n",
      "[1, 2, 3, 4]\n"
     ]
    }
   ],
   "source": [
    "print(f'Input: \\t{new_list}')\n",
    "print('append an element')\n",
    "new_list.append(4)            # adds a single element to the end of the list. \n",
    "                            # Common error: does not return the new list, just modifies the original.\n",
    "print(new_list)\n"
   ]
  },
  {
   "cell_type": "code",
   "execution_count": 41,
   "metadata": {
    "colab": {
     "base_uri": "https://localhost:8080/"
    },
    "id": "tABZtEntpJO3",
    "outputId": "ad091b4d-c627-4b1a-85e5-7d97b93b71c7"
   },
   "outputs": [
    {
     "name": "stdout",
     "output_type": "stream",
     "text": [
      "Input: \t[1, 2, 3, 4]\n",
      "insert an element\n",
      "[1, 2, 6, 3, 4]\n"
     ]
    }
   ],
   "source": [
    "print(f'Input: \\t{new_list}')\n",
    "print('insert an element')\n",
    "new_list.insert(2, 6)       # inserts the element at the given index, shifting elements to the right.\n",
    "print(new_list)"
   ]
  },
  {
   "cell_type": "code",
   "execution_count": 42,
   "metadata": {
    "colab": {
     "base_uri": "https://localhost:8080/"
    },
    "id": "K0N88mEWpKup",
    "outputId": "a272a484-074d-4004-977a-61e5a4ee2b3a"
   },
   "outputs": [
    {
     "name": "stdout",
     "output_type": "stream",
     "text": [
      "Input: \t[1, 2, 6, 3, 4]\n",
      "extend with another list\n",
      "[1, 2, 6, 3, 4, 7, 8]\n"
     ]
    }
   ],
   "source": [
    "print(f'Input: \\t{new_list}')\n",
    "print('extend with another list')\n",
    "new_list.extend([7,8])     # adds the elements in the second list to the end of our new_list.\n",
    "print(new_list)\n"
   ]
  },
  {
   "cell_type": "code",
   "execution_count": 43,
   "metadata": {
    "colab": {
     "base_uri": "https://localhost:8080/"
    },
    "id": "eHaf_x1YpPoY",
    "outputId": "60d44aea-314f-4092-b291-984ffefbdc56"
   },
   "outputs": [
    {
     "name": "stdout",
     "output_type": "stream",
     "text": [
      "Input: \t[1, 2, 6, 3, 4, 7, 8]\n",
      "remove an element\n",
      "[1, 2, 6, 3, 4, 8]\n"
     ]
    }
   ],
   "source": [
    "print(f'Input: \\t{new_list}')\n",
    "print('remove an element')\n",
    "new_list.remove(7)          # searches for the first instance of the given element and removes it (throws ValueError if not present)\n",
    "print(new_list)\n"
   ]
  },
  {
   "cell_type": "code",
   "execution_count": 44,
   "metadata": {
    "colab": {
     "base_uri": "https://localhost:8080/"
    },
    "id": "p8bJqq1xpSei",
    "outputId": "dd28f8c7-58bc-4ffc-8020-0f38cd6d6e04"
   },
   "outputs": [
    {
     "name": "stdout",
     "output_type": "stream",
     "text": [
      "Input ID: \t4847702848\n",
      "Input: \t[1, 2, 6, 3, 4, 8]\n",
      "\n",
      "sort the list with \"sorted\"\n",
      "(With sorted(list)) ID: \t4832989120\n",
      "(With sorted(list)): \t[1, 2, 3, 4, 6, 8]\n",
      "\n",
      "sort the list with \"sort\" method\n",
      "(With list.sort()) ID: \t4847702848\n",
      "(With list.sort()): \t[1, 2, 3, 4, 6, 8]\n"
     ]
    }
   ],
   "source": [
    "print(f'Input ID: \\t{id(new_list)}')\n",
    "print(f'Input: \\t{new_list}')\n",
    "\n",
    "print()\n",
    "print('sort the list with \"sorted\"')\n",
    "another_list = sorted(new_list)   # sorts the list NOT in place \n",
    "print(f'(With sorted(list)) ID: \\t{id(another_list)}')\n",
    "print(f'(With sorted(list)): \\t{another_list}')\n",
    "print()\n",
    "print('sort the list with \"sort\" method')\n",
    "new_list.sort()                   # sorts the list in place (does not return it and does not alter its identity)\n",
    "print(f'(With list.sort()) ID: \\t{id(new_list)}')\n",
    "print(f'(With list.sort()): \\t{new_list}')\n"
   ]
  },
  {
   "cell_type": "code",
   "execution_count": 45,
   "metadata": {
    "colab": {
     "base_uri": "https://localhost:8080/"
    },
    "id": "WiBcAno6pWSK",
    "outputId": "1813a765-1dea-482f-c11d-bbd737caa7b6"
   },
   "outputs": [
    {
     "name": "stdout",
     "output_type": "stream",
     "text": [
      "Input: \t[1, 2, 3, 4, 6, 8]\n",
      "reverse the list\n",
      "[8, 6, 4, 3, 2, 1]\n"
     ]
    }
   ],
   "source": [
    "print(f'Input: \\t{new_list}')\n",
    "print('reverse the list')\n",
    "new_list.reverse()            # reverses the list in place (does not return it)\n",
    "print(new_list)\n"
   ]
  },
  {
   "cell_type": "code",
   "execution_count": 46,
   "metadata": {
    "colab": {
     "base_uri": "https://localhost:8080/"
    },
    "id": "5iacShU6pYqj",
    "outputId": "d1d788d7-64cc-422f-9a36-b75c03f0ae3b"
   },
   "outputs": [
    {
     "name": "stdout",
     "output_type": "stream",
     "text": [
      "Input: \t[8, 6, 4, 3, 2, 1]\n",
      "pop the element at the given index\n",
      "8\n",
      "[6, 4, 3, 2, 1]\n"
     ]
    }
   ],
   "source": [
    "print(f'Input: \\t{new_list}')\n",
    "print('pop the element at the given index')\n",
    "a = new_list.pop(0)           # removes and returns the element at the given index. Returns the rightmost element if index is omitted \n",
    "print(a)\n",
    "print(new_list)\n",
    "\n"
   ]
  },
  {
   "cell_type": "markdown",
   "metadata": {
    "id": "nMEasbms-B48"
   },
   "source": [
    "#### Example about tuples: immutable sequences\n",
    "Tuples are written within round brackets ```(a,b)```\n",
    "\n",
    "\n"
   ]
  },
  {
   "cell_type": "code",
   "execution_count": 47,
   "metadata": {
    "colab": {
     "base_uri": "https://localhost:8080/"
    },
    "id": "TLuzKG5ImfkM",
    "outputId": "067aa998-5feb-4240-b8aa-23c43278001e"
   },
   "outputs": [
    {
     "name": "stdout",
     "output_type": "stream",
     "text": [
      "(2, 3, 5, 7)\n",
      "3\n"
     ]
    }
   ],
   "source": [
    "firstprimes = (2,3,5,7)\n",
    "print(firstprimes)\n",
    "print(firstprimes[1])\n"
   ]
  },
  {
   "cell_type": "code",
   "execution_count": 48,
   "metadata": {},
   "outputs": [
    {
     "ename": "AttributeError",
     "evalue": "'tuple' object has no attribute 'append'",
     "output_type": "error",
     "traceback": [
      "\u001b[0;31m---------------------------------------------------------------------------\u001b[0m",
      "\u001b[0;31mAttributeError\u001b[0m                            Traceback (most recent call last)",
      "Cell \u001b[0;32mIn [48], line 1\u001b[0m\n\u001b[0;32m----> 1\u001b[0m \u001b[43mfirstprimes\u001b[49m\u001b[38;5;241;43m.\u001b[39;49m\u001b[43mappend\u001b[49m(\u001b[38;5;241m9\u001b[39m)\n",
      "\u001b[0;31mAttributeError\u001b[0m: 'tuple' object has no attribute 'append'"
     ]
    }
   ],
   "source": [
    "firstprimes.append(9) # uncomment to see well formatted error!"
   ]
  },
  {
   "cell_type": "code",
   "execution_count": 49,
   "metadata": {
    "colab": {
     "base_uri": "https://localhost:8080/"
    },
    "id": "6WttK0ciAA36",
    "outputId": "81e48c1e-0156-4278-b645-c1835cbca6a7"
   },
   "outputs": [
    {
     "name": "stdout",
     "output_type": "stream",
     "text": [
      "'tuple' object has no attribute 'append'\n",
      "7\n",
      "'tuple' object doesn't support item deletion\n"
     ]
    }
   ],
   "source": [
    "try:\n",
    "    firstprimes.append(9)\n",
    "except AttributeError as exc:\n",
    "    print(exc)\n",
    "    print(firstprimes[-1])\n",
    "\n",
    "try:\n",
    "    del firstprimes[0] \n",
    "except TypeError as exc:\n",
    "    print(exc)"
   ]
  },
  {
   "cell_type": "markdown",
   "metadata": {},
   "source": [
    "We can **unpack** a tuple by assigning it to a comma-separated list of variables:"
   ]
  },
  {
   "cell_type": "code",
   "execution_count": 50,
   "metadata": {},
   "outputs": [
    {
     "name": "stdout",
     "output_type": "stream",
     "text": [
      "x = 10\n",
      "y = 20\n"
     ]
    }
   ],
   "source": [
    "point = (10, 20)\n",
    "x, y = point\n",
    "\n",
    "print(\"x =\", x)\n",
    "print(\"y =\", y)"
   ]
  },
  {
   "cell_type": "markdown",
   "metadata": {
    "id": "0yb5-OpA-Hzq"
   },
   "source": [
    "### Mappings - ```dict```\n",
    "\n",
    "\n",
    "  - A mapping object maps *hashable values* to arbitrary objects. \n",
    "  A value is hashable if its hash value never changes during its lifetime and can be compared to other objects. Mappings are mutable objects. There is currently only one standard mapping type, the **dictionary**.\n",
    "  \n",
    "The contents of a dict can be written as a series of key:value pairs within braces { }, \n",
    "\n",
    "An example of  **dict** definition is:\n",
    "```\n",
    "dict = {key1:value1, key2:value2, ... }.\n",
    "```\n",
    "\n"
   ]
  },
  {
   "cell_type": "code",
   "execution_count": 51,
   "metadata": {
    "colab": {
     "base_uri": "https://localhost:8080/"
    },
    "id": "DEPRbSmDmipW",
    "outputId": "81e3476d-92bd-4de7-fbf2-a8b615f42f45"
   },
   "outputs": [
    {
     "name": "stdout",
     "output_type": "stream",
     "text": [
      "{'name': 'marta', 'age': 32}\n"
     ]
    }
   ],
   "source": [
    "my_diz = {'name': 'marta', \n",
    "          'age':32}\n",
    "print(my_diz)"
   ]
  },
  {
   "cell_type": "code",
   "execution_count": 52,
   "metadata": {
    "colab": {
     "base_uri": "https://localhost:8080/"
    },
    "id": "b56Fa0f7pe2C",
    "outputId": "7b5217b6-e952-42a5-e80e-41ac6373ef77"
   },
   "outputs": [
    {
     "name": "stdout",
     "output_type": "stream",
     "text": [
      "marta\n",
      "None\n"
     ]
    }
   ],
   "source": [
    "# access value by key\n",
    "print(my_diz['name'])\n",
    "# print(my_diz['email'])  ## raises KeyError\n",
    "print(my_diz.get('email'))  ## Return None or \"default\" value (instead of KeyError)"
   ]
  },
  {
   "cell_type": "code",
   "execution_count": 53,
   "metadata": {
    "colab": {
     "base_uri": "https://localhost:8080/"
    },
    "id": "gZF6AApWphxG",
    "outputId": "eb061539-e1cf-43b1-9185-100a15520c6b"
   },
   "outputs": [
    {
     "name": "stdout",
     "output_type": "stream",
     "text": [
      "{'name': 'marta', 'age': 32, 'email': ['marta at marta dot it']}\n"
     ]
    }
   ],
   "source": [
    "# add new key-value pairs\n",
    "my_diz['email']=['marta at marta dot it']\n",
    "print(my_diz)"
   ]
  },
  {
   "cell_type": "code",
   "execution_count": 54,
   "metadata": {
    "colab": {
     "base_uri": "https://localhost:8080/"
    },
    "id": "Pe1zKpSzpj1K",
    "outputId": "f2b182cc-f60b-4692-a437-7652dd0d5a7d"
   },
   "outputs": [
    {
     "name": "stdout",
     "output_type": "stream",
     "text": [
      "{1: 'a', 2: 'b', 3: 'c'}\n",
      "<zip object at 0x120347c80>\n",
      "[(1, 'a'), (2, 'b'), (3, 'c')]\n"
     ]
    }
   ],
   "source": [
    "diz_from_lists = dict(zip([1,2,3],['a','b','c']))\n",
    "print(diz_from_lists)\n",
    "# we will see zip function in details later\n",
    "# it returns an iterator of tuples, where the i-th tuple contains the i-th element from each of the argument sequences\n",
    "print(zip([1,2,3],['a','b','c']))\n",
    "print(list(zip([1,2,3],['a','b','c'])))"
   ]
  },
  {
   "cell_type": "markdown",
   "metadata": {
    "id": "lADZKlSWA20Q"
   },
   "source": [
    "The objects returned by dict.keys(), dict.values() and dict.items() are view objects. They provide a dynamic view on the dictionary’s entries, which means that when the dictionary changes, the view reflects these changes. We can iterate over the view object using the *for loop syntax*: we will see it in a while.\n"
   ]
  },
  {
   "cell_type": "markdown",
   "metadata": {
    "id": "LmsjFfMEcUd2"
   },
   "source": [
    "Iterating over a dictionary.\n",
    "\n",
    "\n",
    "*   python 3.5 and earlier:\n",
    "  *   **Pay attention: items will appear in an arbitrary order**\n",
    "*   python 3.6:\n",
    "  *   new `dict` implementation: *The order-preserving aspect of this new implementation is considered an implementation detail and should not be relied upon*\n",
    "*   python 3.7:\n",
    "  *  *The insertion-order preservation nature of dict objects is now an official part of the Python language spec*\n"
   ]
  },
  {
   "cell_type": "code",
   "execution_count": 55,
   "metadata": {
    "colab": {
     "base_uri": "https://localhost:8080/"
    },
    "id": "oNbT7lkMhDwS",
    "outputId": "20c5ade1-f5db-4282-866e-0fe5a73df297"
   },
   "outputs": [
    {
     "name": "stdout",
     "output_type": "stream",
     "text": [
      "Python 3.10.8\r\n"
     ]
    }
   ],
   "source": [
    "!python --version"
   ]
  },
  {
   "cell_type": "markdown",
   "metadata": {},
   "source": [
    "Preliminar examples of **for loops**."
   ]
  },
  {
   "cell_type": "code",
   "execution_count": 56,
   "metadata": {
    "colab": {
     "base_uri": "https://localhost:8080/"
    },
    "id": "KmeBA2tQcSjZ",
    "outputId": "dee906f6-c71c-43f7-a7ee-04a8b664bc85"
   },
   "outputs": [
    {
     "name": "stdout",
     "output_type": "stream",
     "text": [
      "name\n",
      "age\n",
      "email\n",
      "\n",
      "name\n",
      "age\n",
      "email\n",
      "\n",
      "marta\n",
      "32\n",
      "['marta at marta dot it']\n"
     ]
    }
   ],
   "source": [
    "# iterating over keys\n",
    "for key in my_diz:\n",
    "    print(key)\n",
    "print()\n",
    "\n",
    "for key in my_diz.keys():\n",
    "    print(key)\n",
    "print()\n",
    "for v in my_diz.values():\n",
    "    print(v)"
   ]
  },
  {
   "cell_type": "code",
   "execution_count": 57,
   "metadata": {
    "colab": {
     "base_uri": "https://localhost:8080/"
    },
    "id": "30Wqdx62hYzC",
    "outputId": "6d2a3d6e-7740-4ec1-ecb8-0feb66ecd13a"
   },
   "outputs": [
    {
     "name": "stdout",
     "output_type": "stream",
     "text": [
      "marta\n",
      "32\n",
      "['marta at marta dot it']\n",
      "\n"
     ]
    }
   ],
   "source": [
    "# iterating over values\n",
    "for value in my_diz.values(): \n",
    "    print(value)\n",
    "print()"
   ]
  },
  {
   "cell_type": "code",
   "execution_count": 58,
   "metadata": {
    "colab": {
     "base_uri": "https://localhost:8080/"
    },
    "id": "l6AiDCJghb_J",
    "outputId": "0f8ebf04-e6d0-408e-a284-0707340b7fd6"
   },
   "outputs": [
    {
     "name": "stdout",
     "output_type": "stream",
     "text": [
      "name ... marta\n",
      "age ... 32\n",
      "email ... ['marta at marta dot it']\n"
     ]
    }
   ],
   "source": [
    "# iterating over items\n",
    "for a,b in my_diz.items(): \n",
    "    print(f'{a} ... {b}')"
   ]
  },
  {
   "cell_type": "markdown",
   "metadata": {
    "id": "Xu0DagWE-Lcs"
   },
   "source": [
    "### Set\n",
    "- A set object is an unordered collection of distinct hashable objects. Dictionary keys and set members use hashable objects.\n",
    "- Common uses of sets include membership testing, removing duplicates from a sequence, and computing mathematical operations such as intersection, union, difference, and symmetric difference.\n",
    "- Set elements are written within braces { }"
   ]
  },
  {
   "cell_type": "code",
   "execution_count": 59,
   "metadata": {
    "colab": {
     "base_uri": "https://localhost:8080/"
    },
    "id": "jYHLQknB6QWh",
    "outputId": "ff5bc29a-8a8c-4da6-a753-1813c690eaf0"
   },
   "outputs": [
    {
     "name": "stdout",
     "output_type": "stream",
     "text": [
      "{0, 1, 2, 3}\n",
      "{0, 1, 2, 3}\n",
      "True\n"
     ]
    }
   ],
   "source": [
    "A = {0, 1, 2, 3}\n",
    "B = {3, 2, 0, 3, 1, 1, 3, 0}\n",
    "print(A)\n",
    "print(B)\n",
    "print(A == B)"
   ]
  },
  {
   "cell_type": "code",
   "execution_count": 60,
   "metadata": {
    "colab": {
     "base_uri": "https://localhost:8080/"
    },
    "id": "z_gTAzNmqKlK",
    "outputId": "223cc3ab-3905-495a-d57b-2d92f17cf3f1"
   },
   "outputs": [
    {
     "name": "stdout",
     "output_type": "stream",
     "text": [
      "[1, 2, 3, 4, 5, 1, 2, 4]\n",
      "{1, 2, 3, 4, 5}\n",
      "[1, 2, 3, 4, 5]\n"
     ]
    }
   ],
   "source": [
    "listC = [1,2,3,4,5,1,2,4] # list \n",
    "setC = set(listC)\n",
    "print(listC)\n",
    "print(setC)\n",
    "print(list(setC))"
   ]
  },
  {
   "cell_type": "code",
   "execution_count": 61,
   "metadata": {
    "colab": {
     "base_uri": "https://localhost:8080/"
    },
    "id": "R_uf5KaCqsV5",
    "outputId": "203a9f1c-c5b1-4d19-adb2-1242f5bcbb22"
   },
   "outputs": [
    {
     "name": "stdout",
     "output_type": "stream",
     "text": [
      "A {0, 1, 2, 3}\n",
      "C {1, 2, 3, 4, 5}\n",
      "UNION {0, 1, 2, 3, 4, 5}\n",
      "INTERSECTION {1, 2, 3}\n"
     ]
    }
   ],
   "source": [
    "print('A',A)\n",
    "print('C',setC)\n",
    "print('UNION', A.union(setC))\n",
    "print('INTERSECTION',A.intersection(setC))"
   ]
  },
  {
   "cell_type": "markdown",
   "metadata": {
    "id": "eunVyWWcunlY"
   },
   "source": [
    "### Many others data types:\n",
    " - classes,\n",
    " - instances, \n",
    " - exceptions\n",
    " - boolean values\n",
    " - ..."
   ]
  },
  {
   "cell_type": "markdown",
   "metadata": {
    "id": "2aCIWR9bL-WY"
   },
   "source": [
    "## Mutable vs Immutable Object"
   ]
  },
  {
   "cell_type": "markdown",
   "metadata": {
    "id": "Exjw8UWwL-Oo"
   },
   "source": [
    "- Objects of built-in types like **list**, **set**, **dict** are **mutable**. Custom classes are generally mutable.\n",
    "- Objects of built-in types like **int**, **float**, **bool**, **str**, **tuple** are **immutable**.\n",
    "\n",
    "\n",
    "*Mutable* and *immutable* objects behave in a different way: changes to mutable objects can be done *in place*, i.e. without altering its identity.\n",
    "\n",
    "**more about it**: take a look at [this nice tool](http://www.pythontutor.com/live.html#mode=edit)!"
   ]
  },
  {
   "cell_type": "markdown",
   "metadata": {},
   "source": [
    "- Whenever a variable references an IMMUTABLE value, a new object has to be created if a different value has to be stored."
   ]
  },
  {
   "cell_type": "code",
   "execution_count": 62,
   "metadata": {
    "colab": {
     "base_uri": "https://localhost:8080/"
    },
    "id": "AGj-Juqy4zBw",
    "outputId": "e2100322-e382-4afe-ac05-3c52752c23c8"
   },
   "outputs": [
    {
     "name": "stdout",
     "output_type": "stream",
     "text": [
      "foo\n",
      "foo\n",
      "4398667888\n",
      "4398667888\n",
      "foo\n",
      "foobar\n",
      "4398667888\n",
      "4848023664\n"
     ]
    }
   ],
   "source": [
    "x = 'foo'\n",
    "y = x\n",
    "print(x)\n",
    "print(y)\n",
    "print(id(x))\n",
    "print(id(y))\n",
    "\n",
    "y += 'bar'\n",
    "print(x)\n",
    "print(y)\n",
    "print(id(x))\n",
    "print(id(y))\n"
   ]
  },
  {
   "cell_type": "code",
   "execution_count": 63,
   "metadata": {
    "colab": {
     "base_uri": "https://localhost:8080/"
    },
    "id": "u0q6IwQdkBjR",
    "outputId": "306bc750-f29b-4ad0-b0db-48b1052bcd11"
   },
   "outputs": [
    {
     "name": "stdout",
     "output_type": "stream",
     "text": [
      "(1, 2, 3)\n",
      "(1, 2, 3)\n",
      "4848010816\n",
      "4848010816\n",
      "(1, 2, 3)\n",
      "(1, 2, 3, 4, 5, 6)\n",
      "4848010816\n",
      "4847920096\n"
     ]
    }
   ],
   "source": [
    "# example with tuples\n",
    "x = (1,2,3)\n",
    "y = x\n",
    "print(x)\n",
    "print(y)\n",
    "print(id(x))\n",
    "print(id(y))\n",
    "\n",
    "y += (4,5,6)\n",
    "print(x)\n",
    "print(y)\n",
    "print(id(x))\n",
    "print(id(y))"
   ]
  },
  {
   "cell_type": "markdown",
   "metadata": {
    "id": "DABK4Fm943wg"
   },
   "source": [
    "- Whenever a new variable is assigned another variable that references a MUTABLE value (like a list), the new variable will reference the same object "
   ]
  },
  {
   "cell_type": "code",
   "execution_count": 64,
   "metadata": {
    "colab": {
     "base_uri": "https://localhost:8080/"
    },
    "id": "5pOm6E8TL-Dt",
    "outputId": "f5c950d2-0645-40fa-b5d9-aec352e88617"
   },
   "outputs": [
    {
     "name": "stdout",
     "output_type": "stream",
     "text": [
      "[1, 2, 3]\n",
      "[1, 2, 3]\n",
      "4848022464\n",
      "4848022464\n",
      "[1, 2, 3, 4]\n",
      "[1, 2, 3, 4]\n",
      "4848022464\n",
      "4848022464\n"
     ]
    }
   ],
   "source": [
    "x = [1, 2, 3]\n",
    "y = x\n",
    "print(x)\n",
    "print(y)\n",
    "print(id(x))\n",
    "print(id(y))\n",
    "y.append(4)\n",
    "print(y)\n",
    "print(x)\n",
    "print(id(x))\n",
    "print(id(y))\n"
   ]
  },
  {
   "cell_type": "markdown",
   "metadata": {
    "id": "_mMd6GQKnE8b"
   },
   "source": [
    "# Control flow: Conditional and Iterators\n",
    "- from [this tutorial](http://anh.cs.luc.edu/handsonPythonTutorial/ch3.html)"
   ]
  },
  {
   "cell_type": "markdown",
   "metadata": {
    "id": "M5fLlzCq_oS_"
   },
   "source": [
    "## the *if-else* statement\n",
    "\n",
    "The if-else statement is used to check a condition;  \n",
    "- if the condition is true, a block (the if-block) is run,\n",
    "- else another block (the else-block) is executed.\n",
    "\n",
    "The general Python *if-else* syntax is\n",
    "\n",
    "```python\n",
    "if condition :\n",
    "  indented Statement Block For True Condition\n",
    "else:\n",
    "  indented Statement Block For False Condition\n",
    "```\n"
   ]
  },
  {
   "cell_type": "markdown",
   "metadata": {},
   "source": [
    "### IMPORTANT\n",
    "Python's *Blocks by Indentation* forces proper code structuring and readability:\n",
    "- the whitespace indentation of a piece of code affects its meaning. The statements of a logical block should all have the same indentation. If one of the lines in a group has a different indentation, it is flagged as a syntax error.\n",
    "- According to the official Python style guide (PEP 8 - [Python Enhancement Proposals](https://peps.python.org/pep-0001/)), you should indent with 4 spaces."
   ]
  },
  {
   "cell_type": "code",
   "execution_count": 65,
   "metadata": {
    "colab": {
     "base_uri": "https://localhost:8080/"
    },
    "id": "FKuu-1oz-TXH",
    "outputId": "12275fe8-8e42-4120-c07b-ccb0469d687e"
   },
   "outputs": [
    {
     "name": "stdout",
     "output_type": "stream",
     "text": [
      "ok, it's 2\n",
      "value 0 represents False value in \"if\" context\n"
     ]
    }
   ],
   "source": [
    "x = 2\n",
    "if x ==2:\n",
    "    print(\"ok, it's 2\")\n",
    "else:\n",
    "    print('nope')\n",
    "\n",
    "# in \"if\" context, the following events represent False value :\n",
    "# - False\n",
    "# - None\n",
    "# - numeric values equal to 0, such as 0, 0.0, -0.0\n",
    "# - empty string: '' \n",
    "# - empty containers (such as lists, tuples and dictionaries)\n",
    "# - anything that implements __bool__ to return False\n",
    "# - anything that doesn't implement __bool__, but does implement __len__ to return a value equal to 0\n",
    "\n",
    "y = 0  \n",
    "if y:\n",
    "    print('ok, it is non-zero')\n",
    "else:\n",
    "    print(f'value {y} represents False value in \"if\" context')\n",
    "# if z_undefined: # it does not exists: will raise an error!\n",
    "#   print('exists!')\n"
   ]
  },
  {
   "cell_type": "markdown",
   "metadata": {
    "id": "HYUKVQFEG9Qs"
   },
   "source": [
    "The most elaborate syntax for an if-elif-else statement is indicated in general below:\n",
    "\n",
    "```python\n",
    "if condition1 :\n",
    "  indented Statement Block For True Condition1\n",
    "elif condition2 :\n",
    "  indented Statement Block For First True Condition2\n",
    "else:\n",
    "  indented Statement Block For Each Condition False\n",
    "```"
   ]
  },
  {
   "cell_type": "code",
   "execution_count": 66,
   "metadata": {
    "colab": {
     "base_uri": "https://localhost:8080/"
    },
    "id": "yrpevgzpHG0A",
    "outputId": "33dc5c2c-543a-49d4-999e-dbeb62f42a33"
   },
   "outputs": [
    {
     "name": "stdout",
     "output_type": "stream",
     "text": [
      "B\n"
     ]
    }
   ],
   "source": [
    "score = 81\n",
    "if score >= 90:\n",
    "    letter = 'A'\n",
    "elif score >= 80:\n",
    "    letter = 'B'\n",
    "elif score >= 70:\n",
    "    letter = 'C'\n",
    "elif score >= 60:\n",
    "    letter = 'D'\n",
    "else:\n",
    "    letter = 'F'\n",
    "print(letter)"
   ]
  },
  {
   "cell_type": "code",
   "execution_count": 67,
   "metadata": {},
   "outputs": [],
   "source": [
    "condition1 = False \n",
    "\n",
    "# example 1\n",
    "if condition1:\n",
    "    print(\"printed if condition1 is True\")\n",
    "    \n",
    "    print(\"still inside the if block\")"
   ]
  },
  {
   "cell_type": "code",
   "execution_count": 68,
   "metadata": {},
   "outputs": [
    {
     "name": "stdout",
     "output_type": "stream",
     "text": [
      "now outside the if block\n"
     ]
    }
   ],
   "source": [
    "# example 2    \n",
    "if condition1:\n",
    "    print(\"printed if condition1 is True\")\n",
    "    \n",
    "print(\"now outside the if block\")"
   ]
  },
  {
   "cell_type": "markdown",
   "metadata": {
    "id": "dPycJ_bm_tYq"
   },
   "source": [
    "##  the *for*  loop\n",
    " - iterate over a sequence of object\n",
    " - iterate over *range* progression\n",
    "\n"
   ]
  },
  {
   "cell_type": "markdown",
   "metadata": {
    "id": "O9-G8w4KJbRt"
   },
   "source": [
    "The *for* syntax is:\n",
    "```python\n",
    "for item in sequence:\n",
    "  indented statements to repeat; may use item\n",
    "```\n"
   ]
  },
  {
   "cell_type": "code",
   "execution_count": 69,
   "metadata": {
    "colab": {
     "base_uri": "https://localhost:8080/"
    },
    "id": "arjwuFYE_6Mk",
    "outputId": "32804ca9-ccec-4a45-8b87-958fb6026ac6"
   },
   "outputs": [
    {
     "name": "stdout",
     "output_type": "stream",
     "text": [
      "iterating over a list\n",
      "1\n",
      "2\n",
      "3\n",
      "5\n",
      "7\n",
      "11\n"
     ]
    }
   ],
   "source": [
    "# iterate over a sequence of object\n",
    "print('iterating over a list')\n",
    "first_prime = [1,2,3,5,7,11] \n",
    "for prime_number in first_prime:\n",
    "    print(prime_number)"
   ]
  },
  {
   "cell_type": "code",
   "execution_count": 70,
   "metadata": {
    "colab": {
     "base_uri": "https://localhost:8080/"
    },
    "id": "AsBRzmFwRZe_",
    "outputId": "412308cb-7428-4545-a2e8-d6c0bb0beedf"
   },
   "outputs": [
    {
     "name": "stdout",
     "output_type": "stream",
     "text": [
      "iterating and enumerating items\n",
      "0 1\n",
      "1 2\n",
      "2 3\n",
      "3 5\n",
      "4 7\n",
      "5 11\n"
     ]
    }
   ],
   "source": [
    "print('iterating and enumerating items')\n",
    "for index_prime,prime_number in enumerate(first_prime): # enumerate: return a tuple: (index, element)\n",
    "    print(index_prime,prime_number)\n"
   ]
  },
  {
   "cell_type": "markdown",
   "metadata": {
    "id": "juaYCxaWOIAD"
   },
   "source": [
    "The *range* syntax is\n",
    "```\n",
    "range(stop)\n",
    "```\n",
    "or:\n",
    "```\n",
    "range(start, stop[, step])\n",
    "```\n"
   ]
  },
  {
   "cell_type": "code",
   "execution_count": 71,
   "metadata": {
    "colab": {
     "base_uri": "https://localhost:8080/"
    },
    "id": "-MYau72aRcZZ",
    "outputId": "e4514f2a-9735-457b-bc60-fe1c42965a4c"
   },
   "outputs": [
    {
     "name": "stdout",
     "output_type": "stream",
     "text": [
      "arithmetic progression\n",
      "0\n",
      "1\n",
      "2\n",
      "3\n",
      "4\n"
     ]
    }
   ],
   "source": [
    "# iterate over a sequence of object\n",
    "print('arithmetic progression')\n",
    "for x in range(5):\n",
    "    print(x)\n"
   ]
  },
  {
   "cell_type": "code",
   "execution_count": 72,
   "metadata": {
    "colab": {
     "base_uri": "https://localhost:8080/"
    },
    "id": "3jTJZNdgPGbM",
    "outputId": "8b316b81-c590-4654-aaec-e39261a999d1"
   },
   "outputs": [
    {
     "name": "stdout",
     "output_type": "stream",
     "text": [
      "arithmetic progression\n",
      "-4\n",
      "-2\n",
      "0\n",
      "2\n",
      "4\n"
     ]
    }
   ],
   "source": [
    "print('arithmetic progression')\n",
    "for x in range(-4,5,2):\n",
    "    print(x)\n"
   ]
  },
  {
   "cell_type": "code",
   "execution_count": 73,
   "metadata": {},
   "outputs": [
    {
     "name": "stdout",
     "output_type": "stream",
     "text": [
      "data\n",
      "mining\n",
      "and\n",
      "machine\n",
      "learning\n"
     ]
    }
   ],
   "source": [
    "for word in [\"data\", \"mining\", \"and\", \"machine\", \"learning\"]:\n",
    "    print(word)"
   ]
  },
  {
   "cell_type": "markdown",
   "metadata": {
    "id": "6aLpxBKoaSCI"
   },
   "source": [
    "#### list comprehension\n",
    "It is a special syntax to build up lists, specifying how each element\n",
    "has to be set up.\n",
    "\n",
    "The list comprehension syntax is:\n",
    "\n",
    "\n",
    "```python\n",
    "[ expression for item in iterable ]\n",
    "```\n",
    "\n"
   ]
  },
  {
   "cell_type": "code",
   "execution_count": 74,
   "metadata": {
    "colab": {
     "base_uri": "https://localhost:8080/"
    },
    "id": "Fos2f6XFRk_P",
    "outputId": "39347e26-e684-4628-ed9c-01beb59f32fd"
   },
   "outputs": [
    {
     "name": "stdout",
     "output_type": "stream",
     "text": [
      "[1, 4, 9, 16]\n",
      "[0, 1, 2, 3, 4]\n",
      "['HELLO!!!', 'AND!!!', 'GOODBYE!!!']\n"
     ]
    }
   ],
   "source": [
    "# example 1\n",
    "nums = [1,2,3,4]\n",
    "squares = [n * n for n in nums]\n",
    "print(squares)\n",
    "\n",
    "# example 2\n",
    "example_lc = [x for x in range(10) if x<5]\n",
    "print(example_lc)\n",
    "\n",
    "# example 3\n",
    "strs = ['hello', 'and', 'goodbye']\n",
    "shouting = [ s.upper() + '!!!' for s in strs ]\n",
    "print(shouting)"
   ]
  },
  {
   "cell_type": "markdown",
   "metadata": {},
   "source": [
    "In Python, we have also **dictionary comprehensions**. All the principles we saw are the same for these comprehensions, too. To create a dictionary comprehension we just need to change the brackets `[]` to curly braces `{}`. Additionally, in the output expression, we need to separate key and value by a colon `:`."
   ]
  },
  {
   "cell_type": "code",
   "execution_count": 75,
   "metadata": {},
   "outputs": [
    {
     "name": "stdout",
     "output_type": "stream",
     "text": [
      "{'beer': 3872.54, 'fish': 9681.35, 'apple': 1936.27}\n"
     ]
    }
   ],
   "source": [
    "prices = {\"beer\": 2, \"fish\": 5, \"apple\": 1}\n",
    "lire = { key : value*1936.27 for key, value in prices.items() }\n",
    "print(lire)"
   ]
  },
  {
   "cell_type": "markdown",
   "metadata": {
    "id": "PUQ2P-IPMlm9"
   },
   "source": [
    "## the *while* loop\n",
    "The general Python *while* syntax is\n",
    "\n",
    "```python\n",
    "while condition :\n",
    "  indentedBlock\n",
    "```\n",
    "\n"
   ]
  },
  {
   "cell_type": "code",
   "execution_count": 76,
   "metadata": {
    "colab": {
     "base_uri": "https://localhost:8080/"
    },
    "id": "V-vTkyV7vQnr",
    "outputId": "a9bcc807-359e-41cb-c8f1-e172baf97d2f"
   },
   "outputs": [
    {
     "name": "stdout",
     "output_type": "stream",
     "text": [
      "[0, 2, 4]\n"
     ]
    }
   ],
   "source": [
    "x = 0\n",
    "population = []\n",
    "while x<5:\n",
    "    population.append(x)\n",
    "    x+=2\n",
    "print(population)"
   ]
  },
  {
   "cell_type": "markdown",
   "metadata": {
    "id": "ayZEuEmdQA08"
   },
   "source": [
    "#### use of the *break* statement\n",
    "In Python, the *break* statement can be used in *while* and *for* loop  to stop the execution of the looping statement.\n",
    "\n",
    "Any corresponding *else block* is not executed if executon breaks out of a loop."
   ]
  },
  {
   "cell_type": "code",
   "execution_count": 77,
   "metadata": {
    "colab": {
     "base_uri": "https://localhost:8080/"
    },
    "id": "759-ykZKSO1Z",
    "outputId": "bcb1bc4c-d022-4ee7-8500-def09548c8a4"
   },
   "outputs": [
    {
     "name": "stdout",
     "output_type": "stream",
     "text": [
      "ciao\n",
      "[0, 2, 4]\n"
     ]
    }
   ],
   "source": [
    "x = 0\n",
    "population = []\n",
    "while x<5:\n",
    "    if x>6:\n",
    "        break\n",
    "    population.append(x)\n",
    "    x+=2\n",
    "else: # only executed when the while condition becomes false.\n",
    "    print('ciao')\n",
    "print(population)"
   ]
  },
  {
   "cell_type": "code",
   "execution_count": 78,
   "metadata": {
    "colab": {
     "base_uri": "https://localhost:8080/"
    },
    "id": "9Cz4u-fwPkJ7",
    "outputId": "820407fc-c6c8-4f4c-8efb-9a41418978ce"
   },
   "outputs": [
    {
     "name": "stdout",
     "output_type": "stream",
     "text": [
      "[0, 2]\n"
     ]
    }
   ],
   "source": [
    "x = 0\n",
    "population = []\n",
    "for x in range(0,5,2):\n",
    "    if x >3:\n",
    "        break\n",
    "    population.append(x)\n",
    "else: # If execution breaks out of the loop, or if an exception is raised, it won't be executed.\n",
    "    print('ciao')\n",
    "print(population)"
   ]
  },
  {
   "cell_type": "markdown",
   "metadata": {
    "id": "8ul_n_0JQMjr"
   },
   "source": [
    "#### use of the *continue* statement\n",
    "In Python, the continue statement can be used in a *while* or *for* loop to skip the rest of the statements in the current iteration."
   ]
  },
  {
   "cell_type": "code",
   "execution_count": 79,
   "metadata": {
    "colab": {
     "base_uri": "https://localhost:8080/"
    },
    "id": "YsNNnenJQ9ur",
    "outputId": "aac06ad4-24a4-47a8-bb1e-bcab0ffd5800"
   },
   "outputs": [
    {
     "name": "stdout",
     "output_type": "stream",
     "text": [
      "[0, 1, 2, 4]\n"
     ]
    }
   ],
   "source": [
    "x = 0\n",
    "population = []\n",
    "for x in range(0,5):\n",
    "    if x ==3:\n",
    "        continue\n",
    "    population.append(x) # statements after continue are skipped if x==3\n",
    "\n",
    "print(population)"
   ]
  },
  {
   "cell_type": "markdown",
   "metadata": {},
   "source": [
    "## Iterables and Iterators"
   ]
  },
  {
   "cell_type": "markdown",
   "metadata": {
    "id": "JI-9SfPy6Jtm"
   },
   "source": [
    "\n",
    "An object is defined as **iterable** if it is capable of returning its members one at a time. Examples of iterables include **all sequence types** (such as list, str, and tuple) and some non-sequence types like **dict, file objects**, and objects of any classes you define with an \\_\\_iter\\_\\_() method or with a \\_\\_getitem\\_\\_() method that implements Sequence semantics.\n",
    "\n"
   ]
  },
  {
   "cell_type": "markdown",
   "metadata": {},
   "source": [
    " An **iterator** is an object representing **a stream of data**. You can create an iterator object by applying the `iter()` built-in function to an iterable."
   ]
  },
  {
   "cell_type": "markdown",
   "metadata": {},
   "source": [
    "Example: `zip` function \n",
    "\n",
    "It makes an iterator that aggregates elements from each of the iterables.\n",
    "\n",
    "`zip` returns an **iterator** of tuples, where the i-th tuple contains the i-th element from each of the argument sequences or iterables.\n",
    "\n",
    "Differently from iterables, iterators don’t have length and can’t be indexed.\n"
   ]
  },
  {
   "cell_type": "code",
   "execution_count": 80,
   "metadata": {
    "colab": {
     "base_uri": "https://localhost:8080/"
    },
    "id": "9Q7JNb2oCpZG",
    "outputId": "5f867c4c-a2e3-4130-ed9f-62fe1e57053f",
    "scrolled": true
   },
   "outputs": [
    {
     "name": "stdout",
     "output_type": "stream",
     "text": [
      "[(1, 'a'), (2, 'b'), (3, 'c')]\n",
      "[(1, 2, 3), ('a', 'b', 'c')]\n"
     ]
    }
   ],
   "source": [
    "zipped = list(zip([1,2,3],['a','b','c']))\n",
    "print(zipped)\n",
    "unzipped = list(zip(*zipped))\n",
    "print(unzipped)"
   ]
  },
  {
   "cell_type": "code",
   "execution_count": 81,
   "metadata": {
    "colab": {
     "base_uri": "https://localhost:8080/"
    },
    "id": "KzQm9tk8BjvX",
    "outputId": "a602998c-6b41-44f7-cc45-a841214ad343"
   },
   "outputs": [
    {
     "name": "stdout",
     "output_type": "stream",
     "text": [
      "1 a\n",
      "2 b\n",
      "3 c\n",
      "\n",
      "1 a\n",
      "2 b\n",
      "\n",
      "1 a\n",
      "2 b\n",
      "3 c\n",
      "\n"
     ]
    }
   ],
   "source": [
    "for x,y in zip([1,2,3],['a','b','c']):\n",
    "    print(x,y)\n",
    "print()\n",
    "\n",
    "for x,y in zip([1,2,3],['a','b']):\n",
    "    print(x,y)\n",
    "print()\n",
    "\n",
    "for x,y in zip ([1,2,3],'abc'):\n",
    "    print(x,y)\n",
    "print()\n",
    "\n",
    "# for x,y in zip (123,['a','b','c']): # raise an error: numerics do not support iteration!\n",
    "#     print(x,y)\n",
    "# print() "
   ]
  },
  {
   "cell_type": "code",
   "execution_count": 82,
   "metadata": {},
   "outputs": [
    {
     "name": "stdout",
     "output_type": "stream",
     "text": [
      "10\n",
      "20\n",
      "30\n"
     ]
    }
   ],
   "source": [
    "values = [10, 20, 30]\n",
    "iterator = iter(values)\n",
    "print(next(iterator))\n",
    "print(next(iterator))\n",
    "print(next(iterator))\n",
    "# print(next(iterator)) # ERROR!"
   ]
  },
  {
   "cell_type": "markdown",
   "metadata": {},
   "source": [
    "Python has many built-in classes that are iterators. For example, an `enumerate` and `reversed` objects are iterators."
   ]
  },
  {
   "cell_type": "code",
   "execution_count": 83,
   "metadata": {},
   "outputs": [
    {
     "name": "stdout",
     "output_type": "stream",
     "text": [
      "<class 'enumerate'>\n",
      "(0, 'apple')\n"
     ]
    }
   ],
   "source": [
    "fruits = (\"apple\", \"pineapple\", \"blueberry\")\n",
    "iterator = enumerate(fruits)\n",
    "print(type(iterator))\n",
    "print(next(iterator))"
   ]
  },
  {
   "cell_type": "code",
   "execution_count": 84,
   "metadata": {},
   "outputs": [
    {
     "name": "stdout",
     "output_type": "stream",
     "text": [
      "<class 'reversed'>\n",
      "blueberry\n"
     ]
    }
   ],
   "source": [
    "fruits = (\"apple\", \"pineapple\", \"blueberry\")\n",
    "iterator = reversed(fruits)\n",
    "print(type(iterator))\n",
    "print(next(iterator))"
   ]
  },
  {
   "cell_type": "markdown",
   "metadata": {},
   "source": [
    "A **generator expression** is an expression that returns an iterator. It looks like a normal expression followed by a *for* expression defining a loop variable, range, and an optional *if* expression.\n",
    "\n",
    "The general formula is: `(` *output expression* `for` *iterator variable* `in` *iterable*`)`"
   ]
  },
  {
   "cell_type": "code",
   "execution_count": 85,
   "metadata": {
    "ExecuteTime": {
     "end_time": "2020-03-11T08:37:51.103664Z",
     "start_time": "2020-03-11T08:37:51.083944Z"
    }
   },
   "outputs": [
    {
     "name": "stdout",
     "output_type": "stream",
     "text": [
      "<class 'generator'>\n",
      "1\n",
      "4\n",
      "9\n"
     ]
    }
   ],
   "source": [
    "numbers = [1, 2, 3, 4, 5]\n",
    "squares = (number ** 2 for number in numbers)\n",
    "\n",
    "print(type(squares))\n",
    "\n",
    "print(next(squares))\n",
    "print(next(squares))\n",
    "print(next(squares))"
   ]
  },
  {
   "cell_type": "markdown",
   "metadata": {
    "id": "T9Wugj4sPY0-"
   },
   "source": [
    "# Functions: reusable portions of programs\n"
   ]
  },
  {
   "cell_type": "markdown",
   "metadata": {
    "id": "oEcBMLFqQxoM"
   },
   "source": [
    "## Definition:\n",
    "- **def**  keyword followed by the **function name**, the function **arguments** (or parameters) in brackets, and a colon `:`.\n",
    "- a block of indented statements that implements the function **body**\n",
    "- possibly, an indented **return statement**\n",
    "\n",
    "The function syntax is:\n",
    "\n",
    "\n",
    "```python\n",
    "def function_name(arguments):\n",
    "    function body\n",
    "    return value\n",
    "```\n",
    "\n",
    "\n",
    "\n"
   ]
  },
  {
   "cell_type": "code",
   "execution_count": 86,
   "metadata": {},
   "outputs": [
    {
     "name": "stdout",
     "output_type": "stream",
     "text": [
      "ciao\n",
      "ciao\n",
      "ciao\n"
     ]
    }
   ],
   "source": [
    "def printtimes(word,times):\n",
    "    for x in range(times):\n",
    "        print(word) # function body\n",
    "\n",
    "printtimes('ciao',3)"
   ]
  },
  {
   "cell_type": "code",
   "execution_count": 87,
   "metadata": {},
   "outputs": [
    {
     "name": "stdout",
     "output_type": "stream",
     "text": [
      "Help on function printtimes in module __main__:\n",
      "\n",
      "printtimes(word, times)\n",
      "\n"
     ]
    }
   ],
   "source": [
    "help(printtimes)"
   ]
  },
  {
   "cell_type": "markdown",
   "metadata": {},
   "source": [
    "Optionally, but highly recommended, we can define a so called **\"docstring\"**, which is a description of the functions purpose and behaivor. The docstring should follow directly after the function definition, before the code in the function body."
   ]
  },
  {
   "cell_type": "code",
   "execution_count": 88,
   "metadata": {
    "colab": {
     "base_uri": "https://localhost:8080/"
    },
    "id": "zxNeWsDSU9MX",
    "outputId": "1fa5d509-42ab-4be3-f60b-6a5eacfc826c"
   },
   "outputs": [
    {
     "name": "stdout",
     "output_type": "stream",
     "text": [
      "ciao\n",
      "ciao\n",
      "ciao\n"
     ]
    }
   ],
   "source": [
    "def printtimes(word,times):\n",
    "    '''A function to print a word several times\n",
    "  \n",
    "    Args:\n",
    "        word: the word\n",
    "        times: how many repetitions'''\n",
    "  \n",
    "    for x in range(times):\n",
    "        print(word) # function body\n",
    "\n",
    "printtimes('ciao',3)\n"
   ]
  },
  {
   "cell_type": "code",
   "execution_count": 89,
   "metadata": {
    "colab": {
     "base_uri": "https://localhost:8080/"
    },
    "id": "_XQUyOoR7jsC",
    "outputId": "4c6d0701-9dc4-4f4c-a355-1a0bfb7638f4"
   },
   "outputs": [
    {
     "name": "stdout",
     "output_type": "stream",
     "text": [
      "Help on function printtimes in module __main__:\n",
      "\n",
      "printtimes(word, times)\n",
      "    A function to print a word several times\n",
      "    \n",
      "    Args:\n",
      "        word: the word\n",
      "        times: how many repetitions\n",
      "\n"
     ]
    }
   ],
   "source": [
    "# python docstring\n",
    "help(printtimes)"
   ]
  },
  {
   "cell_type": "code",
   "execution_count": 90,
   "metadata": {},
   "outputs": [],
   "source": [
    "printtimes?"
   ]
  },
  {
   "cell_type": "markdown",
   "metadata": {
    "id": "9qtIY5tSVhai"
   },
   "source": [
    "### Default values"
   ]
  },
  {
   "cell_type": "code",
   "execution_count": 91,
   "metadata": {
    "colab": {
     "base_uri": "https://localhost:8080/"
    },
    "id": "99_NAODYVaCu",
    "outputId": "d58d315e-90c4-42a4-9cfe-d5e2b20b6dfd"
   },
   "outputs": [
    {
     "name": "stdout",
     "output_type": "stream",
     "text": [
      "ciao\n",
      "ciao\n",
      "ciao\n",
      "ciao\n"
     ]
    }
   ],
   "source": [
    "def anotherprinttimes(word,times=4):\n",
    "    for x in range(times):\n",
    "        print(word) # function body\n",
    "        \n",
    "anotherprinttimes('ciao')"
   ]
  },
  {
   "cell_type": "markdown",
   "metadata": {},
   "source": [
    "If we explicitly list the name of the arguments in the function calls, they do not need to come in the same order as in the function definition. This is called **keyword arguments**, and is often very useful in functions that takes a lot of optional arguments."
   ]
  },
  {
   "cell_type": "code",
   "execution_count": 92,
   "metadata": {},
   "outputs": [
    {
     "name": "stdout",
     "output_type": "stream",
     "text": [
      "ciao\n",
      "ciao\n",
      "ciao\n"
     ]
    }
   ],
   "source": [
    "anotherprinttimes(times = 3, word = 'ciao')"
   ]
  },
  {
   "cell_type": "markdown",
   "metadata": {
    "id": "KFa-9kJyVlu7"
   },
   "source": [
    "### Returned Values"
   ]
  },
  {
   "cell_type": "code",
   "execution_count": 93,
   "metadata": {
    "colab": {
     "base_uri": "https://localhost:8080/"
    },
    "id": "z_wBezcWVuYP",
    "outputId": "8aefd187-f34e-4f83-9f16-3f05373870bd"
   },
   "outputs": [
    {
     "data": {
      "text/plain": [
       "4"
      ]
     },
     "execution_count": 93,
     "metadata": {},
     "output_type": "execute_result"
    }
   ],
   "source": [
    "def my_max(x,y):\n",
    "    if x>y:\n",
    "        return x\n",
    "    return y\n",
    "\n",
    "my_max(3,4)"
   ]
  },
  {
   "cell_type": "markdown",
   "metadata": {},
   "source": [
    "We can return multiple values from a function using tuples (see above):"
   ]
  },
  {
   "cell_type": "code",
   "execution_count": 94,
   "metadata": {},
   "outputs": [
    {
     "data": {
      "text/plain": [
       "(9, 27, 81)"
      ]
     },
     "execution_count": 94,
     "metadata": {},
     "output_type": "execute_result"
    }
   ],
   "source": [
    "def powers(x):\n",
    "    \"\"\"\n",
    "    Return a few powers of x.\n",
    "    \"\"\"\n",
    "    return x ** 2, x ** 3, x ** 4\n",
    "\n",
    "powers(3)"
   ]
  },
  {
   "cell_type": "code",
   "execution_count": 95,
   "metadata": {},
   "outputs": [
    {
     "name": "stdout",
     "output_type": "stream",
     "text": [
      "9 27 81\n"
     ]
    }
   ],
   "source": [
    "x2, x3, x4 = powers(3)\n",
    "print(x2, x3, x4)"
   ]
  },
  {
   "cell_type": "markdown",
   "metadata": {},
   "source": [
    "## Lambda functions"
   ]
  },
  {
   "cell_type": "markdown",
   "metadata": {},
   "source": [
    "In Python we can also create **unnamed functions**, using the lambda keyword:"
   ]
  },
  {
   "cell_type": "code",
   "execution_count": 96,
   "metadata": {},
   "outputs": [],
   "source": [
    "f1 = lambda x: x**2\n",
    "    \n",
    "# is equivalent to \n",
    "\n",
    "def f2(x):\n",
    "    return x**2"
   ]
  },
  {
   "cell_type": "code",
   "execution_count": 97,
   "metadata": {},
   "outputs": [
    {
     "data": {
      "text/plain": [
       "(4, 4)"
      ]
     },
     "execution_count": 97,
     "metadata": {},
     "output_type": "execute_result"
    }
   ],
   "source": [
    "f1(2), f2(2)"
   ]
  },
  {
   "cell_type": "markdown",
   "metadata": {},
   "source": [
    "This technique is useful for example when we want to pass a simple function as an argument to another function, like this:"
   ]
  },
  {
   "cell_type": "code",
   "execution_count": 98,
   "metadata": {},
   "outputs": [],
   "source": [
    "map?"
   ]
  },
  {
   "cell_type": "code",
   "execution_count": 99,
   "metadata": {},
   "outputs": [
    {
     "data": {
      "text/plain": [
       "[9, 4, 1, 0, 1, 4, 9]"
      ]
     },
     "execution_count": 99,
     "metadata": {},
     "output_type": "execute_result"
    }
   ],
   "source": [
    "# map is a built-in python function\n",
    "list(map(lambda x: x**2, range(-3,4)))"
   ]
  },
  {
   "cell_type": "code",
   "execution_count": 100,
   "metadata": {},
   "outputs": [
    {
     "data": {
      "text/plain": [
       "[9, 4, 1, 0, 1, 4, 9]"
      ]
     },
     "execution_count": 100,
     "metadata": {},
     "output_type": "execute_result"
    }
   ],
   "source": [
    "list(map(f2, range(-3,4)))"
   ]
  },
  {
   "cell_type": "code",
   "execution_count": 101,
   "metadata": {},
   "outputs": [],
   "source": [
    "list.sort?"
   ]
  },
  {
   "cell_type": "code",
   "execution_count": 102,
   "metadata": {},
   "outputs": [
    {
     "name": "stdout",
     "output_type": "stream",
     "text": [
      "[(1, 'z'), (2, 'y'), (3, 'x'), (3, 'w')]\n",
      "[(3, 'w'), (3, 'x'), (2, 'y'), (1, 'z')]\n"
     ]
    }
   ],
   "source": [
    "a = [(2,'y'), (1,'z'), (3,'x'), (3,'w')]\n",
    "\n",
    "a.sort(key = lambda pair: pair[0])\n",
    "print(a)\n",
    "\n",
    "a.sort(key = lambda pair: pair[1])\n",
    "print(a)"
   ]
  },
  {
   "cell_type": "markdown",
   "metadata": {},
   "source": [
    "## Generator function"
   ]
  },
  {
   "cell_type": "markdown",
   "metadata": {},
   "source": [
    "Usually, we use a **generator function** or **generator expression** when we want to create a **custom iterator**. A generator function is a function which returns a generator iterator. It looks like a normal function except that it contains `yield` expressions for producing a series of values usable in a `for` loop or that can be retrieved one at a time with the `next()` function."
   ]
  },
  {
   "cell_type": "code",
   "execution_count": 103,
   "metadata": {},
   "outputs": [
    {
     "name": "stdout",
     "output_type": "stream",
     "text": [
      "<class 'generator'>\n",
      "10\n",
      "11\n",
      "12\n"
     ]
    }
   ],
   "source": [
    "def generate_numbers(min_value, max_value):\n",
    "    while min_value < max_value:\n",
    "        yield min_value\n",
    "        min_value += 1\n",
    "\n",
    "numbers = generate_numbers(10, 20)\n",
    "print(type(numbers))\n",
    "\n",
    "print(next(numbers))\n",
    "print(next(numbers))\n",
    "print(next(numbers))"
   ]
  },
  {
   "cell_type": "markdown",
   "metadata": {},
   "source": [
    "Each `yield` temporarily suspends processing, remembering the location execution state (including local variables and pending try-statements). When the generator iterator resumes, it picks up where it left off (in contrast to functions which start fresh on every invocation)."
   ]
  },
  {
   "cell_type": "markdown",
   "metadata": {},
   "source": [
    "# Exceptions"
   ]
  },
  {
   "cell_type": "markdown",
   "metadata": {},
   "source": [
    "In Python errors are managed with a special language construct called \"Exceptions\". When errors occur exceptions can be raised, which interrupts the normal program flow and fallback to somewhere else in the code where the closest try-except statement is defined.\n",
    "\n",
    "To generate an exception we can use the `raise` statement, which takes an argument that must be an instance of the class `BaseException` or a class derived from it."
   ]
  },
  {
   "cell_type": "code",
   "execution_count": 104,
   "metadata": {
    "ExecuteTime": {
     "end_time": "2020-03-10T12:03:11.054455Z",
     "start_time": "2020-03-10T12:03:11.037522Z"
    }
   },
   "outputs": [
    {
     "ename": "Exception",
     "evalue": "description of the error",
     "output_type": "error",
     "traceback": [
      "\u001b[0;31m---------------------------------------------------------------------------\u001b[0m",
      "\u001b[0;31mException\u001b[0m                                 Traceback (most recent call last)",
      "Cell \u001b[0;32mIn [104], line 1\u001b[0m\n\u001b[0;32m----> 1\u001b[0m \u001b[38;5;28;01mraise\u001b[39;00m \u001b[38;5;167;01mException\u001b[39;00m(\u001b[38;5;124m\"\u001b[39m\u001b[38;5;124mdescription of the error\u001b[39m\u001b[38;5;124m\"\u001b[39m)\n",
      "\u001b[0;31mException\u001b[0m: description of the error"
     ]
    }
   ],
   "source": [
    "raise Exception(\"description of the error\")"
   ]
  },
  {
   "cell_type": "markdown",
   "metadata": {},
   "source": [
    "A typical use of exceptions is to abort functions when some error condition occurs, for example:\n",
    "\n",
    "```python\n",
    "def my_function(arguments):\n",
    "\n",
    "    if not verify(arguments):\n",
    "        raise Exception(\"Invalid arguments\")\n",
    "\n",
    "    # rest of the code goes here\n",
    "```\n",
    "\n",
    "To gracefully catch errors that are generated by functions and class methods, or by the Python interpreter itself, use the try and except statements:\n",
    "\n",
    "```python\n",
    "try:\n",
    "    # normal code goes here\n",
    "except [Exception]:\n",
    "    # code for error handling goes here\n",
    "    # this code is not executed unless the code\n",
    "    # above generated an error\n",
    "```\n",
    "\n",
    "For example:"
   ]
  },
  {
   "cell_type": "code",
   "execution_count": 105,
   "metadata": {},
   "outputs": [
    {
     "name": "stdout",
     "output_type": "stream",
     "text": [
      "test\n",
      "Caught an exception\n"
     ]
    }
   ],
   "source": [
    "try:\n",
    "    print(\"test\")\n",
    "    # generate an error: the variable test is not defined\n",
    "    print(test)\n",
    "except NameError:\n",
    "    print(\"Caught an exception\")"
   ]
  },
  {
   "cell_type": "code",
   "execution_count": 106,
   "metadata": {
    "scrolled": true
   },
   "outputs": [
    {
     "name": "stdout",
     "output_type": "stream",
     "text": [
      "Caught an exception: name 'test' is not defined\n"
     ]
    }
   ],
   "source": [
    "try:\n",
    "    # generate an error: the variable test is not defined\n",
    "    print(test)\n",
    "except Exception as e:\n",
    "    print(f\"Caught an exception: {e}\")"
   ]
  },
  {
   "cell_type": "markdown",
   "metadata": {
    "id": "nzMwAXDWeWdy"
   },
   "source": [
    "# A first look at Classes\n",
    "- from [python docs](https://docs.python.org/3/tutorial/classes.html)"
   ]
  },
  {
   "cell_type": "markdown",
   "metadata": {},
   "source": [
    "Classes are the key features of object-oriented programming. A class is a structure for representing an object and the operations that can be performed on the object.\n",
    "\n",
    "In Python a class can contain **attributes** (variables) and **methods** (functions).\n",
    "\n",
    "A class is defined almost like a function, but using the `class` keyword, and the class definition usually contains a number of class method definitions (a function in a class).\n",
    "\n",
    "* Each instance method should have an argument `self` as its first argument. This object is a self-reference.\n",
    "\n",
    "* Some method names have special meaning, for example:\n",
    "    * `__init__`: The name of the method that is invoked when the object is first created.\n",
    "    * `__str__`: A method that is invoked when a simple string representation of the class is needed, as for example when printed."
   ]
  },
  {
   "cell_type": "markdown",
   "metadata": {
    "id": "jb0jh_Gyhs37"
   },
   "source": [
    "The following *dog class* is just an example to get familiar with Object Oriented Programming and the notation using Python.\n"
   ]
  },
  {
   "cell_type": "code",
   "execution_count": 107,
   "metadata": {
    "colab": {
     "base_uri": "https://localhost:8080/"
    },
    "id": "wwTwUSDTegoC",
    "outputId": "8911d37a-21e7-47e3-cb5f-8ece2fdc10cb"
   },
   "outputs": [
    {
     "name": "stdout",
     "output_type": "stream",
     "text": [
      "A dog named Bau\n",
      "Bau\n",
      "['just bark']\n",
      "['bark', 'roll over']\n"
     ]
    }
   ],
   "source": [
    "class Dog:\n",
    "    \"\"\"A simple example class\"\"\"\n",
    "  \n",
    "    def __init__(self, name = 'Bau'): # method for initializing a new instance\n",
    "        # self keyword refers to the newly initialized object\n",
    "        # data attributes\n",
    "        self.name = name    # instance attribute, unique to each instance \n",
    "        self.tricks = []    # creates a new empty list for each dog \n",
    " \n",
    "    def add_trick(self, trick): # a method\n",
    "        self.tricks.append(trick)\n",
    "\n",
    "    def __str__(self):\n",
    "        return(f\"A dog named {self.name}\")\n",
    "c = Dog()\n",
    "print(c)\n",
    "print(c.name)\n",
    "d = Dog('Fido') # create new instance of the Dog class\n",
    "e = Dog('Buddy')\n",
    "c.add_trick('just bark') # invoke a method in the class instance `c`:\n",
    "d.add_trick('bark')\n",
    "d.add_trick('roll over')\n",
    "print(c.tricks)\n",
    "print(d.tricks)"
   ]
  },
  {
   "cell_type": "markdown",
   "metadata": {},
   "source": [
    "Python classes support **inheritance**. \n",
    "\n",
    "The syntax for a derived class definition looks like this:"
   ]
  },
  {
   "cell_type": "code",
   "execution_count": 108,
   "metadata": {},
   "outputs": [
    {
     "data": {
      "text/plain": [
       "([], 'Allie')"
      ]
     },
     "execution_count": 108,
     "metadata": {},
     "output_type": "execute_result"
    }
   ],
   "source": [
    "class Schnauzer(Dog):\n",
    "    pass\n",
    "\n",
    "f = Schnauzer('Allie')\n",
    "f.tricks, f.name"
   ]
  },
  {
   "cell_type": "code",
   "execution_count": 109,
   "metadata": {},
   "outputs": [
    {
     "data": {
      "text/plain": [
       "(12, [], 'Allie')"
      ]
     },
     "execution_count": 109,
     "metadata": {},
     "output_type": "execute_result"
    }
   ],
   "source": [
    "class Schnauzer(Dog):\n",
    "    def __init__(self,name,moustache):\n",
    "        Dog.__init__(self,name)\n",
    "        self.moustache = moustache\n",
    "\n",
    "f = Schnauzer('Allie',12)\n",
    "f.moustache,f.tricks, f.name\n"
   ]
  },
  {
   "cell_type": "markdown",
   "metadata": {
    "id": "e7pJqu1dUQ6s"
   },
   "source": [
    "# Modules and Packages\n",
    "A **module** is a .py file containing functions/variables\n",
    "- *functions* allow reuse of code *within* programs;\n",
    "- *modules* allow reuse of code *across* programs;\n",
    "\n",
    "The Python Standard Library is a collection of modules that provides implementations of common facilities such as access to the operating system, file I/O and many others.\n",
    "\n"
   ]
  },
  {
   "cell_type": "markdown",
   "metadata": {},
   "source": [
    "To use a module in a Python program it first has to be imported. A module can be imported using the `import` statement. For example, to import the module `os`, which contains many utilities for operating system functionalities:"
   ]
  },
  {
   "cell_type": "code",
   "execution_count": 110,
   "metadata": {
    "colab": {
     "base_uri": "https://localhost:8080/"
    },
    "id": "U00xlbkSVwPs",
    "outputId": "e08b8baa-80ff-40aa-8118-54509e9ef513",
    "scrolled": true
   },
   "outputs": [
    {
     "ename": "FileNotFoundError",
     "evalue": "[Errno 2] No such file or directory: 'out'",
     "output_type": "error",
     "traceback": [
      "\u001b[0;31m---------------------------------------------------------------------------\u001b[0m",
      "\u001b[0;31mFileNotFoundError\u001b[0m                         Traceback (most recent call last)",
      "Cell \u001b[0;32mIn [110], line 3\u001b[0m\n\u001b[1;32m      1\u001b[0m \u001b[38;5;28;01mimport\u001b[39;00m \u001b[38;5;21;01mos\u001b[39;00m \u001b[38;5;66;03m# module for operating system functionalities\u001b[39;00m\n\u001b[1;32m      2\u001b[0m \u001b[38;5;66;03m# os.makedirs('Prova')\u001b[39;00m\n\u001b[0;32m----> 3\u001b[0m \u001b[43mos\u001b[49m\u001b[38;5;241;43m.\u001b[39;49m\u001b[43mlistdir\u001b[49m\u001b[43m(\u001b[49m\u001b[38;5;124;43m'\u001b[39;49m\u001b[38;5;124;43mout\u001b[39;49m\u001b[38;5;124;43m'\u001b[39;49m\u001b[43m)\u001b[49m\n",
      "\u001b[0;31mFileNotFoundError\u001b[0m: [Errno 2] No such file or directory: 'out'"
     ]
    }
   ],
   "source": [
    "import os # module for operating system functionalities\n",
    "# os.makedirs('Prova')\n",
    "os.listdir('out')\n"
   ]
  },
  {
   "cell_type": "code",
   "execution_count": 111,
   "metadata": {},
   "outputs": [
    {
     "name": "stdout",
     "output_type": "stream",
     "text": [
      "1.0\n"
     ]
    }
   ],
   "source": [
    "import math\n",
    "\n",
    "x = math.cos(2 * math.pi)\n",
    "\n",
    "print(x)"
   ]
  },
  {
   "cell_type": "code",
   "execution_count": 112,
   "metadata": {
    "colab": {
     "base_uri": "https://localhost:8080/"
    },
    "id": "n0Y8Zjrkmrlc",
    "outputId": "108c9d92-9fb3-4404-bf25-3081afa06724"
   },
   "outputs": [
    {
     "data": {
      "text/plain": [
       "['.ipynb_checkpoints', '02_Pyhton_Basics.ipynb']"
      ]
     },
     "execution_count": 112,
     "metadata": {},
     "output_type": "execute_result"
    }
   ],
   "source": [
    "# if we just need one or few functions from a module\n",
    "from os import listdir\n",
    "listdir()"
   ]
  },
  {
   "cell_type": "markdown",
   "metadata": {},
   "source": [
    "Alternatively, we can chose to import all symbols (functions and variables) in a module to the current namespace (so that we don't need to use the prefix \"`math.`\" every time we use something from the math module:"
   ]
  },
  {
   "cell_type": "code",
   "execution_count": 113,
   "metadata": {
    "id": "aIvJp8VXnNVJ"
   },
   "outputs": [],
   "source": [
    "from math import *\n",
    "# import all"
   ]
  },
  {
   "cell_type": "markdown",
   "metadata": {},
   "source": [
    "This pattern can be convenient, but in large programs that include many modules it is often a good idea to keep the symbols from each module in their own namespaces, by using the `import math` pattern. This would elminate potentially confusing problems with **name space collisions.**"
   ]
  },
  {
   "cell_type": "markdown",
   "metadata": {},
   "source": [
    "Once a module is imported, we can list the symbols it provides using the `dir` function:"
   ]
  },
  {
   "cell_type": "code",
   "execution_count": 114,
   "metadata": {
    "scrolled": true
   },
   "outputs": [
    {
     "data": {
      "text/plain": [
       "['__doc__',\n",
       " '__file__',\n",
       " '__loader__',\n",
       " '__name__',\n",
       " '__package__',\n",
       " '__spec__',\n",
       " 'acos',\n",
       " 'acosh',\n",
       " 'asin',\n",
       " 'asinh',\n",
       " 'atan',\n",
       " 'atan2',\n",
       " 'atanh',\n",
       " 'ceil',\n",
       " 'comb',\n",
       " 'copysign',\n",
       " 'cos',\n",
       " 'cosh',\n",
       " 'degrees',\n",
       " 'dist',\n",
       " 'e',\n",
       " 'erf',\n",
       " 'erfc',\n",
       " 'exp',\n",
       " 'expm1',\n",
       " 'fabs',\n",
       " 'factorial',\n",
       " 'floor',\n",
       " 'fmod',\n",
       " 'frexp',\n",
       " 'fsum',\n",
       " 'gamma',\n",
       " 'gcd',\n",
       " 'hypot',\n",
       " 'inf',\n",
       " 'isclose',\n",
       " 'isfinite',\n",
       " 'isinf',\n",
       " 'isnan',\n",
       " 'isqrt',\n",
       " 'lcm',\n",
       " 'ldexp',\n",
       " 'lgamma',\n",
       " 'log',\n",
       " 'log10',\n",
       " 'log1p',\n",
       " 'log2',\n",
       " 'modf',\n",
       " 'nan',\n",
       " 'nextafter',\n",
       " 'perm',\n",
       " 'pi',\n",
       " 'pow',\n",
       " 'prod',\n",
       " 'radians',\n",
       " 'remainder',\n",
       " 'sin',\n",
       " 'sinh',\n",
       " 'sqrt',\n",
       " 'tan',\n",
       " 'tanh',\n",
       " 'tau',\n",
       " 'trunc',\n",
       " 'ulp']"
      ]
     },
     "execution_count": 114,
     "metadata": {},
     "output_type": "execute_result"
    }
   ],
   "source": [
    "dir(math)"
   ]
  },
  {
   "cell_type": "markdown",
   "metadata": {
    "id": "yAxOUt92Vvrd"
   },
   "source": [
    "**Packages** are a way of structuring Python's module namespace by\n",
    "using “dotted module names”.\n",
    "- E.g., the name A.B designates the \"B\" submodule in the \"A“ package."
   ]
  },
  {
   "cell_type": "code",
   "execution_count": 115,
   "metadata": {
    "id": "ARGL9KxQVetU"
   },
   "outputs": [],
   "source": [
    "import matplotlib.pyplot # package for MATLAB-like plotting framework."
   ]
  },
  {
   "cell_type": "code",
   "execution_count": 116,
   "metadata": {
    "id": "hb8OUky5Vx1H"
   },
   "outputs": [],
   "source": [
    "import matplotlib.pyplot as plt # \"as\" keyword defines an alias"
   ]
  },
  {
   "cell_type": "code",
   "execution_count": 117,
   "metadata": {
    "id": "h-lKrrbhWFqF"
   },
   "outputs": [],
   "source": [
    "from matplotlib.pyplot import plot"
   ]
  },
  {
   "cell_type": "code",
   "execution_count": 118,
   "metadata": {
    "id": "6HtfwyJGWTwG"
   },
   "outputs": [
    {
     "data": {
      "text/plain": [
       "[<matplotlib.lines.Line2D at 0x1278559f0>]"
      ]
     },
     "execution_count": 118,
     "metadata": {},
     "output_type": "execute_result"
    },
    {
     "data": {
      "image/png": "[encoded data removed]",
      "text/plain": [
       "<Figure size 640x480 with 1 Axes>"
      ]
     },
     "metadata": {},
     "output_type": "display_data"
    }
   ],
   "source": [
    "plot([1,2,3],[1,2,1])"
   ]
  },
  {
   "cell_type": "markdown",
   "metadata": {
    "id": "7j6onPMthjdL"
   },
   "source": [
    "# Files and Utilities"
   ]
  },
  {
   "cell_type": "markdown",
   "metadata": {
    "id": "A26io1Rsh1hz"
   },
   "source": [
    "The *os* module include many functions to interact with the file system.\n"
   ]
  },
  {
   "cell_type": "code",
   "execution_count": 119,
   "metadata": {
    "id": "FS-1YaNWhsbD"
   },
   "outputs": [
    {
     "data": {
      "text/plain": [
       "['.ipynb_checkpoints', '02_Pyhton_Basics.ipynb']"
      ]
     },
     "execution_count": 119,
     "metadata": {},
     "output_type": "execute_result"
    }
   ],
   "source": [
    "import os\n",
    "os.listdir() # returns a list of the content of the current directory"
   ]
  },
  {
   "cell_type": "markdown",
   "metadata": {
    "id": "uHe_G9oLjM2i"
   },
   "source": [
    "## Writing and Reading\n",
    "In order to use a file we have to:\n",
    "- open the file\n",
    "- handle it for doing some operation\n",
    "- close the file\n",
    "\n",
    "The open() function opens and returns a file handle that can be used to read or write a file in the usual way. \n",
    "\n",
    "The code `f = open('name', 'r')` opens the file into the variable `f`, ready for reading operations, and use `f.close()` when finished. \n",
    "\n",
    "The built-in `open()` function returns a **file object** and allows to work with files. It takes two parameters as arguments: the first argument is a string specifying the name of the file to open, while the second specifies the opening mode:\n",
    "\n",
    "* `'r’`: opens the file in *read-only mode*\n",
    "* `'w’`: opens the file in *write-only mode*\n",
    "* `'a’`: opens the file in *appending mode*\n",
    "* `'r+’`: opens the file in *reading and writing mode*\n",
    "\n",
    "If you don’t provide a second parameter that defines the file’s opening mode in the `open()` function, the file will be opened by default in read-only mode."
   ]
  },
  {
   "cell_type": "markdown",
   "metadata": {
    "id": "KBNBgcyRivfc"
   },
   "source": [
    "### Writing a File"
   ]
  },
  {
   "cell_type": "code",
   "execution_count": 120,
   "metadata": {
    "id": "ItOkWUqGjKja"
   },
   "outputs": [],
   "source": [
    "out_dir = 'out'\n",
    "if not os.path.exists(out_dir):# check if a directory already exists...\n",
    "    os.makedirs(out_dir)         # ... otherwise create it\n",
    "\n",
    "a = range(100)\n",
    "b = [x*x for x in a]\n",
    "file_path = os.path.join(out_dir,'prova.csv') # Join one or more path components intelligently\n",
    "\n",
    "mf =  open(file_path,'w') # open the file in writing mode\n",
    "for x in zip(a,b):\n",
    "    mf.write(str(x[0])+','+str(x[1])+'\\n')\n",
    "mf.close()  # close the file!"
   ]
  },
  {
   "cell_type": "code",
   "execution_count": 121,
   "metadata": {},
   "outputs": [
    {
     "data": {
      "text/plain": [
       "'out/prova.csv'"
      ]
     },
     "execution_count": 121,
     "metadata": {},
     "output_type": "execute_result"
    }
   ],
   "source": [
    "file_path"
   ]
  },
  {
   "cell_type": "markdown",
   "metadata": {
    "id": "cBBI2Zs-iOyn"
   },
   "source": [
    "### Reading a File"
   ]
  },
  {
   "cell_type": "code",
   "execution_count": 122,
   "metadata": {
    "id": "KC6O6CvgmrSN"
   },
   "outputs": [
    {
     "name": "stdout",
     "output_type": "stream",
     "text": [
      "0,0\n",
      "\n",
      "1,1\n",
      "\n",
      "2,4\n",
      "\n",
      "3,9\n",
      "\n",
      "4,16\n",
      "\n",
      "5,25\n",
      "\n",
      "6,36\n",
      "\n",
      "7,49\n",
      "\n",
      "8,64\n",
      "\n",
      "9,81\n",
      "\n",
      "10,100\n",
      "\n"
     ]
    }
   ],
   "source": [
    "mf = open(file_path, 'r')\n",
    "for line_number,line in enumerate(mf):  ## iterates over the lines of the file\n",
    "    print(line)    \n",
    "    if line_number==10:\n",
    "        break\n",
    "mf.close()  # close the file!\n"
   ]
  },
  {
   "cell_type": "markdown",
   "metadata": {},
   "source": [
    "It is considered a good practice to always close files after you are done with them (whether for writing or reading). The `with` statement is used with *context managers* to enforce conditions before and after a block is executed. The `open()` function serves as a context manager to ensure that a file is closed when the block is left. The following code using the `with` statement is equivalent to the previous one:"
   ]
  },
  {
   "cell_type": "code",
   "execution_count": 123,
   "metadata": {
    "colab": {
     "base_uri": "https://localhost:8080/"
    },
    "id": "Wt53fLQgmRg_",
    "outputId": "0f2caf29-b371-47e6-fd68-9030a7c6465a"
   },
   "outputs": [
    {
     "name": "stdout",
     "output_type": "stream",
     "text": [
      "0,0\n",
      "\n",
      "1,1\n",
      "\n",
      "2,4\n",
      "\n",
      "3,9\n",
      "\n",
      "4,16\n",
      "\n",
      "5,25\n",
      "\n",
      "6,36\n",
      "\n",
      "7,49\n",
      "\n",
      "8,64\n",
      "\n",
      "9,81\n",
      "\n",
      "10,100\n",
      "\n"
     ]
    }
   ],
   "source": [
    "# a preferable sintax (both for writing and reading): file is closed automatically\n",
    "with open(file_path,'r') as mf:\n",
    "    for number,x in enumerate(mf):\n",
    "        print(x)\n",
    "        if number==10:\n",
    "            break"
   ]
  },
  {
   "cell_type": "code",
   "execution_count": 124,
   "metadata": {
    "colab": {
     "base_uri": "https://localhost:8080/"
    },
    "id": "Ei2WIrlAn0yo",
    "outputId": "00200d15-af0e-4d7a-a7d8-2e12a5f4780b"
   },
   "outputs": [
    {
     "name": "stdout",
     "output_type": "stream",
     "text": [
      "['0,0\\n', '1,1\\n', '2,4\\n', '3,9\\n', '4,16\\n', '5,25\\n', '6,36\\n', '7,49\\n', '8,64\\n', '9,81\\n']\n",
      "['0,0', '1,1', '2,4', '3,9', '4,16', '5,25', '6,36', '7,49', '8,64', '9,81']\n"
     ]
    },
    {
     "data": {
      "text/plain": [
       "100"
      ]
     },
     "execution_count": 124,
     "metadata": {},
     "output_type": "execute_result"
    }
   ],
   "source": [
    "with open(file_path,'r') as mf:\n",
    "    x = mf.readlines() #returns a list: each line is a list element.\n",
    "print(x[0:10])\n",
    "x = [element.strip() for element in x]\n",
    "print(x[0:10])\n",
    "len(x)"
   ]
  },
  {
   "cell_type": "markdown",
   "metadata": {},
   "source": [
    "# <font color='blue'><ins>TASK</ins></font>\n",
    "- practice with Python: some exercises are available [here](https://github.com/tonellotto/PythonLectures/blob/master/other_exercises.md) and [here](https://developers.google.com/edu/python/exercises/basic)"
   ]
  }
 ],
 "metadata": {
  "colab": {
   "collapsed_sections": [],
   "name": "02_Python_Basic.ipynb",
   "provenance": [],
   "toc_visible": true
  },
  "kernelspec": {
   "display_name": "Python 3 (ipykernel)",
   "language": "python",
   "name": "python3"
  },
  "language_info": {
   "codemirror_mode": {
    "name": "ipython",
    "version": 3
   },
   "file_extension": ".py",
   "mimetype": "text/x-python",
   "name": "python",
   "nbconvert_exporter": "python",
   "pygments_lexer": "ipython3",
   "version": "3.10.8"
  }
 },
 "nbformat": 4,
 "nbformat_minor": 1
}

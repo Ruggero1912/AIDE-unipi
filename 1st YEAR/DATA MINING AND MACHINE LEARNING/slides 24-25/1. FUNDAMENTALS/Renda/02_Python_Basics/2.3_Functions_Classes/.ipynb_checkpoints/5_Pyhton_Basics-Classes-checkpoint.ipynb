{
 "cells": [
  {
   "cell_type": "markdown",
   "metadata": {},
   "source": [
    "# Table of Contents:\n",
    "- **A first look at Classes**\n",
    "     - [Definitions](#Definitions)\n",
    "     - [Inheritance](#Inheritance)\n"
   ]
  },
  {
   "cell_type": "markdown",
   "metadata": {
    "id": "nzMwAXDWeWdy"
   },
   "source": [
    "# A first look at Classes\n",
    "- from [python docs](https://docs.python.org/3/tutorial/classes.html)"
   ]
  },
  {
   "cell_type": "markdown",
   "metadata": {},
   "source": [
    "\n",
    "## Definitions\n",
    "What is Object-Oriented Programming (OOP)?\n",
    "\n",
    "- A _style_ of programming that bundles data with related methods\n",
    "- These bundles are called _classes_ (or _types_)\n",
    "\n",
    "\n",
    "A class is defined almost like a function, but using the `class` keyword, and the class definition usually contains a number of class method definitions (a function in a class).\n",
    "\n",
    "* Each instance method should have an argument `self` as its first argument. This object is a self-reference.\n",
    "\n",
    "* Some method names have special meaning, for example:\n",
    "    * `__init__`: The name of the method that is invoked when the object is first created. (In other languages this method is called *constructor*.\n",
    "    * `__str__`: A method that is invoked when a simple string representation of the class is needed, as for example when printed."
   ]
  },
  {
   "cell_type": "markdown",
   "metadata": {
    "id": "jb0jh_Gyhs37"
   },
   "source": [
    "The following *dog class* is just an example to get familiar with Object Oriented Programming and the notation using Python.\n"
   ]
  },
  {
   "cell_type": "code",
   "execution_count": 1,
   "metadata": {
    "colab": {
     "base_uri": "https://localhost:8080/"
    },
    "id": "wwTwUSDTegoC",
    "outputId": "8911d37a-21e7-47e3-cb5f-8ece2fdc10cb"
   },
   "outputs": [],
   "source": [
    "class Dog:\n",
    "    \"\"\"A simple example class\"\"\"\n",
    "  \n",
    "    def __init__(self, name = 'Bau'): # method for initializing a new instance\n",
    "        # self keyword refers to the newly initialized object\n",
    "        # data attributes\n",
    "        self.name = name    # instance attribute, unique to each instance \n",
    "        self.tricks = []    # creates a new empty list for each dog \n",
    " \n",
    "    def add_trick(self, trick): # a method\n",
    "        self.tricks.append(trick)\n",
    "\n",
    "    def __str__(self):\n",
    "        return(f\"A dog named {self.name}\")"
   ]
  },
  {
   "cell_type": "code",
   "execution_count": 2,
   "metadata": {},
   "outputs": [],
   "source": [
    "c = Dog() # create new instance of the Dog class"
   ]
  },
  {
   "cell_type": "code",
   "execution_count": 3,
   "metadata": {},
   "outputs": [
    {
     "name": "stdout",
     "output_type": "stream",
     "text": [
      "A dog named Bau\n"
     ]
    }
   ],
   "source": [
    "print(c)"
   ]
  },
  {
   "cell_type": "code",
   "execution_count": 4,
   "metadata": {},
   "outputs": [
    {
     "name": "stdout",
     "output_type": "stream",
     "text": [
      "Bau\n"
     ]
    }
   ],
   "source": [
    "print(c.name)"
   ]
  },
  {
   "cell_type": "code",
   "execution_count": 8,
   "metadata": {},
   "outputs": [],
   "source": [
    "c.add_trick('just bark') # invoke a method in the class instance `c`:"
   ]
  },
  {
   "cell_type": "code",
   "execution_count": 9,
   "metadata": {
    "scrolled": true
   },
   "outputs": [
    {
     "name": "stdout",
     "output_type": "stream",
     "text": [
      "['just bark', 'just bark', 'just bark']\n"
     ]
    }
   ],
   "source": [
    "print(c.tricks)"
   ]
  },
  {
   "cell_type": "code",
   "execution_count": 10,
   "metadata": {},
   "outputs": [
    {
     "name": "stdout",
     "output_type": "stream",
     "text": [
      "['bark', 'roll over']\n"
     ]
    }
   ],
   "source": [
    "d = Dog('Fido') # create new instance of the Dog class\n",
    "d.add_trick('bark')\n",
    "d.add_trick('roll over')\n",
    "print(d.tricks)"
   ]
  },
  {
   "cell_type": "code",
   "execution_count": 11,
   "metadata": {},
   "outputs": [
    {
     "data": {
      "text/plain": [
       "__main__.Dog"
      ]
     },
     "execution_count": 11,
     "metadata": {},
     "output_type": "execute_result"
    }
   ],
   "source": [
    "# the type( ) function tells us what type the given data belongs to\n",
    "type(c)"
   ]
  },
  {
   "cell_type": "code",
   "execution_count": 10,
   "metadata": {},
   "outputs": [
    {
     "data": {
      "text/plain": [
       "True"
      ]
     },
     "execution_count": 10,
     "metadata": {},
     "output_type": "execute_result"
    }
   ],
   "source": [
    "isinstance(c,Dog) # Return True if the first argument is an instance of the second argument"
   ]
  },
  {
   "cell_type": "code",
   "execution_count": 13,
   "metadata": {},
   "outputs": [
    {
     "data": {
      "text/plain": [
       "True"
      ]
     },
     "execution_count": 13,
     "metadata": {},
     "output_type": "execute_result"
    }
   ],
   "source": [
    "isinstance('ciao',str) # "
   ]
  },
  {
   "cell_type": "markdown",
   "metadata": {},
   "source": [
    "## Inheritance\n",
    "\n",
    "Python classes support **inheritance**. \n",
    "\n",
    "- Classes are organized hierarchically as superclasses and subclasses\n",
    "  - This allows us to define progressively more specific versions of objects\n",
    "  - _Thing > Animal > Mammal > Cow_\n",
    "  - _Thing > Animal > Mammal > Cat_\n",
    "\n",
    "- Classes inherit the attributes and abilities of their parent classes (_inheritance_)\n",
    "  - `Mammal` has a method `produce_milk`\n",
    "  - Hence `Cow.produce_milk( )` works\n",
    "  - Hence `Cat.produce_milk( )` works\n",
    "- Different classes of object can respond to the same request in different ways\n",
    "  - Referred to as _polymorphism_\n",
    "  - `Cow.speak( )` returns \"moo\"\n",
    "  - `Cat.speak( )` returns \"meow\"\n",
    "\n"
   ]
  },
  {
   "cell_type": "markdown",
   "metadata": {},
   "source": [
    "The syntax for a derived class definition looks like this:"
   ]
  },
  {
   "cell_type": "code",
   "execution_count": 16,
   "metadata": {},
   "outputs": [
    {
     "data": {
      "text/plain": [
       "([], 'Allie')"
      ]
     },
     "execution_count": 16,
     "metadata": {},
     "output_type": "execute_result"
    }
   ],
   "source": [
    "class Schnauzer(Dog):\n",
    "    pass\n",
    "\n",
    "f = Schnauzer('Allie')\n",
    "f.tricks, f.name"
   ]
  },
  {
   "cell_type": "code",
   "execution_count": 17,
   "metadata": {},
   "outputs": [
    {
     "data": {
      "text/plain": [
       "True"
      ]
     },
     "execution_count": 17,
     "metadata": {},
     "output_type": "execute_result"
    }
   ],
   "source": [
    "isinstance(f,Dog)"
   ]
  },
  {
   "cell_type": "markdown",
   "metadata": {},
   "source": [
    "- `class Schnauzer(Dog)` says that `Schnauzer` is a type of `Dog`\n",
    "- By default, `Schnauzer` inherits all the methods and attributes of `Dog`"
   ]
  },
  {
   "cell_type": "code",
   "execution_count": 19,
   "metadata": {
    "scrolled": true
   },
   "outputs": [
    {
     "name": "stdout",
     "output_type": "stream",
     "text": [
      "A Schnauzer named Allie\n"
     ]
    },
    {
     "data": {
      "text/plain": [
       "(12, [], 'Allie')"
      ]
     },
     "execution_count": 19,
     "metadata": {},
     "output_type": "execute_result"
    }
   ],
   "source": [
    "class Schnauzer(Dog):\n",
    "    def __init__(self,name,moustache):\n",
    "        Dog.__init__(self,name)\n",
    "        self.moustache = moustache\n",
    "\n",
    "    def __str__(self):\n",
    "        return(f\"A Schnauzer named {self.name}\")\n",
    "    \n",
    "f = Schnauzer('Allie',12)\n",
    "print(f)\n",
    "f.moustache,f.tricks, f.name"
   ]
  },
  {
   "cell_type": "markdown",
   "metadata": {},
   "source": [
    "In this case:\n",
    "- We have used the Dog constructor to start the setup of the Schnauzer type of Dog\n",
    "- We have added a new attribute to the `__init__` method: `moustache`\n",
    "- We did not redefine `add_trick` method.\n",
    "- We did redefine `__str__` method."
   ]
  }
 ],
 "metadata": {
  "colab": {
   "collapsed_sections": [],
   "name": "02_Python_Basic.ipynb",
   "provenance": [],
   "toc_visible": true
  },
  "kernelspec": {
   "display_name": "Python 3 (ipykernel)",
   "language": "python",
   "name": "python3"
  },
  "language_info": {
   "codemirror_mode": {
    "name": "ipython",
    "version": 3
   },
   "file_extension": ".py",
   "mimetype": "text/x-python",
   "name": "python",
   "nbconvert_exporter": "python",
   "pygments_lexer": "ipython3",
   "version": "3.10.9"
  }
 },
 "nbformat": 4,
 "nbformat_minor": 1
}

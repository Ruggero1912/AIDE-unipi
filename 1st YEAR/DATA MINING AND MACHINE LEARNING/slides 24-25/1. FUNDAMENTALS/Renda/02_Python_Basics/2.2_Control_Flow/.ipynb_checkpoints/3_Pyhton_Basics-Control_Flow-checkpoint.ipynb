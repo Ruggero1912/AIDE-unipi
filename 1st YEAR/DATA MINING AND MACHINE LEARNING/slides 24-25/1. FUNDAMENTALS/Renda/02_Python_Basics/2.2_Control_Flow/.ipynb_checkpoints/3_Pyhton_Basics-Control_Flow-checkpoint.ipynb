{
 "cells": [
  {
   "cell_type": "markdown",
   "metadata": {},
   "source": [
    "# Table of Contents:\n",
    "- [Control flow: Conditional and Iterators](#Control-flow:-Conditional-and-Iterators)\n",
    "    - [the *if* statement](#the-if-statement)\n",
    "    - [the *if-else* statement](#the-if-else-statement)\n",
    "    - [the *if-elif-else* statement](#the-if-elif-else-statement)\n",
    "    - [the *for* loop](#the-for-loop)\n",
    "    - [the *while* loop](#the-while-loop)\n",
    "    - [*break* and *continue* to change loop behavior](#break-and-continue-to-change-loop-behavior) \n",
    "- [Iterables and Iterators](#Iterables-and-Iterators)"
   ]
  },
  {
   "cell_type": "markdown",
   "metadata": {
    "id": "_mMd6GQKnE8b"
   },
   "source": [
    "# Control flow: Conditional and Iterators\n",
    "- from [this tutorial](http://anh.cs.luc.edu/handsonPythonTutorial/ch3.html)"
   ]
  },
  {
   "cell_type": "markdown",
   "metadata": {},
   "source": [
    "## the `if` statement\n",
    "\n",
    "The if statement is used to check a condition;  \n",
    "- if the condition is true, a block (the if-block) is run\n",
    "\n",
    "The general Python *if* syntax is\n",
    "\n",
    "```python\n",
    "if condition:\n",
    "    indented Statement Block For True Condition\n",
    "```\n"
   ]
  },
  {
   "cell_type": "code",
   "execution_count": 1,
   "metadata": {},
   "outputs": [
    {
     "name": "stdout",
     "output_type": "stream",
     "text": [
      "ok, it's 2\n"
     ]
    }
   ],
   "source": [
    "x = 2\n",
    "if x == 2:\n",
    "    print(\"ok, it's 2\")"
   ]
  },
  {
   "cell_type": "markdown",
   "metadata": {},
   "source": [
    "### IMPORTANT\n",
    "Python's *Blocks by Indentation* forces proper code structuring and readability:\n",
    "- the whitespace indentation of a piece of code affects its meaning. The statements of a logical block should all have the same indentation. If one of the lines in a group has a different indentation, it is flagged as a syntax error.\n",
    "- According to the official Python style guide (PEP 8 - [Python Enhancement Proposals](https://peps.python.org/pep-0001/)), you should indent with 4 spaces."
   ]
  },
  {
   "cell_type": "code",
   "execution_count": 2,
   "metadata": {},
   "outputs": [],
   "source": [
    "condition1 = False \n",
    "\n",
    "# example 1\n",
    "if condition1:\n",
    "    print(\"printed if condition1 is True\")\n",
    "    \n",
    "    print(\"still inside the if block\")"
   ]
  },
  {
   "cell_type": "code",
   "execution_count": 3,
   "metadata": {},
   "outputs": [
    {
     "name": "stdout",
     "output_type": "stream",
     "text": [
      "now outside the if block\n"
     ]
    }
   ],
   "source": [
    "# example 2    \n",
    "if condition1:\n",
    "    print(\"printed if condition1 is True\")\n",
    "    \n",
    "print(\"now outside the if block\")"
   ]
  },
  {
   "cell_type": "markdown",
   "metadata": {
    "id": "M5fLlzCq_oS_"
   },
   "source": [
    "## the `if-else` statement\n",
    "\n",
    "The if-else statement is used to check a condition;  \n",
    "- if the condition is true, a block (the if-block) is run,\n",
    "- else another block (the else-block) is executed.\n",
    "\n",
    "The general Python *if-else* syntax is\n",
    "\n",
    "```python\n",
    "if condition :\n",
    "    indented Statement Block For True Condition\n",
    "else:\n",
    "    indented Statement Block For False Condition\n",
    "```\n"
   ]
  },
  {
   "cell_type": "code",
   "execution_count": 4,
   "metadata": {
    "colab": {
     "base_uri": "https://localhost:8080/"
    },
    "id": "FKuu-1oz-TXH",
    "outputId": "12275fe8-8e42-4120-c07b-ccb0469d687e"
   },
   "outputs": [
    {
     "name": "stdout",
     "output_type": "stream",
     "text": [
      "ok, it's 2\n",
      "go on with the code\n"
     ]
    }
   ],
   "source": [
    "x = 2\n",
    "if x == 2:\n",
    "    print(\"ok, it's 2\")\n",
    "else:\n",
    "    print('nope')\n",
    "print('go on with the code')"
   ]
  },
  {
   "cell_type": "markdown",
   "metadata": {},
   "source": [
    "In \"if\" context, the following events represent False value :\n",
    "- False\n",
    "- None\n",
    "- numeric values equal to 0, such as 0, 0.0, -0.0\n",
    "- empty string: '' \n",
    "- empty containers (such as lists, tuples and dictionaries)\n",
    "- anything that implements __bool__ to return False\n",
    "- anything that doesn't implement __bool__, but does implement __len__ to return a value equal to 0\n"
   ]
  },
  {
   "cell_type": "code",
   "execution_count": 5,
   "metadata": {},
   "outputs": [
    {
     "name": "stdout",
     "output_type": "stream",
     "text": [
      "value 0 represents False value in \"if\" context\n"
     ]
    }
   ],
   "source": [
    "y = 0  \n",
    "if y:\n",
    "    print('ok, it is non-zero')\n",
    "else:\n",
    "    print(f'value {y} represents False value in \"if\" context')\n"
   ]
  },
  {
   "cell_type": "code",
   "execution_count": 6,
   "metadata": {},
   "outputs": [],
   "source": [
    "# if z_undefined: # it does not exists: will raise an error!\n",
    "#    print('exists!')"
   ]
  },
  {
   "cell_type": "markdown",
   "metadata": {},
   "source": [
    "## the `if-elif-else` statement\n",
    "\n",
    "The most elaborate syntax for an if-elif-else statement is indicated in general below:\n",
    "\n",
    "```python\n",
    "if condition1 :\n",
    "    indented Statement Block For True Condition1\n",
    "elif condition2 :\n",
    "    indented Statement Block For First True Condition2\n",
    "else:\n",
    "    indented Statement Block For Each Condition False\n",
    "```\n",
    "\n",
    "- it allows us to check a variety of possible conditions. \n",
    "- Only the block associated with the first `True` condition will be executed. \n",
    "- Here, `else` is often used to catch an unexpected option."
   ]
  },
  {
   "cell_type": "code",
   "execution_count": 7,
   "metadata": {
    "colab": {
     "base_uri": "https://localhost:8080/"
    },
    "id": "yrpevgzpHG0A",
    "outputId": "33dc5c2c-543a-49d4-999e-dbeb62f42a33"
   },
   "outputs": [
    {
     "name": "stdout",
     "output_type": "stream",
     "text": [
      "B\n"
     ]
    }
   ],
   "source": [
    "score = 81\n",
    "if score >= 90:\n",
    "    letter = 'A'\n",
    "elif score >= 80:\n",
    "    letter = 'B'\n",
    "elif score >= 70:\n",
    "    letter = 'C'\n",
    "elif score >= 60:\n",
    "    letter = 'D'\n",
    "else:\n",
    "    letter = 'F'\n",
    "print(letter)"
   ]
  },
  {
   "cell_type": "markdown",
   "metadata": {
    "id": "dPycJ_bm_tYq"
   },
   "source": [
    "##  the `for` loop\n",
    " - iterate over a sequence of object\n",
    " - iterate over *range* progression\n",
    "\n"
   ]
  },
  {
   "cell_type": "markdown",
   "metadata": {
    "id": "O9-G8w4KJbRt"
   },
   "source": [
    "The *for* syntax is:\n",
    "```python\n",
    "for item in sequence:\n",
    "    indented statements to repeat; may use item\n",
    "```\n"
   ]
  },
  {
   "cell_type": "code",
   "execution_count": 8,
   "metadata": {
    "colab": {
     "base_uri": "https://localhost:8080/"
    },
    "id": "arjwuFYE_6Mk",
    "outputId": "32804ca9-ccec-4a45-8b87-958fb6026ac6"
   },
   "outputs": [
    {
     "name": "stdout",
     "output_type": "stream",
     "text": [
      "iterating over a list\n",
      "1\n",
      "2\n",
      "3\n",
      "5\n",
      "7\n",
      "11\n"
     ]
    }
   ],
   "source": [
    "# iterate over a sequence of object\n",
    "print('iterating over a list')\n",
    "first_prime = [1,2,3,5,7,11] \n",
    "for prime_number in first_prime:\n",
    "    print(prime_number)"
   ]
  },
  {
   "cell_type": "code",
   "execution_count": 9,
   "metadata": {},
   "outputs": [
    {
     "name": "stdout",
     "output_type": "stream",
     "text": [
      "data\n",
      "mining\n",
      "and\n",
      "machine\n",
      "learning\n"
     ]
    }
   ],
   "source": [
    "for word in [\"data\", \"mining\", \"and\", \"machine\", \"learning\"]:\n",
    "    print(word)"
   ]
  },
  {
   "cell_type": "markdown",
   "metadata": {
    "id": "juaYCxaWOIAD"
   },
   "source": [
    "The *range* syntax is\n",
    "```\n",
    "range(stop)\n",
    "```\n",
    "or:\n",
    "```\n",
    "range(start, stop[, step])\n",
    "```\n"
   ]
  },
  {
   "cell_type": "code",
   "execution_count": 10,
   "metadata": {
    "colab": {
     "base_uri": "https://localhost:8080/"
    },
    "id": "-MYau72aRcZZ",
    "outputId": "e4514f2a-9735-457b-bc60-fe1c42965a4c"
   },
   "outputs": [
    {
     "name": "stdout",
     "output_type": "stream",
     "text": [
      "arithmetic progression\n",
      "0\n",
      "1\n",
      "2\n",
      "3\n",
      "4\n"
     ]
    }
   ],
   "source": [
    "# iterate over a sequence of object\n",
    "print('arithmetic progression')\n",
    "for x in range(5):\n",
    "    print(x)"
   ]
  },
  {
   "cell_type": "code",
   "execution_count": 11,
   "metadata": {
    "colab": {
     "base_uri": "https://localhost:8080/"
    },
    "id": "3jTJZNdgPGbM",
    "outputId": "8b316b81-c590-4654-aaec-e39261a999d1"
   },
   "outputs": [
    {
     "name": "stdout",
     "output_type": "stream",
     "text": [
      "arithmetic progression\n",
      "-4\n",
      "-2\n",
      "0\n",
      "2\n",
      "4\n"
     ]
    }
   ],
   "source": [
    "print('arithmetic progression')\n",
    "for x in range(-4,5,2):\n",
    "    print(x)"
   ]
  },
  {
   "cell_type": "markdown",
   "metadata": {
    "id": "6aLpxBKoaSCI"
   },
   "source": [
    "#### list comprehension\n",
    "It is a special syntax to build up lists, specifying how each element\n",
    "has to be set up.\n",
    "\n",
    "The list comprehension syntax is:\n",
    "\n",
    "\n",
    "```python\n",
    "[expression for item in iterable]\n",
    "```\n",
    "\n"
   ]
  },
  {
   "cell_type": "code",
   "execution_count": 12,
   "metadata": {
    "colab": {
     "base_uri": "https://localhost:8080/"
    },
    "id": "Fos2f6XFRk_P",
    "outputId": "39347e26-e684-4628-ed9c-01beb59f32fd"
   },
   "outputs": [
    {
     "name": "stdout",
     "output_type": "stream",
     "text": [
      "[1, 4, 9, 16]\n"
     ]
    }
   ],
   "source": [
    "# example 1\n",
    "nums = [1,2,3,4]\n",
    "squares = [n * n for n in nums]\n",
    "print(squares)"
   ]
  },
  {
   "cell_type": "code",
   "execution_count": 37,
   "metadata": {},
   "outputs": [
    {
     "data": {
      "text/plain": [
       "[1, 4, 9, 16]"
      ]
     },
     "execution_count": 37,
     "metadata": {},
     "output_type": "execute_result"
    }
   ],
   "source": [
    "# example 1 equivalent\n",
    "my_list = []\n",
    "for n in nums:\n",
    "    a = n*n\n",
    "    my_list.append(a)\n",
    "my_list"
   ]
  },
  {
   "cell_type": "code",
   "execution_count": 14,
   "metadata": {},
   "outputs": [
    {
     "name": "stdout",
     "output_type": "stream",
     "text": [
      "[0, 2, 4, 6, 8]\n"
     ]
    }
   ],
   "source": [
    "# example 2\n",
    "example_lc = [x for x in range(10) if x%2==0]\n",
    "print(example_lc)"
   ]
  },
  {
   "cell_type": "code",
   "execution_count": 15,
   "metadata": {},
   "outputs": [
    {
     "name": "stdout",
     "output_type": "stream",
     "text": [
      "['HELLO!!!', 'AND!!!', 'GOODBYE!!!']\n"
     ]
    }
   ],
   "source": [
    "# example 3\n",
    "strs = ['hello', 'and', 'goodbye']\n",
    "shouting = [s.upper() + '!!!' for s in strs]\n",
    "print(shouting)"
   ]
  },
  {
   "cell_type": "markdown",
   "metadata": {},
   "source": [
    "In Python, we have also **dictionary comprehensions**. All the principles we saw are the same for these comprehensions, too. To create a dictionary comprehension we just need to change the brackets `[]` to curly braces `{}`. Additionally, in the output expression, we need to separate key and value by a colon `:`."
   ]
  },
  {
   "cell_type": "code",
   "execution_count": 16,
   "metadata": {},
   "outputs": [
    {
     "name": "stdout",
     "output_type": "stream",
     "text": [
      "{'beer': 3872.54, 'fish': 9681.35, 'apple': 1936.27}\n"
     ]
    }
   ],
   "source": [
    "prices = {\"beer\": 2, \"fish\": 5, \"apple\": 1}\n",
    "lire = {key:value*1936.27 for key, value in prices.items()}\n",
    "print(lire)"
   ]
  },
  {
   "cell_type": "markdown",
   "metadata": {
    "id": "PUQ2P-IPMlm9"
   },
   "source": [
    "## the `while` loop\n",
    "The general Python *while* syntax is\n",
    "\n",
    "```python\n",
    "while condition:\n",
    "    indentedBlock\n",
    "```\n",
    "\n"
   ]
  },
  {
   "cell_type": "code",
   "execution_count": 17,
   "metadata": {
    "colab": {
     "base_uri": "https://localhost:8080/"
    },
    "id": "V-vTkyV7vQnr",
    "outputId": "a9bcc807-359e-41cb-c8f1-e172baf97d2f"
   },
   "outputs": [
    {
     "name": "stdout",
     "output_type": "stream",
     "text": [
      "[0, 2, 4]\n"
     ]
    }
   ],
   "source": [
    "x = 0\n",
    "population = []\n",
    "while x<5:\n",
    "    population.append(x)\n",
    "    x+=2\n",
    "print(population)"
   ]
  },
  {
   "cell_type": "markdown",
   "metadata": {},
   "source": [
    "## `break` and `continue` to change loop behavior\n",
    "\n",
    "* Executing `break` exits the loop immediately.\n",
    "* Executing `continue` moves immediately to the next cycle of the loop."
   ]
  },
  {
   "cell_type": "markdown",
   "metadata": {
    "id": "ayZEuEmdQA08"
   },
   "source": [
    "#### use of the *break* statement\n",
    "In Python, the *break* statement can be used in *while* and *for* loop  to stop the execution of the looping statement.\n"
   ]
  },
  {
   "cell_type": "code",
   "execution_count": 18,
   "metadata": {},
   "outputs": [
    {
     "name": "stdout",
     "output_type": "stream",
     "text": [
      "0\n",
      "1\n",
      "2\n",
      "3\n",
      "4\n",
      "5\n",
      "6\n",
      "7\n",
      "8\n",
      "9\n",
      "10\n"
     ]
    }
   ],
   "source": [
    "for x in range(1000000):\n",
    "    print(x)\n",
    "    if x == 10:\n",
    "        break"
   ]
  },
  {
   "cell_type": "markdown",
   "metadata": {},
   "source": [
    "\n",
    "The loop can be associated with an *else* block, which:\n",
    "- is executed if the loop terminates *naturally*;\n",
    "- is not executed if execution breaks out of a loop, or if an exception is raised.\n"
   ]
  },
  {
   "cell_type": "code",
   "execution_count": 19,
   "metadata": {
    "colab": {
     "base_uri": "https://localhost:8080/"
    },
    "id": "759-ykZKSO1Z",
    "outputId": "bcb1bc4c-d022-4ee7-8500-def09548c8a4"
   },
   "outputs": [
    {
     "name": "stdout",
     "output_type": "stream",
     "text": [
      "ciao\n",
      "[0, 2, 4]\n"
     ]
    }
   ],
   "source": [
    "x = 0\n",
    "population = []\n",
    "while x<5:\n",
    "    if x>6:\n",
    "        break \n",
    "    population.append(x)\n",
    "    x+=2\n",
    "else: # only executed if the while condition becomes false, i.e. the loop terminates naturally\n",
    "    print('ciao')\n",
    "print(population)"
   ]
  },
  {
   "cell_type": "code",
   "execution_count": 20,
   "metadata": {
    "colab": {
     "base_uri": "https://localhost:8080/"
    },
    "id": "9Cz4u-fwPkJ7",
    "outputId": "820407fc-c6c8-4f4c-8efb-9a41418978ce"
   },
   "outputs": [
    {
     "name": "stdout",
     "output_type": "stream",
     "text": [
      "[0, 2]\n"
     ]
    }
   ],
   "source": [
    "x = 0\n",
    "population = []\n",
    "for x in range(0,5,2):\n",
    "    if x >3:\n",
    "        break\n",
    "    population.append(x)\n",
    "else: # If execution breaks out of the loop, or if an exception is raised, it won't be executed.\n",
    "    print('ciao')\n",
    "print(population)"
   ]
  },
  {
   "cell_type": "markdown",
   "metadata": {
    "id": "8ul_n_0JQMjr"
   },
   "source": [
    "#### use of the *continue* statement\n",
    "In Python, the continue statement can be used in a *while* or *for* loop to skip the rest of the statements in the current iteration."
   ]
  },
  {
   "cell_type": "code",
   "execution_count": 21,
   "metadata": {
    "colab": {
     "base_uri": "https://localhost:8080/"
    },
    "id": "YsNNnenJQ9ur",
    "outputId": "aac06ad4-24a4-47a8-bb1e-bcab0ffd5800"
   },
   "outputs": [
    {
     "name": "stdout",
     "output_type": "stream",
     "text": [
      "[0, 1, 2, 4]\n"
     ]
    }
   ],
   "source": [
    "x = 0\n",
    "population = []\n",
    "for x in range(0,5):\n",
    "    if x ==3:\n",
    "        continue\n",
    "    population.append(x) # statements after continue are skipped if x==3\n",
    "\n",
    "print(population)"
   ]
  },
  {
   "cell_type": "markdown",
   "metadata": {},
   "source": [
    "## Iterables and Iterators"
   ]
  },
  {
   "cell_type": "markdown",
   "metadata": {
    "id": "JI-9SfPy6Jtm"
   },
   "source": [
    "\n",
    "An object is defined as **iterable** if it is capable of returning its members one at a time. Examples of iterables include **all sequence types** (such as list, str, and tuple) and some non-sequence types like **dict, file objects**, and objects of any classes you define with an \\_\\_iter\\_\\_() method or with a \\_\\_getitem\\_\\_() method that implements Sequence semantics.\n",
    "\n"
   ]
  },
  {
   "cell_type": "markdown",
   "metadata": {},
   "source": [
    " An **iterator** is an object representing **a stream of data**. You can create an iterator object by applying the `iter()` built-in function to an iterable."
   ]
  },
  {
   "cell_type": "markdown",
   "metadata": {},
   "source": [
    "Example: `zip` function \n",
    "\n",
    "It makes an iterator that aggregates elements from each of the iterables.\n",
    "\n",
    "`zip` returns an **iterator** of tuples, where the i-th tuple contains the i-th element from each of the argument sequences or iterables.\n",
    "\n",
    "Differently from iterables, iterators don’t have length and can’t be indexed.\n"
   ]
  },
  {
   "cell_type": "code",
   "execution_count": 22,
   "metadata": {},
   "outputs": [
    {
     "data": {
      "text/plain": [
       "<zip at 0x1050997c0>"
      ]
     },
     "execution_count": 22,
     "metadata": {},
     "output_type": "execute_result"
    }
   ],
   "source": [
    "zip([1,2,3],['a','b','c'])"
   ]
  },
  {
   "cell_type": "code",
   "execution_count": 23,
   "metadata": {
    "colab": {
     "base_uri": "https://localhost:8080/"
    },
    "id": "9Q7JNb2oCpZG",
    "outputId": "5f867c4c-a2e3-4130-ed9f-62fe1e57053f",
    "scrolled": true
   },
   "outputs": [
    {
     "name": "stdout",
     "output_type": "stream",
     "text": [
      "[(1, 'a'), (2, 'b'), (3, 'c')]\n",
      "[(1, 2, 3), ('a', 'b', 'c')]\n"
     ]
    }
   ],
   "source": [
    "zipped = list(zip([1,2,3],['a','b','c']))\n",
    "print(zipped)\n",
    "unzipped = list(zip(*zipped))\n",
    "print(unzipped)"
   ]
  },
  {
   "cell_type": "markdown",
   "metadata": {},
   "source": [
    "`zip` can be useful for creating a dictionary from two lists"
   ]
  },
  {
   "cell_type": "code",
   "execution_count": 24,
   "metadata": {},
   "outputs": [
    {
     "name": "stdout",
     "output_type": "stream",
     "text": [
      "{1: 'a', 2: 'b', 3: 'c'}\n"
     ]
    }
   ],
   "source": [
    "dict_from_lists = dict(zip([1,2,3],['a','b','c']))\n",
    "print(dict_from_lists)"
   ]
  },
  {
   "cell_type": "code",
   "execution_count": 25,
   "metadata": {
    "colab": {
     "base_uri": "https://localhost:8080/"
    },
    "id": "KzQm9tk8BjvX",
    "outputId": "a602998c-6b41-44f7-cc45-a841214ad343"
   },
   "outputs": [
    {
     "name": "stdout",
     "output_type": "stream",
     "text": [
      "1 a\n",
      "2 b\n",
      "3 c\n"
     ]
    }
   ],
   "source": [
    "for x,y in zip([1,2,3],['a','b','c']):\n",
    "    print(x,y)"
   ]
  },
  {
   "cell_type": "code",
   "execution_count": 26,
   "metadata": {},
   "outputs": [
    {
     "name": "stdout",
     "output_type": "stream",
     "text": [
      "1 a\n",
      "2 b\n"
     ]
    }
   ],
   "source": [
    "for x,y in zip([1,2,3],['a','b']):\n",
    "    print(x,y)"
   ]
  },
  {
   "cell_type": "code",
   "execution_count": 27,
   "metadata": {},
   "outputs": [
    {
     "name": "stdout",
     "output_type": "stream",
     "text": [
      "1 a\n",
      "2 b\n",
      "3 c\n"
     ]
    }
   ],
   "source": [
    "for x,y in zip ([1,2,3],'abc'):\n",
    "    print(x,y)"
   ]
  },
  {
   "cell_type": "code",
   "execution_count": 28,
   "metadata": {},
   "outputs": [],
   "source": [
    "values = [10, 20, 30]\n",
    "iterator = iter(values)"
   ]
  },
  {
   "cell_type": "code",
   "execution_count": 29,
   "metadata": {},
   "outputs": [
    {
     "name": "stdout",
     "output_type": "stream",
     "text": [
      "10\n"
     ]
    }
   ],
   "source": [
    "print(next(iterator)) # try to run the cell more than once!"
   ]
  },
  {
   "cell_type": "markdown",
   "metadata": {},
   "source": [
    "Python has many built-in classes that are iterators. For example, an `enumerate` and `reversed` objects are iterators."
   ]
  },
  {
   "cell_type": "code",
   "execution_count": 30,
   "metadata": {},
   "outputs": [
    {
     "name": "stdout",
     "output_type": "stream",
     "text": [
      "<class 'enumerate'>\n",
      "(0, 'apple')\n"
     ]
    }
   ],
   "source": [
    "fruits = (\"apple\", \"pineapple\", \"blueberry\")\n",
    "iterator = enumerate(fruits)\n",
    "print(type(iterator))\n",
    "print(next(iterator))"
   ]
  },
  {
   "cell_type": "code",
   "execution_count": 31,
   "metadata": {},
   "outputs": [
    {
     "name": "stdout",
     "output_type": "stream",
     "text": [
      "(1, 'pineapple')\n"
     ]
    }
   ],
   "source": [
    "print(next(iterator))"
   ]
  },
  {
   "cell_type": "code",
   "execution_count": 32,
   "metadata": {},
   "outputs": [
    {
     "name": "stdout",
     "output_type": "stream",
     "text": [
      "Char   1: p\n",
      "Char   2: i\n",
      "Char   3: n\n",
      "Char   4: e\n",
      "Char   5: a\n",
      "Char   6: p\n",
      "Char   7: p\n",
      "Char   8: l\n",
      "Char   9: e\n",
      "Char  10: !\n",
      "Char  11: !\n"
     ]
    }
   ],
   "source": [
    "for enu,char in enumerate('pineapple!!'):\n",
    "    print(f'Char {enu+1:3}: {char}')"
   ]
  },
  {
   "cell_type": "code",
   "execution_count": 33,
   "metadata": {
    "scrolled": true
   },
   "outputs": [
    {
     "name": "stdout",
     "output_type": "stream",
     "text": [
      "<class 'reversed'>\n",
      "blueberry\n"
     ]
    }
   ],
   "source": [
    "fruits = (\"apple\", \"pineapple\", \"blueberry\")\n",
    "iterator = reversed(fruits)\n",
    "print(type(iterator))\n",
    "print(next(iterator))"
   ]
  },
  {
   "cell_type": "markdown",
   "metadata": {},
   "source": [
    "A **generator expression** is an expression that returns an iterator. It looks like a normal expression followed by a *for* expression defining a loop variable, range, and an optional *if* expression.\n",
    "\n",
    "The general formula is: `(`*output expression* `for` *iterator variable* `in` *iterable*`)`"
   ]
  },
  {
   "cell_type": "code",
   "execution_count": 34,
   "metadata": {
    "ExecuteTime": {
     "end_time": "2020-03-11T08:37:51.103664Z",
     "start_time": "2020-03-11T08:37:51.083944Z"
    }
   },
   "outputs": [
    {
     "name": "stdout",
     "output_type": "stream",
     "text": [
      "<class 'generator'>\n",
      "1\n",
      "4\n",
      "9\n"
     ]
    }
   ],
   "source": [
    "numbers = [1, 2, 3, 4, 5]\n",
    "squares = (number ** 2 for number in numbers)\n",
    "\n",
    "print(type(squares))\n",
    "\n",
    "print(next(squares))\n",
    "print(next(squares))\n",
    "print(next(squares))"
   ]
  }
 ],
 "metadata": {
  "colab": {
   "collapsed_sections": [],
   "name": "02_Python_Basic.ipynb",
   "provenance": [],
   "toc_visible": true
  },
  "kernelspec": {
   "display_name": "Python 3 (ipykernel)",
   "language": "python",
   "name": "python3"
  },
  "language_info": {
   "codemirror_mode": {
    "name": "ipython",
    "version": 3
   },
   "file_extension": ".py",
   "mimetype": "text/x-python",
   "name": "python",
   "nbconvert_exporter": "python",
   "pygments_lexer": "ipython3",
   "version": "3.11.5"
  }
 },
 "nbformat": 4,
 "nbformat_minor": 4
}

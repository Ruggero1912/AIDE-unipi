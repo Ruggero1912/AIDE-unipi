{
 "cells": [
  {
   "cell_type": "markdown",
   "id": "2fd61afc",
   "metadata": {},
   "source": [
    "# <font color='blue'><ins>TASK</ins></font>\n",
    "- Carry out a **clustering analysis** considering the following setting.\n",
    "    - Apply agglomerative clustering on exactly the same dataset (synthetic, originated with *make_blobs*).\n",
    "    - Discuss the dependancy of the clustering results upon the linkage criterion used\n",
    "    - For each linkage value\n",
    "        - plot the *dendrogram* (as usual, check the resources available in the sklearn\n",
    "        - set n_clusters = 4 and\n",
    "            - display the clustering result as a scatter plot.\n",
    "            - evaluate the clustering results in terms of one or more external metrics. \n",
    "\n",
    "- PLUS: can you figure out what would be the outcome using DBSCAN clustering algorithm? Try to use it!"
   ]
  },
  {
   "cell_type": "markdown",
   "id": "25c3aec5",
   "metadata": {},
   "source": [
    "Create dataset as in notebook *10_Clustering.ipynb*"
   ]
  },
  {
   "cell_type": "code",
   "execution_count": 1,
   "id": "4c1e25de",
   "metadata": {},
   "outputs": [],
   "source": [
    "from sklearn.datasets import make_blobs\n",
    "from sklearn.cluster import KMeans\n",
    "from sklearn.metrics import silhouette_samples, silhouette_score\n",
    "\n",
    "import matplotlib.pyplot as plt\n",
    "import matplotlib.cm as cm\n",
    "import numpy as np\n",
    "\n",
    "# Generating the sample data from make_blobs\n",
    "# This particular setting has one distinct cluster and 3 clusters placed close\n",
    "# together.\n",
    "X, y = make_blobs(\n",
    "    n_samples = 500,\n",
    "    n_features = 2,\n",
    "    centers = 4,\n",
    "    cluster_std = (1),\n",
    "    center_box = (-10.0, 10.0),\n",
    "    shuffle = True,\n",
    "    random_state = 1,  # For reproducibility\n",
    ") "
   ]
  },
  {
   "cell_type": "markdown",
   "id": "2849c946",
   "metadata": {},
   "source": [
    "Visualize dataset as in notebook *10_Clustering.ipynb*"
   ]
  },
  {
   "cell_type": "code",
   "execution_count": null,
   "id": "3d67b279",
   "metadata": {},
   "outputs": [
    {
     "data": {
      "text/plain": [
       "Text(0, 0.5, 'Feature 2')"
      ]
     },
     "execution_count": 2,
     "metadata": {},
     "output_type": "execute_result"
    }
   ],
   "source": [
    "plt.figure(figsize = (7, 7))\n",
    "plt.scatter(X[:, 0], X[:, 1], c = y)\n",
    "plt.axis('equal')\n",
    "plt.xlabel('Feature 1')\n",
    "plt.ylabel('Feature 2')"
   ]
  },
  {
   "cell_type": "markdown",
   "id": "25f47549",
   "metadata": {},
   "source": [
    "**HINT** --> Function for plotting dendrogram: snippet from an example hosted in the official sklearn documentation ([here](https://scikit-learn.org/stable/auto_examples/cluster/plot_agglomerative_dendrogram.html#sphx-glr-auto-examples-cluster-plot-agglomerative-dendrogram-py))"
   ]
  },
  {
   "cell_type": "code",
   "execution_count": null,
   "id": "1c7e5593",
   "metadata": {},
   "outputs": [],
   "source": [
    "from scipy.cluster.hierarchy import dendrogram\n",
    "\n",
    "def plot_dendrogram(model, **kwargs):\n",
    "    # Create linkage matrix and then plot the dendrogram\n",
    "\n",
    "    # create the counts of samples under each node\n",
    "    counts = np.zeros(model.children_.shape[0])\n",
    "    n_samples = len(model.labels_)\n",
    "    for i, merge in enumerate(model.children_):\n",
    "        current_count = 0\n",
    "        for child_idx in merge:\n",
    "            if child_idx < n_samples:\n",
    "                current_count += 1  # leaf node\n",
    "            else:\n",
    "                current_count += counts[child_idx - n_samples]\n",
    "        counts[i] = current_count\n",
    "\n",
    "    linkage_matrix = np.column_stack(\n",
    "        [model.children_, model.distances_, counts]\n",
    "    ).astype(float)\n",
    "\n",
    "    # Plot the corresponding dendrogram\n",
    "    dendrogram(linkage_matrix, **kwargs)"
   ]
  },
  {
   "cell_type": "code",
   "execution_count": null,
   "id": "cceb9e29",
   "metadata": {},
   "outputs": [],
   "source": [
    "# TODO"
   ]
  }
 ],
 "metadata": {
  "kernelspec": {
   "display_name": "Python 3 (ipykernel)",
   "language": "python",
   "name": "python3"
  },
  "language_info": {
   "codemirror_mode": {
    "name": "ipython",
    "version": 3
   },
   "file_extension": ".py",
   "mimetype": "text/x-python",
   "name": "python",
   "nbconvert_exporter": "python",
   "pygments_lexer": "ipython3",
   "version": "3.11.9"
  }
 },
 "nbformat": 4,
 "nbformat_minor": 5
}

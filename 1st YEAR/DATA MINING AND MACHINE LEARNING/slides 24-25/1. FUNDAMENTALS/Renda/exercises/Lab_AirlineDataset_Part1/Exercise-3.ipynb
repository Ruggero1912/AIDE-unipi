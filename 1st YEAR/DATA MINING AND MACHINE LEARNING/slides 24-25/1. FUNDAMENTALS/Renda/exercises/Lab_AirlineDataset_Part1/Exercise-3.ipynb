{
 "cells": [
  {
   "cell_type": "markdown",
   "id": "bba3e9a8",
   "metadata": {},
   "source": [
    "# Step-by-step exercise"
   ]
  },
  {
   "cell_type": "markdown",
   "id": "7c8fb6a0",
   "metadata": {},
   "source": [
    "The proposed dataset collects the outcome of a survey for uncovering the satisfaction of airline passengers.\n",
    "\n",
    "The **overall goal is to carry out a data mining process to predict passenger satisfaction**."
   ]
  },
  {
   "cell_type": "markdown",
   "id": "c7392a35-c0b8-4897-afaf-a2798427a136",
   "metadata": {},
   "source": [
    "- Gender: Gender of the passengers (Female, Male)\n",
    "- Customer Type: The customer type (Loyal customer, disloyal customer)\n",
    "- Age: The actual age of the passengers\n",
    "- Type of Travel: Purpose of the flight of the passengers (Personal Travel, Business Travel)\n",
    "- Class: Travel class in the plane of the passengers (Business, Eco, Eco Plus)\n",
    "- Flight distance: The flight distance of this journey\n",
    "- Inflight wifi service: Satisfaction level of the inflight wifi service (0:N/A; 1 (bad) - 5 (good))\n",
    "- Departure/Arrival time convenient: Satisfaction level of Departure/Arrival time convenient\n",
    "- Ease of Online booking: Satisfaction level of online booking\n",
    "- Gate location: Satisfaction level of Gate location\n",
    "- Food and drink: Satisfaction level of Food and drink\n",
    "- Online boarding: Satisfaction level of online boarding\n",
    "- Seat comfort: Satisfaction level of Seat comfort\n",
    "- Inflight entertainment: Satisfaction level of inflight entertainment\n",
    "- On-board service: Satisfaction level of On-board service\n",
    "- Leg room service: Satisfaction level of Leg room service\n",
    "- Baggage handling: Satisfaction level of baggage handling\n",
    "- Check-in service: Satisfaction level of Check-in service\n",
    "- Inflight service: Satisfaction level of inflight service\n",
    "- Cleanliness: Satisfaction level of Cleanliness\n",
    "- Departure Delay in Minutes: Minutes delayed when departure\n",
    "- Arrival Delay in Minutes: Minutes delayed when Arrival\n",
    "- Satisfaction: Airline satisfaction level (Satisfaction, neutral or dissatisfaction)\n"
   ]
  },
  {
   "cell_type": "markdown",
   "id": "2f9bba88-6e25-4185-9180-ca45c2a8a478",
   "metadata": {},
   "source": [
    "# Task\n",
    "- Carry out a **classification analysis** aimed at predicting **passenger satisfaction** considering the following setting:\n",
    "    - Apply a 10-fold cross-validation procedure on the dataset (airline-train.csv) to identify the most suitable classifier among the following:\n",
    "        - DecisionTree classifier (setting the maximum depth equal to 6)\n",
    "        - KNearestNeighbor classifier (default params)\n",
    "        - KNearestNeighbor classifier (default params) after feature selection targeted at keeping 10 features\n",
    "    - Report and discuss the results, motivating the choice of the most suitable model\n",
    "- Evaluate and discuss results on the test set:\n",
    "    - Import the *airline-test.csv* test set\n",
    "    - Report and discuss the results on the test set\n",
    "* **Hints**:\n",
    "    * Hint 1: leverage the insights from the previous notebook\n",
    "    * Hint 2: use pipelines!"
   ]
  },
  {
   "cell_type": "code",
   "execution_count": 1,
   "id": "7bc1e477",
   "metadata": {},
   "outputs": [],
   "source": [
    "# TODO: your solution"
   ]
  }
 ],
 "metadata": {
  "kernelspec": {
   "display_name": "Python 3 (ipykernel)",
   "language": "python",
   "name": "python3"
  },
  "language_info": {
   "codemirror_mode": {
    "name": "ipython",
    "version": 3
   },
   "file_extension": ".py",
   "mimetype": "text/x-python",
   "name": "python",
   "nbconvert_exporter": "python",
   "pygments_lexer": "ipython3",
   "version": "3.11.9"
  }
 },
 "nbformat": 4,
 "nbformat_minor": 5
}

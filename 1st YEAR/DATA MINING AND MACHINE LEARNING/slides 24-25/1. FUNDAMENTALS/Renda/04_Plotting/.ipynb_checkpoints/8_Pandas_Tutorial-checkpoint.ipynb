{
 "cells": [
  {
   "cell_type": "markdown",
   "metadata": {},
   "source": [
    "# Table of Contents \n",
    "\n",
    "- **[Series](#Series)**\n",
    "- **[DataFrame](#DataFrame)**\n",
    "    - [Accessing a DataFrame](#Accessing-a-DataFrame)\n",
    "    - [Boolean Indexing](#Boolean-Indexing)\n",
    "    - [Adding columns and rows](#Adding-columns-and-rows)\n",
    "    - [Deleting columns and rows](#Deleting-columns-and-rows)\n",
    "    - [Reading and Writing DataFrames](#Reading-and-Writing-DataFrames)\n",
    "    - [Missing Data](#Missing-data)\n",
    "- **[DataFrame Operations](#DataFrame-Operations)**\n",
    "    - [Matrix operations](#Matrix-operations)\n",
    "    - [Column operations](#Column-operations)\n",
    "\n",
    "- **[Data Splitting](#Data-Splitting)**\n",
    "    - [Grouping](#Grouping)\n",
    "    \n",
    "- **[Matplotlib: examples](#Matplotlib:-plotting-examples)**\n",
    "    \n"
   ]
  },
  {
   "cell_type": "markdown",
   "metadata": {},
   "source": [
    "### The Data Mining Process \n",
    "\n",
    "Image from: \n",
    "\n",
    "    Usama M. Fayyad, Gregory Piatetsky-Shapiro, Padhraic Smyth, and Ramasamy Uthurusamy. \n",
    "    Advances in Knowledge Discovery and Data Mining. MIT Press, Menlo Park, CA, 1996\n",
    "\n",
    "![datamining](images/DataMiningProcess.PNG)\n"
   ]
  },
  {
   "cell_type": "markdown",
   "metadata": {},
   "source": [
    "**Pandas** is desgined to make **data pre-processing and data analysis fast and easy in Python**. Pandas adopts many coding idioms from NumPy, such as avoiding the `for` loops, but it is designed for working with heterogenous data represented in tabular format.\n",
    "\n",
    "To use Pandas, you need to import the `pandas` module, using for example:"
   ]
  },
  {
   "cell_type": "code",
   "execution_count": 1,
   "metadata": {
    "ExecuteTime": {
     "end_time": "2020-06-24T12:57:09.909716Z",
     "start_time": "2020-06-24T12:57:02.830486Z"
    }
   },
   "outputs": [],
   "source": [
    "import pandas as pd\n",
    "import numpy as np # we will also need numpy"
   ]
  },
  {
   "cell_type": "markdown",
   "metadata": {},
   "source": [
    "This import style is quite standard; all objects and functions the `pandas` package will now be invoked with the `pd.` prefix.\n"
   ]
  },
  {
   "cell_type": "markdown",
   "metadata": {},
   "source": [
    "## Aside: Numpy\n",
    "NumPy (**Num**erical **Py**thon) is the fundamental package for scientific computing with Python. It contains, among other things:\n",
    "\n",
    "- a powerful N-dimensional array object\n",
    "- sophisticated functions that support broadcasting (i.e. it allows to perform arithmetic operations between arrays with different shape)\n",
    "- tools for integrating C/C++ and Fortran code\n",
    "- useful linear algebra, Fourier transform, and random number capabilities\n",
    "\n",
    "The core object of numpy is **ndarray**: N-dimensional Array. It represents a multidimensional, homogeneous array of fixed-size items."
   ]
  },
  {
   "cell_type": "code",
   "execution_count": 2,
   "metadata": {},
   "outputs": [
    {
     "data": {
      "text/plain": [
       "array([0. , 0.1, 0.2, 0.3, 0.4, 0.5, 0.6, 0.7, 0.8, 0.9])"
      ]
     },
     "execution_count": 2,
     "metadata": {},
     "output_type": "execute_result"
    }
   ],
   "source": [
    "# example of 1-dimensional array\n",
    "np.arange(0, 1, 0.1)"
   ]
  },
  {
   "cell_type": "code",
   "execution_count": 3,
   "metadata": {},
   "outputs": [
    {
     "data": {
      "text/plain": [
       "array([[0., 0., 0., 0., 0.],\n",
       "       [0., 0., 0., 0., 0.],\n",
       "       [0., 0., 0., 0., 0.]])"
      ]
     },
     "execution_count": 3,
     "metadata": {},
     "output_type": "execute_result"
    }
   ],
   "source": [
    "# example of 2-dimensional array\n",
    "my_ndarray = np.zeros((3,5))\n",
    "my_ndarray"
   ]
  },
  {
   "cell_type": "code",
   "execution_count": 4,
   "metadata": {},
   "outputs": [
    {
     "data": {
      "text/plain": [
       "array([1, 2, 3])"
      ]
     },
     "execution_count": 4,
     "metadata": {},
     "output_type": "execute_result"
    }
   ],
   "source": [
    "np.asarray([1,2,3])"
   ]
  },
  {
   "cell_type": "code",
   "execution_count": 5,
   "metadata": {
    "scrolled": true
   },
   "outputs": [
    {
     "name": "stdout",
     "output_type": "stream",
     "text": [
      "[[0. 0. 0. 0. 0.]\n",
      " [0. 0. 0. 0. 0.]\n",
      " [0. 0. 0. 0. 0.]]\n",
      "(3, 5)\n",
      "2\n",
      "15\n",
      "float64\n"
     ]
    }
   ],
   "source": [
    "print(my_ndarray)\n",
    "print(my_ndarray.shape)\n",
    "print(my_ndarray.ndim)\n",
    "print(my_ndarray.size)\n",
    "print(my_ndarray.dtype)"
   ]
  },
  {
   "cell_type": "markdown",
   "metadata": {},
   "source": [
    "There are several NumPy functions for [creating arrays](https://docs.scipy.org/doc/numpy/user/quickstart.html#array-creation):\n",
    "\n",
    "| Function | Description |\n",
    "| ---: | :--- |\n",
    "| `np.array(a)` | Create $n$-dimensional NumPy array from sequence `a` |\n",
    "| `np.linspace(a,b,N)` | Create 1D NumPy array with `N` equally spaced values from `a` to `b` (inclusively)|\n",
    "| `np.arange(a,b,step)` | Create 1D NumPy array with values from `a` to `b` (exclusively) incremented by `step`|\n",
    "| `np.zeros(N)` | Create 1D NumPy array of zeros of length $N$ |\n",
    "| `np.zeros((n,m))` | Create 2D NumPy array of zeros with $n$ rows and $m$ columns |\n",
    "| `np.ones(N)` | Create 1D NumPy array of ones of length $N$ |\n",
    "| `np.ones((n,m))` | Create 2D NumPy array of ones with $n$ rows and $m$ columns |\n",
    "| `np.eye(N)` | Create 2D NumPy array with $N$ rows and $N$ columns with ones on the diagonal (ie. the identity matrix of size $N$) |"
   ]
  },
  {
   "cell_type": "markdown",
   "metadata": {},
   "source": [
    "### Mathematical Functions\n",
    "\n",
    "[Mathematical functions](http://docs.scipy.org/doc/numpy/reference/routines.math.html) in NumPy are called [**universal functions**](https://docs.scipy.org/doc/numpy/user/quickstart.html#universal-functions) and are *vectorized*. Vectorized functions operate *element-wise* on arrays producing arrays as output and are built to compute values across arrays *very* quickly. "
   ]
  },
  {
   "cell_type": "markdown",
   "metadata": {},
   "source": [
    "The following table contains a list of the most important unary ufuncs.\n",
    "\n",
    "|Function| Description |\n",
    "|:-------|:---------|\n",
    "|`np.abs`|Compute the absolute value element-wise for integer, floating-point, or complex values|\n",
    "|`np.sqrt`|Compute the square root of each element|\n",
    "|`np.exp`|Compute the exponent $e^x$ of each element|\n",
    "|`np.log`, `np.log10`, `np.log2`, `np.log1p`|Natural logarithm (base e), log base 10, log base 2, and log(1 + x), respectively|\n",
    "|`np.sign`|Compute the sign of each element: 1 (positive), 0 (zero), or –1 (negative)|\n",
    "|`np.ceil`|Compute the ceiling of each element|\n",
    "|`np.floor`|Compute the floor of each element|\n",
    "|`np.modf`|Return fractional and integral parts of array as a separate array|\n",
    "|`np.isnan`|Return boolean array indicating whether each value is `NaN` (Not a Number)|\n",
    "|`np.cos`, `np.cosh`, `np.sin`, `np.sinh`, `np.tan`, `np.tanh`|Regular and hyperbolic trigonometric functions|\n",
    "|`np.arccos`, `np.arccosh`, `np.arcsin`, `np.arcsinh`, `np.arctan`, `np.arctanh`|Inverse trigonometric functions|"
   ]
  },
  {
   "cell_type": "markdown",
   "metadata": {},
   "source": [
    "The following table contains a list of the most important binary ufuncs.\n",
    "\n",
    "|Function| Description |\n",
    "|:-------|:---------|\n",
    "|`np.add`|Element-wise addition|\n",
    "|`np.subtract`|Element-wise subtraction|\n",
    "|`np.multiply`|Element-wise multiplication|\n",
    "|`np.divide`|Element-wise division|\n",
    "|`np.mod`|Element-wise modulus|\n",
    "|`np.power`|Raise elements in first array to powers indicated in second array |\n",
    "|`np.maximum`, `np.fmax`|Element-wise maximum; `np.fmax` ignores `NaN`|\n",
    "|`np.minimum`, `np.fmin`|Element-wise minimum; `np.fmin` ignores `NaN`|"
   ]
  },
  {
   "cell_type": "markdown",
   "metadata": {},
   "source": [
    "\n",
    "Pandas has two main data structures, **Series** and **DataFrame**.\n"
   ]
  },
  {
   "cell_type": "markdown",
   "metadata": {},
   "source": [
    "# Series\n",
    "\n",
    "Series are the Pandas version of 1-D Numpy arrays. \n",
    "\n",
    "An instance of Series is a single dimension array-like object containing:\n",
    "- a *sequence of values*,\n",
    "- an array of *data labels*, namely its **index**.\n",
    "\n",
    "A Series can be created easily from a Python list:"
   ]
  },
  {
   "cell_type": "code",
   "execution_count": 6,
   "metadata": {
    "ExecuteTime": {
     "end_time": "2020-06-24T14:06:29.883282Z",
     "start_time": "2020-06-24T14:06:29.873731Z"
    },
    "scrolled": false
   },
   "outputs": [
    {
     "name": "stdout",
     "output_type": "stream",
     "text": [
      "0    4\n",
      "1    8\n",
      "2    1\n",
      "3    3\n",
      "dtype: int64\n"
     ]
    }
   ],
   "source": [
    "ts = pd.Series([4, 8, 1, 3])\n",
    "print(ts)"
   ]
  },
  {
   "cell_type": "markdown",
   "metadata": {},
   "source": [
    "The string representation of a Series display two columns: the first column represents the index array, the second column represents the values array. Since no index was specified, the default indexing consists of increasing integers starting from 0. "
   ]
  },
  {
   "cell_type": "markdown",
   "metadata": {},
   "source": [
    "The underlying structure can be recovered with the `values` attribute:"
   ]
  },
  {
   "cell_type": "code",
   "execution_count": 7,
   "metadata": {
    "ExecuteTime": {
     "end_time": "2020-06-24T14:06:30.975916Z",
     "start_time": "2020-06-24T14:06:30.966676Z"
    }
   },
   "outputs": [
    {
     "name": "stdout",
     "output_type": "stream",
     "text": [
      "[4 8 1 3]\n",
      "<class 'numpy.ndarray'>\n"
     ]
    }
   ],
   "source": [
    "print(ts.values)\n",
    "print(type(ts.values))"
   ]
  },
  {
   "cell_type": "markdown",
   "metadata": {},
   "source": [
    "To create a Series with its own index, you can write:"
   ]
  },
  {
   "cell_type": "code",
   "execution_count": 8,
   "metadata": {
    "ExecuteTime": {
     "end_time": "2020-06-24T13:10:32.009532Z",
     "start_time": "2020-06-24T13:10:31.999642Z"
    },
    "scrolled": true
   },
   "outputs": [
    {
     "name": "stdout",
     "output_type": "stream",
     "text": [
      "first     4\n",
      "second    8\n",
      "third     1\n",
      "fourth    3\n",
      "dtype: int64\n"
     ]
    }
   ],
   "source": [
    "ts = pd.Series([4, 8, 1, 3], index=['first', 'second', 'third', 'fourth'])\n",
    "print(ts)"
   ]
  },
  {
   "cell_type": "markdown",
   "metadata": {},
   "source": [
    "The labels in the index can be used to select values in the Series:"
   ]
  },
  {
   "cell_type": "code",
   "execution_count": 9,
   "metadata": {
    "ExecuteTime": {
     "end_time": "2020-06-24T13:13:05.940761Z",
     "start_time": "2020-06-24T13:13:05.922266Z"
    }
   },
   "outputs": [
    {
     "name": "stdout",
     "output_type": "stream",
     "text": [
      "4\n"
     ]
    }
   ],
   "source": [
    "print(ts['first'])\n"
   ]
  },
  {
   "cell_type": "code",
   "execution_count": 10,
   "metadata": {},
   "outputs": [
    {
     "name": "stdout",
     "output_type": "stream",
     "text": [
      "second    8\n",
      "fourth    3\n",
      "dtype: int64\n"
     ]
    }
   ],
   "source": [
    "print(ts[['second', 'fourth']])"
   ]
  },
  {
   "cell_type": "markdown",
   "metadata": {},
   "source": [
    "You can think about a Series as a kind of fixed-length, ordered Python's `dict`, mapping index values to data values. In fact, it is possible to create a Series directlty from a Python's `dict`:"
   ]
  },
  {
   "cell_type": "code",
   "execution_count": 11,
   "metadata": {
    "ExecuteTime": {
     "end_time": "2020-06-24T13:18:31.486140Z",
     "start_time": "2020-06-24T13:18:31.465527Z"
    }
   },
   "outputs": [
    {
     "name": "stdout",
     "output_type": "stream",
     "text": [
      "Pisa       80\n",
      "London    300\n",
      "Paris       1\n",
      "dtype: int64\n"
     ]
    }
   ],
   "source": [
    "my_dict = {'Pisa': 80, 'London': 300, 'Paris': 1}\n",
    "ts = pd.Series(my_dict)\n",
    "print(ts)"
   ]
  },
  {
   "cell_type": "markdown",
   "metadata": {},
   "source": [
    "Sorting a series:"
   ]
  },
  {
   "cell_type": "code",
   "execution_count": 12,
   "metadata": {},
   "outputs": [
    {
     "data": {
      "text/plain": [
       "Paris       1\n",
       "Pisa       80\n",
       "London    300\n",
       "dtype: int64"
      ]
     },
     "execution_count": 12,
     "metadata": {},
     "output_type": "execute_result"
    }
   ],
   "source": [
    "ts.sort_values()"
   ]
  },
  {
   "cell_type": "code",
   "execution_count": 13,
   "metadata": {},
   "outputs": [
    {
     "data": {
      "text/plain": [
       "Pisa       80\n",
       "London    300\n",
       "Paris       1\n",
       "dtype: int64"
      ]
     },
     "execution_count": 13,
     "metadata": {},
     "output_type": "execute_result"
    }
   ],
   "source": [
    "ts"
   ]
  },
  {
   "cell_type": "markdown",
   "metadata": {},
   "source": [
    "**Arithmetic operations** on Series are automatically aligned on the index labels:"
   ]
  },
  {
   "cell_type": "code",
   "execution_count": 14,
   "metadata": {},
   "outputs": [],
   "source": [
    "ts1 = pd.Series([4, 8, 1, 3], index=['first', 'second', 'third', 'fourth'])\n",
    "ts2 = pd.Series([4, 8, 1], index=['first', 'second', 'pisa'])"
   ]
  },
  {
   "cell_type": "code",
   "execution_count": 15,
   "metadata": {},
   "outputs": [
    {
     "data": {
      "text/plain": [
       "first     4\n",
       "second    8\n",
       "third     1\n",
       "fourth    3\n",
       "dtype: int64"
      ]
     },
     "execution_count": 15,
     "metadata": {},
     "output_type": "execute_result"
    }
   ],
   "source": [
    "ts1"
   ]
  },
  {
   "cell_type": "code",
   "execution_count": 16,
   "metadata": {},
   "outputs": [
    {
     "data": {
      "text/plain": [
       "first     4\n",
       "second    8\n",
       "pisa      1\n",
       "dtype: int64"
      ]
     },
     "execution_count": 16,
     "metadata": {},
     "output_type": "execute_result"
    }
   ],
   "source": [
    "ts2"
   ]
  },
  {
   "cell_type": "code",
   "execution_count": 17,
   "metadata": {
    "ExecuteTime": {
     "end_time": "2020-06-24T13:29:55.852232Z",
     "start_time": "2020-06-24T13:29:55.833699Z"
    },
    "scrolled": true
   },
   "outputs": [
    {
     "name": "stdout",
     "output_type": "stream",
     "text": [
      "first      8.0\n",
      "fourth     NaN\n",
      "pisa       NaN\n",
      "second    16.0\n",
      "third      NaN\n",
      "dtype: float64\n"
     ]
    }
   ],
   "source": [
    "ts_sum = ts1 + ts2\n",
    "print(ts_sum)"
   ]
  },
  {
   "cell_type": "markdown",
   "metadata": {},
   "source": [
    "Here two index values are correctly computed (corresponding to the label `first` and `second`). The two other index labels `third` and `fourth` in `ts1` are missing in `ts2`, as well as the `pisa` index label in `ts2`. Hence, for each of these index label, a `NaN` value (*not a number*) appears, which Pandas considers as a **missing value**.\n",
    "\n",
    "The `pd.isnull` (or `pd.isna`) and `pd.notnull` (or `pd.notna`) functions detects missing data. There are also corresponding **instance methods**."
   ]
  },
  {
   "cell_type": "code",
   "execution_count": 18,
   "metadata": {
    "ExecuteTime": {
     "end_time": "2020-06-24T13:31:20.930884Z",
     "start_time": "2020-06-24T13:31:20.911850Z"
    }
   },
   "outputs": [
    {
     "name": "stdout",
     "output_type": "stream",
     "text": [
      "first     False\n",
      "fourth     True\n",
      "pisa       True\n",
      "second    False\n",
      "third      True\n",
      "dtype: bool\n",
      "\n",
      "first     False\n",
      "fourth     True\n",
      "pisa       True\n",
      "second    False\n",
      "third      True\n",
      "dtype: bool\n"
     ]
    }
   ],
   "source": [
    "print(pd.isnull(ts_sum))\n",
    "print()\n",
    "print(ts_sum.isnull())"
   ]
  },
  {
   "cell_type": "code",
   "execution_count": 19,
   "metadata": {},
   "outputs": [
    {
     "name": "stdout",
     "output_type": "stream",
     "text": [
      "first      True\n",
      "fourth    False\n",
      "pisa      False\n",
      "second     True\n",
      "third     False\n",
      "dtype: bool\n",
      "\n",
      "first      True\n",
      "fourth    False\n",
      "pisa      False\n",
      "second     True\n",
      "third     False\n",
      "dtype: bool\n"
     ]
    }
   ],
   "source": [
    "print(pd.notnull(ts_sum))\n",
    "print()\n",
    "print(ts_sum.notnull())"
   ]
  },
  {
   "cell_type": "markdown",
   "metadata": {},
   "source": [
    "# DataFrame\n",
    "\n",
    "A DataFrame is a **rectangular table of data**. It contains an ordered list of columns. Every column can be of a different type. \n",
    "\n",
    "A DataFrame has both a *row index* and a *column index*. It can be thought as a *dictionary of Series* (one per column) all sharing the same index labels.\n",
    "\n",
    "There are many ways to construct a DataFrame: one of the most common is using a dictionary of Python's lists (or NumPy's arrays):"
   ]
  },
  {
   "cell_type": "code",
   "execution_count": 20,
   "metadata": {
    "ExecuteTime": {
     "end_time": "2020-06-24T13:46:58.794613Z",
     "start_time": "2020-06-24T13:46:58.779817Z"
    }
   },
   "outputs": [
    {
     "name": "stdout",
     "output_type": "stream",
     "text": [
      "            Brand  Price  Wheels\n",
      "0     Honda Civic  22000       4\n",
      "1  Toyota Corolla  25000       4\n",
      "2      Ford Focus  27000       4\n",
      "3         Audi A4  35000       4\n"
     ]
    }
   ],
   "source": [
    "cars = {'Brand': ['Honda Civic', 'Toyota Corolla', 'Ford Focus', 'Audi A4'],\n",
    "        'Price': [22000, 25000, 27000, 35000],\n",
    "        'Wheels': 4} # broadcast if possible\n",
    "\n",
    "df = pd.DataFrame(cars)\n",
    "print(df)"
   ]
  },
  {
   "cell_type": "markdown",
   "metadata": {},
   "source": [
    "The resulting DataFrame will receive its index automatically as with Series."
   ]
  },
  {
   "cell_type": "markdown",
   "metadata": {},
   "source": [
    "To pretty-print a DataFrame in a Jupyter notebooks, it is enough to write its name (or using the `head()` instance method for very long DataFrames):"
   ]
  },
  {
   "cell_type": "code",
   "execution_count": 21,
   "metadata": {},
   "outputs": [
    {
     "data": {
      "text/html": [
       "<div>\n",
       "<style scoped>\n",
       "    .dataframe tbody tr th:only-of-type {\n",
       "        vertical-align: middle;\n",
       "    }\n",
       "\n",
       "    .dataframe tbody tr th {\n",
       "        vertical-align: top;\n",
       "    }\n",
       "\n",
       "    .dataframe thead th {\n",
       "        text-align: right;\n",
       "    }\n",
       "</style>\n",
       "<table border=\"1\" class=\"dataframe\">\n",
       "  <thead>\n",
       "    <tr style=\"text-align: right;\">\n",
       "      <th></th>\n",
       "      <th>Brand</th>\n",
       "      <th>Price</th>\n",
       "      <th>Wheels</th>\n",
       "    </tr>\n",
       "  </thead>\n",
       "  <tbody>\n",
       "    <tr>\n",
       "      <th>0</th>\n",
       "      <td>Honda Civic</td>\n",
       "      <td>22000</td>\n",
       "      <td>4</td>\n",
       "    </tr>\n",
       "    <tr>\n",
       "      <th>1</th>\n",
       "      <td>Toyota Corolla</td>\n",
       "      <td>25000</td>\n",
       "      <td>4</td>\n",
       "    </tr>\n",
       "    <tr>\n",
       "      <th>2</th>\n",
       "      <td>Ford Focus</td>\n",
       "      <td>27000</td>\n",
       "      <td>4</td>\n",
       "    </tr>\n",
       "    <tr>\n",
       "      <th>3</th>\n",
       "      <td>Audi A4</td>\n",
       "      <td>35000</td>\n",
       "      <td>4</td>\n",
       "    </tr>\n",
       "  </tbody>\n",
       "</table>\n",
       "</div>"
      ],
      "text/plain": [
       "            Brand  Price  Wheels\n",
       "0     Honda Civic  22000       4\n",
       "1  Toyota Corolla  25000       4\n",
       "2      Ford Focus  27000       4\n",
       "3         Audi A4  35000       4"
      ]
     },
     "execution_count": 21,
     "metadata": {},
     "output_type": "execute_result"
    }
   ],
   "source": [
    "df"
   ]
  },
  {
   "cell_type": "code",
   "execution_count": 22,
   "metadata": {
    "ExecuteTime": {
     "end_time": "2020-06-24T13:48:19.586597Z",
     "start_time": "2020-06-24T13:48:19.564159Z"
    }
   },
   "outputs": [
    {
     "data": {
      "text/html": [
       "<div>\n",
       "<style scoped>\n",
       "    .dataframe tbody tr th:only-of-type {\n",
       "        vertical-align: middle;\n",
       "    }\n",
       "\n",
       "    .dataframe tbody tr th {\n",
       "        vertical-align: top;\n",
       "    }\n",
       "\n",
       "    .dataframe thead th {\n",
       "        text-align: right;\n",
       "    }\n",
       "</style>\n",
       "<table border=\"1\" class=\"dataframe\">\n",
       "  <thead>\n",
       "    <tr style=\"text-align: right;\">\n",
       "      <th></th>\n",
       "      <th>Brand</th>\n",
       "      <th>Price</th>\n",
       "      <th>Wheels</th>\n",
       "    </tr>\n",
       "  </thead>\n",
       "  <tbody>\n",
       "    <tr>\n",
       "      <th>0</th>\n",
       "      <td>Honda Civic</td>\n",
       "      <td>22000</td>\n",
       "      <td>4</td>\n",
       "    </tr>\n",
       "    <tr>\n",
       "      <th>1</th>\n",
       "      <td>Toyota Corolla</td>\n",
       "      <td>25000</td>\n",
       "      <td>4</td>\n",
       "    </tr>\n",
       "  </tbody>\n",
       "</table>\n",
       "</div>"
      ],
      "text/plain": [
       "            Brand  Price  Wheels\n",
       "0     Honda Civic  22000       4\n",
       "1  Toyota Corolla  25000       4"
      ]
     },
     "execution_count": 22,
     "metadata": {},
     "output_type": "execute_result"
    }
   ],
   "source": [
    "df.head(2)"
   ]
  },
  {
   "cell_type": "code",
   "execution_count": 23,
   "metadata": {},
   "outputs": [
    {
     "data": {
      "text/html": [
       "<div>\n",
       "<style scoped>\n",
       "    .dataframe tbody tr th:only-of-type {\n",
       "        vertical-align: middle;\n",
       "    }\n",
       "\n",
       "    .dataframe tbody tr th {\n",
       "        vertical-align: top;\n",
       "    }\n",
       "\n",
       "    .dataframe thead th {\n",
       "        text-align: right;\n",
       "    }\n",
       "</style>\n",
       "<table border=\"1\" class=\"dataframe\">\n",
       "  <thead>\n",
       "    <tr style=\"text-align: right;\">\n",
       "      <th></th>\n",
       "      <th>Brand</th>\n",
       "      <th>Price</th>\n",
       "      <th>Wheels</th>\n",
       "    </tr>\n",
       "  </thead>\n",
       "  <tbody>\n",
       "    <tr>\n",
       "      <th>2</th>\n",
       "      <td>Ford Focus</td>\n",
       "      <td>27000</td>\n",
       "      <td>4</td>\n",
       "    </tr>\n",
       "    <tr>\n",
       "      <th>3</th>\n",
       "      <td>Audi A4</td>\n",
       "      <td>35000</td>\n",
       "      <td>4</td>\n",
       "    </tr>\n",
       "  </tbody>\n",
       "</table>\n",
       "</div>"
      ],
      "text/plain": [
       "        Brand  Price  Wheels\n",
       "2  Ford Focus  27000       4\n",
       "3     Audi A4  35000       4"
      ]
     },
     "execution_count": 23,
     "metadata": {},
     "output_type": "execute_result"
    }
   ],
   "source": [
    "df.tail(2)\n"
   ]
  },
  {
   "cell_type": "markdown",
   "metadata": {},
   "source": [
    "A summary of the *numerical* data is provided by `describe`:"
   ]
  },
  {
   "cell_type": "code",
   "execution_count": 24,
   "metadata": {
    "scrolled": true
   },
   "outputs": [
    {
     "data": {
      "text/html": [
       "<div>\n",
       "<style scoped>\n",
       "    .dataframe tbody tr th:only-of-type {\n",
       "        vertical-align: middle;\n",
       "    }\n",
       "\n",
       "    .dataframe tbody tr th {\n",
       "        vertical-align: top;\n",
       "    }\n",
       "\n",
       "    .dataframe thead th {\n",
       "        text-align: right;\n",
       "    }\n",
       "</style>\n",
       "<table border=\"1\" class=\"dataframe\">\n",
       "  <thead>\n",
       "    <tr style=\"text-align: right;\">\n",
       "      <th></th>\n",
       "      <th>Price</th>\n",
       "      <th>Wheels</th>\n",
       "    </tr>\n",
       "  </thead>\n",
       "  <tbody>\n",
       "    <tr>\n",
       "      <th>count</th>\n",
       "      <td>4.000000</td>\n",
       "      <td>4.0</td>\n",
       "    </tr>\n",
       "    <tr>\n",
       "      <th>mean</th>\n",
       "      <td>27250.000000</td>\n",
       "      <td>4.0</td>\n",
       "    </tr>\n",
       "    <tr>\n",
       "      <th>std</th>\n",
       "      <td>5560.275773</td>\n",
       "      <td>0.0</td>\n",
       "    </tr>\n",
       "    <tr>\n",
       "      <th>min</th>\n",
       "      <td>22000.000000</td>\n",
       "      <td>4.0</td>\n",
       "    </tr>\n",
       "    <tr>\n",
       "      <th>25%</th>\n",
       "      <td>24250.000000</td>\n",
       "      <td>4.0</td>\n",
       "    </tr>\n",
       "    <tr>\n",
       "      <th>50%</th>\n",
       "      <td>26000.000000</td>\n",
       "      <td>4.0</td>\n",
       "    </tr>\n",
       "    <tr>\n",
       "      <th>75%</th>\n",
       "      <td>29000.000000</td>\n",
       "      <td>4.0</td>\n",
       "    </tr>\n",
       "    <tr>\n",
       "      <th>max</th>\n",
       "      <td>35000.000000</td>\n",
       "      <td>4.0</td>\n",
       "    </tr>\n",
       "  </tbody>\n",
       "</table>\n",
       "</div>"
      ],
      "text/plain": [
       "              Price  Wheels\n",
       "count      4.000000     4.0\n",
       "mean   27250.000000     4.0\n",
       "std     5560.275773     0.0\n",
       "min    22000.000000     4.0\n",
       "25%    24250.000000     4.0\n",
       "50%    26000.000000     4.0\n",
       "75%    29000.000000     4.0\n",
       "max    35000.000000     4.0"
      ]
     },
     "execution_count": 24,
     "metadata": {},
     "output_type": "execute_result"
    }
   ],
   "source": [
    "df.describe()"
   ]
  },
  {
   "cell_type": "markdown",
   "metadata": {},
   "source": [
    "If working with a large table, it might be useful to sometimes have a list of all the columns' names. This is given by the `keys()` methods:"
   ]
  },
  {
   "cell_type": "code",
   "execution_count": 25,
   "metadata": {
    "ExecuteTime": {
     "end_time": "2020-06-24T14:19:07.147448Z",
     "start_time": "2020-06-24T14:19:07.137275Z"
    },
    "scrolled": true
   },
   "outputs": [
    {
     "name": "stdout",
     "output_type": "stream",
     "text": [
      "Index(['Brand', 'Price', 'Wheels'], dtype='object')\n"
     ]
    }
   ],
   "source": [
    "print(df.keys())"
   ]
  },
  {
   "cell_type": "code",
   "execution_count": 26,
   "metadata": {},
   "outputs": [
    {
     "name": "stdout",
     "output_type": "stream",
     "text": [
      "Index(['Brand', 'Price', 'Wheels'], dtype='object')\n"
     ]
    }
   ],
   "source": [
    "print(df.columns)"
   ]
  },
  {
   "cell_type": "markdown",
   "metadata": {},
   "source": [
    "Many feature from the NumPy package can be directly used with Pandas DataFrames"
   ]
  },
  {
   "cell_type": "code",
   "execution_count": 27,
   "metadata": {
    "ExecuteTime": {
     "end_time": "2020-06-25T08:48:02.257248Z",
     "start_time": "2020-06-25T08:48:02.236802Z"
    }
   },
   "outputs": [
    {
     "name": "stdout",
     "output_type": "stream",
     "text": [
      "[['Honda Civic' 22000 4]\n",
      " ['Toyota Corolla' 25000 4]\n",
      " ['Ford Focus' 27000 4]\n",
      " ['Audi A4' 35000 4]]\n",
      "\n",
      "<class 'numpy.ndarray'>\n"
     ]
    }
   ],
   "source": [
    "print(df.values)\n",
    "print()\n",
    "print(type(df.values))"
   ]
  },
  {
   "cell_type": "code",
   "execution_count": 28,
   "metadata": {
    "ExecuteTime": {
     "end_time": "2020-06-25T08:48:03.529820Z",
     "start_time": "2020-06-25T08:48:03.499697Z"
    }
   },
   "outputs": [
    {
     "name": "stdout",
     "output_type": "stream",
     "text": [
      "(4, 3)\n"
     ]
    }
   ],
   "source": [
    "print(df.shape)"
   ]
  },
  {
   "cell_type": "markdown",
   "metadata": {},
   "source": [
    "Another common way to create a DataFrame is to use a *nested dict of dicts*:"
   ]
  },
  {
   "cell_type": "code",
   "execution_count": 29,
   "metadata": {
    "ExecuteTime": {
     "end_time": "2020-06-24T14:27:29.650782Z",
     "start_time": "2020-06-24T14:27:29.643762Z"
    }
   },
   "outputs": [],
   "source": [
    "population = {'Nevada': {2001: 2.4, 2002: 2.9},\n",
    "       'Ohio': {2000: 1.5, 2001: 1.7, 2002: 3.6}}"
   ]
  },
  {
   "cell_type": "markdown",
   "metadata": {},
   "source": [
    "If this nested dict is passed to the DataFrame, the **outer dict keys are interpreted as column labels**, and the **inner keys are interpreted as row labels**:"
   ]
  },
  {
   "cell_type": "code",
   "execution_count": 30,
   "metadata": {
    "ExecuteTime": {
     "end_time": "2020-06-24T14:28:37.554310Z",
     "start_time": "2020-06-24T14:28:37.535827Z"
    }
   },
   "outputs": [
    {
     "data": {
      "text/html": [
       "<div>\n",
       "<style scoped>\n",
       "    .dataframe tbody tr th:only-of-type {\n",
       "        vertical-align: middle;\n",
       "    }\n",
       "\n",
       "    .dataframe tbody tr th {\n",
       "        vertical-align: top;\n",
       "    }\n",
       "\n",
       "    .dataframe thead th {\n",
       "        text-align: right;\n",
       "    }\n",
       "</style>\n",
       "<table border=\"1\" class=\"dataframe\">\n",
       "  <thead>\n",
       "    <tr style=\"text-align: right;\">\n",
       "      <th></th>\n",
       "      <th>Nevada</th>\n",
       "      <th>Ohio</th>\n",
       "    </tr>\n",
       "  </thead>\n",
       "  <tbody>\n",
       "    <tr>\n",
       "      <th>2001</th>\n",
       "      <td>2.4</td>\n",
       "      <td>1.7</td>\n",
       "    </tr>\n",
       "    <tr>\n",
       "      <th>2002</th>\n",
       "      <td>2.9</td>\n",
       "      <td>3.6</td>\n",
       "    </tr>\n",
       "    <tr>\n",
       "      <th>2000</th>\n",
       "      <td>NaN</td>\n",
       "      <td>1.5</td>\n",
       "    </tr>\n",
       "  </tbody>\n",
       "</table>\n",
       "</div>"
      ],
      "text/plain": [
       "      Nevada  Ohio\n",
       "2001     2.4   1.7\n",
       "2002     2.9   3.6\n",
       "2000     NaN   1.5"
      ]
     },
     "execution_count": 30,
     "metadata": {},
     "output_type": "execute_result"
    }
   ],
   "source": [
    "df = pd.DataFrame(population)\n",
    "df"
   ]
  },
  {
   "cell_type": "markdown",
   "metadata": {},
   "source": [
    "Sorting a dataframe:"
   ]
  },
  {
   "cell_type": "code",
   "execution_count": 31,
   "metadata": {},
   "outputs": [
    {
     "data": {
      "text/html": [
       "<div>\n",
       "<style scoped>\n",
       "    .dataframe tbody tr th:only-of-type {\n",
       "        vertical-align: middle;\n",
       "    }\n",
       "\n",
       "    .dataframe tbody tr th {\n",
       "        vertical-align: top;\n",
       "    }\n",
       "\n",
       "    .dataframe thead th {\n",
       "        text-align: right;\n",
       "    }\n",
       "</style>\n",
       "<table border=\"1\" class=\"dataframe\">\n",
       "  <thead>\n",
       "    <tr style=\"text-align: right;\">\n",
       "      <th></th>\n",
       "      <th>Nevada</th>\n",
       "      <th>Ohio</th>\n",
       "    </tr>\n",
       "  </thead>\n",
       "  <tbody>\n",
       "    <tr>\n",
       "      <th>2002</th>\n",
       "      <td>2.9</td>\n",
       "      <td>3.6</td>\n",
       "    </tr>\n",
       "    <tr>\n",
       "      <th>2001</th>\n",
       "      <td>2.4</td>\n",
       "      <td>1.7</td>\n",
       "    </tr>\n",
       "    <tr>\n",
       "      <th>2000</th>\n",
       "      <td>NaN</td>\n",
       "      <td>1.5</td>\n",
       "    </tr>\n",
       "  </tbody>\n",
       "</table>\n",
       "</div>"
      ],
      "text/plain": [
       "      Nevada  Ohio\n",
       "2002     2.9   3.6\n",
       "2001     2.4   1.7\n",
       "2000     NaN   1.5"
      ]
     },
     "execution_count": 31,
     "metadata": {},
     "output_type": "execute_result"
    }
   ],
   "source": [
    "df.sort_values(by = 'Ohio',ascending = False) # by can be a string or list of strings\n"
   ]
  },
  {
   "cell_type": "markdown",
   "metadata": {},
   "source": [
    "## Accessing a DataFrame"
   ]
  },
  {
   "cell_type": "markdown",
   "metadata": {},
   "source": [
    "Let's create a brand new DataFrame:"
   ]
  },
  {
   "cell_type": "code",
   "execution_count": 32,
   "metadata": {
    "ExecuteTime": {
     "end_time": "2020-06-24T14:10:32.187393Z",
     "start_time": "2020-06-24T14:10:32.162017Z"
    }
   },
   "outputs": [
    {
     "data": {
      "text/html": [
       "<div>\n",
       "<style scoped>\n",
       "    .dataframe tbody tr th:only-of-type {\n",
       "        vertical-align: middle;\n",
       "    }\n",
       "\n",
       "    .dataframe tbody tr th {\n",
       "        vertical-align: top;\n",
       "    }\n",
       "\n",
       "    .dataframe thead th {\n",
       "        text-align: right;\n",
       "    }\n",
       "</style>\n",
       "<table border=\"1\" class=\"dataframe\">\n",
       "  <thead>\n",
       "    <tr style=\"text-align: right;\">\n",
       "      <th></th>\n",
       "      <th>birth</th>\n",
       "      <th>death</th>\n",
       "      <th>city</th>\n",
       "    </tr>\n",
       "  </thead>\n",
       "  <tbody>\n",
       "    <tr>\n",
       "      <th>Mahler</th>\n",
       "      <td>1860</td>\n",
       "      <td>1911</td>\n",
       "      <td>Kaliste</td>\n",
       "    </tr>\n",
       "    <tr>\n",
       "      <th>Beethoven</th>\n",
       "      <td>1770</td>\n",
       "      <td>1827</td>\n",
       "      <td>Bonn</td>\n",
       "    </tr>\n",
       "    <tr>\n",
       "      <th>Puccini</th>\n",
       "      <td>1858</td>\n",
       "      <td>1924</td>\n",
       "      <td>Lucques</td>\n",
       "    </tr>\n",
       "    <tr>\n",
       "      <th>Shostakovich</th>\n",
       "      <td>1906</td>\n",
       "      <td>1975</td>\n",
       "      <td>Saint-Petersburg</td>\n",
       "    </tr>\n",
       "  </tbody>\n",
       "</table>\n",
       "</div>"
      ],
      "text/plain": [
       "              birth  death              city\n",
       "Mahler         1860   1911           Kaliste\n",
       "Beethoven      1770   1827              Bonn\n",
       "Puccini        1858   1924           Lucques\n",
       "Shostakovich   1906   1975  Saint-Petersburg"
      ]
     },
     "execution_count": 32,
     "metadata": {},
     "output_type": "execute_result"
    }
   ],
   "source": [
    "dict_of_list = {'birth': [1860, 1770, 1858, 1906], \n",
    "                'death':[1911, 1827, 1924, 1975], \n",
    "                'city':['Kaliste', 'Bonn', 'Lucques', 'Saint-Petersburg']}\n",
    "composers_df = pd.DataFrame(dict_of_list, index=['Mahler', 'Beethoven', 'Puccini', 'Shostakovich'])\n",
    "composers_df"
   ]
  },
  {
   "cell_type": "markdown",
   "metadata": {},
   "source": [
    "There are multiple ways of accessing values or series of values in a Dataframe. Unlike in Series, a simple bracket gives access to a column and not an index, for example:"
   ]
  },
  {
   "cell_type": "code",
   "execution_count": 33,
   "metadata": {
    "ExecuteTime": {
     "end_time": "2020-06-24T14:11:08.259631Z",
     "start_time": "2020-06-24T14:11:08.241496Z"
    }
   },
   "outputs": [
    {
     "data": {
      "text/plain": [
       "Mahler                   Kaliste\n",
       "Beethoven                   Bonn\n",
       "Puccini                  Lucques\n",
       "Shostakovich    Saint-Petersburg\n",
       "Name: city, dtype: object"
      ]
     },
     "execution_count": 33,
     "metadata": {},
     "output_type": "execute_result"
    }
   ],
   "source": [
    "composers_df['city']"
   ]
  },
  {
   "cell_type": "markdown",
   "metadata": {},
   "source": [
    "returns a Series. Alternatively one can also use the attributes syntax and access columns by using:"
   ]
  },
  {
   "cell_type": "code",
   "execution_count": 34,
   "metadata": {
    "ExecuteTime": {
     "end_time": "2020-06-24T14:11:37.321286Z",
     "start_time": "2020-06-24T14:11:37.309806Z"
    }
   },
   "outputs": [
    {
     "data": {
      "text/plain": [
       "Mahler                   Kaliste\n",
       "Beethoven                   Bonn\n",
       "Puccini                  Lucques\n",
       "Shostakovich    Saint-Petersburg\n",
       "Name: city, dtype: object"
      ]
     },
     "execution_count": 34,
     "metadata": {},
     "output_type": "execute_result"
    }
   ],
   "source": [
    "composers_df.city"
   ]
  },
  {
   "cell_type": "markdown",
   "metadata": {},
   "source": [
    "The attributes syntax has some limitations, so in case something does not work as expected, revert to the brackets notation.\n",
    "\n",
    "When specifiying multiple columns, a DataFrame is returned:"
   ]
  },
  {
   "cell_type": "code",
   "execution_count": 35,
   "metadata": {
    "ExecuteTime": {
     "end_time": "2020-06-24T14:12:06.558313Z",
     "start_time": "2020-06-24T14:12:06.540600Z"
    }
   },
   "outputs": [
    {
     "data": {
      "text/html": [
       "<div>\n",
       "<style scoped>\n",
       "    .dataframe tbody tr th:only-of-type {\n",
       "        vertical-align: middle;\n",
       "    }\n",
       "\n",
       "    .dataframe tbody tr th {\n",
       "        vertical-align: top;\n",
       "    }\n",
       "\n",
       "    .dataframe thead th {\n",
       "        text-align: right;\n",
       "    }\n",
       "</style>\n",
       "<table border=\"1\" class=\"dataframe\">\n",
       "  <thead>\n",
       "    <tr style=\"text-align: right;\">\n",
       "      <th></th>\n",
       "      <th>city</th>\n",
       "      <th>birth</th>\n",
       "    </tr>\n",
       "  </thead>\n",
       "  <tbody>\n",
       "    <tr>\n",
       "      <th>Mahler</th>\n",
       "      <td>Kaliste</td>\n",
       "      <td>1860</td>\n",
       "    </tr>\n",
       "    <tr>\n",
       "      <th>Beethoven</th>\n",
       "      <td>Bonn</td>\n",
       "      <td>1770</td>\n",
       "    </tr>\n",
       "    <tr>\n",
       "      <th>Puccini</th>\n",
       "      <td>Lucques</td>\n",
       "      <td>1858</td>\n",
       "    </tr>\n",
       "    <tr>\n",
       "      <th>Shostakovich</th>\n",
       "      <td>Saint-Petersburg</td>\n",
       "      <td>1906</td>\n",
       "    </tr>\n",
       "  </tbody>\n",
       "</table>\n",
       "</div>"
      ],
      "text/plain": [
       "                          city  birth\n",
       "Mahler                 Kaliste   1860\n",
       "Beethoven                 Bonn   1770\n",
       "Puccini                Lucques   1858\n",
       "Shostakovich  Saint-Petersburg   1906"
      ]
     },
     "execution_count": 35,
     "metadata": {},
     "output_type": "execute_result"
    }
   ],
   "source": [
    "composers_df[['city', 'birth']]"
   ]
  },
  {
   "cell_type": "markdown",
   "metadata": {},
   "source": [
    "Standard indexing operators (just slices the rows)"
   ]
  },
  {
   "cell_type": "code",
   "execution_count": 36,
   "metadata": {},
   "outputs": [
    {
     "data": {
      "text/html": [
       "<div>\n",
       "<style scoped>\n",
       "    .dataframe tbody tr th:only-of-type {\n",
       "        vertical-align: middle;\n",
       "    }\n",
       "\n",
       "    .dataframe tbody tr th {\n",
       "        vertical-align: top;\n",
       "    }\n",
       "\n",
       "    .dataframe thead th {\n",
       "        text-align: right;\n",
       "    }\n",
       "</style>\n",
       "<table border=\"1\" class=\"dataframe\">\n",
       "  <thead>\n",
       "    <tr style=\"text-align: right;\">\n",
       "      <th></th>\n",
       "      <th>birth</th>\n",
       "      <th>death</th>\n",
       "      <th>city</th>\n",
       "    </tr>\n",
       "  </thead>\n",
       "  <tbody>\n",
       "    <tr>\n",
       "      <th>Mahler</th>\n",
       "      <td>1860</td>\n",
       "      <td>1911</td>\n",
       "      <td>Kaliste</td>\n",
       "    </tr>\n",
       "    <tr>\n",
       "      <th>Beethoven</th>\n",
       "      <td>1770</td>\n",
       "      <td>1827</td>\n",
       "      <td>Bonn</td>\n",
       "    </tr>\n",
       "  </tbody>\n",
       "</table>\n",
       "</div>"
      ],
      "text/plain": [
       "           birth  death     city\n",
       "Mahler      1860   1911  Kaliste\n",
       "Beethoven   1770   1827     Bonn"
      ]
     },
     "execution_count": 36,
     "metadata": {},
     "output_type": "execute_result"
    }
   ],
   "source": [
    "composers_df[0:2]"
   ]
  },
  {
   "cell_type": "markdown",
   "metadata": {},
   "source": [
    "from the [docs](https://pandas.pydata.org/pandas-docs/stable/user_guide/indexing.html):\n",
    ">The Python and NumPy indexing operators [$\\cdot$] and attribute operator  `.` provide quick and easy access to pandas data structures across a wide range of use cases. This makes interactive work intuitive, as there’s little new to learn if you already know how to deal with Python dictionaries and NumPy arrays. However, since the type of the data to be accessed isn’t known in advance, directly using standard operators has some optimization limits. For production code, we recommended that you take advantage of the **optimized pandas data access methods**.\n",
    "\n"
   ]
  },
  {
   "cell_type": "markdown",
   "metadata": {},
   "source": [
    "Pandas optimized data access methods:  `iloc` and `loc`.\n",
    "\n",
    "**Remember that `loc` and `iloc` are attributes, not methods, hence they use brackets `[]` and not parenthesis `()`.**\n",
    "\n",
    "The `loc` attribute allows to recover elements by using the index labels, while the `iloc` attribute can be used to recover the regular indexing:"
   ]
  },
  {
   "cell_type": "code",
   "execution_count": 37,
   "metadata": {
    "ExecuteTime": {
     "end_time": "2020-06-24T14:16:36.990555Z",
     "start_time": "2020-06-24T14:16:36.979449Z"
    }
   },
   "outputs": [
    {
     "data": {
      "text/html": [
       "<div>\n",
       "<style scoped>\n",
       "    .dataframe tbody tr th:only-of-type {\n",
       "        vertical-align: middle;\n",
       "    }\n",
       "\n",
       "    .dataframe tbody tr th {\n",
       "        vertical-align: top;\n",
       "    }\n",
       "\n",
       "    .dataframe thead th {\n",
       "        text-align: right;\n",
       "    }\n",
       "</style>\n",
       "<table border=\"1\" class=\"dataframe\">\n",
       "  <thead>\n",
       "    <tr style=\"text-align: right;\">\n",
       "      <th></th>\n",
       "      <th>birth</th>\n",
       "      <th>death</th>\n",
       "      <th>city</th>\n",
       "    </tr>\n",
       "  </thead>\n",
       "  <tbody>\n",
       "    <tr>\n",
       "      <th>Mahler</th>\n",
       "      <td>1860</td>\n",
       "      <td>1911</td>\n",
       "      <td>Kaliste</td>\n",
       "    </tr>\n",
       "    <tr>\n",
       "      <th>Beethoven</th>\n",
       "      <td>1770</td>\n",
       "      <td>1827</td>\n",
       "      <td>Bonn</td>\n",
       "    </tr>\n",
       "  </tbody>\n",
       "</table>\n",
       "</div>"
      ],
      "text/plain": [
       "           birth  death     city\n",
       "Mahler      1860   1911  Kaliste\n",
       "Beethoven   1770   1827     Bonn"
      ]
     },
     "metadata": {},
     "output_type": "display_data"
    },
    {
     "name": "stdout",
     "output_type": "stream",
     "text": [
      "\n"
     ]
    },
    {
     "data": {
      "text/plain": [
       "Mahler       1911\n",
       "Beethoven    1827\n",
       "Name: death, dtype: int64"
      ]
     },
     "metadata": {},
     "output_type": "display_data"
    },
    {
     "name": "stdout",
     "output_type": "stream",
     "text": [
      "\n",
      "1827\n"
     ]
    }
   ],
   "source": [
    "display(composers_df.iloc[0:2,:])\n",
    "print()\n",
    "display(composers_df.loc[['Mahler','Beethoven'], 'death'])\n",
    "print()\n",
    "print(composers_df.loc['Beethoven', 'death'])"
   ]
  },
  {
   "cell_type": "markdown",
   "metadata": {},
   "source": [
    "## Boolean Indexing\n",
    "\n",
    "Just like with Numpy, it is possible to subselect parts of a Dataframe using boolean indexing.\n",
    "A logical Series can be used as an index to select elements in the Dataframe."
   ]
  },
  {
   "cell_type": "code",
   "execution_count": 38,
   "metadata": {},
   "outputs": [
    {
     "data": {
      "text/html": [
       "<div>\n",
       "<style scoped>\n",
       "    .dataframe tbody tr th:only-of-type {\n",
       "        vertical-align: middle;\n",
       "    }\n",
       "\n",
       "    .dataframe tbody tr th {\n",
       "        vertical-align: top;\n",
       "    }\n",
       "\n",
       "    .dataframe thead th {\n",
       "        text-align: right;\n",
       "    }\n",
       "</style>\n",
       "<table border=\"1\" class=\"dataframe\">\n",
       "  <thead>\n",
       "    <tr style=\"text-align: right;\">\n",
       "      <th></th>\n",
       "      <th>birth</th>\n",
       "      <th>death</th>\n",
       "      <th>city</th>\n",
       "    </tr>\n",
       "  </thead>\n",
       "  <tbody>\n",
       "    <tr>\n",
       "      <th>Mahler</th>\n",
       "      <td>1860</td>\n",
       "      <td>1911</td>\n",
       "      <td>Kaliste</td>\n",
       "    </tr>\n",
       "    <tr>\n",
       "      <th>Beethoven</th>\n",
       "      <td>1770</td>\n",
       "      <td>1827</td>\n",
       "      <td>Bonn</td>\n",
       "    </tr>\n",
       "    <tr>\n",
       "      <th>Puccini</th>\n",
       "      <td>1858</td>\n",
       "      <td>1924</td>\n",
       "      <td>Lucques</td>\n",
       "    </tr>\n",
       "    <tr>\n",
       "      <th>Shostakovich</th>\n",
       "      <td>1906</td>\n",
       "      <td>1975</td>\n",
       "      <td>Saint-Petersburg</td>\n",
       "    </tr>\n",
       "  </tbody>\n",
       "</table>\n",
       "</div>"
      ],
      "text/plain": [
       "              birth  death              city\n",
       "Mahler         1860   1911           Kaliste\n",
       "Beethoven      1770   1827              Bonn\n",
       "Puccini        1858   1924           Lucques\n",
       "Shostakovich   1906   1975  Saint-Petersburg"
      ]
     },
     "execution_count": 38,
     "metadata": {},
     "output_type": "execute_result"
    }
   ],
   "source": [
    "composers_df"
   ]
  },
  {
   "cell_type": "code",
   "execution_count": 39,
   "metadata": {
    "scrolled": true
   },
   "outputs": [
    {
     "name": "stdout",
     "output_type": "stream",
     "text": [
      "Mahler           True\n",
      "Beethoven       False\n",
      "Puccini          True\n",
      "Shostakovich     True\n",
      "Name: death, dtype: bool\n"
     ]
    },
    {
     "data": {
      "text/html": [
       "<div>\n",
       "<style scoped>\n",
       "    .dataframe tbody tr th:only-of-type {\n",
       "        vertical-align: middle;\n",
       "    }\n",
       "\n",
       "    .dataframe tbody tr th {\n",
       "        vertical-align: top;\n",
       "    }\n",
       "\n",
       "    .dataframe thead th {\n",
       "        text-align: right;\n",
       "    }\n",
       "</style>\n",
       "<table border=\"1\" class=\"dataframe\">\n",
       "  <thead>\n",
       "    <tr style=\"text-align: right;\">\n",
       "      <th></th>\n",
       "      <th>birth</th>\n",
       "      <th>death</th>\n",
       "      <th>city</th>\n",
       "    </tr>\n",
       "  </thead>\n",
       "  <tbody>\n",
       "    <tr>\n",
       "      <th>Mahler</th>\n",
       "      <td>1860</td>\n",
       "      <td>1911</td>\n",
       "      <td>Kaliste</td>\n",
       "    </tr>\n",
       "    <tr>\n",
       "      <th>Puccini</th>\n",
       "      <td>1858</td>\n",
       "      <td>1924</td>\n",
       "      <td>Lucques</td>\n",
       "    </tr>\n",
       "    <tr>\n",
       "      <th>Shostakovich</th>\n",
       "      <td>1906</td>\n",
       "      <td>1975</td>\n",
       "      <td>Saint-Petersburg</td>\n",
       "    </tr>\n",
       "  </tbody>\n",
       "</table>\n",
       "</div>"
      ],
      "text/plain": [
       "              birth  death              city\n",
       "Mahler         1860   1911           Kaliste\n",
       "Puccini        1858   1924           Lucques\n",
       "Shostakovich   1906   1975  Saint-Petersburg"
      ]
     },
     "execution_count": 39,
     "metadata": {},
     "output_type": "execute_result"
    }
   ],
   "source": [
    "mask = composers_df['death'] > 1859\n",
    "print(mask)\n",
    "composers_df[mask]"
   ]
  },
  {
   "cell_type": "markdown",
   "metadata": {},
   "source": [
    "More compact:"
   ]
  },
  {
   "cell_type": "code",
   "execution_count": 40,
   "metadata": {},
   "outputs": [
    {
     "data": {
      "text/html": [
       "<div>\n",
       "<style scoped>\n",
       "    .dataframe tbody tr th:only-of-type {\n",
       "        vertical-align: middle;\n",
       "    }\n",
       "\n",
       "    .dataframe tbody tr th {\n",
       "        vertical-align: top;\n",
       "    }\n",
       "\n",
       "    .dataframe thead th {\n",
       "        text-align: right;\n",
       "    }\n",
       "</style>\n",
       "<table border=\"1\" class=\"dataframe\">\n",
       "  <thead>\n",
       "    <tr style=\"text-align: right;\">\n",
       "      <th></th>\n",
       "      <th>birth</th>\n",
       "      <th>death</th>\n",
       "      <th>city</th>\n",
       "    </tr>\n",
       "  </thead>\n",
       "  <tbody>\n",
       "    <tr>\n",
       "      <th>Shostakovich</th>\n",
       "      <td>1906</td>\n",
       "      <td>1975</td>\n",
       "      <td>Saint-Petersburg</td>\n",
       "    </tr>\n",
       "  </tbody>\n",
       "</table>\n",
       "</div>"
      ],
      "text/plain": [
       "              birth  death              city\n",
       "Shostakovich   1906   1975  Saint-Petersburg"
      ]
     },
     "execution_count": 40,
     "metadata": {},
     "output_type": "execute_result"
    }
   ],
   "source": [
    "composers_df[composers_df['birth'] > 1900]"
   ]
  },
  {
   "cell_type": "markdown",
   "metadata": {},
   "source": [
    "## Adding columns and rows"
   ]
  },
  {
   "cell_type": "markdown",
   "metadata": {},
   "source": [
    "It is very simple to add a column to a Dataframe:"
   ]
  },
  {
   "cell_type": "code",
   "execution_count": 41,
   "metadata": {
    "ExecuteTime": {
     "end_time": "2020-06-24T14:25:29.267510Z",
     "start_time": "2020-06-24T14:25:29.253143Z"
    },
    "scrolled": true
   },
   "outputs": [
    {
     "data": {
      "text/html": [
       "<div>\n",
       "<style scoped>\n",
       "    .dataframe tbody tr th:only-of-type {\n",
       "        vertical-align: middle;\n",
       "    }\n",
       "\n",
       "    .dataframe tbody tr th {\n",
       "        vertical-align: top;\n",
       "    }\n",
       "\n",
       "    .dataframe thead th {\n",
       "        text-align: right;\n",
       "    }\n",
       "</style>\n",
       "<table border=\"1\" class=\"dataframe\">\n",
       "  <thead>\n",
       "    <tr style=\"text-align: right;\">\n",
       "      <th></th>\n",
       "      <th>birth</th>\n",
       "      <th>death</th>\n",
       "      <th>city</th>\n",
       "      <th>country</th>\n",
       "    </tr>\n",
       "  </thead>\n",
       "  <tbody>\n",
       "    <tr>\n",
       "      <th>Mahler</th>\n",
       "      <td>1860</td>\n",
       "      <td>1911</td>\n",
       "      <td>Kaliste</td>\n",
       "      <td>???</td>\n",
       "    </tr>\n",
       "    <tr>\n",
       "      <th>Beethoven</th>\n",
       "      <td>1770</td>\n",
       "      <td>1827</td>\n",
       "      <td>Bonn</td>\n",
       "      <td>???</td>\n",
       "    </tr>\n",
       "    <tr>\n",
       "      <th>Puccini</th>\n",
       "      <td>1858</td>\n",
       "      <td>1924</td>\n",
       "      <td>Lucques</td>\n",
       "      <td>???</td>\n",
       "    </tr>\n",
       "    <tr>\n",
       "      <th>Shostakovich</th>\n",
       "      <td>1906</td>\n",
       "      <td>1975</td>\n",
       "      <td>Saint-Petersburg</td>\n",
       "      <td>???</td>\n",
       "    </tr>\n",
       "  </tbody>\n",
       "</table>\n",
       "</div>"
      ],
      "text/plain": [
       "              birth  death              city country\n",
       "Mahler         1860   1911           Kaliste     ???\n",
       "Beethoven      1770   1827              Bonn     ???\n",
       "Puccini        1858   1924           Lucques     ???\n",
       "Shostakovich   1906   1975  Saint-Petersburg     ???"
      ]
     },
     "execution_count": 41,
     "metadata": {},
     "output_type": "execute_result"
    }
   ],
   "source": [
    "composers_df['country'] = '???'\n",
    "composers_df"
   ]
  },
  {
   "cell_type": "markdown",
   "metadata": {},
   "source": [
    "Alternatively, an existing list can be used:"
   ]
  },
  {
   "cell_type": "code",
   "execution_count": 42,
   "metadata": {
    "ExecuteTime": {
     "end_time": "2020-06-24T14:25:30.513553Z",
     "start_time": "2020-06-24T14:25:30.500562Z"
    }
   },
   "outputs": [
    {
     "data": {
      "text/html": [
       "<div>\n",
       "<style scoped>\n",
       "    .dataframe tbody tr th:only-of-type {\n",
       "        vertical-align: middle;\n",
       "    }\n",
       "\n",
       "    .dataframe tbody tr th {\n",
       "        vertical-align: top;\n",
       "    }\n",
       "\n",
       "    .dataframe thead th {\n",
       "        text-align: right;\n",
       "    }\n",
       "</style>\n",
       "<table border=\"1\" class=\"dataframe\">\n",
       "  <thead>\n",
       "    <tr style=\"text-align: right;\">\n",
       "      <th></th>\n",
       "      <th>birth</th>\n",
       "      <th>death</th>\n",
       "      <th>city</th>\n",
       "      <th>country</th>\n",
       "      <th>country2</th>\n",
       "    </tr>\n",
       "  </thead>\n",
       "  <tbody>\n",
       "    <tr>\n",
       "      <th>Mahler</th>\n",
       "      <td>1860</td>\n",
       "      <td>1911</td>\n",
       "      <td>Kaliste</td>\n",
       "      <td>???</td>\n",
       "      <td>Austria</td>\n",
       "    </tr>\n",
       "    <tr>\n",
       "      <th>Beethoven</th>\n",
       "      <td>1770</td>\n",
       "      <td>1827</td>\n",
       "      <td>Bonn</td>\n",
       "      <td>???</td>\n",
       "      <td>Germany</td>\n",
       "    </tr>\n",
       "    <tr>\n",
       "      <th>Puccini</th>\n",
       "      <td>1858</td>\n",
       "      <td>1924</td>\n",
       "      <td>Lucques</td>\n",
       "      <td>???</td>\n",
       "      <td>Italy</td>\n",
       "    </tr>\n",
       "    <tr>\n",
       "      <th>Shostakovich</th>\n",
       "      <td>1906</td>\n",
       "      <td>1975</td>\n",
       "      <td>Saint-Petersburg</td>\n",
       "      <td>???</td>\n",
       "      <td>Russia</td>\n",
       "    </tr>\n",
       "  </tbody>\n",
       "</table>\n",
       "</div>"
      ],
      "text/plain": [
       "              birth  death              city country country2\n",
       "Mahler         1860   1911           Kaliste     ???  Austria\n",
       "Beethoven      1770   1827              Bonn     ???  Germany\n",
       "Puccini        1858   1924           Lucques     ???    Italy\n",
       "Shostakovich   1906   1975  Saint-Petersburg     ???   Russia"
      ]
     },
     "execution_count": 42,
     "metadata": {},
     "output_type": "execute_result"
    }
   ],
   "source": [
    "composers_df['country2'] = ['Austria','Germany','Italy','Russia']\n",
    "composers_df"
   ]
  },
  {
   "cell_type": "markdown",
   "metadata": {},
   "source": [
    "A DataFrame or a Series can be \"appended\" to another DataFrame through `pd.concat`"
   ]
  },
  {
   "cell_type": "code",
   "execution_count": 43,
   "metadata": {},
   "outputs": [],
   "source": [
    "new_row = pd.DataFrame({'Sibelius':{'birth':None,'death':1900, 'city': None, 'country':None}}).T"
   ]
  },
  {
   "cell_type": "code",
   "execution_count": 44,
   "metadata": {},
   "outputs": [
    {
     "data": {
      "text/html": [
       "<div>\n",
       "<style scoped>\n",
       "    .dataframe tbody tr th:only-of-type {\n",
       "        vertical-align: middle;\n",
       "    }\n",
       "\n",
       "    .dataframe tbody tr th {\n",
       "        vertical-align: top;\n",
       "    }\n",
       "\n",
       "    .dataframe thead th {\n",
       "        text-align: right;\n",
       "    }\n",
       "</style>\n",
       "<table border=\"1\" class=\"dataframe\">\n",
       "  <thead>\n",
       "    <tr style=\"text-align: right;\">\n",
       "      <th></th>\n",
       "      <th>birth</th>\n",
       "      <th>death</th>\n",
       "      <th>city</th>\n",
       "      <th>country</th>\n",
       "      <th>country2</th>\n",
       "    </tr>\n",
       "  </thead>\n",
       "  <tbody>\n",
       "    <tr>\n",
       "      <th>Mahler</th>\n",
       "      <td>1860.0</td>\n",
       "      <td>1911.0</td>\n",
       "      <td>Kaliste</td>\n",
       "      <td>???</td>\n",
       "      <td>Austria</td>\n",
       "    </tr>\n",
       "    <tr>\n",
       "      <th>Beethoven</th>\n",
       "      <td>1770.0</td>\n",
       "      <td>1827.0</td>\n",
       "      <td>Bonn</td>\n",
       "      <td>???</td>\n",
       "      <td>Germany</td>\n",
       "    </tr>\n",
       "    <tr>\n",
       "      <th>Puccini</th>\n",
       "      <td>1858.0</td>\n",
       "      <td>1924.0</td>\n",
       "      <td>Lucques</td>\n",
       "      <td>???</td>\n",
       "      <td>Italy</td>\n",
       "    </tr>\n",
       "    <tr>\n",
       "      <th>Shostakovich</th>\n",
       "      <td>1906.0</td>\n",
       "      <td>1975.0</td>\n",
       "      <td>Saint-Petersburg</td>\n",
       "      <td>???</td>\n",
       "      <td>Russia</td>\n",
       "    </tr>\n",
       "    <tr>\n",
       "      <th>Sibelius</th>\n",
       "      <td>NaN</td>\n",
       "      <td>1900.0</td>\n",
       "      <td>NaN</td>\n",
       "      <td>NaN</td>\n",
       "      <td>NaN</td>\n",
       "    </tr>\n",
       "  </tbody>\n",
       "</table>\n",
       "</div>"
      ],
      "text/plain": [
       "               birth   death              city country country2\n",
       "Mahler        1860.0  1911.0           Kaliste     ???  Austria\n",
       "Beethoven     1770.0  1827.0              Bonn     ???  Germany\n",
       "Puccini       1858.0  1924.0           Lucques     ???    Italy\n",
       "Shostakovich  1906.0  1975.0  Saint-Petersburg     ???   Russia\n",
       "Sibelius         NaN  1900.0               NaN     NaN      NaN"
      ]
     },
     "execution_count": 44,
     "metadata": {},
     "output_type": "execute_result"
    }
   ],
   "source": [
    "pd.concat((composers_df,new_row))"
   ]
  },
  {
   "cell_type": "markdown",
   "metadata": {},
   "source": [
    "## Deleting columns and rows"
   ]
  },
  {
   "cell_type": "code",
   "execution_count": 45,
   "metadata": {},
   "outputs": [
    {
     "data": {
      "text/html": [
       "<div>\n",
       "<style scoped>\n",
       "    .dataframe tbody tr th:only-of-type {\n",
       "        vertical-align: middle;\n",
       "    }\n",
       "\n",
       "    .dataframe tbody tr th {\n",
       "        vertical-align: top;\n",
       "    }\n",
       "\n",
       "    .dataframe thead th {\n",
       "        text-align: right;\n",
       "    }\n",
       "</style>\n",
       "<table border=\"1\" class=\"dataframe\">\n",
       "  <thead>\n",
       "    <tr style=\"text-align: right;\">\n",
       "      <th></th>\n",
       "      <th>birth</th>\n",
       "      <th>death</th>\n",
       "      <th>city</th>\n",
       "      <th>country</th>\n",
       "      <th>country2</th>\n",
       "    </tr>\n",
       "  </thead>\n",
       "  <tbody>\n",
       "    <tr>\n",
       "      <th>Mahler</th>\n",
       "      <td>1860</td>\n",
       "      <td>1911</td>\n",
       "      <td>Kaliste</td>\n",
       "      <td>???</td>\n",
       "      <td>Austria</td>\n",
       "    </tr>\n",
       "    <tr>\n",
       "      <th>Beethoven</th>\n",
       "      <td>1770</td>\n",
       "      <td>1827</td>\n",
       "      <td>Bonn</td>\n",
       "      <td>???</td>\n",
       "      <td>Germany</td>\n",
       "    </tr>\n",
       "    <tr>\n",
       "      <th>Puccini</th>\n",
       "      <td>1858</td>\n",
       "      <td>1924</td>\n",
       "      <td>Lucques</td>\n",
       "      <td>???</td>\n",
       "      <td>Italy</td>\n",
       "    </tr>\n",
       "    <tr>\n",
       "      <th>Shostakovich</th>\n",
       "      <td>1906</td>\n",
       "      <td>1975</td>\n",
       "      <td>Saint-Petersburg</td>\n",
       "      <td>???</td>\n",
       "      <td>Russia</td>\n",
       "    </tr>\n",
       "  </tbody>\n",
       "</table>\n",
       "</div>"
      ],
      "text/plain": [
       "              birth  death              city country country2\n",
       "Mahler         1860   1911           Kaliste     ???  Austria\n",
       "Beethoven      1770   1827              Bonn     ???  Germany\n",
       "Puccini        1858   1924           Lucques     ???    Italy\n",
       "Shostakovich   1906   1975  Saint-Petersburg     ???   Russia"
      ]
     },
     "execution_count": 45,
     "metadata": {},
     "output_type": "execute_result"
    }
   ],
   "source": [
    "composers_df"
   ]
  },
  {
   "cell_type": "code",
   "execution_count": 46,
   "metadata": {},
   "outputs": [
    {
     "data": {
      "text/html": [
       "<div>\n",
       "<style scoped>\n",
       "    .dataframe tbody tr th:only-of-type {\n",
       "        vertical-align: middle;\n",
       "    }\n",
       "\n",
       "    .dataframe tbody tr th {\n",
       "        vertical-align: top;\n",
       "    }\n",
       "\n",
       "    .dataframe thead th {\n",
       "        text-align: right;\n",
       "    }\n",
       "</style>\n",
       "<table border=\"1\" class=\"dataframe\">\n",
       "  <thead>\n",
       "    <tr style=\"text-align: right;\">\n",
       "      <th></th>\n",
       "      <th>birth</th>\n",
       "      <th>death</th>\n",
       "      <th>city</th>\n",
       "      <th>country</th>\n",
       "    </tr>\n",
       "  </thead>\n",
       "  <tbody>\n",
       "    <tr>\n",
       "      <th>Mahler</th>\n",
       "      <td>1860</td>\n",
       "      <td>1911</td>\n",
       "      <td>Kaliste</td>\n",
       "      <td>???</td>\n",
       "    </tr>\n",
       "    <tr>\n",
       "      <th>Beethoven</th>\n",
       "      <td>1770</td>\n",
       "      <td>1827</td>\n",
       "      <td>Bonn</td>\n",
       "      <td>???</td>\n",
       "    </tr>\n",
       "    <tr>\n",
       "      <th>Puccini</th>\n",
       "      <td>1858</td>\n",
       "      <td>1924</td>\n",
       "      <td>Lucques</td>\n",
       "      <td>???</td>\n",
       "    </tr>\n",
       "    <tr>\n",
       "      <th>Shostakovich</th>\n",
       "      <td>1906</td>\n",
       "      <td>1975</td>\n",
       "      <td>Saint-Petersburg</td>\n",
       "      <td>???</td>\n",
       "    </tr>\n",
       "  </tbody>\n",
       "</table>\n",
       "</div>"
      ],
      "text/plain": [
       "              birth  death              city country\n",
       "Mahler         1860   1911           Kaliste     ???\n",
       "Beethoven      1770   1827              Bonn     ???\n",
       "Puccini        1858   1924           Lucques     ???\n",
       "Shostakovich   1906   1975  Saint-Petersburg     ???"
      ]
     },
     "execution_count": 46,
     "metadata": {},
     "output_type": "execute_result"
    }
   ],
   "source": [
    "composers_df.drop(columns = ['country2'])"
   ]
  },
  {
   "cell_type": "code",
   "execution_count": 47,
   "metadata": {},
   "outputs": [
    {
     "data": {
      "text/html": [
       "<div>\n",
       "<style scoped>\n",
       "    .dataframe tbody tr th:only-of-type {\n",
       "        vertical-align: middle;\n",
       "    }\n",
       "\n",
       "    .dataframe tbody tr th {\n",
       "        vertical-align: top;\n",
       "    }\n",
       "\n",
       "    .dataframe thead th {\n",
       "        text-align: right;\n",
       "    }\n",
       "</style>\n",
       "<table border=\"1\" class=\"dataframe\">\n",
       "  <thead>\n",
       "    <tr style=\"text-align: right;\">\n",
       "      <th></th>\n",
       "      <th>birth</th>\n",
       "      <th>death</th>\n",
       "      <th>city</th>\n",
       "      <th>country</th>\n",
       "      <th>country2</th>\n",
       "    </tr>\n",
       "  </thead>\n",
       "  <tbody>\n",
       "    <tr>\n",
       "      <th>Mahler</th>\n",
       "      <td>1860</td>\n",
       "      <td>1911</td>\n",
       "      <td>Kaliste</td>\n",
       "      <td>???</td>\n",
       "      <td>Austria</td>\n",
       "    </tr>\n",
       "    <tr>\n",
       "      <th>Beethoven</th>\n",
       "      <td>1770</td>\n",
       "      <td>1827</td>\n",
       "      <td>Bonn</td>\n",
       "      <td>???</td>\n",
       "      <td>Germany</td>\n",
       "    </tr>\n",
       "    <tr>\n",
       "      <th>Shostakovich</th>\n",
       "      <td>1906</td>\n",
       "      <td>1975</td>\n",
       "      <td>Saint-Petersburg</td>\n",
       "      <td>???</td>\n",
       "      <td>Russia</td>\n",
       "    </tr>\n",
       "  </tbody>\n",
       "</table>\n",
       "</div>"
      ],
      "text/plain": [
       "              birth  death              city country country2\n",
       "Mahler         1860   1911           Kaliste     ???  Austria\n",
       "Beethoven      1770   1827              Bonn     ???  Germany\n",
       "Shostakovich   1906   1975  Saint-Petersburg     ???   Russia"
      ]
     },
     "execution_count": 47,
     "metadata": {},
     "output_type": "execute_result"
    }
   ],
   "source": [
    "composers_df.drop('Puccini')"
   ]
  },
  {
   "cell_type": "code",
   "execution_count": 48,
   "metadata": {},
   "outputs": [
    {
     "data": {
      "text/html": [
       "<div>\n",
       "<style scoped>\n",
       "    .dataframe tbody tr th:only-of-type {\n",
       "        vertical-align: middle;\n",
       "    }\n",
       "\n",
       "    .dataframe tbody tr th {\n",
       "        vertical-align: top;\n",
       "    }\n",
       "\n",
       "    .dataframe thead th {\n",
       "        text-align: right;\n",
       "    }\n",
       "</style>\n",
       "<table border=\"1\" class=\"dataframe\">\n",
       "  <thead>\n",
       "    <tr style=\"text-align: right;\">\n",
       "      <th></th>\n",
       "      <th>birth</th>\n",
       "      <th>death</th>\n",
       "      <th>city</th>\n",
       "      <th>country</th>\n",
       "      <th>country2</th>\n",
       "    </tr>\n",
       "  </thead>\n",
       "  <tbody>\n",
       "    <tr>\n",
       "      <th>Mahler</th>\n",
       "      <td>1860</td>\n",
       "      <td>1911</td>\n",
       "      <td>Kaliste</td>\n",
       "      <td>???</td>\n",
       "      <td>Austria</td>\n",
       "    </tr>\n",
       "    <tr>\n",
       "      <th>Beethoven</th>\n",
       "      <td>1770</td>\n",
       "      <td>1827</td>\n",
       "      <td>Bonn</td>\n",
       "      <td>???</td>\n",
       "      <td>Germany</td>\n",
       "    </tr>\n",
       "    <tr>\n",
       "      <th>Puccini</th>\n",
       "      <td>1858</td>\n",
       "      <td>1924</td>\n",
       "      <td>Lucques</td>\n",
       "      <td>???</td>\n",
       "      <td>Italy</td>\n",
       "    </tr>\n",
       "    <tr>\n",
       "      <th>Shostakovich</th>\n",
       "      <td>1906</td>\n",
       "      <td>1975</td>\n",
       "      <td>Saint-Petersburg</td>\n",
       "      <td>???</td>\n",
       "      <td>Russia</td>\n",
       "    </tr>\n",
       "  </tbody>\n",
       "</table>\n",
       "</div>"
      ],
      "text/plain": [
       "              birth  death              city country country2\n",
       "Mahler         1860   1911           Kaliste     ???  Austria\n",
       "Beethoven      1770   1827              Bonn     ???  Germany\n",
       "Puccini        1858   1924           Lucques     ???    Italy\n",
       "Shostakovich   1906   1975  Saint-Petersburg     ???   Russia"
      ]
     },
     "execution_count": 48,
     "metadata": {},
     "output_type": "execute_result"
    }
   ],
   "source": [
    "composers_df #note that, by default, drop does not operate in-place"
   ]
  },
  {
   "cell_type": "code",
   "execution_count": 49,
   "metadata": {},
   "outputs": [],
   "source": [
    "composers_df.drop?"
   ]
  },
  {
   "cell_type": "markdown",
   "metadata": {},
   "source": [
    "## Reading and Writing DataFrames"
   ]
  },
  {
   "cell_type": "markdown",
   "metadata": {},
   "source": [
    "A common way of \"creating\" a Pandas Dataframe is by importing a table from another format like CSV (comma separated values) or Excel. "
   ]
  },
  {
   "cell_type": "markdown",
   "metadata": {},
   "source": [
    "### CSV format"
   ]
  },
  {
   "cell_type": "code",
   "execution_count": 50,
   "metadata": {},
   "outputs": [
    {
     "data": {
      "text/html": [
       "<div>\n",
       "<style scoped>\n",
       "    .dataframe tbody tr th:only-of-type {\n",
       "        vertical-align: middle;\n",
       "    }\n",
       "\n",
       "    .dataframe tbody tr th {\n",
       "        vertical-align: top;\n",
       "    }\n",
       "\n",
       "    .dataframe thead th {\n",
       "        text-align: right;\n",
       "    }\n",
       "</style>\n",
       "<table border=\"1\" class=\"dataframe\">\n",
       "  <thead>\n",
       "    <tr style=\"text-align: right;\">\n",
       "      <th></th>\n",
       "      <th>Nevada</th>\n",
       "      <th>Ohio</th>\n",
       "    </tr>\n",
       "  </thead>\n",
       "  <tbody>\n",
       "    <tr>\n",
       "      <th>2001</th>\n",
       "      <td>2.4</td>\n",
       "      <td>1.7</td>\n",
       "    </tr>\n",
       "    <tr>\n",
       "      <th>2002</th>\n",
       "      <td>2.9</td>\n",
       "      <td>3.6</td>\n",
       "    </tr>\n",
       "    <tr>\n",
       "      <th>2000</th>\n",
       "      <td>NaN</td>\n",
       "      <td>1.5</td>\n",
       "    </tr>\n",
       "  </tbody>\n",
       "</table>\n",
       "</div>"
      ],
      "text/plain": [
       "      Nevada  Ohio\n",
       "2001     2.4   1.7\n",
       "2002     2.9   3.6\n",
       "2000     NaN   1.5"
      ]
     },
     "execution_count": 50,
     "metadata": {},
     "output_type": "execute_result"
    }
   ],
   "source": [
    "df"
   ]
  },
  {
   "cell_type": "code",
   "execution_count": 51,
   "metadata": {},
   "outputs": [],
   "source": [
    "df.to_csv('out/foo.csv')"
   ]
  },
  {
   "cell_type": "code",
   "execution_count": 52,
   "metadata": {},
   "outputs": [
    {
     "data": {
      "text/html": [
       "<div>\n",
       "<style scoped>\n",
       "    .dataframe tbody tr th:only-of-type {\n",
       "        vertical-align: middle;\n",
       "    }\n",
       "\n",
       "    .dataframe tbody tr th {\n",
       "        vertical-align: top;\n",
       "    }\n",
       "\n",
       "    .dataframe thead th {\n",
       "        text-align: right;\n",
       "    }\n",
       "</style>\n",
       "<table border=\"1\" class=\"dataframe\">\n",
       "  <thead>\n",
       "    <tr style=\"text-align: right;\">\n",
       "      <th></th>\n",
       "      <th>Unnamed: 0</th>\n",
       "      <th>Nevada</th>\n",
       "      <th>Ohio</th>\n",
       "    </tr>\n",
       "  </thead>\n",
       "  <tbody>\n",
       "    <tr>\n",
       "      <th>0</th>\n",
       "      <td>2001</td>\n",
       "      <td>2.4</td>\n",
       "      <td>1.7</td>\n",
       "    </tr>\n",
       "    <tr>\n",
       "      <th>1</th>\n",
       "      <td>2002</td>\n",
       "      <td>2.9</td>\n",
       "      <td>3.6</td>\n",
       "    </tr>\n",
       "    <tr>\n",
       "      <th>2</th>\n",
       "      <td>2000</td>\n",
       "      <td>NaN</td>\n",
       "      <td>1.5</td>\n",
       "    </tr>\n",
       "  </tbody>\n",
       "</table>\n",
       "</div>"
      ],
      "text/plain": [
       "   Unnamed: 0  Nevada  Ohio\n",
       "0        2001     2.4   1.7\n",
       "1        2002     2.9   3.6\n",
       "2        2000     NaN   1.5"
      ]
     },
     "execution_count": 52,
     "metadata": {},
     "output_type": "execute_result"
    }
   ],
   "source": [
    "df_read = pd.read_csv('out/foo.csv')\n",
    "df_read"
   ]
  },
  {
   "cell_type": "code",
   "execution_count": 53,
   "metadata": {
    "scrolled": true
   },
   "outputs": [
    {
     "data": {
      "text/html": [
       "<div>\n",
       "<style scoped>\n",
       "    .dataframe tbody tr th:only-of-type {\n",
       "        vertical-align: middle;\n",
       "    }\n",
       "\n",
       "    .dataframe tbody tr th {\n",
       "        vertical-align: top;\n",
       "    }\n",
       "\n",
       "    .dataframe thead th {\n",
       "        text-align: right;\n",
       "    }\n",
       "</style>\n",
       "<table border=\"1\" class=\"dataframe\">\n",
       "  <thead>\n",
       "    <tr style=\"text-align: right;\">\n",
       "      <th></th>\n",
       "      <th>Nevada</th>\n",
       "      <th>Ohio</th>\n",
       "    </tr>\n",
       "  </thead>\n",
       "  <tbody>\n",
       "    <tr>\n",
       "      <th>2001</th>\n",
       "      <td>2.4</td>\n",
       "      <td>1.7</td>\n",
       "    </tr>\n",
       "    <tr>\n",
       "      <th>2002</th>\n",
       "      <td>2.9</td>\n",
       "      <td>3.6</td>\n",
       "    </tr>\n",
       "    <tr>\n",
       "      <th>2000</th>\n",
       "      <td>NaN</td>\n",
       "      <td>1.5</td>\n",
       "    </tr>\n",
       "  </tbody>\n",
       "</table>\n",
       "</div>"
      ],
      "text/plain": [
       "      Nevada  Ohio\n",
       "2001     2.4   1.7\n",
       "2002     2.9   3.6\n",
       "2000     NaN   1.5"
      ]
     },
     "execution_count": 53,
     "metadata": {},
     "output_type": "execute_result"
    }
   ],
   "source": [
    "df_read = pd.read_csv('out/foo.csv',index_col = 0)\n",
    "df_read"
   ]
  },
  {
   "cell_type": "markdown",
   "metadata": {},
   "source": [
    "### Importing Excel files"
   ]
  },
  {
   "cell_type": "markdown",
   "metadata": {},
   "source": [
    "You may need to install `xlrd` package through `pip install xlrd`"
   ]
  },
  {
   "cell_type": "markdown",
   "metadata": {},
   "source": [
    "An Excel table is provided in the [composers.xlsx](data/composers.xlsx) file and can be read with the `pd.read_excel` function."
   ]
  },
  {
   "cell_type": "code",
   "execution_count": 54,
   "metadata": {},
   "outputs": [
    {
     "name": "stdout",
     "output_type": "stream",
     "text": [
      "Requirement already satisfied: openpyxl in /Users/alessandrorenda/opt/anaconda3/envs/LogObject/lib/python3.10/site-packages (3.1.1)\r\n",
      "Requirement already satisfied: et-xmlfile in /Users/alessandrorenda/opt/anaconda3/envs/LogObject/lib/python3.10/site-packages (from openpyxl) (1.1.0)\r\n"
     ]
    }
   ],
   "source": [
    "!pip install openpyxl"
   ]
  },
  {
   "cell_type": "code",
   "execution_count": 55,
   "metadata": {
    "ExecuteTime": {
     "end_time": "2020-06-24T14:46:22.696917Z",
     "start_time": "2020-06-24T14:46:22.651062Z"
    }
   },
   "outputs": [
    {
     "data": {
      "text/html": [
       "<div>\n",
       "<style scoped>\n",
       "    .dataframe tbody tr th:only-of-type {\n",
       "        vertical-align: middle;\n",
       "    }\n",
       "\n",
       "    .dataframe tbody tr th {\n",
       "        vertical-align: top;\n",
       "    }\n",
       "\n",
       "    .dataframe thead th {\n",
       "        text-align: right;\n",
       "    }\n",
       "</style>\n",
       "<table border=\"1\" class=\"dataframe\">\n",
       "  <thead>\n",
       "    <tr style=\"text-align: right;\">\n",
       "      <th></th>\n",
       "      <th>composer</th>\n",
       "      <th>birth</th>\n",
       "      <th>death</th>\n",
       "      <th>city</th>\n",
       "    </tr>\n",
       "  </thead>\n",
       "  <tbody>\n",
       "    <tr>\n",
       "      <th>0</th>\n",
       "      <td>Mahler</td>\n",
       "      <td>1860</td>\n",
       "      <td>1911</td>\n",
       "      <td>Kaliste</td>\n",
       "    </tr>\n",
       "    <tr>\n",
       "      <th>1</th>\n",
       "      <td>Beethoven</td>\n",
       "      <td>1770</td>\n",
       "      <td>1827</td>\n",
       "      <td>Bonn</td>\n",
       "    </tr>\n",
       "    <tr>\n",
       "      <th>2</th>\n",
       "      <td>Puccini</td>\n",
       "      <td>1858</td>\n",
       "      <td>1924</td>\n",
       "      <td>Lucques</td>\n",
       "    </tr>\n",
       "    <tr>\n",
       "      <th>3</th>\n",
       "      <td>Shostakovich</td>\n",
       "      <td>1906</td>\n",
       "      <td>1975</td>\n",
       "      <td>Saint-Petersburg</td>\n",
       "    </tr>\n",
       "  </tbody>\n",
       "</table>\n",
       "</div>"
      ],
      "text/plain": [
       "       composer  birth  death              city\n",
       "0        Mahler   1860   1911           Kaliste\n",
       "1     Beethoven   1770   1827              Bonn\n",
       "2       Puccini   1858   1924           Lucques\n",
       "3  Shostakovich   1906   1975  Saint-Petersburg"
      ]
     },
     "execution_count": 55,
     "metadata": {},
     "output_type": "execute_result"
    }
   ],
   "source": [
    "composers_df = pd.read_excel('dataset/composers.xlsx')\n",
    "composers_df"
   ]
  },
  {
   "cell_type": "markdown",
   "metadata": {},
   "source": [
    "The reader automatically recognized the heaers of the file. However it created a new index. If needed we can specify which column to use as header:"
   ]
  },
  {
   "cell_type": "code",
   "execution_count": 56,
   "metadata": {},
   "outputs": [],
   "source": [
    "pd.read_excel?"
   ]
  },
  {
   "cell_type": "code",
   "execution_count": 57,
   "metadata": {
    "ExecuteTime": {
     "end_time": "2020-06-24T14:47:02.153798Z",
     "start_time": "2020-06-24T14:47:02.086758Z"
    }
   },
   "outputs": [
    {
     "data": {
      "text/html": [
       "<div>\n",
       "<style scoped>\n",
       "    .dataframe tbody tr th:only-of-type {\n",
       "        vertical-align: middle;\n",
       "    }\n",
       "\n",
       "    .dataframe tbody tr th {\n",
       "        vertical-align: top;\n",
       "    }\n",
       "\n",
       "    .dataframe thead th {\n",
       "        text-align: right;\n",
       "    }\n",
       "</style>\n",
       "<table border=\"1\" class=\"dataframe\">\n",
       "  <thead>\n",
       "    <tr style=\"text-align: right;\">\n",
       "      <th></th>\n",
       "      <th>birth</th>\n",
       "      <th>death</th>\n",
       "      <th>city</th>\n",
       "    </tr>\n",
       "    <tr>\n",
       "      <th>composer</th>\n",
       "      <th></th>\n",
       "      <th></th>\n",
       "      <th></th>\n",
       "    </tr>\n",
       "  </thead>\n",
       "  <tbody>\n",
       "    <tr>\n",
       "      <th>Mahler</th>\n",
       "      <td>1860</td>\n",
       "      <td>1911</td>\n",
       "      <td>Kaliste</td>\n",
       "    </tr>\n",
       "    <tr>\n",
       "      <th>Beethoven</th>\n",
       "      <td>1770</td>\n",
       "      <td>1827</td>\n",
       "      <td>Bonn</td>\n",
       "    </tr>\n",
       "    <tr>\n",
       "      <th>Puccini</th>\n",
       "      <td>1858</td>\n",
       "      <td>1924</td>\n",
       "      <td>Lucques</td>\n",
       "    </tr>\n",
       "    <tr>\n",
       "      <th>Shostakovich</th>\n",
       "      <td>1906</td>\n",
       "      <td>1975</td>\n",
       "      <td>Saint-Petersburg</td>\n",
       "    </tr>\n",
       "  </tbody>\n",
       "</table>\n",
       "</div>"
      ],
      "text/plain": [
       "              birth  death              city\n",
       "composer                                    \n",
       "Mahler         1860   1911           Kaliste\n",
       "Beethoven      1770   1827              Bonn\n",
       "Puccini        1858   1924           Lucques\n",
       "Shostakovich   1906   1975  Saint-Petersburg"
      ]
     },
     "execution_count": 57,
     "metadata": {},
     "output_type": "execute_result"
    }
   ],
   "source": [
    "composers_df = pd.read_excel('dataset/composers.xlsx', index_col = 'composer')\n",
    "composers_df"
   ]
  },
  {
   "cell_type": "markdown",
   "metadata": {},
   "source": [
    "If we open the file in Excel, we see that it is composed of more than one sheet. Clearly, when not specifying anything, the reader only reads the first sheet. However we can specify a sheet:"
   ]
  },
  {
   "cell_type": "code",
   "execution_count": 58,
   "metadata": {
    "ExecuteTime": {
     "end_time": "2020-06-24T14:51:26.183305Z",
     "start_time": "2020-06-24T14:51:26.141838Z"
    }
   },
   "outputs": [
    {
     "data": {
      "text/html": [
       "<div>\n",
       "<style scoped>\n",
       "    .dataframe tbody tr th:only-of-type {\n",
       "        vertical-align: middle;\n",
       "    }\n",
       "\n",
       "    .dataframe tbody tr th {\n",
       "        vertical-align: top;\n",
       "    }\n",
       "\n",
       "    .dataframe thead th {\n",
       "        text-align: right;\n",
       "    }\n",
       "</style>\n",
       "<table border=\"1\" class=\"dataframe\">\n",
       "  <thead>\n",
       "    <tr style=\"text-align: right;\">\n",
       "      <th></th>\n",
       "      <th>birth</th>\n",
       "      <th>death</th>\n",
       "      <th>city</th>\n",
       "    </tr>\n",
       "    <tr>\n",
       "      <th>composer</th>\n",
       "      <th></th>\n",
       "      <th></th>\n",
       "      <th></th>\n",
       "    </tr>\n",
       "  </thead>\n",
       "  <tbody>\n",
       "    <tr>\n",
       "      <th>Mahler</th>\n",
       "      <td>1860</td>\n",
       "      <td>1911</td>\n",
       "      <td>Kaliste</td>\n",
       "    </tr>\n",
       "    <tr>\n",
       "      <th>Beethoven</th>\n",
       "      <td>1770</td>\n",
       "      <td>1827</td>\n",
       "      <td>Bonn</td>\n",
       "    </tr>\n",
       "    <tr>\n",
       "      <th>Puccini</th>\n",
       "      <td>1858</td>\n",
       "      <td>1924</td>\n",
       "      <td>Lucques</td>\n",
       "    </tr>\n",
       "    <tr>\n",
       "      <th>Shostakovich</th>\n",
       "      <td>1906</td>\n",
       "      <td>1975</td>\n",
       "      <td>Saint-Petersburg</td>\n",
       "    </tr>\n",
       "    <tr>\n",
       "      <th>Sibelius</th>\n",
       "      <td>unknown</td>\n",
       "      <td>unknown</td>\n",
       "      <td>unknown</td>\n",
       "    </tr>\n",
       "    <tr>\n",
       "      <th>Haydn</th>\n",
       "      <td>NaN</td>\n",
       "      <td>NaN</td>\n",
       "      <td>Rohrau</td>\n",
       "    </tr>\n",
       "  </tbody>\n",
       "</table>\n",
       "</div>"
      ],
      "text/plain": [
       "                birth    death              city\n",
       "composer                                        \n",
       "Mahler           1860     1911           Kaliste\n",
       "Beethoven        1770     1827              Bonn\n",
       "Puccini          1858     1924           Lucques\n",
       "Shostakovich     1906     1975  Saint-Petersburg\n",
       "Sibelius      unknown  unknown           unknown\n",
       "Haydn             NaN      NaN            Rohrau"
      ]
     },
     "execution_count": 58,
     "metadata": {},
     "output_type": "execute_result"
    }
   ],
   "source": [
    "composers_df = pd.read_excel('dataset/composers.xlsx', index_col = 'composer', sheet_name='Sheet2')\n",
    "composers_df"
   ]
  },
  {
   "cell_type": "code",
   "execution_count": 59,
   "metadata": {},
   "outputs": [
    {
     "data": {
      "text/html": [
       "<div>\n",
       "<style scoped>\n",
       "    .dataframe tbody tr th:only-of-type {\n",
       "        vertical-align: middle;\n",
       "    }\n",
       "\n",
       "    .dataframe tbody tr th {\n",
       "        vertical-align: top;\n",
       "    }\n",
       "\n",
       "    .dataframe thead th {\n",
       "        text-align: right;\n",
       "    }\n",
       "</style>\n",
       "<table border=\"1\" class=\"dataframe\">\n",
       "  <thead>\n",
       "    <tr style=\"text-align: right;\">\n",
       "      <th></th>\n",
       "      <th>birth</th>\n",
       "      <th>death</th>\n",
       "      <th>city</th>\n",
       "    </tr>\n",
       "  </thead>\n",
       "  <tbody>\n",
       "    <tr>\n",
       "      <th>count</th>\n",
       "      <td>5</td>\n",
       "      <td>5</td>\n",
       "      <td>6</td>\n",
       "    </tr>\n",
       "    <tr>\n",
       "      <th>unique</th>\n",
       "      <td>5</td>\n",
       "      <td>5</td>\n",
       "      <td>6</td>\n",
       "    </tr>\n",
       "    <tr>\n",
       "      <th>top</th>\n",
       "      <td>1860</td>\n",
       "      <td>1911</td>\n",
       "      <td>Kaliste</td>\n",
       "    </tr>\n",
       "    <tr>\n",
       "      <th>freq</th>\n",
       "      <td>1</td>\n",
       "      <td>1</td>\n",
       "      <td>1</td>\n",
       "    </tr>\n",
       "  </tbody>\n",
       "</table>\n",
       "</div>"
      ],
      "text/plain": [
       "        birth  death     city\n",
       "count       5      5        6\n",
       "unique      5      5        6\n",
       "top      1860   1911  Kaliste\n",
       "freq        1      1        1"
      ]
     },
     "execution_count": 59,
     "metadata": {},
     "output_type": "execute_result"
    }
   ],
   "source": [
    "composers_df.describe()"
   ]
  },
  {
   "cell_type": "markdown",
   "metadata": {},
   "source": [
    "As you can see above, some information is missing. Some missing values are marked as \"`unknown`\" while other are `NaN`. `NaN` is the standard symbol for unknown/missing values and is understood by Pandas while \"`unknown`\" is just seen as text. \n",
    "This is impractical as now we have columns with a mix of numbers and text which will make later computations difficult. What we would like to do is to replace all \"irrelevant\" values with the standard `NaN` symbol that says \"*no information*\".\n",
    "For this we can use the `na_values` argument to specify what should be a `NaN`:"
   ]
  },
  {
   "cell_type": "code",
   "execution_count": 60,
   "metadata": {},
   "outputs": [
    {
     "name": "stdout",
     "output_type": "stream",
     "text": [
      "<class 'pandas.core.frame.DataFrame'>\n",
      "Index: 6 entries, Mahler to Haydn\n",
      "Data columns (total 3 columns):\n",
      " #   Column  Non-Null Count  Dtype \n",
      "---  ------  --------------  ----- \n",
      " 0   birth   5 non-null      object\n",
      " 1   death   5 non-null      object\n",
      " 2   city    6 non-null      object\n",
      "dtypes: object(3)\n",
      "memory usage: 192.0+ bytes\n"
     ]
    }
   ],
   "source": [
    "composers_df.info()"
   ]
  },
  {
   "cell_type": "code",
   "execution_count": 61,
   "metadata": {
    "ExecuteTime": {
     "end_time": "2020-06-24T14:58:59.168497Z",
     "start_time": "2020-06-24T14:58:59.139749Z"
    },
    "scrolled": true
   },
   "outputs": [
    {
     "data": {
      "text/html": [
       "<div>\n",
       "<style scoped>\n",
       "    .dataframe tbody tr th:only-of-type {\n",
       "        vertical-align: middle;\n",
       "    }\n",
       "\n",
       "    .dataframe tbody tr th {\n",
       "        vertical-align: top;\n",
       "    }\n",
       "\n",
       "    .dataframe thead th {\n",
       "        text-align: right;\n",
       "    }\n",
       "</style>\n",
       "<table border=\"1\" class=\"dataframe\">\n",
       "  <thead>\n",
       "    <tr style=\"text-align: right;\">\n",
       "      <th></th>\n",
       "      <th>birth</th>\n",
       "      <th>death</th>\n",
       "      <th>city</th>\n",
       "    </tr>\n",
       "    <tr>\n",
       "      <th>composer</th>\n",
       "      <th></th>\n",
       "      <th></th>\n",
       "      <th></th>\n",
       "    </tr>\n",
       "  </thead>\n",
       "  <tbody>\n",
       "    <tr>\n",
       "      <th>Mahler</th>\n",
       "      <td>1860.0</td>\n",
       "      <td>1911.0</td>\n",
       "      <td>Kaliste</td>\n",
       "    </tr>\n",
       "    <tr>\n",
       "      <th>Beethoven</th>\n",
       "      <td>1770.0</td>\n",
       "      <td>1827.0</td>\n",
       "      <td>Bonn</td>\n",
       "    </tr>\n",
       "    <tr>\n",
       "      <th>Puccini</th>\n",
       "      <td>1858.0</td>\n",
       "      <td>1924.0</td>\n",
       "      <td>Lucques</td>\n",
       "    </tr>\n",
       "    <tr>\n",
       "      <th>Shostakovich</th>\n",
       "      <td>1906.0</td>\n",
       "      <td>1975.0</td>\n",
       "      <td>Saint-Petersburg</td>\n",
       "    </tr>\n",
       "    <tr>\n",
       "      <th>Sibelius</th>\n",
       "      <td>NaN</td>\n",
       "      <td>NaN</td>\n",
       "      <td>NaN</td>\n",
       "    </tr>\n",
       "    <tr>\n",
       "      <th>Haydn</th>\n",
       "      <td>NaN</td>\n",
       "      <td>NaN</td>\n",
       "      <td>Rohrau</td>\n",
       "    </tr>\n",
       "  </tbody>\n",
       "</table>\n",
       "</div>"
      ],
      "text/plain": [
       "               birth   death              city\n",
       "composer                                      \n",
       "Mahler        1860.0  1911.0           Kaliste\n",
       "Beethoven     1770.0  1827.0              Bonn\n",
       "Puccini       1858.0  1924.0           Lucques\n",
       "Shostakovich  1906.0  1975.0  Saint-Petersburg\n",
       "Sibelius         NaN     NaN               NaN\n",
       "Haydn            NaN     NaN            Rohrau"
      ]
     },
     "execution_count": 61,
     "metadata": {},
     "output_type": "execute_result"
    }
   ],
   "source": [
    "composers_df = pd.read_excel('dataset/composers.xlsx', index_col = 'composer', sheet_name='Sheet2', \n",
    "                             na_values=['unknown'])\n",
    "composers_df"
   ]
  },
  {
   "cell_type": "markdown",
   "metadata": {},
   "source": [
    "## Missing data\n",
    "pandas primarily uses the value `np.nan` to represent missing data. It is by default not included in computations."
   ]
  },
  {
   "cell_type": "code",
   "execution_count": 62,
   "metadata": {},
   "outputs": [],
   "source": [
    "df_new = composers_df.copy()"
   ]
  },
  {
   "cell_type": "code",
   "execution_count": 63,
   "metadata": {},
   "outputs": [
    {
     "data": {
      "text/html": [
       "<div>\n",
       "<style scoped>\n",
       "    .dataframe tbody tr th:only-of-type {\n",
       "        vertical-align: middle;\n",
       "    }\n",
       "\n",
       "    .dataframe tbody tr th {\n",
       "        vertical-align: top;\n",
       "    }\n",
       "\n",
       "    .dataframe thead th {\n",
       "        text-align: right;\n",
       "    }\n",
       "</style>\n",
       "<table border=\"1\" class=\"dataframe\">\n",
       "  <thead>\n",
       "    <tr style=\"text-align: right;\">\n",
       "      <th></th>\n",
       "      <th>birth</th>\n",
       "      <th>death</th>\n",
       "      <th>city</th>\n",
       "    </tr>\n",
       "    <tr>\n",
       "      <th>composer</th>\n",
       "      <th></th>\n",
       "      <th></th>\n",
       "      <th></th>\n",
       "    </tr>\n",
       "  </thead>\n",
       "  <tbody>\n",
       "    <tr>\n",
       "      <th>Mahler</th>\n",
       "      <td>1860.0</td>\n",
       "      <td>1911.0</td>\n",
       "      <td>Kaliste</td>\n",
       "    </tr>\n",
       "    <tr>\n",
       "      <th>Beethoven</th>\n",
       "      <td>1770.0</td>\n",
       "      <td>1827.0</td>\n",
       "      <td>Bonn</td>\n",
       "    </tr>\n",
       "    <tr>\n",
       "      <th>Puccini</th>\n",
       "      <td>1858.0</td>\n",
       "      <td>1924.0</td>\n",
       "      <td>Lucques</td>\n",
       "    </tr>\n",
       "    <tr>\n",
       "      <th>Shostakovich</th>\n",
       "      <td>1906.0</td>\n",
       "      <td>1975.0</td>\n",
       "      <td>Saint-Petersburg</td>\n",
       "    </tr>\n",
       "    <tr>\n",
       "      <th>Sibelius</th>\n",
       "      <td>NaN</td>\n",
       "      <td>NaN</td>\n",
       "      <td>NaN</td>\n",
       "    </tr>\n",
       "    <tr>\n",
       "      <th>Haydn</th>\n",
       "      <td>NaN</td>\n",
       "      <td>NaN</td>\n",
       "      <td>Rohrau</td>\n",
       "    </tr>\n",
       "  </tbody>\n",
       "</table>\n",
       "</div>"
      ],
      "text/plain": [
       "               birth   death              city\n",
       "composer                                      \n",
       "Mahler        1860.0  1911.0           Kaliste\n",
       "Beethoven     1770.0  1827.0              Bonn\n",
       "Puccini       1858.0  1924.0           Lucques\n",
       "Shostakovich  1906.0  1975.0  Saint-Petersburg\n",
       "Sibelius         NaN     NaN               NaN\n",
       "Haydn            NaN     NaN            Rohrau"
      ]
     },
     "execution_count": 63,
     "metadata": {},
     "output_type": "execute_result"
    }
   ],
   "source": [
    "df_new"
   ]
  },
  {
   "cell_type": "markdown",
   "metadata": {},
   "source": [
    "Get a boolean mask where values are `np.nan` (as for Series)."
   ]
  },
  {
   "cell_type": "code",
   "execution_count": 64,
   "metadata": {
    "scrolled": true
   },
   "outputs": [
    {
     "data": {
      "text/html": [
       "<div>\n",
       "<style scoped>\n",
       "    .dataframe tbody tr th:only-of-type {\n",
       "        vertical-align: middle;\n",
       "    }\n",
       "\n",
       "    .dataframe tbody tr th {\n",
       "        vertical-align: top;\n",
       "    }\n",
       "\n",
       "    .dataframe thead th {\n",
       "        text-align: right;\n",
       "    }\n",
       "</style>\n",
       "<table border=\"1\" class=\"dataframe\">\n",
       "  <thead>\n",
       "    <tr style=\"text-align: right;\">\n",
       "      <th></th>\n",
       "      <th>birth</th>\n",
       "      <th>death</th>\n",
       "      <th>city</th>\n",
       "    </tr>\n",
       "    <tr>\n",
       "      <th>composer</th>\n",
       "      <th></th>\n",
       "      <th></th>\n",
       "      <th></th>\n",
       "    </tr>\n",
       "  </thead>\n",
       "  <tbody>\n",
       "    <tr>\n",
       "      <th>Mahler</th>\n",
       "      <td>False</td>\n",
       "      <td>False</td>\n",
       "      <td>False</td>\n",
       "    </tr>\n",
       "    <tr>\n",
       "      <th>Beethoven</th>\n",
       "      <td>False</td>\n",
       "      <td>False</td>\n",
       "      <td>False</td>\n",
       "    </tr>\n",
       "    <tr>\n",
       "      <th>Puccini</th>\n",
       "      <td>False</td>\n",
       "      <td>False</td>\n",
       "      <td>False</td>\n",
       "    </tr>\n",
       "    <tr>\n",
       "      <th>Shostakovich</th>\n",
       "      <td>False</td>\n",
       "      <td>False</td>\n",
       "      <td>False</td>\n",
       "    </tr>\n",
       "    <tr>\n",
       "      <th>Sibelius</th>\n",
       "      <td>True</td>\n",
       "      <td>True</td>\n",
       "      <td>True</td>\n",
       "    </tr>\n",
       "    <tr>\n",
       "      <th>Haydn</th>\n",
       "      <td>True</td>\n",
       "      <td>True</td>\n",
       "      <td>False</td>\n",
       "    </tr>\n",
       "  </tbody>\n",
       "</table>\n",
       "</div>"
      ],
      "text/plain": [
       "              birth  death   city\n",
       "composer                         \n",
       "Mahler        False  False  False\n",
       "Beethoven     False  False  False\n",
       "Puccini       False  False  False\n",
       "Shostakovich  False  False  False\n",
       "Sibelius       True   True   True\n",
       "Haydn          True   True  False"
      ]
     },
     "execution_count": 64,
     "metadata": {},
     "output_type": "execute_result"
    }
   ],
   "source": [
    "pd.isna(df_new)"
   ]
  },
  {
   "cell_type": "code",
   "execution_count": 65,
   "metadata": {},
   "outputs": [
    {
     "data": {
      "text/plain": [
       "True"
      ]
     },
     "execution_count": 65,
     "metadata": {},
     "output_type": "execute_result"
    }
   ],
   "source": [
    "df_new.isna().values.any()"
   ]
  },
  {
   "cell_type": "code",
   "execution_count": 66,
   "metadata": {},
   "outputs": [
    {
     "data": {
      "text/plain": [
       "birth    2\n",
       "death    2\n",
       "city     1\n",
       "dtype: int64"
      ]
     },
     "execution_count": 66,
     "metadata": {},
     "output_type": "execute_result"
    }
   ],
   "source": [
    "df_new.isna().sum()"
   ]
  },
  {
   "cell_type": "markdown",
   "metadata": {},
   "source": [
    "To drop missing data."
   ]
  },
  {
   "cell_type": "code",
   "execution_count": 67,
   "metadata": {
    "scrolled": true
   },
   "outputs": [
    {
     "data": {
      "text/html": [
       "<div>\n",
       "<style scoped>\n",
       "    .dataframe tbody tr th:only-of-type {\n",
       "        vertical-align: middle;\n",
       "    }\n",
       "\n",
       "    .dataframe tbody tr th {\n",
       "        vertical-align: top;\n",
       "    }\n",
       "\n",
       "    .dataframe thead th {\n",
       "        text-align: right;\n",
       "    }\n",
       "</style>\n",
       "<table border=\"1\" class=\"dataframe\">\n",
       "  <thead>\n",
       "    <tr style=\"text-align: right;\">\n",
       "      <th></th>\n",
       "      <th>birth</th>\n",
       "      <th>death</th>\n",
       "      <th>city</th>\n",
       "    </tr>\n",
       "    <tr>\n",
       "      <th>composer</th>\n",
       "      <th></th>\n",
       "      <th></th>\n",
       "      <th></th>\n",
       "    </tr>\n",
       "  </thead>\n",
       "  <tbody>\n",
       "    <tr>\n",
       "      <th>Mahler</th>\n",
       "      <td>1860.0</td>\n",
       "      <td>1911.0</td>\n",
       "      <td>Kaliste</td>\n",
       "    </tr>\n",
       "    <tr>\n",
       "      <th>Beethoven</th>\n",
       "      <td>1770.0</td>\n",
       "      <td>1827.0</td>\n",
       "      <td>Bonn</td>\n",
       "    </tr>\n",
       "    <tr>\n",
       "      <th>Puccini</th>\n",
       "      <td>1858.0</td>\n",
       "      <td>1924.0</td>\n",
       "      <td>Lucques</td>\n",
       "    </tr>\n",
       "    <tr>\n",
       "      <th>Shostakovich</th>\n",
       "      <td>1906.0</td>\n",
       "      <td>1975.0</td>\n",
       "      <td>Saint-Petersburg</td>\n",
       "    </tr>\n",
       "  </tbody>\n",
       "</table>\n",
       "</div>"
      ],
      "text/plain": [
       "               birth   death              city\n",
       "composer                                      \n",
       "Mahler        1860.0  1911.0           Kaliste\n",
       "Beethoven     1770.0  1827.0              Bonn\n",
       "Puccini       1858.0  1924.0           Lucques\n",
       "Shostakovich  1906.0  1975.0  Saint-Petersburg"
      ]
     },
     "execution_count": 67,
     "metadata": {},
     "output_type": "execute_result"
    }
   ],
   "source": [
    "df_new.dropna(how='any') # delete any row and column with at least one np.nan"
   ]
  },
  {
   "cell_type": "code",
   "execution_count": 68,
   "metadata": {},
   "outputs": [
    {
     "data": {
      "text/html": [
       "<div>\n",
       "<style scoped>\n",
       "    .dataframe tbody tr th:only-of-type {\n",
       "        vertical-align: middle;\n",
       "    }\n",
       "\n",
       "    .dataframe tbody tr th {\n",
       "        vertical-align: top;\n",
       "    }\n",
       "\n",
       "    .dataframe thead th {\n",
       "        text-align: right;\n",
       "    }\n",
       "</style>\n",
       "<table border=\"1\" class=\"dataframe\">\n",
       "  <thead>\n",
       "    <tr style=\"text-align: right;\">\n",
       "      <th></th>\n",
       "      <th>birth</th>\n",
       "      <th>death</th>\n",
       "      <th>city</th>\n",
       "    </tr>\n",
       "    <tr>\n",
       "      <th>composer</th>\n",
       "      <th></th>\n",
       "      <th></th>\n",
       "      <th></th>\n",
       "    </tr>\n",
       "  </thead>\n",
       "  <tbody>\n",
       "    <tr>\n",
       "      <th>Mahler</th>\n",
       "      <td>1860.0</td>\n",
       "      <td>1911.0</td>\n",
       "      <td>Kaliste</td>\n",
       "    </tr>\n",
       "    <tr>\n",
       "      <th>Beethoven</th>\n",
       "      <td>1770.0</td>\n",
       "      <td>1827.0</td>\n",
       "      <td>Bonn</td>\n",
       "    </tr>\n",
       "    <tr>\n",
       "      <th>Puccini</th>\n",
       "      <td>1858.0</td>\n",
       "      <td>1924.0</td>\n",
       "      <td>Lucques</td>\n",
       "    </tr>\n",
       "    <tr>\n",
       "      <th>Shostakovich</th>\n",
       "      <td>1906.0</td>\n",
       "      <td>1975.0</td>\n",
       "      <td>Saint-Petersburg</td>\n",
       "    </tr>\n",
       "    <tr>\n",
       "      <th>Haydn</th>\n",
       "      <td>NaN</td>\n",
       "      <td>NaN</td>\n",
       "      <td>Rohrau</td>\n",
       "    </tr>\n",
       "  </tbody>\n",
       "</table>\n",
       "</div>"
      ],
      "text/plain": [
       "               birth   death              city\n",
       "composer                                      \n",
       "Mahler        1860.0  1911.0           Kaliste\n",
       "Beethoven     1770.0  1827.0              Bonn\n",
       "Puccini       1858.0  1924.0           Lucques\n",
       "Shostakovich  1906.0  1975.0  Saint-Petersburg\n",
       "Haydn            NaN     NaN            Rohrau"
      ]
     },
     "execution_count": 68,
     "metadata": {},
     "output_type": "execute_result"
    }
   ],
   "source": [
    "df_new.dropna(how = 'all') # the whole row (or column) must be np.nan "
   ]
  },
  {
   "cell_type": "markdown",
   "metadata": {},
   "source": [
    "Filling missing data"
   ]
  },
  {
   "cell_type": "code",
   "execution_count": 69,
   "metadata": {},
   "outputs": [
    {
     "data": {
      "text/html": [
       "<div>\n",
       "<style scoped>\n",
       "    .dataframe tbody tr th:only-of-type {\n",
       "        vertical-align: middle;\n",
       "    }\n",
       "\n",
       "    .dataframe tbody tr th {\n",
       "        vertical-align: top;\n",
       "    }\n",
       "\n",
       "    .dataframe thead th {\n",
       "        text-align: right;\n",
       "    }\n",
       "</style>\n",
       "<table border=\"1\" class=\"dataframe\">\n",
       "  <thead>\n",
       "    <tr style=\"text-align: right;\">\n",
       "      <th></th>\n",
       "      <th>birth</th>\n",
       "      <th>death</th>\n",
       "      <th>city</th>\n",
       "    </tr>\n",
       "    <tr>\n",
       "      <th>composer</th>\n",
       "      <th></th>\n",
       "      <th></th>\n",
       "      <th></th>\n",
       "    </tr>\n",
       "  </thead>\n",
       "  <tbody>\n",
       "    <tr>\n",
       "      <th>Mahler</th>\n",
       "      <td>1860.0</td>\n",
       "      <td>1911.0</td>\n",
       "      <td>Kaliste</td>\n",
       "    </tr>\n",
       "    <tr>\n",
       "      <th>Beethoven</th>\n",
       "      <td>1770.0</td>\n",
       "      <td>1827.0</td>\n",
       "      <td>Bonn</td>\n",
       "    </tr>\n",
       "    <tr>\n",
       "      <th>Puccini</th>\n",
       "      <td>1858.0</td>\n",
       "      <td>1924.0</td>\n",
       "      <td>Lucques</td>\n",
       "    </tr>\n",
       "    <tr>\n",
       "      <th>Shostakovich</th>\n",
       "      <td>1906.0</td>\n",
       "      <td>1975.0</td>\n",
       "      <td>Saint-Petersburg</td>\n",
       "    </tr>\n",
       "    <tr>\n",
       "      <th>Sibelius</th>\n",
       "      <td>5.0</td>\n",
       "      <td>5.0</td>\n",
       "      <td>5</td>\n",
       "    </tr>\n",
       "    <tr>\n",
       "      <th>Haydn</th>\n",
       "      <td>5.0</td>\n",
       "      <td>5.0</td>\n",
       "      <td>Rohrau</td>\n",
       "    </tr>\n",
       "  </tbody>\n",
       "</table>\n",
       "</div>"
      ],
      "text/plain": [
       "               birth   death              city\n",
       "composer                                      \n",
       "Mahler        1860.0  1911.0           Kaliste\n",
       "Beethoven     1770.0  1827.0              Bonn\n",
       "Puccini       1858.0  1924.0           Lucques\n",
       "Shostakovich  1906.0  1975.0  Saint-Petersburg\n",
       "Sibelius         5.0     5.0                 5\n",
       "Haydn            5.0     5.0            Rohrau"
      ]
     },
     "execution_count": 69,
     "metadata": {},
     "output_type": "execute_result"
    }
   ],
   "source": [
    "df_new.fillna(value=5)"
   ]
  },
  {
   "cell_type": "markdown",
   "metadata": {},
   "source": [
    "# DataFrame Operations\n",
    "\n",
    "One of the great advantages of using Pandas to handle tabular data is how simple it is to extract valuable information from them. Here we are going to see various types of operations that are available for this."
   ]
  },
  {
   "cell_type": "markdown",
   "metadata": {},
   "source": [
    "\n",
    "## Matrix operations\n",
    "\n",
    "The strength of Numpy is its natural way of handling matrix operations, and Pandas reuses a lot of these features. For example one can use simple mathematical operations to opereate at the cell level:"
   ]
  },
  {
   "cell_type": "code",
   "execution_count": 70,
   "metadata": {
    "ExecuteTime": {
     "end_time": "2020-06-24T15:09:22.426144Z",
     "start_time": "2020-06-24T15:09:22.385407Z"
    }
   },
   "outputs": [
    {
     "data": {
      "text/html": [
       "<div>\n",
       "<style scoped>\n",
       "    .dataframe tbody tr th:only-of-type {\n",
       "        vertical-align: middle;\n",
       "    }\n",
       "\n",
       "    .dataframe tbody tr th {\n",
       "        vertical-align: top;\n",
       "    }\n",
       "\n",
       "    .dataframe thead th {\n",
       "        text-align: right;\n",
       "    }\n",
       "</style>\n",
       "<table border=\"1\" class=\"dataframe\">\n",
       "  <thead>\n",
       "    <tr style=\"text-align: right;\">\n",
       "      <th></th>\n",
       "      <th>composer</th>\n",
       "      <th>birth</th>\n",
       "      <th>death</th>\n",
       "      <th>city</th>\n",
       "    </tr>\n",
       "  </thead>\n",
       "  <tbody>\n",
       "    <tr>\n",
       "      <th>0</th>\n",
       "      <td>Mahler</td>\n",
       "      <td>1860</td>\n",
       "      <td>1911</td>\n",
       "      <td>Kaliste</td>\n",
       "    </tr>\n",
       "    <tr>\n",
       "      <th>1</th>\n",
       "      <td>Beethoven</td>\n",
       "      <td>1770</td>\n",
       "      <td>1827</td>\n",
       "      <td>Bonn</td>\n",
       "    </tr>\n",
       "    <tr>\n",
       "      <th>2</th>\n",
       "      <td>Puccini</td>\n",
       "      <td>1858</td>\n",
       "      <td>1924</td>\n",
       "      <td>Lucques</td>\n",
       "    </tr>\n",
       "    <tr>\n",
       "      <th>3</th>\n",
       "      <td>Shostakovich</td>\n",
       "      <td>1906</td>\n",
       "      <td>1975</td>\n",
       "      <td>Saint-Petersburg</td>\n",
       "    </tr>\n",
       "  </tbody>\n",
       "</table>\n",
       "</div>"
      ],
      "text/plain": [
       "       composer  birth  death              city\n",
       "0        Mahler   1860   1911           Kaliste\n",
       "1     Beethoven   1770   1827              Bonn\n",
       "2       Puccini   1858   1924           Lucques\n",
       "3  Shostakovich   1906   1975  Saint-Petersburg"
      ]
     },
     "execution_count": 70,
     "metadata": {},
     "output_type": "execute_result"
    }
   ],
   "source": [
    "df = pd.read_excel('dataset/composers.xlsx')\n",
    "df"
   ]
  },
  {
   "cell_type": "code",
   "execution_count": 71,
   "metadata": {
    "ExecuteTime": {
     "end_time": "2020-06-24T15:09:39.792603Z",
     "start_time": "2020-06-24T15:09:39.775993Z"
    }
   },
   "outputs": [
    {
     "data": {
      "text/plain": [
       "0    3720\n",
       "1    3540\n",
       "2    3716\n",
       "3    3812\n",
       "Name: birth, dtype: int64"
      ]
     },
     "execution_count": 71,
     "metadata": {},
     "output_type": "execute_result"
    }
   ],
   "source": [
    "df['birth'] * 2"
   ]
  },
  {
   "cell_type": "code",
   "execution_count": 72,
   "metadata": {
    "ExecuteTime": {
     "end_time": "2020-06-24T15:10:00.912276Z",
     "start_time": "2020-06-24T15:10:00.899426Z"
    },
    "scrolled": true
   },
   "outputs": [
    {
     "data": {
      "text/plain": [
       "0    7.528332\n",
       "1    7.478735\n",
       "2    7.527256\n",
       "3    7.552762\n",
       "Name: birth, dtype: float64"
      ]
     },
     "execution_count": 72,
     "metadata": {},
     "output_type": "execute_result"
    }
   ],
   "source": [
    "np.log(df['birth'])"
   ]
  },
  {
   "cell_type": "markdown",
   "metadata": {},
   "source": [
    "We can directly use an operation's output to create a new column:"
   ]
  },
  {
   "cell_type": "code",
   "execution_count": 73,
   "metadata": {
    "ExecuteTime": {
     "end_time": "2020-06-24T15:19:14.832808Z",
     "start_time": "2020-06-24T15:19:14.807838Z"
    }
   },
   "outputs": [
    {
     "data": {
      "text/html": [
       "<div>\n",
       "<style scoped>\n",
       "    .dataframe tbody tr th:only-of-type {\n",
       "        vertical-align: middle;\n",
       "    }\n",
       "\n",
       "    .dataframe tbody tr th {\n",
       "        vertical-align: top;\n",
       "    }\n",
       "\n",
       "    .dataframe thead th {\n",
       "        text-align: right;\n",
       "    }\n",
       "</style>\n",
       "<table border=\"1\" class=\"dataframe\">\n",
       "  <thead>\n",
       "    <tr style=\"text-align: right;\">\n",
       "      <th></th>\n",
       "      <th>composer</th>\n",
       "      <th>birth</th>\n",
       "      <th>death</th>\n",
       "      <th>city</th>\n",
       "      <th>age</th>\n",
       "    </tr>\n",
       "  </thead>\n",
       "  <tbody>\n",
       "    <tr>\n",
       "      <th>0</th>\n",
       "      <td>Mahler</td>\n",
       "      <td>1860</td>\n",
       "      <td>1911</td>\n",
       "      <td>Kaliste</td>\n",
       "      <td>51</td>\n",
       "    </tr>\n",
       "    <tr>\n",
       "      <th>1</th>\n",
       "      <td>Beethoven</td>\n",
       "      <td>1770</td>\n",
       "      <td>1827</td>\n",
       "      <td>Bonn</td>\n",
       "      <td>57</td>\n",
       "    </tr>\n",
       "    <tr>\n",
       "      <th>2</th>\n",
       "      <td>Puccini</td>\n",
       "      <td>1858</td>\n",
       "      <td>1924</td>\n",
       "      <td>Lucques</td>\n",
       "      <td>66</td>\n",
       "    </tr>\n",
       "    <tr>\n",
       "      <th>3</th>\n",
       "      <td>Shostakovich</td>\n",
       "      <td>1906</td>\n",
       "      <td>1975</td>\n",
       "      <td>Saint-Petersburg</td>\n",
       "      <td>69</td>\n",
       "    </tr>\n",
       "  </tbody>\n",
       "</table>\n",
       "</div>"
      ],
      "text/plain": [
       "       composer  birth  death              city  age\n",
       "0        Mahler   1860   1911           Kaliste   51\n",
       "1     Beethoven   1770   1827              Bonn   57\n",
       "2       Puccini   1858   1924           Lucques   66\n",
       "3  Shostakovich   1906   1975  Saint-Petersburg   69"
      ]
     },
     "execution_count": 73,
     "metadata": {},
     "output_type": "execute_result"
    }
   ],
   "source": [
    "df['age'] = df['death'] - df['birth']\n",
    "df"
   ]
  },
  {
   "cell_type": "markdown",
   "metadata": {},
   "source": [
    "Here we applied functions only to series. Indeed, since our Dataframe contains e.g. strings, no operation can be done on it. If however we have a homogenous Dataframe, this is possible:"
   ]
  },
  {
   "cell_type": "code",
   "execution_count": 74,
   "metadata": {
    "ExecuteTime": {
     "end_time": "2020-06-24T15:10:52.552872Z",
     "start_time": "2020-06-24T15:10:52.534293Z"
    }
   },
   "outputs": [
    {
     "data": {
      "text/html": [
       "<div>\n",
       "<style scoped>\n",
       "    .dataframe tbody tr th:only-of-type {\n",
       "        vertical-align: middle;\n",
       "    }\n",
       "\n",
       "    .dataframe tbody tr th {\n",
       "        vertical-align: top;\n",
       "    }\n",
       "\n",
       "    .dataframe thead th {\n",
       "        text-align: right;\n",
       "    }\n",
       "</style>\n",
       "<table border=\"1\" class=\"dataframe\">\n",
       "  <thead>\n",
       "    <tr style=\"text-align: right;\">\n",
       "      <th></th>\n",
       "      <th>birth</th>\n",
       "      <th>death</th>\n",
       "    </tr>\n",
       "  </thead>\n",
       "  <tbody>\n",
       "    <tr>\n",
       "      <th>0</th>\n",
       "      <td>3720</td>\n",
       "      <td>3822</td>\n",
       "    </tr>\n",
       "    <tr>\n",
       "      <th>1</th>\n",
       "      <td>3540</td>\n",
       "      <td>3654</td>\n",
       "    </tr>\n",
       "    <tr>\n",
       "      <th>2</th>\n",
       "      <td>3716</td>\n",
       "      <td>3848</td>\n",
       "    </tr>\n",
       "    <tr>\n",
       "      <th>3</th>\n",
       "      <td>3812</td>\n",
       "      <td>3950</td>\n",
       "    </tr>\n",
       "  </tbody>\n",
       "</table>\n",
       "</div>"
      ],
      "text/plain": [
       "   birth  death\n",
       "0   3720   3822\n",
       "1   3540   3654\n",
       "2   3716   3848\n",
       "3   3812   3950"
      ]
     },
     "execution_count": 74,
     "metadata": {},
     "output_type": "execute_result"
    }
   ],
   "source": [
    "df[['birth', 'death']] * 2"
   ]
  },
  {
   "cell_type": "markdown",
   "metadata": {},
   "source": [
    "## Column operations\n",
    "\n",
    "There are other types of functions whose purpose is to summarize the data. For example the mean or standard deviation. Pandas by default applies such functions column-wise and returns a series containing e.g. the mean of each column:"
   ]
  },
  {
   "cell_type": "code",
   "execution_count": 75,
   "metadata": {
    "ExecuteTime": {
     "end_time": "2020-06-24T15:11:31.318490Z",
     "start_time": "2020-06-24T15:11:31.299730Z"
    }
   },
   "outputs": [
    {
     "data": {
      "text/plain": [
       "birth    1848.50\n",
       "death    1909.25\n",
       "age        60.75\n",
       "dtype: float64"
      ]
     },
     "execution_count": 75,
     "metadata": {},
     "output_type": "execute_result"
    }
   ],
   "source": [
    "df[['birth','death','age']].mean()"
   ]
  },
  {
   "cell_type": "markdown",
   "metadata": {},
   "source": [
    "Sometimes one needs to apply to a column a very specific function that is not provided by default. In that case we can use one of the different `apply` methods of Pandas.\n",
    "\n",
    "The simplest case is to apply a function to a column, or Series of a DataFrame. Let's say for example that we want to define the age >60 as 'old' and <60 as 'young'. We can define the following general function:"
   ]
  },
  {
   "cell_type": "code",
   "execution_count": 76,
   "metadata": {
    "ExecuteTime": {
     "end_time": "2020-06-24T15:16:11.585908Z",
     "start_time": "2020-06-24T15:16:11.579767Z"
    }
   },
   "outputs": [],
   "source": [
    "define_age = lambda x: 'old' if x > 60 else 'young'"
   ]
  },
  {
   "cell_type": "markdown",
   "metadata": {},
   "source": [
    "We can now apply this function on an entire Series:"
   ]
  },
  {
   "cell_type": "code",
   "execution_count": 77,
   "metadata": {
    "ExecuteTime": {
     "end_time": "2020-06-24T15:19:19.576840Z",
     "start_time": "2020-06-24T15:19:19.558825Z"
    }
   },
   "outputs": [],
   "source": [
    "df['categorical age'] = df.age.apply(define_age)"
   ]
  },
  {
   "cell_type": "code",
   "execution_count": 78,
   "metadata": {},
   "outputs": [
    {
     "data": {
      "text/html": [
       "<div>\n",
       "<style scoped>\n",
       "    .dataframe tbody tr th:only-of-type {\n",
       "        vertical-align: middle;\n",
       "    }\n",
       "\n",
       "    .dataframe tbody tr th {\n",
       "        vertical-align: top;\n",
       "    }\n",
       "\n",
       "    .dataframe thead th {\n",
       "        text-align: right;\n",
       "    }\n",
       "</style>\n",
       "<table border=\"1\" class=\"dataframe\">\n",
       "  <thead>\n",
       "    <tr style=\"text-align: right;\">\n",
       "      <th></th>\n",
       "      <th>composer</th>\n",
       "      <th>birth</th>\n",
       "      <th>death</th>\n",
       "      <th>city</th>\n",
       "      <th>age</th>\n",
       "      <th>categorical age</th>\n",
       "    </tr>\n",
       "  </thead>\n",
       "  <tbody>\n",
       "    <tr>\n",
       "      <th>0</th>\n",
       "      <td>Mahler</td>\n",
       "      <td>1860</td>\n",
       "      <td>1911</td>\n",
       "      <td>Kaliste</td>\n",
       "      <td>51</td>\n",
       "      <td>young</td>\n",
       "    </tr>\n",
       "    <tr>\n",
       "      <th>1</th>\n",
       "      <td>Beethoven</td>\n",
       "      <td>1770</td>\n",
       "      <td>1827</td>\n",
       "      <td>Bonn</td>\n",
       "      <td>57</td>\n",
       "      <td>young</td>\n",
       "    </tr>\n",
       "    <tr>\n",
       "      <th>2</th>\n",
       "      <td>Puccini</td>\n",
       "      <td>1858</td>\n",
       "      <td>1924</td>\n",
       "      <td>Lucques</td>\n",
       "      <td>66</td>\n",
       "      <td>old</td>\n",
       "    </tr>\n",
       "    <tr>\n",
       "      <th>3</th>\n",
       "      <td>Shostakovich</td>\n",
       "      <td>1906</td>\n",
       "      <td>1975</td>\n",
       "      <td>Saint-Petersburg</td>\n",
       "      <td>69</td>\n",
       "      <td>old</td>\n",
       "    </tr>\n",
       "  </tbody>\n",
       "</table>\n",
       "</div>"
      ],
      "text/plain": [
       "       composer  birth  death              city  age categorical age\n",
       "0        Mahler   1860   1911           Kaliste   51           young\n",
       "1     Beethoven   1770   1827              Bonn   57           young\n",
       "2       Puccini   1858   1924           Lucques   66             old\n",
       "3  Shostakovich   1906   1975  Saint-Petersburg   69             old"
      ]
     },
     "execution_count": 78,
     "metadata": {},
     "output_type": "execute_result"
    }
   ],
   "source": [
    "df"
   ]
  },
  {
   "cell_type": "code",
   "execution_count": 79,
   "metadata": {},
   "outputs": [
    {
     "data": {
      "text/html": [
       "<div>\n",
       "<style scoped>\n",
       "    .dataframe tbody tr th:only-of-type {\n",
       "        vertical-align: middle;\n",
       "    }\n",
       "\n",
       "    .dataframe tbody tr th {\n",
       "        vertical-align: top;\n",
       "    }\n",
       "\n",
       "    .dataframe thead th {\n",
       "        text-align: right;\n",
       "    }\n",
       "</style>\n",
       "<table border=\"1\" class=\"dataframe\">\n",
       "  <thead>\n",
       "    <tr style=\"text-align: right;\">\n",
       "      <th></th>\n",
       "      <th>composer</th>\n",
       "      <th>birth</th>\n",
       "      <th>death</th>\n",
       "      <th>city</th>\n",
       "      <th>age</th>\n",
       "      <th>categorical age</th>\n",
       "      <th>compact categorical age</th>\n",
       "    </tr>\n",
       "  </thead>\n",
       "  <tbody>\n",
       "    <tr>\n",
       "      <th>0</th>\n",
       "      <td>Mahler</td>\n",
       "      <td>1860</td>\n",
       "      <td>1911</td>\n",
       "      <td>Kaliste</td>\n",
       "      <td>51</td>\n",
       "      <td>young</td>\n",
       "      <td>young</td>\n",
       "    </tr>\n",
       "    <tr>\n",
       "      <th>1</th>\n",
       "      <td>Beethoven</td>\n",
       "      <td>1770</td>\n",
       "      <td>1827</td>\n",
       "      <td>Bonn</td>\n",
       "      <td>57</td>\n",
       "      <td>young</td>\n",
       "      <td>young</td>\n",
       "    </tr>\n",
       "    <tr>\n",
       "      <th>2</th>\n",
       "      <td>Puccini</td>\n",
       "      <td>1858</td>\n",
       "      <td>1924</td>\n",
       "      <td>Lucques</td>\n",
       "      <td>66</td>\n",
       "      <td>old</td>\n",
       "      <td>old</td>\n",
       "    </tr>\n",
       "    <tr>\n",
       "      <th>3</th>\n",
       "      <td>Shostakovich</td>\n",
       "      <td>1906</td>\n",
       "      <td>1975</td>\n",
       "      <td>Saint-Petersburg</td>\n",
       "      <td>69</td>\n",
       "      <td>old</td>\n",
       "      <td>old</td>\n",
       "    </tr>\n",
       "  </tbody>\n",
       "</table>\n",
       "</div>"
      ],
      "text/plain": [
       "       composer  birth  death              city  age categorical age  \\\n",
       "0        Mahler   1860   1911           Kaliste   51           young   \n",
       "1     Beethoven   1770   1827              Bonn   57           young   \n",
       "2       Puccini   1858   1924           Lucques   66             old   \n",
       "3  Shostakovich   1906   1975  Saint-Petersburg   69             old   \n",
       "\n",
       "  compact categorical age  \n",
       "0                   young  \n",
       "1                   young  \n",
       "2                     old  \n",
       "3                     old  "
      ]
     },
     "execution_count": 79,
     "metadata": {},
     "output_type": "execute_result"
    }
   ],
   "source": [
    "df['compact categorical age'] = df.age.apply(lambda x: 'old' if x > 60 else 'young') # as before, but more compact\n",
    "df"
   ]
  },
  {
   "cell_type": "markdown",
   "metadata": {},
   "source": [
    "### Value Counting"
   ]
  },
  {
   "cell_type": "code",
   "execution_count": 80,
   "metadata": {},
   "outputs": [
    {
     "data": {
      "text/plain": [
       "young    2\n",
       "old      2\n",
       "Name: categorical age, dtype: int64"
      ]
     },
     "execution_count": 80,
     "metadata": {},
     "output_type": "execute_result"
    }
   ],
   "source": [
    "df['categorical age'].value_counts()"
   ]
  },
  {
   "cell_type": "code",
   "execution_count": 81,
   "metadata": {},
   "outputs": [
    {
     "data": {
      "text/plain": [
       "array(['young', 'old'], dtype=object)"
      ]
     },
     "execution_count": 81,
     "metadata": {},
     "output_type": "execute_result"
    }
   ],
   "source": [
    "df['categorical age'].unique()"
   ]
  },
  {
   "cell_type": "markdown",
   "metadata": {},
   "source": [
    "# Data Splitting\n",
    "\n",
    "Often Pandas tables mix regular variables (e.g. the size of cells in microscopy images) with categorical variables (e.g. the type of cell to which they belong). In that case, it is quite usual to split the data using the category to do computations. Pandas allows to do this very easily."
   ]
  },
  {
   "cell_type": "markdown",
   "metadata": {},
   "source": [
    "## Grouping"
   ]
  },
  {
   "cell_type": "code",
   "execution_count": 114,
   "metadata": {},
   "outputs": [],
   "source": [
    "composers_df = pd.read_excel('dataset/composers.xlsx', index_col = 'composer', sheet_name='Sheet5')"
   ]
  },
  {
   "cell_type": "code",
   "execution_count": 115,
   "metadata": {},
   "outputs": [
    {
     "data": {
      "text/html": [
       "<div>\n",
       "<style scoped>\n",
       "    .dataframe tbody tr th:only-of-type {\n",
       "        vertical-align: middle;\n",
       "    }\n",
       "\n",
       "    .dataframe tbody tr th {\n",
       "        vertical-align: top;\n",
       "    }\n",
       "\n",
       "    .dataframe thead th {\n",
       "        text-align: right;\n",
       "    }\n",
       "</style>\n",
       "<table border=\"1\" class=\"dataframe\">\n",
       "  <thead>\n",
       "    <tr style=\"text-align: right;\">\n",
       "      <th></th>\n",
       "      <th>birth</th>\n",
       "      <th>death</th>\n",
       "      <th>period</th>\n",
       "      <th>country</th>\n",
       "    </tr>\n",
       "    <tr>\n",
       "      <th>composer</th>\n",
       "      <th></th>\n",
       "      <th></th>\n",
       "      <th></th>\n",
       "      <th></th>\n",
       "    </tr>\n",
       "  </thead>\n",
       "  <tbody>\n",
       "    <tr>\n",
       "      <th>Mahler</th>\n",
       "      <td>1860</td>\n",
       "      <td>1911.0</td>\n",
       "      <td>post-romantic</td>\n",
       "      <td>Austria</td>\n",
       "    </tr>\n",
       "    <tr>\n",
       "      <th>Beethoven</th>\n",
       "      <td>1770</td>\n",
       "      <td>1827.0</td>\n",
       "      <td>romantic</td>\n",
       "      <td>Germany</td>\n",
       "    </tr>\n",
       "    <tr>\n",
       "      <th>Puccini</th>\n",
       "      <td>1858</td>\n",
       "      <td>1924.0</td>\n",
       "      <td>post-romantic</td>\n",
       "      <td>Italy</td>\n",
       "    </tr>\n",
       "    <tr>\n",
       "      <th>Shostakovich</th>\n",
       "      <td>1906</td>\n",
       "      <td>1975.0</td>\n",
       "      <td>modern</td>\n",
       "      <td>Russia</td>\n",
       "    </tr>\n",
       "    <tr>\n",
       "      <th>Verdi</th>\n",
       "      <td>1813</td>\n",
       "      <td>1901.0</td>\n",
       "      <td>romantic</td>\n",
       "      <td>Italy</td>\n",
       "    </tr>\n",
       "    <tr>\n",
       "      <th>Dvorak</th>\n",
       "      <td>1841</td>\n",
       "      <td>1904.0</td>\n",
       "      <td>romantic</td>\n",
       "      <td>Czechia</td>\n",
       "    </tr>\n",
       "    <tr>\n",
       "      <th>Schumann</th>\n",
       "      <td>1810</td>\n",
       "      <td>1856.0</td>\n",
       "      <td>romantic</td>\n",
       "      <td>Germany</td>\n",
       "    </tr>\n",
       "    <tr>\n",
       "      <th>Stravinsky</th>\n",
       "      <td>1882</td>\n",
       "      <td>1971.0</td>\n",
       "      <td>modern</td>\n",
       "      <td>Russia</td>\n",
       "    </tr>\n",
       "    <tr>\n",
       "      <th>Sibelius</th>\n",
       "      <td>1865</td>\n",
       "      <td>1957.0</td>\n",
       "      <td>post-romantic</td>\n",
       "      <td>Finland</td>\n",
       "    </tr>\n",
       "    <tr>\n",
       "      <th>Haydn</th>\n",
       "      <td>1732</td>\n",
       "      <td>1809.0</td>\n",
       "      <td>classic</td>\n",
       "      <td>Austria</td>\n",
       "    </tr>\n",
       "    <tr>\n",
       "      <th>Mozart</th>\n",
       "      <td>1756</td>\n",
       "      <td>1791.0</td>\n",
       "      <td>classic</td>\n",
       "      <td>Austria</td>\n",
       "    </tr>\n",
       "    <tr>\n",
       "      <th>Messiaen</th>\n",
       "      <td>1908</td>\n",
       "      <td>1992.0</td>\n",
       "      <td>modern</td>\n",
       "      <td>France</td>\n",
       "    </tr>\n",
       "    <tr>\n",
       "      <th>Prokofiev</th>\n",
       "      <td>1891</td>\n",
       "      <td>1953.0</td>\n",
       "      <td>modern</td>\n",
       "      <td>RUssia</td>\n",
       "    </tr>\n",
       "    <tr>\n",
       "      <th>Monteverdi</th>\n",
       "      <td>1567</td>\n",
       "      <td>1643.0</td>\n",
       "      <td>renaissance</td>\n",
       "      <td>Italy</td>\n",
       "    </tr>\n",
       "    <tr>\n",
       "      <th>Haendel</th>\n",
       "      <td>1685</td>\n",
       "      <td>1759.0</td>\n",
       "      <td>baroque</td>\n",
       "      <td>Germany</td>\n",
       "    </tr>\n",
       "    <tr>\n",
       "      <th>Brahms</th>\n",
       "      <td>1833</td>\n",
       "      <td>1897.0</td>\n",
       "      <td>romantic</td>\n",
       "      <td>Germany</td>\n",
       "    </tr>\n",
       "    <tr>\n",
       "      <th>Purcell</th>\n",
       "      <td>1659</td>\n",
       "      <td>1695.0</td>\n",
       "      <td>baroque</td>\n",
       "      <td>England</td>\n",
       "    </tr>\n",
       "    <tr>\n",
       "      <th>Charpentier</th>\n",
       "      <td>1643</td>\n",
       "      <td>1704.0</td>\n",
       "      <td>baroque</td>\n",
       "      <td>France</td>\n",
       "    </tr>\n",
       "    <tr>\n",
       "      <th>Bruckner</th>\n",
       "      <td>1824</td>\n",
       "      <td>1896.0</td>\n",
       "      <td>post-romantic</td>\n",
       "      <td>Austria</td>\n",
       "    </tr>\n",
       "    <tr>\n",
       "      <th>Berg</th>\n",
       "      <td>1885</td>\n",
       "      <td>1935.0</td>\n",
       "      <td>modern</td>\n",
       "      <td>Austria</td>\n",
       "    </tr>\n",
       "    <tr>\n",
       "      <th>Couperin</th>\n",
       "      <td>1626</td>\n",
       "      <td>1661.0</td>\n",
       "      <td>baroque</td>\n",
       "      <td>France</td>\n",
       "    </tr>\n",
       "    <tr>\n",
       "      <th>Rameau</th>\n",
       "      <td>1683</td>\n",
       "      <td>1764.0</td>\n",
       "      <td>baroque</td>\n",
       "      <td>France</td>\n",
       "    </tr>\n",
       "    <tr>\n",
       "      <th>Berlioz</th>\n",
       "      <td>1803</td>\n",
       "      <td>1869.0</td>\n",
       "      <td>romantic</td>\n",
       "      <td>France</td>\n",
       "    </tr>\n",
       "    <tr>\n",
       "      <th>Gounod</th>\n",
       "      <td>1818</td>\n",
       "      <td>1893.0</td>\n",
       "      <td>romantic</td>\n",
       "      <td>France</td>\n",
       "    </tr>\n",
       "    <tr>\n",
       "      <th>Massenet</th>\n",
       "      <td>1842</td>\n",
       "      <td>1912.0</td>\n",
       "      <td>romantic</td>\n",
       "      <td>France</td>\n",
       "    </tr>\n",
       "    <tr>\n",
       "      <th>Boulez</th>\n",
       "      <td>1925</td>\n",
       "      <td>2016.0</td>\n",
       "      <td>modern</td>\n",
       "      <td>France</td>\n",
       "    </tr>\n",
       "    <tr>\n",
       "      <th>Palestrina</th>\n",
       "      <td>1525</td>\n",
       "      <td>1594.0</td>\n",
       "      <td>renaissance</td>\n",
       "      <td>Italy</td>\n",
       "    </tr>\n",
       "    <tr>\n",
       "      <th>Gesualdo</th>\n",
       "      <td>1566</td>\n",
       "      <td>1613.0</td>\n",
       "      <td>renaissance</td>\n",
       "      <td>Italy</td>\n",
       "    </tr>\n",
       "    <tr>\n",
       "      <th>Caldara</th>\n",
       "      <td>1670</td>\n",
       "      <td>1736.0</td>\n",
       "      <td>baroque</td>\n",
       "      <td>Italy</td>\n",
       "    </tr>\n",
       "    <tr>\n",
       "      <th>Pergolesi</th>\n",
       "      <td>1710</td>\n",
       "      <td>1736.0</td>\n",
       "      <td>baroque</td>\n",
       "      <td>Italy</td>\n",
       "    </tr>\n",
       "    <tr>\n",
       "      <th>Scarlatti</th>\n",
       "      <td>1685</td>\n",
       "      <td>1757.0</td>\n",
       "      <td>baroque</td>\n",
       "      <td>Italy</td>\n",
       "    </tr>\n",
       "    <tr>\n",
       "      <th>Caccini</th>\n",
       "      <td>1587</td>\n",
       "      <td>1640.0</td>\n",
       "      <td>baroque</td>\n",
       "      <td>Italy</td>\n",
       "    </tr>\n",
       "    <tr>\n",
       "      <th>Cimarosa</th>\n",
       "      <td>1749</td>\n",
       "      <td>1801.0</td>\n",
       "      <td>classic</td>\n",
       "      <td>Italy</td>\n",
       "    </tr>\n",
       "    <tr>\n",
       "      <th>Donizetti</th>\n",
       "      <td>1797</td>\n",
       "      <td>1848.0</td>\n",
       "      <td>romantic</td>\n",
       "      <td>Italy</td>\n",
       "    </tr>\n",
       "    <tr>\n",
       "      <th>Leoncavallo</th>\n",
       "      <td>1858</td>\n",
       "      <td>1919.0</td>\n",
       "      <td>romantic</td>\n",
       "      <td>Italy</td>\n",
       "    </tr>\n",
       "    <tr>\n",
       "      <th>Bellini</th>\n",
       "      <td>1801</td>\n",
       "      <td>1835.0</td>\n",
       "      <td>romantic</td>\n",
       "      <td>Italy</td>\n",
       "    </tr>\n",
       "    <tr>\n",
       "      <th>Dufay</th>\n",
       "      <td>1397</td>\n",
       "      <td>1474.0</td>\n",
       "      <td>renaissance</td>\n",
       "      <td>Belgium</td>\n",
       "    </tr>\n",
       "    <tr>\n",
       "      <th>Lassus</th>\n",
       "      <td>1532</td>\n",
       "      <td>1594.0</td>\n",
       "      <td>renaissance</td>\n",
       "      <td>Belgium</td>\n",
       "    </tr>\n",
       "    <tr>\n",
       "      <th>Borodin</th>\n",
       "      <td>1833</td>\n",
       "      <td>1887.0</td>\n",
       "      <td>romantic</td>\n",
       "      <td>Russia</td>\n",
       "    </tr>\n",
       "    <tr>\n",
       "      <th>Mussorsgsky</th>\n",
       "      <td>1839</td>\n",
       "      <td>1881.0</td>\n",
       "      <td>romantic</td>\n",
       "      <td>Russia</td>\n",
       "    </tr>\n",
       "    <tr>\n",
       "      <th>Soler</th>\n",
       "      <td>1754</td>\n",
       "      <td>1806.0</td>\n",
       "      <td>classic</td>\n",
       "      <td>Spain</td>\n",
       "    </tr>\n",
       "    <tr>\n",
       "      <th>Albeniz</th>\n",
       "      <td>1860</td>\n",
       "      <td>1909.0</td>\n",
       "      <td>romantic</td>\n",
       "      <td>Spain</td>\n",
       "    </tr>\n",
       "    <tr>\n",
       "      <th>Granados</th>\n",
       "      <td>1867</td>\n",
       "      <td>1916.0</td>\n",
       "      <td>romantic</td>\n",
       "      <td>Spain</td>\n",
       "    </tr>\n",
       "    <tr>\n",
       "      <th>Dowland</th>\n",
       "      <td>1563</td>\n",
       "      <td>1626.0</td>\n",
       "      <td>renaissance</td>\n",
       "      <td>England</td>\n",
       "    </tr>\n",
       "    <tr>\n",
       "      <th>Byrd</th>\n",
       "      <td>1540</td>\n",
       "      <td>1623.0</td>\n",
       "      <td>renaissance</td>\n",
       "      <td>England</td>\n",
       "    </tr>\n",
       "    <tr>\n",
       "      <th>Walton</th>\n",
       "      <td>1902</td>\n",
       "      <td>1983.0</td>\n",
       "      <td>modern</td>\n",
       "      <td>England</td>\n",
       "    </tr>\n",
       "    <tr>\n",
       "      <th>Adès</th>\n",
       "      <td>1971</td>\n",
       "      <td>NaN</td>\n",
       "      <td>modern</td>\n",
       "      <td>England</td>\n",
       "    </tr>\n",
       "    <tr>\n",
       "      <th>Bach</th>\n",
       "      <td>1685</td>\n",
       "      <td>1750.0</td>\n",
       "      <td>baroque</td>\n",
       "      <td>Germany</td>\n",
       "    </tr>\n",
       "    <tr>\n",
       "      <th>Wagner</th>\n",
       "      <td>1813</td>\n",
       "      <td>1883.0</td>\n",
       "      <td>romantic</td>\n",
       "      <td>Germany</td>\n",
       "    </tr>\n",
       "    <tr>\n",
       "      <th>Strauss</th>\n",
       "      <td>1864</td>\n",
       "      <td>1949.0</td>\n",
       "      <td>post-romantic</td>\n",
       "      <td>Germany</td>\n",
       "    </tr>\n",
       "    <tr>\n",
       "      <th>Orff</th>\n",
       "      <td>1895</td>\n",
       "      <td>1982.0</td>\n",
       "      <td>modern</td>\n",
       "      <td>Germany</td>\n",
       "    </tr>\n",
       "    <tr>\n",
       "      <th>Dusek</th>\n",
       "      <td>1731</td>\n",
       "      <td>1799.0</td>\n",
       "      <td>classic</td>\n",
       "      <td>Czechia</td>\n",
       "    </tr>\n",
       "    <tr>\n",
       "      <th>Smetana</th>\n",
       "      <td>1824</td>\n",
       "      <td>1884.0</td>\n",
       "      <td>romantic</td>\n",
       "      <td>Czechia</td>\n",
       "    </tr>\n",
       "    <tr>\n",
       "      <th>Janacek</th>\n",
       "      <td>1854</td>\n",
       "      <td>1928.0</td>\n",
       "      <td>modern</td>\n",
       "      <td>Czechia</td>\n",
       "    </tr>\n",
       "    <tr>\n",
       "      <th>Copland</th>\n",
       "      <td>1900</td>\n",
       "      <td>1990.0</td>\n",
       "      <td>modern</td>\n",
       "      <td>USA</td>\n",
       "    </tr>\n",
       "    <tr>\n",
       "      <th>Bernstein</th>\n",
       "      <td>1918</td>\n",
       "      <td>1990.0</td>\n",
       "      <td>modern</td>\n",
       "      <td>USA</td>\n",
       "    </tr>\n",
       "    <tr>\n",
       "      <th>Glass</th>\n",
       "      <td>1937</td>\n",
       "      <td>NaN</td>\n",
       "      <td>modern</td>\n",
       "      <td>USA</td>\n",
       "    </tr>\n",
       "  </tbody>\n",
       "</table>\n",
       "</div>"
      ],
      "text/plain": [
       "              birth   death         period  country\n",
       "composer                                           \n",
       "Mahler         1860  1911.0  post-romantic  Austria\n",
       "Beethoven      1770  1827.0       romantic  Germany\n",
       "Puccini        1858  1924.0  post-romantic    Italy\n",
       "Shostakovich   1906  1975.0         modern   Russia\n",
       "Verdi          1813  1901.0       romantic    Italy\n",
       "Dvorak         1841  1904.0       romantic  Czechia\n",
       "Schumann       1810  1856.0       romantic  Germany\n",
       "Stravinsky     1882  1971.0         modern   Russia\n",
       "Sibelius       1865  1957.0  post-romantic  Finland\n",
       "Haydn          1732  1809.0        classic  Austria\n",
       "Mozart         1756  1791.0        classic  Austria\n",
       "Messiaen       1908  1992.0         modern   France\n",
       "Prokofiev      1891  1953.0         modern   RUssia\n",
       "Monteverdi     1567  1643.0    renaissance    Italy\n",
       "Haendel        1685  1759.0        baroque  Germany\n",
       "Brahms         1833  1897.0       romantic  Germany\n",
       "Purcell        1659  1695.0        baroque  England\n",
       "Charpentier    1643  1704.0        baroque   France\n",
       "Bruckner       1824  1896.0  post-romantic  Austria\n",
       "Berg           1885  1935.0         modern  Austria\n",
       "Couperin       1626  1661.0        baroque   France\n",
       "Rameau         1683  1764.0        baroque   France\n",
       "Berlioz        1803  1869.0       romantic   France\n",
       "Gounod         1818  1893.0       romantic   France\n",
       "Massenet       1842  1912.0       romantic   France\n",
       "Boulez         1925  2016.0         modern   France\n",
       "Palestrina     1525  1594.0    renaissance    Italy\n",
       "Gesualdo       1566  1613.0    renaissance    Italy\n",
       "Caldara        1670  1736.0        baroque    Italy\n",
       "Pergolesi      1710  1736.0        baroque    Italy\n",
       "Scarlatti      1685  1757.0        baroque    Italy\n",
       "Caccini        1587  1640.0        baroque    Italy\n",
       "Cimarosa       1749  1801.0        classic    Italy\n",
       "Donizetti      1797  1848.0       romantic    Italy\n",
       "Leoncavallo    1858  1919.0       romantic    Italy\n",
       "Bellini        1801  1835.0       romantic    Italy\n",
       "Dufay          1397  1474.0    renaissance  Belgium\n",
       "Lassus         1532  1594.0    renaissance  Belgium\n",
       "Borodin        1833  1887.0       romantic   Russia\n",
       "Mussorsgsky    1839  1881.0       romantic   Russia\n",
       "Soler          1754  1806.0        classic    Spain\n",
       "Albeniz        1860  1909.0       romantic    Spain\n",
       "Granados       1867  1916.0       romantic    Spain\n",
       "Dowland        1563  1626.0    renaissance  England\n",
       "Byrd           1540  1623.0    renaissance  England\n",
       "Walton         1902  1983.0         modern  England\n",
       "Adès           1971     NaN         modern  England\n",
       "Bach           1685  1750.0        baroque  Germany\n",
       "Wagner         1813  1883.0       romantic  Germany\n",
       "Strauss        1864  1949.0  post-romantic  Germany\n",
       "Orff           1895  1982.0         modern  Germany\n",
       "Dusek          1731  1799.0        classic  Czechia\n",
       "Smetana        1824  1884.0       romantic  Czechia\n",
       "Janacek        1854  1928.0         modern  Czechia\n",
       "Copland        1900  1990.0         modern      USA\n",
       "Bernstein      1918  1990.0         modern      USA\n",
       "Glass          1937     NaN         modern      USA"
      ]
     },
     "execution_count": 115,
     "metadata": {},
     "output_type": "execute_result"
    }
   ],
   "source": [
    "composers_df"
   ]
  },
  {
   "cell_type": "code",
   "execution_count": 116,
   "metadata": {
    "ExecuteTime": {
     "end_time": "2020-06-25T08:56:13.601372Z",
     "start_time": "2020-06-25T08:56:13.518195Z"
    },
    "scrolled": true
   },
   "outputs": [
    {
     "data": {
      "text/html": [
       "<div>\n",
       "<style scoped>\n",
       "    .dataframe tbody tr th:only-of-type {\n",
       "        vertical-align: middle;\n",
       "    }\n",
       "\n",
       "    .dataframe tbody tr th {\n",
       "        vertical-align: top;\n",
       "    }\n",
       "\n",
       "    .dataframe thead th {\n",
       "        text-align: right;\n",
       "    }\n",
       "</style>\n",
       "<table border=\"1\" class=\"dataframe\">\n",
       "  <thead>\n",
       "    <tr style=\"text-align: right;\">\n",
       "      <th></th>\n",
       "      <th>birth</th>\n",
       "      <th>death</th>\n",
       "      <th>period</th>\n",
       "      <th>country</th>\n",
       "    </tr>\n",
       "    <tr>\n",
       "      <th>composer</th>\n",
       "      <th></th>\n",
       "      <th></th>\n",
       "      <th></th>\n",
       "      <th></th>\n",
       "    </tr>\n",
       "  </thead>\n",
       "  <tbody>\n",
       "    <tr>\n",
       "      <th>Mahler</th>\n",
       "      <td>1860</td>\n",
       "      <td>1911.0</td>\n",
       "      <td>post-romantic</td>\n",
       "      <td>Austria</td>\n",
       "    </tr>\n",
       "    <tr>\n",
       "      <th>Beethoven</th>\n",
       "      <td>1770</td>\n",
       "      <td>1827.0</td>\n",
       "      <td>romantic</td>\n",
       "      <td>Germany</td>\n",
       "    </tr>\n",
       "    <tr>\n",
       "      <th>Puccini</th>\n",
       "      <td>1858</td>\n",
       "      <td>1924.0</td>\n",
       "      <td>post-romantic</td>\n",
       "      <td>Italy</td>\n",
       "    </tr>\n",
       "    <tr>\n",
       "      <th>Shostakovich</th>\n",
       "      <td>1906</td>\n",
       "      <td>1975.0</td>\n",
       "      <td>modern</td>\n",
       "      <td>Russia</td>\n",
       "    </tr>\n",
       "    <tr>\n",
       "      <th>Verdi</th>\n",
       "      <td>1813</td>\n",
       "      <td>1901.0</td>\n",
       "      <td>romantic</td>\n",
       "      <td>Italy</td>\n",
       "    </tr>\n",
       "  </tbody>\n",
       "</table>\n",
       "</div>"
      ],
      "text/plain": [
       "              birth   death         period  country\n",
       "composer                                           \n",
       "Mahler         1860  1911.0  post-romantic  Austria\n",
       "Beethoven      1770  1827.0       romantic  Germany\n",
       "Puccini        1858  1924.0  post-romantic    Italy\n",
       "Shostakovich   1906  1975.0         modern   Russia\n",
       "Verdi          1813  1901.0       romantic    Italy"
      ]
     },
     "execution_count": 116,
     "metadata": {},
     "output_type": "execute_result"
    }
   ],
   "source": [
    "composers_df.head()"
   ]
  },
  {
   "cell_type": "markdown",
   "metadata": {},
   "source": [
    "What if we want now to count how many composers we have in each category? \n",
    "\n",
    "Pandas simplifies this with the `groupby()` function, which actually groups elements by a certain criteria, e.g. a categorical variable like the period:"
   ]
  },
  {
   "cell_type": "code",
   "execution_count": 117,
   "metadata": {
    "ExecuteTime": {
     "end_time": "2020-06-25T08:57:05.723610Z",
     "start_time": "2020-06-25T08:57:05.693209Z"
    }
   },
   "outputs": [
    {
     "data": {
      "text/plain": [
       "<pandas.core.groupby.generic.DataFrameGroupBy object at 0x14cd7b550>"
      ]
     },
     "execution_count": 117,
     "metadata": {},
     "output_type": "execute_result"
    }
   ],
   "source": [
    "composer_grouped = composers_df.groupby('period')\n",
    "composer_grouped"
   ]
  },
  {
   "cell_type": "markdown",
   "metadata": {},
   "source": [
    "The output is a bit cryptic. What we actually have is a new object called *group* which has a lot of handy properties. First let's see what the groups actually are. As for the Dataframe, let's look at a summary of the object:"
   ]
  },
  {
   "cell_type": "code",
   "execution_count": 118,
   "metadata": {
    "ExecuteTime": {
     "end_time": "2020-06-25T08:57:44.681494Z",
     "start_time": "2020-06-25T08:57:44.486278Z"
    }
   },
   "outputs": [
    {
     "data": {
      "text/html": [
       "<div>\n",
       "<style scoped>\n",
       "    .dataframe tbody tr th:only-of-type {\n",
       "        vertical-align: middle;\n",
       "    }\n",
       "\n",
       "    .dataframe tbody tr th {\n",
       "        vertical-align: top;\n",
       "    }\n",
       "\n",
       "    .dataframe thead tr th {\n",
       "        text-align: left;\n",
       "    }\n",
       "\n",
       "    .dataframe thead tr:last-of-type th {\n",
       "        text-align: right;\n",
       "    }\n",
       "</style>\n",
       "<table border=\"1\" class=\"dataframe\">\n",
       "  <thead>\n",
       "    <tr>\n",
       "      <th></th>\n",
       "      <th colspan=\"8\" halign=\"left\">birth</th>\n",
       "      <th colspan=\"8\" halign=\"left\">death</th>\n",
       "    </tr>\n",
       "    <tr>\n",
       "      <th></th>\n",
       "      <th>count</th>\n",
       "      <th>mean</th>\n",
       "      <th>std</th>\n",
       "      <th>min</th>\n",
       "      <th>25%</th>\n",
       "      <th>50%</th>\n",
       "      <th>75%</th>\n",
       "      <th>max</th>\n",
       "      <th>count</th>\n",
       "      <th>mean</th>\n",
       "      <th>std</th>\n",
       "      <th>min</th>\n",
       "      <th>25%</th>\n",
       "      <th>50%</th>\n",
       "      <th>75%</th>\n",
       "      <th>max</th>\n",
       "    </tr>\n",
       "    <tr>\n",
       "      <th>period</th>\n",
       "      <th></th>\n",
       "      <th></th>\n",
       "      <th></th>\n",
       "      <th></th>\n",
       "      <th></th>\n",
       "      <th></th>\n",
       "      <th></th>\n",
       "      <th></th>\n",
       "      <th></th>\n",
       "      <th></th>\n",
       "      <th></th>\n",
       "      <th></th>\n",
       "      <th></th>\n",
       "      <th></th>\n",
       "      <th></th>\n",
       "      <th></th>\n",
       "    </tr>\n",
       "  </thead>\n",
       "  <tbody>\n",
       "    <tr>\n",
       "      <th>baroque</th>\n",
       "      <td>10.0</td>\n",
       "      <td>1663.300000</td>\n",
       "      <td>36.009412</td>\n",
       "      <td>1587.0</td>\n",
       "      <td>1647.0</td>\n",
       "      <td>1676.5</td>\n",
       "      <td>1685.0</td>\n",
       "      <td>1710.0</td>\n",
       "      <td>10.0</td>\n",
       "      <td>1720.200000</td>\n",
       "      <td>43.460838</td>\n",
       "      <td>1640.0</td>\n",
       "      <td>1697.25</td>\n",
       "      <td>1736.0</td>\n",
       "      <td>1755.25</td>\n",
       "      <td>1764.0</td>\n",
       "    </tr>\n",
       "    <tr>\n",
       "      <th>classic</th>\n",
       "      <td>5.0</td>\n",
       "      <td>1744.400000</td>\n",
       "      <td>12.054045</td>\n",
       "      <td>1731.0</td>\n",
       "      <td>1732.0</td>\n",
       "      <td>1749.0</td>\n",
       "      <td>1754.0</td>\n",
       "      <td>1756.0</td>\n",
       "      <td>5.0</td>\n",
       "      <td>1801.200000</td>\n",
       "      <td>6.942622</td>\n",
       "      <td>1791.0</td>\n",
       "      <td>1799.00</td>\n",
       "      <td>1801.0</td>\n",
       "      <td>1806.00</td>\n",
       "      <td>1809.0</td>\n",
       "    </tr>\n",
       "    <tr>\n",
       "      <th>modern</th>\n",
       "      <td>13.0</td>\n",
       "      <td>1905.692308</td>\n",
       "      <td>28.595992</td>\n",
       "      <td>1854.0</td>\n",
       "      <td>1891.0</td>\n",
       "      <td>1902.0</td>\n",
       "      <td>1918.0</td>\n",
       "      <td>1971.0</td>\n",
       "      <td>11.0</td>\n",
       "      <td>1974.090909</td>\n",
       "      <td>26.139834</td>\n",
       "      <td>1928.0</td>\n",
       "      <td>1962.00</td>\n",
       "      <td>1982.0</td>\n",
       "      <td>1990.00</td>\n",
       "      <td>2016.0</td>\n",
       "    </tr>\n",
       "    <tr>\n",
       "      <th>post-romantic</th>\n",
       "      <td>5.0</td>\n",
       "      <td>1854.200000</td>\n",
       "      <td>17.123084</td>\n",
       "      <td>1824.0</td>\n",
       "      <td>1858.0</td>\n",
       "      <td>1860.0</td>\n",
       "      <td>1864.0</td>\n",
       "      <td>1865.0</td>\n",
       "      <td>5.0</td>\n",
       "      <td>1927.400000</td>\n",
       "      <td>25.540164</td>\n",
       "      <td>1896.0</td>\n",
       "      <td>1911.00</td>\n",
       "      <td>1924.0</td>\n",
       "      <td>1949.00</td>\n",
       "      <td>1957.0</td>\n",
       "    </tr>\n",
       "    <tr>\n",
       "      <th>renaissance</th>\n",
       "      <td>7.0</td>\n",
       "      <td>1527.142857</td>\n",
       "      <td>59.881629</td>\n",
       "      <td>1397.0</td>\n",
       "      <td>1528.5</td>\n",
       "      <td>1540.0</td>\n",
       "      <td>1564.5</td>\n",
       "      <td>1567.0</td>\n",
       "      <td>7.0</td>\n",
       "      <td>1595.285714</td>\n",
       "      <td>56.295986</td>\n",
       "      <td>1474.0</td>\n",
       "      <td>1594.00</td>\n",
       "      <td>1613.0</td>\n",
       "      <td>1624.50</td>\n",
       "      <td>1643.0</td>\n",
       "    </tr>\n",
       "    <tr>\n",
       "      <th>romantic</th>\n",
       "      <td>17.0</td>\n",
       "      <td>1824.823529</td>\n",
       "      <td>25.468695</td>\n",
       "      <td>1770.0</td>\n",
       "      <td>1810.0</td>\n",
       "      <td>1824.0</td>\n",
       "      <td>1841.0</td>\n",
       "      <td>1867.0</td>\n",
       "      <td>17.0</td>\n",
       "      <td>1883.588235</td>\n",
       "      <td>28.026904</td>\n",
       "      <td>1827.0</td>\n",
       "      <td>1869.00</td>\n",
       "      <td>1887.0</td>\n",
       "      <td>1904.00</td>\n",
       "      <td>1919.0</td>\n",
       "    </tr>\n",
       "  </tbody>\n",
       "</table>\n",
       "</div>"
      ],
      "text/plain": [
       "              birth                                                          \\\n",
       "              count         mean        std     min     25%     50%     75%   \n",
       "period                                                                        \n",
       "baroque        10.0  1663.300000  36.009412  1587.0  1647.0  1676.5  1685.0   \n",
       "classic         5.0  1744.400000  12.054045  1731.0  1732.0  1749.0  1754.0   \n",
       "modern         13.0  1905.692308  28.595992  1854.0  1891.0  1902.0  1918.0   \n",
       "post-romantic   5.0  1854.200000  17.123084  1824.0  1858.0  1860.0  1864.0   \n",
       "renaissance     7.0  1527.142857  59.881629  1397.0  1528.5  1540.0  1564.5   \n",
       "romantic       17.0  1824.823529  25.468695  1770.0  1810.0  1824.0  1841.0   \n",
       "\n",
       "                      death                                                   \\\n",
       "                  max count         mean        std     min      25%     50%   \n",
       "period                                                                         \n",
       "baroque        1710.0  10.0  1720.200000  43.460838  1640.0  1697.25  1736.0   \n",
       "classic        1756.0   5.0  1801.200000   6.942622  1791.0  1799.00  1801.0   \n",
       "modern         1971.0  11.0  1974.090909  26.139834  1928.0  1962.00  1982.0   \n",
       "post-romantic  1865.0   5.0  1927.400000  25.540164  1896.0  1911.00  1924.0   \n",
       "renaissance    1567.0   7.0  1595.285714  56.295986  1474.0  1594.00  1613.0   \n",
       "romantic       1867.0  17.0  1883.588235  28.026904  1827.0  1869.00  1887.0   \n",
       "\n",
       "                                \n",
       "                   75%     max  \n",
       "period                          \n",
       "baroque        1755.25  1764.0  \n",
       "classic        1806.00  1809.0  \n",
       "modern         1990.00  2016.0  \n",
       "post-romantic  1949.00  1957.0  \n",
       "renaissance    1624.50  1643.0  \n",
       "romantic       1904.00  1919.0  "
      ]
     },
     "execution_count": 118,
     "metadata": {},
     "output_type": "execute_result"
    }
   ],
   "source": [
    "composer_grouped.describe()"
   ]
  },
  {
   "cell_type": "markdown",
   "metadata": {},
   "source": [
    "So we have a dataframe with a statistical summary of the the contents. The \"names\" of the groups are here the indices of the Dataframe. These names are simply all the different categories that were present in the column we used for grouping. Now we can recover a single group:"
   ]
  },
  {
   "cell_type": "code",
   "execution_count": 119,
   "metadata": {
    "ExecuteTime": {
     "end_time": "2020-06-25T08:58:36.933456Z",
     "start_time": "2020-06-25T08:58:36.907796Z"
    }
   },
   "outputs": [
    {
     "data": {
      "text/html": [
       "<div>\n",
       "<style scoped>\n",
       "    .dataframe tbody tr th:only-of-type {\n",
       "        vertical-align: middle;\n",
       "    }\n",
       "\n",
       "    .dataframe tbody tr th {\n",
       "        vertical-align: top;\n",
       "    }\n",
       "\n",
       "    .dataframe thead th {\n",
       "        text-align: right;\n",
       "    }\n",
       "</style>\n",
       "<table border=\"1\" class=\"dataframe\">\n",
       "  <thead>\n",
       "    <tr style=\"text-align: right;\">\n",
       "      <th></th>\n",
       "      <th>birth</th>\n",
       "      <th>death</th>\n",
       "      <th>period</th>\n",
       "      <th>country</th>\n",
       "    </tr>\n",
       "    <tr>\n",
       "      <th>composer</th>\n",
       "      <th></th>\n",
       "      <th></th>\n",
       "      <th></th>\n",
       "      <th></th>\n",
       "    </tr>\n",
       "  </thead>\n",
       "  <tbody>\n",
       "    <tr>\n",
       "      <th>Haendel</th>\n",
       "      <td>1685</td>\n",
       "      <td>1759.0</td>\n",
       "      <td>baroque</td>\n",
       "      <td>Germany</td>\n",
       "    </tr>\n",
       "    <tr>\n",
       "      <th>Purcell</th>\n",
       "      <td>1659</td>\n",
       "      <td>1695.0</td>\n",
       "      <td>baroque</td>\n",
       "      <td>England</td>\n",
       "    </tr>\n",
       "    <tr>\n",
       "      <th>Charpentier</th>\n",
       "      <td>1643</td>\n",
       "      <td>1704.0</td>\n",
       "      <td>baroque</td>\n",
       "      <td>France</td>\n",
       "    </tr>\n",
       "    <tr>\n",
       "      <th>Couperin</th>\n",
       "      <td>1626</td>\n",
       "      <td>1661.0</td>\n",
       "      <td>baroque</td>\n",
       "      <td>France</td>\n",
       "    </tr>\n",
       "    <tr>\n",
       "      <th>Rameau</th>\n",
       "      <td>1683</td>\n",
       "      <td>1764.0</td>\n",
       "      <td>baroque</td>\n",
       "      <td>France</td>\n",
       "    </tr>\n",
       "    <tr>\n",
       "      <th>Caldara</th>\n",
       "      <td>1670</td>\n",
       "      <td>1736.0</td>\n",
       "      <td>baroque</td>\n",
       "      <td>Italy</td>\n",
       "    </tr>\n",
       "    <tr>\n",
       "      <th>Pergolesi</th>\n",
       "      <td>1710</td>\n",
       "      <td>1736.0</td>\n",
       "      <td>baroque</td>\n",
       "      <td>Italy</td>\n",
       "    </tr>\n",
       "    <tr>\n",
       "      <th>Scarlatti</th>\n",
       "      <td>1685</td>\n",
       "      <td>1757.0</td>\n",
       "      <td>baroque</td>\n",
       "      <td>Italy</td>\n",
       "    </tr>\n",
       "    <tr>\n",
       "      <th>Caccini</th>\n",
       "      <td>1587</td>\n",
       "      <td>1640.0</td>\n",
       "      <td>baroque</td>\n",
       "      <td>Italy</td>\n",
       "    </tr>\n",
       "    <tr>\n",
       "      <th>Bach</th>\n",
       "      <td>1685</td>\n",
       "      <td>1750.0</td>\n",
       "      <td>baroque</td>\n",
       "      <td>Germany</td>\n",
       "    </tr>\n",
       "  </tbody>\n",
       "</table>\n",
       "</div>"
      ],
      "text/plain": [
       "             birth   death   period  country\n",
       "composer                                    \n",
       "Haendel       1685  1759.0  baroque  Germany\n",
       "Purcell       1659  1695.0  baroque  England\n",
       "Charpentier   1643  1704.0  baroque   France\n",
       "Couperin      1626  1661.0  baroque   France\n",
       "Rameau        1683  1764.0  baroque   France\n",
       "Caldara       1670  1736.0  baroque    Italy\n",
       "Pergolesi     1710  1736.0  baroque    Italy\n",
       "Scarlatti     1685  1757.0  baroque    Italy\n",
       "Caccini       1587  1640.0  baroque    Italy\n",
       "Bach          1685  1750.0  baroque  Germany"
      ]
     },
     "execution_count": 119,
     "metadata": {},
     "output_type": "execute_result"
    }
   ],
   "source": [
    "composer_grouped.get_group('baroque')"
   ]
  },
  {
   "cell_type": "markdown",
   "metadata": {},
   "source": [
    "If one has multiple categorical variables, one can also do a grouping on several levels. For example here we want to classify composers both by period and country. For this we just give two column names to the `groupby()` function:\n"
   ]
  },
  {
   "cell_type": "code",
   "execution_count": 120,
   "metadata": {
    "ExecuteTime": {
     "end_time": "2020-06-25T08:59:41.133661Z",
     "start_time": "2020-06-25T08:59:41.051149Z"
    }
   },
   "outputs": [
    {
     "data": {
      "text/html": [
       "<div>\n",
       "<style scoped>\n",
       "    .dataframe tbody tr th:only-of-type {\n",
       "        vertical-align: middle;\n",
       "    }\n",
       "\n",
       "    .dataframe tbody tr th {\n",
       "        vertical-align: top;\n",
       "    }\n",
       "\n",
       "    .dataframe thead th {\n",
       "        text-align: right;\n",
       "    }\n",
       "</style>\n",
       "<table border=\"1\" class=\"dataframe\">\n",
       "  <thead>\n",
       "    <tr style=\"text-align: right;\">\n",
       "      <th></th>\n",
       "      <th>birth</th>\n",
       "      <th>death</th>\n",
       "      <th>period</th>\n",
       "      <th>country</th>\n",
       "    </tr>\n",
       "    <tr>\n",
       "      <th>composer</th>\n",
       "      <th></th>\n",
       "      <th></th>\n",
       "      <th></th>\n",
       "      <th></th>\n",
       "    </tr>\n",
       "  </thead>\n",
       "  <tbody>\n",
       "    <tr>\n",
       "      <th>Haendel</th>\n",
       "      <td>1685</td>\n",
       "      <td>1759.0</td>\n",
       "      <td>baroque</td>\n",
       "      <td>Germany</td>\n",
       "    </tr>\n",
       "    <tr>\n",
       "      <th>Bach</th>\n",
       "      <td>1685</td>\n",
       "      <td>1750.0</td>\n",
       "      <td>baroque</td>\n",
       "      <td>Germany</td>\n",
       "    </tr>\n",
       "  </tbody>\n",
       "</table>\n",
       "</div>"
      ],
      "text/plain": [
       "          birth   death   period  country\n",
       "composer                                 \n",
       "Haendel    1685  1759.0  baroque  Germany\n",
       "Bach       1685  1750.0  baroque  Germany"
      ]
     },
     "execution_count": 120,
     "metadata": {},
     "output_type": "execute_result"
    }
   ],
   "source": [
    "composer_grouped = composers_df.groupby(['period','country'])\n",
    "composer_grouped.get_group(('baroque','Germany'))"
   ]
  },
  {
   "cell_type": "code",
   "execution_count": 121,
   "metadata": {},
   "outputs": [
    {
     "name": "stdout",
     "output_type": "stream",
     "text": [
      "('baroque', 'England')\n",
      "('baroque', 'France')\n",
      "('baroque', 'Germany')\n",
      "('baroque', 'Italy')\n",
      "('classic', 'Austria')\n",
      "('classic', 'Czechia')\n",
      "('classic', 'Italy')\n",
      "('classic', 'Spain')\n",
      "('modern', 'Austria')\n",
      "('modern', 'Czechia')\n",
      "('modern', 'England')\n",
      "('modern', 'France')\n",
      "('modern', 'Germany')\n",
      "('modern', 'RUssia')\n",
      "('modern', 'Russia')\n",
      "('modern', 'USA')\n",
      "('post-romantic', 'Austria')\n",
      "('post-romantic', 'Finland')\n",
      "('post-romantic', 'Germany')\n",
      "('post-romantic', 'Italy')\n",
      "('renaissance', 'Belgium')\n",
      "('renaissance', 'England')\n",
      "('renaissance', 'Italy')\n",
      "('romantic', 'Czechia')\n",
      "('romantic', 'France')\n",
      "('romantic', 'Germany')\n",
      "('romantic', 'Italy')\n",
      "('romantic', 'Russia')\n",
      "('romantic', 'Spain')\n"
     ]
    }
   ],
   "source": [
    "for k,v in composer_grouped:\n",
    "    print(k)\n",
    "#     display(v)"
   ]
  },
  {
   "cell_type": "markdown",
   "metadata": {},
   "source": [
    "The main advantage of this Group object is that it allows us to do very quickly both computations and plotting without having to loop through different categories. Indeed Pandas makes all the work for us: it applies functions on each group and then reassembles the results into a Dataframe (or Series depending on output).\n",
    "For example we can apply most functions we used for Dataframes (mean, sum etc.) on groups as well and Pandas seamlessly does the work for us."
   ]
  },
  {
   "cell_type": "markdown",
   "metadata": {},
   "source": [
    "### Grouping on index"
   ]
  },
  {
   "cell_type": "code",
   "execution_count": 122,
   "metadata": {},
   "outputs": [
    {
     "data": {
      "text/html": [
       "<div>\n",
       "<style scoped>\n",
       "    .dataframe tbody tr th:only-of-type {\n",
       "        vertical-align: middle;\n",
       "    }\n",
       "\n",
       "    .dataframe tbody tr th {\n",
       "        vertical-align: top;\n",
       "    }\n",
       "\n",
       "    .dataframe thead th {\n",
       "        text-align: right;\n",
       "    }\n",
       "</style>\n",
       "<table border=\"1\" class=\"dataframe\">\n",
       "  <thead>\n",
       "    <tr style=\"text-align: right;\">\n",
       "      <th></th>\n",
       "      <th>a</th>\n",
       "      <th>b</th>\n",
       "    </tr>\n",
       "  </thead>\n",
       "  <tbody>\n",
       "    <tr>\n",
       "      <th>0</th>\n",
       "      <td>1</td>\n",
       "      <td>4</td>\n",
       "    </tr>\n",
       "    <tr>\n",
       "      <th>1</th>\n",
       "      <td>2</td>\n",
       "      <td>5</td>\n",
       "    </tr>\n",
       "    <tr>\n",
       "      <th>2</th>\n",
       "      <td>3</td>\n",
       "      <td>6</td>\n",
       "    </tr>\n",
       "  </tbody>\n",
       "</table>\n",
       "</div>"
      ],
      "text/plain": [
       "   a  b\n",
       "0  1  4\n",
       "1  2  5\n",
       "2  3  6"
      ]
     },
     "execution_count": 122,
     "metadata": {},
     "output_type": "execute_result"
    }
   ],
   "source": [
    "df1 = pd.DataFrame({'a':[1,2,3], 'b':[4,5,6]})\n",
    "df1"
   ]
  },
  {
   "cell_type": "code",
   "execution_count": 123,
   "metadata": {},
   "outputs": [
    {
     "data": {
      "text/html": [
       "<div>\n",
       "<style scoped>\n",
       "    .dataframe tbody tr th:only-of-type {\n",
       "        vertical-align: middle;\n",
       "    }\n",
       "\n",
       "    .dataframe tbody tr th {\n",
       "        vertical-align: top;\n",
       "    }\n",
       "\n",
       "    .dataframe thead th {\n",
       "        text-align: right;\n",
       "    }\n",
       "</style>\n",
       "<table border=\"1\" class=\"dataframe\">\n",
       "  <thead>\n",
       "    <tr style=\"text-align: right;\">\n",
       "      <th></th>\n",
       "      <th>a</th>\n",
       "      <th>b</th>\n",
       "    </tr>\n",
       "  </thead>\n",
       "  <tbody>\n",
       "    <tr>\n",
       "      <th>0</th>\n",
       "      <td>1</td>\n",
       "      <td>8</td>\n",
       "    </tr>\n",
       "    <tr>\n",
       "      <th>1</th>\n",
       "      <td>5</td>\n",
       "      <td>0</td>\n",
       "    </tr>\n",
       "  </tbody>\n",
       "</table>\n",
       "</div>"
      ],
      "text/plain": [
       "   a  b\n",
       "0  1  8\n",
       "1  5  0"
      ]
     },
     "execution_count": 123,
     "metadata": {},
     "output_type": "execute_result"
    }
   ],
   "source": [
    "df2 = pd.DataFrame({'a':[1,5], 'b':[8,0]})\n",
    "df2"
   ]
  },
  {
   "cell_type": "code",
   "execution_count": 124,
   "metadata": {},
   "outputs": [
    {
     "data": {
      "text/html": [
       "<div>\n",
       "<style scoped>\n",
       "    .dataframe tbody tr th:only-of-type {\n",
       "        vertical-align: middle;\n",
       "    }\n",
       "\n",
       "    .dataframe tbody tr th {\n",
       "        vertical-align: top;\n",
       "    }\n",
       "\n",
       "    .dataframe thead th {\n",
       "        text-align: right;\n",
       "    }\n",
       "</style>\n",
       "<table border=\"1\" class=\"dataframe\">\n",
       "  <thead>\n",
       "    <tr style=\"text-align: right;\">\n",
       "      <th></th>\n",
       "      <th>a</th>\n",
       "      <th>b</th>\n",
       "    </tr>\n",
       "  </thead>\n",
       "  <tbody>\n",
       "    <tr>\n",
       "      <th>0</th>\n",
       "      <td>1</td>\n",
       "      <td>4</td>\n",
       "    </tr>\n",
       "    <tr>\n",
       "      <th>1</th>\n",
       "      <td>2</td>\n",
       "      <td>5</td>\n",
       "    </tr>\n",
       "    <tr>\n",
       "      <th>2</th>\n",
       "      <td>3</td>\n",
       "      <td>6</td>\n",
       "    </tr>\n",
       "    <tr>\n",
       "      <th>0</th>\n",
       "      <td>1</td>\n",
       "      <td>8</td>\n",
       "    </tr>\n",
       "    <tr>\n",
       "      <th>1</th>\n",
       "      <td>5</td>\n",
       "      <td>0</td>\n",
       "    </tr>\n",
       "  </tbody>\n",
       "</table>\n",
       "</div>"
      ],
      "text/plain": [
       "   a  b\n",
       "0  1  4\n",
       "1  2  5\n",
       "2  3  6\n",
       "0  1  8\n",
       "1  5  0"
      ]
     },
     "execution_count": 124,
     "metadata": {},
     "output_type": "execute_result"
    }
   ],
   "source": [
    "df_concat = pd.concat([df1,df2])\n",
    "df_concat"
   ]
  },
  {
   "cell_type": "code",
   "execution_count": 125,
   "metadata": {},
   "outputs": [
    {
     "data": {
      "text/html": [
       "<div>\n",
       "<style scoped>\n",
       "    .dataframe tbody tr th:only-of-type {\n",
       "        vertical-align: middle;\n",
       "    }\n",
       "\n",
       "    .dataframe tbody tr th {\n",
       "        vertical-align: top;\n",
       "    }\n",
       "\n",
       "    .dataframe thead th {\n",
       "        text-align: right;\n",
       "    }\n",
       "</style>\n",
       "<table border=\"1\" class=\"dataframe\">\n",
       "  <thead>\n",
       "    <tr style=\"text-align: right;\">\n",
       "      <th></th>\n",
       "      <th>a</th>\n",
       "      <th>b</th>\n",
       "    </tr>\n",
       "  </thead>\n",
       "  <tbody>\n",
       "    <tr>\n",
       "      <th>0</th>\n",
       "      <td>1</td>\n",
       "      <td>4</td>\n",
       "    </tr>\n",
       "    <tr>\n",
       "      <th>0</th>\n",
       "      <td>1</td>\n",
       "      <td>8</td>\n",
       "    </tr>\n",
       "  </tbody>\n",
       "</table>\n",
       "</div>"
      ],
      "text/plain": [
       "   a  b\n",
       "0  1  4\n",
       "0  1  8"
      ]
     },
     "metadata": {},
     "output_type": "display_data"
    },
    {
     "data": {
      "text/html": [
       "<div>\n",
       "<style scoped>\n",
       "    .dataframe tbody tr th:only-of-type {\n",
       "        vertical-align: middle;\n",
       "    }\n",
       "\n",
       "    .dataframe tbody tr th {\n",
       "        vertical-align: top;\n",
       "    }\n",
       "\n",
       "    .dataframe thead th {\n",
       "        text-align: right;\n",
       "    }\n",
       "</style>\n",
       "<table border=\"1\" class=\"dataframe\">\n",
       "  <thead>\n",
       "    <tr style=\"text-align: right;\">\n",
       "      <th></th>\n",
       "      <th>a</th>\n",
       "      <th>b</th>\n",
       "    </tr>\n",
       "  </thead>\n",
       "  <tbody>\n",
       "    <tr>\n",
       "      <th>1</th>\n",
       "      <td>2</td>\n",
       "      <td>5</td>\n",
       "    </tr>\n",
       "    <tr>\n",
       "      <th>1</th>\n",
       "      <td>5</td>\n",
       "      <td>0</td>\n",
       "    </tr>\n",
       "  </tbody>\n",
       "</table>\n",
       "</div>"
      ],
      "text/plain": [
       "   a  b\n",
       "1  2  5\n",
       "1  5  0"
      ]
     },
     "metadata": {},
     "output_type": "display_data"
    },
    {
     "data": {
      "text/html": [
       "<div>\n",
       "<style scoped>\n",
       "    .dataframe tbody tr th:only-of-type {\n",
       "        vertical-align: middle;\n",
       "    }\n",
       "\n",
       "    .dataframe tbody tr th {\n",
       "        vertical-align: top;\n",
       "    }\n",
       "\n",
       "    .dataframe thead th {\n",
       "        text-align: right;\n",
       "    }\n",
       "</style>\n",
       "<table border=\"1\" class=\"dataframe\">\n",
       "  <thead>\n",
       "    <tr style=\"text-align: right;\">\n",
       "      <th></th>\n",
       "      <th>a</th>\n",
       "      <th>b</th>\n",
       "    </tr>\n",
       "  </thead>\n",
       "  <tbody>\n",
       "    <tr>\n",
       "      <th>2</th>\n",
       "      <td>3</td>\n",
       "      <td>6</td>\n",
       "    </tr>\n",
       "  </tbody>\n",
       "</table>\n",
       "</div>"
      ],
      "text/plain": [
       "   a  b\n",
       "2  3  6"
      ]
     },
     "metadata": {},
     "output_type": "display_data"
    }
   ],
   "source": [
    "by_row_index = df_concat.groupby(df_concat.index)\n",
    "for index_value, group in by_row_index:\n",
    "    display(group)"
   ]
  },
  {
   "cell_type": "code",
   "execution_count": 126,
   "metadata": {},
   "outputs": [
    {
     "data": {
      "text/html": [
       "<div>\n",
       "<style scoped>\n",
       "    .dataframe tbody tr th:only-of-type {\n",
       "        vertical-align: middle;\n",
       "    }\n",
       "\n",
       "    .dataframe tbody tr th {\n",
       "        vertical-align: top;\n",
       "    }\n",
       "\n",
       "    .dataframe thead th {\n",
       "        text-align: right;\n",
       "    }\n",
       "</style>\n",
       "<table border=\"1\" class=\"dataframe\">\n",
       "  <thead>\n",
       "    <tr style=\"text-align: right;\">\n",
       "      <th></th>\n",
       "      <th>a</th>\n",
       "      <th>b</th>\n",
       "    </tr>\n",
       "  </thead>\n",
       "  <tbody>\n",
       "    <tr>\n",
       "      <th>0</th>\n",
       "      <td>1.0</td>\n",
       "      <td>6.0</td>\n",
       "    </tr>\n",
       "    <tr>\n",
       "      <th>1</th>\n",
       "      <td>3.5</td>\n",
       "      <td>2.5</td>\n",
       "    </tr>\n",
       "    <tr>\n",
       "      <th>2</th>\n",
       "      <td>3.0</td>\n",
       "      <td>6.0</td>\n",
       "    </tr>\n",
       "  </tbody>\n",
       "</table>\n",
       "</div>"
      ],
      "text/plain": [
       "     a    b\n",
       "0  1.0  6.0\n",
       "1  3.5  2.5\n",
       "2  3.0  6.0"
      ]
     },
     "execution_count": 126,
     "metadata": {},
     "output_type": "execute_result"
    }
   ],
   "source": [
    "df_avg = by_row_index.mean()\n",
    "df_avg"
   ]
  },
  {
   "cell_type": "markdown",
   "metadata": {},
   "source": [
    "# Matplotlib: plotting examples\n",
    "\n",
    "recommended reading: \n",
    "- [Sample plots in Matplotlib](https://matplotlib.org/stable/gallery/index.html)\n",
    "\n",
    "Matplotlib is an excellent 2D and 3D graphics library for generating scientific figures. Some of the many advantages of this library include:\n",
    "* Easy to get started\n",
    "* Support for $\\LaTeX$ formatted labels and texts\n",
    "* Great control of every element in a figure, including figure size and DPI.\n",
    "* High-quality output in many formats, including PNG, PDF, SVG, EPS, and PGF.\n",
    "* The figure can be controlled programmatically."
   ]
  },
  {
   "cell_type": "code",
   "execution_count": 95,
   "metadata": {},
   "outputs": [],
   "source": [
    "from matplotlib import pyplot as plt\n"
   ]
  },
  {
   "cell_type": "code",
   "execution_count": 96,
   "metadata": {},
   "outputs": [],
   "source": [
    "t = np.arange(0,10,0.1)\n",
    "sin_t = np.sin(2*np.pi*t/5)\n",
    "cos_t = np.cos(2*np.pi*t/5)\n"
   ]
  },
  {
   "cell_type": "code",
   "execution_count": 97,
   "metadata": {},
   "outputs": [
    {
     "data": {
      "text/plain": [
       "[<matplotlib.lines.Line2D at 0x14c9f8760>]"
      ]
     },
     "execution_count": 97,
     "metadata": {},
     "output_type": "execute_result"
    },
    {
     "data": {
      "image/png": "[encoded data removed]",
      "text/plain": [
       "<Figure size 640x480 with 1 Axes>"
      ]
     },
     "metadata": {},
     "output_type": "display_data"
    }
   ],
   "source": [
    "plt.plot(t,cos_t)\n",
    "# plt.show()\n",
    "plt.plot(t,sin_t)"
   ]
  },
  {
   "cell_type": "markdown",
   "metadata": {},
   "source": [
    "### Pyplot Functions\n",
    "\n",
    "There are many `pyplot` functions available for us to customize our figures. For example:\n",
    "\n",
    "| Fucntion | Description |\n",
    "| ---: | :--- |\n",
    "| `plt.xlim` | set $x$ limits |\n",
    "| `plt.ylim` | set $y$ limits |\n",
    "| `plt.grid` | add grid lines |\n",
    "| `plt.title` | add a title |\n",
    "| `plt.xlabel` | add label to the horizontal axis |\n",
    "| `plt.ylabel` | add label to the vertical axis |\n",
    "| `plt.axis` | set axis properties (`equal`, `off`, `scaled`, etc.) |\n",
    "| `plt.xticks` | set tick locations on the horizontal axis |\n",
    "| `plt.yticks` | set tick locations on the vertical axis |\n",
    "| `plt.legend` | display legend for several lines in the same figure |\n",
    "| `plt.savefig` | save figure (as .png, .pdf, etc.) to working directory |\n",
    "| `plt.figure` | create a new figure and set its properties |\n",
    "\n",
    "See the [pyplot documentation](https://matplotlib.org/api/pyplot_summary.html) for a full list of functions."
   ]
  },
  {
   "cell_type": "code",
   "execution_count": 98,
   "metadata": {},
   "outputs": [
    {
     "data": {
      "image/png": "[encoded data removed]",
      "text/plain": [
       "<Figure size 1500x500 with 1 Axes>"
      ]
     },
     "metadata": {},
     "output_type": "display_data"
    }
   ],
   "source": [
    "plt.figure(figsize = (15,5)) # figsize is a tuple of the width and height of the figure in inches\n",
    "plt.plot(t,cos_t,'.r', label = r\"$cos(\\theta)$\") # \".r\" is a format string which denotes linestyle=None, marker = '.' and color = 'red' \n",
    "plt.plot(t,sin_t,'--g', label = r\"$sin(\\theta)$\")# \"--g\" is a format string which denotes linestyle=dashed and color = 'green' \n",
    "plt.title('two functions')\n",
    "plt.xlabel(r\"$\\theta$\")\n",
    "plt.ylabel('values')\n",
    "plt.ylim([-1.1,1.1])\n",
    "plt.legend()\n",
    "plt.grid(axis = 'y')\n",
    "\n",
    "# plt.legend(loc=0) # let matplotlib decide the optimal location\n",
    "# plt.legend(loc=1) # upper right corner\n",
    "# plt.legend(loc=2) # upper left corner\n",
    "# plt.legend(loc=3) # lower left corner\n",
    "# plt.legend(loc=4) # lower right corner\n",
    "# # .. many more options are available\n",
    "\n",
    "plt.savefig('out/example_figure.png', format = 'png')\n",
    "plt.show()"
   ]
  },
  {
   "cell_type": "markdown",
   "metadata": {},
   "source": [
    "#### Colors\n",
    "\n",
    "| Character | Color |\n",
    "| :---: | :---: |\n",
    "| `b` | blue |\n",
    "| `g` | green |\n",
    "| `r` | red |\n",
    "| `c` | cyan |\n",
    "| `m` | magenta |\n",
    "| `y` | yellow |\n",
    "| `k` | black |\n",
    "| `w` | white |\n"
   ]
  },
  {
   "cell_type": "markdown",
   "metadata": {},
   "source": [
    "#### Markers\n",
    "\n",
    "| Character | Marker |\n",
    "| :---: | :---: |\n",
    "| `.` | point |\n",
    "| `o` | circle |\n",
    "| `v` | triangle down |\n",
    "| `^` | triangle up |\n",
    "| `s` | square |\n",
    "| `p` | pentagon |\n",
    "| `*` |\tstar |\n",
    "| `+` | plus |\n",
    "| `x` |\tx |\n",
    "| `D` | diamond |"
   ]
  },
  {
   "cell_type": "markdown",
   "metadata": {},
   "source": [
    "#### Line Styles\n",
    "\n",
    "| Character | Line Style |\n",
    "| :---: | :---: |\n",
    "| `-` | solid line style |\n",
    "| `--` | dashed line style |\n",
    "| `-.` | dash-dot line style |\n",
    "| `:` | dotted line style |\n",
    "\n",
    "See the [matplotlib.pyplot.plot documentation](https://matplotlib.org/api/_as_gen/matplotlib.pyplot.plot.html) for more options."
   ]
  },
  {
   "cell_type": "markdown",
   "metadata": {},
   "source": [
    "### Subplots"
   ]
  },
  {
   "cell_type": "markdown",
   "metadata": {},
   "source": [
    "We start by storing a reference to the newly created figure instance and the axes array in the `f` and `axarr` variables, respectively"
   ]
  },
  {
   "cell_type": "code",
   "execution_count": 99,
   "metadata": {},
   "outputs": [
    {
     "data": {
      "image/png": "[encoded data removed]",
      "text/plain": [
       "<Figure size 640x480 with 2 Axes>"
      ]
     },
     "metadata": {},
     "output_type": "display_data"
    }
   ],
   "source": [
    "# Two subplots, the axes array is 1-d\n",
    "f, axarr = plt.subplots(2, sharex=True) \n",
    "axarr[0].plot(t,cos_t,'.r')\n",
    "axarr[1].plot(t,sin_t,'.b')\n",
    "plt.tight_layout()\n",
    "plt.show()"
   ]
  },
  {
   "cell_type": "code",
   "execution_count": 100,
   "metadata": {},
   "outputs": [],
   "source": [
    "x = np.linspace(0, 5, 11)"
   ]
  },
  {
   "cell_type": "markdown",
   "metadata": {},
   "source": [
    "### Twin axes"
   ]
  },
  {
   "cell_type": "code",
   "execution_count": 101,
   "metadata": {
    "scrolled": false
   },
   "outputs": [
    {
     "data": {
      "image/png": "[encoded data removed]",
      "text/plain": [
       "<Figure size 640x480 with 2 Axes>"
      ]
     },
     "metadata": {},
     "output_type": "display_data"
    }
   ],
   "source": [
    "fig, ax1 = plt.subplots()\n",
    "\n",
    "ax1.plot(x, x**2, lw=2, color=\"blue\")\n",
    "ax1.set_ylabel(r\"area $(m^2)$\", fontsize=18, color=\"blue\")\n",
    "for label in ax1.get_yticklabels():\n",
    "    label.set_color(\"blue\")\n",
    "    \n",
    "ax2 = ax1.twinx()\n",
    "ax2.plot(x, x**3, lw=2, color=\"red\")\n",
    "ax2.set_ylabel(r\"volume $(m^3)$\", fontsize=18, color=\"red\")\n",
    "for label in ax2.get_yticklabels():\n",
    "    label.set_color(\"red\")\n",
    "\n",
    "plt.show()"
   ]
  },
  {
   "cell_type": "code",
   "execution_count": 102,
   "metadata": {},
   "outputs": [],
   "source": [
    "# allow to use matplotlib interactively and set the desired backend\n",
    "%matplotlib inline"
   ]
  },
  {
   "cell_type": "code",
   "execution_count": 103,
   "metadata": {
    "scrolled": false
   },
   "outputs": [
    {
     "name": "stdout",
     "output_type": "stream",
     "text": [
      "Available matplotlib backends: ['tk', 'gtk', 'gtk3', 'gtk4', 'wx', 'qt4', 'qt5', 'qt6', 'qt', 'osx', 'nbagg', 'webagg', 'notebook', 'agg', 'svg', 'pdf', 'ps', 'inline', 'ipympl', 'widget']\n"
     ]
    }
   ],
   "source": [
    "%matplotlib --list"
   ]
  },
  {
   "cell_type": "code",
   "execution_count": 104,
   "metadata": {},
   "outputs": [],
   "source": [
    "%matplotlib notebook\n",
    "# re-run the plot cell"
   ]
  },
  {
   "cell_type": "markdown",
   "metadata": {},
   "source": [
    "# <font color='blue'><ins>TASK</ins></font>\n",
    "- Practice with pandas and matplotlib:\n",
    "    - use the `plt.scatter()` function to display a scatter plot of the variables \"death\" and \"birth\" from the composers_df dataset\n",
    "    - assign a color to each point based on the variable \"period\"\n",
    "    - enrich the plot with the legend\n",
    "- Practice with pandas and matplotlib:\n",
    "    - load the [covid19-healthy-diet-dataset](https://www.kaggle.com/datasets/mariaren/covid19-healthy-diet-dataset): it contains some stats related to covid19 and diet for each country.\n",
    "    - add domain information: create a new column with the continent (plenty of python libraries out there)\n",
    "    - use pandas and plotting utilities to explore the data, e.g.:\n",
    "        - Which continents have the highest ratio reported for Covid19 deaths?\n",
    "        - Which is the state with the highest rate of death?\n",
    "        - Compare the distribution of Deaths rates among European and North American countries.\n",
    "\n",
    "\n"
   ]
  },
  {
   "cell_type": "code",
   "execution_count": 105,
   "metadata": {},
   "outputs": [],
   "source": [
    "plt.scatter?"
   ]
  },
  {
   "cell_type": "code",
   "execution_count": 106,
   "metadata": {},
   "outputs": [
    {
     "data": {
      "application/javascript": [
       "/* Put everything inside the global mpl namespace */\n",
       "/* global mpl */\n",
       "window.mpl = {};\n",
       "\n",
       "mpl.get_websocket_type = function () {\n",
       "    if (typeof WebSocket !== 'undefined') {\n",
       "        return WebSocket;\n",
       "    } else if (typeof MozWebSocket !== 'undefined') {\n",
       "        return MozWebSocket;\n",
       "    } else {\n",
       "        alert(\n",
       "            'Your browser does not have WebSocket support. ' +\n",
       "                'Please try Chrome, Safari or Firefox ≥ 6. ' +\n",
       "                'Firefox 4 and 5 are also supported but you ' +\n",
       "                'have to enable WebSockets in about:config.'\n",
       "        );\n",
       "    }\n",
       "};\n",
       "\n",
       "mpl.figure = function (figure_id, websocket, ondownload, parent_element) {\n",
       "    this.id = figure_id;\n",
       "\n",
       "    this.ws = websocket;\n",
       "\n",
       "    this.supports_binary = this.ws.binaryType !== undefined;\n",
       "\n",
       "    if (!this.supports_binary) {\n",
       "        var warnings = document.getElementById('mpl-warnings');\n",
       "        if (warnings) {\n",
       "            warnings.style.display = 'block';\n",
       "            warnings.textContent =\n",
       "                'This browser does not support binary websocket messages. ' +\n",
       "                'Performance may be slow.';\n",
       "        }\n",
       "    }\n",
       "\n",
       "    this.imageObj = new Image();\n",
       "\n",
       "    this.context = undefined;\n",
       "    this.message = undefined;\n",
       "    this.canvas = undefined;\n",
       "    this.rubberband_canvas = undefined;\n",
       "    this.rubberband_context = undefined;\n",
       "    this.format_dropdown = undefined;\n",
       "\n",
       "    this.image_mode = 'full';\n",
       "\n",
       "    this.root = document.createElement('div');\n",
       "    this.root.setAttribute('style', 'display: inline-block');\n",
       "    this._root_extra_style(this.root);\n",
       "\n",
       "    parent_element.appendChild(this.root);\n",
       "\n",
       "    this._init_header(this);\n",
       "    this._init_canvas(this);\n",
       "    this._init_toolbar(this);\n",
       "\n",
       "    var fig = this;\n",
       "\n",
       "    this.waiting = false;\n",
       "\n",
       "    this.ws.onopen = function () {\n",
       "        fig.send_message('supports_binary', { value: fig.supports_binary });\n",
       "        fig.send_message('send_image_mode', {});\n",
       "        if (fig.ratio !== 1) {\n",
       "            fig.send_message('set_device_pixel_ratio', {\n",
       "                device_pixel_ratio: fig.ratio,\n",
       "            });\n",
       "        }\n",
       "        fig.send_message('refresh', {});\n",
       "    };\n",
       "\n",
       "    this.imageObj.onload = function () {\n",
       "        if (fig.image_mode === 'full') {\n",
       "            // Full images could contain transparency (where diff images\n",
       "            // almost always do), so we need to clear the canvas so that\n",
       "            // there is no ghosting.\n",
       "            fig.context.clearRect(0, 0, fig.canvas.width, fig.canvas.height);\n",
       "        }\n",
       "        fig.context.drawImage(fig.imageObj, 0, 0);\n",
       "    };\n",
       "\n",
       "    this.imageObj.onunload = function () {\n",
       "        fig.ws.close();\n",
       "    };\n",
       "\n",
       "    this.ws.onmessage = this._make_on_message_function(this);\n",
       "\n",
       "    this.ondownload = ondownload;\n",
       "};\n",
       "\n",
       "mpl.figure.prototype._init_header = function () {\n",
       "    var titlebar = document.createElement('div');\n",
       "    titlebar.classList =\n",
       "        'ui-dialog-titlebar ui-widget-header ui-corner-all ui-helper-clearfix';\n",
       "    var titletext = document.createElement('div');\n",
       "    titletext.classList = 'ui-dialog-title';\n",
       "    titletext.setAttribute(\n",
       "        'style',\n",
       "        'width: 100%; text-align: center; padding: 3px;'\n",
       "    );\n",
       "    titlebar.appendChild(titletext);\n",
       "    this.root.appendChild(titlebar);\n",
       "    this.header = titletext;\n",
       "};\n",
       "\n",
       "mpl.figure.prototype._canvas_extra_style = function (_canvas_div) {};\n",
       "\n",
       "mpl.figure.prototype._root_extra_style = function (_canvas_div) {};\n",
       "\n",
       "mpl.figure.prototype._init_canvas = function () {\n",
       "    var fig = this;\n",
       "\n",
       "    var canvas_div = (this.canvas_div = document.createElement('div'));\n",
       "    canvas_div.setAttribute('tabindex', '0');\n",
       "    canvas_div.setAttribute(\n",
       "        'style',\n",
       "        'border: 1px solid #ddd;' +\n",
       "            'box-sizing: content-box;' +\n",
       "            'clear: both;' +\n",
       "            'min-height: 1px;' +\n",
       "            'min-width: 1px;' +\n",
       "            'outline: 0;' +\n",
       "            'overflow: hidden;' +\n",
       "            'position: relative;' +\n",
       "            'resize: both;' +\n",
       "            'z-index: 2;'\n",
       "    );\n",
       "\n",
       "    function on_keyboard_event_closure(name) {\n",
       "        return function (event) {\n",
       "            return fig.key_event(event, name);\n",
       "        };\n",
       "    }\n",
       "\n",
       "    canvas_div.addEventListener(\n",
       "        'keydown',\n",
       "        on_keyboard_event_closure('key_press')\n",
       "    );\n",
       "    canvas_div.addEventListener(\n",
       "        'keyup',\n",
       "        on_keyboard_event_closure('key_release')\n",
       "    );\n",
       "\n",
       "    this._canvas_extra_style(canvas_div);\n",
       "    this.root.appendChild(canvas_div);\n",
       "\n",
       "    var canvas = (this.canvas = document.createElement('canvas'));\n",
       "    canvas.classList.add('mpl-canvas');\n",
       "    canvas.setAttribute(\n",
       "        'style',\n",
       "        'box-sizing: content-box;' +\n",
       "            'pointer-events: none;' +\n",
       "            'position: relative;' +\n",
       "            'z-index: 0;'\n",
       "    );\n",
       "\n",
       "    this.context = canvas.getContext('2d');\n",
       "\n",
       "    var backingStore =\n",
       "        this.context.backingStorePixelRatio ||\n",
       "        this.context.webkitBackingStorePixelRatio ||\n",
       "        this.context.mozBackingStorePixelRatio ||\n",
       "        this.context.msBackingStorePixelRatio ||\n",
       "        this.context.oBackingStorePixelRatio ||\n",
       "        this.context.backingStorePixelRatio ||\n",
       "        1;\n",
       "\n",
       "    this.ratio = (window.devicePixelRatio || 1) / backingStore;\n",
       "\n",
       "    var rubberband_canvas = (this.rubberband_canvas = document.createElement(\n",
       "        'canvas'\n",
       "    ));\n",
       "    rubberband_canvas.setAttribute(\n",
       "        'style',\n",
       "        'box-sizing: content-box;' +\n",
       "            'left: 0;' +\n",
       "            'pointer-events: none;' +\n",
       "            'position: absolute;' +\n",
       "            'top: 0;' +\n",
       "            'z-index: 1;'\n",
       "    );\n",
       "\n",
       "    // Apply a ponyfill if ResizeObserver is not implemented by browser.\n",
       "    if (this.ResizeObserver === undefined) {\n",
       "        if (window.ResizeObserver !== undefined) {\n",
       "            this.ResizeObserver = window.ResizeObserver;\n",
       "        } else {\n",
       "            var obs = _JSXTOOLS_RESIZE_OBSERVER({});\n",
       "            this.ResizeObserver = obs.ResizeObserver;\n",
       "        }\n",
       "    }\n",
       "\n",
       "    this.resizeObserverInstance = new this.ResizeObserver(function (entries) {\n",
       "        var nentries = entries.length;\n",
       "        for (var i = 0; i < nentries; i++) {\n",
       "            var entry = entries[i];\n",
       "            var width, height;\n",
       "            if (entry.contentBoxSize) {\n",
       "                if (entry.contentBoxSize instanceof Array) {\n",
       "                    // Chrome 84 implements new version of spec.\n",
       "                    width = entry.contentBoxSize[0].inlineSize;\n",
       "                    height = entry.contentBoxSize[0].blockSize;\n",
       "                } else {\n",
       "                    // Firefox implements old version of spec.\n",
       "                    width = entry.contentBoxSize.inlineSize;\n",
       "                    height = entry.contentBoxSize.blockSize;\n",
       "                }\n",
       "            } else {\n",
       "                // Chrome <84 implements even older version of spec.\n",
       "                width = entry.contentRect.width;\n",
       "                height = entry.contentRect.height;\n",
       "            }\n",
       "\n",
       "            // Keep the size of the canvas and rubber band canvas in sync with\n",
       "            // the canvas container.\n",
       "            if (entry.devicePixelContentBoxSize) {\n",
       "                // Chrome 84 implements new version of spec.\n",
       "                canvas.setAttribute(\n",
       "                    'width',\n",
       "                    entry.devicePixelContentBoxSize[0].inlineSize\n",
       "                );\n",
       "                canvas.setAttribute(\n",
       "                    'height',\n",
       "                    entry.devicePixelContentBoxSize[0].blockSize\n",
       "                );\n",
       "            } else {\n",
       "                canvas.setAttribute('width', width * fig.ratio);\n",
       "                canvas.setAttribute('height', height * fig.ratio);\n",
       "            }\n",
       "            /* This rescales the canvas back to display pixels, so that it\n",
       "             * appears correct on HiDPI screens. */\n",
       "            canvas.style.width = width + 'px';\n",
       "            canvas.style.height = height + 'px';\n",
       "\n",
       "            rubberband_canvas.setAttribute('width', width);\n",
       "            rubberband_canvas.setAttribute('height', height);\n",
       "\n",
       "            // And update the size in Python. We ignore the initial 0/0 size\n",
       "            // that occurs as the element is placed into the DOM, which should\n",
       "            // otherwise not happen due to the minimum size styling.\n",
       "            if (fig.ws.readyState == 1 && width != 0 && height != 0) {\n",
       "                fig.request_resize(width, height);\n",
       "            }\n",
       "        }\n",
       "    });\n",
       "    this.resizeObserverInstance.observe(canvas_div);\n",
       "\n",
       "    function on_mouse_event_closure(name) {\n",
       "        /* User Agent sniffing is bad, but WebKit is busted:\n",
       "         * https://bugs.webkit.org/show_bug.cgi?id=144526\n",
       "         * https://bugs.webkit.org/show_bug.cgi?id=181818\n",
       "         * The worst that happens here is that they get an extra browser\n",
       "         * selection when dragging, if this check fails to catch them.\n",
       "         */\n",
       "        var UA = navigator.userAgent;\n",
       "        var isWebKit = /AppleWebKit/.test(UA) && !/Chrome/.test(UA);\n",
       "        if(isWebKit) {\n",
       "            return function (event) {\n",
       "                /* This prevents the web browser from automatically changing to\n",
       "                 * the text insertion cursor when the button is pressed. We\n",
       "                 * want to control all of the cursor setting manually through\n",
       "                 * the 'cursor' event from matplotlib */\n",
       "                event.preventDefault()\n",
       "                return fig.mouse_event(event, name);\n",
       "            };\n",
       "        } else {\n",
       "            return function (event) {\n",
       "                return fig.mouse_event(event, name);\n",
       "            };\n",
       "        }\n",
       "    }\n",
       "\n",
       "    canvas_div.addEventListener(\n",
       "        'mousedown',\n",
       "        on_mouse_event_closure('button_press')\n",
       "    );\n",
       "    canvas_div.addEventListener(\n",
       "        'mouseup',\n",
       "        on_mouse_event_closure('button_release')\n",
       "    );\n",
       "    canvas_div.addEventListener(\n",
       "        'dblclick',\n",
       "        on_mouse_event_closure('dblclick')\n",
       "    );\n",
       "    // Throttle sequential mouse events to 1 every 20ms.\n",
       "    canvas_div.addEventListener(\n",
       "        'mousemove',\n",
       "        on_mouse_event_closure('motion_notify')\n",
       "    );\n",
       "\n",
       "    canvas_div.addEventListener(\n",
       "        'mouseenter',\n",
       "        on_mouse_event_closure('figure_enter')\n",
       "    );\n",
       "    canvas_div.addEventListener(\n",
       "        'mouseleave',\n",
       "        on_mouse_event_closure('figure_leave')\n",
       "    );\n",
       "\n",
       "    canvas_div.addEventListener('wheel', function (event) {\n",
       "        if (event.deltaY < 0) {\n",
       "            event.step = 1;\n",
       "        } else {\n",
       "            event.step = -1;\n",
       "        }\n",
       "        on_mouse_event_closure('scroll')(event);\n",
       "    });\n",
       "\n",
       "    canvas_div.appendChild(canvas);\n",
       "    canvas_div.appendChild(rubberband_canvas);\n",
       "\n",
       "    this.rubberband_context = rubberband_canvas.getContext('2d');\n",
       "    this.rubberband_context.strokeStyle = '#000000';\n",
       "\n",
       "    this._resize_canvas = function (width, height, forward) {\n",
       "        if (forward) {\n",
       "            canvas_div.style.width = width + 'px';\n",
       "            canvas_div.style.height = height + 'px';\n",
       "        }\n",
       "    };\n",
       "\n",
       "    // Disable right mouse context menu.\n",
       "    canvas_div.addEventListener('contextmenu', function (_e) {\n",
       "        event.preventDefault();\n",
       "        return false;\n",
       "    });\n",
       "\n",
       "    function set_focus() {\n",
       "        canvas.focus();\n",
       "        canvas_div.focus();\n",
       "    }\n",
       "\n",
       "    window.setTimeout(set_focus, 100);\n",
       "};\n",
       "\n",
       "mpl.figure.prototype._init_toolbar = function () {\n",
       "    var fig = this;\n",
       "\n",
       "    var toolbar = document.createElement('div');\n",
       "    toolbar.classList = 'mpl-toolbar';\n",
       "    this.root.appendChild(toolbar);\n",
       "\n",
       "    function on_click_closure(name) {\n",
       "        return function (_event) {\n",
       "            return fig.toolbar_button_onclick(name);\n",
       "        };\n",
       "    }\n",
       "\n",
       "    function on_mouseover_closure(tooltip) {\n",
       "        return function (event) {\n",
       "            if (!event.currentTarget.disabled) {\n",
       "                return fig.toolbar_button_onmouseover(tooltip);\n",
       "            }\n",
       "        };\n",
       "    }\n",
       "\n",
       "    fig.buttons = {};\n",
       "    var buttonGroup = document.createElement('div');\n",
       "    buttonGroup.classList = 'mpl-button-group';\n",
       "    for (var toolbar_ind in mpl.toolbar_items) {\n",
       "        var name = mpl.toolbar_items[toolbar_ind][0];\n",
       "        var tooltip = mpl.toolbar_items[toolbar_ind][1];\n",
       "        var image = mpl.toolbar_items[toolbar_ind][2];\n",
       "        var method_name = mpl.toolbar_items[toolbar_ind][3];\n",
       "\n",
       "        if (!name) {\n",
       "            /* Instead of a spacer, we start a new button group. */\n",
       "            if (buttonGroup.hasChildNodes()) {\n",
       "                toolbar.appendChild(buttonGroup);\n",
       "            }\n",
       "            buttonGroup = document.createElement('div');\n",
       "            buttonGroup.classList = 'mpl-button-group';\n",
       "            continue;\n",
       "        }\n",
       "\n",
       "        var button = (fig.buttons[name] = document.createElement('button'));\n",
       "        button.classList = 'mpl-widget';\n",
       "        button.setAttribute('role', 'button');\n",
       "        button.setAttribute('aria-disabled', 'false');\n",
       "        button.addEventListener('click', on_click_closure(method_name));\n",
       "        button.addEventListener('mouseover', on_mouseover_closure(tooltip));\n",
       "\n",
       "        var icon_img = document.createElement('img');\n",
       "        icon_img.src = '_images/' + image + '.png';\n",
       "        icon_img.srcset = '_images/' + image + '_large.png 2x';\n",
       "        icon_img.alt = tooltip;\n",
       "        button.appendChild(icon_img);\n",
       "\n",
       "        buttonGroup.appendChild(button);\n",
       "    }\n",
       "\n",
       "    if (buttonGroup.hasChildNodes()) {\n",
       "        toolbar.appendChild(buttonGroup);\n",
       "    }\n",
       "\n",
       "    var fmt_picker = document.createElement('select');\n",
       "    fmt_picker.classList = 'mpl-widget';\n",
       "    toolbar.appendChild(fmt_picker);\n",
       "    this.format_dropdown = fmt_picker;\n",
       "\n",
       "    for (var ind in mpl.extensions) {\n",
       "        var fmt = mpl.extensions[ind];\n",
       "        var option = document.createElement('option');\n",
       "        option.selected = fmt === mpl.default_extension;\n",
       "        option.innerHTML = fmt;\n",
       "        fmt_picker.appendChild(option);\n",
       "    }\n",
       "\n",
       "    var status_bar = document.createElement('span');\n",
       "    status_bar.classList = 'mpl-message';\n",
       "    toolbar.appendChild(status_bar);\n",
       "    this.message = status_bar;\n",
       "};\n",
       "\n",
       "mpl.figure.prototype.request_resize = function (x_pixels, y_pixels) {\n",
       "    // Request matplotlib to resize the figure. Matplotlib will then trigger a resize in the client,\n",
       "    // which will in turn request a refresh of the image.\n",
       "    this.send_message('resize', { width: x_pixels, height: y_pixels });\n",
       "};\n",
       "\n",
       "mpl.figure.prototype.send_message = function (type, properties) {\n",
       "    properties['type'] = type;\n",
       "    properties['figure_id'] = this.id;\n",
       "    this.ws.send(JSON.stringify(properties));\n",
       "};\n",
       "\n",
       "mpl.figure.prototype.send_draw_message = function () {\n",
       "    if (!this.waiting) {\n",
       "        this.waiting = true;\n",
       "        this.ws.send(JSON.stringify({ type: 'draw', figure_id: this.id }));\n",
       "    }\n",
       "};\n",
       "\n",
       "mpl.figure.prototype.handle_save = function (fig, _msg) {\n",
       "    var format_dropdown = fig.format_dropdown;\n",
       "    var format = format_dropdown.options[format_dropdown.selectedIndex].value;\n",
       "    fig.ondownload(fig, format);\n",
       "};\n",
       "\n",
       "mpl.figure.prototype.handle_resize = function (fig, msg) {\n",
       "    var size = msg['size'];\n",
       "    if (size[0] !== fig.canvas.width || size[1] !== fig.canvas.height) {\n",
       "        fig._resize_canvas(size[0], size[1], msg['forward']);\n",
       "        fig.send_message('refresh', {});\n",
       "    }\n",
       "};\n",
       "\n",
       "mpl.figure.prototype.handle_rubberband = function (fig, msg) {\n",
       "    var x0 = msg['x0'] / fig.ratio;\n",
       "    var y0 = (fig.canvas.height - msg['y0']) / fig.ratio;\n",
       "    var x1 = msg['x1'] / fig.ratio;\n",
       "    var y1 = (fig.canvas.height - msg['y1']) / fig.ratio;\n",
       "    x0 = Math.floor(x0) + 0.5;\n",
       "    y0 = Math.floor(y0) + 0.5;\n",
       "    x1 = Math.floor(x1) + 0.5;\n",
       "    y1 = Math.floor(y1) + 0.5;\n",
       "    var min_x = Math.min(x0, x1);\n",
       "    var min_y = Math.min(y0, y1);\n",
       "    var width = Math.abs(x1 - x0);\n",
       "    var height = Math.abs(y1 - y0);\n",
       "\n",
       "    fig.rubberband_context.clearRect(\n",
       "        0,\n",
       "        0,\n",
       "        fig.canvas.width / fig.ratio,\n",
       "        fig.canvas.height / fig.ratio\n",
       "    );\n",
       "\n",
       "    fig.rubberband_context.strokeRect(min_x, min_y, width, height);\n",
       "};\n",
       "\n",
       "mpl.figure.prototype.handle_figure_label = function (fig, msg) {\n",
       "    // Updates the figure title.\n",
       "    fig.header.textContent = msg['label'];\n",
       "};\n",
       "\n",
       "mpl.figure.prototype.handle_cursor = function (fig, msg) {\n",
       "    fig.canvas_div.style.cursor = msg['cursor'];\n",
       "};\n",
       "\n",
       "mpl.figure.prototype.handle_message = function (fig, msg) {\n",
       "    fig.message.textContent = msg['message'];\n",
       "};\n",
       "\n",
       "mpl.figure.prototype.handle_draw = function (fig, _msg) {\n",
       "    // Request the server to send over a new figure.\n",
       "    fig.send_draw_message();\n",
       "};\n",
       "\n",
       "mpl.figure.prototype.handle_image_mode = function (fig, msg) {\n",
       "    fig.image_mode = msg['mode'];\n",
       "};\n",
       "\n",
       "mpl.figure.prototype.handle_history_buttons = function (fig, msg) {\n",
       "    for (var key in msg) {\n",
       "        if (!(key in fig.buttons)) {\n",
       "            continue;\n",
       "        }\n",
       "        fig.buttons[key].disabled = !msg[key];\n",
       "        fig.buttons[key].setAttribute('aria-disabled', !msg[key]);\n",
       "    }\n",
       "};\n",
       "\n",
       "mpl.figure.prototype.handle_navigate_mode = function (fig, msg) {\n",
       "    if (msg['mode'] === 'PAN') {\n",
       "        fig.buttons['Pan'].classList.add('active');\n",
       "        fig.buttons['Zoom'].classList.remove('active');\n",
       "    } else if (msg['mode'] === 'ZOOM') {\n",
       "        fig.buttons['Pan'].classList.remove('active');\n",
       "        fig.buttons['Zoom'].classList.add('active');\n",
       "    } else {\n",
       "        fig.buttons['Pan'].classList.remove('active');\n",
       "        fig.buttons['Zoom'].classList.remove('active');\n",
       "    }\n",
       "};\n",
       "\n",
       "mpl.figure.prototype.updated_canvas_event = function () {\n",
       "    // Called whenever the canvas gets updated.\n",
       "    this.send_message('ack', {});\n",
       "};\n",
       "\n",
       "// A function to construct a web socket function for onmessage handling.\n",
       "// Called in the figure constructor.\n",
       "mpl.figure.prototype._make_on_message_function = function (fig) {\n",
       "    return function socket_on_message(evt) {\n",
       "        if (evt.data instanceof Blob) {\n",
       "            var img = evt.data;\n",
       "            if (img.type !== 'image/png') {\n",
       "                /* FIXME: We get \"Resource interpreted as Image but\n",
       "                 * transferred with MIME type text/plain:\" errors on\n",
       "                 * Chrome.  But how to set the MIME type?  It doesn't seem\n",
       "                 * to be part of the websocket stream */\n",
       "                img.type = 'image/png';\n",
       "            }\n",
       "\n",
       "            /* Free the memory for the previous frames */\n",
       "            if (fig.imageObj.src) {\n",
       "                (window.URL || window.webkitURL).revokeObjectURL(\n",
       "                    fig.imageObj.src\n",
       "                );\n",
       "            }\n",
       "\n",
       "            fig.imageObj.src = (window.URL || window.webkitURL).createObjectURL(\n",
       "                img\n",
       "            );\n",
       "            fig.updated_canvas_event();\n",
       "            fig.waiting = false;\n",
       "            return;\n",
       "        } else if (\n",
       "            typeof evt.data === 'string' &&\n",
       "            evt.data.slice(0, 21) === 'data:image/png;base64'\n",
       "        ) {\n",
       "            fig.imageObj.src = evt.data;\n",
       "            fig.updated_canvas_event();\n",
       "            fig.waiting = false;\n",
       "            return;\n",
       "        }\n",
       "\n",
       "        var msg = JSON.parse(evt.data);\n",
       "        var msg_type = msg['type'];\n",
       "\n",
       "        // Call the  \"handle_{type}\" callback, which takes\n",
       "        // the figure and JSON message as its only arguments.\n",
       "        try {\n",
       "            var callback = fig['handle_' + msg_type];\n",
       "        } catch (e) {\n",
       "            console.log(\n",
       "                \"No handler for the '\" + msg_type + \"' message type: \",\n",
       "                msg\n",
       "            );\n",
       "            return;\n",
       "        }\n",
       "\n",
       "        if (callback) {\n",
       "            try {\n",
       "                // console.log(\"Handling '\" + msg_type + \"' message: \", msg);\n",
       "                callback(fig, msg);\n",
       "            } catch (e) {\n",
       "                console.log(\n",
       "                    \"Exception inside the 'handler_\" + msg_type + \"' callback:\",\n",
       "                    e,\n",
       "                    e.stack,\n",
       "                    msg\n",
       "                );\n",
       "            }\n",
       "        }\n",
       "    };\n",
       "};\n",
       "\n",
       "\n",
       "/*\n",
       " * return a copy of an object with only non-object keys\n",
       " * we need this to avoid circular references\n",
       " * https://stackoverflow.com/a/24161582/3208463\n",
       " */\n",
       "function simpleKeys(original) {\n",
       "    return Object.keys(original).reduce(function (obj, key) {\n",
       "        if (typeof original[key] !== 'object') {\n",
       "            obj[key] = original[key];\n",
       "        }\n",
       "        return obj;\n",
       "    }, {});\n",
       "}\n",
       "\n",
       "mpl.figure.prototype.mouse_event = function (event, name) {\n",
       "    if (name === 'button_press') {\n",
       "        this.canvas.focus();\n",
       "        this.canvas_div.focus();\n",
       "    }\n",
       "\n",
       "    // from https://stackoverflow.com/q/1114465\n",
       "    var boundingRect = this.canvas.getBoundingClientRect();\n",
       "    var x = (event.clientX - boundingRect.left) * this.ratio;\n",
       "    var y = (event.clientY - boundingRect.top) * this.ratio;\n",
       "\n",
       "    this.send_message(name, {\n",
       "        x: x,\n",
       "        y: y,\n",
       "        button: event.button,\n",
       "        step: event.step,\n",
       "        guiEvent: simpleKeys(event),\n",
       "    });\n",
       "\n",
       "    return false;\n",
       "};\n",
       "\n",
       "mpl.figure.prototype._key_event_extra = function (_event, _name) {\n",
       "    // Handle any extra behaviour associated with a key event\n",
       "};\n",
       "\n",
       "mpl.figure.prototype.key_event = function (event, name) {\n",
       "    // Prevent repeat events\n",
       "    if (name === 'key_press') {\n",
       "        if (event.key === this._key) {\n",
       "            return;\n",
       "        } else {\n",
       "            this._key = event.key;\n",
       "        }\n",
       "    }\n",
       "    if (name === 'key_release') {\n",
       "        this._key = null;\n",
       "    }\n",
       "\n",
       "    var value = '';\n",
       "    if (event.ctrlKey && event.key !== 'Control') {\n",
       "        value += 'ctrl+';\n",
       "    }\n",
       "    else if (event.altKey && event.key !== 'Alt') {\n",
       "        value += 'alt+';\n",
       "    }\n",
       "    else if (event.shiftKey && event.key !== 'Shift') {\n",
       "        value += 'shift+';\n",
       "    }\n",
       "\n",
       "    value += 'k' + event.key;\n",
       "\n",
       "    this._key_event_extra(event, name);\n",
       "\n",
       "    this.send_message(name, { key: value, guiEvent: simpleKeys(event) });\n",
       "    return false;\n",
       "};\n",
       "\n",
       "mpl.figure.prototype.toolbar_button_onclick = function (name) {\n",
       "    if (name === 'download') {\n",
       "        this.handle_save(this, null);\n",
       "    } else {\n",
       "        this.send_message('toolbar_button', { name: name });\n",
       "    }\n",
       "};\n",
       "\n",
       "mpl.figure.prototype.toolbar_button_onmouseover = function (tooltip) {\n",
       "    this.message.textContent = tooltip;\n",
       "};\n",
       "\n",
       "///////////////// REMAINING CONTENT GENERATED BY embed_js.py /////////////////\n",
       "// prettier-ignore\n",
       "var _JSXTOOLS_RESIZE_OBSERVER=function(A){var t,i=new WeakMap,n=new WeakMap,a=new WeakMap,r=new WeakMap,o=new Set;function s(e){if(!(this instanceof s))throw new TypeError(\"Constructor requires 'new' operator\");i.set(this,e)}function h(){throw new TypeError(\"Function is not a constructor\")}function c(e,t,i,n){e=0 in arguments?Number(arguments[0]):0,t=1 in arguments?Number(arguments[1]):0,i=2 in arguments?Number(arguments[2]):0,n=3 in arguments?Number(arguments[3]):0,this.right=(this.x=this.left=e)+(this.width=i),this.bottom=(this.y=this.top=t)+(this.height=n),Object.freeze(this)}function d(){t=requestAnimationFrame(d);var s=new WeakMap,p=new Set;o.forEach((function(t){r.get(t).forEach((function(i){var r=t instanceof window.SVGElement,o=a.get(t),d=r?0:parseFloat(o.paddingTop),f=r?0:parseFloat(o.paddingRight),l=r?0:parseFloat(o.paddingBottom),u=r?0:parseFloat(o.paddingLeft),g=r?0:parseFloat(o.borderTopWidth),m=r?0:parseFloat(o.borderRightWidth),w=r?0:parseFloat(o.borderBottomWidth),b=u+f,F=d+l,v=(r?0:parseFloat(o.borderLeftWidth))+m,W=g+w,y=r?0:t.offsetHeight-W-t.clientHeight,E=r?0:t.offsetWidth-v-t.clientWidth,R=b+v,z=F+W,M=r?t.width:parseFloat(o.width)-R-E,O=r?t.height:parseFloat(o.height)-z-y;if(n.has(t)){var k=n.get(t);if(k[0]===M&&k[1]===O)return}n.set(t,[M,O]);var S=Object.create(h.prototype);S.target=t,S.contentRect=new c(u,d,M,O),s.has(i)||(s.set(i,[]),p.add(i)),s.get(i).push(S)}))})),p.forEach((function(e){i.get(e).call(e,s.get(e),e)}))}return s.prototype.observe=function(i){if(i instanceof window.Element){r.has(i)||(r.set(i,new Set),o.add(i),a.set(i,window.getComputedStyle(i)));var n=r.get(i);n.has(this)||n.add(this),cancelAnimationFrame(t),t=requestAnimationFrame(d)}},s.prototype.unobserve=function(i){if(i instanceof window.Element&&r.has(i)){var n=r.get(i);n.has(this)&&(n.delete(this),n.size||(r.delete(i),o.delete(i))),n.size||r.delete(i),o.size||cancelAnimationFrame(t)}},A.DOMRectReadOnly=c,A.ResizeObserver=s,A.ResizeObserverEntry=h,A}; // eslint-disable-line\n",
       "mpl.toolbar_items = [[\"Home\", \"Reset original view\", \"fa fa-home\", \"home\"], [\"Back\", \"Back to previous view\", \"fa fa-arrow-left\", \"back\"], [\"Forward\", \"Forward to next view\", \"fa fa-arrow-right\", \"forward\"], [\"\", \"\", \"\", \"\"], [\"Pan\", \"Left button pans, Right button zooms\\nx/y fixes axis, CTRL fixes aspect\", \"fa fa-arrows\", \"pan\"], [\"Zoom\", \"Zoom to rectangle\\nx/y fixes axis\", \"fa fa-square-o\", \"zoom\"], [\"\", \"\", \"\", \"\"], [\"Download\", \"Download plot\", \"fa fa-floppy-o\", \"download\"]];\n",
       "\n",
       "mpl.extensions = [\"eps\", \"jpeg\", \"pgf\", \"pdf\", \"png\", \"ps\", \"raw\", \"svg\", \"tif\", \"webp\"];\n",
       "\n",
       "mpl.default_extension = \"png\";/* global mpl */\n",
       "\n",
       "var comm_websocket_adapter = function (comm) {\n",
       "    // Create a \"websocket\"-like object which calls the given IPython comm\n",
       "    // object with the appropriate methods. Currently this is a non binary\n",
       "    // socket, so there is still some room for performance tuning.\n",
       "    var ws = {};\n",
       "\n",
       "    ws.binaryType = comm.kernel.ws.binaryType;\n",
       "    ws.readyState = comm.kernel.ws.readyState;\n",
       "    function updateReadyState(_event) {\n",
       "        if (comm.kernel.ws) {\n",
       "            ws.readyState = comm.kernel.ws.readyState;\n",
       "        } else {\n",
       "            ws.readyState = 3; // Closed state.\n",
       "        }\n",
       "    }\n",
       "    comm.kernel.ws.addEventListener('open', updateReadyState);\n",
       "    comm.kernel.ws.addEventListener('close', updateReadyState);\n",
       "    comm.kernel.ws.addEventListener('error', updateReadyState);\n",
       "\n",
       "    ws.close = function () {\n",
       "        comm.close();\n",
       "    };\n",
       "    ws.send = function (m) {\n",
       "        //console.log('sending', m);\n",
       "        comm.send(m);\n",
       "    };\n",
       "    // Register the callback with on_msg.\n",
       "    comm.on_msg(function (msg) {\n",
       "        //console.log('receiving', msg['content']['data'], msg);\n",
       "        var data = msg['content']['data'];\n",
       "        if (data['blob'] !== undefined) {\n",
       "            data = {\n",
       "                data: new Blob(msg['buffers'], { type: data['blob'] }),\n",
       "            };\n",
       "        }\n",
       "        // Pass the mpl event to the overridden (by mpl) onmessage function.\n",
       "        ws.onmessage(data);\n",
       "    });\n",
       "    return ws;\n",
       "};\n",
       "\n",
       "mpl.mpl_figure_comm = function (comm, msg) {\n",
       "    // This is the function which gets called when the mpl process\n",
       "    // starts-up an IPython Comm through the \"matplotlib\" channel.\n",
       "\n",
       "    var id = msg.content.data.id;\n",
       "    // Get hold of the div created by the display call when the Comm\n",
       "    // socket was opened in Python.\n",
       "    var element = document.getElementById(id);\n",
       "    var ws_proxy = comm_websocket_adapter(comm);\n",
       "\n",
       "    function ondownload(figure, _format) {\n",
       "        window.open(figure.canvas.toDataURL());\n",
       "    }\n",
       "\n",
       "    var fig = new mpl.figure(id, ws_proxy, ondownload, element);\n",
       "\n",
       "    // Call onopen now - mpl needs it, as it is assuming we've passed it a real\n",
       "    // web socket which is closed, not our websocket->open comm proxy.\n",
       "    ws_proxy.onopen();\n",
       "\n",
       "    fig.parent_element = element;\n",
       "    fig.cell_info = mpl.find_output_cell(\"<div id='\" + id + \"'></div>\");\n",
       "    if (!fig.cell_info) {\n",
       "        console.error('Failed to find cell for figure', id, fig);\n",
       "        return;\n",
       "    }\n",
       "    fig.cell_info[0].output_area.element.on(\n",
       "        'cleared',\n",
       "        { fig: fig },\n",
       "        fig._remove_fig_handler\n",
       "    );\n",
       "};\n",
       "\n",
       "mpl.figure.prototype.handle_close = function (fig, msg) {\n",
       "    var width = fig.canvas.width / fig.ratio;\n",
       "    fig.cell_info[0].output_area.element.off(\n",
       "        'cleared',\n",
       "        fig._remove_fig_handler\n",
       "    );\n",
       "    fig.resizeObserverInstance.unobserve(fig.canvas_div);\n",
       "\n",
       "    // Update the output cell to use the data from the current canvas.\n",
       "    fig.push_to_output();\n",
       "    var dataURL = fig.canvas.toDataURL();\n",
       "    // Re-enable the keyboard manager in IPython - without this line, in FF,\n",
       "    // the notebook keyboard shortcuts fail.\n",
       "    IPython.keyboard_manager.enable();\n",
       "    fig.parent_element.innerHTML =\n",
       "        '<img src=\"' + dataURL + '\" width=\"' + width + '\">';\n",
       "    fig.close_ws(fig, msg);\n",
       "};\n",
       "\n",
       "mpl.figure.prototype.close_ws = function (fig, msg) {\n",
       "    fig.send_message('closing', msg);\n",
       "    // fig.ws.close()\n",
       "};\n",
       "\n",
       "mpl.figure.prototype.push_to_output = function (_remove_interactive) {\n",
       "    // Turn the data on the canvas into data in the output cell.\n",
       "    var width = this.canvas.width / this.ratio;\n",
       "    var dataURL = this.canvas.toDataURL();\n",
       "    this.cell_info[1]['text/html'] =\n",
       "        '<img src=\"' + dataURL + '\" width=\"' + width + '\">';\n",
       "};\n",
       "\n",
       "mpl.figure.prototype.updated_canvas_event = function () {\n",
       "    // Tell IPython that the notebook contents must change.\n",
       "    IPython.notebook.set_dirty(true);\n",
       "    this.send_message('ack', {});\n",
       "    var fig = this;\n",
       "    // Wait a second, then push the new image to the DOM so\n",
       "    // that it is saved nicely (might be nice to debounce this).\n",
       "    setTimeout(function () {\n",
       "        fig.push_to_output();\n",
       "    }, 1000);\n",
       "};\n",
       "\n",
       "mpl.figure.prototype._init_toolbar = function () {\n",
       "    var fig = this;\n",
       "\n",
       "    var toolbar = document.createElement('div');\n",
       "    toolbar.classList = 'btn-toolbar';\n",
       "    this.root.appendChild(toolbar);\n",
       "\n",
       "    function on_click_closure(name) {\n",
       "        return function (_event) {\n",
       "            return fig.toolbar_button_onclick(name);\n",
       "        };\n",
       "    }\n",
       "\n",
       "    function on_mouseover_closure(tooltip) {\n",
       "        return function (event) {\n",
       "            if (!event.currentTarget.disabled) {\n",
       "                return fig.toolbar_button_onmouseover(tooltip);\n",
       "            }\n",
       "        };\n",
       "    }\n",
       "\n",
       "    fig.buttons = {};\n",
       "    var buttonGroup = document.createElement('div');\n",
       "    buttonGroup.classList = 'btn-group';\n",
       "    var button;\n",
       "    for (var toolbar_ind in mpl.toolbar_items) {\n",
       "        var name = mpl.toolbar_items[toolbar_ind][0];\n",
       "        var tooltip = mpl.toolbar_items[toolbar_ind][1];\n",
       "        var image = mpl.toolbar_items[toolbar_ind][2];\n",
       "        var method_name = mpl.toolbar_items[toolbar_ind][3];\n",
       "\n",
       "        if (!name) {\n",
       "            /* Instead of a spacer, we start a new button group. */\n",
       "            if (buttonGroup.hasChildNodes()) {\n",
       "                toolbar.appendChild(buttonGroup);\n",
       "            }\n",
       "            buttonGroup = document.createElement('div');\n",
       "            buttonGroup.classList = 'btn-group';\n",
       "            continue;\n",
       "        }\n",
       "\n",
       "        button = fig.buttons[name] = document.createElement('button');\n",
       "        button.classList = 'btn btn-default';\n",
       "        button.href = '#';\n",
       "        button.title = name;\n",
       "        button.innerHTML = '<i class=\"fa ' + image + ' fa-lg\"></i>';\n",
       "        button.addEventListener('click', on_click_closure(method_name));\n",
       "        button.addEventListener('mouseover', on_mouseover_closure(tooltip));\n",
       "        buttonGroup.appendChild(button);\n",
       "    }\n",
       "\n",
       "    if (buttonGroup.hasChildNodes()) {\n",
       "        toolbar.appendChild(buttonGroup);\n",
       "    }\n",
       "\n",
       "    // Add the status bar.\n",
       "    var status_bar = document.createElement('span');\n",
       "    status_bar.classList = 'mpl-message pull-right';\n",
       "    toolbar.appendChild(status_bar);\n",
       "    this.message = status_bar;\n",
       "\n",
       "    // Add the close button to the window.\n",
       "    var buttongrp = document.createElement('div');\n",
       "    buttongrp.classList = 'btn-group inline pull-right';\n",
       "    button = document.createElement('button');\n",
       "    button.classList = 'btn btn-mini btn-primary';\n",
       "    button.href = '#';\n",
       "    button.title = 'Stop Interaction';\n",
       "    button.innerHTML = '<i class=\"fa fa-power-off icon-remove icon-large\"></i>';\n",
       "    button.addEventListener('click', function (_evt) {\n",
       "        fig.handle_close(fig, {});\n",
       "    });\n",
       "    button.addEventListener(\n",
       "        'mouseover',\n",
       "        on_mouseover_closure('Stop Interaction')\n",
       "    );\n",
       "    buttongrp.appendChild(button);\n",
       "    var titlebar = this.root.querySelector('.ui-dialog-titlebar');\n",
       "    titlebar.insertBefore(buttongrp, titlebar.firstChild);\n",
       "};\n",
       "\n",
       "mpl.figure.prototype._remove_fig_handler = function (event) {\n",
       "    var fig = event.data.fig;\n",
       "    if (event.target !== this) {\n",
       "        // Ignore bubbled events from children.\n",
       "        return;\n",
       "    }\n",
       "    fig.close_ws(fig, {});\n",
       "};\n",
       "\n",
       "mpl.figure.prototype._root_extra_style = function (el) {\n",
       "    el.style.boxSizing = 'content-box'; // override notebook setting of border-box.\n",
       "};\n",
       "\n",
       "mpl.figure.prototype._canvas_extra_style = function (el) {\n",
       "    // this is important to make the div 'focusable\n",
       "    el.setAttribute('tabindex', 0);\n",
       "    // reach out to IPython and tell the keyboard manager to turn it's self\n",
       "    // off when our div gets focus\n",
       "\n",
       "    // location in version 3\n",
       "    if (IPython.notebook.keyboard_manager) {\n",
       "        IPython.notebook.keyboard_manager.register_events(el);\n",
       "    } else {\n",
       "        // location in version 2\n",
       "        IPython.keyboard_manager.register_events(el);\n",
       "    }\n",
       "};\n",
       "\n",
       "mpl.figure.prototype._key_event_extra = function (event, _name) {\n",
       "    // Check for shift+enter\n",
       "    if (event.shiftKey && event.which === 13) {\n",
       "        this.canvas_div.blur();\n",
       "        // select the cell after this one\n",
       "        var index = IPython.notebook.find_cell_index(this.cell_info[0]);\n",
       "        IPython.notebook.select(index + 1);\n",
       "    }\n",
       "};\n",
       "\n",
       "mpl.figure.prototype.handle_save = function (fig, _msg) {\n",
       "    fig.ondownload(fig, null);\n",
       "};\n",
       "\n",
       "mpl.find_output_cell = function (html_output) {\n",
       "    // Return the cell and output element which can be found *uniquely* in the notebook.\n",
       "    // Note - this is a bit hacky, but it is done because the \"notebook_saving.Notebook\"\n",
       "    // IPython event is triggered only after the cells have been serialised, which for\n",
       "    // our purposes (turning an active figure into a static one), is too late.\n",
       "    var cells = IPython.notebook.get_cells();\n",
       "    var ncells = cells.length;\n",
       "    for (var i = 0; i < ncells; i++) {\n",
       "        var cell = cells[i];\n",
       "        if (cell.cell_type === 'code') {\n",
       "            for (var j = 0; j < cell.output_area.outputs.length; j++) {\n",
       "                var data = cell.output_area.outputs[j];\n",
       "                if (data.data) {\n",
       "                    // IPython >= 3 moved mimebundle to data attribute of output\n",
       "                    data = data.data;\n",
       "                }\n",
       "                if (data['text/html'] === html_output) {\n",
       "                    return [cell, data, j];\n",
       "                }\n",
       "            }\n",
       "        }\n",
       "    }\n",
       "};\n",
       "\n",
       "// Register the function which deals with the matplotlib target/channel.\n",
       "// The kernel may be null if the page has been refreshed.\n",
       "if (IPython.notebook.kernel !== null) {\n",
       "    IPython.notebook.kernel.comm_manager.register_target(\n",
       "        'matplotlib',\n",
       "        mpl.mpl_figure_comm\n",
       "    );\n",
       "}\n"
      ],
      "text/plain": [
       "<IPython.core.display.Javascript object>"
      ]
     },
     "metadata": {},
     "output_type": "display_data"
    },
    {
     "data": {
      "text/html": [
       "<img src=\"data:image/png;base64,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\" width=\"640\">"
      ],
      "text/plain": [
       "<IPython.core.display.HTML object>"
      ]
     },
     "metadata": {},
     "output_type": "display_data"
    },
    {
     "data": {
      "text/plain": [
       "Text(0, 0.5, 'death')"
      ]
     },
     "execution_count": 106,
     "metadata": {},
     "output_type": "execute_result"
    }
   ],
   "source": [
    "plt.scatter(composers_df.birth,composers_df.death)\n",
    "plt.xlabel('birth')\n",
    "plt.ylabel('death')"
   ]
  },
  {
   "cell_type": "code",
   "execution_count": 107,
   "metadata": {},
   "outputs": [
    {
     "data": {
      "text/plain": [
       "composer\n",
       "Mahler          post-romantic\n",
       "Beethoven            romantic\n",
       "Puccini         post-romantic\n",
       "Shostakovich           modern\n",
       "Verdi                romantic\n",
       "Dvorak               romantic\n",
       "Schumann             romantic\n",
       "Stravinsky             modern\n",
       "Sibelius        post-romantic\n",
       "Haydn                 classic\n",
       "Mozart                classic\n",
       "Messiaen               modern\n",
       "Prokofiev              modern\n",
       "Monteverdi        renaissance\n",
       "Haendel               baroque\n",
       "Brahms               romantic\n",
       "Purcell               baroque\n",
       "Charpentier           baroque\n",
       "Bruckner        post-romantic\n",
       "Berg                   modern\n",
       "Couperin              baroque\n",
       "Rameau                baroque\n",
       "Berlioz              romantic\n",
       "Gounod               romantic\n",
       "Massenet             romantic\n",
       "Boulez                 modern\n",
       "Palestrina        renaissance\n",
       "Gesualdo          renaissance\n",
       "Caldara               baroque\n",
       "Pergolesi             baroque\n",
       "Scarlatti             baroque\n",
       "Caccini               baroque\n",
       "Cimarosa              classic\n",
       "Donizetti            romantic\n",
       "Leoncavallo          romantic\n",
       "Bellini              romantic\n",
       "Dufay             renaissance\n",
       "Lassus            renaissance\n",
       "Borodin              romantic\n",
       "Mussorsgsky          romantic\n",
       "Soler                 classic\n",
       "Albeniz              romantic\n",
       "Granados             romantic\n",
       "Dowland           renaissance\n",
       "Byrd              renaissance\n",
       "Walton                 modern\n",
       "Adès                   modern\n",
       "Bach                  baroque\n",
       "Wagner               romantic\n",
       "Strauss         post-romantic\n",
       "Orff                   modern\n",
       "Dusek                 classic\n",
       "Smetana              romantic\n",
       "Janacek                modern\n",
       "Copland                modern\n",
       "Bernstein              modern\n",
       "Glass                  modern\n",
       "Name: period, dtype: object"
      ]
     },
     "execution_count": 107,
     "metadata": {},
     "output_type": "execute_result"
    }
   ],
   "source": [
    " composers_df.period"
   ]
  },
  {
   "cell_type": "code",
   "execution_count": 108,
   "metadata": {
    "scrolled": false
   },
   "outputs": [],
   "source": [
    "# plt.scatter(composers_df.birth,composers_df.death, color = composers_df.period) \n",
    "# raises error as composers_df.period is not suitable for \"color\""
   ]
  },
  {
   "cell_type": "code",
   "execution_count": 109,
   "metadata": {},
   "outputs": [
    {
     "data": {
      "text/plain": [
       "['post-romantic', 'classic', 'modern', 'romantic', 'baroque', 'renaissance']"
      ]
     },
     "execution_count": 109,
     "metadata": {},
     "output_type": "execute_result"
    }
   ],
   "source": [
    "list(set(composers_df.period))"
   ]
  },
  {
   "cell_type": "code",
   "execution_count": 110,
   "metadata": {},
   "outputs": [
    {
     "data": {
      "text/plain": [
       "{'post-romantic': 'r',\n",
       " 'classic': 'g',\n",
       " 'modern': 'b',\n",
       " 'romantic': 'c',\n",
       " 'baroque': 'y',\n",
       " 'renaissance': 'k'}"
      ]
     },
     "execution_count": 110,
     "metadata": {},
     "output_type": "execute_result"
    }
   ],
   "source": [
    "my_dict = dict(zip(list(set(composers_df.period)),'rgbcyk'))\n",
    "my_dict"
   ]
  },
  {
   "cell_type": "code",
   "execution_count": 111,
   "metadata": {},
   "outputs": [],
   "source": [
    "colors = [my_dict[x] for x in composers_df.period]"
   ]
  },
  {
   "cell_type": "code",
   "execution_count": 112,
   "metadata": {
    "scrolled": false
   },
   "outputs": [
    {
     "data": {
      "text/plain": [
       "Text(0, 0.5, 'death')"
      ]
     },
     "execution_count": 112,
     "metadata": {},
     "output_type": "execute_result"
    }
   ],
   "source": [
    "plt.scatter(composers_df.birth,composers_df.death, color = colors)\n",
    "plt.xlabel('birth')\n",
    "plt.ylabel('death')\n",
    "# legend missing"
   ]
  },
  {
   "cell_type": "code",
   "execution_count": 113,
   "metadata": {
    "scrolled": false
   },
   "outputs": [
    {
     "data": {
      "text/plain": [
       "Text(0, 0.5, 'death')"
      ]
     },
     "execution_count": 113,
     "metadata": {},
     "output_type": "execute_result"
    }
   ],
   "source": [
    "### a possible solution\n",
    "\n",
    "# %matplotlib inline\n",
    "# display(composers_df)\n",
    "\n",
    "color_map = dict(zip(composers_df.period.unique(),'rgbykc'))\n",
    "plt.scatter(composers_df.birth, composers_df.death, color = composers_df.period.apply(lambda x:color_map[x]))\n",
    "for k,v in color_map.items():\n",
    "    plt.scatter(composers_df[composers_df.period == k].birth, \n",
    "                composers_df[composers_df.period == k].death, \n",
    "                color = v, \n",
    "                label = k)\n",
    "plt.legend()\n",
    "plt.xlabel('birth')\n",
    "plt.ylabel('death')"
   ]
  }
 ],
 "metadata": {
  "kernelspec": {
   "display_name": "Python 3 (ipykernel)",
   "language": "python",
   "name": "python3"
  },
  "language_info": {
   "codemirror_mode": {
    "name": "ipython",
    "version": 3
   },
   "file_extension": ".py",
   "mimetype": "text/x-python",
   "name": "python",
   "nbconvert_exporter": "python",
   "pygments_lexer": "ipython3",
   "version": "3.10.9"
  }
 },
 "nbformat": 4,
 "nbformat_minor": 4
}
